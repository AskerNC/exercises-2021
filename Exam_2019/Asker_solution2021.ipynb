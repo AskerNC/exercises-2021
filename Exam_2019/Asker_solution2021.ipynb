{
 "cells": [
  {
   "cell_type": "code",
   "execution_count": 1,
   "metadata": {},
   "outputs": [],
   "source": [
    "import numpy as np\n",
    "from matplotlib.ticker import MultipleLocator\n",
    "from types import SimpleNamespace\n",
    "\n",
    "%load_ext autoreload\n",
    "%autoreload 2\n",
    "# You can load your python module as this:\n",
    "import Functions2021 as fun"
   ]
  },
  {
   "cell_type": "markdown",
   "metadata": {},
   "source": [
    "# 1. Human capital accumulation"
   ]
  },
  {
   "cell_type": "markdown",
   "metadata": {},
   "source": [
    "Consider a worker living in **two periods**, $t \\in \\{1,2\\}$. \n",
    "\n",
    "In each period she decides whether to **work ($l_t = 1$) or not ($l_t = 0$)**. \n",
    "\n",
    "She can *not* borrow or save and thus **consumes all of her income** in each period. "
   ]
  },
  {
   "cell_type": "markdown",
   "metadata": {},
   "source": [
    "If she **works** her **consumption** becomes:\n",
    "\n",
    "$$\n",
    "c_t = w h_t l_t\\;\\;\\text{if}\\;\\;l_t=1\n",
    "$$\n",
    "\n",
    "where $w$ is **the wage rate** and $h_t$ is her **human capital**. \n",
    "\n",
    "If she does **not work** her consumption becomes:\n",
    "\n",
    "$$\n",
    "c_t = b\\;\\;\\text{if}\\;\\;l_t=0\n",
    "$$\n",
    "\n",
    "where $b$ is the **unemployment benefits**."
   ]
  },
  {
   "cell_type": "markdown",
   "metadata": {},
   "source": [
    "Her **utility of consumption** is: \n",
    "\n",
    "$$ \n",
    "\\frac{c_t^{1-\\rho}}{1-\\rho} \n",
    "$$\n",
    "\n",
    "Her **disutility of working** is:\n",
    "\n",
    "$$ \n",
    "\\gamma l_t \n",
    "$$"
   ]
  },
  {
   "cell_type": "markdown",
   "metadata": {},
   "source": [
    "From period 1 to period 2, she **accumulates human capital** according to:\n",
    "\n",
    "$$ \n",
    "\\begin{aligned}\n",
    "h_2 &= h_1 + l_1 + \n",
    "\\begin{cases}\n",
    "0 & \\text{with prob. }0.5 \\\\\n",
    "\\Delta & \\text{with prob. }0.5 \n",
    "\\end{cases}\n",
    "\\end{aligned}\n",
    "$$\n",
    "\n",
    "where $\\Delta$ is a **stochastic experience gain**."
   ]
  },
  {
   "cell_type": "markdown",
   "metadata": {},
   "source": [
    "In the **second period** the worker thus solves:\n",
    "\n",
    "$$\n",
    "\\begin{aligned}\n",
    "v_{2}(h_{2}) & = \\max_{l_{2}} \\frac{c_2^{1-\\rho}}{1-\\rho} - \\gamma l_2\n",
    "\\\\ & \\text{s.t.} & \\\\\n",
    "c_{2}& = \\begin{cases}\n",
    "w h_2 & \n",
    "\\text{if }l_2 = 1  \\\\\n",
    "b & \\text{if }l_2 = 0 \n",
    "\\end{cases} \\\\\n",
    "l_{2}& \\in \\{0,1\\}\n",
    "\\end{aligned}\n",
    "$$"
   ]
  },
  {
   "cell_type": "markdown",
   "metadata": {},
   "source": [
    "In the **first period** the worker thus solves:\n",
    "\n",
    "$$\n",
    "\\begin{aligned}\n",
    "v_{1}(h_{1}) &= \\max_{l_{1}} \\frac{c_1^{1-\\rho}}{1-\\rho} - \\gamma l_1 + \\beta\\mathbb{E}_{1}\\left[v_2(h_2)\\right] \\\\ \\text{s.t.} \\\\\n",
    "c_{1}& = \\begin{cases}\n",
    "w h_1 & \n",
    "\\text{if }l_1 = 1  \\\\\n",
    "b & \\text{if }l_1 = 0 \n",
    "\\end{cases} \\\\\n",
    "h_2 &= h_1 + l_1 + \\begin{cases}\n",
    "0 & \\text{with prob. }0.5\\\\\n",
    "\\Delta & \\text{with prob. }0.5 \n",
    "\\end{cases}\\\\\n",
    "l_{1} &\\in \\{0,1\\}\\\\\n",
    "\\end{aligned}\n",
    "$$\n",
    "\n",
    "where $\\beta$ is the **discount factor** and $\\mathbb{E}_{1}\\left[v_2(h_2)\\right]$ is the **expected value of living in period two**."
   ]
  },
  {
   "cell_type": "markdown",
   "metadata": {},
   "source": [
    "The **parameters** of the model are:"
   ]
  },
  {
   "cell_type": "code",
   "execution_count": 2,
   "metadata": {},
   "outputs": [],
   "source": [
    "rho = 2\n",
    "beta = 0.96\n",
    "gamma = 0.1\n",
    "w = 2\n",
    "b = 1\n",
    "Delta = 0.1"
   ]
  },
  {
   "cell_type": "markdown",
   "metadata": {},
   "source": [
    "The **relevant levels of human capital** are:"
   ]
  },
  {
   "cell_type": "code",
   "execution_count": 3,
   "metadata": {},
   "outputs": [],
   "source": [
    "h_vec = np.linspace(0.1,1.5,100)"
   ]
  },
  {
   "cell_type": "markdown",
   "metadata": {},
   "source": [
    "**Question 1:** Solve the model in period 2 and illustrate the solution (including labor supply as a function of human capital). "
   ]
  },
  {
   "cell_type": "code",
   "execution_count": 4,
   "metadata": {},
   "outputs": [],
   "source": [
    "x_format= lambda x,pos : f'{x:.2f}'\n",
    "formatter= [MultipleLocator(0.2),x_format,MultipleLocator(0.2),x_format]"
   ]
  },
  {
   "cell_type": "code",
   "execution_count": 5,
   "metadata": {},
   "outputs": [],
   "source": [
    "def u(c,rho):\n",
    "    '''\n",
    "    Utility_function\n",
    "    Args:\n",
    "        c (float)  : Amount consumed\n",
    "        rho (float): Parameter\n",
    "    \n",
    "    returns:\n",
    "        Utility of worker gained from comsumption\n",
    "    \n",
    "    '''\n",
    "    if rho==1:\n",
    "        return np.log(c)\n",
    "    else:\n",
    "        return c**(1-rho)/(1-rho)\n",
    "\n",
    "def v2(c2,l2,gamma,rho):\n",
    "    '''\n",
    "    Total utility in period 2\n",
    "    Args:\n",
    "        c2 (float)   : Amount consumed in period 2\n",
    "        l2 (int)     : Whether the worker works or not, in period 2\n",
    "                       can either be 0 or 1. \n",
    "        gamma,rho (float): parameters\n",
    "        \n",
    "    Returns:\n",
    "        v2 (float)   : Net utility in period 2. \n",
    "        \n",
    "    '''\n",
    "    v2 = u(c2,rho)-gamma*l2\n",
    "    return v2\n",
    "\n",
    "def eq_constraint(c2,w,h2,l2):\n",
    "    return c2-w*h2*l2\n"
   ]
  },
  {
   "cell_type": "code",
   "execution_count": 6,
   "metadata": {},
   "outputs": [],
   "source": [
    "def solve_period_2(h2_vec,b,rho,gamma,return_full=False):\n",
    "    '''\n",
    "    Solves the optimization problem for period two,\n",
    "    e.g compares utility of the two possible scenarios,\n",
    "    and chooses the highest utility.\n",
    "    \n",
    "    Args:\n",
    "        h2_vec (array)      : Human capital of the worker\n",
    "        b (float)           : Unemployment benefit if she decides not to work\n",
    "        rho,gamma (floats)  : Parameters\n",
    "        output_utility(bool): If True returns utility if False returns l2\n",
    "        \n",
    "    Returns:\n",
    "        Utility (float) : Net utility in period 2\n",
    "        l2 (int)        : Either 0 or 1, if 0 she decides not to work, if 1 she does work.\n",
    "    \n",
    "    '''\n",
    "    shape = h2_vec.shape\n",
    "    b_vec = np.full(shape,b,dtype=float)\n",
    "    \n",
    "    u_work = v2(w*h2_vec,1,gamma,rho)\n",
    "    u_nowork = v2(b_vec,0,gamma,rho)\n",
    "    u_vec = np.fmax(u_work,u_nowork)\n",
    "    \n",
    "    if return_full:\n",
    "        l2_vec = np.array((u_work>u_nowork),dtype=int)\n",
    "        return u_vec, l2_vec, u_work, u_nowork\n",
    "        \n",
    "    return u_vec"
   ]
  },
  {
   "cell_type": "code",
   "execution_count": 7,
   "metadata": {},
   "outputs": [],
   "source": [
    "u2_vec, l2_vec, u2_work, u2_nowork = solve_period_2(h_vec,b,rho,gamma,return_full=True)"
   ]
  },
  {
   "cell_type": "code",
   "execution_count": 8,
   "metadata": {},
   "outputs": [
    {
     "data": {
      "image/png": "[encoded data removed]",
      "text/plain": [
       "<Figure size 432x288 with 1 Axes>"
      ]
     },
     "metadata": {
      "needs_background": "light"
     },
     "output_type": "display_data"
    }
   ],
   "source": [
    "fig, ax = fun.plot('h',['U if working','U if not working','Utility'],h_vec,[u2_work,u2_nowork,u2_vec],'Utility',title ='Utility from in period 2')"
   ]
  },
  {
   "cell_type": "code",
   "execution_count": 9,
   "metadata": {},
   "outputs": [
    {
     "data": {
      "image/png": "[encoded data removed]",
      "text/plain": [
       "<Figure size 432x288 with 1 Axes>"
      ]
     },
     "metadata": {
      "needs_background": "light"
     },
     "output_type": "display_data"
    }
   ],
   "source": [
    "fig, ax = fun.plot('h',['l'],h_vec,[l2_vec],'Labor',title='Labor')"
   ]
  },
  {
   "cell_type": "markdown",
   "metadata": {},
   "source": [
    "**Question 2:** Solve the model in period 1 and illustrate the solution (including labor supply as a function of human capital). \n"
   ]
  },
  {
   "cell_type": "code",
   "execution_count": 10,
   "metadata": {},
   "outputs": [],
   "source": [
    "from scipy import interpolate"
   ]
  },
  {
   "cell_type": "code",
   "execution_count": 11,
   "metadata": {},
   "outputs": [],
   "source": [
    "def v1(c1,l1, h1 ,v2_interp, b,w,rho,beta,gamma,Delta):\n",
    "    '''\n",
    "    Calculates the expected utility from period 1\n",
    "    \n",
    "    Args:\n",
    "        l1 (int)   : Either 0 (for not working) or 1 (for working)\n",
    "        h1 (float) : Inital amount of human capital\n",
    "        b (float)  : Unemployment benefits\n",
    "        w (float)  : Standard wage rate (income is calculated as the products between this and human capital)\n",
    "        rho,beta,gamma (floats) : Parameters\n",
    "        Delta (float) : Stochatic increase in human capital (with probability 0.5)\n",
    "        \n",
    "    Returns:\n",
    "        Utility (float): Expected utility in period 1\n",
    "    \n",
    "    '''\n",
    "    \n",
    "    # utility expected in period 2 is calculated as the mean of the two possible outcomes of increase in human capital:\n",
    "    h2 = h1 + l1\n",
    "    u2_good = v2_interp(h2+Delta)[0]\n",
    "    u2_bad = v2_interp(h2+Delta)[0]\n",
    "    expected_u2 = (u2_good+u2_bad)/2\n",
    "    \n",
    "    \n",
    "    utility = u(c1,rho)-gamma*l1+beta*expected_u2\n",
    "    return utility"
   ]
  },
  {
   "cell_type": "code",
   "execution_count": 12,
   "metadata": {},
   "outputs": [],
   "source": [
    "def solve_period1(h1_vec,v2_interp,b,w,rho,beta,gamma,Delta,return_full=False):\n",
    "    '''\n",
    "    Solves the utility maximization problem in period 1, by comparing the two options\n",
    "    of the worker, and choosing the highest utility.\n",
    "    \n",
    "    Args:\n",
    "        Args:\n",
    "        h1_vec (array) : Inital amount of human capital\n",
    "        b (float)  : Unemployment benefits\n",
    "        w (float)  : Standard wage rate (income is calculated as the products between this and human capital)\n",
    "        rho,beta,gamma (floats) : Parameters\n",
    "        Delta (float) : Stochatic increase in human capital (with probability 0.5)\n",
    "        output_utility(bool): If True returns utility if False returns l1\n",
    "    \n",
    "    Returns:\n",
    "        Utility (float) : Net utility in period 2\n",
    "        l1 (int)        : Either 0 or 1, if 0 she decides not to work, if 1 she does work.\n",
    "        \n",
    "    '''\n",
    "    shape = h1_vec.shape\n",
    "    \n",
    "    b_vec = np.full(shape,b,dtype=float)\n",
    "    \n",
    "    u_work = v1(w*h1_vec,1,h1_vec,v2_interp, b,w,rho,beta,gamma,Delta)\n",
    "    u_nowork = v1(b_vec,0,h1_vec,v2_interp, b,w,rho,beta,gamma,Delta)\n",
    "    u_vec = np.fmax(u_work,u_nowork)\n",
    "    \n",
    "    if return_full:\n",
    "        l1_vec = np.array((u_work>u_nowork),dtype=int)\n",
    "        return u_vec, l1_vec, u_work, u_nowork\n",
    "        \n",
    "    return u_vec"
   ]
  },
  {
   "cell_type": "code",
   "execution_count": 13,
   "metadata": {},
   "outputs": [],
   "source": [
    "v2_interp = interpolate.RegularGridInterpolator((h_vec,), u2_vec,\n",
    "                                                bounds_error=False,fill_value=None)\n"
   ]
  },
  {
   "cell_type": "code",
   "execution_count": 14,
   "metadata": {},
   "outputs": [],
   "source": [
    "u1_vec, l1_vec, u1_work, u1_nowork = solve_period1(h_vec,v2_interp,b,w,rho,beta,gamma,Delta,return_full=True)"
   ]
  },
  {
   "cell_type": "code",
   "execution_count": 15,
   "metadata": {},
   "outputs": [
    {
     "data": {
      "image/png": "[encoded data removed]",
      "text/plain": [
       "<Figure size 432x288 with 1 Axes>"
      ]
     },
     "metadata": {
      "needs_background": "light"
     },
     "output_type": "display_data"
    }
   ],
   "source": [
    "fig, ax = fun.plot('h',['U if working','U if not working','Utility'],h_vec,[u1_work,u1_nowork,u1_vec],'Utility',title ='Utility from in period 1')"
   ]
  },
  {
   "cell_type": "code",
   "execution_count": 16,
   "metadata": {},
   "outputs": [
    {
     "data": {
      "image/png": "[encoded data removed]",
      "text/plain": [
       "<Figure size 432x288 with 1 Axes>"
      ]
     },
     "metadata": {
      "needs_background": "light"
     },
     "output_type": "display_data"
    }
   ],
   "source": [
    "fig, ax = fun.plot('h',['l'],h_vec,[l1_vec],'Labor',title='Labor')"
   ]
  },
  {
   "cell_type": "markdown",
   "metadata": {},
   "source": [
    "**Question 3:** Will the worker never work if her potential wage income is lower than the unemployment benefits she can get? Explain and illustrate why or why not."
   ]
  },
  {
   "cell_type": "code",
   "execution_count": 17,
   "metadata": {},
   "outputs": [
    {
     "data": {
      "image/png": "[encoded data removed]",
      "text/plain": [
       "<Figure size 432x288 with 2 Axes>"
      ]
     },
     "metadata": {
      "needs_background": "light"
     },
     "output_type": "display_data"
    }
   ],
   "source": [
    "fig, ax = fun.plot('h',['l'],h_vec,[l2_vec],'l',title='Labor supply in period 2')\n",
    "# twin object for two different y-axis on the sample plot\n",
    "\n",
    "ax2=ax.twinx()\n",
    "# make a plot with different y-axis using second axis object\n",
    "w_vec = w*h_vec\n",
    "b_vec = b_vec = np.full(h_vec.shape,b,dtype=float)\n",
    "ax2.plot(h_vec,w_vec,color='green',label='Wage income')\n",
    "ax2.plot(h_vec,b_vec,color='orange',label='Benefits')\n",
    "ax2.legend(loc=4,title='Right axis:');"
   ]
  },
  {
   "cell_type": "markdown",
   "metadata": {},
   "source": [
    "In period 2, it is clear that the worker will only work if wage are sufficiently higher than benifits to outweight the disutlity from working"
   ]
  },
  {
   "cell_type": "code",
   "execution_count": 18,
   "metadata": {},
   "outputs": [
    {
     "data": {
      "image/png": "[encoded data removed]",
      "text/plain": [
       "<Figure size 432x288 with 2 Axes>"
      ]
     },
     "metadata": {
      "needs_background": "light"
     },
     "output_type": "display_data"
    }
   ],
   "source": [
    "fig, ax = fun.plot('h',['l'],h_vec,[l1_vec],'l',title='Labor supply in period 1')\n",
    "# twin object for two different y-axis on the sample plot\n",
    "ax2=ax.twinx()\n",
    "# make a plot with different y-axis using second axis object\n",
    "w_vec = w*h_vec\n",
    "b_vec = b_vec = np.full(h_vec.shape,b,dtype=float)\n",
    "ax2.plot(h_vec,w_vec,color='green',label='Wage income')\n",
    "ax2.plot(h_vec,b_vec,color='orange',label='Benefits')\n",
    "ax2.legend(loc=4,title='Right axis:');"
   ]
  },
  {
   "cell_type": "markdown",
   "metadata": {},
   "source": [
    "For period 1, the workers starts working before wages are higher than benefits. This is because working increases the workers' human capital, increasing wage income in period 2. "
   ]
  },
  {
   "cell_type": "markdown",
   "metadata": {},
   "source": [
    "# 2. AS-AD model"
   ]
  },
  {
   "cell_type": "markdown",
   "metadata": {},
   "source": [
    "Consider the following **AS-AD model**. The **goods market equilibrium** is given by\n",
    "\n",
    "$$ \n",
    "y_{t} = -\\alpha r_{t} + v_{t} \n",
    "$$\n",
    "\n",
    "where $y_{t}$ is the **output gap**, $r_{t}$ is the **ex ante real interest** and $v_{t}$ is a **demand disturbance**. "
   ]
  },
  {
   "cell_type": "markdown",
   "metadata": {},
   "source": [
    "The central bank's **Taylor rule** is\n",
    "\n",
    "$$ \n",
    "i_{t} = \\pi_{t+1}^{e} + h \\pi_{t} + b y_{t}\n",
    "$$\n",
    "\n",
    "where $i_{t}$ is the **nominal interest rate**, $\\pi_{t}$ is the **inflation gap**, and $\\pi_{t+1}^{e}$ is the **expected inflation gap**. "
   ]
  },
  {
   "cell_type": "markdown",
   "metadata": {},
   "source": [
    "The **ex ante real interest rate** is given by \n",
    "\n",
    "$$\n",
    "r_{t} = i_{t} - \\pi_{t+1}^{e}\n",
    "$$"
   ]
  },
  {
   "cell_type": "markdown",
   "metadata": {},
   "source": [
    "Together, the above implies that the **AD-curve** is\n",
    "\n",
    "$$\n",
    "\\pi_{t} = \\frac{1}{h\\alpha}\\left[v_{t} - (1+b\\alpha)y_{t}\\right]\n",
    "$$"
   ]
  },
  {
   "cell_type": "markdown",
   "metadata": {},
   "source": [
    "Further, assume that the **short-run supply curve (SRAS)** is given by\n",
    "\n",
    "$$\n",
    "\\pi_{t} = \\pi_{t}^{e} + \\gamma y_{t} + s_{t}\n",
    "$$\n",
    "\n",
    "where $s_t$ is a **supply disturbance**."
   ]
  },
  {
   "cell_type": "markdown",
   "metadata": {},
   "source": [
    "**Inflation expectations are adaptive** and given by\n",
    "\n",
    "$$\n",
    "\\pi_{t}^{e} = \\phi\\pi_{t-1}^{e} + (1-\\phi)\\pi_{t-1}\n",
    "$$"
   ]
  },
  {
   "cell_type": "markdown",
   "metadata": {},
   "source": [
    "Together, this implies that the **SRAS-curve** can also be written as\n",
    "\n",
    "$$\n",
    "\\pi_{t} = \\pi_{t-1} + \\gamma y_{t} - \\phi\\gamma y_{t-1} + s_{t} - \\phi s_{t-1}\n",
    "$$"
   ]
  },
  {
   "cell_type": "markdown",
   "metadata": {},
   "source": [
    "The **parameters** of the model are:"
   ]
  },
  {
   "cell_type": "code",
   "execution_count": 19,
   "metadata": {},
   "outputs": [],
   "source": [
    "par = {}\n",
    "\n",
    "par['alpha'] = 5.76\n",
    "par['h'] = 0.5\n",
    "par['b'] = 0.5\n",
    "par['phi'] = 0\n",
    "par['gamma'] = 0.075"
   ]
  },
  {
   "cell_type": "markdown",
   "metadata": {},
   "source": [
    "**Question 1:** Use the ``sympy`` module to solve for the equilibrium values of output, $y_t$, and inflation, $\\pi_t$, (where AD = SRAS) given the parameters ($\\alpha$, $h$, $b$, $\\alpha$, $\\gamma$) and $y_{t-1}$ , $\\pi_{t-1}$, $v_t$, $s_t$, and $s_{t-1}$."
   ]
  },
  {
   "cell_type": "code",
   "execution_count": 20,
   "metadata": {},
   "outputs": [],
   "source": [
    "import sympy as sm"
   ]
  },
  {
   "cell_type": "code",
   "execution_count": 21,
   "metadata": {},
   "outputs": [],
   "source": [
    "#Initiate variables\n",
    "pi_t = sm.symbols('\\pi_{t}')\n",
    "h = sm.symbols('h')\n",
    "alpha = sm.symbols('\\\\alpha')\n",
    "v_t = sm.symbols('v_{t}')\n",
    "b = sm.symbols('b')\n",
    "y_t = sm.symbols('y_{t}')\n",
    "y_t1 = sm.symbols('y_{t-1}')\n",
    "pi_t1 = sm.symbols('\\pi_{t-1}')\n",
    "gamma = sm.symbols('\\gamma')\n",
    "phi = sm.symbols('phi')\n",
    "s_t = sm.symbols('s_t')\n",
    "s_t1 = sm.symbols('s_{t-1}')"
   ]
  },
  {
   "cell_type": "code",
   "execution_count": 22,
   "metadata": {},
   "outputs": [
    {
     "data": {
      "text/latex": [
       "$\\displaystyle \\pi_{t} = \\frac{v_{t} - y_{t} \\left(\\alpha b + 1\\right)}{\\alpha h}$"
      ],
      "text/plain": [
       "Eq(\\pi_{t}, (v_{t} - y_{t}*(\\alpha*b + 1))/(\\alpha*h))"
      ]
     },
     "execution_count": 22,
     "metadata": {},
     "output_type": "execute_result"
    }
   ],
   "source": [
    "ad = sm.Eq(pi_t,1/(h*alpha)*(v_t-(1+b*alpha)*y_t))\n",
    "ad"
   ]
  },
  {
   "cell_type": "code",
   "execution_count": 23,
   "metadata": {},
   "outputs": [
    {
     "data": {
      "text/latex": [
       "$\\displaystyle \\pi_{t} = - \\gamma \\phi y_{t-1} + \\gamma y_{t} + \\pi_{t-1} - \\phi s_{t-1} + s_{t}$"
      ],
      "text/plain": [
       "Eq(\\pi_{t}, -\\gamma*phi*y_{t-1} + \\gamma*y_{t} + \\pi_{t-1} - phi*s_{t-1} + s_t)"
      ]
     },
     "execution_count": 23,
     "metadata": {},
     "output_type": "execute_result"
    }
   ],
   "source": [
    "sras =sm.Eq(pi_t,pi_t1+gamma*y_t-phi*gamma*y_t1+s_t-phi*s_t1)\n",
    "sras"
   ]
  },
  {
   "cell_type": "code",
   "execution_count": 24,
   "metadata": {},
   "outputs": [
    {
     "data": {
      "text/latex": [
       "$\\displaystyle \\frac{v_{t} - y_{t} \\left(\\alpha b + 1\\right)}{\\alpha h} = - \\gamma \\phi y_{t-1} + \\gamma y_{t} + \\pi_{t-1} - \\phi s_{t-1} + s_{t}$"
      ],
      "text/plain": [
       "Eq((v_{t} - y_{t}*(\\alpha*b + 1))/(\\alpha*h), -\\gamma*phi*y_{t-1} + \\gamma*y_{t} + \\pi_{t-1} - phi*s_{t-1} + s_t)"
      ]
     },
     "execution_count": 24,
     "metadata": {},
     "output_type": "execute_result"
    }
   ],
   "source": [
    "# Set pi_ad = pi_sras\n",
    "pi_from_ad = ad.rhs\n",
    "equilibrium_y = sras.subs(pi_t,pi_from_ad)\n",
    "equilibrium_y"
   ]
  },
  {
   "cell_type": "markdown",
   "metadata": {},
   "source": [
    "And solve for $y$ and $\\pi$ : "
   ]
  },
  {
   "cell_type": "code",
   "execution_count": 25,
   "metadata": {},
   "outputs": [
    {
     "data": {
      "text/latex": [
       "$\\displaystyle y_{t} = \\frac{\\alpha \\gamma h \\phi y_{t-1} - \\alpha \\pi_{t-1} h + \\alpha h \\phi s_{t-1} - \\alpha h s_{t} + v_{t}}{\\alpha \\gamma h + \\alpha b + 1}$"
      ],
      "text/plain": [
       "Eq(y_{t}, (\\alpha*\\gamma*h*phi*y_{t-1} - \\alpha*\\pi_{t-1}*h + \\alpha*h*phi*s_{t-1} - \\alpha*h*s_t + v_{t})/(\\alpha*\\gamma*h + \\alpha*b + 1))"
      ]
     },
     "execution_count": 25,
     "metadata": {},
     "output_type": "execute_result"
    }
   ],
   "source": [
    "y_eq = sm.solve(equilibrium_y,y_t)[0]\n",
    "y_equation = sm.Eq(y_t,y_eq)\n",
    "# define as python function:\n",
    "_y_equilibrium = sm.lambdify((y_t1,pi_t1,v_t,s_t,s_t1,alpha,gamma,h,b,phi),y_eq)\n",
    "\n",
    "# print our solution symbolicaly \n",
    "y_equation"
   ]
  },
  {
   "cell_type": "code",
   "execution_count": 26,
   "metadata": {},
   "outputs": [
    {
     "data": {
      "text/latex": [
       "$\\displaystyle \\pi_{t} = \\frac{- \\alpha \\gamma b \\phi y_{t-1} + \\alpha \\pi_{t-1} b - \\alpha b \\phi s_{t-1} + \\alpha b s_{t} - \\gamma \\phi y_{t-1} + \\gamma v_{t} + \\pi_{t-1} - \\phi s_{t-1} + s_{t}}{\\alpha \\gamma h + \\alpha b + 1}$"
      ],
      "text/plain": [
       "Eq(\\pi_{t}, (-\\alpha*\\gamma*b*phi*y_{t-1} + \\alpha*\\pi_{t-1}*b - \\alpha*b*phi*s_{t-1} + \\alpha*b*s_t - \\gamma*phi*y_{t-1} + \\gamma*v_{t} + \\pi_{t-1} - phi*s_{t-1} + s_t)/(\\alpha*\\gamma*h + \\alpha*b + 1))"
      ]
     },
     "execution_count": 26,
     "metadata": {},
     "output_type": "execute_result"
    }
   ],
   "source": [
    "equilibrium_pi_equation = ad.subs(y_t,y_eq)\n",
    "pi_equation = sm.Eq(pi_t,sm.solve(equilibrium_pi_equation,pi_t)[0])\n",
    "# define as python function:\n",
    "_pi_equilibrium = sm.lambdify((y_t1,pi_t1,v_t,s_t,s_t1,alpha,gamma,h,b,phi),sm.solve(equilibrium_pi_equation,pi_t)[0])\n",
    "# print our solution symbolicaly \n",
    "pi_equation"
   ]
  },
  {
   "cell_type": "markdown",
   "metadata": {},
   "source": [
    "**Question 2:** Find and illustrate the equilibrium when $y_{t-1} = \\pi_{t-1} = v_t = s_t = s_{t-1} = 0$. Illustrate how the equilibrium changes when instead $v_t = 0.1$."
   ]
  },
  {
   "cell_type": "code",
   "execution_count": 27,
   "metadata": {},
   "outputs": [
    {
     "data": {
      "text/latex": [
       "$\\displaystyle y_{t} = 0$"
      ],
      "text/plain": [
       "Eq(y_{t}, 0)"
      ]
     },
     "execution_count": 27,
     "metadata": {},
     "output_type": "execute_result"
    }
   ],
   "source": [
    "# Create dictionary for substuting in 0\n",
    "vars_0 = {}\n",
    "for var in [y_t1,pi_t1,v_t,s_t,s_t1]:\n",
    "    vars_0[var]=0\n",
    "    \n",
    "y_equation.subs(vars_0)"
   ]
  },
  {
   "cell_type": "code",
   "execution_count": 28,
   "metadata": {},
   "outputs": [
    {
     "data": {
      "text/latex": [
       "$\\displaystyle \\pi_{t} = 0$"
      ],
      "text/plain": [
       "Eq(\\pi_{t}, 0)"
      ]
     },
     "execution_count": 28,
     "metadata": {},
     "output_type": "execute_result"
    }
   ],
   "source": [
    "pi_equation.subs(vars_0)"
   ]
  },
  {
   "cell_type": "code",
   "execution_count": 29,
   "metadata": {},
   "outputs": [
    {
     "data": {
      "text/latex": [
       "$\\displaystyle y_{t} = \\frac{0.1}{\\alpha \\gamma h + \\alpha b + 1}$"
      ],
      "text/plain": [
       "Eq(y_{t}, 0.1/(\\alpha*\\gamma*h + \\alpha*b + 1))"
      ]
     },
     "execution_count": 29,
     "metadata": {},
     "output_type": "execute_result"
    }
   ],
   "source": [
    "# Now for v_t =0.1:\n",
    "vars_0[v_t]=0.1\n",
    "y_v1 = y_equation.subs(vars_0)\n",
    "y_v1"
   ]
  },
  {
   "cell_type": "code",
   "execution_count": 30,
   "metadata": {},
   "outputs": [
    {
     "data": {
      "text/latex": [
       "$\\displaystyle \\pi_{t} = \\frac{0.1 \\gamma}{\\alpha \\gamma h + \\alpha b + 1}$"
      ],
      "text/plain": [
       "Eq(\\pi_{t}, 0.1*\\gamma/(\\alpha*\\gamma*h + \\alpha*b + 1))"
      ]
     },
     "execution_count": 30,
     "metadata": {},
     "output_type": "execute_result"
    }
   ],
   "source": [
    "pi_v1 = pi_equation.subs(vars_0)\n",
    "pi_v1"
   ]
  },
  {
   "cell_type": "code",
   "execution_count": 31,
   "metadata": {},
   "outputs": [
    {
     "data": {
      "text/latex": [
       "$\\displaystyle y_{t} = 0.0244140625$"
      ],
      "text/plain": [
       "Eq(y_{t}, 0.0244140625)"
      ]
     },
     "execution_count": 31,
     "metadata": {},
     "output_type": "execute_result"
    }
   ],
   "source": [
    "# Count numerical answer from analytical solution:\n",
    "paras = {}\n",
    "for var, value in zip([alpha,gamma,h,b],[par['alpha'],par['gamma'],par['h'],par['b']]):\n",
    "    paras[var]=value\n",
    "y_v1.subs(paras)"
   ]
  },
  {
   "cell_type": "code",
   "execution_count": 32,
   "metadata": {},
   "outputs": [
    {
     "data": {
      "text/latex": [
       "$\\displaystyle \\pi_{t} = 0.0018310546875$"
      ],
      "text/plain": [
       "Eq(\\pi_{t}, 0.0018310546875)"
      ]
     },
     "execution_count": 32,
     "metadata": {},
     "output_type": "execute_result"
    }
   ],
   "source": [
    "pi_v1.subs(paras)"
   ]
  },
  {
   "cell_type": "code",
   "execution_count": 33,
   "metadata": {},
   "outputs": [
    {
     "data": {
      "text/plain": [
       "0.0244140625"
      ]
     },
     "execution_count": 33,
     "metadata": {},
     "output_type": "execute_result"
    }
   ],
   "source": [
    "# Redifine function ot take in shocks and par\n",
    "y_equilibrium = fun.redefine_fun(_y_equilibrium)\n",
    "\n",
    "# No shock should be zero\n",
    "assert y_equilibrium(0,0,0,0,0,par)==0\n",
    "\n",
    "# with shock is correct\n",
    "y_equilibrium(0,0,0.1,0,0,par)"
   ]
  },
  {
   "cell_type": "code",
   "execution_count": 34,
   "metadata": {},
   "outputs": [
    {
     "data": {
      "text/plain": [
       "0.0018310546875"
      ]
     },
     "execution_count": 34,
     "metadata": {},
     "output_type": "execute_result"
    }
   ],
   "source": [
    "pi_equilibrium = fun.redefine_fun(_pi_equilibrium)\n",
    "\n",
    "\n",
    "# No shock should be zero\n",
    "assert pi_equilibrium(0,0,0,0,0,par)==0\n",
    "# with shock is correct\n",
    "pi_equilibrium(0,0,0.1,0,0,par)"
   ]
  },
  {
   "cell_type": "code",
   "execution_count": 35,
   "metadata": {},
   "outputs": [],
   "source": [
    "y_gaps = np.linspace(-0.01,0.03,100)\n",
    "\n",
    "#We find the ad-and sras curves: \n",
    "# period 0:\n",
    "ad = fun.ad(y_gaps,0,par)\n",
    "sras = fun.sras(y_gaps,0,0,0,0,par)\n",
    "# period 1:\n",
    "ad1 = fun.ad(y_gaps,0.1,par)"
   ]
  },
  {
   "cell_type": "code",
   "execution_count": 36,
   "metadata": {},
   "outputs": [
    {
     "data": {
      "text/plain": [
       "''"
      ]
     },
     "execution_count": 36,
     "metadata": {},
     "output_type": "execute_result"
    },
    {
     "data": {
      "image/png": "[encoded data removed]",
      "text/plain": [
       "<Figure size 576x432 with 1 Axes>"
      ]
     },
     "metadata": {
      "needs_background": "light"
     },
     "output_type": "display_data"
    }
   ],
   "source": [
    "fig, ax = fun.plot('y-gap',['SRAS,t=0,1','AD, v=0','AD, v=0.1'],y_gaps,[sras, ad, ad1],'$\\pi$-gab',title='AS-AD diagram with v shock',figsize=(8,6))\n",
    "ax.scatter(0,0,label='Equilibrium',color='black',zorder=10)\n",
    "ax.scatter(y_equilibrium(0,0,0.1,0,0,par),pi_equilibrium(0,0,0.1,0,0,par),label='Equilibrium',color='red',zorder=10)\n",
    "ax.legend(['SRAS, t=0,1','AD, v=0','AD, v=0.1','eq, t=0','eq, t=1'])\n",
    ";"
   ]
  },
  {
   "cell_type": "code",
   "execution_count": 119,
   "metadata": {},
   "outputs": [],
   "source": [
    "## Extra, interactive:\n",
    "\n",
    "from ipywidgets import interact\n",
    "import ipywidgets as widgets"
   ]
  },
  {
   "cell_type": "code",
   "execution_count": 120,
   "metadata": {},
   "outputs": [],
   "source": [
    "# we find equilibrium path\n",
    "T = 100\n",
    "pis = [0,pi_equilibrium(0,0,0.1,0,0,par)]\n",
    "ys = [0,y_equilibrium(0,0,0.1,0,0,par)]\n",
    "\n",
    "for i in range(1,T):\n",
    "    # Caluclate lagged variables\n",
    "    ys.append(y_equilibrium(ys[-1],pis[-1],0,0,0,par))\n",
    "    pis.append(pi_equilibrium(ys[-1],pis[-1],0,0,0,par))"
   ]
  },
  {
   "cell_type": "code",
   "execution_count": 121,
   "metadata": {},
   "outputs": [],
   "source": [
    "#  Calculate curves at each point in time\n",
    "ad_curve = fun.ad(y_gaps,0,par)\n",
    "ad_curves = [ad_curve for i in range(T+1)]\n",
    "ad_curves[1] = fun.ad(y_gaps,0.1,par)\n",
    "\n",
    "sras_curves = [fun.sras(y_gaps,0,0,0,0,par)]\n",
    "\n",
    "for i in range(T+1):\n",
    "    sras_curves.append(fun.sras(y_gaps,ys[i],pis[i],0,0,par))"
   ]
  },
  {
   "cell_type": "code",
   "execution_count": 122,
   "metadata": {},
   "outputs": [],
   "source": [
    "def interactive_figure(t,title,data):\n",
    "    # Unpack\n",
    "    sras_curves, ad_curves, ys, pis,y_gaps = data\n",
    "    \n",
    "    # Calculate SRAS in period t:\n",
    "    \n",
    "    sras_t = sras_curves[t]\n",
    "    ad_t   = ad_curves[t]\n",
    "    \n",
    "    fig, ax = fun.plot('y-gap',['SRAS,t=0,1','AD, v=0','AD, v=0.1'],y_gaps,[sras_curves[0], ad_curves[0], ad_curves[1]],'$\\pi$-gab',title=title,figsize=(10,8))\n",
    "    ax.scatter(ys[0],pis[0],label='Equilibrium',color='black',zorder=10)\n",
    "    ax.scatter(ys[1],pis[1],label='Equilibrium',color='purple',zorder=10)\n",
    "    \n",
    "    ax.plot(y_gaps,sras_t,color='darkblue',linestyle='--',zorder=11)\n",
    "    ax.plot(y_gaps,ad_t,color='darkgreen',linestyle='--',zorder=11)\n",
    "    \n",
    "    ax.scatter(ys[t],pis[t],color='red',zorder=12)\n",
    "    \n",
    "    ax.legend(['SRAS, t=0,1','AD, v=0','AD, v=0.1',f'SRAS, t={t}',f'AD, t={t}','eq, t=0','eq, t=1',f'eq t={t}']);\n"
   ]
  },
  {
   "cell_type": "code",
   "execution_count": 132,
   "metadata": {},
   "outputs": [
    {
     "data": {
      "application/vnd.jupyter.widget-view+json": {
       "model_id": "f1723d289d554f3e9b05263d7247baf0",
       "version_major": 2,
       "version_minor": 0
      },
      "text/plain": [
       "interactive(children=(IntSlider(value=1, description='t', layout=Layout(width='30%'), max=50, min=1), Output()…"
      ]
     },
     "metadata": {},
     "output_type": "display_data"
    }
   ],
   "source": [
    "interact(interactive_figure, t=widgets.IntSlider(min=1,max=50,step=1,value=1,layout=widgets.Layout(width='30%')),\n",
    "        title=widgets.fixed('AS-AD diagram with v shock in period 1, zero otherwise'),\n",
    "        data = widgets.fixed([sras_curves, ad_curves, ys, pis,y_gaps]));"
   ]
  },
  {
   "cell_type": "markdown",
   "metadata": {},
   "source": [
    "**Persistent disturbances:** Now, additionaly, assume that both the demand and the supply disturbances are AR(1) processes\n",
    "\n",
    "$$ \n",
    "\\begin{aligned}\n",
    "v_{t} &= \\delta v_{t-1} + x_{t} \\\\\n",
    "s_{t} &= \\omega s_{t-1} + c_{t} \n",
    "\\end{aligned}\n",
    "$$\n",
    "\n",
    "where $x_{t}$ is a **demand shock**, and $c_t$ is a **supply shock**. The **autoregressive parameters** are:"
   ]
  },
  {
   "cell_type": "code",
   "execution_count": 124,
   "metadata": {},
   "outputs": [],
   "source": [
    "par['delta'] = 0.80\n",
    "par['omega'] = 0.15"
   ]
  },
  {
   "cell_type": "markdown",
   "metadata": {},
   "source": [
    "**Question 3:** Starting from $y_{-1} = \\pi_{-1} = s_{-1} = 0$, how does the economy evolve for $x_0 = 0.1$, $x_t = 0, \\forall t > 0$ and $c_t = 0, \\forall t \\geq 0$?"
   ]
  },
  {
   "cell_type": "markdown",
   "metadata": {},
   "source": [
    "First we look at period 0 and 1 "
   ]
  },
  {
   "cell_type": "code",
   "execution_count": 125,
   "metadata": {},
   "outputs": [
    {
     "name": "stdout",
     "output_type": "stream",
     "text": [
      "Outputgab in period 0 is    0.0244\n",
      "Inflationgab in period 0 is 0.0018\n"
     ]
    }
   ],
   "source": [
    "v0 = fun.d_pers(0,0.1,par)\n",
    "y0 = y_equilibrium(0,0,v0,0,0,par)\n",
    "pi0 = pi_equilibrium(0,0,v0,0,0,par)\n",
    "print(f'Outputgab in period 0 is    {y0:.4f}')\n",
    "print(f'Inflationgab in period 0 is {pi0:.4f}')"
   ]
  },
  {
   "cell_type": "code",
   "execution_count": 126,
   "metadata": {},
   "outputs": [
    {
     "name": "stdout",
     "output_type": "stream",
     "text": [
      "Outputgab in period 1 is    0.0182\n",
      "Inflationgab in period 1 is 0.0032\n"
     ]
    }
   ],
   "source": [
    "v1 = fun.d_pers(v0,0,par)\n",
    "y1 = y_equilibrium(y0,pi0,v1,0,0,par)\n",
    "pi1 = pi_equilibrium(y0,pi0,v1,0,0,par)\n",
    "print(f'Outputgab in period 1 is    {y1:.4f}')\n",
    "print(f'Inflationgab in period 1 is {pi1:.4f}')"
   ]
  },
  {
   "cell_type": "code",
   "execution_count": 127,
   "metadata": {},
   "outputs": [],
   "source": [
    "T = 100\n",
    "vs = [0,v0]\n",
    "ys2 = [0,y0]\n",
    "pis2= [0,pi0]\n",
    "\n",
    "for i in range(1,T):\n",
    "    vs.append(fun.d_pers(vs[i],0,par))\n",
    "    ys2.append(y_equilibrium(ys2[i],pis2[i],vs[i+1],0,0,par))\n",
    "    pis2.append(pi_equilibrium(ys2[i],pis2[i],vs[i+1],0,0,par))\n",
    "    \n",
    "zeros = [0 for i in range(0,T+1)]"
   ]
  },
  {
   "cell_type": "code",
   "execution_count": 128,
   "metadata": {},
   "outputs": [
    {
     "data": {
      "image/png": "[encoded data removed]",
      "text/plain": [
       "<Figure size 432x288 with 1 Axes>"
      ]
     },
     "metadata": {
      "needs_background": "light"
     },
     "output_type": "display_data"
    }
   ],
   "source": [
    "fig, ax = fun.plot('T',['','y-gab','$\\pi$-gab'],range(0,T+1),[zeros,[y*100 for y in ys2],[pi*100 for pi in pis2]],'gab',\n",
    "                   y_colors = ['black','blue','green'],title='Progression of eqiulibrium after demand chock')"
   ]
  },
  {
   "cell_type": "code",
   "execution_count": 129,
   "metadata": {},
   "outputs": [
    {
     "data": {
      "image/png": "[encoded data removed]",
      "text/plain": [
       "<Figure size 432x288 with 1 Axes>"
      ]
     },
     "metadata": {
      "needs_background": "light"
     },
     "output_type": "display_data"
    }
   ],
   "source": [
    "fig, ax = fun.plot('T',['','$v_{t}$'],range(0,T+1),[zeros,vs],'$v_{t}$',\n",
    "                   y_colors = ['black','blue'],title='Autoregressive demand chock')"
   ]
  },
  {
   "cell_type": "markdown",
   "metadata": {},
   "source": [
    "Now the entire AD-AS plot"
   ]
  },
  {
   "cell_type": "code",
   "execution_count": 130,
   "metadata": {},
   "outputs": [],
   "source": [
    "y_gaps2 = np.linspace(-0.02,0.05,100)\n",
    "\n",
    "\n",
    "#  Calculate curves at each point in time\n",
    "ad_curves2 = [fun.ad(y_gaps2,v,par) for v in vs]\n",
    "sras_curves2 = [fun.sras(y_gaps2,0,0,0,0,par)]\n",
    "for i in range(T+1):\n",
    "    sras_curves2.append(fun.sras(y_gaps2,ys2[i],pis2[i],0,0,par))"
   ]
  },
  {
   "cell_type": "code",
   "execution_count": 131,
   "metadata": {},
   "outputs": [
    {
     "data": {
      "application/vnd.jupyter.widget-view+json": {
       "model_id": "34195907e8ef413fa6accf3ff1fec4d8",
       "version_major": 2,
       "version_minor": 0
      },
      "text/plain": [
       "interactive(children=(IntSlider(value=1, description='t', layout=Layout(width='30%'), min=1), Output()), _dom_…"
      ]
     },
     "metadata": {},
     "output_type": "display_data"
    }
   ],
   "source": [
    "interact(interactive_figure, t=widgets.IntSlider(min=1,max=t,step=1,value=1,layout=widgets.Layout(width='30%')),\n",
    "        title=widgets.fixed('AS-AD diagram with Autoregressive demand chock in period 1'),\n",
    "        data = widgets.fixed([sras_curves2, ad_curves2, ys2, pis2, y_gaps2]));"
   ]
  },
  {
   "cell_type": "markdown",
   "metadata": {},
   "source": [
    "With a autoregressive shock, the adaptive $\\pi$-expectations are consistently exceeded, leading to a rising $\\pi$-gap until around period 8, the high $\\pi$-expectations causes a negative y-gap as the economy re-converges"
   ]
  },
  {
   "cell_type": "markdown",
   "metadata": {},
   "source": [
    "**Stochastic shocks:** Now, additionally, assume that $x_t$ and $c_t$ are stochastic and normally distributed\n",
    "\n",
    "$$ \n",
    "\\begin{aligned}\n",
    "x_{t}&\\sim\\mathcal{N}(0,\\sigma_{x}^{2}) \\\\\n",
    "c_{t}&\\sim\\mathcal{N}(0,\\sigma_{c}^{2}) \\\\\n",
    "\\end{aligned}\n",
    "$$\n",
    "\n",
    "The **standard deviations of the shocks** are:"
   ]
  },
  {
   "cell_type": "code",
   "execution_count": 6,
   "metadata": {},
   "outputs": [],
   "source": [
    "par['sigma_x'] = 3.492\n",
    "par['sigma_c'] = 0.2"
   ]
  },
  {
   "cell_type": "markdown",
   "metadata": {},
   "source": [
    "**Question 4:** Simulate the AS-AD model for 1,000 periods. Calculate the following five statistics:\n",
    "\n",
    "1. Variance of $y_t$, $var(y_t)$\n",
    "2. Variance of $\\pi_t$, $var(\\pi_t)$\n",
    "3. Correlation between $y_t$ and $\\pi_t$, $corr(y_t,\\pi_t)$\n",
    "4. Auto-correlation between $y_t$ and $y_{t-1}$, $corr(y_t,y_{t-1})$\n",
    "5. Auto-correlation between $\\pi_t$ and $\\pi_{t-1}$, $corr(\\pi_t,\\pi_{t-1})$"
   ]
  },
  {
   "cell_type": "markdown",
   "metadata": {},
   "source": [
    "**Question 5:** Plot how the correlation between $y_t$ and $\\pi_t$ changes with $\\phi$. Use a numerical optimizer or root finder to choose $\\phi\\in(0,1)$ such that the simulated correlation between $y_t$ and $\\pi_t$ comes close to 0.31. "
   ]
  },
  {
   "cell_type": "markdown",
   "metadata": {},
   "source": [
    "**Quesiton 6:** Use a numerical optimizer to choose $\\sigma_x>0$, $\\sigma_c>0$ and $\\phi\\in(0,1)$ to make the simulated statistics as close as possible to US business cycle data where:\n",
    "\n",
    "1. $var(y_t) = 1.64$\n",
    "2. $var(\\pi_t) = 0.21$\n",
    "3. $corr(y_t,\\pi_t) = 0.31$\n",
    "4. $corr(y_t,y_{t-1}) = 0.84$\n",
    "5. $corr(\\pi_t,\\pi_{t-1}) = 0.48$"
   ]
  },
  {
   "cell_type": "markdown",
   "metadata": {},
   "source": [
    "# 3. Exchange economy"
   ]
  },
  {
   "cell_type": "markdown",
   "metadata": {},
   "source": [
    "Consider an **exchange economy** with\n",
    "\n",
    "1. 3 goods, $(x_1,x_2,x_3)$\n",
    "2. $N$ consumers indexed by $j \\in \\{1,2,\\dots,N\\}$\n",
    "3. Preferences are Cobb-Douglas with log-normally distributed coefficients\n",
    "\n",
    "    $$ \n",
    "    \\begin{aligned}\n",
    "    u^{j}(x_{1},x_{2},x_{3}) &=\n",
    "    \\left(x_{1}^{\\beta_{1}^{j}}x_{2}^{\\beta_{2}^{j}}x_{3}^{\\beta_{3}^{j}}\\right)^{\\gamma}\\\\\n",
    "     \\beta_{i}^{j} &= \\frac{\\alpha_{i}^{j}}{\\alpha_{1}^{j}+\\alpha_{2}^{j}+\\alpha_{3}^{j}} \\\\\n",
    "     \\boldsymbol{\\alpha}^{j} &= (\\alpha_{1}^{j},\\alpha_{2}^{j},\\alpha_{3}^{j}) \\\\ \n",
    "     \\log(\\boldsymbol{\\alpha}^j) &\\sim \\mathcal{N}(\\mu,\\Sigma) \\\\\n",
    "    \\end{aligned} \n",
    "    $$\n",
    "\n",
    "4. Endowments are exponentially distributed,\n",
    "\n",
    "$$\n",
    "\\begin{aligned}\n",
    "\\boldsymbol{e}^{j} &= (e_{1}^{j},e_{2}^{j},e_{3}^{j}) \\\\\n",
    " & e_i^j \\sim f, f(z;\\zeta) =  1/\\zeta \\exp(-z/\\zeta)\n",
    "\\end{aligned}\n",
    "$$"
   ]
  },
  {
   "cell_type": "markdown",
   "metadata": {},
   "source": [
    "Let $p_3 = 1$ be the **numeraire**. The implied **demand functions** are:\n",
    "\n",
    "$$\n",
    "\\begin{aligned}\n",
    "x_{i}^{\\star j}(p_{1},p_{2},\\boldsymbol{e}^{j}) &= \\beta^{j}_i\\frac{I^j}{p_{i}} \\\\\n",
    "\\end{aligned}\n",
    "$$\n",
    "\n",
    "where consumer $j$'s income is\n",
    "\n",
    "$$\n",
    "I^j = p_1 e_1^j + p_2 e_2^j +p_3 e_3^j\n",
    "$$"
   ]
  },
  {
   "cell_type": "markdown",
   "metadata": {},
   "source": [
    "The **parameters** and **random preferences and endowments** are given by:"
   ]
  },
  {
   "cell_type": "code",
   "execution_count": 7,
   "metadata": {},
   "outputs": [],
   "source": [
    "# a. parameters\n",
    "N = 50000\n",
    "mu = np.array([3,2,1])\n",
    "Sigma = np.array([[0.25, 0, 0], [0, 0.25, 0], [0, 0, 0.25]])\n",
    "gamma = 0.8\n",
    "zeta = 1\n",
    "\n",
    "# b. random draws\n",
    "seed = 1986\n",
    "np.random.seed(seed)\n",
    "\n",
    "# preferences\n",
    "alphas = np.exp(np.random.multivariate_normal(mu, Sigma, size=N))\n",
    "betas = alphas/np.reshape(np.sum(alphas,axis=1),(N,1))\n",
    "\n",
    "# endowments\n",
    "e1 = np.random.exponential(zeta,size=N)\n",
    "e2 = np.random.exponential(zeta,size=N)\n",
    "e3 = np.random.exponential(zeta,size=N)"
   ]
  },
  {
   "cell_type": "markdown",
   "metadata": {},
   "source": [
    "**Question 1:** Plot the histograms of the budget shares for each good across agents.\n",
    "\n",
    "Consider the **excess demand functions:**\n",
    "\n",
    "$$ \n",
    "z_i(p_1,p_2) = \\sum_{j=1}^N x_{i}^{\\star j}(p_{1},p_{2},\\boldsymbol{e}^{j}) - e_i^j\n",
    "$$\n",
    "\n",
    "**Question 2:** Plot the excess demand functions."
   ]
  },
  {
   "cell_type": "markdown",
   "metadata": {},
   "source": [
    "**Question 3:** Find the Walras-equilibrium prices, $(p_1,p_2)$, where both excess demands are (approximately) zero, e.g. by using the following tâtonnement process:\n",
    "\n",
    "1. Guess on $p_1 > 0$, $p_2 > 0$ and choose tolerance $\\epsilon > 0$ and adjustment aggressivity parameter, $\\kappa > 0$.\n",
    "2. Calculate $z_1(p_1,p_2)$ and $z_2(p_1,p_2)$.\n",
    "3. If $|z_1| < \\epsilon$ and $|z_2| < \\epsilon$ then stop.\n",
    "4. Else set $p_1 = p_1 + \\kappa \\frac{z_1}{N}$ and $p_2 = p_2 + \\kappa \\frac{z_2}{N}$ and return to step 2."
   ]
  },
  {
   "cell_type": "markdown",
   "metadata": {},
   "source": [
    "**Question 4:** Plot the distribution of utility in the Walras-equilibrium and calculate its mean and variance."
   ]
  },
  {
   "cell_type": "markdown",
   "metadata": {},
   "source": [
    "**Question 5:** Find the Walras-equilibrium prices if instead all endowments were distributed equally. Discuss the implied changes in the distribution of utility. Does the value of $\\gamma$ play a role for your conclusions?"
   ]
  }
 ],
 "metadata": {
  "kernelspec": {
   "display_name": "Python 3",
   "language": "python",
   "name": "python3"
  },
  "language_info": {
   "codemirror_mode": {
    "name": "ipython",
    "version": 3
   },
   "file_extension": ".py",
   "mimetype": "text/x-python",
   "name": "python",
   "nbconvert_exporter": "python",
   "pygments_lexer": "ipython3",
   "version": "3.8.5"
  },
  "toc-autonumbering": false
 },
 "nbformat": 4,
 "nbformat_minor": 4
}
