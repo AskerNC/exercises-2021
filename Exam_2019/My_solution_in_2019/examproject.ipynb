{
 "cells": [
  {
   "cell_type": "code",
   "execution_count": 1,
   "metadata": {},
   "outputs": [],
   "source": [
    "%load_ext autoreload\n",
    "%autoreload 2\n",
    "# You can load your python module as this:\n",
    "import Functions"
   ]
  },
  {
   "cell_type": "code",
   "execution_count": 2,
   "metadata": {},
   "outputs": [],
   "source": [
    "import numpy as np\n",
    "import sympy as sm\n",
    "import pandas as pd\n",
    "from scipy import interpolate\n",
    "from scipy import optimize\n",
    "import matplotlib.pyplot as plt\n",
    "import ipywidgets as widgets\n",
    "from IPython.display import display"
   ]
  },
  {
   "cell_type": "code",
   "execution_count": 3,
   "metadata": {},
   "outputs": [
    {
     "data": {
      "text/html": [
       "\n",
       "    <div class=\"bk-root\">\n",
       "        <a href=\"https://bokeh.org\" target=\"_blank\" class=\"bk-logo bk-logo-small bk-logo-notebook\"></a>\n",
       "        <span id=\"1002\">Loading BokehJS ...</span>\n",
       "    </div>"
      ]
     },
     "metadata": {},
     "output_type": "display_data"
    },
    {
     "data": {
      "application/javascript": [
       "\n",
       "(function(root) {\n",
       "  function now() {\n",
       "    return new Date();\n",
       "  }\n",
       "\n",
       "  var force = true;\n",
       "\n",
       "  if (typeof root._bokeh_onload_callbacks === \"undefined\" || force === true) {\n",
       "    root._bokeh_onload_callbacks = [];\n",
       "    root._bokeh_is_loading = undefined;\n",
       "  }\n",
       "\n",
       "  var JS_MIME_TYPE = 'application/javascript';\n",
       "  var HTML_MIME_TYPE = 'text/html';\n",
       "  var EXEC_MIME_TYPE = 'application/vnd.bokehjs_exec.v0+json';\n",
       "  var CLASS_NAME = 'output_bokeh rendered_html';\n",
       "\n",
       "  /**\n",
       "   * Render data to the DOM node\n",
       "   */\n",
       "  function render(props, node) {\n",
       "    var script = document.createElement(\"script\");\n",
       "    node.appendChild(script);\n",
       "  }\n",
       "\n",
       "  /**\n",
       "   * Handle when an output is cleared or removed\n",
       "   */\n",
       "  function handleClearOutput(event, handle) {\n",
       "    var cell = handle.cell;\n",
       "\n",
       "    var id = cell.output_area._bokeh_element_id;\n",
       "    var server_id = cell.output_area._bokeh_server_id;\n",
       "    // Clean up Bokeh references\n",
       "    if (id != null && id in Bokeh.index) {\n",
       "      Bokeh.index[id].model.document.clear();\n",
       "      delete Bokeh.index[id];\n",
       "    }\n",
       "\n",
       "    if (server_id !== undefined) {\n",
       "      // Clean up Bokeh references\n",
       "      var cmd = \"from bokeh.io.state import curstate; print(curstate().uuid_to_server['\" + server_id + \"'].get_sessions()[0].document.roots[0]._id)\";\n",
       "      cell.notebook.kernel.execute(cmd, {\n",
       "        iopub: {\n",
       "          output: function(msg) {\n",
       "            var id = msg.content.text.trim();\n",
       "            if (id in Bokeh.index) {\n",
       "              Bokeh.index[id].model.document.clear();\n",
       "              delete Bokeh.index[id];\n",
       "            }\n",
       "          }\n",
       "        }\n",
       "      });\n",
       "      // Destroy server and session\n",
       "      var cmd = \"import bokeh.io.notebook as ion; ion.destroy_server('\" + server_id + \"')\";\n",
       "      cell.notebook.kernel.execute(cmd);\n",
       "    }\n",
       "  }\n",
       "\n",
       "  /**\n",
       "   * Handle when a new output is added\n",
       "   */\n",
       "  function handleAddOutput(event, handle) {\n",
       "    var output_area = handle.output_area;\n",
       "    var output = handle.output;\n",
       "\n",
       "    // limit handleAddOutput to display_data with EXEC_MIME_TYPE content only\n",
       "    if ((output.output_type != \"display_data\") || (!Object.prototype.hasOwnProperty.call(output.data, EXEC_MIME_TYPE))) {\n",
       "      return\n",
       "    }\n",
       "\n",
       "    var toinsert = output_area.element.find(\".\" + CLASS_NAME.split(' ')[0]);\n",
       "\n",
       "    if (output.metadata[EXEC_MIME_TYPE][\"id\"] !== undefined) {\n",
       "      toinsert[toinsert.length - 1].firstChild.textContent = output.data[JS_MIME_TYPE];\n",
       "      // store reference to embed id on output_area\n",
       "      output_area._bokeh_element_id = output.metadata[EXEC_MIME_TYPE][\"id\"];\n",
       "    }\n",
       "    if (output.metadata[EXEC_MIME_TYPE][\"server_id\"] !== undefined) {\n",
       "      var bk_div = document.createElement(\"div\");\n",
       "      bk_div.innerHTML = output.data[HTML_MIME_TYPE];\n",
       "      var script_attrs = bk_div.children[0].attributes;\n",
       "      for (var i = 0; i < script_attrs.length; i++) {\n",
       "        toinsert[toinsert.length - 1].firstChild.setAttribute(script_attrs[i].name, script_attrs[i].value);\n",
       "        toinsert[toinsert.length - 1].firstChild.textContent = bk_div.children[0].textContent\n",
       "      }\n",
       "      // store reference to server id on output_area\n",
       "      output_area._bokeh_server_id = output.metadata[EXEC_MIME_TYPE][\"server_id\"];\n",
       "    }\n",
       "  }\n",
       "\n",
       "  function register_renderer(events, OutputArea) {\n",
       "\n",
       "    function append_mime(data, metadata, element) {\n",
       "      // create a DOM node to render to\n",
       "      var toinsert = this.create_output_subarea(\n",
       "        metadata,\n",
       "        CLASS_NAME,\n",
       "        EXEC_MIME_TYPE\n",
       "      );\n",
       "      this.keyboard_manager.register_events(toinsert);\n",
       "      // Render to node\n",
       "      var props = {data: data, metadata: metadata[EXEC_MIME_TYPE]};\n",
       "      render(props, toinsert[toinsert.length - 1]);\n",
       "      element.append(toinsert);\n",
       "      return toinsert\n",
       "    }\n",
       "\n",
       "    /* Handle when an output is cleared or removed */\n",
       "    events.on('clear_output.CodeCell', handleClearOutput);\n",
       "    events.on('delete.Cell', handleClearOutput);\n",
       "\n",
       "    /* Handle when a new output is added */\n",
       "    events.on('output_added.OutputArea', handleAddOutput);\n",
       "\n",
       "    /**\n",
       "     * Register the mime type and append_mime function with output_area\n",
       "     */\n",
       "    OutputArea.prototype.register_mime_type(EXEC_MIME_TYPE, append_mime, {\n",
       "      /* Is output safe? */\n",
       "      safe: true,\n",
       "      /* Index of renderer in `output_area.display_order` */\n",
       "      index: 0\n",
       "    });\n",
       "  }\n",
       "\n",
       "  // register the mime type if in Jupyter Notebook environment and previously unregistered\n",
       "  if (root.Jupyter !== undefined) {\n",
       "    var events = require('base/js/events');\n",
       "    var OutputArea = require('notebook/js/outputarea').OutputArea;\n",
       "\n",
       "    if (OutputArea.prototype.mime_types().indexOf(EXEC_MIME_TYPE) == -1) {\n",
       "      register_renderer(events, OutputArea);\n",
       "    }\n",
       "  }\n",
       "\n",
       "  \n",
       "  if (typeof (root._bokeh_timeout) === \"undefined\" || force === true) {\n",
       "    root._bokeh_timeout = Date.now() + 5000;\n",
       "    root._bokeh_failed_load = false;\n",
       "  }\n",
       "\n",
       "  var NB_LOAD_WARNING = {'data': {'text/html':\n",
       "     \"<div style='background-color: #fdd'>\\n\"+\n",
       "     \"<p>\\n\"+\n",
       "     \"BokehJS does not appear to have successfully loaded. If loading BokehJS from CDN, this \\n\"+\n",
       "     \"may be due to a slow or bad network connection. Possible fixes:\\n\"+\n",
       "     \"</p>\\n\"+\n",
       "     \"<ul>\\n\"+\n",
       "     \"<li>re-rerun `output_notebook()` to attempt to load from CDN again, or</li>\\n\"+\n",
       "     \"<li>use INLINE resources instead, as so:</li>\\n\"+\n",
       "     \"</ul>\\n\"+\n",
       "     \"<code>\\n\"+\n",
       "     \"from bokeh.resources import INLINE\\n\"+\n",
       "     \"output_notebook(resources=INLINE)\\n\"+\n",
       "     \"</code>\\n\"+\n",
       "     \"</div>\"}};\n",
       "\n",
       "  function display_loaded() {\n",
       "    var el = document.getElementById(\"1002\");\n",
       "    if (el != null) {\n",
       "      el.textContent = \"BokehJS is loading...\";\n",
       "    }\n",
       "    if (root.Bokeh !== undefined) {\n",
       "      if (el != null) {\n",
       "        el.textContent = \"BokehJS \" + root.Bokeh.version + \" successfully loaded.\";\n",
       "      }\n",
       "    } else if (Date.now() < root._bokeh_timeout) {\n",
       "      setTimeout(display_loaded, 100)\n",
       "    }\n",
       "  }\n",
       "\n",
       "\n",
       "  function run_callbacks() {\n",
       "    try {\n",
       "      root._bokeh_onload_callbacks.forEach(function(callback) {\n",
       "        if (callback != null)\n",
       "          callback();\n",
       "      });\n",
       "    } finally {\n",
       "      delete root._bokeh_onload_callbacks\n",
       "    }\n",
       "    console.debug(\"Bokeh: all callbacks have finished\");\n",
       "  }\n",
       "\n",
       "  function load_libs(css_urls, js_urls, callback) {\n",
       "    if (css_urls == null) css_urls = [];\n",
       "    if (js_urls == null) js_urls = [];\n",
       "\n",
       "    root._bokeh_onload_callbacks.push(callback);\n",
       "    if (root._bokeh_is_loading > 0) {\n",
       "      console.debug(\"Bokeh: BokehJS is being loaded, scheduling callback at\", now());\n",
       "      return null;\n",
       "    }\n",
       "    if (js_urls == null || js_urls.length === 0) {\n",
       "      run_callbacks();\n",
       "      return null;\n",
       "    }\n",
       "    console.debug(\"Bokeh: BokehJS not loaded, scheduling load and callback at\", now());\n",
       "    root._bokeh_is_loading = css_urls.length + js_urls.length;\n",
       "\n",
       "    function on_load() {\n",
       "      root._bokeh_is_loading--;\n",
       "      if (root._bokeh_is_loading === 0) {\n",
       "        console.debug(\"Bokeh: all BokehJS libraries/stylesheets loaded\");\n",
       "        run_callbacks()\n",
       "      }\n",
       "    }\n",
       "\n",
       "    function on_error(url) {\n",
       "      console.error(\"failed to load \" + url);\n",
       "    }\n",
       "\n",
       "    for (let i = 0; i < css_urls.length; i++) {\n",
       "      const url = css_urls[i];\n",
       "      const element = document.createElement(\"link\");\n",
       "      element.onload = on_load;\n",
       "      element.onerror = on_error.bind(null, url);\n",
       "      element.rel = \"stylesheet\";\n",
       "      element.type = \"text/css\";\n",
       "      element.href = url;\n",
       "      console.debug(\"Bokeh: injecting link tag for BokehJS stylesheet: \", url);\n",
       "      document.body.appendChild(element);\n",
       "    }\n",
       "\n",
       "    const hashes = {\"https://cdn.bokeh.org/bokeh/release/bokeh-2.3.2.min.js\": \"XypntL49z55iwGVUW4qsEu83zKL3XEcz0MjuGOQ9SlaaQ68X/g+k1FcioZi7oQAc\", \"https://cdn.bokeh.org/bokeh/release/bokeh-tables-2.3.2.min.js\": \"bEsM86IHGDTLCS0Zod8a8WM6Y4+lafAL/eSiyQcuPzinmWNgNO2/olUF0Z2Dkn5i\", \"https://cdn.bokeh.org/bokeh/release/bokeh-widgets-2.3.2.min.js\": \"TX0gSQTdXTTeScqxj6PVQxTiRW8DOoGVwinyi1D3kxv7wuxQ02XkOxv0xwiypcAH\"};\n",
       "\n",
       "    for (let i = 0; i < js_urls.length; i++) {\n",
       "      const url = js_urls[i];\n",
       "      const element = document.createElement('script');\n",
       "      element.onload = on_load;\n",
       "      element.onerror = on_error.bind(null, url);\n",
       "      element.async = false;\n",
       "      element.src = url;\n",
       "      if (url in hashes) {\n",
       "        element.crossOrigin = \"anonymous\";\n",
       "        element.integrity = \"sha384-\" + hashes[url];\n",
       "      }\n",
       "      console.debug(\"Bokeh: injecting script tag for BokehJS library: \", url);\n",
       "      document.head.appendChild(element);\n",
       "    }\n",
       "  };\n",
       "\n",
       "  function inject_raw_css(css) {\n",
       "    const element = document.createElement(\"style\");\n",
       "    element.appendChild(document.createTextNode(css));\n",
       "    document.body.appendChild(element);\n",
       "  }\n",
       "\n",
       "  \n",
       "  var js_urls = [\"https://cdn.bokeh.org/bokeh/release/bokeh-2.3.2.min.js\", \"https://cdn.bokeh.org/bokeh/release/bokeh-widgets-2.3.2.min.js\", \"https://cdn.bokeh.org/bokeh/release/bokeh-tables-2.3.2.min.js\"];\n",
       "  var css_urls = [];\n",
       "  \n",
       "\n",
       "  var inline_js = [\n",
       "    function(Bokeh) {\n",
       "      Bokeh.set_log_level(\"info\");\n",
       "    },\n",
       "    function(Bokeh) {\n",
       "    \n",
       "    \n",
       "    }\n",
       "  ];\n",
       "\n",
       "  function run_inline_js() {\n",
       "    \n",
       "    if (root.Bokeh !== undefined || force === true) {\n",
       "      \n",
       "    for (var i = 0; i < inline_js.length; i++) {\n",
       "      inline_js[i].call(root, root.Bokeh);\n",
       "    }\n",
       "    if (force === true) {\n",
       "        display_loaded();\n",
       "      }} else if (Date.now() < root._bokeh_timeout) {\n",
       "      setTimeout(run_inline_js, 100);\n",
       "    } else if (!root._bokeh_failed_load) {\n",
       "      console.log(\"Bokeh: BokehJS failed to load within specified timeout.\");\n",
       "      root._bokeh_failed_load = true;\n",
       "    } else if (force !== true) {\n",
       "      var cell = $(document.getElementById(\"1002\")).parents('.cell').data().cell;\n",
       "      cell.output_area.append_execute_result(NB_LOAD_WARNING)\n",
       "    }\n",
       "\n",
       "  }\n",
       "\n",
       "  if (root._bokeh_is_loading === 0) {\n",
       "    console.debug(\"Bokeh: BokehJS loaded, going straight to plotting\");\n",
       "    run_inline_js();\n",
       "  } else {\n",
       "    load_libs(css_urls, js_urls, function() {\n",
       "      console.debug(\"Bokeh: BokehJS plotting callback run at\", now());\n",
       "      run_inline_js();\n",
       "    });\n",
       "  }\n",
       "}(window));"
      ],
      "application/vnd.bokehjs_load.v0+json": "\n(function(root) {\n  function now() {\n    return new Date();\n  }\n\n  var force = true;\n\n  if (typeof root._bokeh_onload_callbacks === \"undefined\" || force === true) {\n    root._bokeh_onload_callbacks = [];\n    root._bokeh_is_loading = undefined;\n  }\n\n  \n\n  \n  if (typeof (root._bokeh_timeout) === \"undefined\" || force === true) {\n    root._bokeh_timeout = Date.now() + 5000;\n    root._bokeh_failed_load = false;\n  }\n\n  var NB_LOAD_WARNING = {'data': {'text/html':\n     \"<div style='background-color: #fdd'>\\n\"+\n     \"<p>\\n\"+\n     \"BokehJS does not appear to have successfully loaded. If loading BokehJS from CDN, this \\n\"+\n     \"may be due to a slow or bad network connection. Possible fixes:\\n\"+\n     \"</p>\\n\"+\n     \"<ul>\\n\"+\n     \"<li>re-rerun `output_notebook()` to attempt to load from CDN again, or</li>\\n\"+\n     \"<li>use INLINE resources instead, as so:</li>\\n\"+\n     \"</ul>\\n\"+\n     \"<code>\\n\"+\n     \"from bokeh.resources import INLINE\\n\"+\n     \"output_notebook(resources=INLINE)\\n\"+\n     \"</code>\\n\"+\n     \"</div>\"}};\n\n  function display_loaded() {\n    var el = document.getElementById(\"1002\");\n    if (el != null) {\n      el.textContent = \"BokehJS is loading...\";\n    }\n    if (root.Bokeh !== undefined) {\n      if (el != null) {\n        el.textContent = \"BokehJS \" + root.Bokeh.version + \" successfully loaded.\";\n      }\n    } else if (Date.now() < root._bokeh_timeout) {\n      setTimeout(display_loaded, 100)\n    }\n  }\n\n\n  function run_callbacks() {\n    try {\n      root._bokeh_onload_callbacks.forEach(function(callback) {\n        if (callback != null)\n          callback();\n      });\n    } finally {\n      delete root._bokeh_onload_callbacks\n    }\n    console.debug(\"Bokeh: all callbacks have finished\");\n  }\n\n  function load_libs(css_urls, js_urls, callback) {\n    if (css_urls == null) css_urls = [];\n    if (js_urls == null) js_urls = [];\n\n    root._bokeh_onload_callbacks.push(callback);\n    if (root._bokeh_is_loading > 0) {\n      console.debug(\"Bokeh: BokehJS is being loaded, scheduling callback at\", now());\n      return null;\n    }\n    if (js_urls == null || js_urls.length === 0) {\n      run_callbacks();\n      return null;\n    }\n    console.debug(\"Bokeh: BokehJS not loaded, scheduling load and callback at\", now());\n    root._bokeh_is_loading = css_urls.length + js_urls.length;\n\n    function on_load() {\n      root._bokeh_is_loading--;\n      if (root._bokeh_is_loading === 0) {\n        console.debug(\"Bokeh: all BokehJS libraries/stylesheets loaded\");\n        run_callbacks()\n      }\n    }\n\n    function on_error(url) {\n      console.error(\"failed to load \" + url);\n    }\n\n    for (let i = 0; i < css_urls.length; i++) {\n      const url = css_urls[i];\n      const element = document.createElement(\"link\");\n      element.onload = on_load;\n      element.onerror = on_error.bind(null, url);\n      element.rel = \"stylesheet\";\n      element.type = \"text/css\";\n      element.href = url;\n      console.debug(\"Bokeh: injecting link tag for BokehJS stylesheet: \", url);\n      document.body.appendChild(element);\n    }\n\n    const hashes = {\"https://cdn.bokeh.org/bokeh/release/bokeh-2.3.2.min.js\": \"XypntL49z55iwGVUW4qsEu83zKL3XEcz0MjuGOQ9SlaaQ68X/g+k1FcioZi7oQAc\", \"https://cdn.bokeh.org/bokeh/release/bokeh-tables-2.3.2.min.js\": \"bEsM86IHGDTLCS0Zod8a8WM6Y4+lafAL/eSiyQcuPzinmWNgNO2/olUF0Z2Dkn5i\", \"https://cdn.bokeh.org/bokeh/release/bokeh-widgets-2.3.2.min.js\": \"TX0gSQTdXTTeScqxj6PVQxTiRW8DOoGVwinyi1D3kxv7wuxQ02XkOxv0xwiypcAH\"};\n\n    for (let i = 0; i < js_urls.length; i++) {\n      const url = js_urls[i];\n      const element = document.createElement('script');\n      element.onload = on_load;\n      element.onerror = on_error.bind(null, url);\n      element.async = false;\n      element.src = url;\n      if (url in hashes) {\n        element.crossOrigin = \"anonymous\";\n        element.integrity = \"sha384-\" + hashes[url];\n      }\n      console.debug(\"Bokeh: injecting script tag for BokehJS library: \", url);\n      document.head.appendChild(element);\n    }\n  };\n\n  function inject_raw_css(css) {\n    const element = document.createElement(\"style\");\n    element.appendChild(document.createTextNode(css));\n    document.body.appendChild(element);\n  }\n\n  \n  var js_urls = [\"https://cdn.bokeh.org/bokeh/release/bokeh-2.3.2.min.js\", \"https://cdn.bokeh.org/bokeh/release/bokeh-widgets-2.3.2.min.js\", \"https://cdn.bokeh.org/bokeh/release/bokeh-tables-2.3.2.min.js\"];\n  var css_urls = [];\n  \n\n  var inline_js = [\n    function(Bokeh) {\n      Bokeh.set_log_level(\"info\");\n    },\n    function(Bokeh) {\n    \n    \n    }\n  ];\n\n  function run_inline_js() {\n    \n    if (root.Bokeh !== undefined || force === true) {\n      \n    for (var i = 0; i < inline_js.length; i++) {\n      inline_js[i].call(root, root.Bokeh);\n    }\n    if (force === true) {\n        display_loaded();\n      }} else if (Date.now() < root._bokeh_timeout) {\n      setTimeout(run_inline_js, 100);\n    } else if (!root._bokeh_failed_load) {\n      console.log(\"Bokeh: BokehJS failed to load within specified timeout.\");\n      root._bokeh_failed_load = true;\n    } else if (force !== true) {\n      var cell = $(document.getElementById(\"1002\")).parents('.cell').data().cell;\n      cell.output_area.append_execute_result(NB_LOAD_WARNING)\n    }\n\n  }\n\n  if (root._bokeh_is_loading === 0) {\n    console.debug(\"Bokeh: BokehJS loaded, going straight to plotting\");\n    run_inline_js();\n  } else {\n    load_libs(css_urls, js_urls, function() {\n      console.debug(\"Bokeh: BokehJS plotting callback run at\", now());\n      run_inline_js();\n    });\n  }\n}(window));"
     },
     "metadata": {},
     "output_type": "display_data"
    }
   ],
   "source": [
    "from bokeh.io import output_notebook,show, push_notebook\n",
    "from bokeh.layouts import row, column\n",
    "from bokeh.models import Label\n",
    "output_notebook()"
   ]
  },
  {
   "cell_type": "markdown",
   "metadata": {},
   "source": [
    "# 1. Human capital accumulation\n",
    "**Question 1:** Solve the model in period 2 and illustrate the solution (including labor supply as a function of human capital). "
   ]
  },
  {
   "cell_type": "code",
   "execution_count": 4,
   "metadata": {},
   "outputs": [],
   "source": [
    "# Parameters:\n",
    "rho = 2\n",
    "beta = 0.96\n",
    "gamma = 0.1\n",
    "w = 2\n",
    "b = 1\n",
    "Delta = 0.1"
   ]
  },
  {
   "cell_type": "markdown",
   "metadata": {},
   "source": [
    "**Maximization problem**:\n",
    "$$\n",
    "\\begin{eqnarray*}\n",
    "v_{2}(h_{2}) & = &\\max_{l_{2}} \\frac{c_2^{1-\\rho}}{1-\\rho} - \\gamma l_2\n",
    "\\\\ & \\text{s.t.} & \\\\\n",
    "c_{2}& = & w h_2 l_2 \\\\\n",
    "l_{2}& \\in &\\{0,1\\}\n",
    "\\end{eqnarray*}\n",
    "$$"
   ]
  },
  {
   "cell_type": "markdown",
   "metadata": {},
   "source": [
    "First we define basic functions from the equations given in the assignment."
   ]
  },
  {
   "cell_type": "code",
   "execution_count": 5,
   "metadata": {},
   "outputs": [],
   "source": [
    "def u(c,rho):\n",
    "    '''\n",
    "    Utility_function\n",
    "    Args:\n",
    "        c (float)  : Amount consumed\n",
    "        rho (float): Parameter\n",
    "    \n",
    "    returns:\n",
    "        Utility of worker gained from comsumption\n",
    "    \n",
    "    '''\n",
    "    if rho==1:\n",
    "        return np.log(c)\n",
    "    else:\n",
    "        return c**(1-rho)/(1-rho)\n",
    "\n",
    "def v2(c2,l2,gamma,rho):\n",
    "    '''\n",
    "    Total utility in period 2\n",
    "    Args:\n",
    "        c2 (float)   : Amount consumed in period 2\n",
    "        l2 (int)     : Whether the worker works or not, in period 2\n",
    "                       can either be 0 or 1. \n",
    "        gamma,rho (float): parameters\n",
    "        \n",
    "    Returns:\n",
    "        v2 (float)   : Net utility in period 2. \n",
    "        \n",
    "    '''\n",
    "    v2 = u(c2,rho)-gamma*l2\n",
    "    return v2\n",
    "\n",
    "def eq_constraint(c2,w,h2,l2):\n",
    "    return c2-w*h2*l2\n"
   ]
  },
  {
   "cell_type": "markdown",
   "metadata": {},
   "source": [
    "Then we define a function that compares the utility from wokring and not working, choosing the highest:"
   ]
  },
  {
   "cell_type": "code",
   "execution_count": 6,
   "metadata": {},
   "outputs": [],
   "source": [
    "def solve_period_2(h2,b,rho,gamma,output_utility=True):\n",
    "    '''\n",
    "    Solves the optimization problem for period two,\n",
    "    e.g compares utility of the two possible scenarios,\n",
    "    and chooses the highest utility.\n",
    "    \n",
    "    Args:\n",
    "        h2 (float)   : Human capital of the worker\n",
    "        b (float)    : Unemployment benefit if she decides not to work\n",
    "        rho,gamma (floats) : Parameters\n",
    "        output_utility(bool): If True returns utility if False returns l2\n",
    "        \n",
    "    Returns:\n",
    "        Utility (float) : Net utility in period 2\n",
    "        l2 (int)        : Either 0 or 1, if 0 she decides not to work, if 1 she does work.\n",
    "    \n",
    "    '''\n",
    "    \n",
    "    u_work = v2(w*h2,1,gamma,rho)\n",
    "    u_nowork = v2(b,0,gamma,rho)\n",
    "\n",
    "    if u_work > u_nowork:\n",
    "        utility = u_work\n",
    "        l2 = 1\n",
    "    else:\n",
    "        utility = u_nowork\n",
    "        l2 = 0\n",
    "        \n",
    "    if output_utility:\n",
    "        return utility\n",
    "    else:\n",
    "        return l2"
   ]
  },
  {
   "cell_type": "markdown",
   "metadata": {},
   "source": [
    "Now we solve the problem for human capital between 0.1 and 1, and plot it:"
   ]
  },
  {
   "cell_type": "code",
   "execution_count": 7,
   "metadata": {},
   "outputs": [],
   "source": [
    "h_vec = np.linspace(0.1,1.5,100)\n",
    "v2s = np.empty(100)\n",
    "labour_supply = np.empty(100)\n",
    "\n",
    "for i,h in enumerate(h_vec):\n",
    "    v2s[i] = solve_period_2(h,b,rho,gamma)\n",
    "    labour_supply[i] =  solve_period_2(h,b,rho,gamma,output_utility=False)"
   ]
  },
  {
   "cell_type": "code",
   "execution_count": 8,
   "metadata": {},
   "outputs": [
    {
     "name": "stderr",
     "output_type": "stream",
     "text": [
      "BokehDeprecationWarning: 'legend' keyword is deprecated, use explicit 'legend_label', 'legend_field', or 'legend_group' keywords instead\n",
      "BokehDeprecationWarning: 'legend' keyword is deprecated, use explicit 'legend_label', 'legend_field', or 'legend_group' keywords instead\n",
      "BokehDeprecationWarning: 'legend' keyword is deprecated, use explicit 'legend_label', 'legend_field', or 'legend_group' keywords instead\n",
      "BokehDeprecationWarning: 'legend' keyword is deprecated, use explicit 'legend_label', 'legend_field', or 'legend_group' keywords instead\n"
     ]
    },
    {
     "data": {
      "text/html": [
       "\n",
       "\n",
       "\n",
       "\n",
       "\n",
       "\n",
       "  <div class=\"bk-root\" id=\"3d3c713e-776d-4f9e-a71e-91e9224055af\" data-root-id=\"1173\"></div>\n"
      ]
     },
     "metadata": {},
     "output_type": "display_data"
    },
    {
     "data": {
      "application/javascript": [
       "(function(root) {\n",
       "  function embed_document(root) {\n",
       "    \n",
       "  var docs_json = {\"d5428011-b3f8-46f6-bf8a-d038b1328787\":{\"defs\":[],\"roots\":{\"references\":[{\"attributes\":{\"children\":[{\"id\":\"1172\"},{\"id\":\"1123\"}]},\"id\":\"1173\",\"type\":\"Column\"},{\"attributes\":{},\"id\":\"1010\",\"type\":\"DataRange1d\"},{\"attributes\":{},\"id\":\"1065\",\"type\":\"LinearScale\"},{\"attributes\":{\"axis_label\":\"Human capital in period 2\",\"formatter\":{\"id\":\"1046\"},\"major_label_policy\":{\"id\":\"1047\"},\"ticker\":{\"id\":\"1017\"}},\"id\":\"1016\",\"type\":\"LinearAxis\"},{\"attributes\":{},\"id\":\"1059\",\"type\":\"DataRange1d\"},{\"attributes\":{\"data_source\":{\"id\":\"1055\"},\"glyph\":{\"id\":\"1089\"},\"hover_glyph\":null,\"muted_glyph\":null,\"nonselection_glyph\":{\"id\":\"1090\"},\"view\":{\"id\":\"1092\"}},\"id\":\"1091\",\"type\":\"GlyphRenderer\"},{\"attributes\":{\"callback\":null,\"tooltips\":[[\"Human capital in period 2\",\"@x{0.00}\"],[\"Labour supply\",\"@a{0.00}\"]]},\"id\":\"1121\",\"type\":\"HoverTool\"},{\"attributes\":{},\"id\":\"1061\",\"type\":\"DataRange1d\"},{\"attributes\":{},\"id\":\"1063\",\"type\":\"LinearScale\"},{\"attributes\":{\"axis_label\":\"Human capital in period 2\",\"formatter\":{\"id\":\"1097\"},\"major_label_policy\":{\"id\":\"1098\"},\"ticker\":{\"id\":\"1068\"}},\"id\":\"1067\",\"type\":\"LinearAxis\"},{\"attributes\":{},\"id\":\"1068\",\"type\":\"BasicTicker\"},{\"attributes\":{\"axis\":{\"id\":\"1067\"},\"ticker\":null},\"id\":\"1070\",\"type\":\"Grid\"},{\"attributes\":{},\"id\":\"1076\",\"type\":\"WheelZoomTool\"},{\"attributes\":{\"axis_label\":\"Utility\",\"formatter\":{\"id\":\"1094\"},\"major_label_policy\":{\"id\":\"1095\"},\"ticker\":{\"id\":\"1072\"}},\"id\":\"1071\",\"type\":\"LinearAxis\"},{\"attributes\":{\"axis\":{\"id\":\"1071\"},\"dimension\":1,\"ticker\":null},\"id\":\"1074\",\"type\":\"Grid\"},{\"attributes\":{},\"id\":\"1072\",\"type\":\"BasicTicker\"},{\"attributes\":{},\"id\":\"1014\",\"type\":\"LinearScale\"},{\"attributes\":{},\"id\":\"1075\",\"type\":\"PanTool\"},{\"attributes\":{\"overlay\":{\"id\":\"1080\"}},\"id\":\"1077\",\"type\":\"BoxZoomTool\"},{\"attributes\":{},\"id\":\"1078\",\"type\":\"ResetTool\"},{\"attributes\":{},\"id\":\"1079\",\"type\":\"SaveTool\"},{\"attributes\":{},\"id\":\"1101\",\"type\":\"Selection\"},{\"attributes\":{\"below\":[{\"id\":\"1067\"}],\"center\":[{\"id\":\"1070\"},{\"id\":\"1074\"},{\"id\":\"1103\"}],\"height\":450,\"left\":[{\"id\":\"1071\"}],\"renderers\":[{\"id\":\"1091\"},{\"id\":\"1108\"}],\"title\":{\"id\":\"1057\"},\"toolbar\":{\"id\":\"1081\"},\"width\":450,\"x_range\":{\"id\":\"1059\"},\"x_scale\":{\"id\":\"1063\"},\"y_range\":{\"id\":\"1061\"},\"y_scale\":{\"id\":\"1065\"}},\"id\":\"1056\",\"subtype\":\"Figure\",\"type\":\"Plot\"},{\"attributes\":{},\"id\":\"1095\",\"type\":\"AllLabels\"},{\"attributes\":{\"bottom_units\":\"screen\",\"fill_alpha\":0.5,\"fill_color\":\"lightgrey\",\"left_units\":\"screen\",\"level\":\"overlay\",\"line_alpha\":1.0,\"line_color\":\"black\",\"line_dash\":[4,4],\"line_width\":2,\"right_units\":\"screen\",\"syncable\":false,\"top_units\":\"screen\"},\"id\":\"1080\",\"type\":\"BoxAnnotation\"},{\"attributes\":{\"text\":\"Expected utility in period 2 depended on h2\"},\"id\":\"1057\",\"type\":\"Title\"},{\"attributes\":{\"active_multi\":null,\"tools\":[{\"id\":\"1054\"},{\"id\":\"1075\"},{\"id\":\"1076\"},{\"id\":\"1077\"},{\"id\":\"1078\"},{\"id\":\"1079\"}]},\"id\":\"1081\",\"type\":\"Toolbar\"},{\"attributes\":{\"line_alpha\":0.1,\"line_color\":\"red\",\"line_width\":1.5,\"x\":{\"field\":\"x\"},\"y\":{\"field\":\"a\"}},\"id\":\"1090\",\"type\":\"Line\"},{\"attributes\":{\"line_color\":\"red\",\"line_width\":1.5,\"x\":{\"field\":\"x\"},\"y\":{\"field\":\"a\"}},\"id\":\"1089\",\"type\":\"Line\"},{\"attributes\":{\"items\":[{\"id\":\"1104\"},{\"id\":\"1120\"}],\"location\":\"bottom_right\"},\"id\":\"1103\",\"type\":\"Legend\"},{\"attributes\":{},\"id\":\"1100\",\"type\":\"UnionRenderers\"},{\"attributes\":{\"source\":{\"id\":\"1055\"}},\"id\":\"1092\",\"type\":\"CDSView\"},{\"attributes\":{},\"id\":\"1012\",\"type\":\"LinearScale\"},{\"attributes\":{},\"id\":\"1094\",\"type\":\"BasicTickFormatter\"},{\"attributes\":{},\"id\":\"1017\",\"type\":\"BasicTicker\"},{\"attributes\":{\"label\":{\"value\":\"Labour supply\"},\"renderers\":[{\"id\":\"1158\"}]},\"id\":\"1171\",\"type\":\"LegendItem\"},{\"attributes\":{\"items\":[{\"id\":\"1171\"}],\"location\":\"bottom_right\"},\"id\":\"1170\",\"type\":\"Legend\"},{\"attributes\":{\"label\":{\"value\":\"Utility\"},\"renderers\":[{\"id\":\"1040\"}]},\"id\":\"1053\",\"type\":\"LegendItem\"},{\"attributes\":{},\"id\":\"1126\",\"type\":\"DataRange1d\"},{\"attributes\":{},\"id\":\"1043\",\"type\":\"BasicTickFormatter\"},{\"attributes\":{\"callback\":null,\"tooltips\":[[\"Human capital in period 2\",\"@x{0.00}\"],[\"Expected utility from working\",\"@a{0.00}\"],[\"Expected utility from not working\",\"@b{0.00}\"]]},\"id\":\"1054\",\"type\":\"HoverTool\"},{\"attributes\":{\"text\":\"Labour supply as a function of h2\"},\"id\":\"1124\",\"type\":\"Title\"},{\"attributes\":{},\"id\":\"1097\",\"type\":\"BasicTickFormatter\"},{\"attributes\":{\"below\":[{\"id\":\"1134\"}],\"center\":[{\"id\":\"1137\"},{\"id\":\"1141\"},{\"id\":\"1170\"}],\"height\":450,\"left\":[{\"id\":\"1138\"}],\"renderers\":[{\"id\":\"1158\"}],\"title\":{\"id\":\"1124\"},\"toolbar\":{\"id\":\"1148\"},\"width\":450,\"x_range\":{\"id\":\"1126\"},\"x_scale\":{\"id\":\"1130\"},\"y_range\":{\"id\":\"1128\"},\"y_scale\":{\"id\":\"1132\"}},\"id\":\"1123\",\"subtype\":\"Figure\",\"type\":\"Plot\"},{\"attributes\":{},\"id\":\"1161\",\"type\":\"BasicTickFormatter\"},{\"attributes\":{\"callback\":null,\"tooltips\":[[\"Human capital in period 2\",\"@x{0.00}\"],[\"Utility\",\"@a{0.00}\"]]},\"id\":\"1003\",\"type\":\"HoverTool\"},{\"attributes\":{},\"id\":\"1044\",\"type\":\"AllLabels\"},{\"attributes\":{\"data\":{\"a\":{\"__ndarray__\":\"AAAAAAAA8L8AAAAAAADwvwAAAAAAAPC/AAAAAAAA8L8AAAAAAADwvwAAAAAAAPC/AAAAAAAA8L8AAAAAAADwvwAAAAAAAPC/AAAAAAAA8L8AAAAAAADwvwAAAAAAAPC/AAAAAAAA8L8AAAAAAADwvwAAAAAAAPC/AAAAAAAA8L8AAAAAAADwvwAAAAAAAPC/AAAAAAAA8L8AAAAAAADwvwAAAAAAAPC/AAAAAAAA8L8AAAAAAADwvwAAAAAAAPC/AAAAAAAA8L8AAAAAAADwvwAAAAAAAPC/AAAAAAAA8L8AAAAAAADwvwAAAAAAAPC/AAAAAAAA8L8AAAAAAADwvwAAAAAAAPC/b29vb29v77/sksqHcb/uvzO4OWjRF+6/0RD24vl37b8Mk2RUY9/sv/zqkCKSTey/VyG8bhXC678pjIzxhTzrv2vhqfuEvOq/+laTlbtB6r/LPVK62cvpv6mVWqmVWum/MOR7TKvt6L/u2Dyv24TovweEYIXsH+i/qL6nvqe+5783yScm22Dnv9VtygtYBue/QBC+9vKu5r8LjMZfg1rmv6rdg3LjCOa/n1vi1O+55b+olwJ0h23lv46Q/VWLI+W/nUL9b97b5L9jWzKAZZbkvzFFPusGU+S/pz61nKoR5L9yC2fqOdLjv1k6JnqflOO/jTXOKcdY479jgE/5nR7jv3nOj/YR5uK/sCLxKhKv4r+o+1eKjnnivyfWjON3ReK/JQ/Z0b8S4r/IgMKvWOHhv+kkzIo1seG/gqEkGEqC4b+S8i2qilThv1tyyybsJ+G/n1Rl/mP84L/ASpIj6NHgv/p6WQNvqOC/CEIAfu9/4L/hYFjgYFjgv19DhN26MeC/A/0nifUL4L8q4fyjEs7fv8Czlfndhd+/QD8/Pz8/37+44+c6Kfrev+COBESPtt6/OJ3UO2V03r+QsiKGnzPev/hueQIz9N2/IKXDBRW23b8IZlBUO3ndv9rTMxycPd2/7j7+7y0D3b+6ksPB58ncv9yQbd7Akdy/rMVT6bBa3L+shRTYryTcv8qequ6179u/vLu7u7u7278=\",\"dtype\":\"float64\",\"order\":\"little\",\"shape\":[100]},\"x\":{\"__ndarray__\":\"mpmZmZmZuT/jR9soXzi9PxZ7DlySa8A/O1KvI/U6wj9gKVDrVwrEP4QA8bK62cU/qdeReh2pxz/OrjJCgHjJP/KF0wnjR8s/F1100UUXzT88NBWZqObOP7AFW7AFW9A/QnErFLdC0T/V3Pt3aCrSP2hIzNsZEtM/+rOcP8v50z+MH22jfOHUPx6LPQcuydU/sPYNa9+w1j9EYt7OkJjXP9bNrjJCgNg/aDl/lvNn2T/6pE/6pE/aP4wQIF5WN9s/HnzwwQcf3D+y58AluQbdP0RTkYlq7t0/1r5h7RvW3j9oKjJRzb3fP/1KgVq/UuA/xoBpDJjG4D+QtlG+cDrhP1nsOXBJruE/IiIiIiIi4j/rVwrU+pXiP7SN8oXTCeM/fcPaN6x94z9G+cLphPHjPxAvq5tdZeQ/2WSTTTbZ5D+imnv/Dk3lP2vQY7HnwOU/NAZMY8A05j/9OzQVmajmP8dxHMdxHOc/kKcEeUqQ5z9Z3ewqIwToPyIT1dz7d+g/60i9jtTr6D+0fqVArV/pP360jfKF0+k/R+p1pF5H6j8QIF5WN7vqP9lVRggQL+s/oosuuuii6z9rwRZswRbsPzX3/h2aiuw//iznz3L+7D/HYs+BS3LtP5CYtzMk5u0/Wc6f5fxZ7j8iBIiX1c3uP+w5cEmuQe8/tW9Y+4a17z+/UqDWrxTwP6RtlC+cTvA/iIiIiIiI8D9to3zhdMLwP1K+cDph/PA/Ntlkk0028T8b9FjsOXDxPwAPTUUmqvE/5ClBnhLk8T/JRDX3/h3yP61fKVDrV/I/knodqdeR8j93lRECxMvyP1uwBVuwBfM/QMv5s5w/8z8k5u0MiXnzPwkB4mV1s/M/7RvWvmHt8z/SNsoXTif0P7dRvnA6YfQ/m2yyySab9D+Ah6YiE9X0P2Simnv/DvU/Sb2O1OtI9T8u2IIt2IL1PxLzdobEvPU/9w1r37D29T/bKF84nTD2P8BDU5GJavY/pF5H6nWk9j+JeTtDYt72P26UL5xOGPc/Uq8j9TpS9z83yhdOJ4z3PxvlC6cTxvc/AAAAAAAA+D8=\",\"dtype\":\"float64\",\"order\":\"little\",\"shape\":[100]}},\"selected\":{\"id\":\"1050\"},\"selection_policy\":{\"id\":\"1049\"}},\"id\":\"1004\",\"type\":\"ColumnDataSource\"},{\"attributes\":{},\"id\":\"1098\",\"type\":\"AllLabels\"},{\"attributes\":{},\"id\":\"1162\",\"type\":\"AllLabels\"},{\"attributes\":{\"data\":{\"a\":{\"__ndarray__\":\"ZmZmZmZmFMAFwb5PEOwRwJmyP4Yp+w/A3V/4VJbiDMBZ/pLlL1kKwFSc7D9hOwjAHT6W3XhwBsDou3UzyuYEwNf0EYpZkQPAZ2ZmZmZmAsDnZHtAeV4BwEigaKvBcwDAdm5A0E5D/7+uEyRC+cj9vwHSQpWMcvy/d1sYRSc7+7/OA5hvwB76v3ujnNX6Gfm/oQIqoAIq+L/H9E8Gc0z3v/i1O8pBf/a/bXafGK/A9b/00DG8OA/1v7aw696PafS/Dem8xZDO879CsywYPD3zv0jFGGCxtPK/YPVygSo08r90933497rxvzIOBLh9SPG/NJJSiTDc8L+xKR7Wk3Xwv/s0Vsk3FPC/b29vb29v77/sksqHcb/uvzO4OWjRF+6/0RD24vl37b8Mk2RUY9/sv/zqkCKSTey/VyG8bhXC678pjIzxhTzrv2vhqfuEvOq/+laTlbtB6r/LPVK62cvpv6mVWqmVWum/MOR7TKvt6L/u2Dyv24TovweEYIXsH+i/qL6nvqe+5783yScm22Dnv9VtygtYBue/QBC+9vKu5r8LjMZfg1rmv6rdg3LjCOa/n1vi1O+55b+olwJ0h23lv46Q/VWLI+W/nUL9b97b5L9jWzKAZZbkvzFFPusGU+S/pz61nKoR5L9yC2fqOdLjv1k6JnqflOO/jTXOKcdY479jgE/5nR7jv3nOj/YR5uK/sCLxKhKv4r+o+1eKjnnivyfWjON3ReK/JQ/Z0b8S4r/IgMKvWOHhv+kkzIo1seG/gqEkGEqC4b+S8i2qilThv1tyyybsJ+G/n1Rl/mP84L/ASpIj6NHgv/p6WQNvqOC/CEIAfu9/4L/hYFjgYFjgv19DhN26MeC/A/0nifUL4L8q4fyjEs7fv8Czlfndhd+/QD8/Pz8/37+44+c6Kfrev+COBESPtt6/OJ3UO2V03r+QsiKGnzPev/hueQIz9N2/IKXDBRW23b8IZlBUO3ndv9rTMxycPd2/7j7+7y0D3b+6ksPB58ncv9yQbd7Akdy/rMVT6bBa3L+shRTYryTcv8qequ6179u/vLu7u7u7278=\",\"dtype\":\"float64\",\"order\":\"little\",\"shape\":[100]},\"b\":[-1.0,-1.0,-1.0,-1.0,-1.0,-1.0,-1.0,-1.0,-1.0,-1.0,-1.0,-1.0,-1.0,-1.0,-1.0,-1.0,-1.0,-1.0,-1.0,-1.0,-1.0,-1.0,-1.0,-1.0,-1.0,-1.0,-1.0,-1.0,-1.0,-1.0,-1.0,-1.0,-1.0,-1.0,-1.0,-1.0,-1.0,-1.0,-1.0,-1.0,-1.0,-1.0,-1.0,-1.0,-1.0,-1.0,-1.0,-1.0,-1.0,-1.0,-1.0,-1.0,-1.0,-1.0,-1.0,-1.0,-1.0,-1.0,-1.0,-1.0,-1.0,-1.0,-1.0,-1.0,-1.0,-1.0,-1.0,-1.0,-1.0,-1.0,-1.0,-1.0,-1.0,-1.0,-1.0,-1.0,-1.0,-1.0,-1.0,-1.0,-1.0,-1.0,-1.0,-1.0,-1.0,-1.0,-1.0,-1.0,-1.0,-1.0,-1.0,-1.0,-1.0,-1.0,-1.0,-1.0,-1.0,-1.0,-1.0,-1.0],\"x\":{\"__ndarray__\":\"mpmZmZmZuT/jR9soXzi9PxZ7DlySa8A/O1KvI/U6wj9gKVDrVwrEP4QA8bK62cU/qdeReh2pxz/OrjJCgHjJP/KF0wnjR8s/F1100UUXzT88NBWZqObOP7AFW7AFW9A/QnErFLdC0T/V3Pt3aCrSP2hIzNsZEtM/+rOcP8v50z+MH22jfOHUPx6LPQcuydU/sPYNa9+w1j9EYt7OkJjXP9bNrjJCgNg/aDl/lvNn2T/6pE/6pE/aP4wQIF5WN9s/HnzwwQcf3D+y58AluQbdP0RTkYlq7t0/1r5h7RvW3j9oKjJRzb3fP/1KgVq/UuA/xoBpDJjG4D+QtlG+cDrhP1nsOXBJruE/IiIiIiIi4j/rVwrU+pXiP7SN8oXTCeM/fcPaN6x94z9G+cLphPHjPxAvq5tdZeQ/2WSTTTbZ5D+imnv/Dk3lP2vQY7HnwOU/NAZMY8A05j/9OzQVmajmP8dxHMdxHOc/kKcEeUqQ5z9Z3ewqIwToPyIT1dz7d+g/60i9jtTr6D+0fqVArV/pP360jfKF0+k/R+p1pF5H6j8QIF5WN7vqP9lVRggQL+s/oosuuuii6z9rwRZswRbsPzX3/h2aiuw//iznz3L+7D/HYs+BS3LtP5CYtzMk5u0/Wc6f5fxZ7j8iBIiX1c3uP+w5cEmuQe8/tW9Y+4a17z+/UqDWrxTwP6RtlC+cTvA/iIiIiIiI8D9to3zhdMLwP1K+cDph/PA/Ntlkk0028T8b9FjsOXDxPwAPTUUmqvE/5ClBnhLk8T/JRDX3/h3yP61fKVDrV/I/knodqdeR8j93lRECxMvyP1uwBVuwBfM/QMv5s5w/8z8k5u0MiXnzPwkB4mV1s/M/7RvWvmHt8z/SNsoXTif0P7dRvnA6YfQ/m2yyySab9D+Ah6YiE9X0P2Simnv/DvU/Sb2O1OtI9T8u2IIt2IL1PxLzdobEvPU/9w1r37D29T/bKF84nTD2P8BDU5GJavY/pF5H6nWk9j+JeTtDYt72P26UL5xOGPc/Uq8j9TpS9z83yhdOJ4z3PxvlC6cTxvc/AAAAAAAA+D8=\",\"dtype\":\"float64\",\"order\":\"little\",\"shape\":[100]}},\"selected\":{\"id\":\"1101\"},\"selection_policy\":{\"id\":\"1100\"}},\"id\":\"1055\",\"type\":\"ColumnDataSource\"},{\"attributes\":{\"axis\":{\"id\":\"1016\"},\"ticker\":null},\"id\":\"1019\",\"type\":\"Grid\"},{\"attributes\":{},\"id\":\"1132\",\"type\":\"LinearScale\"},{\"attributes\":{\"below\":[{\"id\":\"1016\"}],\"center\":[{\"id\":\"1019\"},{\"id\":\"1023\"},{\"id\":\"1052\"}],\"height\":450,\"left\":[{\"id\":\"1020\"}],\"renderers\":[{\"id\":\"1040\"}],\"title\":{\"id\":\"1006\"},\"toolbar\":{\"id\":\"1030\"},\"width\":450,\"x_range\":{\"id\":\"1008\"},\"x_scale\":{\"id\":\"1012\"},\"y_range\":{\"id\":\"1010\"},\"y_scale\":{\"id\":\"1014\"}},\"id\":\"1005\",\"subtype\":\"Figure\",\"type\":\"Plot\"},{\"attributes\":{\"data\":{\"a\":{\"__ndarray__\":\"AAAAAAAAAAAAAAAAAAAAAAAAAAAAAAAAAAAAAAAAAAAAAAAAAAAAAAAAAAAAAAAAAAAAAAAAAAAAAAAAAAAAAAAAAAAAAAAAAAAAAAAAAAAAAAAAAAAAAAAAAAAAAAAAAAAAAAAAAAAAAAAAAAAAAAAAAAAAAAAAAAAAAAAAAAAAAAAAAAAAAAAAAAAAAAAAAAAAAAAAAAAAAAAAAAAAAAAAAAAAAAAAAAAAAAAAAAAAAAAAAAAAAAAAAAAAAAAAAAAAAAAAAAAAAAAAAAAAAAAAAAAAAAAAAAAAAAAAAAAAAAAAAAAAAAAAAAAAAAAAAAAAAAAAAAAAAAAAAAAAAAAAAAAAAAAAAAAAAAAA8D8AAAAAAADwPwAAAAAAAPA/AAAAAAAA8D8AAAAAAADwPwAAAAAAAPA/AAAAAAAA8D8AAAAAAADwPwAAAAAAAPA/AAAAAAAA8D8AAAAAAADwPwAAAAAAAPA/AAAAAAAA8D8AAAAAAADwPwAAAAAAAPA/AAAAAAAA8D8AAAAAAADwPwAAAAAAAPA/AAAAAAAA8D8AAAAAAADwPwAAAAAAAPA/AAAAAAAA8D8AAAAAAADwPwAAAAAAAPA/AAAAAAAA8D8AAAAAAADwPwAAAAAAAPA/AAAAAAAA8D8AAAAAAADwPwAAAAAAAPA/AAAAAAAA8D8AAAAAAADwPwAAAAAAAPA/AAAAAAAA8D8AAAAAAADwPwAAAAAAAPA/AAAAAAAA8D8AAAAAAADwPwAAAAAAAPA/AAAAAAAA8D8AAAAAAADwPwAAAAAAAPA/AAAAAAAA8D8AAAAAAADwPwAAAAAAAPA/AAAAAAAA8D8AAAAAAADwPwAAAAAAAPA/AAAAAAAA8D8AAAAAAADwPwAAAAAAAPA/AAAAAAAA8D8AAAAAAADwPwAAAAAAAPA/AAAAAAAA8D8AAAAAAADwPwAAAAAAAPA/AAAAAAAA8D8AAAAAAADwPwAAAAAAAPA/AAAAAAAA8D8AAAAAAADwPwAAAAAAAPA/AAAAAAAA8D8AAAAAAADwPwAAAAAAAPA/AAAAAAAA8D8=\",\"dtype\":\"float64\",\"order\":\"little\",\"shape\":[100]},\"x\":{\"__ndarray__\":\"mpmZmZmZuT/jR9soXzi9PxZ7DlySa8A/O1KvI/U6wj9gKVDrVwrEP4QA8bK62cU/qdeReh2pxz/OrjJCgHjJP/KF0wnjR8s/F1100UUXzT88NBWZqObOP7AFW7AFW9A/QnErFLdC0T/V3Pt3aCrSP2hIzNsZEtM/+rOcP8v50z+MH22jfOHUPx6LPQcuydU/sPYNa9+w1j9EYt7OkJjXP9bNrjJCgNg/aDl/lvNn2T/6pE/6pE/aP4wQIF5WN9s/HnzwwQcf3D+y58AluQbdP0RTkYlq7t0/1r5h7RvW3j9oKjJRzb3fP/1KgVq/UuA/xoBpDJjG4D+QtlG+cDrhP1nsOXBJruE/IiIiIiIi4j/rVwrU+pXiP7SN8oXTCeM/fcPaN6x94z9G+cLphPHjPxAvq5tdZeQ/2WSTTTbZ5D+imnv/Dk3lP2vQY7HnwOU/NAZMY8A05j/9OzQVmajmP8dxHMdxHOc/kKcEeUqQ5z9Z3ewqIwToPyIT1dz7d+g/60i9jtTr6D+0fqVArV/pP360jfKF0+k/R+p1pF5H6j8QIF5WN7vqP9lVRggQL+s/oosuuuii6z9rwRZswRbsPzX3/h2aiuw//iznz3L+7D/HYs+BS3LtP5CYtzMk5u0/Wc6f5fxZ7j8iBIiX1c3uP+w5cEmuQe8/tW9Y+4a17z+/UqDWrxTwP6RtlC+cTvA/iIiIiIiI8D9to3zhdMLwP1K+cDph/PA/Ntlkk0028T8b9FjsOXDxPwAPTUUmqvE/5ClBnhLk8T/JRDX3/h3yP61fKVDrV/I/knodqdeR8j93lRECxMvyP1uwBVuwBfM/QMv5s5w/8z8k5u0MiXnzPwkB4mV1s/M/7RvWvmHt8z/SNsoXTif0P7dRvnA6YfQ/m2yyySab9D+Ah6YiE9X0P2Simnv/DvU/Sb2O1OtI9T8u2IIt2IL1PxLzdobEvPU/9w1r37D29T/bKF84nTD2P8BDU5GJavY/pF5H6nWk9j+JeTtDYt72P26UL5xOGPc/Uq8j9TpS9z83yhdOJ4z3PxvlC6cTxvc/AAAAAAAA+D8=\",\"dtype\":\"float64\",\"order\":\"little\",\"shape\":[100]}},\"selected\":{\"id\":\"1168\"},\"selection_policy\":{\"id\":\"1167\"}},\"id\":\"1122\",\"type\":\"ColumnDataSource\"},{\"attributes\":{},\"id\":\"1128\",\"type\":\"DataRange1d\"},{\"attributes\":{},\"id\":\"1130\",\"type\":\"LinearScale\"},{\"attributes\":{\"axis_label\":\"Human capital in period 2\",\"formatter\":{\"id\":\"1164\"},\"major_label_policy\":{\"id\":\"1165\"},\"ticker\":{\"id\":\"1135\"}},\"id\":\"1134\",\"type\":\"LinearAxis\"},{\"attributes\":{\"text\":\"Expected utility in period 2 for optimal choice\"},\"id\":\"1006\",\"type\":\"Title\"},{\"attributes\":{},\"id\":\"1008\",\"type\":\"DataRange1d\"},{\"attributes\":{},\"id\":\"1135\",\"type\":\"BasicTicker\"},{\"attributes\":{},\"id\":\"1046\",\"type\":\"BasicTickFormatter\"},{\"attributes\":{\"axis\":{\"id\":\"1134\"},\"ticker\":null},\"id\":\"1137\",\"type\":\"Grid\"},{\"attributes\":{\"data_source\":{\"id\":\"1004\"},\"glyph\":{\"id\":\"1038\"},\"hover_glyph\":null,\"muted_glyph\":null,\"nonselection_glyph\":{\"id\":\"1039\"},\"view\":{\"id\":\"1041\"}},\"id\":\"1040\",\"type\":\"GlyphRenderer\"},{\"attributes\":{\"axis_label\":\"Utility\",\"formatter\":{\"id\":\"1043\"},\"major_label_policy\":{\"id\":\"1044\"},\"ticker\":{\"id\":\"1021\"}},\"id\":\"1020\",\"type\":\"LinearAxis\"},{\"attributes\":{},\"id\":\"1164\",\"type\":\"BasicTickFormatter\"},{\"attributes\":{},\"id\":\"1142\",\"type\":\"PanTool\"},{\"attributes\":{},\"id\":\"1047\",\"type\":\"AllLabels\"},{\"attributes\":{},\"id\":\"1025\",\"type\":\"WheelZoomTool\"},{\"attributes\":{\"axis_label\":\"Labour\",\"formatter\":{\"id\":\"1161\"},\"major_label_policy\":{\"id\":\"1162\"},\"ticker\":{\"id\":\"1139\"}},\"id\":\"1138\",\"type\":\"LinearAxis\"},{\"attributes\":{\"axis\":{\"id\":\"1020\"},\"dimension\":1,\"ticker\":null},\"id\":\"1023\",\"type\":\"Grid\"},{\"attributes\":{\"axis\":{\"id\":\"1138\"},\"dimension\":1,\"ticker\":null},\"id\":\"1141\",\"type\":\"Grid\"},{\"attributes\":{},\"id\":\"1165\",\"type\":\"AllLabels\"},{\"attributes\":{},\"id\":\"1021\",\"type\":\"BasicTicker\"},{\"attributes\":{},\"id\":\"1139\",\"type\":\"BasicTicker\"},{\"attributes\":{},\"id\":\"1143\",\"type\":\"WheelZoomTool\"},{\"attributes\":{},\"id\":\"1024\",\"type\":\"PanTool\"},{\"attributes\":{\"data_source\":{\"id\":\"1122\"},\"glyph\":{\"id\":\"1156\"},\"hover_glyph\":null,\"muted_glyph\":null,\"nonselection_glyph\":{\"id\":\"1157\"},\"view\":{\"id\":\"1159\"}},\"id\":\"1158\",\"type\":\"GlyphRenderer\"},{\"attributes\":{\"overlay\":{\"id\":\"1029\"}},\"id\":\"1026\",\"type\":\"BoxZoomTool\"},{\"attributes\":{},\"id\":\"1027\",\"type\":\"ResetTool\"},{\"attributes\":{\"overlay\":{\"id\":\"1147\"}},\"id\":\"1144\",\"type\":\"BoxZoomTool\"},{\"attributes\":{},\"id\":\"1028\",\"type\":\"SaveTool\"},{\"attributes\":{},\"id\":\"1145\",\"type\":\"ResetTool\"},{\"attributes\":{},\"id\":\"1146\",\"type\":\"SaveTool\"},{\"attributes\":{},\"id\":\"1049\",\"type\":\"UnionRenderers\"},{\"attributes\":{},\"id\":\"1050\",\"type\":\"Selection\"},{\"attributes\":{\"line_alpha\":0.1,\"line_color\":\"red\",\"line_width\":1.5,\"x\":{\"field\":\"x\"},\"y\":{\"field\":\"a\"}},\"id\":\"1157\",\"type\":\"Line\"},{\"attributes\":{\"bottom_units\":\"screen\",\"fill_alpha\":0.5,\"fill_color\":\"lightgrey\",\"left_units\":\"screen\",\"level\":\"overlay\",\"line_alpha\":1.0,\"line_color\":\"black\",\"line_dash\":[4,4],\"line_width\":2,\"right_units\":\"screen\",\"syncable\":false,\"top_units\":\"screen\"},\"id\":\"1029\",\"type\":\"BoxAnnotation\"},{\"attributes\":{\"bottom_units\":\"screen\",\"fill_alpha\":0.5,\"fill_color\":\"lightgrey\",\"left_units\":\"screen\",\"level\":\"overlay\",\"line_alpha\":1.0,\"line_color\":\"black\",\"line_dash\":[4,4],\"line_width\":2,\"right_units\":\"screen\",\"syncable\":false,\"top_units\":\"screen\"},\"id\":\"1147\",\"type\":\"BoxAnnotation\"},{\"attributes\":{},\"id\":\"1167\",\"type\":\"UnionRenderers\"},{\"attributes\":{},\"id\":\"1168\",\"type\":\"Selection\"},{\"attributes\":{\"label\":{\"value\":\"Expected utility from working\"},\"renderers\":[{\"id\":\"1091\"}]},\"id\":\"1104\",\"type\":\"LegendItem\"},{\"attributes\":{\"line_color\":\"red\",\"line_width\":1.5,\"x\":{\"field\":\"x\"},\"y\":{\"field\":\"a\"}},\"id\":\"1038\",\"type\":\"Line\"},{\"attributes\":{\"data_source\":{\"id\":\"1055\"},\"glyph\":{\"id\":\"1106\"},\"hover_glyph\":null,\"muted_glyph\":null,\"nonselection_glyph\":{\"id\":\"1107\"},\"view\":{\"id\":\"1109\"}},\"id\":\"1108\",\"type\":\"GlyphRenderer\"},{\"attributes\":{\"line_alpha\":0.1,\"line_color\":\"blue\",\"line_width\":1.5,\"x\":{\"field\":\"x\"},\"y\":{\"field\":\"b\"}},\"id\":\"1107\",\"type\":\"Line\"},{\"attributes\":{\"line_color\":\"blue\",\"line_width\":1.5,\"x\":{\"field\":\"x\"},\"y\":{\"field\":\"b\"}},\"id\":\"1106\",\"type\":\"Line\"},{\"attributes\":{\"source\":{\"id\":\"1055\"}},\"id\":\"1109\",\"type\":\"CDSView\"},{\"attributes\":{\"source\":{\"id\":\"1004\"}},\"id\":\"1041\",\"type\":\"CDSView\"},{\"attributes\":{\"active_multi\":null,\"tools\":[{\"id\":\"1003\"},{\"id\":\"1024\"},{\"id\":\"1025\"},{\"id\":\"1026\"},{\"id\":\"1027\"},{\"id\":\"1028\"}]},\"id\":\"1030\",\"type\":\"Toolbar\"},{\"attributes\":{\"label\":{\"value\":\"Expected utility from not working\"},\"renderers\":[{\"id\":\"1108\"}]},\"id\":\"1120\",\"type\":\"LegendItem\"},{\"attributes\":{\"active_multi\":null,\"tools\":[{\"id\":\"1121\"},{\"id\":\"1142\"},{\"id\":\"1143\"},{\"id\":\"1144\"},{\"id\":\"1145\"},{\"id\":\"1146\"}]},\"id\":\"1148\",\"type\":\"Toolbar\"},{\"attributes\":{\"children\":[{\"id\":\"1005\"},{\"id\":\"1056\"}]},\"id\":\"1172\",\"type\":\"Row\"},{\"attributes\":{\"items\":[{\"id\":\"1053\"}],\"location\":\"bottom_right\"},\"id\":\"1052\",\"type\":\"Legend\"},{\"attributes\":{\"line_alpha\":0.1,\"line_color\":\"red\",\"line_width\":1.5,\"x\":{\"field\":\"x\"},\"y\":{\"field\":\"a\"}},\"id\":\"1039\",\"type\":\"Line\"},{\"attributes\":{\"source\":{\"id\":\"1122\"}},\"id\":\"1159\",\"type\":\"CDSView\"},{\"attributes\":{\"line_color\":\"red\",\"line_width\":1.5,\"x\":{\"field\":\"x\"},\"y\":{\"field\":\"a\"}},\"id\":\"1156\",\"type\":\"Line\"}],\"root_ids\":[\"1173\"]},\"title\":\"Bokeh Application\",\"version\":\"2.3.2\"}};\n",
       "  var render_items = [{\"docid\":\"d5428011-b3f8-46f6-bf8a-d038b1328787\",\"notebook_comms_target\":\"1204\",\"root_ids\":[\"1173\"],\"roots\":{\"1173\":\"3d3c713e-776d-4f9e-a71e-91e9224055af\"}}];\n",
       "  root.Bokeh.embed.embed_items_notebook(docs_json, render_items);\n",
       "\n",
       "  }\n",
       "  if (root.Bokeh !== undefined) {\n",
       "    embed_document(root);\n",
       "  } else {\n",
       "    var attempts = 0;\n",
       "    var timer = setInterval(function(root) {\n",
       "      if (root.Bokeh !== undefined) {\n",
       "        clearInterval(timer);\n",
       "        embed_document(root);\n",
       "      } else {\n",
       "        attempts++;\n",
       "        if (attempts > 100) {\n",
       "          clearInterval(timer);\n",
       "          console.log(\"Bokeh: ERROR: Unable to run BokehJS code because BokehJS library is missing\");\n",
       "        }\n",
       "      }\n",
       "    }, 10, root)\n",
       "  }\n",
       "})(window);"
      ],
      "application/vnd.bokehjs_exec.v0+json": ""
     },
     "metadata": {
      "application/vnd.bokehjs_exec.v0+json": {
       "id": "1173"
      }
     },
     "output_type": "display_data"
    },
    {
     "data": {
      "text/html": [
       "<p><code>&lt;Bokeh Notebook handle for <strong>In[8]</strong>&gt;</code></p>"
      ],
      "text/plain": [
       "<bokeh.io.notebook.CommsHandle at 0x1cc3482a6d0>"
      ]
     },
     "execution_count": 8,
     "metadata": {},
     "output_type": "execute_result"
    }
   ],
   "source": [
    "p1 = Functions.plotting('Human capital in period 2',['Utility'],h_vec,[v2s],\n",
    "                        'Utility',legendlocation='bottom_right',\n",
    "                       title = 'Expected utility in period 2 for optimal choice')\n",
    "p2 = Functions.plotting('Human capital in period 2',['Expected utility from working',\n",
    "                        'Expected utility from not working'],h_vec,[v2(w*h_vec,1,gamma,rho),\n",
    "                        [v2(b,0,gamma,rho) for i in range(100)]],'Utility',legendlocation='bottom_right',\n",
    "                       title= 'Expected utility in period 2 depended on h2')\n",
    "p3 = Functions.plotting('Human capital in period 2',['Labour supply'],h_vec,[labour_supply],\n",
    "                        'Labour',legendlocation='bottom_right',\n",
    "                       title='Labour supply as a function of h2')\n",
    "\n",
    "show(column(row(p1,p2),p3),notebook_handle=True)"
   ]
  },
  {
   "cell_type": "markdown",
   "metadata": {},
   "source": [
    "We can se that the intersection point between not working and wokring, is exactly at the point where wage income exceeds unemployment benifits, when only considering utility in period 2."
   ]
  },
  {
   "cell_type": "markdown",
   "metadata": {},
   "source": [
    "**Question 2:** Solve the model in period 1 and illustrate the solution (including labor supply as a function of human capital). \n",
    "Problem:\n",
    "\n",
    "$$\n",
    "\\begin{eqnarray*}\n",
    "v_{1}(h_{1}) &=& \\max_{l_{1}} \\frac{c_1^{1-\\rho}}{1-\\rho} - \\gamma l_1 + \\beta\\mathbb{E}_{1}\\left[v_2(h_2)\\right]\n",
    "\\\\ & \\text{s.t.} & \\\\\n",
    "c_1 &=& w h_1 l_1 \\\\\n",
    "h_2 &=& h_1 + l_1 + \\begin{cases}\n",
    "0 & \\text{with prob. }0.5\\\\\n",
    "\\Delta & \\text{with prob. }0.5 \n",
    "\\end{cases}\\\\\n",
    "l_{1} &\\in& \\{0,1\\}\\\\\n",
    "\\end{eqnarray*}\n",
    "$$\n"
   ]
  },
  {
   "cell_type": "markdown",
   "metadata": {},
   "source": [
    "First we define basic functions from the equations given in the assignment."
   ]
  },
  {
   "cell_type": "code",
   "execution_count": 9,
   "metadata": {},
   "outputs": [],
   "source": [
    "def v1(l1,h1,b,w,rho,beta,gamma,Delta):\n",
    "    '''\n",
    "    Calculates the expected utility from period 1\n",
    "    \n",
    "    Args:\n",
    "        l1 (int)   : Either 0 (for not working) or 1 (for working)\n",
    "        h1 (float) : Inital amount of human capital\n",
    "        b (float)  : Unemployment benefits\n",
    "        w (float)  : Standard wage rate (income is calculated as the products between this and human capital)\n",
    "        rho,beta,gamma (floats) : Parameters\n",
    "        Delta (float) : Stochatic increase in human capital (with probability 0.5)\n",
    "        \n",
    "    Returns:\n",
    "        Utility (float): Expected utility in period 1\n",
    "    \n",
    "    '''\n",
    "    \n",
    "    # utility expected in period 2 is calculated as the mean of the two possible outcomes of increase in human capital:\n",
    "    h2 = h1 + l1\n",
    "    u2_good = solve_period_2(h2+Delta,b,rho,gamma)\n",
    "    u2_bad =solve_period_2(h2,b,rho,gamma)\n",
    "    expected_u2 = (u2_good+u2_bad)/2\n",
    "    \n",
    "    if l1==1:\n",
    "        utility = u(w*h1,rho)-gamma+beta*expected_u2\n",
    "        return utility\n",
    "    elif l1==0:\n",
    "        utility = u(b,rho)+beta*expected_u2\n",
    "        return utility\n",
    "    else:\n",
    "        print('l1 must be either 1 or 0')"
   ]
  },
  {
   "cell_type": "markdown",
   "metadata": {},
   "source": [
    "Then we define a function that compares the utility from wokring and not working, choosing the highest:"
   ]
  },
  {
   "cell_type": "code",
   "execution_count": 10,
   "metadata": {},
   "outputs": [],
   "source": [
    "def solve_period1(h1,b,w,rho,beta,gamma,Delta,output_utility=True):\n",
    "    '''\n",
    "    Solves the utility maximization problem in period 1, by comparing the two options\n",
    "    of the worker, and choosing the highest utility.\n",
    "    \n",
    "    Args:\n",
    "        Args:\n",
    "        h1 (float) : Inital amount of human capital\n",
    "        b (float)  : Unemployment benefits\n",
    "        w (float)  : Standard wage rate (income is calculated as the products between this and human capital)\n",
    "        rho,beta,gamma (floats) : Parameters\n",
    "        Delta (float) : Stochatic increase in human capital (with probability 0.5)\n",
    "        output_utility(bool): If True returns utility if False returns l1\n",
    "    \n",
    "    Returns:\n",
    "        Utility (float) : Net utility in period 2\n",
    "        l1 (int)        : Either 0 or 1, if 0 she decides not to work, if 1 she does work.\n",
    "        \n",
    "    '''\n",
    "    \n",
    "    u1_work = v1(1,h1,b,w,rho,beta,gamma,Delta)\n",
    "    u1_nowork = v1(0,h1,b,w,rho,beta,gamma,Delta)\n",
    "    \n",
    "    if u1_work > u1_nowork:\n",
    "        u1 = u1_work\n",
    "        l1 = 1\n",
    "    else:\n",
    "        u1 = u1_nowork\n",
    "        l1 = 0 \n",
    "    \n",
    "    if output_utility:\n",
    "        return u1\n",
    "    else:\n",
    "        return l1"
   ]
  },
  {
   "cell_type": "markdown",
   "metadata": {},
   "source": [
    "Then we plot our results:"
   ]
  },
  {
   "cell_type": "code",
   "execution_count": 11,
   "metadata": {},
   "outputs": [],
   "source": [
    "v1s = np.empty(100)\n",
    "labour_supply = np.empty(100)\n",
    "for i,h in enumerate(h_vec):\n",
    "    v1s[i] = solve_period1(h,b,w,rho,beta,gamma,Delta)\n",
    "    labour_supply[i] = solve_period1(h,b,w,rho,beta,gamma,Delta,output_utility=False)"
   ]
  },
  {
   "cell_type": "code",
   "execution_count": 12,
   "metadata": {},
   "outputs": [
    {
     "name": "stderr",
     "output_type": "stream",
     "text": [
      "BokehDeprecationWarning: 'legend' keyword is deprecated, use explicit 'legend_label', 'legend_field', or 'legend_group' keywords instead\n",
      "BokehDeprecationWarning: 'legend' keyword is deprecated, use explicit 'legend_label', 'legend_field', or 'legend_group' keywords instead\n",
      "BokehDeprecationWarning: 'legend' keyword is deprecated, use explicit 'legend_label', 'legend_field', or 'legend_group' keywords instead\n",
      "BokehDeprecationWarning: 'legend' keyword is deprecated, use explicit 'legend_label', 'legend_field', or 'legend_group' keywords instead\n"
     ]
    },
    {
     "data": {
      "text/html": [
       "\n",
       "\n",
       "\n",
       "\n",
       "\n",
       "\n",
       "  <div class=\"bk-root\" id=\"f537efe2-7a43-4bf4-bf75-ed08137f1563\" data-root-id=\"1525\"></div>\n"
      ]
     },
     "metadata": {},
     "output_type": "display_data"
    },
    {
     "data": {
      "application/javascript": [
       "(function(root) {\n",
       "  function embed_document(root) {\n",
       "    \n",
       "  var docs_json = {\"b32bc2b8-bf54-4a99-9e55-0e1cf38ba501\":{\"defs\":[],\"roots\":{\"references\":[{\"attributes\":{\"children\":[{\"id\":\"1524\"},{\"id\":\"1475\"}]},\"id\":\"1525\",\"type\":\"Column\"},{\"attributes\":{},\"id\":\"1364\",\"type\":\"LinearScale\"},{\"attributes\":{},\"id\":\"1401\",\"type\":\"UnionRenderers\"},{\"attributes\":{},\"id\":\"1519\",\"type\":\"UnionRenderers\"},{\"attributes\":{},\"id\":\"1402\",\"type\":\"Selection\"},{\"attributes\":{\"line_alpha\":0.1,\"line_color\":\"red\",\"line_width\":1.5,\"x\":{\"field\":\"x\"},\"y\":{\"field\":\"a\"}},\"id\":\"1391\",\"type\":\"Line\"},{\"attributes\":{},\"id\":\"1520\",\"type\":\"Selection\"},{\"attributes\":{\"line_color\":\"red\",\"line_width\":1.5,\"x\":{\"field\":\"x\"},\"y\":{\"field\":\"a\"}},\"id\":\"1390\",\"type\":\"Line\"},{\"attributes\":{},\"id\":\"1417\",\"type\":\"LinearScale\"},{\"attributes\":{\"axis\":{\"id\":\"1490\"},\"dimension\":1,\"ticker\":null},\"id\":\"1493\",\"type\":\"Grid\"},{\"attributes\":{\"items\":[{\"id\":\"1405\"}],\"location\":\"bottom_right\"},\"id\":\"1404\",\"type\":\"Legend\"},{\"attributes\":{},\"id\":\"1415\",\"type\":\"LinearScale\"},{\"attributes\":{\"label\":{\"value\":\"Expected utility from working in period 1\"},\"renderers\":[{\"id\":\"1443\"}]},\"id\":\"1456\",\"type\":\"LegendItem\"},{\"attributes\":{\"source\":{\"id\":\"1356\"}},\"id\":\"1393\",\"type\":\"CDSView\"},{\"attributes\":{\"data_source\":{\"id\":\"1407\"},\"glyph\":{\"id\":\"1458\"},\"hover_glyph\":null,\"muted_glyph\":null,\"nonselection_glyph\":{\"id\":\"1459\"},\"view\":{\"id\":\"1461\"}},\"id\":\"1460\",\"type\":\"GlyphRenderer\"},{\"attributes\":{\"line_alpha\":0.1,\"line_color\":\"blue\",\"line_width\":1.5,\"x\":{\"field\":\"x\"},\"y\":{\"field\":\"b\"}},\"id\":\"1459\",\"type\":\"Line\"},{\"attributes\":{\"axis_label\":\"Labour\",\"formatter\":{\"id\":\"1513\"},\"major_label_policy\":{\"id\":\"1514\"},\"ticker\":{\"id\":\"1491\"}},\"id\":\"1490\",\"type\":\"LinearAxis\"},{\"attributes\":{\"line_color\":\"blue\",\"line_width\":1.5,\"x\":{\"field\":\"x\"},\"y\":{\"field\":\"b\"}},\"id\":\"1458\",\"type\":\"Line\"},{\"attributes\":{\"source\":{\"id\":\"1407\"}},\"id\":\"1461\",\"type\":\"CDSView\"},{\"attributes\":{\"label\":{\"value\":\"Expected utility\"},\"renderers\":[{\"id\":\"1392\"}]},\"id\":\"1405\",\"type\":\"LegendItem\"},{\"attributes\":{\"label\":{\"value\":\"Labour supply in period 1\"},\"renderers\":[{\"id\":\"1510\"}]},\"id\":\"1523\",\"type\":\"LegendItem\"},{\"attributes\":{\"data_source\":{\"id\":\"1474\"},\"glyph\":{\"id\":\"1508\"},\"hover_glyph\":null,\"muted_glyph\":null,\"nonselection_glyph\":{\"id\":\"1509\"},\"view\":{\"id\":\"1511\"}},\"id\":\"1510\",\"type\":\"GlyphRenderer\"},{\"attributes\":{},\"id\":\"1495\",\"type\":\"WheelZoomTool\"},{\"attributes\":{},\"id\":\"1395\",\"type\":\"BasicTickFormatter\"},{\"attributes\":{\"text\":\"Labour supply as a function of h1\"},\"id\":\"1476\",\"type\":\"Title\"},{\"attributes\":{\"below\":[{\"id\":\"1419\"}],\"center\":[{\"id\":\"1422\"},{\"id\":\"1426\"},{\"id\":\"1455\"}],\"height\":450,\"left\":[{\"id\":\"1423\"}],\"renderers\":[{\"id\":\"1443\"},{\"id\":\"1460\"}],\"title\":{\"id\":\"1409\"},\"toolbar\":{\"id\":\"1433\"},\"width\":450,\"x_range\":{\"id\":\"1411\"},\"x_scale\":{\"id\":\"1415\"},\"y_range\":{\"id\":\"1413\"},\"y_scale\":{\"id\":\"1417\"}},\"id\":\"1408\",\"subtype\":\"Figure\",\"type\":\"Plot\"},{\"attributes\":{},\"id\":\"1396\",\"type\":\"AllLabels\"},{\"attributes\":{},\"id\":\"1411\",\"type\":\"DataRange1d\"},{\"attributes\":{\"text\":\"Expected utility in period 1\"},\"id\":\"1409\",\"type\":\"Title\"},{\"attributes\":{\"axis\":{\"id\":\"1486\"},\"ticker\":null},\"id\":\"1489\",\"type\":\"Grid\"},{\"attributes\":{\"data_source\":{\"id\":\"1407\"},\"glyph\":{\"id\":\"1441\"},\"hover_glyph\":null,\"muted_glyph\":null,\"nonselection_glyph\":{\"id\":\"1442\"},\"view\":{\"id\":\"1444\"}},\"id\":\"1443\",\"type\":\"GlyphRenderer\"},{\"attributes\":{},\"id\":\"1413\",\"type\":\"DataRange1d\"},{\"attributes\":{},\"id\":\"1398\",\"type\":\"BasicTickFormatter\"},{\"attributes\":{},\"id\":\"1478\",\"type\":\"DataRange1d\"},{\"attributes\":{},\"id\":\"1399\",\"type\":\"AllLabels\"},{\"attributes\":{},\"id\":\"1480\",\"type\":\"DataRange1d\"},{\"attributes\":{},\"id\":\"1491\",\"type\":\"BasicTicker\"},{\"attributes\":{},\"id\":\"1431\",\"type\":\"SaveTool\"},{\"attributes\":{\"axis_label\":\"Human capital in period 1\",\"formatter\":{\"id\":\"1516\"},\"major_label_policy\":{\"id\":\"1517\"},\"ticker\":{\"id\":\"1487\"}},\"id\":\"1486\",\"type\":\"LinearAxis\"},{\"attributes\":{\"active_multi\":null,\"tools\":[{\"id\":\"1473\"},{\"id\":\"1494\"},{\"id\":\"1495\"},{\"id\":\"1496\"},{\"id\":\"1497\"},{\"id\":\"1498\"}]},\"id\":\"1500\",\"type\":\"Toolbar\"},{\"attributes\":{},\"id\":\"1494\",\"type\":\"PanTool\"},{\"attributes\":{},\"id\":\"1482\",\"type\":\"LinearScale\"},{\"attributes\":{},\"id\":\"1366\",\"type\":\"LinearScale\"},{\"attributes\":{\"overlay\":{\"id\":\"1499\"}},\"id\":\"1496\",\"type\":\"BoxZoomTool\"},{\"attributes\":{},\"id\":\"1497\",\"type\":\"ResetTool\"},{\"attributes\":{},\"id\":\"1498\",\"type\":\"SaveTool\"},{\"attributes\":{\"below\":[{\"id\":\"1486\"}],\"center\":[{\"id\":\"1489\"},{\"id\":\"1493\"},{\"id\":\"1522\"}],\"height\":450,\"left\":[{\"id\":\"1490\"}],\"renderers\":[{\"id\":\"1510\"}],\"title\":{\"id\":\"1476\"},\"toolbar\":{\"id\":\"1500\"},\"width\":450,\"x_range\":{\"id\":\"1478\"},\"x_scale\":{\"id\":\"1482\"},\"y_range\":{\"id\":\"1480\"},\"y_scale\":{\"id\":\"1484\"}},\"id\":\"1475\",\"subtype\":\"Figure\",\"type\":\"Plot\"},{\"attributes\":{},\"id\":\"1484\",\"type\":\"LinearScale\"},{\"attributes\":{},\"id\":\"1487\",\"type\":\"BasicTicker\"},{\"attributes\":{\"label\":{\"value\":\"Expected utility from not working in period 1\"},\"renderers\":[{\"id\":\"1460\"}]},\"id\":\"1472\",\"type\":\"LegendItem\"},{\"attributes\":{\"bottom_units\":\"screen\",\"fill_alpha\":0.5,\"fill_color\":\"lightgrey\",\"left_units\":\"screen\",\"level\":\"overlay\",\"line_alpha\":1.0,\"line_color\":\"black\",\"line_dash\":[4,4],\"line_width\":2,\"right_units\":\"screen\",\"syncable\":false,\"top_units\":\"screen\"},\"id\":\"1432\",\"type\":\"BoxAnnotation\"},{\"attributes\":{},\"id\":\"1362\",\"type\":\"DataRange1d\"},{\"attributes\":{\"bottom_units\":\"screen\",\"fill_alpha\":0.5,\"fill_color\":\"lightgrey\",\"left_units\":\"screen\",\"level\":\"overlay\",\"line_alpha\":1.0,\"line_color\":\"black\",\"line_dash\":[4,4],\"line_width\":2,\"right_units\":\"screen\",\"syncable\":false,\"top_units\":\"screen\"},\"id\":\"1499\",\"type\":\"BoxAnnotation\"},{\"attributes\":{\"active_multi\":null,\"tools\":[{\"id\":\"1406\"},{\"id\":\"1427\"},{\"id\":\"1428\"},{\"id\":\"1429\"},{\"id\":\"1430\"},{\"id\":\"1431\"}]},\"id\":\"1433\",\"type\":\"Toolbar\"},{\"attributes\":{\"line_alpha\":0.1,\"line_color\":\"red\",\"line_width\":1.5,\"x\":{\"field\":\"x\"},\"y\":{\"field\":\"a\"}},\"id\":\"1442\",\"type\":\"Line\"},{\"attributes\":{\"line_color\":\"red\",\"line_width\":1.5,\"x\":{\"field\":\"x\"},\"y\":{\"field\":\"a\"}},\"id\":\"1441\",\"type\":\"Line\"},{\"attributes\":{\"items\":[{\"id\":\"1456\"},{\"id\":\"1472\"}],\"location\":\"bottom_right\"},\"id\":\"1455\",\"type\":\"Legend\"},{\"attributes\":{\"source\":{\"id\":\"1407\"}},\"id\":\"1444\",\"type\":\"CDSView\"},{\"attributes\":{\"line_alpha\":0.1,\"line_color\":\"red\",\"line_width\":1.5,\"x\":{\"field\":\"x\"},\"y\":{\"field\":\"a\"}},\"id\":\"1509\",\"type\":\"Line\"},{\"attributes\":{\"line_color\":\"red\",\"line_width\":1.5,\"x\":{\"field\":\"x\"},\"y\":{\"field\":\"a\"}},\"id\":\"1508\",\"type\":\"Line\"},{\"attributes\":{\"items\":[{\"id\":\"1523\"}],\"location\":\"bottom_right\"},\"id\":\"1522\",\"type\":\"Legend\"},{\"attributes\":{},\"id\":\"1446\",\"type\":\"BasicTickFormatter\"},{\"attributes\":{\"source\":{\"id\":\"1474\"}},\"id\":\"1511\",\"type\":\"CDSView\"},{\"attributes\":{},\"id\":\"1447\",\"type\":\"AllLabels\"},{\"attributes\":{\"callback\":null,\"tooltips\":[[\"Initial human capital\",\"@x{0.00}\"],[\"Expected utility from working in period 1\",\"@a{0.00}\"],[\"Expected utility from not working in period 1\",\"@b{0.00}\"]]},\"id\":\"1406\",\"type\":\"HoverTool\"},{\"attributes\":{\"data\":{\"a\":[-5.614181818181818,-4.989614033868915,-4.5017451552152785,-4.109888605176474,-3.788056088693258,-3.518869621069427,-3.2902680303741074,-3.093617789783811,-2.9225759321357856,-2.772377473363775,-2.6393732786325725,-2.52072136193618,-2.41417530292132,-2.3179359110145135,-2.230545126008358,-2.1508087598338155,-2.0777393290372825,-2.010513135645531,-1.9484376183101018,-1.89092621629689,-1.8374788037434444,-1.78766630521198,-1.7411184857854614,-1.69751417678037,-1.6565733883990454,-1.6180508975055856,-1.581730998325464,-1.5474231771716873,-1.5149585267922898,-1.4841867568300495,-1.4549736878530388,-1.4271991400617194,-1.4007551459784984,-1.3755444305381728,-1.3514791130178336,-1.3284795939075476,-1.3064735966758347,-1.2853953398373008,-1.2651848190942268,-1.2457871828358347,-1.2271521871194275,-1.2092337185663122,-1.1919893754907465,-1.1753800991266163,-1.1593698480905403,-1.143925310273901,-1.1290156472314319,-1.1146122668634733,-1.100688620799298,-1.087220023401255,-1.0741834897410452,-1.0615575902641456,-1.049322320167534,-1.0374589817787139,-1.0259500784481528,-1.0147792186588727,-1.0039310292212305,-0.993391076562154,-0.9831457952397809,-0.9731824229195996,-0.9634889411391975,-0.9540540212677321,-0.9448669751349457,-0.9359177098644345,-0.92719668649819,-0.9186948820452188,-0.9104037546271815,-0.9023152114292753,-0.8944215791956227,-0.8867155770358074,-0.8791902913333778,-0.8718391525685427,-0.8646559138862338,-0.8576346312575553,-0.8507696450976043,-0.8440555632159672,-0.8374872449880932,-0.8310597866463516,-0.8247685075990729,-0.8186089376943844,-0.8125768053532598,-0.8066680265030648,-0.8008786942490183,-0.7952050692265484,-0.7896435705825007,-0.7841907675376738,-0.7788433714872249,-0.7735982285991702,-0.7684523128745446,-0.7634027196358035,-0.7584466594127945,-0.753581452198123,-0.7488045220459947,-0.7441133919906882,-0.7395056792626872,-0.7349790907822138,-0.7305314189114775,-0.7261605374483739,-0.7218643978456858,-0.7176410256410257],\"b\":[-1.96,-1.96,-1.96,-1.96,-1.96,-1.96,-1.96,-1.96,-1.96,-1.96,-1.96,-1.96,-1.96,-1.96,-1.96,-1.96,-1.96,-1.96,-1.96,-1.96,-1.96,-1.96,-1.96,-1.96,-1.96,-1.96,-1.9507758007117437,-1.9405000000000001,-1.9307118644067796,-1.9213774834437087,-1.9124660194174756,-1.9039493670886076,-1.8958018575851394,-1.8795294117647057,-1.861739646497226,-1.8447444229478422,-1.8284913892078072,-1.8129327164238567,-1.79802461845733,-1.7837269317329332,-1.7700027466257744,-1.7568180831325209,-1.7441416047201574,-1.731944365192582,-1.7201995841995843,-1.7088824476650561,-1.6979699299559146,-1.6874406350695688,-1.677274654501543,-1.6674534397786553,-1.6579596879172462,-1.648777238298699,-1.639890979652704,-1.6312867660080452,-1.6229513406156901,-1.6148722669735327,-1.60703786618937,-1.5994371600112824,-1.5920598189346928,-1.5848961148648648,-1.5779368778740142,-1.571173456644816,-1.5645976822380585,-1.5582018348623854,-1.5519786133593012,-1.5459211071475851,-1.540022770398482,-1.5342773982370597,-1.528679104786332,-1.523222302889502,-1.517901685362319,-1.5127122076422874,-1.5076490717145976,-1.5027077112063292,-1.4978837775508893,-1.4931731271339626,-1.4885718093405627,-1.4840760554302288,-1.4796822681740964,-1.4753870121935697,-1.471187004945719,-1.4670791083053856,-1.4630603206983537,-1.4591277697439007,-1.4552787053686103,-1.451510493356555,-1.4478206093038888,-1.4442066329485348,-1.440666242848061,-1.4371972113810254,-1.4337974000490556,-1.4304647550587415,-1.4271973031640663,-1.423993147751606,-1.4208504651521021,-1.4177675011632636,-1.4147425677698051,-1.4117740400477792,-1.4088603532412198,-1.406],\"x\":{\"__ndarray__\":\"mpmZmZmZuT/jR9soXzi9PxZ7DlySa8A/O1KvI/U6wj9gKVDrVwrEP4QA8bK62cU/qdeReh2pxz/OrjJCgHjJP/KF0wnjR8s/F1100UUXzT88NBWZqObOP7AFW7AFW9A/QnErFLdC0T/V3Pt3aCrSP2hIzNsZEtM/+rOcP8v50z+MH22jfOHUPx6LPQcuydU/sPYNa9+w1j9EYt7OkJjXP9bNrjJCgNg/aDl/lvNn2T/6pE/6pE/aP4wQIF5WN9s/HnzwwQcf3D+y58AluQbdP0RTkYlq7t0/1r5h7RvW3j9oKjJRzb3fP/1KgVq/UuA/xoBpDJjG4D+QtlG+cDrhP1nsOXBJruE/IiIiIiIi4j/rVwrU+pXiP7SN8oXTCeM/fcPaN6x94z9G+cLphPHjPxAvq5tdZeQ/2WSTTTbZ5D+imnv/Dk3lP2vQY7HnwOU/NAZMY8A05j/9OzQVmajmP8dxHMdxHOc/kKcEeUqQ5z9Z3ewqIwToPyIT1dz7d+g/60i9jtTr6D+0fqVArV/pP360jfKF0+k/R+p1pF5H6j8QIF5WN7vqP9lVRggQL+s/oosuuuii6z9rwRZswRbsPzX3/h2aiuw//iznz3L+7D/HYs+BS3LtP5CYtzMk5u0/Wc6f5fxZ7j8iBIiX1c3uP+w5cEmuQe8/tW9Y+4a17z+/UqDWrxTwP6RtlC+cTvA/iIiIiIiI8D9to3zhdMLwP1K+cDph/PA/Ntlkk0028T8b9FjsOXDxPwAPTUUmqvE/5ClBnhLk8T/JRDX3/h3yP61fKVDrV/I/knodqdeR8j93lRECxMvyP1uwBVuwBfM/QMv5s5w/8z8k5u0MiXnzPwkB4mV1s/M/7RvWvmHt8z/SNsoXTif0P7dRvnA6YfQ/m2yyySab9D+Ah6YiE9X0P2Simnv/DvU/Sb2O1OtI9T8u2IIt2IL1PxLzdobEvPU/9w1r37D29T/bKF84nTD2P8BDU5GJavY/pF5H6nWk9j+JeTtDYt72P26UL5xOGPc/Uq8j9TpS9z83yhdOJ4z3PxvlC6cTxvc/AAAAAAAA+D8=\",\"dtype\":\"float64\",\"order\":\"little\",\"shape\":[100]}},\"selected\":{\"id\":\"1453\"},\"selection_policy\":{\"id\":\"1452\"}},\"id\":\"1407\",\"type\":\"ColumnDataSource\"},{\"attributes\":{\"callback\":null,\"tooltips\":[[\"Initial human capital\",\"@x{0.00}\"],[\"Expected utility\",\"@a{0.00}\"]]},\"id\":\"1355\",\"type\":\"HoverTool\"},{\"attributes\":{},\"id\":\"1513\",\"type\":\"BasicTickFormatter\"},{\"attributes\":{\"data\":{\"a\":{\"__ndarray__\":\"XI/C9Shc/79cj8L1KFz/v1yPwvUoXP+/XI/C9Shc/79cj8L1KFz/v1yPwvUoXP+/XI/C9Shc/79cj8L1KFz/v1yPwvUoXP+/XI/C9Shc/79cj8L1KFz/v1yPwvUoXP+/XI/C9Shc/79cj8L1KFz/v1yPwvUoXP+/XI/C9Shc/79cj8L1KFz/v1yPwvUoXP+/HwKP7Mws/7+ATiLZO0H+v6G9kixQZv2/6L7Q+0ea/L+2ja4On9v7v/FJHKAEKfu/nZDpGFOB+r+MzIBWieP5v2oJzinFTvm/oGUwzj7C+L9Y6PUmRT34v6Tc25w6v/e/tuhdfZJH979MHPfDztX2v9bmWjp+afa/zLN14DoC9r8MOPqPqJ/1v8vHk9FzQfW/mfas21Dn9L8ggzC0+pD0v3B81m8yPvS/5eSAir7u87/3SO5UaqLzv4tnp3QFWfO/dJiOc2MS87+O4+FcW87yvxpH2GXHjPK/xBZLoIRN8r8YgBi2chDyv3piHqxz1fG/6JjWq2uc8b8yCcHSQGXxv3505QbbL/G/yBTQzyP88L+CUYEzBsrwv4bl2pZumfC/GDckoUpq8L/+zUwiiTzwv+wdn/sZEPC/OSA/FdzJ778WJ7gr7nXvv0Jq73ZPJO+/RwSIwubU7r9Tyn5MnIfuvxrNqKpZPO6/xq1zsgnz7b9uBK9imKvtv5pgLM/yZe2/dvAIDgci7b+9tHgmxN/sv4Jr7wAan+y/OR+HWPlf7L8smoetUyLsv5Tv9Dgb5uu/VOYN4UKr678OYqUuvnHrv6j1Q0OBOeu/QJ8A0IAC67/gTwENsszqv5JWlbEKmOq/chTd7IBk6r+2ivNeCzLqv4JfjxKhAOq/oOcRdznQ6b9gm/tazKDpv0ogvuZRcum/lMDkl8JE6b9GyIw8Fxjpv+7OJ+9I7Oi/hXaCElHB6L+GnQpOKZfov2hsUIrLbei/Zge+7TFF6L8gBYLZVh3ov0gaqeY09ue/RrNj48bP57/XdnTQB6rnv9joxN7yhOe/1JsdbYNg57/Qkf8FtTznv0SbnF2DGee/4KzsT+r25r8=\",\"dtype\":\"float64\",\"order\":\"little\",\"shape\":[100]},\"x\":{\"__ndarray__\":\"mpmZmZmZuT/jR9soXzi9PxZ7DlySa8A/O1KvI/U6wj9gKVDrVwrEP4QA8bK62cU/qdeReh2pxz/OrjJCgHjJP/KF0wnjR8s/F1100UUXzT88NBWZqObOP7AFW7AFW9A/QnErFLdC0T/V3Pt3aCrSP2hIzNsZEtM/+rOcP8v50z+MH22jfOHUPx6LPQcuydU/sPYNa9+w1j9EYt7OkJjXP9bNrjJCgNg/aDl/lvNn2T/6pE/6pE/aP4wQIF5WN9s/HnzwwQcf3D+y58AluQbdP0RTkYlq7t0/1r5h7RvW3j9oKjJRzb3fP/1KgVq/UuA/xoBpDJjG4D+QtlG+cDrhP1nsOXBJruE/IiIiIiIi4j/rVwrU+pXiP7SN8oXTCeM/fcPaN6x94z9G+cLphPHjPxAvq5tdZeQ/2WSTTTbZ5D+imnv/Dk3lP2vQY7HnwOU/NAZMY8A05j/9OzQVmajmP8dxHMdxHOc/kKcEeUqQ5z9Z3ewqIwToPyIT1dz7d+g/60i9jtTr6D+0fqVArV/pP360jfKF0+k/R+p1pF5H6j8QIF5WN7vqP9lVRggQL+s/oosuuuii6z9rwRZswRbsPzX3/h2aiuw//iznz3L+7D/HYs+BS3LtP5CYtzMk5u0/Wc6f5fxZ7j8iBIiX1c3uP+w5cEmuQe8/tW9Y+4a17z+/UqDWrxTwP6RtlC+cTvA/iIiIiIiI8D9to3zhdMLwP1K+cDph/PA/Ntlkk0028T8b9FjsOXDxPwAPTUUmqvE/5ClBnhLk8T/JRDX3/h3yP61fKVDrV/I/knodqdeR8j93lRECxMvyP1uwBVuwBfM/QMv5s5w/8z8k5u0MiXnzPwkB4mV1s/M/7RvWvmHt8z/SNsoXTif0P7dRvnA6YfQ/m2yyySab9D+Ah6YiE9X0P2Simnv/DvU/Sb2O1OtI9T8u2IIt2IL1PxLzdobEvPU/9w1r37D29T/bKF84nTD2P8BDU5GJavY/pF5H6nWk9j+JeTtDYt72P26UL5xOGPc/Uq8j9TpS9z83yhdOJ4z3PxvlC6cTxvc/AAAAAAAA+D8=\",\"dtype\":\"float64\",\"order\":\"little\",\"shape\":[100]}},\"selected\":{\"id\":\"1402\"},\"selection_policy\":{\"id\":\"1401\"}},\"id\":\"1356\",\"type\":\"ColumnDataSource\"},{\"attributes\":{\"axis\":{\"id\":\"1368\"},\"ticker\":null},\"id\":\"1371\",\"type\":\"Grid\"},{\"attributes\":{},\"id\":\"1514\",\"type\":\"AllLabels\"},{\"attributes\":{},\"id\":\"1449\",\"type\":\"BasicTickFormatter\"},{\"attributes\":{},\"id\":\"1360\",\"type\":\"DataRange1d\"},{\"attributes\":{\"below\":[{\"id\":\"1368\"}],\"center\":[{\"id\":\"1371\"},{\"id\":\"1375\"},{\"id\":\"1404\"}],\"height\":450,\"left\":[{\"id\":\"1372\"}],\"renderers\":[{\"id\":\"1392\"}],\"title\":{\"id\":\"1358\"},\"toolbar\":{\"id\":\"1382\"},\"width\":450,\"x_range\":{\"id\":\"1360\"},\"x_scale\":{\"id\":\"1364\"},\"y_range\":{\"id\":\"1362\"},\"y_scale\":{\"id\":\"1366\"}},\"id\":\"1357\",\"subtype\":\"Figure\",\"type\":\"Plot\"},{\"attributes\":{\"callback\":null,\"tooltips\":[[\"Human capital in period 1\",\"@x{0.00}\"],[\"Labour supply in period 1\",\"@a{0.00}\"]]},\"id\":\"1473\",\"type\":\"HoverTool\"},{\"attributes\":{},\"id\":\"1450\",\"type\":\"AllLabels\"},{\"attributes\":{\"text\":\"Expected utility in period 1 for optimal choice\"},\"id\":\"1358\",\"type\":\"Title\"},{\"attributes\":{\"data\":{\"a\":{\"__ndarray__\":\"AAAAAAAAAAAAAAAAAAAAAAAAAAAAAAAAAAAAAAAAAAAAAAAAAAAAAAAAAAAAAAAAAAAAAAAAAAAAAAAAAAAAAAAAAAAAAAAAAAAAAAAAAAAAAAAAAAAAAAAAAAAAAAAAAAAAAAAAAAAAAAAAAAAAAAAAAAAAAAAAAAAAAAAAAAAAAAAAAAAAAAAAAAAAAAAAAAAAAAAA8D8AAAAAAADwPwAAAAAAAPA/AAAAAAAA8D8AAAAAAADwPwAAAAAAAPA/AAAAAAAA8D8AAAAAAADwPwAAAAAAAPA/AAAAAAAA8D8AAAAAAADwPwAAAAAAAPA/AAAAAAAA8D8AAAAAAADwPwAAAAAAAPA/AAAAAAAA8D8AAAAAAADwPwAAAAAAAPA/AAAAAAAA8D8AAAAAAADwPwAAAAAAAPA/AAAAAAAA8D8AAAAAAADwPwAAAAAAAPA/AAAAAAAA8D8AAAAAAADwPwAAAAAAAPA/AAAAAAAA8D8AAAAAAADwPwAAAAAAAPA/AAAAAAAA8D8AAAAAAADwPwAAAAAAAPA/AAAAAAAA8D8AAAAAAADwPwAAAAAAAPA/AAAAAAAA8D8AAAAAAADwPwAAAAAAAPA/AAAAAAAA8D8AAAAAAADwPwAAAAAAAPA/AAAAAAAA8D8AAAAAAADwPwAAAAAAAPA/AAAAAAAA8D8AAAAAAADwPwAAAAAAAPA/AAAAAAAA8D8AAAAAAADwPwAAAAAAAPA/AAAAAAAA8D8AAAAAAADwPwAAAAAAAPA/AAAAAAAA8D8AAAAAAADwPwAAAAAAAPA/AAAAAAAA8D8AAAAAAADwPwAAAAAAAPA/AAAAAAAA8D8AAAAAAADwPwAAAAAAAPA/AAAAAAAA8D8AAAAAAADwPwAAAAAAAPA/AAAAAAAA8D8AAAAAAADwPwAAAAAAAPA/AAAAAAAA8D8AAAAAAADwPwAAAAAAAPA/AAAAAAAA8D8AAAAAAADwPwAAAAAAAPA/AAAAAAAA8D8AAAAAAADwPwAAAAAAAPA/AAAAAAAA8D8AAAAAAADwPwAAAAAAAPA/AAAAAAAA8D8=\",\"dtype\":\"float64\",\"order\":\"little\",\"shape\":[100]},\"x\":{\"__ndarray__\":\"mpmZmZmZuT/jR9soXzi9PxZ7DlySa8A/O1KvI/U6wj9gKVDrVwrEP4QA8bK62cU/qdeReh2pxz/OrjJCgHjJP/KF0wnjR8s/F1100UUXzT88NBWZqObOP7AFW7AFW9A/QnErFLdC0T/V3Pt3aCrSP2hIzNsZEtM/+rOcP8v50z+MH22jfOHUPx6LPQcuydU/sPYNa9+w1j9EYt7OkJjXP9bNrjJCgNg/aDl/lvNn2T/6pE/6pE/aP4wQIF5WN9s/HnzwwQcf3D+y58AluQbdP0RTkYlq7t0/1r5h7RvW3j9oKjJRzb3fP/1KgVq/UuA/xoBpDJjG4D+QtlG+cDrhP1nsOXBJruE/IiIiIiIi4j/rVwrU+pXiP7SN8oXTCeM/fcPaN6x94z9G+cLphPHjPxAvq5tdZeQ/2WSTTTbZ5D+imnv/Dk3lP2vQY7HnwOU/NAZMY8A05j/9OzQVmajmP8dxHMdxHOc/kKcEeUqQ5z9Z3ewqIwToPyIT1dz7d+g/60i9jtTr6D+0fqVArV/pP360jfKF0+k/R+p1pF5H6j8QIF5WN7vqP9lVRggQL+s/oosuuuii6z9rwRZswRbsPzX3/h2aiuw//iznz3L+7D/HYs+BS3LtP5CYtzMk5u0/Wc6f5fxZ7j8iBIiX1c3uP+w5cEmuQe8/tW9Y+4a17z+/UqDWrxTwP6RtlC+cTvA/iIiIiIiI8D9to3zhdMLwP1K+cDph/PA/Ntlkk0028T8b9FjsOXDxPwAPTUUmqvE/5ClBnhLk8T/JRDX3/h3yP61fKVDrV/I/knodqdeR8j93lRECxMvyP1uwBVuwBfM/QMv5s5w/8z8k5u0MiXnzPwkB4mV1s/M/7RvWvmHt8z/SNsoXTif0P7dRvnA6YfQ/m2yyySab9D+Ah6YiE9X0P2Simnv/DvU/Sb2O1OtI9T8u2IIt2IL1PxLzdobEvPU/9w1r37D29T/bKF84nTD2P8BDU5GJavY/pF5H6nWk9j+JeTtDYt72P26UL5xOGPc/Uq8j9TpS9z83yhdOJ4z3PxvlC6cTxvc/AAAAAAAA+D8=\",\"dtype\":\"float64\",\"order\":\"little\",\"shape\":[100]}},\"selected\":{\"id\":\"1520\"},\"selection_policy\":{\"id\":\"1519\"}},\"id\":\"1474\",\"type\":\"ColumnDataSource\"},{\"attributes\":{},\"id\":\"1369\",\"type\":\"BasicTicker\"},{\"attributes\":{},\"id\":\"1377\",\"type\":\"WheelZoomTool\"},{\"attributes\":{\"axis_label\":\"Initial human capital\",\"formatter\":{\"id\":\"1398\"},\"major_label_policy\":{\"id\":\"1399\"},\"ticker\":{\"id\":\"1369\"}},\"id\":\"1368\",\"type\":\"LinearAxis\"},{\"attributes\":{},\"id\":\"1516\",\"type\":\"BasicTickFormatter\"},{\"attributes\":{\"data_source\":{\"id\":\"1356\"},\"glyph\":{\"id\":\"1390\"},\"hover_glyph\":null,\"muted_glyph\":null,\"nonselection_glyph\":{\"id\":\"1391\"},\"view\":{\"id\":\"1393\"}},\"id\":\"1392\",\"type\":\"GlyphRenderer\"},{\"attributes\":{\"axis_label\":\"Expexted utility\",\"formatter\":{\"id\":\"1395\"},\"major_label_policy\":{\"id\":\"1396\"},\"ticker\":{\"id\":\"1373\"}},\"id\":\"1372\",\"type\":\"LinearAxis\"},{\"attributes\":{\"axis\":{\"id\":\"1372\"},\"dimension\":1,\"ticker\":null},\"id\":\"1375\",\"type\":\"Grid\"},{\"attributes\":{},\"id\":\"1517\",\"type\":\"AllLabels\"},{\"attributes\":{},\"id\":\"1373\",\"type\":\"BasicTicker\"},{\"attributes\":{\"active_multi\":null,\"tools\":[{\"id\":\"1355\"},{\"id\":\"1376\"},{\"id\":\"1377\"},{\"id\":\"1378\"},{\"id\":\"1379\"},{\"id\":\"1380\"}]},\"id\":\"1382\",\"type\":\"Toolbar\"},{\"attributes\":{},\"id\":\"1376\",\"type\":\"PanTool\"},{\"attributes\":{\"overlay\":{\"id\":\"1381\"}},\"id\":\"1378\",\"type\":\"BoxZoomTool\"},{\"attributes\":{},\"id\":\"1379\",\"type\":\"ResetTool\"},{\"attributes\":{},\"id\":\"1380\",\"type\":\"SaveTool\"},{\"attributes\":{},\"id\":\"1428\",\"type\":\"WheelZoomTool\"},{\"attributes\":{},\"id\":\"1430\",\"type\":\"ResetTool\"},{\"attributes\":{\"axis\":{\"id\":\"1423\"},\"dimension\":1,\"ticker\":null},\"id\":\"1426\",\"type\":\"Grid\"},{\"attributes\":{\"children\":[{\"id\":\"1357\"},{\"id\":\"1408\"}]},\"id\":\"1524\",\"type\":\"Row\"},{\"attributes\":{},\"id\":\"1424\",\"type\":\"BasicTicker\"},{\"attributes\":{\"axis_label\":\"Utility\",\"formatter\":{\"id\":\"1446\"},\"major_label_policy\":{\"id\":\"1447\"},\"ticker\":{\"id\":\"1424\"}},\"id\":\"1423\",\"type\":\"LinearAxis\"},{\"attributes\":{\"overlay\":{\"id\":\"1432\"}},\"id\":\"1429\",\"type\":\"BoxZoomTool\"},{\"attributes\":{},\"id\":\"1420\",\"type\":\"BasicTicker\"},{\"attributes\":{\"axis\":{\"id\":\"1419\"},\"ticker\":null},\"id\":\"1422\",\"type\":\"Grid\"},{\"attributes\":{\"axis_label\":\"Initial human capital\",\"formatter\":{\"id\":\"1449\"},\"major_label_policy\":{\"id\":\"1450\"},\"ticker\":{\"id\":\"1420\"}},\"id\":\"1419\",\"type\":\"LinearAxis\"},{\"attributes\":{},\"id\":\"1427\",\"type\":\"PanTool\"},{\"attributes\":{\"bottom_units\":\"screen\",\"fill_alpha\":0.5,\"fill_color\":\"lightgrey\",\"left_units\":\"screen\",\"level\":\"overlay\",\"line_alpha\":1.0,\"line_color\":\"black\",\"line_dash\":[4,4],\"line_width\":2,\"right_units\":\"screen\",\"syncable\":false,\"top_units\":\"screen\"},\"id\":\"1381\",\"type\":\"BoxAnnotation\"},{\"attributes\":{},\"id\":\"1452\",\"type\":\"UnionRenderers\"},{\"attributes\":{},\"id\":\"1453\",\"type\":\"Selection\"}],\"root_ids\":[\"1525\"]},\"title\":\"Bokeh Application\",\"version\":\"2.3.2\"}};\n",
       "  var render_items = [{\"docid\":\"b32bc2b8-bf54-4a99-9e55-0e1cf38ba501\",\"notebook_comms_target\":\"1586\",\"root_ids\":[\"1525\"],\"roots\":{\"1525\":\"f537efe2-7a43-4bf4-bf75-ed08137f1563\"}}];\n",
       "  root.Bokeh.embed.embed_items_notebook(docs_json, render_items);\n",
       "\n",
       "  }\n",
       "  if (root.Bokeh !== undefined) {\n",
       "    embed_document(root);\n",
       "  } else {\n",
       "    var attempts = 0;\n",
       "    var timer = setInterval(function(root) {\n",
       "      if (root.Bokeh !== undefined) {\n",
       "        clearInterval(timer);\n",
       "        embed_document(root);\n",
       "      } else {\n",
       "        attempts++;\n",
       "        if (attempts > 100) {\n",
       "          clearInterval(timer);\n",
       "          console.log(\"Bokeh: ERROR: Unable to run BokehJS code because BokehJS library is missing\");\n",
       "        }\n",
       "      }\n",
       "    }, 10, root)\n",
       "  }\n",
       "})(window);"
      ],
      "application/vnd.bokehjs_exec.v0+json": ""
     },
     "metadata": {
      "application/vnd.bokehjs_exec.v0+json": {
       "id": "1525"
      }
     },
     "output_type": "display_data"
    },
    {
     "data": {
      "text/html": [
       "<p><code>&lt;Bokeh Notebook handle for <strong>In[12]</strong>&gt;</code></p>"
      ],
      "text/plain": [
       "<bokeh.io.notebook.CommsHandle at 0x1cc3486e970>"
      ]
     },
     "execution_count": 12,
     "metadata": {},
     "output_type": "execute_result"
    }
   ],
   "source": [
    "p1 = Functions.plotting('Initial human capital',['Expected utility'],\n",
    "                        h_vec,[v1s],'Expexted utility',legendlocation='bottom_right',\n",
    "                       title = 'Expected utility in period 1 for optimal choice')\n",
    "p2 = Functions.plotting('Initial human capital',['Expected utility from working in period 1',\n",
    "                        'Expected utility from not working in period 1'],h_vec,\n",
    "                        [[v1(1,h,b,w,rho,beta,gamma,Delta) for h in h_vec],\n",
    "                         [v1(0,h,b,w,rho,beta,gamma,Delta) for h in h_vec]],\n",
    "                       'Utility',legendlocation='bottom_right',\n",
    "                       title = 'Expected utility in period 1')\n",
    "p3 = Functions.plotting('Human capital in period 1',['Labour supply in period 1'],h_vec,[labour_supply],\n",
    "                        'Labour',legendlocation='bottom_right',\n",
    "                       title='Labour supply as a function of h1')\n",
    "\n",
    "show(column(row(p1,p2),p3),notebook_handle=True)"
   ]
  },
  {
   "cell_type": "markdown",
   "metadata": {},
   "source": [
    "Now we see that the worker requires less human capital to work that in period two.\n",
    "We also see that even if the worker decides not to work in period 1, for $h_{1}>0.45$ expected utilty is still rising with $h_{1}$ this is because the worker expects to work (if $h_{1}<0.55$, only in the good outcome) in period 2. "
   ]
  },
  {
   "cell_type": "markdown",
   "metadata": {},
   "source": [
    "**Question 3:** Will the worker never work if her potential wage income is lower than the unemployment benefits she can get? Explain and illustrate why or why not."
   ]
  },
  {
   "cell_type": "markdown",
   "metadata": {},
   "source": [
    "The answer is yes, intuitively it can be explained like this:\n",
    "In period 1 there are two payoffs from choosing to work, you have your wage income that you can spend on comsumption, but you also increase your human capital, enabling you to earn more in the following period. Thus if the positive effect on the utility in period 2 (given that you decide to work in period 2) from working in period 1, is greater than the negative utility-difference from working versus not-working in period 1. The worker will decide to work even though she will comsume less in period 1. <br>\n",
    "We can look at the utility for the two situations:<br>\n",
    "When deciding not to work:\n",
    "$$\n",
    "v1_{l_{1}=0} = \\frac{b^{1-\\rho}}{1-\\rho}  + \\beta\\mathbb{E}_{1}\\left[v_2(h_2)\\vert l_{1}=0\\right]\n",
    "$$\n",
    "When deciding to work:\n",
    "$$\n",
    "v1_{l_{1}=1} = \\frac{\\left(wh_{1}\\right)^{1-\\rho}}{1-\\rho} - \\gamma + \\beta\\mathbb{E}_{1}\\left[v_2(h_2)\\vert l_{1}=1\\right]\n",
    "$$\n",
    "Although $b>wh_{1}$, we can still have $v1_{l_{1}=0}>v1_{l_{1}=1}$ if $\\mathbb{E}_{1}\\left[v_2(h_2)\\vert l_{1}=0\\right]$ is sufficently larger than $\\mathbb{E}_{1}\\left[v_2(h_2)\\vert l_{1}=1\\right]$"
   ]
  },
  {
   "cell_type": "code",
   "execution_count": 13,
   "metadata": {},
   "outputs": [],
   "source": [
    "def info(h1, b,w,rho,beta,gamma,Delta):\n",
    "    '''\n",
    "    Prints our result for given inital values\n",
    "    so we can print them interactively for different\n",
    "    amounts of inital human capital.    \n",
    "    '''\n",
    "    \n",
    "    \n",
    "    u1_work = v1(1,h1,b,w,rho,beta,gamma,Delta)\n",
    "    u1_nowork = v1(0,h1,b,w,rho,beta,gamma,Delta)\n",
    "    wage_income_1 = w*h1\n",
    "    expected_wage_income_2_work = w*(h1+1+0.05)\n",
    "    expected_wage_income_2_nowork = w*(h1+0.05)\n",
    "    print(f'Benefit:                                                                            {b:.2f}')\n",
    "    print(f'Possible wage income in period 1:                                                   {wage_income_1:.2f}')\n",
    "    print(f'Expected wage income in period 2, given that the worker works in period 1:          {expected_wage_income_2_work:.2f}')\n",
    "    print(f'Expected wage income in period 2, given that the worker does not work in period 1:  {expected_wage_income_2_nowork:.2f}')\n",
    "    print('\\n')\n",
    "    print(f'Expected utility from not working:                                                  {u1_nowork:.4f}')\n",
    "    print(f'Expected utility from working:                                                      {u1_work:.4f}')\n",
    "    \n",
    "    print('\\n')\n",
    "    print('Conclusion:')\n",
    "    if b>wage_income_1:\n",
    "        print('Benefits are higer than possible wage income in period 1')\n",
    "    elif b==wage_income_1:\n",
    "        print('Benefits are equal to possible wage income in period 1')\n",
    "    else:\n",
    "        print('Possible wage income in period 1 is higher than benefits.')\n",
    "    if u1_work>u1_nowork:\n",
    "        print('The expected utility from working in period 1, is higher than from not working,\\\n",
    "        \\nthus the consumer decides to work.')\n",
    "    else:\n",
    "        print('The expected utility from working in period 1, is lower than from not working,\\\n",
    "        \\nthus the consumer decides not to work.')\n",
    "        \n",
    "inter_info = lambda h1 : info(h1, b,w,rho,beta,gamma,Delta)"
   ]
  },
  {
   "cell_type": "code",
   "execution_count": 14,
   "metadata": {},
   "outputs": [
    {
     "data": {
      "application/vnd.jupyter.widget-view+json": {
       "model_id": "31802612939441769e5f60e2a7601383",
       "version_major": 2,
       "version_minor": 0
      },
      "text/plain": [
       "interactive(children=(FloatSlider(value=0.5, description='h1', max=1.5, min=0.1, step=0.01), Output()), _dom_c…"
      ]
     },
     "metadata": {},
     "output_type": "display_data"
    }
   ],
   "source": [
    "widgets.interactive(inter_info, h1=widgets.FloatSlider(min=0.1,max=1.5,step=0.01,value=0.5))"
   ]
  },
  {
   "cell_type": "markdown",
   "metadata": {},
   "source": [
    "At $h_{1}=0.5$ benefits equals possible wage income in period 1. But for the worker to decide not to work in period one, requires: $h_{1}<0.36$"
   ]
  },
  {
   "cell_type": "code",
   "execution_count": 15,
   "metadata": {},
   "outputs": [
    {
     "name": "stderr",
     "output_type": "stream",
     "text": [
      "BokehDeprecationWarning: 'legend' keyword is deprecated, use explicit 'legend_label', 'legend_field', or 'legend_group' keywords instead\n",
      "BokehDeprecationWarning: 'legend' keyword is deprecated, use explicit 'legend_label', 'legend_field', or 'legend_group' keywords instead\n",
      "BokehDeprecationWarning: 'legend' keyword is deprecated, use explicit 'legend_label', 'legend_field', or 'legend_group' keywords instead\n"
     ]
    },
    {
     "data": {
      "text/html": [
       "\n",
       "\n",
       "\n",
       "\n",
       "\n",
       "\n",
       "  <div class=\"bk-root\" id=\"c19f0f37-e817-4a49-b0bf-b435a96b9474\" data-root-id=\"1739\"></div>\n"
      ]
     },
     "metadata": {},
     "output_type": "display_data"
    },
    {
     "data": {
      "application/javascript": [
       "(function(root) {\n",
       "  function embed_document(root) {\n",
       "    \n",
       "  var docs_json = {\"9b2ccb9b-9478-418e-8c2b-fb504392dbbf\":{\"defs\":[],\"roots\":{\"references\":[{\"attributes\":{\"below\":[{\"id\":\"1750\"}],\"center\":[{\"id\":\"1753\"},{\"id\":\"1757\"},{\"id\":\"1786\"}],\"height\":450,\"left\":[{\"id\":\"1754\"}],\"renderers\":[{\"id\":\"1774\"},{\"id\":\"1791\"},{\"id\":\"1807\"}],\"title\":{\"id\":\"1740\"},\"toolbar\":{\"id\":\"1764\"},\"width\":700,\"x_range\":{\"id\":\"1742\"},\"x_scale\":{\"id\":\"1746\"},\"y_range\":{\"id\":\"1744\"},\"y_scale\":{\"id\":\"1748\"}},\"id\":\"1739\",\"subtype\":\"Figure\",\"type\":\"Plot\"},{\"attributes\":{\"label\":{\"value\":\"Benefits\"},\"renderers\":[{\"id\":\"1774\"}]},\"id\":\"1787\",\"type\":\"LegendItem\"},{\"attributes\":{\"source\":{\"id\":\"1738\"}},\"id\":\"1792\",\"type\":\"CDSView\"},{\"attributes\":{\"callback\":null,\"tooltips\":[[\"Human capital in period 1\",\"@x{0.00}\"],[\"Benefits\",\"@a{0.00}\"],[\"Possible wage income\",\"@b{0.00}\"]]},\"id\":\"1737\",\"type\":\"HoverTool\"},{\"attributes\":{\"data\":{\"a\":[1,1,1,1,1,1,1,1,1,1,1,1,1,1,1,1,1,1,1,1,1,1,1,1,1,1,1,1,1,1,1,1,1,1,1,1,1,1,1,1,1,1,1,1,1,1,1,1,1,1,1,1,1,1,1,1,1,1,1,1,1,1,1,1,1,1,1,1,1,1,1,1,1,1,1,1,1,1,1,1,1,1,1,1,1,1,1,1,1,1,1,1,1,1,1,1,1,1,1,1],\"b\":[0.2,0.22828282828282828,0.25656565656565655,0.28484848484848485,0.31313131313131315,0.3414141414141414,0.3696969696969697,0.397979797979798,0.42626262626262623,0.45454545454545453,0.48282828282828283,0.5111111111111111,0.5393939393939393,0.5676767676767677,0.595959595959596,0.6242424242424243,0.6525252525252525,0.6808080808080808,0.709090909090909,0.7373737373737375,0.7656565656565657,0.793939393939394,0.8222222222222222,0.8505050505050504,0.8787878787878787,0.9070707070707071,0.9353535353535354,0.9636363636363636,0.9919191919191919,1.02020202020202,1.0484848484848484,1.0767676767676768,1.105050505050505,1.1333333333333333,1.1616161616161615,1.1898989898989898,1.218181818181818,1.2464646464646463,1.2747474747474747,1.303030303030303,1.3313131313131312,1.3595959595959595,1.3878787878787877,1.416161616161616,1.4444444444444444,1.4727272727272727,1.501010101010101,1.5292929292929291,1.5575757575757574,1.5858585858585856,1.614141414141414,1.6424242424242423,1.6707070707070706,1.6989898989898988,1.727272727272727,1.7555555555555553,1.7838383838383838,1.812121212121212,1.8404040404040403,1.8686868686868685,1.8969696969696968,1.925252525252525,1.9535353535353535,1.9818181818181817,2.01010101010101,2.0383838383838384,2.0666666666666664,2.094949494949495,2.1232323232323234,2.1515151515151514,2.17979797979798,2.2080808080808083,2.2363636363636363,2.264646464646465,2.292929292929293,2.3212121212121213,2.3494949494949497,2.3777777777777778,2.4060606060606062,2.4343434343434343,2.4626262626262627,2.4909090909090907,2.519191919191919,2.5474747474747477,2.5757575757575757,2.604040404040404,2.632323232323232,2.6606060606060606,2.688888888888889,2.717171717171717,2.7454545454545456,2.7737373737373736,2.802020202020202,2.83030303030303,2.8585858585858586,2.886868686868687,2.915151515151515,2.9434343434343435,2.9717171717171715,3.0],\"x\":{\"__ndarray__\":\"mpmZmZmZuT/jR9soXzi9PxZ7DlySa8A/O1KvI/U6wj9gKVDrVwrEP4QA8bK62cU/qdeReh2pxz/OrjJCgHjJP/KF0wnjR8s/F1100UUXzT88NBWZqObOP7AFW7AFW9A/QnErFLdC0T/V3Pt3aCrSP2hIzNsZEtM/+rOcP8v50z+MH22jfOHUPx6LPQcuydU/sPYNa9+w1j9EYt7OkJjXP9bNrjJCgNg/aDl/lvNn2T/6pE/6pE/aP4wQIF5WN9s/HnzwwQcf3D+y58AluQbdP0RTkYlq7t0/1r5h7RvW3j9oKjJRzb3fP/1KgVq/UuA/xoBpDJjG4D+QtlG+cDrhP1nsOXBJruE/IiIiIiIi4j/rVwrU+pXiP7SN8oXTCeM/fcPaN6x94z9G+cLphPHjPxAvq5tdZeQ/2WSTTTbZ5D+imnv/Dk3lP2vQY7HnwOU/NAZMY8A05j/9OzQVmajmP8dxHMdxHOc/kKcEeUqQ5z9Z3ewqIwToPyIT1dz7d+g/60i9jtTr6D+0fqVArV/pP360jfKF0+k/R+p1pF5H6j8QIF5WN7vqP9lVRggQL+s/oosuuuii6z9rwRZswRbsPzX3/h2aiuw//iznz3L+7D/HYs+BS3LtP5CYtzMk5u0/Wc6f5fxZ7j8iBIiX1c3uP+w5cEmuQe8/tW9Y+4a17z+/UqDWrxTwP6RtlC+cTvA/iIiIiIiI8D9to3zhdMLwP1K+cDph/PA/Ntlkk0028T8b9FjsOXDxPwAPTUUmqvE/5ClBnhLk8T/JRDX3/h3yP61fKVDrV/I/knodqdeR8j93lRECxMvyP1uwBVuwBfM/QMv5s5w/8z8k5u0MiXnzPwkB4mV1s/M/7RvWvmHt8z/SNsoXTif0P7dRvnA6YfQ/m2yyySab9D+Ah6YiE9X0P2Simnv/DvU/Sb2O1OtI9T8u2IIt2IL1PxLzdobEvPU/9w1r37D29T/bKF84nTD2P8BDU5GJavY/pF5H6nWk9j+JeTtDYt72P26UL5xOGPc/Uq8j9TpS9z83yhdOJ4z3PxvlC6cTxvc/AAAAAAAA+D8=\",\"dtype\":\"float64\",\"order\":\"little\",\"shape\":[100]}},\"selected\":{\"id\":\"1784\"},\"selection_policy\":{\"id\":\"1783\"}},\"id\":\"1738\",\"type\":\"ColumnDataSource\"},{\"attributes\":{\"label\":{\"value\":\"Possible wage income\"},\"renderers\":[{\"id\":\"1791\"}]},\"id\":\"1803\",\"type\":\"LegendItem\"},{\"attributes\":{},\"id\":\"1818\",\"type\":\"UnionRenderers\"},{\"attributes\":{\"data_source\":{\"id\":\"1804\"},\"glyph\":{\"id\":\"1805\"},\"hover_glyph\":null,\"muted_glyph\":null,\"nonselection_glyph\":{\"id\":\"1806\"},\"view\":{\"id\":\"1808\"}},\"id\":\"1807\",\"type\":\"GlyphRenderer\"},{\"attributes\":{},\"id\":\"1819\",\"type\":\"Selection\"},{\"attributes\":{\"data_source\":{\"id\":\"1738\"},\"glyph\":{\"id\":\"1772\"},\"hover_glyph\":null,\"muted_glyph\":null,\"nonselection_glyph\":{\"id\":\"1773\"},\"view\":{\"id\":\"1775\"}},\"id\":\"1774\",\"type\":\"GlyphRenderer\"},{\"attributes\":{},\"id\":\"1777\",\"type\":\"BasicTickFormatter\"},{\"attributes\":{},\"id\":\"1742\",\"type\":\"DataRange1d\"},{\"attributes\":{\"source\":{\"id\":\"1738\"}},\"id\":\"1775\",\"type\":\"CDSView\"},{\"attributes\":{},\"id\":\"1778\",\"type\":\"AllLabels\"},{\"attributes\":{\"bottom_units\":\"screen\",\"fill_alpha\":0.5,\"fill_color\":\"lightgrey\",\"left_units\":\"screen\",\"level\":\"overlay\",\"line_alpha\":1.0,\"line_color\":\"black\",\"line_dash\":[4,4],\"line_width\":2,\"right_units\":\"screen\",\"syncable\":false,\"top_units\":\"screen\"},\"id\":\"1763\",\"type\":\"BoxAnnotation\"},{\"attributes\":{\"text\":\"Comparing benefits with wage income\"},\"id\":\"1740\",\"type\":\"Title\"},{\"attributes\":{\"data\":{\"x\":[0.36868686868686873,0.36868686868686873,0.36868686868686873,0.36868686868686873,0.36868686868686873,0.36868686868686873,0.36868686868686873,0.36868686868686873,0.36868686868686873,0.36868686868686873,0.36868686868686873,0.36868686868686873,0.36868686868686873,0.36868686868686873,0.36868686868686873,0.36868686868686873,0.36868686868686873,0.36868686868686873,0.36868686868686873,0.36868686868686873,0.36868686868686873,0.36868686868686873,0.36868686868686873,0.36868686868686873,0.36868686868686873,0.36868686868686873,0.36868686868686873,0.36868686868686873,0.36868686868686873,0.36868686868686873,0.36868686868686873,0.36868686868686873,0.36868686868686873,0.36868686868686873,0.36868686868686873,0.36868686868686873,0.36868686868686873,0.36868686868686873,0.36868686868686873,0.36868686868686873,0.36868686868686873,0.36868686868686873,0.36868686868686873,0.36868686868686873,0.36868686868686873,0.36868686868686873,0.36868686868686873,0.36868686868686873,0.36868686868686873,0.36868686868686873,0.36868686868686873,0.36868686868686873,0.36868686868686873,0.36868686868686873,0.36868686868686873,0.36868686868686873,0.36868686868686873,0.36868686868686873,0.36868686868686873,0.36868686868686873,0.36868686868686873,0.36868686868686873,0.36868686868686873,0.36868686868686873,0.36868686868686873,0.36868686868686873,0.36868686868686873,0.36868686868686873,0.36868686868686873,0.36868686868686873,0.36868686868686873,0.36868686868686873,0.36868686868686873,0.36868686868686873,0.36868686868686873,0.36868686868686873,0.36868686868686873,0.36868686868686873,0.36868686868686873,0.36868686868686873,0.36868686868686873,0.36868686868686873,0.36868686868686873,0.36868686868686873,0.36868686868686873,0.36868686868686873,0.36868686868686873,0.36868686868686873,0.36868686868686873,0.36868686868686873,0.36868686868686873,0.36868686868686873,0.36868686868686873,0.36868686868686873,0.36868686868686873,0.36868686868686873,0.36868686868686873,0.36868686868686873,0.36868686868686873,0.36868686868686873],\"y\":{\"__ndarray__\":\"mpmZmZmZyT/jR9soXzjNPxZ7DlySa9A/O1KvI/U60j9gKVDrVwrUP4QA8bK62dU/qdeReh2p1z/OrjJCgHjZP/KF0wnjR9s/F1100UUX3T88NBWZqObeP7AFW7AFW+A/QnErFLdC4T/V3Pt3aCriP2hIzNsZEuM/+rOcP8v54z+MH22jfOHkPx6LPQcuyeU/sPYNa9+w5j9EYt7OkJjnP9bNrjJCgOg/aDl/lvNn6T/6pE/6pE/qP4wQIF5WN+s/HnzwwQcf7D+y58AluQbtP0RTkYlq7u0/1r5h7RvW7j9oKjJRzb3vP/1KgVq/UvA/xoBpDJjG8D+QtlG+cDrxP1nsOXBJrvE/IiIiIiIi8j/rVwrU+pXyP7SN8oXTCfM/fcPaN6x98z9G+cLphPHzPxAvq5tdZfQ/2WSTTTbZ9D+imnv/Dk31P2vQY7HnwPU/NAZMY8A09j/9OzQVmaj2P8dxHMdxHPc/kKcEeUqQ9z9Z3ewqIwT4PyIT1dz7d/g/60i9jtTr+D+0fqVArV/5P360jfKF0/k/R+p1pF5H+j8QIF5WN7v6P9lVRggQL/s/oosuuuii+z9rwRZswRb8PzX3/h2aivw//iznz3L+/D/HYs+BS3L9P5CYtzMk5v0/Wc6f5fxZ/j8iBIiX1c3+P+w5cEmuQf8/tW9Y+4a1/z+/UqDWrxQAQKRtlC+cTgBAiIiIiIiIAEBto3zhdMIAQFK+cDph/ABANtlkk002AUAb9FjsOXABQAAPTUUmqgFA5ClBnhLkAUDJRDX3/h0CQK1fKVDrVwJAknodqdeRAkB3lRECxMsCQFuwBVuwBQNAQMv5s5w/A0Ak5u0MiXkDQAkB4mV1swNA7RvWvmHtA0DSNsoXTicEQLdRvnA6YQRAm2yyySabBECAh6YiE9UEQGSimnv/DgVASb2O1OtIBUAu2IIt2IIFQBLzdobEvAVA9w1r37D2BUDbKF84nTAGQMBDU5GJagZApF5H6nWkBkCJeTtDYt4GQG6UL5xOGAdAUq8j9TpSB0A3yhdOJ4wHQBvlC6cTxgdAAAAAAAAACEA=\",\"dtype\":\"float64\",\"order\":\"little\",\"shape\":[100]}},\"selected\":{\"id\":\"1819\"},\"selection_policy\":{\"id\":\"1818\"}},\"id\":\"1804\",\"type\":\"ColumnDataSource\"},{\"attributes\":{\"x\":{\"field\":\"x\"},\"y\":{\"field\":\"y\"}},\"id\":\"1805\",\"type\":\"Line\"},{\"attributes\":{},\"id\":\"1748\",\"type\":\"LinearScale\"},{\"attributes\":{},\"id\":\"1783\",\"type\":\"UnionRenderers\"},{\"attributes\":{},\"id\":\"1744\",\"type\":\"DataRange1d\"},{\"attributes\":{},\"id\":\"1784\",\"type\":\"Selection\"},{\"attributes\":{},\"id\":\"1746\",\"type\":\"LinearScale\"},{\"attributes\":{\"axis_label\":\"Human capital in period 1\",\"formatter\":{\"id\":\"1780\"},\"major_label_policy\":{\"id\":\"1781\"},\"ticker\":{\"id\":\"1751\"}},\"id\":\"1750\",\"type\":\"LinearAxis\"},{\"attributes\":{},\"id\":\"1751\",\"type\":\"BasicTicker\"},{\"attributes\":{\"axis\":{\"id\":\"1750\"},\"ticker\":null},\"id\":\"1753\",\"type\":\"Grid\"},{\"attributes\":{},\"id\":\"1780\",\"type\":\"BasicTickFormatter\"},{\"attributes\":{\"source\":{\"id\":\"1804\"}},\"id\":\"1808\",\"type\":\"CDSView\"},{\"attributes\":{},\"id\":\"1759\",\"type\":\"WheelZoomTool\"},{\"attributes\":{\"axis_label\":\"Income\",\"formatter\":{\"id\":\"1777\"},\"major_label_policy\":{\"id\":\"1778\"},\"ticker\":{\"id\":\"1755\"}},\"id\":\"1754\",\"type\":\"LinearAxis\"},{\"attributes\":{},\"id\":\"1781\",\"type\":\"AllLabels\"},{\"attributes\":{\"axis\":{\"id\":\"1754\"},\"dimension\":1,\"ticker\":null},\"id\":\"1757\",\"type\":\"Grid\"},{\"attributes\":{},\"id\":\"1755\",\"type\":\"BasicTicker\"},{\"attributes\":{\"line_alpha\":0.1,\"x\":{\"field\":\"x\"},\"y\":{\"field\":\"y\"}},\"id\":\"1806\",\"type\":\"Line\"},{\"attributes\":{},\"id\":\"1758\",\"type\":\"PanTool\"},{\"attributes\":{\"active_multi\":null,\"tools\":[{\"id\":\"1737\"},{\"id\":\"1758\"},{\"id\":\"1759\"},{\"id\":\"1760\"},{\"id\":\"1761\"},{\"id\":\"1762\"}]},\"id\":\"1764\",\"type\":\"Toolbar\"},{\"attributes\":{\"overlay\":{\"id\":\"1763\"}},\"id\":\"1760\",\"type\":\"BoxZoomTool\"},{\"attributes\":{\"label\":{\"value\":\"Intersectionpoint between utility from working and from not working\"},\"renderers\":[{\"id\":\"1807\"}]},\"id\":\"1821\",\"type\":\"LegendItem\"},{\"attributes\":{},\"id\":\"1761\",\"type\":\"ResetTool\"},{\"attributes\":{},\"id\":\"1762\",\"type\":\"SaveTool\"},{\"attributes\":{\"items\":[{\"id\":\"1787\"},{\"id\":\"1803\"},{\"id\":\"1821\"}],\"location\":\"top_left\"},\"id\":\"1786\",\"type\":\"Legend\"},{\"attributes\":{\"data_source\":{\"id\":\"1738\"},\"glyph\":{\"id\":\"1789\"},\"hover_glyph\":null,\"muted_glyph\":null,\"nonselection_glyph\":{\"id\":\"1790\"},\"view\":{\"id\":\"1792\"}},\"id\":\"1791\",\"type\":\"GlyphRenderer\"},{\"attributes\":{\"line_alpha\":0.1,\"line_color\":\"red\",\"line_width\":1.5,\"x\":{\"field\":\"x\"},\"y\":{\"field\":\"a\"}},\"id\":\"1773\",\"type\":\"Line\"},{\"attributes\":{\"line_color\":\"red\",\"line_width\":1.5,\"x\":{\"field\":\"x\"},\"y\":{\"field\":\"a\"}},\"id\":\"1772\",\"type\":\"Line\"},{\"attributes\":{\"line_color\":\"blue\",\"line_width\":1.5,\"x\":{\"field\":\"x\"},\"y\":{\"field\":\"b\"}},\"id\":\"1789\",\"type\":\"Line\"},{\"attributes\":{\"line_alpha\":0.1,\"line_color\":\"blue\",\"line_width\":1.5,\"x\":{\"field\":\"x\"},\"y\":{\"field\":\"b\"}},\"id\":\"1790\",\"type\":\"Line\"}],\"root_ids\":[\"1739\"]},\"title\":\"Bokeh Application\",\"version\":\"2.3.2\"}};\n",
       "  var render_items = [{\"docid\":\"9b2ccb9b-9478-418e-8c2b-fb504392dbbf\",\"notebook_comms_target\":\"1894\",\"root_ids\":[\"1739\"],\"roots\":{\"1739\":\"c19f0f37-e817-4a49-b0bf-b435a96b9474\"}}];\n",
       "  root.Bokeh.embed.embed_items_notebook(docs_json, render_items);\n",
       "\n",
       "  }\n",
       "  if (root.Bokeh !== undefined) {\n",
       "    embed_document(root);\n",
       "  } else {\n",
       "    var attempts = 0;\n",
       "    var timer = setInterval(function(root) {\n",
       "      if (root.Bokeh !== undefined) {\n",
       "        clearInterval(timer);\n",
       "        embed_document(root);\n",
       "      } else {\n",
       "        attempts++;\n",
       "        if (attempts > 100) {\n",
       "          clearInterval(timer);\n",
       "          console.log(\"Bokeh: ERROR: Unable to run BokehJS code because BokehJS library is missing\");\n",
       "        }\n",
       "      }\n",
       "    }, 10, root)\n",
       "  }\n",
       "})(window);"
      ],
      "application/vnd.bokehjs_exec.v0+json": ""
     },
     "metadata": {
      "application/vnd.bokehjs_exec.v0+json": {
       "id": "1739"
      }
     },
     "output_type": "display_data"
    },
    {
     "data": {
      "text/html": [
       "<p><code>&lt;Bokeh Notebook handle for <strong>In[15]</strong>&gt;</code></p>"
      ],
      "text/plain": [
       "<bokeh.io.notebook.CommsHandle at 0x1cc3489f280>"
      ]
     },
     "execution_count": 15,
     "metadata": {},
     "output_type": "execute_result"
    }
   ],
   "source": [
    "p1 = Functions.plotting('Human capital in period 1',['Benefits', 'Possible wage income'],\n",
    "                        h_vec,[[b for h in h_vec],[h*w for h in h_vec]],'Income',\n",
    "                       title = 'Comparing benefits with wage income',\n",
    "                       legendlocation='top_left', width=700)\n",
    "p1.line(x=[h_vec[19] for i in range(100)],y=np.linspace(0.2,3,100),color='black',\n",
    "         legend= 'Intersectionpoint between utility from working and from not working')\n",
    "show(p1,notebook_handle=True)"
   ]
  },
  {
   "cell_type": "markdown",
   "metadata": {},
   "source": [
    "Before the black vertical line the total expected utility from not working in period 1 is higher than from working, after the black vertical total expected utility is higher for working. <br>\n",
    "Here the wage income in period 1 is lower than the benefit, but the expected total utility is still higher for working."
   ]
  },
  {
   "cell_type": "markdown",
   "metadata": {},
   "source": [
    "# 2. AS-AD model"
   ]
  },
  {
   "cell_type": "code",
   "execution_count": 16,
   "metadata": {},
   "outputs": [],
   "source": [
    "par = {}\n",
    "\n",
    "par['alpha'] = 5.76\n",
    "par['h'] = 0.5\n",
    "par['b'] = 0.5\n",
    "par['phi'] = 0\n",
    "par['gamma'] = 0.075"
   ]
  },
  {
   "cell_type": "markdown",
   "metadata": {},
   "source": [
    "**Question 1:** Use the ``sympy`` module to solve for the equilibrium values of output, $y_t$, and inflation, $\\pi_t$, (where AD = SRAS) given the parameters ($\\alpha$, $h$, $b$, $\\alpha$, $\\gamma$) and $y_{t-1}$ , $\\pi_{t-1}$, $v_t$, $s_t$, and $s_{t-1}$."
   ]
  },
  {
   "cell_type": "markdown",
   "metadata": {},
   "source": [
    "**AD-curve** is\n",
    "\n",
    "$$ \\pi_{t} = \\frac{1}{h\\alpha}\\left[v_{t} - (1+b\\alpha)y_{t}\\right]$$"
   ]
  },
  {
   "cell_type": "markdown",
   "metadata": {},
   "source": [
    "**SRAS-curve** is\n",
    "\n",
    "$$ \\pi_{t} = \\pi_{t-1} + \\gamma y_{t} - \\phi\\gamma y_{t-1} + s_{t} - \\phi s_{t-1} $$"
   ]
  },
  {
   "cell_type": "code",
   "execution_count": 17,
   "metadata": {},
   "outputs": [],
   "source": [
    "sm.init_printing(use_unicode=True)"
   ]
  },
  {
   "cell_type": "code",
   "execution_count": 18,
   "metadata": {},
   "outputs": [],
   "source": [
    "pi_t = sm.symbols('\\pi_{t}')\n",
    "h = sm.symbols('h')\n",
    "alpha = sm.symbols('\\\\alpha')\n",
    "v_t = sm.symbols('v_{t}')\n",
    "b = sm.symbols('b')\n",
    "y_t = sm.symbols('y_{t}')\n",
    "y_t1 = sm.symbols('y_{t-1}')\n",
    "pi_t1 = sm.symbols('\\pi_{t-1}')\n",
    "gamma = sm.symbols('\\gamma')\n",
    "phi = sm.symbols('phi')\n",
    "s_t = sm.symbols('s_t')\n",
    "s_t1 = sm.symbols('s_{t-1}')"
   ]
  },
  {
   "cell_type": "code",
   "execution_count": 19,
   "metadata": {},
   "outputs": [
    {
     "data": {
      "image/png": "[encoded data removed]",
      "text/latex": [
       "$\\displaystyle \\pi_{t} = \\frac{v_{t} - y_{t} \\left(\\alpha b + 1\\right)}{\\alpha h}$"
      ],
      "text/plain": [
       "          v_{t} - y_{t}⋅(\\alpha⋅b + 1)\n",
       "\\pi_{t} = ────────────────────────────\n",
       "                    \\alpha⋅h          "
      ]
     },
     "execution_count": 19,
     "metadata": {},
     "output_type": "execute_result"
    }
   ],
   "source": [
    "ad = sm.Eq(pi_t,1/(h*alpha)*(v_t-(1+b*alpha)*y_t))\n",
    "ad"
   ]
  },
  {
   "cell_type": "code",
   "execution_count": 20,
   "metadata": {},
   "outputs": [
    {
     "data": {
      "image/png": "[encoded data removed]",
      "text/latex": [
       "$\\displaystyle \\pi_{t} = - \\gamma \\phi y_{t-1} + \\gamma y_{t} + \\pi_{t-1} - \\phi s_{t-1} + s_{t}$"
      ],
      "text/plain": [
       "\\pi_{t} = -\\gamma⋅φ⋅y_{t-1} + \\gamma⋅y_{t} + \\pi_{t-1} - φ⋅s_{t-1} + sₜ"
      ]
     },
     "execution_count": 20,
     "metadata": {},
     "output_type": "execute_result"
    }
   ],
   "source": [
    "sras =sm.Eq(pi_t,pi_t1+gamma*y_t-phi*gamma*y_t1+s_t-phi*s_t1)\n",
    "sras"
   ]
  },
  {
   "cell_type": "markdown",
   "metadata": {},
   "source": [
    "We set the two equations equal to one another:"
   ]
  },
  {
   "cell_type": "code",
   "execution_count": 21,
   "metadata": {},
   "outputs": [
    {
     "data": {
      "image/png": "[encoded data removed]",
      "text/latex": [
       "$\\displaystyle \\frac{- \\alpha b y_{t} + v_{t} - y_{t}}{\\alpha h} = - \\gamma \\phi y_{t-1} + \\gamma y_{t} + \\pi_{t-1} - \\phi s_{t-1} + s_{t}$"
      ],
      "text/plain": [
       "-\\alpha⋅b⋅y_{t} + v_{t} - y_{t}                                               \n",
       "─────────────────────────────── = -\\gamma⋅φ⋅y_{t-1} + \\gamma⋅y_{t} + \\pi_{t-1}\n",
       "            \\alpha⋅h                                                          \n",
       "\n",
       "                 \n",
       " - φ⋅s_{t-1} + sₜ\n",
       "                 "
      ]
     },
     "execution_count": 21,
     "metadata": {},
     "output_type": "execute_result"
    }
   ],
   "source": [
    "pi_from_ad = sm.solve(ad,pi_t)[0]\n",
    "equilibrium_y = sras.subs(pi_t,pi_from_ad)\n",
    "equilibrium_y"
   ]
  },
  {
   "cell_type": "markdown",
   "metadata": {},
   "source": [
    "And solve for $y$ and $\\pi$ : "
   ]
  },
  {
   "cell_type": "code",
   "execution_count": 22,
   "metadata": {},
   "outputs": [
    {
     "data": {
      "image/png": "[encoded data removed]",
      "text/latex": [
       "$\\displaystyle y_{t} = \\frac{\\alpha \\gamma h \\phi y_{t-1} - \\alpha \\pi_{t-1} h + \\alpha h \\phi s_{t-1} - \\alpha h s_{t} + v_{t}}{\\alpha \\gamma h + \\alpha b + 1}$"
      ],
      "text/plain": [
       "        \\alpha⋅\\gamma⋅h⋅φ⋅y_{t-1} - \\alpha⋅\\pi_{t-1}⋅h + \\alpha⋅h⋅φ⋅s_{t-1} - \n",
       "y_{t} = ──────────────────────────────────────────────────────────────────────\n",
       "                                      \\alpha⋅\\gamma⋅h + \\alpha⋅b + 1          \n",
       "\n",
       "\\alpha⋅h⋅sₜ + v_{t}\n",
       "───────────────────\n",
       "                   "
      ]
     },
     "execution_count": 22,
     "metadata": {},
     "output_type": "execute_result"
    }
   ],
   "source": [
    "y_eq = sm.solve(equilibrium_y,y_t)[0]\n",
    "y_equation = sm.Eq(y_t,y_eq)\n",
    "# define as python function:\n",
    "_y_equilibrium = sm.lambdify((y_t1,pi_t1,v_t,s_t,s_t1,alpha,gamma,h,b,phi),y_eq)\n",
    "\n",
    "# print our solution symbolicaly \n",
    "y_equation"
   ]
  },
  {
   "cell_type": "code",
   "execution_count": 23,
   "metadata": {},
   "outputs": [
    {
     "data": {
      "image/png": "[encoded data removed]",
      "text/latex": [
       "$\\displaystyle \\pi_{t} = \\frac{- \\alpha \\gamma b \\phi y_{t-1} + \\alpha \\pi_{t-1} b - \\alpha b \\phi s_{t-1} + \\alpha b s_{t} - \\gamma \\phi y_{t-1} + \\gamma v_{t} + \\pi_{t-1} - \\phi s_{t-1} + s_{t}}{\\alpha \\gamma h + \\alpha b + 1}$"
      ],
      "text/plain": [
       "          -\\alpha⋅\\gamma⋅b⋅φ⋅y_{t-1} + \\alpha⋅\\pi_{t-1}⋅b - \\alpha⋅b⋅φ⋅s_{t-1}\n",
       "\\pi_{t} = ────────────────────────────────────────────────────────────────────\n",
       "                                                                    \\alpha⋅\\ga\n",
       "\n",
       " + \\alpha⋅b⋅sₜ - \\gamma⋅φ⋅y_{t-1} + \\gamma⋅v_{t} + \\pi_{t-1} - φ⋅s_{t-1} + sₜ\n",
       "─────────────────────────────────────────────────────────────────────────────\n",
       "mma⋅h + \\alpha⋅b + 1                                                         "
      ]
     },
     "execution_count": 23,
     "metadata": {},
     "output_type": "execute_result"
    }
   ],
   "source": [
    "equilibrium_pi_equation = ad.subs(y_t,y_eq)\n",
    "pi_equation = sm.Eq(pi_t,sm.solve(equilibrium_pi_equation,pi_t)[0])\n",
    "# define as python function:\n",
    "_pi_equilibrium = sm.lambdify((y_t1,pi_t1,v_t,s_t,s_t1,alpha,gamma,h,b,phi),sm.solve(equilibrium_pi_equation,pi_t)[0])\n",
    "# print our solution symbolicaly \n",
    "pi_equation"
   ]
  },
  {
   "cell_type": "markdown",
   "metadata": {},
   "source": [
    "If we insert phi=0 we get:"
   ]
  },
  {
   "cell_type": "code",
   "execution_count": 24,
   "metadata": {},
   "outputs": [
    {
     "data": {
      "image/png": "[encoded data removed]",
      "text/latex": [
       "$\\displaystyle y_{t} = \\frac{- \\alpha \\pi_{t-1} h - \\alpha h s_{t} + v_{t}}{\\alpha \\gamma h + \\alpha b + 1}$"
      ],
      "text/plain": [
       "        -\\alpha⋅\\pi_{t-1}⋅h - \\alpha⋅h⋅sₜ + v_{t}\n",
       "y_{t} = ─────────────────────────────────────────\n",
       "              \\alpha⋅\\gamma⋅h + \\alpha⋅b + 1     "
      ]
     },
     "execution_count": 24,
     "metadata": {},
     "output_type": "execute_result"
    }
   ],
   "source": [
    "y_equation.subs(phi,0)"
   ]
  },
  {
   "cell_type": "code",
   "execution_count": 25,
   "metadata": {},
   "outputs": [
    {
     "data": {
      "image/png": "[encoded data removed]",
      "text/latex": [
       "$\\displaystyle \\pi_{t} = \\frac{\\alpha \\pi_{t-1} b + \\alpha b s_{t} + \\gamma v_{t} + \\pi_{t-1} + s_{t}}{\\alpha \\gamma h + \\alpha b + 1}$"
      ],
      "text/plain": [
       "          \\alpha⋅\\pi_{t-1}⋅b + \\alpha⋅b⋅sₜ + \\gamma⋅v_{t} + \\pi_{t-1} + sₜ\n",
       "\\pi_{t} = ────────────────────────────────────────────────────────────────\n",
       "                           \\alpha⋅\\gamma⋅h + \\alpha⋅b + 1                 "
      ]
     },
     "execution_count": 25,
     "metadata": {},
     "output_type": "execute_result"
    }
   ],
   "source": [
    "pi_equation.subs(phi,0)"
   ]
  },
  {
   "cell_type": "markdown",
   "metadata": {},
   "source": [
    "\n",
    "**Question 2:** Find and illustrate the equilibrium when $y_{t-1} = \\pi_{t-1} = v_t = s_t = s_{t-1} = 0$. Illustrate how the equilibrium changes when instead $v_t = 0.1$."
   ]
  },
  {
   "cell_type": "code",
   "execution_count": 26,
   "metadata": {},
   "outputs": [
    {
     "data": {
      "image/png": "[encoded data removed]",
      "text/latex": [
       "$\\displaystyle y_{t} = 0$"
      ],
      "text/plain": [
       "y_{t} = 0"
      ]
     },
     "execution_count": 26,
     "metadata": {},
     "output_type": "execute_result"
    }
   ],
   "source": [
    "vars_0 = {}\n",
    "for var in [y_t1,pi_t1,v_t,s_t,s_t1]:\n",
    "    vars_0[var]=0\n",
    "    \n",
    "y_equation.subs(vars_0)"
   ]
  },
  {
   "cell_type": "code",
   "execution_count": 27,
   "metadata": {},
   "outputs": [
    {
     "data": {
      "image/png": "[encoded data removed]",
      "text/latex": [
       "$\\displaystyle \\pi_{t} = 0$"
      ],
      "text/plain": [
       "\\pi_{t} = 0"
      ]
     },
     "execution_count": 27,
     "metadata": {},
     "output_type": "execute_result"
    }
   ],
   "source": [
    "pi_equation.subs(vars_0)"
   ]
  },
  {
   "cell_type": "markdown",
   "metadata": {},
   "source": [
    "Thus, when there are no shocks and no earlier output or inflation gab, there will also be no gabs in the following period"
   ]
  },
  {
   "cell_type": "markdown",
   "metadata": {},
   "source": [
    "For $v_{t}=0.1$:"
   ]
  },
  {
   "cell_type": "code",
   "execution_count": 28,
   "metadata": {},
   "outputs": [],
   "source": [
    "vars_0[v_t]=0.1"
   ]
  },
  {
   "cell_type": "code",
   "execution_count": 29,
   "metadata": {},
   "outputs": [
    {
     "data": {
      "image/png": "[encoded data removed]",
      "text/latex": [
       "$\\displaystyle y_{t} = \\frac{0.1}{\\alpha \\gamma h + \\alpha b + 1}$"
      ],
      "text/plain": [
       "                     0.1              \n",
       "y_{t} = ──────────────────────────────\n",
       "        \\alpha⋅\\gamma⋅h + \\alpha⋅b + 1"
      ]
     },
     "execution_count": 29,
     "metadata": {},
     "output_type": "execute_result"
    }
   ],
   "source": [
    "y_v1 = y_equation.subs(vars_0)\n",
    "y_v1"
   ]
  },
  {
   "cell_type": "code",
   "execution_count": 30,
   "metadata": {},
   "outputs": [
    {
     "data": {
      "image/png": "[encoded data removed]",
      "text/latex": [
       "$\\displaystyle \\pi_{t} = \\frac{0.1 \\gamma}{\\alpha \\gamma h + \\alpha b + 1}$"
      ],
      "text/plain": [
       "                    0.1⋅\\gamma          \n",
       "\\pi_{t} = ──────────────────────────────\n",
       "          \\alpha⋅\\gamma⋅h + \\alpha⋅b + 1"
      ]
     },
     "execution_count": 30,
     "metadata": {},
     "output_type": "execute_result"
    }
   ],
   "source": [
    "pi_v1 = pi_equation.subs(vars_0)\n",
    "pi_v1"
   ]
  },
  {
   "cell_type": "markdown",
   "metadata": {},
   "source": [
    "Both $y_{t}$ and $\\pi_{t}$ is positvely afffected by demand_chocks in the current period.  "
   ]
  },
  {
   "cell_type": "markdown",
   "metadata": {},
   "source": [
    "Then we substitute the parameter values, to see the outcome given our model and parameter values:"
   ]
  },
  {
   "cell_type": "code",
   "execution_count": 31,
   "metadata": {},
   "outputs": [
    {
     "data": {
      "image/png": "[encoded data removed]",
      "text/latex": [
       "$\\displaystyle y_{t} = 0.0244140625$"
      ],
      "text/plain": [
       "y_{t} = 0.0244140625"
      ]
     },
     "execution_count": 31,
     "metadata": {},
     "output_type": "execute_result"
    }
   ],
   "source": [
    "paras = {}\n",
    "for var, value in zip([alpha,gamma,h,b],[par['alpha'],par['gamma'],par['h'],par['b']]):\n",
    "    paras[var]=value\n",
    "y_v1.subs(paras)"
   ]
  },
  {
   "cell_type": "code",
   "execution_count": 32,
   "metadata": {},
   "outputs": [
    {
     "data": {
      "image/png": "[encoded data removed]",
      "text/latex": [
       "$\\displaystyle \\pi_{t} = 0.0018310546875$"
      ],
      "text/plain": [
       "\\pi_{t} = 0.0018310546875"
      ]
     },
     "execution_count": 32,
     "metadata": {},
     "output_type": "execute_result"
    }
   ],
   "source": [
    "pi_v1.subs(paras)"
   ]
  },
  {
   "cell_type": "code",
   "execution_count": 33,
   "metadata": {},
   "outputs": [],
   "source": [
    "sm.init_printing(use_unicode=False) "
   ]
  },
  {
   "cell_type": "code",
   "execution_count": 34,
   "metadata": {},
   "outputs": [
    {
     "data": {
      "image/png": "[encoded data removed]",
      "text/latex": [
       "$\\displaystyle 0.0244140625$"
      ],
      "text/plain": [
       "0.0244140625"
      ]
     },
     "execution_count": 34,
     "metadata": {},
     "output_type": "execute_result"
    }
   ],
   "source": [
    "# We redifine our lambdifyed funtion to accept the par-dictionairy, and check that they give the same result:\n",
    "def y_equilibrium(y_t1,pi_t1,v_t,s_t,s_t1,par):\n",
    "    '''\n",
    "    Calculates the equilibrium outputgab using the analytical solution\n",
    "    derived in sympy.\n",
    "    \n",
    "    Args:\n",
    "        y_t1 (float)   : The outputgab in the previous period\n",
    "        pi_t1 (float)  : The inflationgab in the previous period\n",
    "        v_t (float)    : The demand chock in the current period\n",
    "        s_t (float)    : The supply chock in the current period\n",
    "        s_t1 (float)   : The supply chock in the previous period\n",
    "        par (dict)     : Dictionairy contaning values of parameters.\n",
    "    \n",
    "    Returns:\n",
    "        y_equil(float) : Equilibrium outputgab\n",
    "    '''\n",
    "    \n",
    "    y_equil = _y_equilibrium(y_t1,pi_t1,v_t,s_t,s_t1,par['alpha'],par['gamma'],par['h'],par['b'],par['phi'])\n",
    "    return y_equil\n",
    "\n",
    "assert y_equilibrium(0,0,0,0,0,par)==0\n",
    "y_equilibrium(0,0,0.1,0,0,par)"
   ]
  },
  {
   "cell_type": "code",
   "execution_count": 35,
   "metadata": {},
   "outputs": [
    {
     "data": {
      "image/png": "[encoded data removed]",
      "text/latex": [
       "$\\displaystyle 0.0018310546875$"
      ],
      "text/plain": [
       "0.0018310546875"
      ]
     },
     "execution_count": 35,
     "metadata": {},
     "output_type": "execute_result"
    }
   ],
   "source": [
    "def pi_equilibrium(y_t1,pi_t1,v_t,s_t,s_t1,par):\n",
    "    '''\n",
    "    Calculates the equilibrium inflation gab using the analytical solution\n",
    "    derived in sympy.\n",
    "    \n",
    "    Args:\n",
    "        y_t1 (float)   : The outputgab in the previous period\n",
    "        pi_t1 (float)  : The inflationgab in the previous period\n",
    "        v_t (float)    : The demand chock in the current period\n",
    "        s_t (float)    : The supply chock in the current period\n",
    "        s_t1 (float)   : The supply chock in the previous period\n",
    "        par (dict)     : Dictionairy contaning values of parameters.\n",
    "    \n",
    "    Returns:\n",
    "        pi_equil(float) : Equilibrium inflation gab\n",
    "    '''\n",
    "        \n",
    "    pi_equil = _pi_equilibrium(y_t1,pi_t1,v_t,s_t,s_t1,par['alpha'],par['gamma'],par['h'],par['b'],par['phi'])\n",
    "    return pi_equil\n",
    "\n",
    "assert pi_equilibrium(0,0,0,0,0,par)==0\n",
    "pi_equilibrium(0,0,0.1,0,0,par)"
   ]
  },
  {
   "cell_type": "markdown",
   "metadata": {},
   "source": [
    "Now we wish to visualize this, we start by plotting the AD and SRAS, with $y_{t-1} = \\pi_{t-1} = v_t = s_t = s_{t-1} = 0$:"
   ]
  },
  {
   "cell_type": "code",
   "execution_count": 36,
   "metadata": {},
   "outputs": [],
   "source": [
    "def ad(y_t,v_t,par):\n",
    "    '''\n",
    "    Aggregate demand\n",
    "    \n",
    "    Args:\n",
    "        y_t (float)   : Outputgab in current period\n",
    "        v_t (float)   : Demand chock in current period\n",
    "        par (dict)    : Dictionairy contaning values of parameters\n",
    "    Returns \n",
    "        ad (float)    : Aggregate demand\n",
    "    \n",
    "    '''\n",
    "    h = par['h']\n",
    "    alpha =par['alpha']\n",
    "    b = par['b']\n",
    "    \n",
    "    ad = 1/(h*alpha)*(v_t-(1+b*alpha)*y_t)\n",
    "    return ad\n",
    "\n",
    "def sras(y_t, y_t1,pi_t1,s_t,s_t1,par):\n",
    "    '''\n",
    "    Short run aggregate supply\n",
    "    \n",
    "    Args:\n",
    "        y_t (float)   : Outputgab in current period\n",
    "        y_t1 (float)  : The outputgab in the previous period\n",
    "        pi_t1 (float) : The inflationgab in the previous period\n",
    "        s_t (float)   : Supply chock in current period\n",
    "        s_t1 (float)  : Supply chock in previous period\n",
    "        par (dict)    : Dictionairy contaning values of parameters\n",
    "    Returns \n",
    "        sras (float)  : Short run aggregate supply    \n",
    "    '''\n",
    "    \n",
    "    phi = par['phi']\n",
    "    gamma = par['gamma']\n",
    "    sras = pi_t1+gamma*y_t-phi*gamma*y_t1+s_t-phi*s_t1\n",
    "    return sras"
   ]
  },
  {
   "cell_type": "code",
   "execution_count": 37,
   "metadata": {},
   "outputs": [],
   "source": [
    "# we find equilibrium path\n",
    "t = 41\n",
    "pis = [0,pi_equilibrium(0,0,0.1,0,0,par)]\n",
    "ys = [0,y_equilibrium(0,0,0.1,0,0,par)]\n",
    "\n",
    "for i in range(1,t):\n",
    "    ys.append(y_equilibrium(ys[i],pis[i],0,0,0,par))\n",
    "    pis.append(pi_equilibrium(ys[i],pis[i],0,0,0,par))"
   ]
  },
  {
   "cell_type": "code",
   "execution_count": 38,
   "metadata": {},
   "outputs": [],
   "source": [
    "y_gabs = np.linspace(-0.005,0.03,100)\n",
    "y_gabs = np.append(y_gabs,0)"
   ]
  },
  {
   "cell_type": "code",
   "execution_count": 39,
   "metadata": {},
   "outputs": [],
   "source": [
    "# We find the ad-and sras curves: \n",
    "# period 0:\n",
    "ads = [ad(y_gabs,0,par)]\n",
    "srass = [sras(y_gabs,0,0,0,0,par)]\n",
    "# append period 1:\n",
    "ads.append(ad(y_gabs,0.1,par))\n",
    "srass.append(sras(y_gabs,0,0,0,0,par))\n",
    "#append period 2-40:\n",
    "for i in range(2,t):\n",
    "    ads.append(ad(y_gabs,0,par))\n",
    "    srass.append(sras(y_gabs,ys[i],pis[i],0,0,par))\n"
   ]
  },
  {
   "cell_type": "code",
   "execution_count": 40,
   "metadata": {},
   "outputs": [
    {
     "name": "stderr",
     "output_type": "stream",
     "text": [
      "BokehDeprecationWarning: 'legend' keyword is deprecated, use explicit 'legend_label', 'legend_field', or 'legend_group' keywords instead\n",
      "BokehDeprecationWarning: 'legend' keyword is deprecated, use explicit 'legend_label', 'legend_field', or 'legend_group' keywords instead\n",
      "BokehDeprecationWarning: 'legend' keyword is deprecated, use explicit 'legend_label', 'legend_field', or 'legend_group' keywords instead\n",
      "BokehDeprecationWarning: 'legend' keyword is deprecated, use explicit 'legend_label', 'legend_field', or 'legend_group' keywords instead\n",
      "BokehDeprecationWarning: 'legend' keyword is deprecated, use explicit 'legend_label', 'legend_field', or 'legend_group' keywords instead\n",
      "BokehDeprecationWarning: 'legend' keyword is deprecated, use explicit 'legend_label', 'legend_field', or 'legend_group' keywords instead\n",
      "BokehDeprecationWarning: 'legend' keyword is deprecated, use explicit 'legend_label', 'legend_field', or 'legend_group' keywords instead\n",
      "BokehDeprecationWarning: 'legend' keyword is deprecated, use explicit 'legend_label', 'legend_field', or 'legend_group' keywords instead\n",
      "BokehDeprecationWarning: 'legend' keyword is deprecated, use explicit 'legend_label', 'legend_field', or 'legend_group' keywords instead\n"
     ]
    },
    {
     "data": {
      "text/html": [
       "\n",
       "\n",
       "\n",
       "\n",
       "\n",
       "\n",
       "  <div class=\"bk-root\" id=\"8334075a-4655-46eb-8ab9-7a209154a09c\" data-root-id=\"2183\"></div>\n"
      ]
     },
     "metadata": {},
     "output_type": "display_data"
    },
    {
     "data": {
      "application/javascript": [
       "(function(root) {\n",
       "  function embed_document(root) {\n",
       "    \n",
       "  var docs_json = {\"49348622-7c9d-4f27-b1e0-f6d6e14a1b98\":{\"defs\":[],\"roots\":{\"references\":[{\"attributes\":{\"children\":[{\"id\":\"1957\"},{\"id\":\"2024\"}]},\"id\":\"2183\",\"type\":\"Row\"},{\"attributes\":{\"data\":{\"x\":[0,0.0244140625,-0.0012874603271484373,-0.001219566911458969,-0.0011552538126124998,-0.0010943322248380125,-0.0010366232989188204,-0.0009819576171398983,-0.0009301746959235364,-0.0008811225146931937,-0.0008346570695824197,-0.0007906419506786594,-0.0007489479415608394,-0.0007094526399550919,-0.0006720400983949601,-0.0006366004838311633,-0.0006030297551916293,-0.0005712293579451956,-0.0005411059347723045,-0.0005125710514932961,-0.0004855409374497044,-0.00045993623957638015,-0.0004356817894424695,-0.00041270638257733926,-0.0003909425694336124,-0.00037032645737363666,-0.00035079752309807383,-0.0003322984349659488,-0.0003147748846845413,-0.00029817542787500493,-0.00028245133304565895,-0.00026755643852957925,-0.00025344701696649593,-0.00024008164693115332,-0.00022742109133126826,-0.00021542818221809593,-0.00020406771167143852,-0.000193306328438765,-0.00018311244002500204,-0.00017345611994555859,-0.00016430901987030453,-0.00015564428640058142],\"y\":[0,0.0018310546875,0.001734495162963867,0.0016430276446044443,0.0015563836086585068,0.0014743086917956558,0.0013965619443767443,0.0013229151230912518,0.0012531520208969866,0.001187067832294997,0.0011244685520763156,0.0010651704057754161,0.001008999310158353,0.0009557903621617211,0.000905387354782099,0.0008576423184947617,0.0008124150868553896,0.0007695728850094998,0.0007289899399015769,0.0006905471110395796,0.0006541315407308518,0.0006196363227626233,0.0005869601885544381,0.0005560072098611377,0.0005266865171536166,0.0004989120328505939,0.00047260221861823834,0.0004476798359957921,0.00042407171964445144,0.0004017085625538261,0.0003805247125754016,0.0003604579796856831,0.0003414494534131959,0.00032344332989335935,0.00030638674804351425,0.000290229634377157,0.00027492455600179914,0.0002604265813688918,0.0002466931483670167,0.00023368393937109978,0.00022136076288082693,0.00020968744140078332]},\"selected\":{\"id\":\"2180\"},\"selection_policy\":{\"id\":\"2179\"}},\"id\":\"2161\",\"type\":\"ColumnDataSource\"},{\"attributes\":{\"source\":{\"id\":\"2141\"}},\"id\":\"2145\",\"type\":\"CDSView\"},{\"attributes\":{\"fill_alpha\":{\"value\":0.1},\"fill_color\":{\"value\":\"black\"},\"line_alpha\":{\"value\":0.1},\"x\":{\"field\":\"x\"},\"y\":{\"field\":\"y\"}},\"id\":\"2163\",\"type\":\"Circle\"},{\"attributes\":{\"fill_alpha\":{\"value\":0.1},\"fill_color\":{\"value\":\"green\"},\"line_alpha\":{\"value\":0.1},\"line_color\":{\"value\":\"green\"},\"line_width\":{\"value\":3},\"x\":{\"field\":\"x\"},\"y\":{\"field\":\"y\"}},\"id\":\"2143\",\"type\":\"Circle\"},{\"attributes\":{\"data_source\":{\"id\":\"2141\"},\"glyph\":{\"id\":\"2142\"},\"hover_glyph\":null,\"muted_glyph\":null,\"nonselection_glyph\":{\"id\":\"2143\"},\"view\":{\"id\":\"2145\"}},\"id\":\"2144\",\"type\":\"GlyphRenderer\"},{\"attributes\":{\"label\":{\"value\":\"Equilibrium in period 1\"},\"renderers\":[{\"id\":\"2144\"}]},\"id\":\"2160\",\"type\":\"LegendItem\"},{\"attributes\":{\"label\":{\"value\":\"Equilibrium\"},\"renderers\":[{\"id\":\"2108\"}]},\"id\":\"2122\",\"type\":\"LegendItem\"},{\"attributes\":{},\"id\":\"2001\",\"type\":\"UnionRenderers\"},{\"attributes\":{\"data_source\":{\"id\":\"2105\"},\"glyph\":{\"id\":\"2106\"},\"hover_glyph\":null,\"muted_glyph\":null,\"nonselection_glyph\":{\"id\":\"2107\"},\"view\":{\"id\":\"2109\"}},\"id\":\"2108\",\"type\":\"GlyphRenderer\"},{\"attributes\":{},\"id\":\"2002\",\"type\":\"Selection\"},{\"attributes\":{\"source\":{\"id\":\"2105\"}},\"id\":\"2109\",\"type\":\"CDSView\"},{\"attributes\":{\"fill_alpha\":{\"value\":0.1},\"fill_color\":{\"value\":\"red\"},\"line_alpha\":{\"value\":0.1},\"line_color\":{\"value\":\"red\"},\"line_width\":{\"value\":3},\"x\":{\"field\":\"x\"},\"y\":{\"field\":\"y\"}},\"id\":\"2107\",\"type\":\"Circle\"},{\"attributes\":{},\"id\":\"2157\",\"type\":\"UnionRenderers\"},{\"attributes\":{},\"id\":\"2158\",\"type\":\"Selection\"},{\"attributes\":{\"label\":{\"value\":\"AD\"},\"renderers\":[{\"id\":\"1992\"}]},\"id\":\"2005\",\"type\":\"LegendItem\"},{\"attributes\":{\"source\":{\"id\":\"2023\"}},\"id\":\"2060\",\"type\":\"CDSView\"},{\"attributes\":{},\"id\":\"2119\",\"type\":\"UnionRenderers\"},{\"attributes\":{\"line_color\":\"red\",\"line_width\":1.5,\"x\":{\"field\":\"x\"},\"y\":{\"field\":\"a\"}},\"id\":\"2057\",\"type\":\"Line\"},{\"attributes\":{},\"id\":\"2120\",\"type\":\"Selection\"},{\"attributes\":{\"line_alpha\":0.1,\"line_color\":\"red\",\"line_width\":1.5,\"x\":{\"field\":\"x\"},\"y\":{\"field\":\"a\"}},\"id\":\"2058\",\"type\":\"Line\"},{\"attributes\":{\"data_source\":{\"id\":\"1956\"},\"glyph\":{\"id\":\"2007\"},\"hover_glyph\":null,\"muted_glyph\":null,\"nonselection_glyph\":{\"id\":\"2008\"},\"view\":{\"id\":\"2010\"}},\"id\":\"2009\",\"type\":\"GlyphRenderer\"},{\"attributes\":{\"line_alpha\":0.1,\"line_color\":\"blue\",\"line_width\":1.5,\"x\":{\"field\":\"x\"},\"y\":{\"field\":\"b\"}},\"id\":\"2008\",\"type\":\"Line\"},{\"attributes\":{\"items\":[{\"id\":\"2072\"},{\"id\":\"2088\"},{\"id\":\"2104\"},{\"id\":\"2140\"},{\"id\":\"2160\"},{\"id\":\"2182\"}]},\"id\":\"2071\",\"type\":\"Legend\"},{\"attributes\":{\"label\":{\"value\":\"Path of Equilibrium\"},\"renderers\":[{\"id\":\"2164\"}]},\"id\":\"2182\",\"type\":\"LegendItem\"},{\"attributes\":{\"line_color\":\"blue\",\"line_width\":1.5,\"x\":{\"field\":\"x\"},\"y\":{\"field\":\"b\"}},\"id\":\"2007\",\"type\":\"Line\"},{\"attributes\":{\"source\":{\"id\":\"1956\"}},\"id\":\"2010\",\"type\":\"CDSView\"},{\"attributes\":{\"data_source\":{\"id\":\"2161\"},\"glyph\":{\"id\":\"2162\"},\"hover_glyph\":null,\"muted_glyph\":null,\"nonselection_glyph\":{\"id\":\"2163\"},\"view\":{\"id\":\"2165\"}},\"id\":\"2164\",\"type\":\"GlyphRenderer\"},{\"attributes\":{\"label\":{\"value\":\"SRAS\"},\"renderers\":[{\"id\":\"2009\"}]},\"id\":\"2021\",\"type\":\"LegendItem\"},{\"attributes\":{\"fill_color\":{\"value\":\"green\"},\"line_color\":{\"value\":\"green\"},\"line_width\":{\"value\":3},\"x\":{\"field\":\"x\"},\"y\":{\"field\":\"y\"}},\"id\":\"2142\",\"type\":\"Circle\"},{\"attributes\":{\"source\":{\"id\":\"2161\"}},\"id\":\"2165\",\"type\":\"CDSView\"},{\"attributes\":{},\"id\":\"2040\",\"type\":\"BasicTicker\"},{\"attributes\":{\"source\":{\"id\":\"2123\"}},\"id\":\"2127\",\"type\":\"CDSView\"},{\"attributes\":{\"data\":{\"x\":[0.0244140625],\"y\":[0.0018310546875]},\"selected\":{\"id\":\"2158\"},\"selection_policy\":{\"id\":\"2157\"}},\"id\":\"2141\",\"type\":\"ColumnDataSource\"},{\"attributes\":{},\"id\":\"2027\",\"type\":\"DataRange1d\"},{\"attributes\":{\"fill_alpha\":{\"value\":0.1},\"fill_color\":{\"value\":\"red\"},\"line_alpha\":{\"value\":0.1},\"line_color\":{\"value\":\"red\"},\"line_width\":{\"value\":3},\"x\":{\"field\":\"x\"},\"y\":{\"field\":\"y\"}},\"id\":\"2125\",\"type\":\"Circle\"},{\"attributes\":{\"axis\":{\"id\":\"2039\"},\"dimension\":1,\"ticker\":null},\"id\":\"2042\",\"type\":\"Grid\"},{\"attributes\":{\"data_source\":{\"id\":\"2123\"},\"glyph\":{\"id\":\"2124\"},\"hover_glyph\":null,\"muted_glyph\":null,\"nonselection_glyph\":{\"id\":\"2125\"},\"view\":{\"id\":\"2127\"}},\"id\":\"2126\",\"type\":\"GlyphRenderer\"},{\"attributes\":{\"label\":{\"value\":\"Equilibrium in period 0\"},\"renderers\":[{\"id\":\"2126\"}]},\"id\":\"2140\",\"type\":\"LegendItem\"},{\"attributes\":{},\"id\":\"2180\",\"type\":\"Selection\"},{\"attributes\":{},\"id\":\"2179\",\"type\":\"UnionRenderers\"},{\"attributes\":{\"data\":{\"x\":[0],\"y\":[0]},\"selected\":{\"id\":\"2138\"},\"selection_policy\":{\"id\":\"2137\"}},\"id\":\"2123\",\"type\":\"ColumnDataSource\"},{\"attributes\":{\"below\":[{\"id\":\"2035\"}],\"center\":[{\"id\":\"2038\"},{\"id\":\"2042\"},{\"id\":\"2071\"}],\"height\":450,\"left\":[{\"id\":\"2039\"}],\"renderers\":[{\"id\":\"2059\"},{\"id\":\"2076\"},{\"id\":\"2092\"},{\"id\":\"2126\"},{\"id\":\"2144\"},{\"id\":\"2164\"}],\"title\":{\"id\":\"2025\"},\"toolbar\":{\"id\":\"2049\"},\"width\":450,\"x_range\":{\"id\":\"2027\"},\"x_scale\":{\"id\":\"2031\"},\"y_range\":{\"id\":\"2029\"},\"y_scale\":{\"id\":\"2033\"}},\"id\":\"2024\",\"subtype\":\"Figure\",\"type\":\"Plot\"},{\"attributes\":{\"text\":\"AS-AD with demand chock\"},\"id\":\"2025\",\"type\":\"Title\"},{\"attributes\":{\"axis_label\":\"Inflation gab\",\"formatter\":{\"id\":\"2062\"},\"major_label_policy\":{\"id\":\"2063\"},\"ticker\":{\"id\":\"2040\"}},\"id\":\"2039\",\"type\":\"LinearAxis\"},{\"attributes\":{},\"id\":\"2137\",\"type\":\"UnionRenderers\"},{\"attributes\":{\"fill_color\":{\"value\":\"red\"},\"line_color\":{\"value\":\"red\"},\"line_width\":{\"value\":3},\"x\":{\"field\":\"x\"},\"y\":{\"field\":\"y\"}},\"id\":\"2124\",\"type\":\"Circle\"},{\"attributes\":{},\"id\":\"2138\",\"type\":\"Selection\"},{\"attributes\":{\"fill_color\":{\"value\":\"red\"},\"line_color\":{\"value\":\"red\"},\"line_width\":{\"value\":3},\"x\":{\"field\":\"x\"},\"y\":{\"field\":\"y\"}},\"id\":\"2106\",\"type\":\"Circle\"},{\"attributes\":{},\"id\":\"2043\",\"type\":\"PanTool\"},{\"attributes\":{},\"id\":\"2033\",\"type\":\"LinearScale\"},{\"attributes\":{},\"id\":\"2029\",\"type\":\"DataRange1d\"},{\"attributes\":{},\"id\":\"2031\",\"type\":\"LinearScale\"},{\"attributes\":{\"axis_label\":\"Output gab\",\"formatter\":{\"id\":\"2065\"},\"major_label_policy\":{\"id\":\"2066\"},\"ticker\":{\"id\":\"2036\"}},\"id\":\"2035\",\"type\":\"LinearAxis\"},{\"attributes\":{},\"id\":\"2036\",\"type\":\"BasicTicker\"},{\"attributes\":{\"axis\":{\"id\":\"2035\"},\"ticker\":null},\"id\":\"2038\",\"type\":\"Grid\"},{\"attributes\":{\"fill_color\":{\"value\":\"black\"},\"x\":{\"field\":\"x\"},\"y\":{\"field\":\"y\"}},\"id\":\"2162\",\"type\":\"Circle\"},{\"attributes\":{},\"id\":\"2044\",\"type\":\"WheelZoomTool\"},{\"attributes\":{\"overlay\":{\"id\":\"2048\"}},\"id\":\"2045\",\"type\":\"BoxZoomTool\"},{\"attributes\":{\"overlay\":{\"id\":\"1981\"}},\"id\":\"1978\",\"type\":\"BoxZoomTool\"},{\"attributes\":{},\"id\":\"2046\",\"type\":\"ResetTool\"},{\"attributes\":{\"below\":[{\"id\":\"1968\"}],\"center\":[{\"id\":\"1971\"},{\"id\":\"1975\"},{\"id\":\"2004\"}],\"height\":450,\"left\":[{\"id\":\"1972\"}],\"renderers\":[{\"id\":\"1992\"},{\"id\":\"2009\"},{\"id\":\"2108\"}],\"title\":{\"id\":\"1958\"},\"toolbar\":{\"id\":\"1982\"},\"width\":450,\"x_range\":{\"id\":\"1960\"},\"x_scale\":{\"id\":\"1964\"},\"y_range\":{\"id\":\"1962\"},\"y_scale\":{\"id\":\"1966\"}},\"id\":\"1957\",\"subtype\":\"Figure\",\"type\":\"Plot\"},{\"attributes\":{},\"id\":\"2047\",\"type\":\"SaveTool\"},{\"attributes\":{\"data\":{\"a\":{\"__ndarray__\":\"QobKDlOXez9/ZSvA5aN5P7lEjHF4sHc/9iPtIgu9dT8yA07UnclzP27iroUw1nE/VIMfbobFbz/NQeHQq95rP0YAozPR92c/vL5klvYQZD82fSb5GypgP1t30LeChlg/SvRTfc24UD944q6FMNZBP+TiroUw1hE/lVOGyEjBOr/mLzzZDvxMvwGbGqe8S1a/FB6X4XEZXr+R0AmOk/NivxgSSCtu2ma/oVOGyEjBar8plcRlI6huv1hrgQF/R3G/HIwgUOw6c7/frL+eWS51v6PNXu3GIXe/aO79OzQVeb8rD52KoQh7v/AvPNkO/Hy/tFDbJ3zvfr+7OD27dHGAvx3JjGIra4G/gFncCeJkgr/h6SuxmF6Dv0R6e1hPWIS/pgrL/wVShb8HmxqnvEuGv2orak5zRYe/y7u59Sk/iL8sTAmd4DiJv5DcWESXMoq/8myo600si79S/feSBCaMv7aNRzq7H42/Fh6X4XEZjr94ruaIKBOPv20fG5hvBpC/nufC60qDkL/Pr2o/JgCRv/93EpMBfZG/MUC65tz5kb9iCGI6uHaSv5LQCY6T85K/xJix4W5wk7/1YFk1Su2TvyUpAYklapS/WPGo3ADnlL+IuVAw3GOVv7iB+IO34JW/60mg15Jdlr8bEkgrbtqWv0va735JV5e/fqKX0iTUl7+uaj8mAFGYv94y53nbzZi/D/uOzbZKmb9BwzYhkseZv3GL3nRtRJq/o1OGyEjBmr/UGy4cJD6bvwTk1W//upu/Nqx9w9o3nL9ndCUXtrScv5c8zWqRMZ2/yQR1vmyunb/5zBwSSCuevyqVxGUjqJ6/XF1suf4kn7+MJRQN2qGfv9/2XbBaD6C/99oxWshNoL8QvwUENoygvyij2a2jyqC/QYetVxEJob9Za4EBf0ehv3FPVavshaG/izMpVVrEob+jF/3+xwKiv7v70Kg1QaK/1N+kUqN/or/rw3j8EL6ivwSoTKZ+/KK/HYwgUOw6o781cPT5WXmjv05UyKPHt6O/ZzicTTX2o79/HHD3ojSkv5cARKEQc6S/seQXS36xpL8AAAAAAAAAAA==\",\"dtype\":\"float64\",\"order\":\"little\",\"shape\":[101]},\"b\":{\"__ndarray__\":\"+n5qvHSTOL8KSgMHm9Y2vxkVnFHBGTW/KuA0nOdcM786q83mDaAxv5TszGJoxi+/tIL+97RMLL/VGDCNAdMov/SuYSJOWSW/FEWTt5rfIb9ptomZzsscv6ni7MNn2BW/0B2g3AHKDb+m7MxiaMb/vmbtzGJoxs++YLEZSs7U9z4tgEbQNNEJP9UTwD0B3BM/mOdcE2jPGj+r3Xx0Z+EgP4pHS98aWyQ/bLEZSs7UJz9LG+i0gU4rPyqFth81yC4/hndCRfQgMT90rKn6zd0yP2XhELCnmjQ/VhZ4ZYFXNj9ES98aWxQ4PzWARtA00Tk/JrWthQ6OOz8U6hQ76Eo9PwUffPDBBz8/+6nx0k1iQD9yRKWtukBBP+reWIgnH0I/Y3kMY5T9Qj/ZE8A9AdxDP1OucxhuukQ/ykgn89qYRT9B49rNR3dGP7t9jqi0VUc/MhhCgyE0SD+psvVdjhJJPyNNqTj78Ek/mudcE2jPSj8RghDu1K1LP4kcxMhBjEw/Ard3o65qTT95USt+G0lOP/Dr3liIJ08/NUPJmfoCUD9xECMHMXJQP6zdfHRn4VA/6arW4Z1QUT8leDBP1L9RP2BFirwKL1I/nRLkKUGeUj/Z3z2Xdw1TPxStlwSufFM/UXrxceTrUz+NR0vfGltUP8gUpUxRylQ/BeL+uYc5VT9Br1gnvqhVP3x8spT0F1Y/uUkMAiuHVj/1FmZvYfZWPzDkv9yXZVc/bbEZSs7UVz+pfnO3BERYP+RLzSQ7s1g/IRknknEiWT9d5oD/p5FZP5iz2mzeAFo/1YA02hRwWj8RTo5HS99aP0wb6LSBTls/iehBIri9Wz/FtZuP7ixcPwCD9fwknFw/PVBPalsLXT94HanXkXpdP7TqAkXI6V0/8bdcsv5YXj8shbYfNcheP2hSEI1rN18/pR9q+qGmXz9w9uEz7ApgPw7djmqHQmA/rMM7oSJ6YD9KqujXvbFgP+iQlQ5Z6WA/hndCRfQgYT8kXu97j1hhP8JEnLIqkGE/YCtJ6cXHYT/+EfYfYf9hP5z4olb8NmI/O99PjZduYj8AAAAAAAAAAA==\",\"dtype\":\"float64\",\"order\":\"little\",\"shape\":[101]},\"c\":{\"__ndarray__\":\"Om2g0wY6pT8iicwpmfukPwml+H8rvaQ/8cAk1r1+pD/Z3FAsUECkP8D4fILiAaQ/pxSp2HTDoz+PMNUuB4WjP3ZMAYWZRqM/XWgt2ysIoz9FhFkxvsmiPy2ghYdQi6I/FLyx3eJMoj/8190zdQ6iP+PzCYoH0KE/yg824JmRoT+yK2I2LFOhP5pHjoy+FKE/gmO64lDWoD9pf+Y445egP1GbEo91WaA/OLc+5QcboD8+ptV2NLmfPw7eLSNZPJ8/3RWGz32/nj+rTd57okKeP3uFNijHxZ0/Sr2O1OtInT8Y9eaAEMycP+gsPy01T5w/t2SX2VnSmz+HnO+FflWbP1XURzKj2Jo/JAyg3sdbmj/zQ/iK7N6ZP8J7UDcRYpk/kLOo4zXlmD9g6wCQWmiYPy8jWTx/65c//1qx6KNulz/PkgmVyPGWP5zKYUHtdJY/awK67RH4lT87OhKaNnuVPwlyakZb/pQ/2anC8n+BlD+o4RqfpASUP3cZc0vJh5M/RVHL9+0Kkz8ViSOkEo6SP+XAe1A3EZI/svjT/FuUkT+CMCypgBeRP1FohFWlmpA/H6DcAcodkD/er2lc3UGPP30fGrUmSI4/GI/KDXBOjT+4/npmuVSMP1duK78CW4s/8t3bF0xhij+STYxwlWeJPzK9PMnebYg/zCztISh0hz9snJ16cXqGPwwMTtO6gIU/qXv+KwSHhD9G666ETY2DP+VaX92Wk4I/gsoPNuCZgT8fOsCOKaCAP35T4c7lTH8/uDJCgHhZfT/yEaMxC2Z7PzLxA+Odcnk/bNBklDB/dz+sr8VFw4t1P+aOJvdVmHM/IG6HqOikcT++mtCz9mJvPzJZkhYcfGs/phdUeUGVZz8m1hXcZq5jPzMpr30Yj18/G6YyQ2PBVz8zRmwRXOdPPzBAc5zxS0A/cjpH7+QQ9j5gmP2axtU9vzPSd8JNhk6/SGy4G9wQV78z7zRWkd5evya5WEgjVmO/svqW5f08Z78yPNWC2CNrv759EyCzCm+/pd+o3sZ4cb9mAEgtNGxzvywh53uhX3W/90GGyg5Td79yHMdxHMehPw==\",\"dtype\":\"float64\",\"order\":\"little\",\"shape\":[101]},\"x\":{\"__ndarray__\":\"exSuR+F6dL9eaC3bKwhzv0C8rG52lXG/IxAsAsEicL8MyFYrF2Btv9FvVVKsemq/lhdUeUGVZ79cv1Kg1q9kvyFnUcdrymG/zB2g3AHKXb9YbZ0qLP9Xv+K8mnhWNFK/2BgwjQHTSL/gb1VSrHo6v4BwVVKsegq/0BPAPQHcMz/QauUCrINFP9xldbOrjFA/VBZ4ZYFXVj/IxnoXVyJcP567vmSW9mA/2hPAPQHcYz8UbMEWbMFmP07Ewu/Wpmk/ihzEyEGMbD/CdMWhrHFvP39mY72LK3E/nRLkKUGecj+5vmSW9hB0P9dq5QKsg3U/9RZmb2H2dj8Rw+bbFml4Py9vZ0jM23k/TRvotIFOez9px2ghN8F8P4dz6Y3sM34/pR9q+qGmfz/gZXWzq4yAP/C7tWkGRoE//hH2H2H/gT8MaDbWu7iCPxy+dowWcoM/KhS3QnErhD84avf4y+SEP0jAN68mnoU/VhZ4ZYFXhj9kbLgb3BCHP3LC+NE2yoc/ghg5iJGDiD+Qbnk+7DyJP57EufRG9ok/rhr6qqGvij+8cDph/GiLP8rGehdXIow/2hy7zbHbjD/ocvuDDJWNP/bIOzpnTo4/Bh988MEHjz8UdbymHMGPP5Flfq47PZA/mZCeCemZkD+gu75klvaQP6fm3r9DU5E/rxH/GvGvkT+2PB92ngySP71nP9FLaZI/xZJfLPnFkj/MvX+HpiKTP9Pon+JTf5M/2xPAPQHckz/iPuCYrjiUP+lpAPRblZQ/8ZQgTwnylD/4v0Cqtk6VP//qYAVkq5U/BxaBYBEIlj8OQaG7vmSWPxVswRZswZY/HZfhcRkelz8kwgHNxnqXPyvtISh015c/MxhCgyE0mD86Q2LezpCYP0Fugjl87Zg/SZmilClKmT9QxMLv1qaZP1fv4kqEA5o/XxoDpjFgmj9mRSMB37yaP21wQ1yMGZs/dZtjtzl2mz97xoMS59KbP4Pxo22UL5w/ixzEyEGMnD+RR+Qj7+icP5lyBH+cRZ0/oZ0k2kminT+nyEQ19/6dP6/zZJCkW54/uB6F61G4nj8AAAAAAAAAAA==\",\"dtype\":\"float64\",\"order\":\"little\",\"shape\":[101]}},\"selected\":{\"id\":\"2069\"},\"selection_policy\":{\"id\":\"2068\"}},\"id\":\"2023\",\"type\":\"ColumnDataSource\"},{\"attributes\":{\"bottom_units\":\"screen\",\"fill_alpha\":0.5,\"fill_color\":\"lightgrey\",\"left_units\":\"screen\",\"level\":\"overlay\",\"line_alpha\":1.0,\"line_color\":\"black\",\"line_dash\":[4,4],\"line_width\":2,\"right_units\":\"screen\",\"syncable\":false,\"top_units\":\"screen\"},\"id\":\"1981\",\"type\":\"BoxAnnotation\"},{\"attributes\":{},\"id\":\"2063\",\"type\":\"AllLabels\"},{\"attributes\":{\"callback\":null,\"tooltips\":[[\"Output gab\",\"@x{0.00}\"],[\"AD\",\"@a{0.00}\"],[\"SRAS\",\"@b{0.00}\"]]},\"id\":\"1955\",\"type\":\"HoverTool\"},{\"attributes\":{\"axis_label\":\"Output gab\",\"formatter\":{\"id\":\"1998\"},\"major_label_policy\":{\"id\":\"1999\"},\"ticker\":{\"id\":\"1969\"}},\"id\":\"1968\",\"type\":\"LinearAxis\"},{\"attributes\":{},\"id\":\"2062\",\"type\":\"BasicTickFormatter\"},{\"attributes\":{\"data\":{\"a\":{\"__ndarray__\":\"QobKDlOXez9/ZSvA5aN5P7lEjHF4sHc/9iPtIgu9dT8yA07UnclzP27iroUw1nE/VIMfbobFbz/NQeHQq95rP0YAozPR92c/vL5klvYQZD82fSb5GypgP1t30LeChlg/SvRTfc24UD944q6FMNZBP+TiroUw1hE/lVOGyEjBOr/mLzzZDvxMvwGbGqe8S1a/FB6X4XEZXr+R0AmOk/NivxgSSCtu2ma/oVOGyEjBar8plcRlI6huv1hrgQF/R3G/HIwgUOw6c7/frL+eWS51v6PNXu3GIXe/aO79OzQVeb8rD52KoQh7v/AvPNkO/Hy/tFDbJ3zvfr8=\",\"dtype\":\"float64\",\"order\":\"little\",\"shape\":[31]},\"b\":{\"__ndarray__\":\"+n5qvHSTOL8KSgMHm9Y2vxkVnFHBGTW/KuA0nOdcM786q83mDaAxv5TszGJoxi+/tIL+97RMLL/VGDCNAdMov/SuYSJOWSW/FEWTt5rfIb9ptomZzsscv6ni7MNn2BW/0B2g3AHKDb+m7MxiaMb/vmbtzGJoxs++YLEZSs7U9z4tgEbQNNEJP9UTwD0B3BM/mOdcE2jPGj+r3Xx0Z+EgP4pHS98aWyQ/bLEZSs7UJz9LG+i0gU4rPyqFth81yC4/hndCRfQgMT90rKn6zd0yP2XhELCnmjQ/VhZ4ZYFXNj9ES98aWxQ4PzWARtA00Tk/JrWthQ6OOz8=\",\"dtype\":\"float64\",\"order\":\"little\",\"shape\":[31]},\"x\":{\"__ndarray__\":\"exSuR+F6dL9eaC3bKwhzv0C8rG52lXG/IxAsAsEicL8MyFYrF2Btv9FvVVKsemq/lhdUeUGVZ79cv1Kg1q9kvyFnUcdrymG/zB2g3AHKXb9YbZ0qLP9Xv+K8mnhWNFK/2BgwjQHTSL/gb1VSrHo6v4BwVVKsegq/0BPAPQHcMz/QauUCrINFP9xldbOrjFA/VBZ4ZYFXVj/IxnoXVyJcP567vmSW9mA/2hPAPQHcYz8UbMEWbMFmP07Ewu/Wpmk/ihzEyEGMbD/CdMWhrHFvP39mY72LK3E/nRLkKUGecj+5vmSW9hB0P9dq5QKsg3U/9RZmb2H2dj8=\",\"dtype\":\"float64\",\"order\":\"little\",\"shape\":[31]}},\"selected\":{\"id\":\"2002\"},\"selection_policy\":{\"id\":\"2001\"}},\"id\":\"1956\",\"type\":\"ColumnDataSource\"},{\"attributes\":{},\"id\":\"1962\",\"type\":\"DataRange1d\"},{\"attributes\":{},\"id\":\"2068\",\"type\":\"UnionRenderers\"},{\"attributes\":{\"text\":\"AS-AD-model\"},\"id\":\"1958\",\"type\":\"Title\"},{\"attributes\":{},\"id\":\"2069\",\"type\":\"Selection\"},{\"attributes\":{\"bottom_units\":\"screen\",\"fill_alpha\":0.5,\"fill_color\":\"lightgrey\",\"left_units\":\"screen\",\"level\":\"overlay\",\"line_alpha\":1.0,\"line_color\":\"black\",\"line_dash\":[4,4],\"line_width\":2,\"right_units\":\"screen\",\"syncable\":false,\"top_units\":\"screen\"},\"id\":\"2048\",\"type\":\"BoxAnnotation\"},{\"attributes\":{\"data_source\":{\"id\":\"1956\"},\"glyph\":{\"id\":\"1990\"},\"hover_glyph\":null,\"muted_glyph\":null,\"nonselection_glyph\":{\"id\":\"1991\"},\"view\":{\"id\":\"1993\"}},\"id\":\"1992\",\"type\":\"GlyphRenderer\"},{\"attributes\":{},\"id\":\"1980\",\"type\":\"SaveTool\"},{\"attributes\":{\"axis\":{\"id\":\"1968\"},\"ticker\":null},\"id\":\"1971\",\"type\":\"Grid\"},{\"attributes\":{\"line_alpha\":0.1,\"line_color\":\"red\",\"line_width\":1.5,\"x\":{\"field\":\"x\"},\"y\":{\"field\":\"a\"}},\"id\":\"1991\",\"type\":\"Line\"},{\"attributes\":{\"line_color\":\"red\",\"line_width\":1.5,\"x\":{\"field\":\"x\"},\"y\":{\"field\":\"a\"}},\"id\":\"1990\",\"type\":\"Line\"},{\"attributes\":{\"items\":[{\"id\":\"2005\"},{\"id\":\"2021\"},{\"id\":\"2122\"}]},\"id\":\"2004\",\"type\":\"Legend\"},{\"attributes\":{\"callback\":null,\"tooltips\":[[\"Output gab\",\"@x{0.00}\"],[\"AD, v=0, period 0\",\"@a{0.00}\"],[\"SRAS\",\"@b{0.00}\"],[\"AD, v=0.1, period 1\",\"@c{0.00}\"]]},\"id\":\"2022\",\"type\":\"HoverTool\"},{\"attributes\":{},\"id\":\"1999\",\"type\":\"AllLabels\"},{\"attributes\":{\"source\":{\"id\":\"1956\"}},\"id\":\"1993\",\"type\":\"CDSView\"},{\"attributes\":{},\"id\":\"1979\",\"type\":\"ResetTool\"},{\"attributes\":{\"data\":{\"x\":[0],\"y\":[0]},\"selected\":{\"id\":\"2120\"},\"selection_policy\":{\"id\":\"2119\"}},\"id\":\"2105\",\"type\":\"ColumnDataSource\"},{\"attributes\":{\"data_source\":{\"id\":\"2023\"},\"glyph\":{\"id\":\"2057\"},\"hover_glyph\":null,\"muted_glyph\":null,\"nonselection_glyph\":{\"id\":\"2058\"},\"view\":{\"id\":\"2060\"}},\"id\":\"2059\",\"type\":\"GlyphRenderer\"},{\"attributes\":{\"label\":{\"value\":\"AD, v=0, period 0\"},\"renderers\":[{\"id\":\"2059\"}]},\"id\":\"2072\",\"type\":\"LegendItem\"},{\"attributes\":{},\"id\":\"1960\",\"type\":\"DataRange1d\"},{\"attributes\":{\"data_source\":{\"id\":\"2023\"},\"glyph\":{\"id\":\"2074\"},\"hover_glyph\":null,\"muted_glyph\":null,\"nonselection_glyph\":{\"id\":\"2075\"},\"view\":{\"id\":\"2077\"}},\"id\":\"2076\",\"type\":\"GlyphRenderer\"},{\"attributes\":{},\"id\":\"1966\",\"type\":\"LinearScale\"},{\"attributes\":{\"active_multi\":null,\"tools\":[{\"id\":\"2022\"},{\"id\":\"2043\"},{\"id\":\"2044\"},{\"id\":\"2045\"},{\"id\":\"2046\"},{\"id\":\"2047\"}]},\"id\":\"2049\",\"type\":\"Toolbar\"},{\"attributes\":{\"line_alpha\":0.1,\"line_color\":\"blue\",\"line_width\":1.5,\"x\":{\"field\":\"x\"},\"y\":{\"field\":\"b\"}},\"id\":\"2075\",\"type\":\"Line\"},{\"attributes\":{},\"id\":\"1995\",\"type\":\"BasicTickFormatter\"},{\"attributes\":{},\"id\":\"1973\",\"type\":\"BasicTicker\"},{\"attributes\":{\"line_color\":\"blue\",\"line_width\":1.5,\"x\":{\"field\":\"x\"},\"y\":{\"field\":\"b\"}},\"id\":\"2074\",\"type\":\"Line\"},{\"attributes\":{\"source\":{\"id\":\"2023\"}},\"id\":\"2077\",\"type\":\"CDSView\"},{\"attributes\":{},\"id\":\"1996\",\"type\":\"AllLabels\"},{\"attributes\":{},\"id\":\"1998\",\"type\":\"BasicTickFormatter\"},{\"attributes\":{\"label\":{\"value\":\"SRAS\"},\"renderers\":[{\"id\":\"2076\"}]},\"id\":\"2088\",\"type\":\"LegendItem\"},{\"attributes\":{},\"id\":\"1964\",\"type\":\"LinearScale\"},{\"attributes\":{},\"id\":\"2065\",\"type\":\"BasicTickFormatter\"},{\"attributes\":{\"active_multi\":null,\"tools\":[{\"id\":\"1955\"},{\"id\":\"1976\"},{\"id\":\"1977\"},{\"id\":\"1978\"},{\"id\":\"1979\"},{\"id\":\"1980\"}]},\"id\":\"1982\",\"type\":\"Toolbar\"},{\"attributes\":{},\"id\":\"2066\",\"type\":\"AllLabels\"},{\"attributes\":{},\"id\":\"1976\",\"type\":\"PanTool\"},{\"attributes\":{\"axis_label\":\"Inflation gab\",\"formatter\":{\"id\":\"1995\"},\"major_label_policy\":{\"id\":\"1996\"},\"ticker\":{\"id\":\"1973\"}},\"id\":\"1972\",\"type\":\"LinearAxis\"},{\"attributes\":{\"axis\":{\"id\":\"1972\"},\"dimension\":1,\"ticker\":null},\"id\":\"1975\",\"type\":\"Grid\"},{\"attributes\":{\"data_source\":{\"id\":\"2023\"},\"glyph\":{\"id\":\"2090\"},\"hover_glyph\":null,\"muted_glyph\":null,\"nonselection_glyph\":{\"id\":\"2091\"},\"view\":{\"id\":\"2093\"}},\"id\":\"2092\",\"type\":\"GlyphRenderer\"},{\"attributes\":{},\"id\":\"1969\",\"type\":\"BasicTicker\"},{\"attributes\":{\"line_alpha\":0.1,\"line_color\":\"green\",\"line_width\":1.5,\"x\":{\"field\":\"x\"},\"y\":{\"field\":\"c\"}},\"id\":\"2091\",\"type\":\"Line\"},{\"attributes\":{},\"id\":\"1977\",\"type\":\"WheelZoomTool\"},{\"attributes\":{\"line_color\":\"green\",\"line_width\":1.5,\"x\":{\"field\":\"x\"},\"y\":{\"field\":\"c\"}},\"id\":\"2090\",\"type\":\"Line\"},{\"attributes\":{\"source\":{\"id\":\"2023\"}},\"id\":\"2093\",\"type\":\"CDSView\"},{\"attributes\":{\"label\":{\"value\":\"AD, v=0.1, period 1\"},\"renderers\":[{\"id\":\"2092\"}]},\"id\":\"2104\",\"type\":\"LegendItem\"}],\"root_ids\":[\"2183\"]},\"title\":\"Bokeh Application\",\"version\":\"2.3.2\"}};\n",
       "  var render_items = [{\"docid\":\"49348622-7c9d-4f27-b1e0-f6d6e14a1b98\",\"notebook_comms_target\":\"2284\",\"root_ids\":[\"2183\"],\"roots\":{\"2183\":\"8334075a-4655-46eb-8ab9-7a209154a09c\"}}];\n",
       "  root.Bokeh.embed.embed_items_notebook(docs_json, render_items);\n",
       "\n",
       "  }\n",
       "  if (root.Bokeh !== undefined) {\n",
       "    embed_document(root);\n",
       "  } else {\n",
       "    var attempts = 0;\n",
       "    var timer = setInterval(function(root) {\n",
       "      if (root.Bokeh !== undefined) {\n",
       "        clearInterval(timer);\n",
       "        embed_document(root);\n",
       "      } else {\n",
       "        attempts++;\n",
       "        if (attempts > 100) {\n",
       "          clearInterval(timer);\n",
       "          console.log(\"Bokeh: ERROR: Unable to run BokehJS code because BokehJS library is missing\");\n",
       "        }\n",
       "      }\n",
       "    }, 10, root)\n",
       "  }\n",
       "})(window);"
      ],
      "application/vnd.bokehjs_exec.v0+json": ""
     },
     "metadata": {
      "application/vnd.bokehjs_exec.v0+json": {
       "id": "2183"
      }
     },
     "output_type": "display_data"
    },
    {
     "data": {
      "text/html": [
       "<p><code>&lt;Bokeh Notebook handle for <strong>In[40]</strong>&gt;</code></p>"
      ],
      "text/plain": [
       "<bokeh.io.notebook.CommsHandle at 0x1cc34e0c850>"
      ]
     },
     "execution_count": 40,
     "metadata": {},
     "output_type": "execute_result"
    }
   ],
   "source": [
    "# Then we plot our results for period 0 and 1, and the equilibrium path:\n",
    "\n",
    "p1 = Functions.plotting('Output gab',['AD','SRAS'],y_gabs[:-70],[ads[0][:-70],srass[0][:-70]],\n",
    "                        'Inflation gab',legendlocation='top_right',title='AS-AD-model')\n",
    "\n",
    "p2 = Functions.plotting('Output gab',['AD, v=0, period 0','SRAS','AD, v=0.1, period 1'],\n",
    "                        y_gabs,[ads[0],srass[0],ads[1]],'Inflation gab',\n",
    "                       legendlocation='top_right',title='AS-AD with demand chock')\n",
    "p1.circle(x=[0],y=[0],legend='Equilibrium',line_width=3,color='red')\n",
    "p2.circle(x=[0],y=[0],legend='Equilibrium in period 0',line_width=3,color='red')\n",
    "p2.circle(x=[y_equilibrium(0,0,0.1,0,0,par)],y=[pi_equilibrium(0,0,0.1,0,0,par)],\n",
    "          legend='Equilibrium in period 1',line_width=3,color='green')\n",
    "p2.circle(x=ys,y=pis,legend='Path of Equilibrium',line_width=1,color='black')\n",
    "\n",
    "show(row(p1,p2),notebook_handle=True)"
   ]
  },
  {
   "cell_type": "code",
   "execution_count": 41,
   "metadata": {},
   "outputs": [
    {
     "name": "stderr",
     "output_type": "stream",
     "text": [
      "BokehDeprecationWarning: 'legend' keyword is deprecated, use explicit 'legend_label', 'legend_field', or 'legend_group' keywords instead\n",
      "BokehDeprecationWarning: 'legend' keyword is deprecated, use explicit 'legend_label', 'legend_field', or 'legend_group' keywords instead\n",
      "BokehDeprecationWarning: 'legend' keyword is deprecated, use explicit 'legend_label', 'legend_field', or 'legend_group' keywords instead\n",
      "BokehDeprecationWarning: 'legend' keyword is deprecated, use explicit 'legend_label', 'legend_field', or 'legend_group' keywords instead\n",
      "BokehDeprecationWarning: 'legend' keyword is deprecated, use explicit 'legend_label', 'legend_field', or 'legend_group' keywords instead\n",
      "BokehDeprecationWarning: 'legend' keyword is deprecated, use explicit 'legend_label', 'legend_field', or 'legend_group' keywords instead\n"
     ]
    },
    {
     "data": {
      "application/vnd.jupyter.widget-view+json": {
       "model_id": "91a0720536bf4c6292cd79dfa5f2cb39",
       "version_major": 2,
       "version_minor": 0
      },
      "text/plain": [
       "interactive(children=(IntSlider(value=0, description='period', max=39), Output()), _dom_classes=('widget-inter…"
      ]
     },
     "metadata": {},
     "output_type": "display_data"
    },
    {
     "data": {
      "text/html": [
       "\n",
       "\n",
       "\n",
       "\n",
       "\n",
       "\n",
       "  <div class=\"bk-root\" id=\"ae1dfc0d-8716-4f10-8946-4ddf0249e276\" data-root-id=\"2427\"></div>\n"
      ]
     },
     "metadata": {},
     "output_type": "display_data"
    },
    {
     "data": {
      "application/javascript": [
       "(function(root) {\n",
       "  function embed_document(root) {\n",
       "    \n",
       "  var docs_json = {\"560edbb3-d898-4643-93d4-75a18300d62a\":{\"defs\":[],\"roots\":{\"references\":[{\"attributes\":{\"below\":[{\"id\":\"2438\"}],\"center\":[{\"id\":\"2441\"},{\"id\":\"2445\"},{\"id\":\"2474\"}],\"height\":500,\"left\":[{\"id\":\"2442\"}],\"renderers\":[{\"id\":\"2462\"},{\"id\":\"2479\"},{\"id\":\"2495\"},{\"id\":\"2511\"},{\"id\":\"2527\"},{\"id\":\"2543\"}],\"title\":{\"id\":\"2428\"},\"toolbar\":{\"id\":\"2452\"},\"width\":500,\"x_range\":{\"id\":\"2430\"},\"x_scale\":{\"id\":\"2434\"},\"y_range\":{\"id\":\"2458\"},\"y_scale\":{\"id\":\"2436\"}},\"id\":\"2427\",\"subtype\":\"Figure\",\"type\":\"Plot\"},{\"attributes\":{\"line_color\":\"blue\",\"line_width\":3,\"x\":{\"field\":\"x\"},\"y\":{\"field\":\"sras-1\"}},\"id\":\"2477\",\"type\":\"Line\"},{\"attributes\":{\"label\":{\"value\":\"SRAS, t=-1\"},\"renderers\":[{\"id\":\"2479\"}]},\"id\":\"2491\",\"type\":\"LegendItem\"},{\"attributes\":{\"source\":{\"id\":\"2425\"}},\"id\":\"2480\",\"type\":\"CDSView\"},{\"attributes\":{},\"id\":\"2450\",\"type\":\"SaveTool\"},{\"attributes\":{},\"id\":\"2466\",\"type\":\"AllLabels\"},{\"attributes\":{},\"id\":\"2436\",\"type\":\"LinearScale\"},{\"attributes\":{\"line_color\":\"green\",\"line_dash\":[6],\"line_width\":3,\"x\":{\"field\":\"x\"},\"y\":{\"field\":\"ad\"}},\"id\":\"2525\",\"type\":\"Line\"},{\"attributes\":{\"label\":{\"field\":\"ad_legend\"},\"renderers\":[{\"id\":\"2527\"}]},\"id\":\"2539\",\"type\":\"LegendItem\"},{\"attributes\":{\"label\":{\"field\":\"sras_legend\"},\"renderers\":[{\"id\":\"2511\"}]},\"id\":\"2523\",\"type\":\"LegendItem\"},{\"attributes\":{\"data_source\":{\"id\":\"2425\"},\"glyph\":{\"id\":\"2525\"},\"hover_glyph\":null,\"muted_glyph\":null,\"nonselection_glyph\":{\"id\":\"2526\"},\"view\":{\"id\":\"2528\"}},\"id\":\"2527\",\"type\":\"GlyphRenderer\"},{\"attributes\":{\"line_color\":\"rgb(226, 50, 86)\",\"line_width\":3,\"x\":{\"field\":\"x\"},\"y\":{\"field\":\"ad-1\"}},\"id\":\"2493\",\"type\":\"Line\"},{\"attributes\":{},\"id\":\"2447\",\"type\":\"WheelZoomTool\"},{\"attributes\":{\"source\":{\"id\":\"2425\"}},\"id\":\"2528\",\"type\":\"CDSView\"},{\"attributes\":{},\"id\":\"2439\",\"type\":\"BasicTicker\"},{\"attributes\":{},\"id\":\"2554\",\"type\":\"UnionRenderers\"},{\"attributes\":{},\"id\":\"2555\",\"type\":\"Selection\"},{\"attributes\":{\"bottom_units\":\"screen\",\"fill_alpha\":0.5,\"fill_color\":\"lightgrey\",\"left_units\":\"screen\",\"level\":\"overlay\",\"line_alpha\":1.0,\"line_color\":\"black\",\"line_dash\":[4,4],\"line_width\":2,\"right_units\":\"screen\",\"syncable\":false,\"top_units\":\"screen\"},\"id\":\"2451\",\"type\":\"BoxAnnotation\"},{\"attributes\":{},\"id\":\"2446\",\"type\":\"PanTool\"},{\"attributes\":{\"items\":[{\"id\":\"2475\"},{\"id\":\"2491\"},{\"id\":\"2507\"},{\"id\":\"2523\"},{\"id\":\"2539\"},{\"id\":\"2557\"}],\"location\":\"bottom_right\"},\"id\":\"2474\",\"type\":\"Legend\"},{\"attributes\":{\"line_color\":\"purple\",\"line_dash\":[6],\"line_width\":3,\"x\":{\"field\":\"x\"},\"y\":{\"field\":\"sras\"}},\"id\":\"2509\",\"type\":\"Line\"},{\"attributes\":{\"data_source\":{\"id\":\"2425\"},\"glyph\":{\"id\":\"2460\"},\"hover_glyph\":null,\"muted_glyph\":null,\"nonselection_glyph\":{\"id\":\"2461\"},\"view\":{\"id\":\"2463\"}},\"id\":\"2462\",\"type\":\"GlyphRenderer\"},{\"attributes\":{},\"id\":\"2472\",\"type\":\"Selection\"},{\"attributes\":{\"line_alpha\":0.1,\"line_color\":\"rgb(226, 50, 86)\",\"line_width\":3,\"x\":{\"field\":\"x\"},\"y\":{\"field\":\"ad-1\"}},\"id\":\"2494\",\"type\":\"Line\"},{\"attributes\":{\"data_source\":{\"id\":\"2425\"},\"glyph\":{\"id\":\"2509\"},\"hover_glyph\":null,\"muted_glyph\":null,\"nonselection_glyph\":{\"id\":\"2510\"},\"view\":{\"id\":\"2512\"}},\"id\":\"2511\",\"type\":\"GlyphRenderer\"},{\"attributes\":{},\"id\":\"2430\",\"type\":\"DataRange1d\"},{\"attributes\":{\"source\":{\"id\":\"2425\"}},\"id\":\"2496\",\"type\":\"CDSView\"},{\"attributes\":{},\"id\":\"2443\",\"type\":\"BasicTicker\"},{\"attributes\":{},\"id\":\"2465\",\"type\":\"BasicTickFormatter\"},{\"attributes\":{\"line_alpha\":0.1,\"line_color\":\"blue\",\"line_width\":3,\"x\":{\"field\":\"x\"},\"y\":{\"field\":\"sras-1\"}},\"id\":\"2478\",\"type\":\"Line\"},{\"attributes\":{\"fill_color\":{\"value\":\"rgb(106, 244, 65)\"},\"line_color\":{\"value\":\"rgb(106, 244, 65)\"},\"x\":{\"field\":\"ys\"},\"y\":{\"field\":\"pis\"}},\"id\":\"2541\",\"type\":\"Circle\"},{\"attributes\":{},\"id\":\"2468\",\"type\":\"BasicTickFormatter\"},{\"attributes\":{},\"id\":\"2449\",\"type\":\"ResetTool\"},{\"attributes\":{\"axis_label\":\"Inflation gab\",\"formatter\":{\"id\":\"2465\"},\"major_label_policy\":{\"id\":\"2466\"},\"ticker\":{\"id\":\"2443\"}},\"id\":\"2442\",\"type\":\"LinearAxis\"},{\"attributes\":{},\"id\":\"2469\",\"type\":\"AllLabels\"},{\"attributes\":{\"axis\":{\"id\":\"2438\"},\"ticker\":null},\"id\":\"2441\",\"type\":\"Grid\"},{\"attributes\":{\"data_source\":{\"id\":\"2425\"},\"glyph\":{\"id\":\"2477\"},\"hover_glyph\":null,\"muted_glyph\":null,\"nonselection_glyph\":{\"id\":\"2478\"},\"view\":{\"id\":\"2480\"}},\"id\":\"2479\",\"type\":\"GlyphRenderer\"},{\"attributes\":{\"line_alpha\":0.1,\"line_color\":\"rgb(226, 123, 86)\",\"line_width\":3,\"x\":{\"field\":\"x\"},\"y\":{\"field\":\"ad0\"}},\"id\":\"2461\",\"type\":\"Line\"},{\"attributes\":{\"data_source\":{\"id\":\"2426\"},\"glyph\":{\"id\":\"2541\"},\"hover_glyph\":null,\"muted_glyph\":null,\"nonselection_glyph\":{\"id\":\"2542\"},\"view\":{\"id\":\"2544\"}},\"id\":\"2543\",\"type\":\"GlyphRenderer\"},{\"attributes\":{\"axis\":{\"id\":\"2442\"},\"dimension\":1,\"ticker\":null},\"id\":\"2445\",\"type\":\"Grid\"},{\"attributes\":{},\"id\":\"2434\",\"type\":\"LinearScale\"},{\"attributes\":{\"line_color\":\"rgb(226, 123, 86)\",\"line_width\":3,\"x\":{\"field\":\"x\"},\"y\":{\"field\":\"ad0\"}},\"id\":\"2460\",\"type\":\"Line\"},{\"attributes\":{\"fill_alpha\":{\"value\":0.1},\"fill_color\":{\"value\":\"rgb(106, 244, 65)\"},\"line_alpha\":{\"value\":0.1},\"line_color\":{\"value\":\"rgb(106, 244, 65)\"},\"x\":{\"field\":\"ys\"},\"y\":{\"field\":\"pis\"}},\"id\":\"2542\",\"type\":\"Circle\"},{\"attributes\":{\"line_alpha\":0.1,\"line_color\":\"green\",\"line_dash\":[6],\"line_width\":3,\"x\":{\"field\":\"x\"},\"y\":{\"field\":\"ad\"}},\"id\":\"2526\",\"type\":\"Line\"},{\"attributes\":{\"source\":{\"id\":\"2425\"}},\"id\":\"2512\",\"type\":\"CDSView\"},{\"attributes\":{\"end\":0.02,\"start\":-0.02},\"id\":\"2458\",\"type\":\"Range1d\"},{\"attributes\":{\"source\":{\"id\":\"2426\"}},\"id\":\"2544\",\"type\":\"CDSView\"},{\"attributes\":{\"line_alpha\":0.1,\"line_color\":\"purple\",\"line_dash\":[6],\"line_width\":3,\"x\":{\"field\":\"x\"},\"y\":{\"field\":\"sras\"}},\"id\":\"2510\",\"type\":\"Line\"},{\"attributes\":{\"data\":{\"ad\":{\"__ndarray__\":\"Om2g0wY6pT8iicwpmfukPwml+H8rvaQ/8cAk1r1+pD/Z3FAsUECkP8D4fILiAaQ/pxSp2HTDoz+PMNUuB4WjP3ZMAYWZRqM/XWgt2ysIoz9FhFkxvsmiPy2ghYdQi6I/FLyx3eJMoj/8190zdQ6iP+PzCYoH0KE/yg824JmRoT+yK2I2LFOhP5pHjoy+FKE/gmO64lDWoD9pf+Y445egP1GbEo91WaA/OLc+5QcboD8+ptV2NLmfPw7eLSNZPJ8/3RWGz32/nj+rTd57okKeP3uFNijHxZ0/Sr2O1OtInT8Y9eaAEMycP+gsPy01T5w/t2SX2VnSmz+HnO+FflWbP1XURzKj2Jo/JAyg3sdbmj/zQ/iK7N6ZP8J7UDcRYpk/kLOo4zXlmD9g6wCQWmiYPy8jWTx/65c//1qx6KNulz/PkgmVyPGWP5zKYUHtdJY/awK67RH4lT87OhKaNnuVPwlyakZb/pQ/2anC8n+BlD+o4RqfpASUP3cZc0vJh5M/RVHL9+0Kkz8ViSOkEo6SP+XAe1A3EZI/svjT/FuUkT+CMCypgBeRP1FohFWlmpA/H6DcAcodkD/er2lc3UGPP30fGrUmSI4/GI/KDXBOjT+4/npmuVSMP1duK78CW4s/8t3bF0xhij+STYxwlWeJPzK9PMnebYg/zCztISh0hz9snJ16cXqGPwwMTtO6gIU/qXv+KwSHhD9G666ETY2DP+VaX92Wk4I/gsoPNuCZgT8fOsCOKaCAP35T4c7lTH8/uDJCgHhZfT/yEaMxC2Z7PzLxA+Odcnk/bNBklDB/dz+sr8VFw4t1P+aOJvdVmHM/IG6HqOikcT++mtCz9mJvPzJZkhYcfGs/phdUeUGVZz8m1hXcZq5jPzMpr30Yj18/G6YyQ2PBVz8zRmwRXOdPPzBAc5zxS0A/cjpH7+QQ9j5gmP2axtU9vzPSd8JNhk6/SGy4G9wQV78z7zRWkd5evya5WEgjVmO/svqW5f08Z78yPNWC2CNrv759EyCzCm+/pd+o3sZ4cb9mAEgtNGxzvywh53uhX3W/90GGyg5Td79yHMdxHMehPw==\",\"dtype\":\"float64\",\"order\":\"little\",\"shape\":[101]},\"ad-1\":{\"__ndarray__\":\"QobKDlOXez9/ZSvA5aN5P7lEjHF4sHc/9iPtIgu9dT8yA07UnclzP27iroUw1nE/VIMfbobFbz/NQeHQq95rP0YAozPR92c/vL5klvYQZD82fSb5GypgP1t30LeChlg/SvRTfc24UD944q6FMNZBP+TiroUw1hE/lVOGyEjBOr/mLzzZDvxMvwGbGqe8S1a/FB6X4XEZXr+R0AmOk/NivxgSSCtu2ma/oVOGyEjBar8plcRlI6huv1hrgQF/R3G/HIwgUOw6c7/frL+eWS51v6PNXu3GIXe/aO79OzQVeb8rD52KoQh7v/AvPNkO/Hy/tFDbJ3zvfr+7OD27dHGAvx3JjGIra4G/gFncCeJkgr/h6SuxmF6Dv0R6e1hPWIS/pgrL/wVShb8HmxqnvEuGv2orak5zRYe/y7u59Sk/iL8sTAmd4DiJv5DcWESXMoq/8myo600si79S/feSBCaMv7aNRzq7H42/Fh6X4XEZjr94ruaIKBOPv20fG5hvBpC/nufC60qDkL/Pr2o/JgCRv/93EpMBfZG/MUC65tz5kb9iCGI6uHaSv5LQCY6T85K/xJix4W5wk7/1YFk1Su2TvyUpAYklapS/WPGo3ADnlL+IuVAw3GOVv7iB+IO34JW/60mg15Jdlr8bEkgrbtqWv0va735JV5e/fqKX0iTUl7+uaj8mAFGYv94y53nbzZi/D/uOzbZKmb9BwzYhkseZv3GL3nRtRJq/o1OGyEjBmr/UGy4cJD6bvwTk1W//upu/Nqx9w9o3nL9ndCUXtrScv5c8zWqRMZ2/yQR1vmyunb/5zBwSSCuevyqVxGUjqJ6/XF1suf4kn7+MJRQN2qGfv9/2XbBaD6C/99oxWshNoL8QvwUENoygvyij2a2jyqC/QYetVxEJob9Za4EBf0ehv3FPVavshaG/izMpVVrEob+jF/3+xwKiv7v70Kg1QaK/1N+kUqN/or/rw3j8EL6ivwSoTKZ+/KK/HYwgUOw6o781cPT5WXmjv05UyKPHt6O/ZzicTTX2o79/HHD3ojSkv5cARKEQc6S/seQXS36xpL8AAAAAAAAAAA==\",\"dtype\":\"float64\",\"order\":\"little\",\"shape\":[101]},\"ad0\":{\"__ndarray__\":\"Om2g0wY6pT8iicwpmfukPwml+H8rvaQ/8cAk1r1+pD/Z3FAsUECkP8D4fILiAaQ/pxSp2HTDoz+PMNUuB4WjP3ZMAYWZRqM/XWgt2ysIoz9FhFkxvsmiPy2ghYdQi6I/FLyx3eJMoj/8190zdQ6iP+PzCYoH0KE/yg824JmRoT+yK2I2LFOhP5pHjoy+FKE/gmO64lDWoD9pf+Y445egP1GbEo91WaA/OLc+5QcboD8+ptV2NLmfPw7eLSNZPJ8/3RWGz32/nj+rTd57okKeP3uFNijHxZ0/Sr2O1OtInT8Y9eaAEMycP+gsPy01T5w/t2SX2VnSmz+HnO+FflWbP1XURzKj2Jo/JAyg3sdbmj/zQ/iK7N6ZP8J7UDcRYpk/kLOo4zXlmD9g6wCQWmiYPy8jWTx/65c//1qx6KNulz/PkgmVyPGWP5zKYUHtdJY/awK67RH4lT87OhKaNnuVPwlyakZb/pQ/2anC8n+BlD+o4RqfpASUP3cZc0vJh5M/RVHL9+0Kkz8ViSOkEo6SP+XAe1A3EZI/svjT/FuUkT+CMCypgBeRP1FohFWlmpA/H6DcAcodkD/er2lc3UGPP30fGrUmSI4/GI/KDXBOjT+4/npmuVSMP1duK78CW4s/8t3bF0xhij+STYxwlWeJPzK9PMnebYg/zCztISh0hz9snJ16cXqGPwwMTtO6gIU/qXv+KwSHhD9G666ETY2DP+VaX92Wk4I/gsoPNuCZgT8fOsCOKaCAP35T4c7lTH8/uDJCgHhZfT/yEaMxC2Z7PzLxA+Odcnk/bNBklDB/dz+sr8VFw4t1P+aOJvdVmHM/IG6HqOikcT++mtCz9mJvPzJZkhYcfGs/phdUeUGVZz8m1hXcZq5jPzMpr30Yj18/G6YyQ2PBVz8zRmwRXOdPPzBAc5zxS0A/cjpH7+QQ9j5gmP2axtU9vzPSd8JNhk6/SGy4G9wQV78z7zRWkd5evya5WEgjVmO/svqW5f08Z78yPNWC2CNrv759EyCzCm+/pd+o3sZ4cb9mAEgtNGxzvywh53uhX3W/90GGyg5Td79yHMdxHMehPw==\",\"dtype\":\"float64\",\"order\":\"little\",\"shape\":[101]},\"ad_legend\":[\"AD, t=0\",\"AD, t=0\",\"AD, t=0\",\"AD, t=0\",\"AD, t=0\",\"AD, t=0\",\"AD, t=0\",\"AD, t=0\",\"AD, t=0\",\"AD, t=0\",\"AD, t=0\",\"AD, t=0\",\"AD, t=0\",\"AD, t=0\",\"AD, t=0\",\"AD, t=0\",\"AD, t=0\",\"AD, t=0\",\"AD, t=0\",\"AD, t=0\",\"AD, t=0\",\"AD, t=0\",\"AD, t=0\",\"AD, t=0\",\"AD, t=0\",\"AD, t=0\",\"AD, t=0\",\"AD, t=0\",\"AD, t=0\",\"AD, t=0\",\"AD, t=0\",\"AD, t=0\",\"AD, t=0\",\"AD, t=0\",\"AD, t=0\",\"AD, t=0\",\"AD, t=0\",\"AD, t=0\",\"AD, t=0\",\"AD, t=0\",\"AD, t=0\",\"AD, t=0\",\"AD, t=0\",\"AD, t=0\",\"AD, t=0\",\"AD, t=0\",\"AD, t=0\",\"AD, t=0\",\"AD, t=0\",\"AD, t=0\",\"AD, t=0\",\"AD, t=0\",\"AD, t=0\",\"AD, t=0\",\"AD, t=0\",\"AD, t=0\",\"AD, t=0\",\"AD, t=0\",\"AD, t=0\",\"AD, t=0\",\"AD, t=0\",\"AD, t=0\",\"AD, t=0\",\"AD, t=0\",\"AD, t=0\",\"AD, t=0\",\"AD, t=0\",\"AD, t=0\",\"AD, t=0\",\"AD, t=0\",\"AD, t=0\",\"AD, t=0\",\"AD, t=0\",\"AD, t=0\",\"AD, t=0\",\"AD, t=0\",\"AD, t=0\",\"AD, t=0\",\"AD, t=0\",\"AD, t=0\",\"AD, t=0\",\"AD, t=0\",\"AD, t=0\",\"AD, t=0\",\"AD, t=0\",\"AD, t=0\",\"AD, t=0\",\"AD, t=0\",\"AD, t=0\",\"AD, t=0\",\"AD, t=0\",\"AD, t=0\",\"AD, t=0\",\"AD, t=0\",\"AD, t=0\",\"AD, t=0\",\"AD, t=0\",\"AD, t=0\",\"AD, t=0\",\"AD, t=0\",\"AD, t=0\"],\"sras\":{\"__ndarray__\":\"+n5qvHSTOL8KSgMHm9Y2vxkVnFHBGTW/KuA0nOdcM786q83mDaAxv5TszGJoxi+/tIL+97RMLL/VGDCNAdMov/SuYSJOWSW/FEWTt5rfIb9ptomZzsscv6ni7MNn2BW/0B2g3AHKDb+m7MxiaMb/vmbtzGJoxs++YLEZSs7U9z4tgEbQNNEJP9UTwD0B3BM/mOdcE2jPGj+r3Xx0Z+EgP4pHS98aWyQ/bLEZSs7UJz9LG+i0gU4rPyqFth81yC4/hndCRfQgMT90rKn6zd0yP2XhELCnmjQ/VhZ4ZYFXNj9ES98aWxQ4PzWARtA00Tk/JrWthQ6OOz8U6hQ76Eo9PwUffPDBBz8/+6nx0k1iQD9yRKWtukBBP+reWIgnH0I/Y3kMY5T9Qj/ZE8A9AdxDP1OucxhuukQ/ykgn89qYRT9B49rNR3dGP7t9jqi0VUc/MhhCgyE0SD+psvVdjhJJPyNNqTj78Ek/mudcE2jPSj8RghDu1K1LP4kcxMhBjEw/Ard3o65qTT95USt+G0lOP/Dr3liIJ08/NUPJmfoCUD9xECMHMXJQP6zdfHRn4VA/6arW4Z1QUT8leDBP1L9RP2BFirwKL1I/nRLkKUGeUj/Z3z2Xdw1TPxStlwSufFM/UXrxceTrUz+NR0vfGltUP8gUpUxRylQ/BeL+uYc5VT9Br1gnvqhVP3x8spT0F1Y/uUkMAiuHVj/1FmZvYfZWPzDkv9yXZVc/bbEZSs7UVz+pfnO3BERYP+RLzSQ7s1g/IRknknEiWT9d5oD/p5FZP5iz2mzeAFo/1YA02hRwWj8RTo5HS99aP0wb6LSBTls/iehBIri9Wz/FtZuP7ixcPwCD9fwknFw/PVBPalsLXT94HanXkXpdP7TqAkXI6V0/8bdcsv5YXj8shbYfNcheP2hSEI1rN18/pR9q+qGmXz9w9uEz7ApgPw7djmqHQmA/rMM7oSJ6YD9KqujXvbFgP+iQlQ5Z6WA/hndCRfQgYT8kXu97j1hhP8JEnLIqkGE/YCtJ6cXHYT/+EfYfYf9hP5z4olb8NmI/O99PjZduYj8AAAAAAAAAAA==\",\"dtype\":\"float64\",\"order\":\"little\",\"shape\":[101]},\"sras-1\":{\"__ndarray__\":\"+n5qvHSTOL8KSgMHm9Y2vxkVnFHBGTW/KuA0nOdcM786q83mDaAxv5TszGJoxi+/tIL+97RMLL/VGDCNAdMov/SuYSJOWSW/FEWTt5rfIb9ptomZzsscv6ni7MNn2BW/0B2g3AHKDb+m7MxiaMb/vmbtzGJoxs++YLEZSs7U9z4tgEbQNNEJP9UTwD0B3BM/mOdcE2jPGj+r3Xx0Z+EgP4pHS98aWyQ/bLEZSs7UJz9LG+i0gU4rPyqFth81yC4/hndCRfQgMT90rKn6zd0yP2XhELCnmjQ/VhZ4ZYFXNj9ES98aWxQ4PzWARtA00Tk/JrWthQ6OOz8U6hQ76Eo9PwUffPDBBz8/+6nx0k1iQD9yRKWtukBBP+reWIgnH0I/Y3kMY5T9Qj/ZE8A9AdxDP1OucxhuukQ/ykgn89qYRT9B49rNR3dGP7t9jqi0VUc/MhhCgyE0SD+psvVdjhJJPyNNqTj78Ek/mudcE2jPSj8RghDu1K1LP4kcxMhBjEw/Ard3o65qTT95USt+G0lOP/Dr3liIJ08/NUPJmfoCUD9xECMHMXJQP6zdfHRn4VA/6arW4Z1QUT8leDBP1L9RP2BFirwKL1I/nRLkKUGeUj/Z3z2Xdw1TPxStlwSufFM/UXrxceTrUz+NR0vfGltUP8gUpUxRylQ/BeL+uYc5VT9Br1gnvqhVP3x8spT0F1Y/uUkMAiuHVj/1FmZvYfZWPzDkv9yXZVc/bbEZSs7UVz+pfnO3BERYP+RLzSQ7s1g/IRknknEiWT9d5oD/p5FZP5iz2mzeAFo/1YA02hRwWj8RTo5HS99aP0wb6LSBTls/iehBIri9Wz/FtZuP7ixcPwCD9fwknFw/PVBPalsLXT94HanXkXpdP7TqAkXI6V0/8bdcsv5YXj8shbYfNcheP2hSEI1rN18/pR9q+qGmXz9w9uEz7ApgPw7djmqHQmA/rMM7oSJ6YD9KqujXvbFgP+iQlQ5Z6WA/hndCRfQgYT8kXu97j1hhP8JEnLIqkGE/YCtJ6cXHYT/+EfYfYf9hP5z4olb8NmI/O99PjZduYj8AAAAAAAAAAA==\",\"dtype\":\"float64\",\"order\":\"little\",\"shape\":[101]},\"sras_legend\":[\"SRAS, t=0\",\"SRAS, t=0\",\"SRAS, t=0\",\"SRAS, t=0\",\"SRAS, t=0\",\"SRAS, t=0\",\"SRAS, t=0\",\"SRAS, t=0\",\"SRAS, t=0\",\"SRAS, t=0\",\"SRAS, t=0\",\"SRAS, t=0\",\"SRAS, t=0\",\"SRAS, t=0\",\"SRAS, t=0\",\"SRAS, t=0\",\"SRAS, t=0\",\"SRAS, t=0\",\"SRAS, t=0\",\"SRAS, t=0\",\"SRAS, t=0\",\"SRAS, t=0\",\"SRAS, t=0\",\"SRAS, t=0\",\"SRAS, t=0\",\"SRAS, t=0\",\"SRAS, t=0\",\"SRAS, t=0\",\"SRAS, t=0\",\"SRAS, t=0\",\"SRAS, t=0\",\"SRAS, t=0\",\"SRAS, t=0\",\"SRAS, t=0\",\"SRAS, t=0\",\"SRAS, t=0\",\"SRAS, t=0\",\"SRAS, t=0\",\"SRAS, t=0\",\"SRAS, t=0\",\"SRAS, t=0\",\"SRAS, t=0\",\"SRAS, t=0\",\"SRAS, t=0\",\"SRAS, t=0\",\"SRAS, t=0\",\"SRAS, t=0\",\"SRAS, t=0\",\"SRAS, t=0\",\"SRAS, t=0\",\"SRAS, t=0\",\"SRAS, t=0\",\"SRAS, t=0\",\"SRAS, t=0\",\"SRAS, t=0\",\"SRAS, t=0\",\"SRAS, t=0\",\"SRAS, t=0\",\"SRAS, t=0\",\"SRAS, t=0\",\"SRAS, t=0\",\"SRAS, t=0\",\"SRAS, t=0\",\"SRAS, t=0\",\"SRAS, t=0\",\"SRAS, t=0\",\"SRAS, t=0\",\"SRAS, t=0\",\"SRAS, t=0\",\"SRAS, t=0\",\"SRAS, t=0\",\"SRAS, t=0\",\"SRAS, t=0\",\"SRAS, t=0\",\"SRAS, t=0\",\"SRAS, t=0\",\"SRAS, t=0\",\"SRAS, t=0\",\"SRAS, t=0\",\"SRAS, t=0\",\"SRAS, t=0\",\"SRAS, t=0\",\"SRAS, t=0\",\"SRAS, t=0\",\"SRAS, t=0\",\"SRAS, t=0\",\"SRAS, t=0\",\"SRAS, t=0\",\"SRAS, t=0\",\"SRAS, t=0\",\"SRAS, t=0\",\"SRAS, t=0\",\"SRAS, t=0\",\"SRAS, t=0\",\"SRAS, t=0\",\"SRAS, t=0\",\"SRAS, t=0\",\"SRAS, t=0\",\"SRAS, t=0\",\"SRAS, t=0\",\"SRAS, t=0\"],\"x\":{\"__ndarray__\":\"exSuR+F6dL9eaC3bKwhzv0C8rG52lXG/IxAsAsEicL8MyFYrF2Btv9FvVVKsemq/lhdUeUGVZ79cv1Kg1q9kvyFnUcdrymG/zB2g3AHKXb9YbZ0qLP9Xv+K8mnhWNFK/2BgwjQHTSL/gb1VSrHo6v4BwVVKsegq/0BPAPQHcMz/QauUCrINFP9xldbOrjFA/VBZ4ZYFXVj/IxnoXVyJcP567vmSW9mA/2hPAPQHcYz8UbMEWbMFmP07Ewu/Wpmk/ihzEyEGMbD/CdMWhrHFvP39mY72LK3E/nRLkKUGecj+5vmSW9hB0P9dq5QKsg3U/9RZmb2H2dj8Rw+bbFml4Py9vZ0jM23k/TRvotIFOez9px2ghN8F8P4dz6Y3sM34/pR9q+qGmfz/gZXWzq4yAP/C7tWkGRoE//hH2H2H/gT8MaDbWu7iCPxy+dowWcoM/KhS3QnErhD84avf4y+SEP0jAN68mnoU/VhZ4ZYFXhj9kbLgb3BCHP3LC+NE2yoc/ghg5iJGDiD+Qbnk+7DyJP57EufRG9ok/rhr6qqGvij+8cDph/GiLP8rGehdXIow/2hy7zbHbjD/ocvuDDJWNP/bIOzpnTo4/Bh988MEHjz8UdbymHMGPP5Flfq47PZA/mZCeCemZkD+gu75klvaQP6fm3r9DU5E/rxH/GvGvkT+2PB92ngySP71nP9FLaZI/xZJfLPnFkj/MvX+HpiKTP9Pon+JTf5M/2xPAPQHckz/iPuCYrjiUP+lpAPRblZQ/8ZQgTwnylD/4v0Cqtk6VP//qYAVkq5U/BxaBYBEIlj8OQaG7vmSWPxVswRZswZY/HZfhcRkelz8kwgHNxnqXPyvtISh015c/MxhCgyE0mD86Q2LezpCYP0Fugjl87Zg/SZmilClKmT9QxMLv1qaZP1fv4kqEA5o/XxoDpjFgmj9mRSMB37yaP21wQ1yMGZs/dZtjtzl2mz97xoMS59KbP4Pxo22UL5w/ixzEyEGMnD+RR+Qj7+icP5lyBH+cRZ0/oZ0k2kminT+nyEQ19/6dP6/zZJCkW54/uB6F61G4nj8AAAAAAAAAAA==\",\"dtype\":\"float64\",\"order\":\"little\",\"shape\":[101]}},\"selected\":{\"id\":\"2472\"},\"selection_policy\":{\"id\":\"2471\"}},\"id\":\"2425\",\"type\":\"ColumnDataSource\"},{\"attributes\":{},\"id\":\"2471\",\"type\":\"UnionRenderers\"},{\"attributes\":{\"axis_label\":\"Output gab\",\"formatter\":{\"id\":\"2468\"},\"major_label_policy\":{\"id\":\"2469\"},\"ticker\":{\"id\":\"2439\"}},\"id\":\"2438\",\"type\":\"LinearAxis\"},{\"attributes\":{\"label\":{\"value\":\"Path of equilibrium\"},\"renderers\":[{\"id\":\"2543\"}]},\"id\":\"2557\",\"type\":\"LegendItem\"},{\"attributes\":{\"label\":{\"value\":\"AD, t=0\"},\"renderers\":[{\"id\":\"2462\"}]},\"id\":\"2475\",\"type\":\"LegendItem\"},{\"attributes\":{\"source\":{\"id\":\"2425\"}},\"id\":\"2463\",\"type\":\"CDSView\"},{\"attributes\":{\"data\":{\"pis\":[0,0.0018310546875,0.001734495162963867,0.0016430276446044443,0.0015563836086585068,0.0014743086917956558,0.0013965619443767443,0.0013229151230912518,0.0012531520208969866,0.001187067832294997,0.0011244685520763156,0.0010651704057754161,0.001008999310158353,0.0009557903621617211,0.000905387354782099,0.0008576423184947617,0.0008124150868553896,0.0007695728850094998,0.0007289899399015769,0.0006905471110395796,0.0006541315407308518,0.0006196363227626233,0.0005869601885544381,0.0005560072098611377,0.0005266865171536166,0.0004989120328505939,0.00047260221861823834,0.0004476798359957921,0.00042407171964445144,0.0004017085625538261,0.0003805247125754016,0.0003604579796856831,0.0003414494534131959,0.00032344332989335935,0.00030638674804351425,0.000290229634377157,0.00027492455600179914,0.0002604265813688918,0.0002466931483670167,0.00023368393937109978,0.00022136076288082693,0.00020968744140078332],\"ys\":[0,0.0244140625,-0.0012874603271484373,-0.001219566911458969,-0.0011552538126124998,-0.0010943322248380125,-0.0010366232989188204,-0.0009819576171398983,-0.0009301746959235364,-0.0008811225146931937,-0.0008346570695824197,-0.0007906419506786594,-0.0007489479415608394,-0.0007094526399550919,-0.0006720400983949601,-0.0006366004838311633,-0.0006030297551916293,-0.0005712293579451956,-0.0005411059347723045,-0.0005125710514932961,-0.0004855409374497044,-0.00045993623957638015,-0.0004356817894424695,-0.00041270638257733926,-0.0003909425694336124,-0.00037032645737363666,-0.00035079752309807383,-0.0003322984349659488,-0.0003147748846845413,-0.00029817542787500493,-0.00028245133304565895,-0.00026755643852957925,-0.00025344701696649593,-0.00024008164693115332,-0.00022742109133126826,-0.00021542818221809593,-0.00020406771167143852,-0.000193306328438765,-0.00018311244002500204,-0.00017345611994555859,-0.00016430901987030453,-0.00015564428640058142]},\"selected\":{\"id\":\"2555\"},\"selection_policy\":{\"id\":\"2554\"}},\"id\":\"2426\",\"type\":\"ColumnDataSource\"},{\"attributes\":{\"overlay\":{\"id\":\"2451\"}},\"id\":\"2448\",\"type\":\"BoxZoomTool\"},{\"attributes\":{\"active_multi\":null,\"tools\":[{\"id\":\"2446\"},{\"id\":\"2447\"},{\"id\":\"2448\"},{\"id\":\"2449\"},{\"id\":\"2450\"}]},\"id\":\"2452\",\"type\":\"Toolbar\"},{\"attributes\":{\"label\":{\"value\":\"AD, t=-1\"},\"renderers\":[{\"id\":\"2495\"}]},\"id\":\"2507\",\"type\":\"LegendItem\"},{\"attributes\":{\"text\":\"AS-AD with demand chock\"},\"id\":\"2428\",\"type\":\"Title\"},{\"attributes\":{\"data_source\":{\"id\":\"2425\"},\"glyph\":{\"id\":\"2493\"},\"hover_glyph\":null,\"muted_glyph\":null,\"nonselection_glyph\":{\"id\":\"2494\"},\"view\":{\"id\":\"2496\"}},\"id\":\"2495\",\"type\":\"GlyphRenderer\"}],\"root_ids\":[\"2427\"]},\"title\":\"Bokeh Application\",\"version\":\"2.3.2\"}};\n",
       "  var render_items = [{\"docid\":\"560edbb3-d898-4643-93d4-75a18300d62a\",\"notebook_comms_target\":\"2671\",\"root_ids\":[\"2427\"],\"roots\":{\"2427\":\"ae1dfc0d-8716-4f10-8946-4ddf0249e276\"}}];\n",
       "  root.Bokeh.embed.embed_items_notebook(docs_json, render_items);\n",
       "\n",
       "  }\n",
       "  if (root.Bokeh !== undefined) {\n",
       "    embed_document(root);\n",
       "  } else {\n",
       "    var attempts = 0;\n",
       "    var timer = setInterval(function(root) {\n",
       "      if (root.Bokeh !== undefined) {\n",
       "        clearInterval(timer);\n",
       "        embed_document(root);\n",
       "      } else {\n",
       "        attempts++;\n",
       "        if (attempts > 100) {\n",
       "          clearInterval(timer);\n",
       "          console.log(\"Bokeh: ERROR: Unable to run BokehJS code because BokehJS library is missing\");\n",
       "        }\n",
       "      }\n",
       "    }, 10, root)\n",
       "  }\n",
       "})(window);"
      ],
      "application/vnd.bokehjs_exec.v0+json": ""
     },
     "metadata": {
      "application/vnd.bokehjs_exec.v0+json": {
       "id": "2427"
      }
     },
     "output_type": "display_data"
    }
   ],
   "source": [
    "# Then we plot everything interactively:\n",
    "Functions.plotting_asad('Output gab',y_gabs,[srass,ads],'Inflation gab', \n",
    "                    legendlocation='bottom_right', width=500, height=500,\n",
    "                    colors = ['blue',(226, 50, 86),'purple','green'], \n",
    "                    equilibrium_path=[ys,pis],keep_ad1 = True,line_width=3,\n",
    "                   y_range=[-0.02,0.02],title='AS-AD with demand chock')"
   ]
  },
  {
   "cell_type": "markdown",
   "metadata": {},
   "source": [
    "We see that inflation and output rises from the positive demand chock of $v_{1}=0.1$ in period 1, but in the following periods the inflationgab is still positive, but the outputgab becomes negative (boom-bust), afterwards we converge to the long term equilibrium."
   ]
  },
  {
   "cell_type": "markdown",
   "metadata": {},
   "source": [
    "**Question 3:** Starting from $y_{-1} = \\pi_{-1} = s_{-1} = 0$, how does the economy evolve for $x_0 = 0.1$, $x_t = 0, \\forall t > 0$ and $c_t = 0, \\forall t \\geq 0$?"
   ]
  },
  {
   "cell_type": "markdown",
   "metadata": {},
   "source": [
    "$$ v_{t} = \\delta v_{t-1} + x_{t} $$\n",
    "$$ s_{t} = \\omega s_{t-1} + c_{t} $$\n"
   ]
  },
  {
   "cell_type": "code",
   "execution_count": 42,
   "metadata": {},
   "outputs": [],
   "source": [
    "par['delta'] = 0.80\n",
    "par['omega'] = 0.15"
   ]
  },
  {
   "cell_type": "markdown",
   "metadata": {},
   "source": [
    "We define these new equations:"
   ]
  },
  {
   "cell_type": "code",
   "execution_count": 43,
   "metadata": {},
   "outputs": [],
   "source": [
    "def demand_persistence(v_t1,x_t,par):\n",
    "    '''\n",
    "    Args:\n",
    "        v_t1 (float)  : Demand chock in previous period\n",
    "        x_t (float)   : Added demand chock in current period\n",
    "    \n",
    "    Returns:\n",
    "        v_t (float)   : Demand chock in current period\n",
    "    '''\n",
    "    v_t = par['delta']*v_t1+x_t\n",
    "    return v_t\n",
    "def supply_persistence(s_t1,c_t,par):\n",
    "    '''\n",
    "    Args:\n",
    "        s_t1 (float)  : Supply chock in previous period\n",
    "        c_t (float)   : Added supply chock in current period\n",
    "    \n",
    "    Returns:\n",
    "        s_t (float)   : Supply chock in current period\n",
    "    '''\n",
    "    s_t = par['omega']*s_t1+c_t\n",
    "    return s_t"
   ]
  },
  {
   "cell_type": "markdown",
   "metadata": {},
   "source": [
    "Period 0: <br>\n",
    "We assume that $v_{-1}$ is also equal to 0, and we can calculate, with $x_{0}$=0.1:"
   ]
  },
  {
   "cell_type": "code",
   "execution_count": 44,
   "metadata": {},
   "outputs": [
    {
     "name": "stdout",
     "output_type": "stream",
     "text": [
      "Outputgab in period 0 is    0.0244\n",
      "Inflationgab in period 0 is 0.0018\n"
     ]
    }
   ],
   "source": [
    "v0 = demand_persistence(0,0.1,par)\n",
    "y0 = y_equilibrium(0,0,v0,0,0,par)\n",
    "pi0 = pi_equilibrium(0,0,v0,0,0,par)\n",
    "print(f'Outputgab in period 0 is    {y0:.4f}')\n",
    "print(f'Inflationgab in period 0 is {pi0:.4f}')"
   ]
  },
  {
   "cell_type": "code",
   "execution_count": 45,
   "metadata": {},
   "outputs": [
    {
     "name": "stdout",
     "output_type": "stream",
     "text": [
      "Outputgab in period 1 is    0.0182\n",
      "Inflationgab in period 1 is 0.0032\n"
     ]
    }
   ],
   "source": [
    "v1 = demand_persistence(v0,0,par)\n",
    "y1 = y_equilibrium(y0,pi0,v1,0,0,par)\n",
    "pi1 = pi_equilibrium(y0,pi0,v1,0,0,par)\n",
    "print(f'Outputgab in period 1 is    {y1:.4f}')\n",
    "print(f'Inflationgab in period 1 is {pi1:.4f}')"
   ]
  },
  {
   "cell_type": "markdown",
   "metadata": {},
   "source": [
    "So initially $\\pi$ and $y$ is positive, but we need to look at more periods to get the full picture:"
   ]
  },
  {
   "cell_type": "markdown",
   "metadata": {},
   "source": [
    "Lets look at the development for 70 periods, first we find the equilibriums and plot them, then we look at how aggregate demand and supply:"
   ]
  },
  {
   "cell_type": "code",
   "execution_count": 46,
   "metadata": {},
   "outputs": [],
   "source": [
    "T = 70\n",
    "vs = [0,v0]\n",
    "ys = [0,y0]\n",
    "pis= [0,pi0]\n",
    "\n",
    "for i in range(1,T):\n",
    "    vs.append(demand_persistence(vs[i],0,par))\n",
    "    ys.append(y_equilibrium(ys[i],pis[i],vs[i+1],0,0,par))\n",
    "    pis.append(pi_equilibrium(ys[i],pis[i],vs[i+1],0,0,par))\n",
    "    \n",
    "zeros = [0 for i in range(-1,T)]"
   ]
  },
  {
   "cell_type": "code",
   "execution_count": 47,
   "metadata": {},
   "outputs": [
    {
     "name": "stderr",
     "output_type": "stream",
     "text": [
      "BokehDeprecationWarning: 'legend' keyword is deprecated, use explicit 'legend_label', 'legend_field', or 'legend_group' keywords instead\n",
      "BokehDeprecationWarning: 'legend' keyword is deprecated, use explicit 'legend_label', 'legend_field', or 'legend_group' keywords instead\n",
      "BokehDeprecationWarning: 'legend' keyword is deprecated, use explicit 'legend_label', 'legend_field', or 'legend_group' keywords instead\n",
      "BokehDeprecationWarning: 'legend' keyword is deprecated, use explicit 'legend_label', 'legend_field', or 'legend_group' keywords instead\n",
      "BokehDeprecationWarning: 'legend' keyword is deprecated, use explicit 'legend_label', 'legend_field', or 'legend_group' keywords instead\n"
     ]
    },
    {
     "data": {
      "text/html": [
       "\n",
       "\n",
       "\n",
       "\n",
       "\n",
       "\n",
       "  <div class=\"bk-root\" id=\"122f19e2-c610-458c-aae1-02de2cb8d3a4\" data-root-id=\"2882\"></div>\n"
      ]
     },
     "metadata": {},
     "output_type": "display_data"
    },
    {
     "data": {
      "application/javascript": [
       "(function(root) {\n",
       "  function embed_document(root) {\n",
       "    \n",
       "  var docs_json = {\"926d4bdb-e315-43aa-8341-fb0fcb741f1b\":{\"defs\":[],\"roots\":{\"references\":[{\"attributes\":{\"children\":[{\"id\":\"2734\"},{\"id\":\"2817\"}]},\"id\":\"2882\",\"type\":\"Row\"},{\"attributes\":{\"data\":{\"a\":[0,2.44140625,1.8243789672851567,1.3375464826822285,0.9545118048845327,0.654176221423825,0.41967864724717796,0.2375471560837527,0.09702025527464855,-0.010496047249600515,-0.09186254475792233,-0.15255423087420375,-0.19693817885544693,-0.22849580707986666,-0.2500006555033893,-0.2636605727858278,-0.27123143374782516,-0.27410808279277965,-0.27339705971145417,-0.26997475291849293,-0.26453389607976474,-0.2576207408214498,-0.24966477160140674,-0.2410024555388593,-0.23189622137444865,-0.2225496228369226,-0.21311945057934542,-0.20372540396007116,-0.19445781163651105,-0.18538379209670927,-0.17655216698193332,-0.16799737743850457,-0.15974260364745324,-0.1518022476110779,-0.1441839072219892,-0.13688994399940096,-0.12991872636666466,-0.12326561393720822,-0.11692373515226676,-0.11088460011636925,-0.10513858208012584,-0.09967529430415882,-0.09448388366681962,-0.08955325808266251,-0.08487226136332787,-0.08042980640539074,-0.07621497539314717,-0.07221709394808172,-0.06842578475275939,-0.06483100505461492,-0.061423071558179436,-0.05819267549757175,-0.055130890108504006,-0.05222917226173799,-0.0494793596547876,-0.04687366466722392,-0.0444046657524237,-0.042065297053194055,-0.03984883678095119,-0.037748894780468056,-0.03575939960858917,-0.03387458538090287,-0.03208897858129513,-0.03039738498249279,-0.028794876788663163,-0.027276780081896223,-0.02583866263137315,-0.02447632210595837,-0.0231857747168312,-0.021963244305791694,-0.020805151886388165],\"b\":[0,0.18310546875,0.3199338912963867,0.4202498774975538,0.49183826286389376,0.5409014794706806,0.5723773780142188,0.5901934147205002,0.5974699338660988,0.5966827303223787,0.5897930394655345,0.5783514721499692,0.5635811087358106,0.5464439232048205,0.5276938740420664,0.5079193310831293,0.48757697355204227,0.4670188673425838,0.4465140878642247,0.4262659813953376,0.4064259391893553,0.3871043836277465,0.368379525757641,0.3503043415922265,0.33291212498914285,0.31622090327637364,0.3002369444829227,0.2849575391859174,0.270373203313179,0.2564694189059258,0.24322800638228076,0.23062820307439294,0.21864750780083392,0.2072623392300031,0.19644854618835395,0.18618180038839888,0.176437895910899,0.16719297486560836,0.15842369472918835,0.15010734972046066,0.1422219560644512,0.13474630899163928,0.1276600177166278,0.12094352336042809,0.11457810375817847,0.10854586827777418,0.10282974512328812,0.09741346307718197,0.09228152922072502,0.08741920384162889,0.08281247347476543,0.07844802281244755,0.07431320605430973,0.07039601813467937,0.06668506616057028,0.06316954131052849,0.05983919137909671,0.056684294100107155,0.05369563134153582,0.050864464233000714,0.048182509262356524,0.04564191535878881,0.04323524196519167,0.04095543809150471,0.03879582233235498,0.03675006382621276,0.03481216412885977,0.032976439970912895,0.031237506867150554,0.029590263544216174,0.028029877152737057],\"c\":[0,0,0,0,0,0,0,0,0,0,0,0,0,0,0,0,0,0,0,0,0,0,0,0,0,0,0,0,0,0,0,0,0,0,0,0,0,0,0,0,0,0,0,0,0,0,0,0,0,0,0,0,0,0,0,0,0,0,0,0,0,0,0,0,0,0,0,0,0,0,0],\"x\":[-1,0,1,2,3,4,5,6,7,8,9,10,11,12,13,14,15,16,17,18,19,20,21,22,23,24,25,26,27,28,29,30,31,32,33,34,35,36,37,38,39,40,41,42,43,44,45,46,47,48,49,50,51,52,53,54,55,56,57,58,59,60,61,62,63,64,65,66,67,68,69]},\"selected\":{\"id\":\"2779\"},\"selection_policy\":{\"id\":\"2778\"}},\"id\":\"2733\",\"type\":\"ColumnDataSource\"},{\"attributes\":{\"data_source\":{\"id\":\"2733\"},\"glyph\":{\"id\":\"2784\"},\"hover_glyph\":null,\"muted_glyph\":null,\"nonselection_glyph\":{\"id\":\"2785\"},\"view\":{\"id\":\"2787\"}},\"id\":\"2786\",\"type\":\"GlyphRenderer\"},{\"attributes\":{},\"id\":\"2750\",\"type\":\"BasicTicker\"},{\"attributes\":{},\"id\":\"2737\",\"type\":\"DataRange1d\"},{\"attributes\":{\"below\":[{\"id\":\"2745\"}],\"center\":[{\"id\":\"2748\"},{\"id\":\"2752\"},{\"id\":\"2781\"}],\"height\":450,\"left\":[{\"id\":\"2749\"}],\"renderers\":[{\"id\":\"2769\"},{\"id\":\"2786\"},{\"id\":\"2802\"}],\"title\":{\"id\":\"2735\"},\"toolbar\":{\"id\":\"2759\"},\"width\":450,\"x_range\":{\"id\":\"2737\"},\"x_scale\":{\"id\":\"2741\"},\"y_range\":{\"id\":\"2739\"},\"y_scale\":{\"id\":\"2743\"}},\"id\":\"2734\",\"subtype\":\"Figure\",\"type\":\"Plot\"},{\"attributes\":{\"line_alpha\":0.1,\"line_color\":\"blue\",\"line_width\":1.5,\"x\":{\"field\":\"x\"},\"y\":{\"field\":\"b\"}},\"id\":\"2785\",\"type\":\"Line\"},{\"attributes\":{\"line_color\":\"blue\",\"line_width\":1.5,\"x\":{\"field\":\"x\"},\"y\":{\"field\":\"b\"}},\"id\":\"2784\",\"type\":\"Line\"},{\"attributes\":{\"source\":{\"id\":\"2733\"}},\"id\":\"2787\",\"type\":\"CDSView\"},{\"attributes\":{\"callback\":null,\"tooltips\":[[\"T\",\"@x{0.00}\"],[\"Demand chock\",\"@a{0.00}\"]]},\"id\":\"2815\",\"type\":\"HoverTool\"},{\"attributes\":{\"data\":{\"a\":[0,0.1,0.08000000000000002,0.06400000000000002,0.051200000000000016,0.04096000000000002,0.03276800000000001,0.026214400000000013,0.02097152000000001,0.016777216000000008,0.013421772800000007,0.010737418240000006,0.008589934592000005,0.0068719476736000045,0.005497558138880004,0.004398046511104004,0.0035184372088832034,0.002814749767106563,0.0022517998136852503,0.0018014398509482003,0.0014411518807585604,0.0011529215046068484,0.0009223372036854787,0.000737869762948383,0.0005902958103587065,0.0004722366482869652,0.0003777893186295722,0.00030223145490365774,0.0002417851639229262,0.00019342813113834098,0.0001547425049106728,0.00012379400392853823,9.903520314283059e-05,7.922816251426448e-05,6.338253001141159e-05,5.070602400912927e-05,4.056481920730342e-05,3.2451855365842736e-05,2.596148429267419e-05,2.0769187434139353e-05,1.6615349947311485e-05,1.3292279957849188e-05,1.0633823966279351e-05,8.507059173023481e-06,6.805647338418785e-06,5.444517870735028e-06,4.355614296588023e-06,3.4844914372704182e-06,2.7875931498163346e-06,2.2300745198530677e-06,1.7840596158824543e-06,1.4272476927059635e-06,1.1417981541647709e-06,9.134385233318168e-07,7.307508186654535e-07,5.846006549323629e-07,4.6768052394589033e-07,3.741444191567123e-07,2.993155353253699e-07,2.3945242826029593e-07,1.9156194260823676e-07,1.5324955408658942e-07,1.2259964326927154e-07,9.807971461541724e-08,7.84637716923338e-08,6.277101735386704e-08,5.021681388309364e-08,4.0173451106474913e-08,3.2138760885179933e-08,2.571100870814395e-08,2.056880696651516e-08],\"b\":[0,0,0,0,0,0,0,0,0,0,0,0,0,0,0,0,0,0,0,0,0,0,0,0,0,0,0,0,0,0,0,0,0,0,0,0,0,0,0,0,0,0,0,0,0,0,0,0,0,0,0,0,0,0,0,0,0,0,0,0,0,0,0,0,0,0,0,0,0,0,0],\"x\":[-1,0,1,2,3,4,5,6,7,8,9,10,11,12,13,14,15,16,17,18,19,20,21,22,23,24,25,26,27,28,29,30,31,32,33,34,35,36,37,38,39,40,41,42,43,44,45,46,47,48,49,50,51,52,53,54,55,56,57,58,59,60,61,62,63,64,65,66,67,68,69]},\"selected\":{\"id\":\"2862\"},\"selection_policy\":{\"id\":\"2861\"}},\"id\":\"2816\",\"type\":\"ColumnDataSource\"},{\"attributes\":{\"text\":\"Progression of eqiulibrium after demand chock\"},\"id\":\"2735\",\"type\":\"Title\"},{\"attributes\":{},\"id\":\"2743\",\"type\":\"LinearScale\"},{\"attributes\":{},\"id\":\"2739\",\"type\":\"DataRange1d\"},{\"attributes\":{},\"id\":\"2741\",\"type\":\"LinearScale\"},{\"attributes\":{},\"id\":\"2754\",\"type\":\"WheelZoomTool\"},{\"attributes\":{\"data_source\":{\"id\":\"2733\"},\"glyph\":{\"id\":\"2767\"},\"hover_glyph\":null,\"muted_glyph\":null,\"nonselection_glyph\":{\"id\":\"2768\"},\"view\":{\"id\":\"2770\"}},\"id\":\"2769\",\"type\":\"GlyphRenderer\"},{\"attributes\":{\"axis\":{\"id\":\"2749\"},\"dimension\":1,\"ticker\":null},\"id\":\"2752\",\"type\":\"Grid\"},{\"attributes\":{},\"id\":\"2861\",\"type\":\"UnionRenderers\"},{\"attributes\":{},\"id\":\"2753\",\"type\":\"PanTool\"},{\"attributes\":{},\"id\":\"2862\",\"type\":\"Selection\"},{\"attributes\":{\"overlay\":{\"id\":\"2758\"}},\"id\":\"2755\",\"type\":\"BoxZoomTool\"},{\"attributes\":{\"line_alpha\":0.1,\"line_color\":\"blue\",\"line_width\":1.5,\"x\":{\"field\":\"x\"},\"y\":{\"field\":\"a\"}},\"id\":\"2851\",\"type\":\"Line\"},{\"attributes\":{},\"id\":\"2756\",\"type\":\"ResetTool\"},{\"attributes\":{\"line_color\":\"blue\",\"line_width\":1.5,\"x\":{\"field\":\"x\"},\"y\":{\"field\":\"a\"}},\"id\":\"2850\",\"type\":\"Line\"},{\"attributes\":{\"data_source\":{\"id\":\"2816\"},\"glyph\":{\"id\":\"2867\"},\"hover_glyph\":null,\"muted_glyph\":null,\"nonselection_glyph\":{\"id\":\"2868\"},\"view\":{\"id\":\"2870\"}},\"id\":\"2869\",\"type\":\"GlyphRenderer\"},{\"attributes\":{},\"id\":\"2757\",\"type\":\"SaveTool\"},{\"attributes\":{\"items\":[{\"id\":\"2865\"},{\"id\":\"2881\"}],\"location\":\"top_center\"},\"id\":\"2864\",\"type\":\"Legend\"},{\"attributes\":{\"line_width\":1.5,\"x\":{\"field\":\"x\"},\"y\":{\"field\":\"c\"}},\"id\":\"2800\",\"type\":\"Line\"},{\"attributes\":{\"source\":{\"id\":\"2816\"}},\"id\":\"2853\",\"type\":\"CDSView\"},{\"attributes\":{\"line_alpha\":0.1,\"line_width\":1.5,\"x\":{\"field\":\"x\"},\"y\":{\"field\":\"c\"}},\"id\":\"2801\",\"type\":\"Line\"},{\"attributes\":{\"source\":{\"id\":\"2733\"}},\"id\":\"2803\",\"type\":\"CDSView\"},{\"attributes\":{\"data_source\":{\"id\":\"2733\"},\"glyph\":{\"id\":\"2800\"},\"hover_glyph\":null,\"muted_glyph\":null,\"nonselection_glyph\":{\"id\":\"2801\"},\"view\":{\"id\":\"2803\"}},\"id\":\"2802\",\"type\":\"GlyphRenderer\"},{\"attributes\":{\"label\":{\"value\":\"\"},\"renderers\":[{\"id\":\"2802\"}]},\"id\":\"2814\",\"type\":\"LegendItem\"},{\"attributes\":{\"label\":{\"value\":\"Demand chock\"},\"renderers\":[{\"id\":\"2852\"}]},\"id\":\"2865\",\"type\":\"LegendItem\"},{\"attributes\":{},\"id\":\"2820\",\"type\":\"DataRange1d\"},{\"attributes\":{\"label\":{\"value\":\"Inflationgab\"},\"renderers\":[{\"id\":\"2786\"}]},\"id\":\"2798\",\"type\":\"LegendItem\"},{\"attributes\":{},\"id\":\"2855\",\"type\":\"BasicTickFormatter\"},{\"attributes\":{},\"id\":\"2826\",\"type\":\"LinearScale\"},{\"attributes\":{},\"id\":\"2856\",\"type\":\"AllLabels\"},{\"attributes\":{\"text\":\"Autoregressive demand chock\"},\"id\":\"2818\",\"type\":\"Title\"},{\"attributes\":{\"below\":[{\"id\":\"2828\"}],\"center\":[{\"id\":\"2831\"},{\"id\":\"2835\"},{\"id\":\"2864\"}],\"height\":450,\"left\":[{\"id\":\"2832\"}],\"renderers\":[{\"id\":\"2852\"},{\"id\":\"2869\"}],\"title\":{\"id\":\"2818\"},\"toolbar\":{\"id\":\"2842\"},\"width\":450,\"x_range\":{\"id\":\"2820\"},\"x_scale\":{\"id\":\"2824\"},\"y_range\":{\"id\":\"2822\"},\"y_scale\":{\"id\":\"2826\"}},\"id\":\"2817\",\"subtype\":\"Figure\",\"type\":\"Plot\"},{\"attributes\":{\"bottom_units\":\"screen\",\"fill_alpha\":0.5,\"fill_color\":\"lightgrey\",\"left_units\":\"screen\",\"level\":\"overlay\",\"line_alpha\":1.0,\"line_color\":\"black\",\"line_dash\":[4,4],\"line_width\":2,\"right_units\":\"screen\",\"syncable\":false,\"top_units\":\"screen\"},\"id\":\"2758\",\"type\":\"BoxAnnotation\"},{\"attributes\":{},\"id\":\"2822\",\"type\":\"DataRange1d\"},{\"attributes\":{},\"id\":\"2824\",\"type\":\"LinearScale\"},{\"attributes\":{\"axis_label\":\"T\",\"formatter\":{\"id\":\"2858\"},\"major_label_policy\":{\"id\":\"2859\"},\"ticker\":{\"id\":\"2829\"}},\"id\":\"2828\",\"type\":\"LinearAxis\"},{\"attributes\":{},\"id\":\"2829\",\"type\":\"BasicTicker\"},{\"attributes\":{\"axis\":{\"id\":\"2828\"},\"ticker\":null},\"id\":\"2831\",\"type\":\"Grid\"},{\"attributes\":{},\"id\":\"2858\",\"type\":\"BasicTickFormatter\"},{\"attributes\":{\"active_multi\":null,\"tools\":[{\"id\":\"2815\"},{\"id\":\"2836\"},{\"id\":\"2837\"},{\"id\":\"2838\"},{\"id\":\"2839\"},{\"id\":\"2840\"}]},\"id\":\"2842\",\"type\":\"Toolbar\"},{\"attributes\":{\"formatter\":{\"id\":\"2855\"},\"major_label_policy\":{\"id\":\"2856\"},\"ticker\":{\"id\":\"2833\"}},\"id\":\"2832\",\"type\":\"LinearAxis\"},{\"attributes\":{},\"id\":\"2859\",\"type\":\"AllLabels\"},{\"attributes\":{\"axis\":{\"id\":\"2832\"},\"dimension\":1,\"ticker\":null},\"id\":\"2835\",\"type\":\"Grid\"},{\"attributes\":{},\"id\":\"2833\",\"type\":\"BasicTicker\"},{\"attributes\":{\"data_source\":{\"id\":\"2816\"},\"glyph\":{\"id\":\"2850\"},\"hover_glyph\":null,\"muted_glyph\":null,\"nonselection_glyph\":{\"id\":\"2851\"},\"view\":{\"id\":\"2853\"}},\"id\":\"2852\",\"type\":\"GlyphRenderer\"},{\"attributes\":{},\"id\":\"2837\",\"type\":\"WheelZoomTool\"},{\"attributes\":{},\"id\":\"2836\",\"type\":\"PanTool\"},{\"attributes\":{\"overlay\":{\"id\":\"2841\"}},\"id\":\"2838\",\"type\":\"BoxZoomTool\"},{\"attributes\":{},\"id\":\"2839\",\"type\":\"ResetTool\"},{\"attributes\":{},\"id\":\"2840\",\"type\":\"SaveTool\"},{\"attributes\":{\"active_multi\":null,\"tools\":[{\"id\":\"2732\"},{\"id\":\"2753\"},{\"id\":\"2754\"},{\"id\":\"2755\"},{\"id\":\"2756\"},{\"id\":\"2757\"}]},\"id\":\"2759\",\"type\":\"Toolbar\"},{\"attributes\":{\"line_width\":1.5,\"x\":{\"field\":\"x\"},\"y\":{\"field\":\"b\"}},\"id\":\"2867\",\"type\":\"Line\"},{\"attributes\":{\"source\":{\"id\":\"2816\"}},\"id\":\"2870\",\"type\":\"CDSView\"},{\"attributes\":{\"line_alpha\":0.1,\"line_color\":\"red\",\"line_width\":1.5,\"x\":{\"field\":\"x\"},\"y\":{\"field\":\"a\"}},\"id\":\"2768\",\"type\":\"Line\"},{\"attributes\":{\"line_color\":\"red\",\"line_width\":1.5,\"x\":{\"field\":\"x\"},\"y\":{\"field\":\"a\"}},\"id\":\"2767\",\"type\":\"Line\"},{\"attributes\":{\"source\":{\"id\":\"2733\"}},\"id\":\"2770\",\"type\":\"CDSView\"},{\"attributes\":{\"label\":{\"value\":\"\"},\"renderers\":[{\"id\":\"2869\"}]},\"id\":\"2881\",\"type\":\"LegendItem\"},{\"attributes\":{\"items\":[{\"id\":\"2782\"},{\"id\":\"2798\"},{\"id\":\"2814\"}],\"location\":\"top_center\"},\"id\":\"2781\",\"type\":\"Legend\"},{\"attributes\":{\"line_alpha\":0.1,\"line_width\":1.5,\"x\":{\"field\":\"x\"},\"y\":{\"field\":\"b\"}},\"id\":\"2868\",\"type\":\"Line\"},{\"attributes\":{\"label\":{\"value\":\"Outputgab\"},\"renderers\":[{\"id\":\"2769\"}]},\"id\":\"2782\",\"type\":\"LegendItem\"},{\"attributes\":{\"bottom_units\":\"screen\",\"fill_alpha\":0.5,\"fill_color\":\"lightgrey\",\"left_units\":\"screen\",\"level\":\"overlay\",\"line_alpha\":1.0,\"line_color\":\"black\",\"line_dash\":[4,4],\"line_width\":2,\"right_units\":\"screen\",\"syncable\":false,\"top_units\":\"screen\"},\"id\":\"2841\",\"type\":\"BoxAnnotation\"},{\"attributes\":{},\"id\":\"2772\",\"type\":\"BasicTickFormatter\"},{\"attributes\":{},\"id\":\"2773\",\"type\":\"AllLabels\"},{\"attributes\":{\"callback\":null,\"tooltips\":[[\"T\",\"@x{0.00}\"],[\"Outputgab\",\"@a{0.00}%\"],[\"Inflationgab\",\"@b{0.00}%\"]]},\"id\":\"2732\",\"type\":\"HoverTool\"},{\"attributes\":{},\"id\":\"2775\",\"type\":\"BasicTickFormatter\"},{\"attributes\":{},\"id\":\"2776\",\"type\":\"AllLabels\"},{\"attributes\":{\"axis_label\":\"T\",\"formatter\":{\"id\":\"2775\"},\"major_label_policy\":{\"id\":\"2776\"},\"ticker\":{\"id\":\"2746\"}},\"id\":\"2745\",\"type\":\"LinearAxis\"},{\"attributes\":{\"axis\":{\"id\":\"2745\"},\"ticker\":null},\"id\":\"2748\",\"type\":\"Grid\"},{\"attributes\":{\"axis_label\":\"Percentage gab from long run level\",\"formatter\":{\"id\":\"2772\"},\"major_label_policy\":{\"id\":\"2773\"},\"ticker\":{\"id\":\"2750\"}},\"id\":\"2749\",\"type\":\"LinearAxis\"},{\"attributes\":{},\"id\":\"2746\",\"type\":\"BasicTicker\"},{\"attributes\":{},\"id\":\"2778\",\"type\":\"UnionRenderers\"},{\"attributes\":{},\"id\":\"2779\",\"type\":\"Selection\"}],\"root_ids\":[\"2882\"]},\"title\":\"Bokeh Application\",\"version\":\"2.3.2\"}};\n",
       "  var render_items = [{\"docid\":\"926d4bdb-e315-43aa-8341-fb0fcb741f1b\",\"notebook_comms_target\":\"3015\",\"root_ids\":[\"2882\"],\"roots\":{\"2882\":\"122f19e2-c610-458c-aae1-02de2cb8d3a4\"}}];\n",
       "  root.Bokeh.embed.embed_items_notebook(docs_json, render_items);\n",
       "\n",
       "  }\n",
       "  if (root.Bokeh !== undefined) {\n",
       "    embed_document(root);\n",
       "  } else {\n",
       "    var attempts = 0;\n",
       "    var timer = setInterval(function(root) {\n",
       "      if (root.Bokeh !== undefined) {\n",
       "        clearInterval(timer);\n",
       "        embed_document(root);\n",
       "      } else {\n",
       "        attempts++;\n",
       "        if (attempts > 100) {\n",
       "          clearInterval(timer);\n",
       "          console.log(\"Bokeh: ERROR: Unable to run BokehJS code because BokehJS library is missing\");\n",
       "        }\n",
       "      }\n",
       "    }, 10, root)\n",
       "  }\n",
       "})(window);"
      ],
      "application/vnd.bokehjs_exec.v0+json": ""
     },
     "metadata": {
      "application/vnd.bokehjs_exec.v0+json": {
       "id": "2882"
      }
     },
     "output_type": "display_data"
    },
    {
     "data": {
      "text/html": [
       "<p><code>&lt;Bokeh Notebook handle for <strong>In[47]</strong>&gt;</code></p>"
      ],
      "text/plain": [
       "<bokeh.io.notebook.CommsHandle at 0x1cc34edcac0>"
      ]
     },
     "execution_count": 47,
     "metadata": {},
     "output_type": "execute_result"
    }
   ],
   "source": [
    "p1 = Functions.plotting('T',['Outputgab','Inflationgab',''],range(-1,T),\n",
    "                        [[y*100 for y in ys],[pi*100 for pi in pis],zeros],\n",
    "                        'Percentage gab from long run level',colors=['red','blue','black'],y_unit='%',\n",
    "                       title='Progression of eqiulibrium after demand chock')\n",
    "p2 = Functions.plotting('T',['Demand chock',''],range(-1,T),[vs,zeros],'',\n",
    "                       colors = ['blue','black'],title='Autoregressive demand chock')\n",
    "show(row(p1,p2),notebook_handle=True)"
   ]
  },
  {
   "cell_type": "markdown",
   "metadata": {},
   "source": [
    "Now we plot the progression for the demand and supply curves"
   ]
  },
  {
   "cell_type": "code",
   "execution_count": 48,
   "metadata": {},
   "outputs": [],
   "source": [
    "y_gabs = np.linspace(-0.02,0.05,100)"
   ]
  },
  {
   "cell_type": "code",
   "execution_count": 49,
   "metadata": {},
   "outputs": [],
   "source": [
    "ad_curves = [ad(y_gabs,v,par) for v in vs]\n",
    "sras_curves = [sras(y_gabs,0,0,0,0,par)]\n",
    "for i in range(T+1):\n",
    "    sras_curves.append(sras(y_gabs,ys[i],pis[i],0,0,par))"
   ]
  },
  {
   "cell_type": "code",
   "execution_count": 50,
   "metadata": {},
   "outputs": [
    {
     "name": "stderr",
     "output_type": "stream",
     "text": [
      "BokehDeprecationWarning: 'legend' keyword is deprecated, use explicit 'legend_label', 'legend_field', or 'legend_group' keywords instead\n",
      "BokehDeprecationWarning: 'legend' keyword is deprecated, use explicit 'legend_label', 'legend_field', or 'legend_group' keywords instead\n",
      "BokehDeprecationWarning: 'legend' keyword is deprecated, use explicit 'legend_label', 'legend_field', or 'legend_group' keywords instead\n",
      "BokehDeprecationWarning: 'legend' keyword is deprecated, use explicit 'legend_label', 'legend_field', or 'legend_group' keywords instead\n",
      "BokehDeprecationWarning: 'legend' keyword is deprecated, use explicit 'legend_label', 'legend_field', or 'legend_group' keywords instead\n",
      "BokehDeprecationWarning: 'legend' keyword is deprecated, use explicit 'legend_label', 'legend_field', or 'legend_group' keywords instead\n",
      "BokehDeprecationWarning: 'legend' keyword is deprecated, use explicit 'legend_label', 'legend_field', or 'legend_group' keywords instead\n",
      "BokehDeprecationWarning: 'legend' keyword is deprecated, use explicit 'legend_label', 'legend_field', or 'legend_group' keywords instead\n",
      "BokehDeprecationWarning: 'legend' keyword is deprecated, use explicit 'legend_label', 'legend_field', or 'legend_group' keywords instead\n",
      "BokehDeprecationWarning: 'legend' keyword is deprecated, use explicit 'legend_label', 'legend_field', or 'legend_group' keywords instead\n"
     ]
    },
    {
     "data": {
      "text/html": [
       "\n",
       "\n",
       "\n",
       "\n",
       "\n",
       "\n",
       "  <div class=\"bk-root\" id=\"dd15fc74-4f33-4b2c-b605-9cddf24a091d\" data-root-id=\"3118\"></div>\n"
      ]
     },
     "metadata": {},
     "output_type": "display_data"
    },
    {
     "data": {
      "application/javascript": [
       "(function(root) {\n",
       "  function embed_document(root) {\n",
       "    \n",
       "  var docs_json = {\"0ef156f2-a70e-48f6-8014-9684429d0b3c\":{\"defs\":[],\"roots\":{\"references\":[{\"attributes\":{\"below\":[{\"id\":\"3129\"}],\"center\":[{\"id\":\"3132\"},{\"id\":\"3136\"},{\"id\":\"3165\"}],\"left\":[{\"id\":\"3133\"}],\"renderers\":[{\"id\":\"3153\"},{\"id\":\"3170\"},{\"id\":\"3186\"},{\"id\":\"3202\"},{\"id\":\"3218\"},{\"id\":\"3234\"},{\"id\":\"3250\"},{\"id\":\"3266\"},{\"id\":\"3282\"},{\"id\":\"3298\"},{\"id\":\"3316\"},{\"id\":\"3321\"},{\"id\":\"3326\"},{\"id\":\"3331\"},{\"id\":\"3336\"}],\"title\":{\"id\":\"3119\"},\"toolbar\":{\"id\":\"3143\"},\"x_range\":{\"id\":\"3121\"},\"x_scale\":{\"id\":\"3125\"},\"y_range\":{\"id\":\"3123\"},\"y_scale\":{\"id\":\"3127\"}},\"id\":\"3118\",\"subtype\":\"Figure\",\"type\":\"Plot\"},{\"attributes\":{},\"id\":\"3483\",\"type\":\"UnionRenderers\"},{\"attributes\":{},\"id\":\"3484\",\"type\":\"Selection\"},{\"attributes\":{},\"id\":\"3490\",\"type\":\"Selection\"},{\"attributes\":{\"data_source\":{\"id\":\"3117\"},\"glyph\":{\"id\":\"3200\"},\"hover_glyph\":null,\"muted_glyph\":null,\"nonselection_glyph\":{\"id\":\"3201\"},\"view\":{\"id\":\"3203\"}},\"id\":\"3202\",\"type\":\"GlyphRenderer\"},{\"attributes\":{},\"id\":\"3309\",\"type\":\"UnionRenderers\"},{\"attributes\":{},\"id\":\"3310\",\"type\":\"Selection\"},{\"attributes\":{\"data_source\":{\"id\":\"3117\"},\"glyph\":{\"id\":\"3184\"},\"hover_glyph\":null,\"muted_glyph\":null,\"nonselection_glyph\":{\"id\":\"3185\"},\"view\":{\"id\":\"3187\"}},\"id\":\"3186\",\"type\":\"GlyphRenderer\"},{\"attributes\":{\"line_alpha\":0.1,\"line_color\":\"rgb(0, 0, 255)\",\"line_width\":1.5,\"x\":{\"field\":\"x\"},\"y\":{\"field\":\"d\"}},\"id\":\"3201\",\"type\":\"Line\"},{\"attributes\":{\"line_color\":\"rgb(0, 0, 255)\",\"line_width\":1.5,\"x\":{\"field\":\"x\"},\"y\":{\"field\":\"d\"}},\"id\":\"3200\",\"type\":\"Line\"},{\"attributes\":{\"source\":{\"id\":\"3117\"}},\"id\":\"3203\",\"type\":\"CDSView\"},{\"attributes\":{},\"id\":\"3485\",\"type\":\"UnionRenderers\"},{\"attributes\":{\"label\":{\"value\":\"SRAS, t=2\"},\"renderers\":[{\"id\":\"3202\"}]},\"id\":\"3214\",\"type\":\"LegendItem\"},{\"attributes\":{},\"id\":\"3486\",\"type\":\"Selection\"},{\"attributes\":{\"bottom_units\":\"screen\",\"fill_alpha\":0.5,\"fill_color\":\"lightgrey\",\"left_units\":\"screen\",\"level\":\"overlay\",\"line_alpha\":1.0,\"line_color\":\"black\",\"line_dash\":[4,4],\"line_width\":2,\"right_units\":\"screen\",\"syncable\":false,\"top_units\":\"screen\"},\"id\":\"3142\",\"type\":\"BoxAnnotation\"},{\"attributes\":{\"fill_color\":{\"value\":\"rgb(153, 0, 76)\"},\"line_color\":{\"value\":\"rgb(153, 0, 76)\"},\"line_width\":{\"value\":3},\"x\":{\"value\":0.0244140625},\"y\":{\"value\":0.0018310546875}},\"id\":\"3319\",\"type\":\"Circle\"},{\"attributes\":{\"source\":{\"id\":\"3313\"}},\"id\":\"3317\",\"type\":\"CDSView\"},{\"attributes\":{\"data_source\":{\"id\":\"3313\"},\"glyph\":{\"id\":\"3314\"},\"hover_glyph\":null,\"muted_glyph\":null,\"nonselection_glyph\":{\"id\":\"3315\"},\"view\":{\"id\":\"3317\"}},\"id\":\"3316\",\"type\":\"GlyphRenderer\"},{\"attributes\":{\"data\":{},\"selected\":{\"id\":\"3482\"},\"selection_policy\":{\"id\":\"3481\"}},\"id\":\"3313\",\"type\":\"ColumnDataSource\"},{\"attributes\":{\"fill_alpha\":{\"value\":0.1},\"fill_color\":{\"value\":\"rgb(102, 0, 51)\"},\"line_alpha\":{\"value\":0.1},\"line_color\":{\"value\":\"rgb(102, 0, 51)\"},\"line_width\":{\"value\":3},\"x\":{\"value\":0},\"y\":{\"value\":0}},\"id\":\"3315\",\"type\":\"Circle\"},{\"attributes\":{\"source\":{\"id\":\"3318\"}},\"id\":\"3322\",\"type\":\"CDSView\"},{\"attributes\":{\"fill_alpha\":{\"value\":0.1},\"fill_color\":{\"value\":\"rgb(153, 0, 76)\"},\"line_alpha\":{\"value\":0.1},\"line_color\":{\"value\":\"rgb(153, 0, 76)\"},\"line_width\":{\"value\":3},\"x\":{\"value\":0.0244140625},\"y\":{\"value\":0.0018310546875}},\"id\":\"3320\",\"type\":\"Circle\"},{\"attributes\":{\"data_source\":{\"id\":\"3318\"},\"glyph\":{\"id\":\"3319\"},\"hover_glyph\":null,\"muted_glyph\":null,\"nonselection_glyph\":{\"id\":\"3320\"},\"view\":{\"id\":\"3322\"}},\"id\":\"3321\",\"type\":\"GlyphRenderer\"},{\"attributes\":{\"fill_color\":{\"value\":\"rgb(204, 0, 102)\"},\"line_color\":{\"value\":\"rgb(204, 0, 102)\"},\"line_width\":{\"value\":3},\"x\":{\"value\":0.018243789672851566},\"y\":{\"value\":0.003199338912963867}},\"id\":\"3324\",\"type\":\"Circle\"},{\"attributes\":{\"line_color\":\"rgb(255, 132, 208)\",\"line_width\":1.5,\"x\":{\"field\":\"x\"},\"y\":{\"field\":\"i\"}},\"id\":\"3280\",\"type\":\"Line\"},{\"attributes\":{\"data\":{},\"selected\":{\"id\":\"3484\"},\"selection_policy\":{\"id\":\"3483\"}},\"id\":\"3318\",\"type\":\"ColumnDataSource\"},{\"attributes\":{\"source\":{\"id\":\"3323\"}},\"id\":\"3327\",\"type\":\"CDSView\"},{\"attributes\":{},\"id\":\"3487\",\"type\":\"UnionRenderers\"},{\"attributes\":{\"data_source\":{\"id\":\"3117\"},\"glyph\":{\"id\":\"3216\"},\"hover_glyph\":null,\"muted_glyph\":null,\"nonselection_glyph\":{\"id\":\"3217\"},\"view\":{\"id\":\"3219\"}},\"id\":\"3218\",\"type\":\"GlyphRenderer\"},{\"attributes\":{\"fill_alpha\":{\"value\":0.1},\"fill_color\":{\"value\":\"rgb(204, 0, 102)\"},\"line_alpha\":{\"value\":0.1},\"line_color\":{\"value\":\"rgb(204, 0, 102)\"},\"line_width\":{\"value\":3},\"x\":{\"value\":0.018243789672851566},\"y\":{\"value\":0.003199338912963867}},\"id\":\"3325\",\"type\":\"Circle\"},{\"attributes\":{},\"id\":\"3488\",\"type\":\"Selection\"},{\"attributes\":{\"data_source\":{\"id\":\"3323\"},\"glyph\":{\"id\":\"3324\"},\"hover_glyph\":null,\"muted_glyph\":null,\"nonselection_glyph\":{\"id\":\"3325\"},\"view\":{\"id\":\"3327\"}},\"id\":\"3326\",\"type\":\"GlyphRenderer\"},{\"attributes\":{\"line_alpha\":0.1,\"line_color\":\"rgb(204, 0, 102)\",\"line_width\":1.5,\"x\":{\"field\":\"x\"},\"y\":{\"field\":\"e\"}},\"id\":\"3217\",\"type\":\"Line\"},{\"attributes\":{\"fill_color\":{\"value\":\"rgb(255, 102, 178)\"},\"line_color\":{\"value\":\"rgb(255, 102, 178)\"},\"line_width\":{\"value\":3},\"x\":{\"value\":0.006541762214238251},\"y\":{\"value\":0.005409014794706806}},\"id\":\"3329\",\"type\":\"Circle\"},{\"attributes\":{\"data\":{},\"selected\":{\"id\":\"3486\"},\"selection_policy\":{\"id\":\"3485\"}},\"id\":\"3323\",\"type\":\"ColumnDataSource\"},{\"attributes\":{\"line_color\":\"rgb(204, 0, 102)\",\"line_width\":1.5,\"x\":{\"field\":\"x\"},\"y\":{\"field\":\"e\"}},\"id\":\"3216\",\"type\":\"Line\"},{\"attributes\":{\"source\":{\"id\":\"3328\"}},\"id\":\"3332\",\"type\":\"CDSView\"},{\"attributes\":{\"source\":{\"id\":\"3117\"}},\"id\":\"3219\",\"type\":\"CDSView\"},{\"attributes\":{\"fill_alpha\":{\"value\":0.1},\"fill_color\":{\"value\":\"rgb(255, 102, 178)\"},\"line_alpha\":{\"value\":0.1},\"line_color\":{\"value\":\"rgb(255, 102, 178)\"},\"line_width\":{\"value\":3},\"x\":{\"value\":0.006541762214238251},\"y\":{\"value\":0.005409014794706806}},\"id\":\"3330\",\"type\":\"Circle\"},{\"attributes\":{\"data_source\":{\"id\":\"3328\"},\"glyph\":{\"id\":\"3329\"},\"hover_glyph\":null,\"muted_glyph\":null,\"nonselection_glyph\":{\"id\":\"3330\"},\"view\":{\"id\":\"3332\"}},\"id\":\"3331\",\"type\":\"GlyphRenderer\"},{\"attributes\":{\"label\":{\"value\":\"AD, t=2\"},\"renderers\":[{\"id\":\"3218\"}]},\"id\":\"3230\",\"type\":\"LegendItem\"},{\"attributes\":{\"line_alpha\":0.1,\"line_color\":\"rgb(0, 0, 153)\",\"line_width\":1.5,\"x\":{\"field\":\"x\"},\"y\":{\"field\":\"a\"}},\"id\":\"3152\",\"type\":\"Line\"},{\"attributes\":{\"fill_color\":{\"value\":\"rgb(255, 132, 178)\"},\"line_color\":{\"value\":\"rgb(255, 132, 178)\"},\"line_width\":{\"value\":3},\"x\":{\"value\":-0.0009186254475792232},\"y\":{\"value\":0.005897930394655345}},\"id\":\"3334\",\"type\":\"Circle\"},{\"attributes\":{\"line_color\":\"rgb(0, 0, 153)\",\"line_width\":1.5,\"x\":{\"field\":\"x\"},\"y\":{\"field\":\"a\"}},\"id\":\"3151\",\"type\":\"Line\"},{\"attributes\":{\"data\":{},\"selected\":{\"id\":\"3488\"},\"selection_policy\":{\"id\":\"3487\"}},\"id\":\"3328\",\"type\":\"ColumnDataSource\"},{\"attributes\":{\"source\":{\"id\":\"3333\"}},\"id\":\"3337\",\"type\":\"CDSView\"},{\"attributes\":{\"items\":[{\"id\":\"3166\"},{\"id\":\"3182\"},{\"id\":\"3198\"},{\"id\":\"3214\"},{\"id\":\"3230\"},{\"id\":\"3246\"},{\"id\":\"3262\"},{\"id\":\"3278\"},{\"id\":\"3294\"},{\"id\":\"3312\"}]},\"id\":\"3165\",\"type\":\"Legend\"},{\"attributes\":{\"fill_alpha\":{\"value\":0.1},\"fill_color\":{\"value\":\"rgb(255, 132, 178)\"},\"line_alpha\":{\"value\":0.1},\"line_color\":{\"value\":\"rgb(255, 132, 178)\"},\"line_width\":{\"value\":3},\"x\":{\"value\":-0.0009186254475792232},\"y\":{\"value\":0.005897930394655345}},\"id\":\"3335\",\"type\":\"Circle\"},{\"attributes\":{\"data_source\":{\"id\":\"3333\"},\"glyph\":{\"id\":\"3334\"},\"hover_glyph\":null,\"muted_glyph\":null,\"nonselection_glyph\":{\"id\":\"3335\"},\"view\":{\"id\":\"3337\"}},\"id\":\"3336\",\"type\":\"GlyphRenderer\"},{\"attributes\":{\"source\":{\"id\":\"3117\"}},\"id\":\"3154\",\"type\":\"CDSView\"},{\"attributes\":{\"data\":{},\"selected\":{\"id\":\"3490\"},\"selection_policy\":{\"id\":\"3489\"}},\"id\":\"3333\",\"type\":\"ColumnDataSource\"},{\"attributes\":{},\"id\":\"3489\",\"type\":\"UnionRenderers\"},{\"attributes\":{\"label\":{\"value\":\"SRAS, t=10\"},\"renderers\":[{\"id\":\"3266\"}]},\"id\":\"3278\",\"type\":\"LegendItem\"},{\"attributes\":{\"data_source\":{\"id\":\"3117\"},\"glyph\":{\"id\":\"3232\"},\"hover_glyph\":null,\"muted_glyph\":null,\"nonselection_glyph\":{\"id\":\"3233\"},\"view\":{\"id\":\"3235\"}},\"id\":\"3234\",\"type\":\"GlyphRenderer\"},{\"attributes\":{},\"id\":\"3156\",\"type\":\"BasicTickFormatter\"},{\"attributes\":{\"label\":{\"value\":\"SRAS, t=5\"},\"renderers\":[{\"id\":\"3234\"}]},\"id\":\"3246\",\"type\":\"LegendItem\"},{\"attributes\":{},\"id\":\"3157\",\"type\":\"AllLabels\"},{\"attributes\":{\"line_alpha\":0.1,\"line_color\":\"rgb(102, 102, 51)\",\"line_width\":1.5,\"x\":{\"field\":\"x\"},\"y\":{\"field\":\"f\"}},\"id\":\"3233\",\"type\":\"Line\"},{\"attributes\":{\"line_color\":\"rgb(102, 102, 51)\",\"line_width\":1.5,\"x\":{\"field\":\"x\"},\"y\":{\"field\":\"f\"}},\"id\":\"3232\",\"type\":\"Line\"},{\"attributes\":{\"source\":{\"id\":\"3117\"}},\"id\":\"3235\",\"type\":\"CDSView\"},{\"attributes\":{},\"id\":\"3481\",\"type\":\"UnionRenderers\"},{\"attributes\":{},\"id\":\"3482\",\"type\":\"Selection\"},{\"attributes\":{},\"id\":\"3159\",\"type\":\"BasicTickFormatter\"},{\"attributes\":{},\"id\":\"3160\",\"type\":\"AllLabels\"},{\"attributes\":{\"label\":{\"value\":\"AD, t=0\"},\"renderers\":[{\"id\":\"3170\"}]},\"id\":\"3182\",\"type\":\"LegendItem\"},{\"attributes\":{\"data_source\":{\"id\":\"3117\"},\"glyph\":{\"id\":\"3248\"},\"hover_glyph\":null,\"muted_glyph\":null,\"nonselection_glyph\":{\"id\":\"3249\"},\"view\":{\"id\":\"3251\"}},\"id\":\"3250\",\"type\":\"GlyphRenderer\"},{\"attributes\":{\"label\":{\"value\":\"AD, t=5\"},\"renderers\":[{\"id\":\"3250\"}]},\"id\":\"3262\",\"type\":\"LegendItem\"},{\"attributes\":{\"line_color\":\"rgb(255, 102, 178)\",\"line_width\":1.5,\"x\":{\"field\":\"x\"},\"y\":{\"field\":\"g\"}},\"id\":\"3248\",\"type\":\"Line\"},{\"attributes\":{\"line_alpha\":0.1,\"line_color\":\"rgb(255, 102, 178)\",\"line_width\":1.5,\"x\":{\"field\":\"x\"},\"y\":{\"field\":\"g\"}},\"id\":\"3249\",\"type\":\"Line\"},{\"attributes\":{\"label\":{\"value\":\"AD, t=10\"},\"renderers\":[{\"id\":\"3282\"}]},\"id\":\"3294\",\"type\":\"LegendItem\"},{\"attributes\":{\"source\":{\"id\":\"3117\"}},\"id\":\"3251\",\"type\":\"CDSView\"},{\"attributes\":{\"data_source\":{\"id\":\"3117\"},\"glyph\":{\"id\":\"3264\"},\"hover_glyph\":null,\"muted_glyph\":null,\"nonselection_glyph\":{\"id\":\"3265\"},\"view\":{\"id\":\"3267\"}},\"id\":\"3266\",\"type\":\"GlyphRenderer\"},{\"attributes\":{\"line_color\":\"rgb(102, 132, 51)\",\"line_width\":1.5,\"x\":{\"field\":\"x\"},\"y\":{\"field\":\"h\"}},\"id\":\"3264\",\"type\":\"Line\"},{\"attributes\":{\"line_alpha\":0.1,\"line_color\":\"rgb(102, 132, 51)\",\"line_width\":1.5,\"x\":{\"field\":\"x\"},\"y\":{\"field\":\"h\"}},\"id\":\"3265\",\"type\":\"Line\"},{\"attributes\":{\"source\":{\"id\":\"3117\"}},\"id\":\"3267\",\"type\":\"CDSView\"},{\"attributes\":{\"line_alpha\":0.1,\"line_color\":\"rgb(255, 132, 208)\",\"line_width\":1.5,\"x\":{\"field\":\"x\"},\"y\":{\"field\":\"i\"}},\"id\":\"3281\",\"type\":\"Line\"},{\"attributes\":{},\"id\":\"3162\",\"type\":\"UnionRenderers\"},{\"attributes\":{},\"id\":\"3163\",\"type\":\"Selection\"},{\"attributes\":{\"callback\":null,\"tooltips\":[[\"Output gab\",\"@x{0.00}\"],[\"SRAS, t=0,1\",\"@a{0.00}\"],[\"AD, t=0\",\"@b{0.00}\"],[\"AD, t=1\",\"@c{0.00}\"],[\"SRAS, t=2\",\"@d{0.00}\"],[\"AD, t=2\",\"@e{0.00}\"],[\"SRAS, t=5\",\"@f{0.00}\"],[\"AD, t=5\",\"@g{0.00}\"],[\"SRAS, t=10\",\"@h{0.00}\"],[\"AD, t=10\",\"@i{0.00}\"]]},\"id\":\"3116\",\"type\":\"HoverTool\"},{\"attributes\":{\"source\":{\"id\":\"3117\"}},\"id\":\"3283\",\"type\":\"CDSView\"},{\"attributes\":{\"fill_color\":{\"value\":\"rgb(66, 244, 134)\"},\"line_color\":{\"value\":\"rgb(66, 244, 134)\"},\"x\":{\"field\":\"x\"},\"y\":{\"field\":\"y\"}},\"id\":\"3296\",\"type\":\"Circle\"},{\"attributes\":{\"label\":{\"value\":\"SRAS, t=0,1\"},\"renderers\":[{\"id\":\"3153\"}]},\"id\":\"3166\",\"type\":\"LegendItem\"},{\"attributes\":{},\"id\":\"3121\",\"type\":\"DataRange1d\"},{\"attributes\":{\"data\":{\"a\":{\"__ndarray__\":\"+n5qvHSTWL+B5LbhB7VXvwpKAweb1la/kq9PLC74Vb8ZFZxRwRlVv6F66HZUO1S/KuA0nOdcU7+xRYHBen5SvzmrzeYNoFG/wRAaDKHBUL+T7MxiaMZPv6K3Za2OCU6/s4L+97RMTL/CTZdC249Kv9IYMI0B00i/4ePI1ycWR7/yrmEiTllFvwJ6+mx0nEO/EUWTt5rfQb8iECwCwSJAv2K2iZnOyzy/g0y7LhtSOb+h4uzDZ9g1v8B4Hlm0XjK/xh2g3AHKLb8DSgMHm9Ymv4DszGJoxh+/DUWTt5rfEb8z7MxiaMbvvgAUwD0B3AM/hrEZSs7UFz99rKn6zd0iP0CARtA00Sk/Aarx0k1iMD/eE8A9AdwzP8B9jqi0VTc/oedcE2jPOj+DUSt+G0k+P7DdfHRn4UA/oRLkKUGeQj+RR0vfGltEP4B8spT0F0Y/cbEZSs7URz9h5oD/p5FJP1Ib6LSBTks/QFBPalsLTT80hbYfNchOPxHdjmqHQlA/iHdCRfQgUT8CEvYfYf9RP3msqfrN3VI/8EZd1Tq8Uz9q4RCwp5pUP+F7xIoUeVU/WBZ4ZYFXVj/SsCtA7jVXP0lL3xpbFFg/wOWS9cfyWD86gEbQNNFZP7Ea+qqhr1o/K7WthQ6OWz+iT2Fge2xcPxnqFDvoSl0/koTIFVUpXj8KH3zwwQdfP4G5L8su5l8//anx0k1iYD85d0tAhNFgP3REpa26QGE/sRH/GvGvYT/t3liIJx9iPyqssvVdjmI/ZXkMY5T9Yj+hRmbQymxjP94TwD0B3GM/GeEZqzdLZD9VrnMYbrpkP5J7zYWkKWU/zUgn89qYZT8JFoFgEQhmP0bj2s1Hd2Y/gbA0O37mZj+9fY6otFVnP/pK6BXrxGc/NRhCgyE0aD9x5ZvwV6NoP66y9V2OEmk/6X9Py8SBaT8lTak4+/BpP2AaA6YxYGo/nedcE2jPaj/ZtLaAnj5rPxaCEO7UrWs/UU9qWwsdbD+NHMTIQYxsP8rpHTZ4+2w/BLd3o65qbT9BhNEQ5dltP35RK34bSW4/uB6F61G4bj8=\",\"dtype\":\"float64\",\"order\":\"little\",\"shape\":[100]},\"b\":{\"__ndarray__\":\"QobKDlOXmz/f9XpnnJ2aP39lK8Dlo5k/HNXbGC+qmD+5RIxxeLCXP1e0PMrBtpY/9iPtIgu9lT+Tk517VMOUPzEDTtSdyZM/z3L+LOfPkj9u4q6FMNaRPwtSX9553JA/UoMfbobFjz+OYoAfGdKNP8tB4dCr3os/BiFCgj7riT9DAKMz0feHP3/fA+VjBIY/ur5klvYQhD/2ncVHiR2CPzJ9JvkbKoA/3LgOVV1tfD9Td9C3goZ4P8k1khqon3Q/RPRTfc24cD92ZSvA5aNpP2PiroUw1mE/tb5klvYQVD844q6FMNYxPzKbGqe8S0a/wFOGyEjBWr/prL+eWS5lv/svPNkO/Gy/h1ncCeJkcr8MmxqnvEt2v5bcWESXMnq/Hx6X4XEZfr/Vr2o/JgCBv5bQCY6T84K/W/Go3ADnhL8gEkgrbtqGv+Iy53nbzYi/p1OGyEjBir9rdCUXtrSMvzGVxGUjqI6/+toxWshNkL9da4EBf0eRv7770Kg1QZK/H4wgUOw6k7+DHHD3ojSUv+Ssv55ZLpW/RT0PRhAolr+pzV7txiGXvwterpR9G5i/a+79OzQVmb/Pfk3j6g6avy8PnYqhCJu/kZ/sMVgCnL/1LzzZDvycv1bAi4DF9Z2/ulDbJ3zvnr8a4SrPMumfv744Pbt0caC/8ADlDlDuoL8gyYxiK2uhv1GRNLYG6KG/glncCeJkor+zIYRdveGiv+TpK7GYXqO/FrLTBHTbo79GentYT1ikv3hCI6wq1aS/qQrL/wVSpb/Z0nJT4c6lvwybGqe8S6a/O2PC+pfIpr9tK2pOc0Wnv57zEaJOwqe/zru59Sk/qL8AhGFJBbyovzFMCZ3gOKm/YRSx8Lu1qb+T3FhElzKqv8SkAJhyr6q/9Gyo600sq78mNVA/Kamrv1f995IEJqy/hsWf5t+irL+5jUc6ux+tv+hV742WnK2/GR6X4XEZrr9M5j41TZauv36u5ogoE6+/rHaO3AOQr79vHxuYbwawv4gD70HdRLC/oOfC60qDsL+4y5aVuMGwv9Kvaj8mALG/6ZM+6ZM+sb8=\",\"dtype\":\"float64\",\"order\":\"little\",\"shape\":[100]},\"c\":{\"__ndarray__\":\"k18s+cWSrz9hl4Sl6hWvPzHP3FEPma4/AAc1/jMcrj/OPo2qWJ+tP5525VZ9Iq0/ba49A6KlrD875pWvxiisPwse7lvrq6s/2lVGCBAvqz+ojZ60NLKqP3jF9mBZNao/Rv1ODX64qT8VNae5ojupP+Vs/2XHvqg/s6RXEuxBqD+C3K++EMWnP1IUCGs1SKc/IExgF1rLpj/vg7jDfk6mP7+7EHCj0aU/jfNoHMhUpT9cK8HI7NekPytjGXURW6Q/+ppxITbeoz/J0snNWmGjP5gKInp/5KI/aEJ6JqRnoj82etLSyOqhPwWyKn/tbaE/1OmCKxLxoD+jIdvXNnSgP+WyZgi37p8/giIXYQD1nj8hkse5SfudP74BeBKTAZ0/W3Eoa9wHnD/64NjDJQ6bP5hQiRxvFJo/N8A5dbgamT/UL+rNASGYP3KfmiZLJ5c/EA9Lf5Qtlj+ufvvX3TOVP0vuqzAnOpQ/6l1ciXBAkz+HzQziuUaSPyY9vToDTZE/xaxtk0xTkD/CODzYK7OOP/8XnYm+v4w/Pff9OlHMij921l7s49iIP7K1v5125YY/8pQgTwnyhD8pdIEAnP6CP2lT4rEuC4E/S2WGxoIvfj+6I0gpqEh6PzniCYzNYXY/p6DL7vJ6cj9NvhqjMChtP0A7nmh7WmU/OnBDXIwZWz9u1JTOQ/xGP4tvujYidTC/EqKnArO4U78WVNC7DqphvyPXTPbDd2m/Ha1kmLyicL+k7qI1l4l0vzAw4dJxcHi/tnEfcExXfL+e2a6GEx+Av2r6TdWAEoK/JRvtI+4FhL/rO4xyW/mFv7FcK8HI7Ie/cX3KDzbgib83nmleo9OLv/2+CK0Qx42/vd+n+326j79CgCOl9daQv6UQc0ys0JG/BaHC82LKkr9oMRKbGcSTv8vBYULQvZS/KFKx6Ya3lb+O4gCRPbGWv+xyUDj0qpe/TwOg36qkmL+0k++GYZ6ZvxckPy4YmJq/dbSO1c6Rm7/YRN58hYucvz3VLSQ8hZ2/m2V9y/J+nr/+9cxyqXifvzJDDg0wOaC/YQu2YAu2oL8=\",\"dtype\":\"float64\",\"order\":\"little\",\"shape\":[100]},\"d\":{\"__ndarray__\":\"GARWDi2yNT/8bSR54Cs5P9jX8uOTpTw/3KBgp6MPQD/O1cdcfcxBP74KLxJXiUM/rD+WxzBGRT+edP18CgNHP46pZDLkv0g/ft7L5718Sj9tEzOdlzlMP15ImlJx9k0/TX0BCEuzTz8fWbReErhQP5fzZzl/llE/EI4bFOx0Uj+HKM/uWFNTP//CgsnFMVQ/eF02pDIQVT/v9+l+n+5VP2iSnVkMzVY/3yxRNHmrVz9YxwQP5olYP9BhuOlSaFk/R/xrxL9GWj/Alh+fLCVbPzgx03mZA1w/r8uGVAbiXD8oZjovc8BdP6AA7gngnl4/GJuh5Ex9Xz/Imqrf3C1gPwRoBE0TnWA/QDVeukkMYT98ArgngHthP7jPEZW26mE/9JxrAu1ZYj8wasVvI8liP2w3H91ZOGM/qAR5SpCnYz/k0dK3xhZkPyCfLCX9hWQ/XGyGkjP1ZD+YOeD/aWRlP9QGOm2g02U/ENST2tZCZj9Noe1HDbJmP4huR7VDIWc/xDuhInqQZz8BCfuPsP9nPzzWVP3mbmg/eKOuah3eaD+1cAjYU01pP/A9YkWKvGk/LAu8ssAraj9p2BUg95pqP6Slb40tCms/4HLJ+mN5az8dQCNomuhrP1gNfdXQV2w/ltrWQgfHbD/RpzCwPTZtPwx1ih10pW0/SULkiqoUbj+FDz744INuP8Dcl2UX824//anx0k1ibz85d0tAhNFvPzqi0lZdIHA/2Ih/jfhXcD92byzEk49wPxVW2foux3A/sjyGMcr+cD9QIzNoZTZxP+8J4J4AbnE/jPCM1ZulcT8q1zkMN91xP8m95kLSFHI/ZqSTeW1Mcj8Ei0CwCIRyP6Nx7eaju3I/QFiaHT/zcj/ePkdU2ipzP30l9Ip1YnM/GgyhwRCacz+48k34q9FzP1fZ+i5HCXQ/9L+nZeJAdD+SplScfXh0PzCNAdMYsHQ/znOuCbTndD9sWltATx91PwtBCHfqVnU/qCe1rYWOdT9GDmLkIMZ1P+X0Dhu8/XU/gtu7UVc1dj8gwmiI8mx2P7+oFb+NpHY/XI/C9Sjcdj8=\",\"dtype\":\"float64\",\"order\":\"little\",\"shape\":[100]},\"e\":{\"__ndarray__\":\"sCaeFY0ErD9+XvbBsYerP06WTm7WCqs/Hc6mGvuNqj/rBf/GHxGqP7o9V3NElKk/inWvH2kXqT9YrQfMjZqoPyflX3iyHag/9xy4JNegpz/GVBDR+yOnP5WMaH0gp6Y/Y8TAKUUqpj8y/BjWaa2lPwI0cYKOMKU/0GvJLrOzpD+goyHb1zakP2/beYf8uaM/PRPSMyE9oz8MSyrgRcCiP9yCgoxqQ6I/qrraOI/GoT958jLls0mhP0gqi5HYzKA/F2LjPf1PoD/NM3fUQ6afP2qjJy2NrJ4/CRPYhdaynT+mgojeH7mcP0XyODdpv5s/4mHpj7LFmj+A0Zno+8uZPx9BSkFF0pg/vLD6mY7Ylz9bIKvy196WP/iPW0sh5ZU/lv8LpGrrlD80b7z8s/GTP9LebFX995I/cU4drkb+kT8Ovs0GkASRP60tfl/ZCpA/lTpdcEUijj/QGb4h2C6MPwr5HtNqO4o/SNh/hP1HiD+Bt+A1kFSGP7+WQeciYYQ//XWimLVtgj82VQNKSHqAP+VoyPa1DX0/YieKWdsmeT/T5Uu8AEB1P02kDR8mWXE/mMWeA5fkaj91QiLJ4RZjP+Z+Sx1ZklY/MeNJobrbOz/zGk2Z90hBv32Tn0HmP1i/4kxMW6jtY7/jz8iVXbtrv3ipImiJxHG/CutgBWSrdb+KLJ+iPpJ5vxFu3T8ZeX2/zteN7vmvgL+S+Cw9Z6OCv1UZzIvUloS/Gzpr2kGKhr/eWgopr32Iv6R7qXcccYq/Z5xIxolkjL8qvecU91eOv/tuwzGyJZC/WP8S2Wgfkb+7j2KAHxmSvx4gsifWEpO/f7ABz4wMlL/iQFF2QwaVv0XRoB36/5W/pWHwxLD5lr8I8j9sZ/OXv2uCjxMe7Zi/yxLfutTmmb8uoy5ii+Cav5EzfglC2pu/7sPNsPjTnL9UVB1Yr82dv7LkbP9lx56/FXW8phzBn7+9AganaV2gv+/KrfpE2qC/HZNVTiBXob9PW/2h+9Ohv4IjpfXWUKK/sOtMSbLNor/is/ScjUqjvxV8nPBox6O/REREREREpL8=\",\"dtype\":\"float64\",\"order\":\"little\",\"shape\":[100]},\"f\":{\"__ndarray__\":\"MQgMM94AbD9u1WWgFHBsP6mivw1L32w/5W8Ze4FObT8iPXPot71tP14KzVXuLG4/mdcmwyScbj/WpIAwWwtvPxJy2p2Rem8/Tj80C8jpbz9FBkc8fyxwP+Ps83IaZHA/gdOgqbWbcD8fuk3gUNNwP72g+hbsCnE/W4enTYdCcT/5bVSEInpxP5dUAbu9sXE/NTuu8VjpcT/TIVso9CByP3EICF+PWHI/D++0lSqQcj+t1WHMxcdyP0u8DgNh/3I/6aK7Ofw2cz+HiWhwl25zPyVwFacypnM/w1bC3c3dcz9hPW8UaRV0P/8jHEsETXQ/nQrJgZ+EdD878XW4Orx0P9nXIu/V83Q/d77PJXErdT8VpXxcDGN1P7OLKZOnmnU/UXLWyULSdT/vWIMA3gl2P40/MDd5QXY/KybdbRR5dj/JDIqkr7B2P2fzNttK6HY/BdrjEeYfdz+jwJBIgVd3P0GnPX8cj3c/343qtbfGdz9+dJfsUv53PxtbRCPuNXg/uUHxWYlteD9YKJ6QJKV4P/UOS8e/3Hg/k/X3/VoUeT8y3KQ09kt5P8/CUWuRg3k/ban+oSy7eT8MkKvYx/J5P6l2WA9jKno/R10FRv5hej/mQ7J8mZl6P4MqX7M00Xo/IhEM6s8Iez/A97gga0B7P13eZVcGeHs//MQSjqGvez+aq7/EPOd7PzeSbPvXHnw/1ngZMnNWfD90X8ZoDo58PxFGc5+pxXw/sCwg1kT9fD9OE80M4DR9P+z5eUN7bH0/iuAmehakfT8ox9Owsdt9P8atgOdME34/ZJQtHuhKfj8Ce9pUg4J+P6Bhh4seun4/Pkg0wrnxfj/cLuH4VCl/P3oVji/wYH8/GPw6ZouYfz+24uecJtB/P6pkyungA4A/+dcgha4fgD9IS3cgfDuAP5e+zbtJV4A/5jEkVxdzgD81pXry5I6AP4QY0Y2yqoA/04snKYDGgD8i/33ETeKAP3Fy1F8b/oA/wOUq++gZgT8PWYGWtjWBP17M1zGEUYE/rD8uzVFtgT/8soRoH4mBP0sm2wPtpIE/mpkxn7rAgT8=\",\"dtype\":\"float64\",\"order\":\"little\",\"shape\":[100]},\"g\":{\"__ndarray__\":\"r44JHswTpT99xmHK8JakP03+uXYVGqQ/GzYSIzqdoz/qbWrPXiCjP7ilwnuDo6I/iN0aKKgmoj9XFXPUzKmhPyVNy4DxLKE/9YQjLRawoD/EvHvZOjOgPybppwu/bJ8/xFhYZAhznj9hyAi9UXmdPwA4uRWbf5w/nqdpbuSFmz87FxrHLYyaP9mGyh93kpk/ePZ6eMCYmD8VZivRCZ+XP7PV2ylTpZY/UkWMgpyrlT/vtDzb5bGUP4wk7TMvuJM/K5SdjHi+kj/JA07lwcSRP2dz/j0Ly5A/DMZdLamijz9Gpb7eO6+NP4GEH5DOu4s/vWOAQWHIiT/7QuHy89SHPzYiQqSG4YU/cQGjVRnugz+v4AMHrPqBP+q/ZLg+B4A/Sz6L06InfD/A/Ew2yEB4Pz27DpntWXQ/s3nQ+xJzcD9ScCS9cBhpP0rtp4K7SmE/cNRWkAz6Uj9ccu7aEPUqP8lvNrOQeUi/8z2UzjLYW78Xosahzrllvx4lQ9yDh22/E9Rfi5yqcr+hFZ4od5F2vyhX3MVReHq/q5gaYyxffr8dbSyAAyOBv+CNy85wFoO/oa5qHd4Jhb9pzwlsS/2GvyrwqLq48Ii/7RBICSbkir+2MedXk9eMv3ZShqYAy46/oLmS+jZfkL8ASuKh7ViRv2HaMUmkUpK/xmqB8FpMk78m+9CXEUaUv4iLID/IP5W/6xtw5n45lr9LrL+NNTOXv648DzXsLJi/Ec1e3KImmb9yXa6DWSCav9Xt/SoQGpu/OH5N0sYTnL+YDp15fQ2dv/6e7CA0B56/Wy88yOoAn7++v4tvofqfvxGobQsseqC/QXAVXwf3oL9yOL2y4nOhv6QAZQa+8KG/1MgMWpltor8FkbStdOqivzdZXAFQZ6O/ZyEEVSvko7+Y6auoBmGkv8qxU/zh3aS/+Xn7T71apb8rQqOjmNelv1oKS/dzVKa/jNLySk/Rpr++mpqeKk6nv/BiQvIFy6e/HyvqReFHqL9Q85GZvMSov4O7Oe2XQam/soPhQHO+qb/jS4mUTjuqvxYUMegpuKq/RdzYOwU1q78=\",\"dtype\":\"float64\",\"order\":\"little\",\"shape\":[100]},\"h\":{\"__ndarray__\":\"Apfy0s5Lcj+gfZ8JaoNyPz5kTEAFu3I/3Er5dqDycj96MaatOypzPxgYU+TWYXM/tv7/GnKZcz9U5axRDdFzP/LLWYioCHQ/kLIGv0NAdD8umbP13nd0P8x/YCx6r3Q/amYNYxXndD8ITbqZsB51P6YzZ9BLVnU/RBoUB+eNdT/iAME9gsV1P4DnbXQd/XU/Hs4aq7g0dj+8tMfhU2x2P1qbdBjvo3Y/+IEhT4rbdj+WaM6FJRN3PzRPe7zASnc/0jUo81uCdz9wHNUp97l3Pw4DgmCS8Xc/rOkuly0peD9K0NvNyGB4P+i2iARkmHg/hp01O//PeD8khOJxmgd5P8Jqj6g1P3k/YFE839B2eT/+N+kVbK55P5welkwH5nk/OgVDg6Idej/Y6++5PVV6P3bSnPDYjHo/FLlJJ3TEej+yn/ZdD/x6P1CGo5SqM3s/7mxQy0Vrez+MU/0B4aJ7Pyo6qjh82ns/yCBXbxcSfD9mBwSmskl8PwTusNxNgXw/otRdE+m4fD9AuwpKhPB8P96ht4AfKH0/fIhkt7pffT8abxHuVZd9P7hVviTxzn0/VjxrW4wGfj/0IhiSJz5+P5IJxcjCdX4/MPBx/12tfj/O1h42+eR+P2y9y2yUHH8/C6R4oy9Ufz+oiiXayot/P0Zx0hBmw38/5Fd/RwH7fz9BHxY/ThmAP5CSbNobNYA/3wXDdelQgD8ueRkRt2yAP33sb6yEiIA/zF/GR1KkgD8b0xzjH8CAP2pGc37t24A/ubnJGbv3gD8ILSC1iBOBP1igdlBWL4E/phPN6yNLgT/1hiOH8WaBP0T6eSK/goE/k23QvYyegT/i4CZZWrqBPzJUffQn1oE/gMfTj/XxgT/POiorww2CPx6ugMaQKYI/bSHXYV5Fgj+8lC39K2GCPwwIhJj5fII/WnvaM8eYgj+p7jDPlLSCP/hhh2pi0II/R9XdBTDsgj+WSDSh/QeDP+a7ijzLI4M/NC/h15g/gz+DojdzZluDP9IVjg40d4M/IYnkqQGTgz9w/DpFz66DP8BvkeCcyoM/DuPne2rmgz8=\",\"dtype\":\"float64\",\"order\":\"little\",\"shape\":[100]},\"i\":{\"__ndarray__\":\"tlIVhIAuoD8JFdtgSmOfP6mEi7mTaZ4/RvQ7Et1vnT/jY+xqJnacP4HTnMNvfJs/IENNHLmCmj+9sv10AomZP1sirs1Lj5g/+pFeJpWVlz+YAQ9/3puWPzZxv9cnopU/0+BvMHGolD9xUCCJuq6TPw/A0OEDtZI/rS+BOk27kT9MnzGTlsGQP9MdxNe/j48/Dv0kiVKcjT9L3IU65aiLP4a75ut3tYk/wppHnQrChz/9eahOnc6FPzhZCQAw24M/dzhqscLngT9kL5bFquh/P9ntVyjQAXw/VqwZi/UaeD/LatvtGjR0P0IpnVBATXA/cM+9ZsvMaD9nTEEsFv9gP6qSiePBYlI/FmSEdLs6Jj8j89AMJqhJv7Z/YXt9b1y/7UIt+HMFZr8DxqkyKdNtv4UkkzZv0HK/D2bR00m3dr+Ypw9xJJ56vxzpTQ7/hH6/UhXG1ew1gb8XNmUkWimDv91WBHPHHIW/n3ejwTQQh79mmEIQogOJvyi54V4P94q/6tmArXzqjL+x+h/86d2Ov7qNX6WraJC/Gx6vTGJikb9/rv7zGFySv+A+TpvPVZO/Qc+dQoZPlL+lX+3pPEmVvwXwPJHzQpa/Z4CMOKo8l7/LENzfYDaYvyuhK4cXMJm/kDF7Ls4pmr/wwcrVhCObv1JSGn07HZy/tuJpJPIWnb8Wc7nLqBCev3gDCXNfCp+/7UksDQsCoL8eEtRg5n6gv0/ae7TB+6C/gKIjCJ14ob+xastbePWhv+Myc69TcqK/FPsaAy/vor9Ew8JWCmyjv3eLaqrl6KO/plMS/sBlpL/XG7pRnOKkvwnkYaV3X6W/OawJ+VLcpb9rdLFMLlmmv5w8WaAJ1qa/zAQB9ORSp7/+zKhHwM+nvy+VUJubTKi/X1347nbJqL+RJaBCUkapv8LtR5Ytw6m/8bXv6QhAqr8kfpc95Lyqv1NGP5G/Oau/hA7n5Jq2q7+31o44djOsv+ieNoxRsKy/F2fe3ywtrb9JL4YzCKqtv3z3LYfjJq6/qr/V2r6jrr/ch30umiCvvw9QJYJ1na+/H4zmaigNsL8=\",\"dtype\":\"float64\",\"order\":\"little\",\"shape\":[100]},\"x\":{\"__ndarray__\":\"exSuR+F6lL9svm2RhsGTv15oLdsrCJO/TxLtJNFOkr9AvKxudpWRvzFmbLgb3JC/IxAsAsEikL8odNeXzNKOvwrIVisXYI2/7RvWvmHti7/Qb1VSrHqKv7LD1OX2B4m/lRdUeUGVh793a9MMjCKGv1q/UqDWr4S/PBPSMyE9g78fZ1HHa8qBvwK70Fq2V4C/yB2g3AHKfb+OxZ4Dl+R6v1JtnSos/3e/GBWcUcEZdb/cvJp4VjRyv0DJMj/XnW6/0BgwjQHTaL9YaC3bKwhjv8BvVVKselq/wB2g3AHKTb+Ab1VSrHoqvwBmdbOrjEA/8BPAPQHcUz/QdMWhrHFfP+Bq5QKsg2U/WBvotIFOaz/kZXWzq4xwPyC+dowWcnM/XBZ4ZYFXdj+Ybnk+7Dx5P9DGehdXInw/DB988MEHfz+ku75klvaAP8BnP9FLaYI/3hPAPQHcgz/8v0Cqtk6FPxpswRZswYY/NhhCgyE0iD9WxMLv1qaJP3JwQ1yMGYs/jhzEyEGMjD+uyEQ19/6NP8p0xaGscY8/cxAjBzFykD+DZmO9iyuRP5G8o3Pm5JE/nxLkKUGekj+vaCTgm1eTP72+ZJb2EJQ/yxSlTFHKlD/bauUCrIOVP+nAJbkGPZY/+RZmb2H2lj8HbaYlvK+XPxXD5tsWaZg/JRknknEimT8zb2dIzNuZP0HFp/4mlZo/URvotIFOmz9fcShr3AecP23HaCE3wZw/fR2p15F6nT+Lc+mN7DOeP5vJKURH7Z4/qR9q+qGmnz/cOlVY/i+gP+RldbOrjKA/6pCVDlnpoD/yu7VpBkahP/rm1cSzoqE/ABL2H2H/oT8IPRZ7DlyiPxBoNta7uKI/FpNWMWkVoz8evnaMFnKjPybplufDzqM/LBS3QnErpD80P9edHoikPzxq9/jL5KQ/QpUXVHlBpT9KwDevJp6lP1DrVwrU+qU/WBZ4ZYFXpj9gQZjALrSmP2hsuBvcEKc/bpfYdoltpz92wvjRNsqnP37tGC3kJqg/hBg5iJGDqD+MQ1njPuCoP5RueT7sPKk/mpmZmZmZqT8=\",\"dtype\":\"float64\",\"order\":\"little\",\"shape\":[100]}},\"selected\":{\"id\":\"3163\"},\"selection_policy\":{\"id\":\"3162\"}},\"id\":\"3117\",\"type\":\"ColumnDataSource\"},{\"attributes\":{},\"id\":\"3125\",\"type\":\"LinearScale\"},{\"attributes\":{\"line_alpha\":0.1,\"line_color\":\"rgb(153, 0, 76)\",\"line_width\":1.5,\"x\":{\"field\":\"x\"},\"y\":{\"field\":\"c\"}},\"id\":\"3185\",\"type\":\"Line\"},{\"attributes\":{\"data\":{\"x\":[0,0.0244140625,0.018243789672851566,0.013375464826822284,0.009545118048845327,0.006541762214238251,0.00419678647247178,0.002375471560837527,0.0009702025527464855,-0.00010496047249600516,-0.0009186254475792232,-0.0015255423087420375,-0.001969381788554469,-0.0022849580707986665,-0.002500006555033893,-0.0026366057278582778,-0.0027123143374782515,-0.0027410808279277965,-0.0027339705971145415,-0.002699747529184929,-0.0026453389607976473,-0.002576207408214498,-0.0024966477160140673,-0.002410024555388593,-0.0023189622137444865,-0.002225496228369226,-0.0021311945057934543,-0.0020372540396007117,-0.0019445781163651104,-0.0018538379209670928,-0.0017655216698193332,-0.0016799737743850456,-0.0015974260364745325,-0.0015180224761107792,-0.001441839072219892,-0.0013688994399940098,-0.0012991872636666465,-0.0012326561393720822,-0.0011692373515226676,-0.0011088460011636925,-0.0010513858208012585,-0.0009967529430415882,-0.0009448388366681962,-0.0008955325808266252,-0.0008487226136332787,-0.0008042980640539074,-0.0007621497539314717,-0.0007221709394808172,-0.0006842578475275939,-0.0006483100505461492,-0.0006142307155817943,-0.0005819267549757174,-0.00055130890108504,-0.0005222917226173799,-0.000494793596547876,-0.0004687366466722392,-0.000444046657524237,-0.00042065297053194055,-0.0003984883678095119,-0.00037748894780468054,-0.0003575939960858917,-0.0003387458538090287,-0.00032088978581295126,-0.0003039738498249279,-0.0002879487678866316,-0.00027276780081896224,-0.0002583866263137315,-0.00024476322105958367,-0.00023185774716831203,-0.00021963244305791695,-0.00020805151886388166],\"y\":[0,0.0018310546875,0.003199338912963867,0.004202498774975538,0.004918382628638938,0.005409014794706806,0.005723773780142188,0.005901934147205003,0.005974699338660988,0.005966827303223787,0.005897930394655345,0.005783514721499692,0.005635811087358105,0.005464439232048205,0.005276938740420663,0.005079193310831292,0.004875769735520423,0.004670188673425838,0.004465140878642247,0.004262659813953376,0.004064259391893553,0.003871043836277465,0.00368379525757641,0.0035030434159222653,0.0033291212498914287,0.003162209032763736,0.0030023694448292272,0.0028495753918591736,0.0027037320331317898,0.0025646941890592576,0.0024322800638228075,0.0023062820307439293,0.002186475078008339,0.002072623392300031,0.0019644854618835394,0.0018618180038839887,0.0017643789591089902,0.0016719297486560837,0.0015842369472918835,0.0015010734972046066,0.0014222195606445121,0.0013474630899163928,0.0012766001771662779,0.001209435233604281,0.0011457810375817847,0.0010854586827777418,0.0010282974512328812,0.0009741346307718197,0.0009228152922072502,0.0008741920384162889,0.0008281247347476544,0.0007844802281244754,0.0007431320605430973,0.0007039601813467937,0.0006668506616057028,0.0006316954131052849,0.0005983919137909671,0.0005668429410010716,0.0005369563134153582,0.0005086446423300072,0.00048182509262356525,0.0004564191535878881,0.00043235241965191673,0.00040955438091504713,0.00038795822332354974,0.00036750063826212755,0.0003481216412885977,0.00032976439970912894,0.00031237506867150554,0.00029590263544216174,0.0002802987715273706]},\"selected\":{\"id\":\"3310\"},\"selection_policy\":{\"id\":\"3309\"}},\"id\":\"3295\",\"type\":\"ColumnDataSource\"},{\"attributes\":{\"data_source\":{\"id\":\"3117\"},\"glyph\":{\"id\":\"3168\"},\"hover_glyph\":null,\"muted_glyph\":null,\"nonselection_glyph\":{\"id\":\"3169\"},\"view\":{\"id\":\"3171\"}},\"id\":\"3170\",\"type\":\"GlyphRenderer\"},{\"attributes\":{\"text\":\"AS-AD after demand chock\"},\"id\":\"3119\",\"type\":\"Title\"},{\"attributes\":{\"line_alpha\":0.1,\"line_color\":\"rgb(102, 0, 51)\",\"line_width\":1.5,\"x\":{\"field\":\"x\"},\"y\":{\"field\":\"b\"}},\"id\":\"3169\",\"type\":\"Line\"},{\"attributes\":{\"data_source\":{\"id\":\"3117\"},\"glyph\":{\"id\":\"3151\"},\"hover_glyph\":null,\"muted_glyph\":null,\"nonselection_glyph\":{\"id\":\"3152\"},\"view\":{\"id\":\"3154\"}},\"id\":\"3153\",\"type\":\"GlyphRenderer\"},{\"attributes\":{\"line_color\":\"rgb(102, 0, 51)\",\"line_width\":1.5,\"x\":{\"field\":\"x\"},\"y\":{\"field\":\"b\"}},\"id\":\"3168\",\"type\":\"Line\"},{\"attributes\":{\"fill_color\":{\"value\":\"rgb(102, 0, 51)\"},\"line_color\":{\"value\":\"rgb(102, 0, 51)\"},\"line_width\":{\"value\":3},\"x\":{\"value\":0},\"y\":{\"value\":0}},\"id\":\"3314\",\"type\":\"Circle\"},{\"attributes\":{},\"id\":\"3123\",\"type\":\"DataRange1d\"},{\"attributes\":{\"source\":{\"id\":\"3117\"}},\"id\":\"3171\",\"type\":\"CDSView\"},{\"attributes\":{\"data_source\":{\"id\":\"3117\"},\"glyph\":{\"id\":\"3280\"},\"hover_glyph\":null,\"muted_glyph\":null,\"nonselection_glyph\":{\"id\":\"3281\"},\"view\":{\"id\":\"3283\"}},\"id\":\"3282\",\"type\":\"GlyphRenderer\"},{\"attributes\":{\"label\":{\"value\":\"Path of equilibrium\"},\"renderers\":[{\"id\":\"3298\"}]},\"id\":\"3312\",\"type\":\"LegendItem\"},{\"attributes\":{\"data_source\":{\"id\":\"3295\"},\"glyph\":{\"id\":\"3296\"},\"hover_glyph\":null,\"muted_glyph\":null,\"nonselection_glyph\":{\"id\":\"3297\"},\"view\":{\"id\":\"3299\"}},\"id\":\"3298\",\"type\":\"GlyphRenderer\"},{\"attributes\":{},\"id\":\"3127\",\"type\":\"LinearScale\"},{\"attributes\":{},\"id\":\"3130\",\"type\":\"BasicTicker\"},{\"attributes\":{\"source\":{\"id\":\"3295\"}},\"id\":\"3299\",\"type\":\"CDSView\"},{\"attributes\":{\"axis_label\":\"Output gab\",\"formatter\":{\"id\":\"3159\"},\"major_label_policy\":{\"id\":\"3160\"},\"ticker\":{\"id\":\"3130\"}},\"id\":\"3129\",\"type\":\"LinearAxis\"},{\"attributes\":{\"axis\":{\"id\":\"3129\"},\"ticker\":null},\"id\":\"3132\",\"type\":\"Grid\"},{\"attributes\":{},\"id\":\"3138\",\"type\":\"WheelZoomTool\"},{\"attributes\":{\"line_color\":\"rgb(153, 0, 76)\",\"line_width\":1.5,\"x\":{\"field\":\"x\"},\"y\":{\"field\":\"c\"}},\"id\":\"3184\",\"type\":\"Line\"},{\"attributes\":{\"fill_alpha\":{\"value\":0.1},\"fill_color\":{\"value\":\"rgb(66, 244, 134)\"},\"line_alpha\":{\"value\":0.1},\"line_color\":{\"value\":\"rgb(66, 244, 134)\"},\"x\":{\"field\":\"x\"},\"y\":{\"field\":\"y\"}},\"id\":\"3297\",\"type\":\"Circle\"},{\"attributes\":{\"axis_label\":\"Inflation gab\",\"formatter\":{\"id\":\"3156\"},\"major_label_policy\":{\"id\":\"3157\"},\"ticker\":{\"id\":\"3134\"}},\"id\":\"3133\",\"type\":\"LinearAxis\"},{\"attributes\":{\"source\":{\"id\":\"3117\"}},\"id\":\"3187\",\"type\":\"CDSView\"},{\"attributes\":{\"axis\":{\"id\":\"3133\"},\"dimension\":1,\"ticker\":null},\"id\":\"3136\",\"type\":\"Grid\"},{\"attributes\":{},\"id\":\"3134\",\"type\":\"BasicTicker\"},{\"attributes\":{\"label\":{\"value\":\"AD, t=1\"},\"renderers\":[{\"id\":\"3186\"}]},\"id\":\"3198\",\"type\":\"LegendItem\"},{\"attributes\":{\"active_multi\":null,\"tools\":[{\"id\":\"3116\"},{\"id\":\"3137\"},{\"id\":\"3138\"},{\"id\":\"3139\"},{\"id\":\"3140\"},{\"id\":\"3141\"}]},\"id\":\"3143\",\"type\":\"Toolbar\"},{\"attributes\":{},\"id\":\"3137\",\"type\":\"PanTool\"},{\"attributes\":{\"overlay\":{\"id\":\"3142\"}},\"id\":\"3139\",\"type\":\"BoxZoomTool\"},{\"attributes\":{},\"id\":\"3140\",\"type\":\"ResetTool\"},{\"attributes\":{},\"id\":\"3141\",\"type\":\"SaveTool\"}],\"root_ids\":[\"3118\"]},\"title\":\"Bokeh Application\",\"version\":\"2.3.2\"}};\n",
       "  var render_items = [{\"docid\":\"0ef156f2-a70e-48f6-8014-9684429d0b3c\",\"notebook_comms_target\":\"3492\",\"root_ids\":[\"3118\"],\"roots\":{\"3118\":\"dd15fc74-4f33-4b2c-b605-9cddf24a091d\"}}];\n",
       "  root.Bokeh.embed.embed_items_notebook(docs_json, render_items);\n",
       "\n",
       "  }\n",
       "  if (root.Bokeh !== undefined) {\n",
       "    embed_document(root);\n",
       "  } else {\n",
       "    var attempts = 0;\n",
       "    var timer = setInterval(function(root) {\n",
       "      if (root.Bokeh !== undefined) {\n",
       "        clearInterval(timer);\n",
       "        embed_document(root);\n",
       "      } else {\n",
       "        attempts++;\n",
       "        if (attempts > 100) {\n",
       "          clearInterval(timer);\n",
       "          console.log(\"Bokeh: ERROR: Unable to run BokehJS code because BokehJS library is missing\");\n",
       "        }\n",
       "      }\n",
       "    }, 10, root)\n",
       "  }\n",
       "})(window);"
      ],
      "application/vnd.bokehjs_exec.v0+json": ""
     },
     "metadata": {
      "application/vnd.bokehjs_exec.v0+json": {
       "id": "3118"
      }
     },
     "output_type": "display_data"
    },
    {
     "data": {
      "text/html": [
       "<p><code>&lt;Bokeh Notebook handle for <strong>In[50]</strong>&gt;</code></p>"
      ],
      "text/plain": [
       "<bokeh.io.notebook.CommsHandle at 0x1cc34f640a0>"
      ]
     },
     "execution_count": 50,
     "metadata": {},
     "output_type": "execute_result"
    }
   ],
   "source": [
    "curve_names = ['SRAS, t=0,1','AD, t=0','AD, t=1','SRAS, t=2','AD, t=2',\n",
    "               'SRAS, t=5','AD, t=5','SRAS, t=10','AD, t=10']\n",
    "curves = [sras_curves[0],ad_curves[0],ad_curves[1],sras_curves[2],\n",
    "          ad_curves[2],sras_curves[5],ad_curves[5],sras_curves[10],\n",
    "         ad_curves[10]]\n",
    "\n",
    "colors = [(0,0,153),(102,0,51),(153,0,76),(0,0,255),(204,0,102),(102,102,51),\n",
    "         (255,102,178),(102,132,51),(255, 132, 208)]\n",
    "\n",
    "p1 = Functions.plotting('Output gab',curve_names,y_gabs,curves,'Inflation gab',\n",
    "                        legendlocation='top_right',width=600, height=600,\n",
    "                        colors = colors, title ='AS-AD after demand chock')\n",
    "\n",
    "p1.circle(x=ys,y=pis,legend='Path of equilibrium',color=(66, 244, 134))\n",
    "p1.circle(x=ys[0],y=pis[0],line_width=3,color=(102,0,51))\n",
    "p1.circle(x=ys[1],y=pis[1],line_width=3,color=(153,0,76))\n",
    "p1.circle(x=ys[2],y=pis[2],line_width=3,color=(204,0,102))\n",
    "p1.circle(x=ys[5],y=pis[5],line_width=3,color=(255,102,178))\n",
    "p1.circle(x=ys[10],y=pis[10],line_width=3,color=(255,132,178))\n",
    "\n",
    "\n",
    "\n",
    "show(p1,notebook_handle=True)"
   ]
  },
  {
   "cell_type": "code",
   "execution_count": 51,
   "metadata": {},
   "outputs": [
    {
     "name": "stderr",
     "output_type": "stream",
     "text": [
      "BokehDeprecationWarning: 'legend' keyword is deprecated, use explicit 'legend_label', 'legend_field', or 'legend_group' keywords instead\n",
      "BokehDeprecationWarning: 'legend' keyword is deprecated, use explicit 'legend_label', 'legend_field', or 'legend_group' keywords instead\n",
      "BokehDeprecationWarning: 'legend' keyword is deprecated, use explicit 'legend_label', 'legend_field', or 'legend_group' keywords instead\n",
      "BokehDeprecationWarning: 'legend' keyword is deprecated, use explicit 'legend_label', 'legend_field', or 'legend_group' keywords instead\n",
      "BokehDeprecationWarning: 'legend' keyword is deprecated, use explicit 'legend_label', 'legend_field', or 'legend_group' keywords instead\n",
      "BokehDeprecationWarning: 'legend' keyword is deprecated, use explicit 'legend_label', 'legend_field', or 'legend_group' keywords instead\n"
     ]
    },
    {
     "data": {
      "application/vnd.jupyter.widget-view+json": {
       "model_id": "d55f6d2ccc954530b36cb91ae38fcc61",
       "version_major": 2,
       "version_minor": 0
      },
      "text/plain": [
       "interactive(children=(IntSlider(value=0, description='period', max=69), Output()), _dom_classes=('widget-inter…"
      ]
     },
     "metadata": {},
     "output_type": "display_data"
    },
    {
     "data": {
      "text/html": [
       "\n",
       "\n",
       "\n",
       "\n",
       "\n",
       "\n",
       "  <div class=\"bk-root\" id=\"2baca4ca-e1e1-42bc-aea8-4934fd6cec6e\" data-root-id=\"3605\"></div>\n"
      ]
     },
     "metadata": {},
     "output_type": "display_data"
    },
    {
     "data": {
      "application/javascript": [
       "(function(root) {\n",
       "  function embed_document(root) {\n",
       "    \n",
       "  var docs_json = {\"1314865b-4213-4d6a-a6a6-21e41221304e\":{\"defs\":[],\"roots\":{\"references\":[{\"attributes\":{\"below\":[{\"id\":\"3616\"}],\"center\":[{\"id\":\"3619\"},{\"id\":\"3623\"},{\"id\":\"3651\"}],\"left\":[{\"id\":\"3620\"}],\"renderers\":[{\"id\":\"3639\"},{\"id\":\"3656\"},{\"id\":\"3672\"},{\"id\":\"3688\"},{\"id\":\"3704\"},{\"id\":\"3720\"}],\"title\":{\"id\":\"3606\"},\"toolbar\":{\"id\":\"3630\"},\"x_range\":{\"id\":\"3608\"},\"x_scale\":{\"id\":\"3612\"},\"y_range\":{\"id\":\"3610\"},\"y_scale\":{\"id\":\"3614\"}},\"id\":\"3605\",\"subtype\":\"Figure\",\"type\":\"Plot\"},{\"attributes\":{\"text\":\"AS-AD after demand chock\"},\"id\":\"3606\",\"type\":\"Title\"},{\"attributes\":{\"line_color\":\"rgb(226, 50, 86)\",\"line_width\":2,\"x\":{\"field\":\"x\"},\"y\":{\"field\":\"ad-1\"}},\"id\":\"3670\",\"type\":\"Line\"},{\"attributes\":{\"source\":{\"id\":\"3603\"}},\"id\":\"3673\",\"type\":\"CDSView\"},{\"attributes\":{},\"id\":\"3646\",\"type\":\"AllLabels\"},{\"attributes\":{\"line_color\":\"rgb(226, 123, 86)\",\"line_width\":2,\"x\":{\"field\":\"x\"},\"y\":{\"field\":\"ad0\"}},\"id\":\"3637\",\"type\":\"Line\"},{\"attributes\":{\"label\":{\"value\":\"AD, t=-1\"},\"renderers\":[{\"id\":\"3672\"}]},\"id\":\"3684\",\"type\":\"LegendItem\"},{\"attributes\":{\"line_color\":\"green\",\"line_dash\":[6],\"line_width\":2,\"x\":{\"field\":\"x\"},\"y\":{\"field\":\"ad\"}},\"id\":\"3702\",\"type\":\"Line\"},{\"attributes\":{},\"id\":\"3643\",\"type\":\"AllLabels\"},{\"attributes\":{\"label\":{\"field\":\"ad_legend\"},\"renderers\":[{\"id\":\"3704\"}]},\"id\":\"3716\",\"type\":\"LegendItem\"},{\"attributes\":{\"data_source\":{\"id\":\"3603\"},\"glyph\":{\"id\":\"3637\"},\"hover_glyph\":null,\"muted_glyph\":null,\"nonselection_glyph\":{\"id\":\"3638\"},\"view\":{\"id\":\"3640\"}},\"id\":\"3639\",\"type\":\"GlyphRenderer\"},{\"attributes\":{\"data_source\":{\"id\":\"3603\"},\"glyph\":{\"id\":\"3702\"},\"hover_glyph\":null,\"muted_glyph\":null,\"nonselection_glyph\":{\"id\":\"3703\"},\"view\":{\"id\":\"3705\"}},\"id\":\"3704\",\"type\":\"GlyphRenderer\"},{\"attributes\":{},\"id\":\"3648\",\"type\":\"UnionRenderers\"},{\"attributes\":{},\"id\":\"3649\",\"type\":\"Selection\"},{\"attributes\":{\"line_alpha\":0.1,\"line_color\":\"green\",\"line_dash\":[6],\"line_width\":2,\"x\":{\"field\":\"x\"},\"y\":{\"field\":\"ad\"}},\"id\":\"3703\",\"type\":\"Line\"},{\"attributes\":{\"bottom_units\":\"screen\",\"fill_alpha\":0.5,\"fill_color\":\"lightgrey\",\"left_units\":\"screen\",\"level\":\"overlay\",\"line_alpha\":1.0,\"line_color\":\"black\",\"line_dash\":[4,4],\"line_width\":2,\"right_units\":\"screen\",\"syncable\":false,\"top_units\":\"screen\"},\"id\":\"3629\",\"type\":\"BoxAnnotation\"},{\"attributes\":{\"source\":{\"id\":\"3603\"}},\"id\":\"3705\",\"type\":\"CDSView\"},{\"attributes\":{},\"id\":\"3608\",\"type\":\"DataRange1d\"},{\"attributes\":{\"line_alpha\":0.1,\"line_color\":\"blue\",\"line_width\":2,\"x\":{\"field\":\"x\"},\"y\":{\"field\":\"sras-1\"}},\"id\":\"3655\",\"type\":\"Line\"},{\"attributes\":{\"overlay\":{\"id\":\"3629\"}},\"id\":\"3626\",\"type\":\"BoxZoomTool\"},{\"attributes\":{},\"id\":\"3612\",\"type\":\"LinearScale\"},{\"attributes\":{},\"id\":\"3731\",\"type\":\"UnionRenderers\"},{\"attributes\":{},\"id\":\"3610\",\"type\":\"DataRange1d\"},{\"attributes\":{},\"id\":\"3732\",\"type\":\"Selection\"},{\"attributes\":{\"line_color\":\"blue\",\"line_width\":2,\"x\":{\"field\":\"x\"},\"y\":{\"field\":\"sras-1\"}},\"id\":\"3654\",\"type\":\"Line\"},{\"attributes\":{\"source\":{\"id\":\"3603\"}},\"id\":\"3640\",\"type\":\"CDSView\"},{\"attributes\":{},\"id\":\"3642\",\"type\":\"BasicTickFormatter\"},{\"attributes\":{\"source\":{\"id\":\"3603\"}},\"id\":\"3657\",\"type\":\"CDSView\"},{\"attributes\":{},\"id\":\"3614\",\"type\":\"LinearScale\"},{\"attributes\":{\"axis_label\":\"Output gab\",\"formatter\":{\"id\":\"3645\"},\"major_label_policy\":{\"id\":\"3646\"},\"ticker\":{\"id\":\"3617\"}},\"id\":\"3616\",\"type\":\"LinearAxis\"},{\"attributes\":{\"label\":{\"value\":\"AD, t=0\"},\"renderers\":[{\"id\":\"3639\"}]},\"id\":\"3652\",\"type\":\"LegendItem\"},{\"attributes\":{\"line_color\":\"rgb(65, 134, 244)\",\"line_dash\":[6],\"line_width\":2,\"x\":{\"field\":\"x\"},\"y\":{\"field\":\"sras\"}},\"id\":\"3686\",\"type\":\"Line\"},{\"attributes\":{},\"id\":\"3617\",\"type\":\"BasicTicker\"},{\"attributes\":{\"axis\":{\"id\":\"3616\"},\"ticker\":null},\"id\":\"3619\",\"type\":\"Grid\"},{\"attributes\":{},\"id\":\"3645\",\"type\":\"BasicTickFormatter\"},{\"attributes\":{\"label\":{\"field\":\"sras_legend\"},\"renderers\":[{\"id\":\"3688\"}]},\"id\":\"3700\",\"type\":\"LegendItem\"},{\"attributes\":{\"line_alpha\":0.1,\"line_color\":\"rgb(226, 50, 86)\",\"line_width\":2,\"x\":{\"field\":\"x\"},\"y\":{\"field\":\"ad-1\"}},\"id\":\"3671\",\"type\":\"Line\"},{\"attributes\":{\"data_source\":{\"id\":\"3603\"},\"glyph\":{\"id\":\"3686\"},\"hover_glyph\":null,\"muted_glyph\":null,\"nonselection_glyph\":{\"id\":\"3687\"},\"view\":{\"id\":\"3689\"}},\"id\":\"3688\",\"type\":\"GlyphRenderer\"},{\"attributes\":{},\"id\":\"3625\",\"type\":\"WheelZoomTool\"},{\"attributes\":{\"axis_label\":\"Inflation gab\",\"formatter\":{\"id\":\"3642\"},\"major_label_policy\":{\"id\":\"3643\"},\"ticker\":{\"id\":\"3621\"}},\"id\":\"3620\",\"type\":\"LinearAxis\"},{\"attributes\":{\"line_alpha\":0.1,\"line_color\":\"rgb(65, 134, 244)\",\"line_dash\":[6],\"line_width\":2,\"x\":{\"field\":\"x\"},\"y\":{\"field\":\"sras\"}},\"id\":\"3687\",\"type\":\"Line\"},{\"attributes\":{\"axis\":{\"id\":\"3620\"},\"dimension\":1,\"ticker\":null},\"id\":\"3623\",\"type\":\"Grid\"},{\"attributes\":{\"source\":{\"id\":\"3603\"}},\"id\":\"3689\",\"type\":\"CDSView\"},{\"attributes\":{},\"id\":\"3621\",\"type\":\"BasicTicker\"},{\"attributes\":{\"label\":{\"value\":\"Path of equilibrium\"},\"renderers\":[{\"id\":\"3720\"}]},\"id\":\"3734\",\"type\":\"LegendItem\"},{\"attributes\":{\"active_multi\":null,\"tools\":[{\"id\":\"3624\"},{\"id\":\"3625\"},{\"id\":\"3626\"},{\"id\":\"3627\"},{\"id\":\"3628\"}]},\"id\":\"3630\",\"type\":\"Toolbar\"},{\"attributes\":{},\"id\":\"3624\",\"type\":\"PanTool\"},{\"attributes\":{\"fill_color\":{\"value\":\"rgb(106, 244, 65)\"},\"line_color\":{\"value\":\"rgb(106, 244, 65)\"},\"x\":{\"field\":\"ys\"},\"y\":{\"field\":\"pis\"}},\"id\":\"3718\",\"type\":\"Circle\"},{\"attributes\":{},\"id\":\"3627\",\"type\":\"ResetTool\"},{\"attributes\":{},\"id\":\"3628\",\"type\":\"SaveTool\"},{\"attributes\":{\"line_alpha\":0.1,\"line_color\":\"rgb(226, 123, 86)\",\"line_width\":2,\"x\":{\"field\":\"x\"},\"y\":{\"field\":\"ad0\"}},\"id\":\"3638\",\"type\":\"Line\"},{\"attributes\":{\"data\":{\"ad\":{\"__ndarray__\":\"k18s+cWSrz9hl4Sl6hWvPzHP3FEPma4/AAc1/jMcrj/OPo2qWJ+tP5525VZ9Iq0/ba49A6KlrD875pWvxiisPwse7lvrq6s/2lVGCBAvqz+ojZ60NLKqP3jF9mBZNao/Rv1ODX64qT8VNae5ojupP+Vs/2XHvqg/s6RXEuxBqD+C3K++EMWnP1IUCGs1SKc/IExgF1rLpj/vg7jDfk6mP7+7EHCj0aU/jfNoHMhUpT9cK8HI7NekPytjGXURW6Q/+ppxITbeoz/J0snNWmGjP5gKInp/5KI/aEJ6JqRnoj82etLSyOqhPwWyKn/tbaE/1OmCKxLxoD+jIdvXNnSgP+WyZgi37p8/giIXYQD1nj8hkse5SfudP74BeBKTAZ0/W3Eoa9wHnD/64NjDJQ6bP5hQiRxvFJo/N8A5dbgamT/UL+rNASGYP3KfmiZLJ5c/EA9Lf5Qtlj+ufvvX3TOVP0vuqzAnOpQ/6l1ciXBAkz+HzQziuUaSPyY9vToDTZE/xaxtk0xTkD/CODzYK7OOP/8XnYm+v4w/Pff9OlHMij921l7s49iIP7K1v5125YY/8pQgTwnyhD8pdIEAnP6CP2lT4rEuC4E/S2WGxoIvfj+6I0gpqEh6PzniCYzNYXY/p6DL7vJ6cj9NvhqjMChtP0A7nmh7WmU/OnBDXIwZWz9u1JTOQ/xGP4tvujYidTC/EqKnArO4U78WVNC7DqphvyPXTPbDd2m/Ha1kmLyicL+k7qI1l4l0vzAw4dJxcHi/tnEfcExXfL+e2a6GEx+Av2r6TdWAEoK/JRvtI+4FhL/rO4xyW/mFv7FcK8HI7Ie/cX3KDzbgib83nmleo9OLv/2+CK0Qx42/vd+n+326j79CgCOl9daQv6UQc0ys0JG/BaHC82LKkr9oMRKbGcSTv8vBYULQvZS/KFKx6Ya3lb+O4gCRPbGWv+xyUDj0qpe/TwOg36qkmL+0k++GYZ6ZvxckPy4YmJq/dbSO1c6Rm7/YRN58hYucvz3VLSQ8hZ2/m2V9y/J+nr/+9cxyqXifvzJDDg0wOaC/YQu2YAu2oL8=\",\"dtype\":\"float64\",\"order\":\"little\",\"shape\":[100]},\"ad-1\":{\"__ndarray__\":\"QobKDlOXmz/f9XpnnJ2aP39lK8Dlo5k/HNXbGC+qmD+5RIxxeLCXP1e0PMrBtpY/9iPtIgu9lT+Tk517VMOUPzEDTtSdyZM/z3L+LOfPkj9u4q6FMNaRPwtSX9553JA/UoMfbobFjz+OYoAfGdKNP8tB4dCr3os/BiFCgj7riT9DAKMz0feHP3/fA+VjBIY/ur5klvYQhD/2ncVHiR2CPzJ9JvkbKoA/3LgOVV1tfD9Td9C3goZ4P8k1khqon3Q/RPRTfc24cD92ZSvA5aNpP2PiroUw1mE/tb5klvYQVD844q6FMNYxPzKbGqe8S0a/wFOGyEjBWr/prL+eWS5lv/svPNkO/Gy/h1ncCeJkcr8MmxqnvEt2v5bcWESXMnq/Hx6X4XEZfr/Vr2o/JgCBv5bQCY6T84K/W/Go3ADnhL8gEkgrbtqGv+Iy53nbzYi/p1OGyEjBir9rdCUXtrSMvzGVxGUjqI6/+toxWshNkL9da4EBf0eRv7770Kg1QZK/H4wgUOw6k7+DHHD3ojSUv+Ssv55ZLpW/RT0PRhAolr+pzV7txiGXvwterpR9G5i/a+79OzQVmb/Pfk3j6g6avy8PnYqhCJu/kZ/sMVgCnL/1LzzZDvycv1bAi4DF9Z2/ulDbJ3zvnr8a4SrPMumfv744Pbt0caC/8ADlDlDuoL8gyYxiK2uhv1GRNLYG6KG/glncCeJkor+zIYRdveGiv+TpK7GYXqO/FrLTBHTbo79GentYT1ikv3hCI6wq1aS/qQrL/wVSpb/Z0nJT4c6lvwybGqe8S6a/O2PC+pfIpr9tK2pOc0Wnv57zEaJOwqe/zru59Sk/qL8AhGFJBbyovzFMCZ3gOKm/YRSx8Lu1qb+T3FhElzKqv8SkAJhyr6q/9Gyo600sq78mNVA/Kamrv1f995IEJqy/hsWf5t+irL+5jUc6ux+tv+hV742WnK2/GR6X4XEZrr9M5j41TZauv36u5ogoE6+/rHaO3AOQr79vHxuYbwawv4gD70HdRLC/oOfC60qDsL+4y5aVuMGwv9Kvaj8mALG/6ZM+6ZM+sb8=\",\"dtype\":\"float64\",\"order\":\"little\",\"shape\":[100]},\"ad0\":{\"__ndarray__\":\"k18s+cWSrz9hl4Sl6hWvPzHP3FEPma4/AAc1/jMcrj/OPo2qWJ+tP5525VZ9Iq0/ba49A6KlrD875pWvxiisPwse7lvrq6s/2lVGCBAvqz+ojZ60NLKqP3jF9mBZNao/Rv1ODX64qT8VNae5ojupP+Vs/2XHvqg/s6RXEuxBqD+C3K++EMWnP1IUCGs1SKc/IExgF1rLpj/vg7jDfk6mP7+7EHCj0aU/jfNoHMhUpT9cK8HI7NekPytjGXURW6Q/+ppxITbeoz/J0snNWmGjP5gKInp/5KI/aEJ6JqRnoj82etLSyOqhPwWyKn/tbaE/1OmCKxLxoD+jIdvXNnSgP+WyZgi37p8/giIXYQD1nj8hkse5SfudP74BeBKTAZ0/W3Eoa9wHnD/64NjDJQ6bP5hQiRxvFJo/N8A5dbgamT/UL+rNASGYP3KfmiZLJ5c/EA9Lf5Qtlj+ufvvX3TOVP0vuqzAnOpQ/6l1ciXBAkz+HzQziuUaSPyY9vToDTZE/xaxtk0xTkD/CODzYK7OOP/8XnYm+v4w/Pff9OlHMij921l7s49iIP7K1v5125YY/8pQgTwnyhD8pdIEAnP6CP2lT4rEuC4E/S2WGxoIvfj+6I0gpqEh6PzniCYzNYXY/p6DL7vJ6cj9NvhqjMChtP0A7nmh7WmU/OnBDXIwZWz9u1JTOQ/xGP4tvujYidTC/EqKnArO4U78WVNC7DqphvyPXTPbDd2m/Ha1kmLyicL+k7qI1l4l0vzAw4dJxcHi/tnEfcExXfL+e2a6GEx+Av2r6TdWAEoK/JRvtI+4FhL/rO4xyW/mFv7FcK8HI7Ie/cX3KDzbgib83nmleo9OLv/2+CK0Qx42/vd+n+326j79CgCOl9daQv6UQc0ys0JG/BaHC82LKkr9oMRKbGcSTv8vBYULQvZS/KFKx6Ya3lb+O4gCRPbGWv+xyUDj0qpe/TwOg36qkmL+0k++GYZ6ZvxckPy4YmJq/dbSO1c6Rm7/YRN58hYucvz3VLSQ8hZ2/m2V9y/J+nr/+9cxyqXifvzJDDg0wOaC/YQu2YAu2oL8=\",\"dtype\":\"float64\",\"order\":\"little\",\"shape\":[100]},\"ad_legend\":[\"AD, t=0\",\"AD, t=0\",\"AD, t=0\",\"AD, t=0\",\"AD, t=0\",\"AD, t=0\",\"AD, t=0\",\"AD, t=0\",\"AD, t=0\",\"AD, t=0\",\"AD, t=0\",\"AD, t=0\",\"AD, t=0\",\"AD, t=0\",\"AD, t=0\",\"AD, t=0\",\"AD, t=0\",\"AD, t=0\",\"AD, t=0\",\"AD, t=0\",\"AD, t=0\",\"AD, t=0\",\"AD, t=0\",\"AD, t=0\",\"AD, t=0\",\"AD, t=0\",\"AD, t=0\",\"AD, t=0\",\"AD, t=0\",\"AD, t=0\",\"AD, t=0\",\"AD, t=0\",\"AD, t=0\",\"AD, t=0\",\"AD, t=0\",\"AD, t=0\",\"AD, t=0\",\"AD, t=0\",\"AD, t=0\",\"AD, t=0\",\"AD, t=0\",\"AD, t=0\",\"AD, t=0\",\"AD, t=0\",\"AD, t=0\",\"AD, t=0\",\"AD, t=0\",\"AD, t=0\",\"AD, t=0\",\"AD, t=0\",\"AD, t=0\",\"AD, t=0\",\"AD, t=0\",\"AD, t=0\",\"AD, t=0\",\"AD, t=0\",\"AD, t=0\",\"AD, t=0\",\"AD, t=0\",\"AD, t=0\",\"AD, t=0\",\"AD, t=0\",\"AD, t=0\",\"AD, t=0\",\"AD, t=0\",\"AD, t=0\",\"AD, t=0\",\"AD, t=0\",\"AD, t=0\",\"AD, t=0\",\"AD, t=0\",\"AD, t=0\",\"AD, t=0\",\"AD, t=0\",\"AD, t=0\",\"AD, t=0\",\"AD, t=0\",\"AD, t=0\",\"AD, t=0\",\"AD, t=0\",\"AD, t=0\",\"AD, t=0\",\"AD, t=0\",\"AD, t=0\",\"AD, t=0\",\"AD, t=0\",\"AD, t=0\",\"AD, t=0\",\"AD, t=0\",\"AD, t=0\",\"AD, t=0\",\"AD, t=0\",\"AD, t=0\",\"AD, t=0\",\"AD, t=0\",\"AD, t=0\",\"AD, t=0\",\"AD, t=0\",\"AD, t=0\",\"AD, t=0\"],\"sras\":{\"__ndarray__\":\"+n5qvHSTWL+B5LbhB7VXvwpKAweb1la/kq9PLC74Vb8ZFZxRwRlVv6F66HZUO1S/KuA0nOdcU7+xRYHBen5SvzmrzeYNoFG/wRAaDKHBUL+T7MxiaMZPv6K3Za2OCU6/s4L+97RMTL/CTZdC249Kv9IYMI0B00i/4ePI1ycWR7/yrmEiTllFvwJ6+mx0nEO/EUWTt5rfQb8iECwCwSJAv2K2iZnOyzy/g0y7LhtSOb+h4uzDZ9g1v8B4Hlm0XjK/xh2g3AHKLb8DSgMHm9Ymv4DszGJoxh+/DUWTt5rfEb8z7MxiaMbvvgAUwD0B3AM/hrEZSs7UFz99rKn6zd0iP0CARtA00Sk/Aarx0k1iMD/eE8A9AdwzP8B9jqi0VTc/oedcE2jPOj+DUSt+G0k+P7DdfHRn4UA/oRLkKUGeQj+RR0vfGltEP4B8spT0F0Y/cbEZSs7URz9h5oD/p5FJP1Ib6LSBTks/QFBPalsLTT80hbYfNchOPxHdjmqHQlA/iHdCRfQgUT8CEvYfYf9RP3msqfrN3VI/8EZd1Tq8Uz9q4RCwp5pUP+F7xIoUeVU/WBZ4ZYFXVj/SsCtA7jVXP0lL3xpbFFg/wOWS9cfyWD86gEbQNNFZP7Ea+qqhr1o/K7WthQ6OWz+iT2Fge2xcPxnqFDvoSl0/koTIFVUpXj8KH3zwwQdfP4G5L8su5l8//anx0k1iYD85d0tAhNFgP3REpa26QGE/sRH/GvGvYT/t3liIJx9iPyqssvVdjmI/ZXkMY5T9Yj+hRmbQymxjP94TwD0B3GM/GeEZqzdLZD9VrnMYbrpkP5J7zYWkKWU/zUgn89qYZT8JFoFgEQhmP0bj2s1Hd2Y/gbA0O37mZj+9fY6otFVnP/pK6BXrxGc/NRhCgyE0aD9x5ZvwV6NoP66y9V2OEmk/6X9Py8SBaT8lTak4+/BpP2AaA6YxYGo/nedcE2jPaj/ZtLaAnj5rPxaCEO7UrWs/UU9qWwsdbD+NHMTIQYxsP8rpHTZ4+2w/BLd3o65qbT9BhNEQ5dltP35RK34bSW4/uB6F61G4bj8=\",\"dtype\":\"float64\",\"order\":\"little\",\"shape\":[100]},\"sras-1\":{\"__ndarray__\":\"+n5qvHSTWL+B5LbhB7VXvwpKAweb1la/kq9PLC74Vb8ZFZxRwRlVv6F66HZUO1S/KuA0nOdcU7+xRYHBen5SvzmrzeYNoFG/wRAaDKHBUL+T7MxiaMZPv6K3Za2OCU6/s4L+97RMTL/CTZdC249Kv9IYMI0B00i/4ePI1ycWR7/yrmEiTllFvwJ6+mx0nEO/EUWTt5rfQb8iECwCwSJAv2K2iZnOyzy/g0y7LhtSOb+h4uzDZ9g1v8B4Hlm0XjK/xh2g3AHKLb8DSgMHm9Ymv4DszGJoxh+/DUWTt5rfEb8z7MxiaMbvvgAUwD0B3AM/hrEZSs7UFz99rKn6zd0iP0CARtA00Sk/Aarx0k1iMD/eE8A9AdwzP8B9jqi0VTc/oedcE2jPOj+DUSt+G0k+P7DdfHRn4UA/oRLkKUGeQj+RR0vfGltEP4B8spT0F0Y/cbEZSs7URz9h5oD/p5FJP1Ib6LSBTks/QFBPalsLTT80hbYfNchOPxHdjmqHQlA/iHdCRfQgUT8CEvYfYf9RP3msqfrN3VI/8EZd1Tq8Uz9q4RCwp5pUP+F7xIoUeVU/WBZ4ZYFXVj/SsCtA7jVXP0lL3xpbFFg/wOWS9cfyWD86gEbQNNFZP7Ea+qqhr1o/K7WthQ6OWz+iT2Fge2xcPxnqFDvoSl0/koTIFVUpXj8KH3zwwQdfP4G5L8su5l8//anx0k1iYD85d0tAhNFgP3REpa26QGE/sRH/GvGvYT/t3liIJx9iPyqssvVdjmI/ZXkMY5T9Yj+hRmbQymxjP94TwD0B3GM/GeEZqzdLZD9VrnMYbrpkP5J7zYWkKWU/zUgn89qYZT8JFoFgEQhmP0bj2s1Hd2Y/gbA0O37mZj+9fY6otFVnP/pK6BXrxGc/NRhCgyE0aD9x5ZvwV6NoP66y9V2OEmk/6X9Py8SBaT8lTak4+/BpP2AaA6YxYGo/nedcE2jPaj/ZtLaAnj5rPxaCEO7UrWs/UU9qWwsdbD+NHMTIQYxsP8rpHTZ4+2w/BLd3o65qbT9BhNEQ5dltP35RK34bSW4/uB6F61G4bj8=\",\"dtype\":\"float64\",\"order\":\"little\",\"shape\":[100]},\"sras_legend\":[\"SRAS, t=0\",\"SRAS, t=0\",\"SRAS, t=0\",\"SRAS, t=0\",\"SRAS, t=0\",\"SRAS, t=0\",\"SRAS, t=0\",\"SRAS, t=0\",\"SRAS, t=0\",\"SRAS, t=0\",\"SRAS, t=0\",\"SRAS, t=0\",\"SRAS, t=0\",\"SRAS, t=0\",\"SRAS, t=0\",\"SRAS, t=0\",\"SRAS, t=0\",\"SRAS, t=0\",\"SRAS, t=0\",\"SRAS, t=0\",\"SRAS, t=0\",\"SRAS, t=0\",\"SRAS, t=0\",\"SRAS, t=0\",\"SRAS, t=0\",\"SRAS, t=0\",\"SRAS, t=0\",\"SRAS, t=0\",\"SRAS, t=0\",\"SRAS, t=0\",\"SRAS, t=0\",\"SRAS, t=0\",\"SRAS, t=0\",\"SRAS, t=0\",\"SRAS, t=0\",\"SRAS, t=0\",\"SRAS, t=0\",\"SRAS, t=0\",\"SRAS, t=0\",\"SRAS, t=0\",\"SRAS, t=0\",\"SRAS, t=0\",\"SRAS, t=0\",\"SRAS, t=0\",\"SRAS, t=0\",\"SRAS, t=0\",\"SRAS, t=0\",\"SRAS, t=0\",\"SRAS, t=0\",\"SRAS, t=0\",\"SRAS, t=0\",\"SRAS, t=0\",\"SRAS, t=0\",\"SRAS, t=0\",\"SRAS, t=0\",\"SRAS, t=0\",\"SRAS, t=0\",\"SRAS, t=0\",\"SRAS, t=0\",\"SRAS, t=0\",\"SRAS, t=0\",\"SRAS, t=0\",\"SRAS, t=0\",\"SRAS, t=0\",\"SRAS, t=0\",\"SRAS, t=0\",\"SRAS, t=0\",\"SRAS, t=0\",\"SRAS, t=0\",\"SRAS, t=0\",\"SRAS, t=0\",\"SRAS, t=0\",\"SRAS, t=0\",\"SRAS, t=0\",\"SRAS, t=0\",\"SRAS, t=0\",\"SRAS, t=0\",\"SRAS, t=0\",\"SRAS, t=0\",\"SRAS, t=0\",\"SRAS, t=0\",\"SRAS, t=0\",\"SRAS, t=0\",\"SRAS, t=0\",\"SRAS, t=0\",\"SRAS, t=0\",\"SRAS, t=0\",\"SRAS, t=0\",\"SRAS, t=0\",\"SRAS, t=0\",\"SRAS, t=0\",\"SRAS, t=0\",\"SRAS, t=0\",\"SRAS, t=0\",\"SRAS, t=0\",\"SRAS, t=0\",\"SRAS, t=0\",\"SRAS, t=0\",\"SRAS, t=0\",\"SRAS, t=0\"],\"x\":{\"__ndarray__\":\"exSuR+F6lL9svm2RhsGTv15oLdsrCJO/TxLtJNFOkr9AvKxudpWRvzFmbLgb3JC/IxAsAsEikL8odNeXzNKOvwrIVisXYI2/7RvWvmHti7/Qb1VSrHqKv7LD1OX2B4m/lRdUeUGVh793a9MMjCKGv1q/UqDWr4S/PBPSMyE9g78fZ1HHa8qBvwK70Fq2V4C/yB2g3AHKfb+OxZ4Dl+R6v1JtnSos/3e/GBWcUcEZdb/cvJp4VjRyv0DJMj/XnW6/0BgwjQHTaL9YaC3bKwhjv8BvVVKselq/wB2g3AHKTb+Ab1VSrHoqvwBmdbOrjEA/8BPAPQHcUz/QdMWhrHFfP+Bq5QKsg2U/WBvotIFOaz/kZXWzq4xwPyC+dowWcnM/XBZ4ZYFXdj+Ybnk+7Dx5P9DGehdXInw/DB988MEHfz+ku75klvaAP8BnP9FLaYI/3hPAPQHcgz/8v0Cqtk6FPxpswRZswYY/NhhCgyE0iD9WxMLv1qaJP3JwQ1yMGYs/jhzEyEGMjD+uyEQ19/6NP8p0xaGscY8/cxAjBzFykD+DZmO9iyuRP5G8o3Pm5JE/nxLkKUGekj+vaCTgm1eTP72+ZJb2EJQ/yxSlTFHKlD/bauUCrIOVP+nAJbkGPZY/+RZmb2H2lj8HbaYlvK+XPxXD5tsWaZg/JRknknEimT8zb2dIzNuZP0HFp/4mlZo/URvotIFOmz9fcShr3AecP23HaCE3wZw/fR2p15F6nT+Lc+mN7DOeP5vJKURH7Z4/qR9q+qGmnz/cOlVY/i+gP+RldbOrjKA/6pCVDlnpoD/yu7VpBkahP/rm1cSzoqE/ABL2H2H/oT8IPRZ7DlyiPxBoNta7uKI/FpNWMWkVoz8evnaMFnKjPybplufDzqM/LBS3QnErpD80P9edHoikPzxq9/jL5KQ/QpUXVHlBpT9KwDevJp6lP1DrVwrU+qU/WBZ4ZYFXpj9gQZjALrSmP2hsuBvcEKc/bpfYdoltpz92wvjRNsqnP37tGC3kJqg/hBg5iJGDqD+MQ1njPuCoP5RueT7sPKk/mpmZmZmZqT8=\",\"dtype\":\"float64\",\"order\":\"little\",\"shape\":[100]}},\"selected\":{\"id\":\"3649\"},\"selection_policy\":{\"id\":\"3648\"}},\"id\":\"3603\",\"type\":\"ColumnDataSource\"},{\"attributes\":{\"data_source\":{\"id\":\"3603\"},\"glyph\":{\"id\":\"3654\"},\"hover_glyph\":null,\"muted_glyph\":null,\"nonselection_glyph\":{\"id\":\"3655\"},\"view\":{\"id\":\"3657\"}},\"id\":\"3656\",\"type\":\"GlyphRenderer\"},{\"attributes\":{\"data_source\":{\"id\":\"3604\"},\"glyph\":{\"id\":\"3718\"},\"hover_glyph\":null,\"muted_glyph\":null,\"nonselection_glyph\":{\"id\":\"3719\"},\"view\":{\"id\":\"3721\"}},\"id\":\"3720\",\"type\":\"GlyphRenderer\"},{\"attributes\":{\"items\":[{\"id\":\"3652\"},{\"id\":\"3668\"},{\"id\":\"3684\"},{\"id\":\"3700\"},{\"id\":\"3716\"},{\"id\":\"3734\"}]},\"id\":\"3651\",\"type\":\"Legend\"},{\"attributes\":{\"data_source\":{\"id\":\"3603\"},\"glyph\":{\"id\":\"3670\"},\"hover_glyph\":null,\"muted_glyph\":null,\"nonselection_glyph\":{\"id\":\"3671\"},\"view\":{\"id\":\"3673\"}},\"id\":\"3672\",\"type\":\"GlyphRenderer\"},{\"attributes\":{\"fill_alpha\":{\"value\":0.1},\"fill_color\":{\"value\":\"rgb(106, 244, 65)\"},\"line_alpha\":{\"value\":0.1},\"line_color\":{\"value\":\"rgb(106, 244, 65)\"},\"x\":{\"field\":\"ys\"},\"y\":{\"field\":\"pis\"}},\"id\":\"3719\",\"type\":\"Circle\"},{\"attributes\":{\"data\":{\"pis\":[0,0.0018310546875,0.003199338912963867,0.004202498774975538,0.004918382628638938,0.005409014794706806,0.005723773780142188,0.005901934147205003,0.005974699338660988,0.005966827303223787,0.005897930394655345,0.005783514721499692,0.005635811087358105,0.005464439232048205,0.005276938740420663,0.005079193310831292,0.004875769735520423,0.004670188673425838,0.004465140878642247,0.004262659813953376,0.004064259391893553,0.003871043836277465,0.00368379525757641,0.0035030434159222653,0.0033291212498914287,0.003162209032763736,0.0030023694448292272,0.0028495753918591736,0.0027037320331317898,0.0025646941890592576,0.0024322800638228075,0.0023062820307439293,0.002186475078008339,0.002072623392300031,0.0019644854618835394,0.0018618180038839887,0.0017643789591089902,0.0016719297486560837,0.0015842369472918835,0.0015010734972046066,0.0014222195606445121,0.0013474630899163928,0.0012766001771662779,0.001209435233604281,0.0011457810375817847,0.0010854586827777418,0.0010282974512328812,0.0009741346307718197,0.0009228152922072502,0.0008741920384162889,0.0008281247347476544,0.0007844802281244754,0.0007431320605430973,0.0007039601813467937,0.0006668506616057028,0.0006316954131052849,0.0005983919137909671,0.0005668429410010716,0.0005369563134153582,0.0005086446423300072,0.00048182509262356525,0.0004564191535878881,0.00043235241965191673,0.00040955438091504713,0.00038795822332354974,0.00036750063826212755,0.0003481216412885977,0.00032976439970912894,0.00031237506867150554,0.00029590263544216174,0.0002802987715273706],\"ys\":[0,0.0244140625,0.018243789672851566,0.013375464826822284,0.009545118048845327,0.006541762214238251,0.00419678647247178,0.002375471560837527,0.0009702025527464855,-0.00010496047249600516,-0.0009186254475792232,-0.0015255423087420375,-0.001969381788554469,-0.0022849580707986665,-0.002500006555033893,-0.0026366057278582778,-0.0027123143374782515,-0.0027410808279277965,-0.0027339705971145415,-0.002699747529184929,-0.0026453389607976473,-0.002576207408214498,-0.0024966477160140673,-0.002410024555388593,-0.0023189622137444865,-0.002225496228369226,-0.0021311945057934543,-0.0020372540396007117,-0.0019445781163651104,-0.0018538379209670928,-0.0017655216698193332,-0.0016799737743850456,-0.0015974260364745325,-0.0015180224761107792,-0.001441839072219892,-0.0013688994399940098,-0.0012991872636666465,-0.0012326561393720822,-0.0011692373515226676,-0.0011088460011636925,-0.0010513858208012585,-0.0009967529430415882,-0.0009448388366681962,-0.0008955325808266252,-0.0008487226136332787,-0.0008042980640539074,-0.0007621497539314717,-0.0007221709394808172,-0.0006842578475275939,-0.0006483100505461492,-0.0006142307155817943,-0.0005819267549757174,-0.00055130890108504,-0.0005222917226173799,-0.000494793596547876,-0.0004687366466722392,-0.000444046657524237,-0.00042065297053194055,-0.0003984883678095119,-0.00037748894780468054,-0.0003575939960858917,-0.0003387458538090287,-0.00032088978581295126,-0.0003039738498249279,-0.0002879487678866316,-0.00027276780081896224,-0.0002583866263137315,-0.00024476322105958367,-0.00023185774716831203,-0.00021963244305791695,-0.00020805151886388166]},\"selected\":{\"id\":\"3732\"},\"selection_policy\":{\"id\":\"3731\"}},\"id\":\"3604\",\"type\":\"ColumnDataSource\"},{\"attributes\":{\"source\":{\"id\":\"3604\"}},\"id\":\"3721\",\"type\":\"CDSView\"},{\"attributes\":{\"label\":{\"value\":\"SRAS, t=-1\"},\"renderers\":[{\"id\":\"3656\"}]},\"id\":\"3668\",\"type\":\"LegendItem\"}],\"root_ids\":[\"3605\"]},\"title\":\"Bokeh Application\",\"version\":\"2.3.2\"}};\n",
       "  var render_items = [{\"docid\":\"1314865b-4213-4d6a-a6a6-21e41221304e\",\"notebook_comms_target\":\"3902\",\"root_ids\":[\"3605\"],\"roots\":{\"3605\":\"2baca4ca-e1e1-42bc-aea8-4934fd6cec6e\"}}];\n",
       "  root.Bokeh.embed.embed_items_notebook(docs_json, render_items);\n",
       "\n",
       "  }\n",
       "  if (root.Bokeh !== undefined) {\n",
       "    embed_document(root);\n",
       "  } else {\n",
       "    var attempts = 0;\n",
       "    var timer = setInterval(function(root) {\n",
       "      if (root.Bokeh !== undefined) {\n",
       "        clearInterval(timer);\n",
       "        embed_document(root);\n",
       "      } else {\n",
       "        attempts++;\n",
       "        if (attempts > 100) {\n",
       "          clearInterval(timer);\n",
       "          console.log(\"Bokeh: ERROR: Unable to run BokehJS code because BokehJS library is missing\");\n",
       "        }\n",
       "      }\n",
       "    }, 10, root)\n",
       "  }\n",
       "})(window);"
      ],
      "application/vnd.bokehjs_exec.v0+json": ""
     },
     "metadata": {
      "application/vnd.bokehjs_exec.v0+json": {
       "id": "3605"
      }
     },
     "output_type": "display_data"
    }
   ],
   "source": [
    "Functions.plotting_asad('Output gab',y_gabs,[sras_curves,ad_curves],\n",
    "                    'Inflation gab', legendlocation='top_right',\n",
    "                    width=600, height=600,line_width=2,\n",
    "                    colors = ['blue',(226, 50, 86),(65, 134, 244),'green'], equilibrium_path=[ys,pis],\n",
    "                   keep_ad1=True,title='AS-AD after demand chock')"
   ]
  },
  {
   "cell_type": "markdown",
   "metadata": {},
   "source": [
    "We can see that the demand-curve jumps out in period 0, and slowly contract back to LR-AD, e.g. we can see the persistence of the initial demand chock. The SRAS on the other hand expands slowly, until around period 8, where it cotracts slowly towards SRAS"
   ]
  },
  {
   "cell_type": "markdown",
   "metadata": {},
   "source": [
    "**Question 4:** Simulate the AS-AD model for 1,000 periods. Calculate the following five statistics:\n",
    "\n",
    "1. Variance of $y_t$, $var(y_t)$\n",
    "2. Variance of $\\pi_t$, $var(\\pi_t)$\n",
    "3. Correlation between $y_t$ and $\\pi_t$, $corr(y_t,\\pi_t)$\n",
    "4. Auto-correlation between $y_t$ and $y_{t-1}$, $corr(y_t,y_{t-1})$\n",
    "5. Auto-correlation between $\\pi_t$ and $\\pi_{t-1}$, $corr(\\pi_t,\\pi_{t-1})$"
   ]
  },
  {
   "cell_type": "code",
   "execution_count": 52,
   "metadata": {},
   "outputs": [],
   "source": [
    "par['sigma_x'] = 3.492\n",
    "par['sigma_c'] = 0.2\n",
    "t = 1000"
   ]
  },
  {
   "cell_type": "markdown",
   "metadata": {},
   "source": [
    "Since the chocks in the model are stochastic and independent of the movements of the model (equilibrium etc.), we can compute and plot them before simulating the the model:"
   ]
  },
  {
   "cell_type": "code",
   "execution_count": 53,
   "metadata": {},
   "outputs": [],
   "source": [
    "np.random.seed(1986)\n",
    "xs = np.random.normal(0,par['sigma_x'],t)\n",
    "cs = np.random.normal(0,par['sigma_c'],t)"
   ]
  },
  {
   "cell_type": "code",
   "execution_count": 54,
   "metadata": {},
   "outputs": [],
   "source": [
    "vs = [demand_persistence(0,xs[0],par)]\n",
    "ss = [supply_persistence(0,cs[0],par)]\n",
    "for i in range(1,t):\n",
    "    vs.append(demand_persistence(vs[i-1],xs[i],par))\n",
    "    ss.append(supply_persistence(ss[i-1],cs[i],par))"
   ]
  },
  {
   "cell_type": "code",
   "execution_count": 55,
   "metadata": {},
   "outputs": [
    {
     "name": "stderr",
     "output_type": "stream",
     "text": [
      "BokehDeprecationWarning: 'legend' keyword is deprecated, use explicit 'legend_label', 'legend_field', or 'legend_group' keywords instead\n",
      "BokehDeprecationWarning: 'legend' keyword is deprecated, use explicit 'legend_label', 'legend_field', or 'legend_group' keywords instead\n"
     ]
    },
    {
     "data": {
      "text/html": [
       "\n",
       "\n",
       "\n",
       "\n",
       "\n",
       "\n",
       "  <div class=\"bk-root\" id=\"637f0e9a-8034-4ab3-a23d-1eb7f0651749\" data-root-id=\"3965\"></div>\n"
      ]
     },
     "metadata": {},
     "output_type": "display_data"
    },
    {
     "data": {
      "application/javascript": [
       "(function(root) {\n",
       "  function embed_document(root) {\n",
       "    \n",
       "  var docs_json = {\"9d1b4514-c48b-4163-9629-4d0feeff531e\":{\"defs\":[],\"roots\":{\"references\":[{\"attributes\":{\"below\":[{\"id\":\"3976\"}],\"center\":[{\"id\":\"3979\"},{\"id\":\"3983\"},{\"id\":\"4012\"}],\"height\":450,\"left\":[{\"id\":\"3980\"}],\"renderers\":[{\"id\":\"4000\"},{\"id\":\"4017\"}],\"title\":{\"id\":\"3966\"},\"toolbar\":{\"id\":\"3990\"},\"width\":700,\"x_range\":{\"id\":\"3968\"},\"x_scale\":{\"id\":\"3972\"},\"y_range\":{\"id\":\"3970\"},\"y_scale\":{\"id\":\"3974\"}},\"id\":\"3965\",\"subtype\":\"Figure\",\"type\":\"Plot\"},{\"attributes\":{\"text\":\"Our simulated chocks\"},\"id\":\"3966\",\"type\":\"Title\"},{\"attributes\":{\"overlay\":{\"id\":\"3989\"}},\"id\":\"3986\",\"type\":\"BoxZoomTool\"},{\"attributes\":{},\"id\":\"3987\",\"type\":\"ResetTool\"},{\"attributes\":{\"data_source\":{\"id\":\"3964\"},\"glyph\":{\"id\":\"3998\"},\"hover_glyph\":null,\"muted_glyph\":null,\"nonselection_glyph\":{\"id\":\"3999\"},\"view\":{\"id\":\"4001\"}},\"id\":\"4000\",\"type\":\"GlyphRenderer\"},{\"attributes\":{},\"id\":\"3974\",\"type\":\"LinearScale\"},{\"attributes\":{\"axis_label\":\"T\",\"formatter\":{\"id\":\"4006\"},\"major_label_policy\":{\"id\":\"4007\"},\"ticker\":{\"id\":\"3977\"}},\"id\":\"3976\",\"type\":\"LinearAxis\"},{\"attributes\":{},\"id\":\"3977\",\"type\":\"BasicTicker\"},{\"attributes\":{\"line_alpha\":0.1,\"line_color\":\"blue\",\"x\":{\"field\":\"x\"},\"y\":{\"field\":\"a\"}},\"id\":\"3999\",\"type\":\"Line\"},{\"attributes\":{\"axis\":{\"id\":\"3976\"},\"ticker\":null},\"id\":\"3979\",\"type\":\"Grid\"},{\"attributes\":{},\"id\":\"3970\",\"type\":\"DataRange1d\"},{\"attributes\":{},\"id\":\"3968\",\"type\":\"DataRange1d\"},{\"attributes\":{},\"id\":\"3985\",\"type\":\"WheelZoomTool\"},{\"attributes\":{\"label\":{\"value\":\"Demand chock\"},\"renderers\":[{\"id\":\"4000\"}]},\"id\":\"4013\",\"type\":\"LegendItem\"},{\"attributes\":{\"axis_label\":\"Chock\",\"formatter\":{\"id\":\"4003\"},\"major_label_policy\":{\"id\":\"4004\"},\"ticker\":{\"id\":\"3981\"}},\"id\":\"3980\",\"type\":\"LinearAxis\"},{\"attributes\":{\"axis\":{\"id\":\"3980\"},\"dimension\":1,\"ticker\":null},\"id\":\"3983\",\"type\":\"Grid\"},{\"attributes\":{},\"id\":\"3981\",\"type\":\"BasicTicker\"},{\"attributes\":{\"data\":{\"a\":[-2.7132107905531497,-1.7284342504209214,1.581044626087798,2.0736718696316934,8.051159994894114,7.856926990961408,11.784679194139457,5.299070704018687,8.13332000383258,9.89163066863873,11.301570950709134,11.141624574736497,12.281152631806064,6.998531781259679,3.5580858695369746,-3.47775008241075,-10.086914137955187,-2.336289257323533,1.3706826271662977,1.737693951981746,0.8740575519942378,-4.814626604171831,-5.365617129870831,-1.8563274069821052,-5.286525979251578,-4.5965452040888275,-4.972295900251455,2.993485443043498,-0.0565500970782189,0.055077350560452085,0.9144680190113346,4.9079355278665435,2.4448264457421223,1.9925674370904207,3.062275648016816,-0.6428013998143771,1.262550189628207,4.097672997580748,4.257568853633936,5.736596246519291,-1.7513250497846045,2.333920569117833,0.7717759335560641,-0.3003645261336887,-2.826905643111916,-2.462793919906236,-9.623049186112054,-4.48647988236429,-6.252978538697811,-9.39398645664041,-8.065100771301688,-11.211294583478058,-11.106401142434738,-16.380633754006375,-14.012158669690367,-11.022560794341532,-13.985273815953951,-11.347980817541705,-8.795328594410632,-6.7136889289052135,-4.743568755885274,-1.1430831610720027,0.32680012568314165,-2.122302303385108,2.8819072559967713,-2.9992151531627536,-4.454987063620808,-5.11775114432149,-4.2559198689025735,-6.248274864756388,-2.174142663536157,-0.9624391769237234,-1.3319468266954173,-5.223669659957918,-4.248097424820703,-8.163958270247665,-5.598927099905836,-10.61947427323977,-4.947004865603436,-5.470124031582188,-8.113078649181187,-4.726071040497548,-3.457627222411591,0.5627976804937251,-1.3303203651653794,0.24116164127074313,3.06112242627094,1.0133212513577996,-0.48908365941276966,1.2386840171591635,7.522536550316832,3.9594423296176995,4.13534514235945,-0.8340374081238684,-5.701569095534708,-7.556680947291126,-5.222454901276036,-4.075882058467028,1.4883607112122896,-2.2432134476260392,0.5170036049903175,2.932543432973202,0.3694135660654674,-11.732831138899272,-10.217263444281176,-7.217928468032154,-9.409224175150982,-8.53830709441192,-10.094861254463755,-13.534863743031817,-9.238504769853307,-0.67828499166031,7.034587578474956,8.74509023993587,10.249823135958561,6.164320138087115,3.3080545515619733,4.6210060757386735,9.394076584596219,6.991050494859544,4.478892989531881,7.80379799112692,3.625081190192035,2.086685319466544,1.897340460638085,-1.521370314703256,-1.63245527503347,-0.9287989552756977,2.3161550137106732,4.583469630517064,-1.5196190222467938,8.251449329215948,1.3512553768275026,-3.919911100660901,-1.2043211547935788,-4.890608438321147,1.4043910124621783,-1.816485992770553,-3.7701968473818512,2.9561011613014587,3.9012661549749845,1.9332165613456584,-5.728106123591445,0.11026906747519138,1.7450316492167839,1.1624489368997597,-6.576489871366695,-13.104537283624625,-8.113645629377253,-7.912455540092614,-7.809086196155082,-5.006988691802354,-3.7516828572383556,-2.088375095390808,1.0466588741379772,4.664120786573065,6.537964074285824,8.225344682256539,7.6188231434720946,7.61945348196066,6.020064854843479,-0.6216930694712826,4.886290685632308,6.624365702850302,4.1866636524101555,-1.2059335920883494,-1.3803061255459959,-5.249647334776027,-7.284614860546131,-6.35347120479805,-4.668417623699037,-3.4879429924726986,-8.954459338384781,-8.581313289794528,-7.6719802373401365,2.4434779870547008,7.521944728442594,8.537997019741425,7.90200224675032,9.429379198827839,13.058940869270605,10.833250945546421,7.186135330430516,4.423622177185639,8.089439929838434,6.501457674226721,4.004175611214165,6.9418641301883355,1.7720737076906068,1.3454881695114962,0.1657259303833074,-1.1615650863816622,-0.5221562627789036,-1.942480565110728,3.4840597999488887,2.312268055887922,5.114226932544708,0.9641261271764803,3.8979708791789607,4.171620265087704,0.3808674464136357,-0.1921432085320755,-10.842720148165307,-6.919653463783289,-3.33764644111206,2.0761600105351774,3.5123147234816843,-0.33527182549345413,6.02844216901395,9.026956101381925,13.816464139823012,7.958054165901291,10.13064796819189,6.217066887964732,2.9781589219984035,4.98066714278376,11.074841482826129,4.860215675245135,2.399596830469749,3.6323837420807883,5.790099121936997,8.59144002164213,-0.37679006556331274,0.015634622340834736,-1.932264798220835,1.8775643602999565,4.900473269058018,-2.160309209646666,-5.385745160070405,-2.9858664058134576,-1.4535704841418373,-2.6959039882692384,1.4437866187194976,2.0061081775844394,3.1713862378405566,-0.3131969323383226,0.4909690452141357,4.110157568081791,8.095179790241772,8.596069995126634,3.5086292173240365,7.461798843673034,4.402690215042353,-7.758744960929356,-1.3819424972069028,-1.3647511066136233,-5.87734476148575,-3.8337458899730414,2.149825280600327,0.8115704429277559,0.21500469384471305,-5.213435281718489,-7.082378366933108,-2.6829936914908,-3.064135396226464,-6.627579699369308,-7.1354131039387445,-6.190725455639409,-4.897661305610279,-6.15666646324423,-3.7709273780588477,-4.958135558650799,-9.231161525076589,-7.484055376822051,-5.764351091621804,-9.434549369930776,-3.983898606119018,1.4089322240508269,2.8692191669666363,5.203282194000348,9.154233065233932,7.229728007269261,4.430368523779146,1.9617862023216783,1.661200228486999,8.545622079081017,11.226144357919498,10.504771822495968,10.810855730707546,10.565898996754166,8.306159977398787,13.136939378360792,12.263707167425222,12.924446155623539,14.201482028696878,16.922144916174034,18.679518599922062,16.85057934097779,12.43243364445122,-0.3661338154923044,0.15399819465701897,-0.7643392456442286,1.6917645532235785,-2.076702687609276,-3.420112523738621,-0.13998158618127254,2.0270881128606337,7.099057866152759,2.066231920430655,6.018615142235667,3.980250275872698,3.5482766029558537,8.797935774179518,1.4959597769732103,3.4264911421094446,2.5305127648967356,3.4508600394508573,5.424605262134022,8.514201840174628,6.919894408525464,4.60329542706718,3.386416025649509,-1.6866066683807963,-3.644901019539895,-1.4837491252499324,0.41531326211285924,4.156758803937612,8.253260247581185,4.96341205557844,5.072450635012122,-1.0934375708213278,-1.6965267630426832,0.5754736480762646,-1.9819197128165977,-7.437140481160669,-11.543969307861401,-10.993135533558762,-2.7134635524327333,-2.0903621499673655,-3.6179475445458955,3.0258020714189535,1.974217693305694,-3.023504076951734,-7.795303078941456,-5.455263341787805,-0.9138723940159825,1.1598962911000565,1.1837988428283346,3.5217865610823083,0.7578491860415513,-2.0647374572119532,-8.976287848434778,-11.634436367777868,-8.790471737976368,-8.194085365732004,-6.84451272208702,-1.80483070458674,4.4038614190767085,5.121115597347439,3.458813435512357,-2.2788661791628937,-4.342596156081635,-5.643935981214012,-0.9684087612676513,-1.6642739507725262,-0.6852138040232941,-5.439486681962494,-8.915253739162198,-1.6855566852845705,2.1217866561529792,-1.1732548059826773,8.622295020793043,3.18490815133279,0.5456431458310225,-0.2241449789994544,8.765886465328782,4.41970045203928,5.22423900887098,8.374316164190594,8.41600925928556,14.255272979059416,14.397379360701215,15.234890404677174,14.27265598912177,17.350552822549776,12.948966216082544,12.689636891382087,10.24687326465156,8.122909635529025,8.427298353776361,5.20079596456193,6.830048693646111,6.458102868476416,6.914583872527375,12.851423489324631,5.6883840662416265,1.2273042376537115,-1.2690055420967086,1.2866453969097764,0.16875775841670637,-0.021154705254753298,2.947177737860131,2.6665011306365165,5.138352307572724,1.3678595541347893,2.0771326692575505,9.646446570368138,12.197700320090172,16.83818658865476,9.11457671525626,11.2541855842484,7.471243388135402,11.156628880037527,1.7932295174045674,4.031338341137194,8.085758390404678,7.6705719519505955,6.766974506604855,6.12140264888987,3.009047705243116,3.0540744025191295,1.6844048521645107,1.9685712512887075,-2.2256329599600067,1.8870698387407172,2.2511204199806762,4.22863738557434,5.092519315595281,2.0585173447365652,-3.9863188247616455,2.3626762956456,-1.1424169714972103,-2.6496296818927245,-2.9698872116249415,-1.7337354724657823,-1.4284161437944687,-0.6930586375490898,-0.15756127147682292,0.7751200100152118,-0.12276017543893925,-2.054905389495135,-2.803993835935262,-4.3125842679394975,-7.679975553568288,-1.3309120383382984,-2.8191290621769225,-2.0110533864724744,-3.105985440325405,0.2742500406733881,-4.082912192947658,-2.1705133847691944,2.3035346182260854,-0.44622703757881843,-0.7681659672493765,-2.4058671724448946,6.610651609063644,6.317915230812036,5.963550895727277,0.9107864547112188,8.654602690703584,13.848552502974691,7.906157424365562,7.30132209409482,3.7928012775551756,7.065839080935,8.845150261432716,4.00889418906228,0.6793342922821815,4.745432338666847,4.892983661879666,0.8537884352739931,0.27723677481857695,-0.579749532080684,-1.148096208978056,-0.6897124522782766,-1.645676162226351,-4.743601841034268,-1.408015932329083,-3.643820965765007,-1.2990493635658116,1.3465422290393374,6.801798198260229,3.2058760795399723,4.399412088972784,6.173660599177552,8.637952397818085,6.374947932851072,3.6038666891794477,-1.076968960207751,-3.9052918219406583,-2.157353880352689,1.7274170593910765,1.1661795091180103,3.4681846803669667,2.199192765970791,3.155405373916347,0.8892169072882472,-2.349920983216361,-3.5908587360125503,-3.6055000355370783,-2.1379147739989603,-0.056087061795437876,-11.17864945591133,-19.190517580639465,-17.14739186987168,-14.07820409270813,-12.543247031656039,-15.248379454098636,-15.924665458355193,-14.537176592156039,-10.941877345628443,-7.4888844187596515,-8.064129060518718,-3.8480920754304373,-5.641254734716521,2.0138070741678735,0.10320374637978014,4.33406825111352,0.4708046401835886,4.030135913472989,4.512935424341055,0.6662781995252245,0.09876309121348731,-2.9928780953395147,-5.771758930666117,-0.03562590360901474,5.643924186283239,6.430706064289138,2.8241897339045603,5.608008826199345,2.2738147055906834,4.687202033104659,-0.6696712639661073,-2.617111893979178,-0.48444774084388054,-0.05269963659817967,5.415967923239,3.6675747355017005,7.4869672671187715,6.454620070093079,0.9416897631694248,1.687619472110491,-5.022624325690819,-10.106378454271436,-3.291040515924321,-5.046653312815806,-1.0672297487461555,-2.996621438045109,-0.027115096960015794,-5.688067033957728,-6.521139196851863,-5.840688109424564,-4.514690746996267,-1.207544476630273,-10.043990590456087,-6.023400977017385,-5.559940460298524,-9.788702176831878,-6.120397986191826,-10.254833000760804,-7.855036149649168,-6.173061329396678,1.250113902060117,-1.4967537600408582,-0.437873870548246,-0.3483320695252477,-4.774052135288607,-5.387971326138187,-8.721141171115523,-11.702252538298485,-6.5684601773282605,-2.907661083490544,-5.507969526746068,1.2249259079640398,-2.529972724625825,-4.207684334707382,-10.655895132770404,-7.784688250832055,-8.163969059971091,-11.738936830361789,-7.915701574517598,-9.816477296666877,-9.024399819448762,-10.808379515191724,-9.985618318954028,-7.337073809003922,-13.908766929943338,-14.620811119929938,-13.068152437329733,-10.772990420319614,-4.998878622167517,-2.498057987038125,0.11328286150385392,2.55239829034051,3.7470812979698715,0.10977179172896445,4.436955611881448,2.3153699506160574,4.406617305888746,-0.10905324010113526,4.753949141486783,5.640167184355215,3.704141092434744,6.429495953684105,-1.4784314971484305,-0.8857271787273278,0.40177014117716936,-4.948259548169292,1.541665137785981,0.3094377524073618,-4.22831713748205,-7.1326118065960395,-5.132908042379795,-8.609116710050714,-14.42155543838577,-11.472403932408309,-4.536419547841035,-6.395570771163125,-3.6448964461171993,-5.665042920967307,-2.941038524522088,0.6528421167931961,4.187314033970503,2.5441918322857973,5.205149787773905,0.3882538636542012,0.5518608486557461,2.0565311019790906,0.26422092443265277,-2.0576532004989714,-3.403752278738337,-2.1079442682768934,-2.3742787207928138,1.3168325961346503,3.9309609694360645,2.8196001625355858,0.6091394857995713,-0.03736937450721223,-2.928308846064676,-2.41773004435726,5.547049896855081,3.2431475291138177,3.7767003904870142,3.939435917774865,2.8465437642834095,-0.47614802145581026,0.6857714589382029,-1.9746157690580124,-5.411311735960146,-8.495273737057715,-9.750875065388481,-6.626500497385289,-7.040066898907946,-5.222679148741711,-4.027369164029121,-4.520130501039626,-4.673761730146737,-7.044440826239942,-6.531493347040154,0.161744550801318,0.9685685368441252,-2.785274647741799,-5.533236175395155,-3.8507562505375224,-6.999840648744048,-10.420395349098431,-4.554169995605511,-4.863878796656532,-7.199381466526374,-9.097543092492314,-6.9421723149961165,-7.070171840372996,-1.1736653976892635,-0.983187961261628,-2.084475820914747,4.604068787800247,-3.163276493689775,-4.968240881126058,-2.068157881716667,-0.8877733922503294,1.391210264809132,-1.613754137742086,-2.702865272576693,-1.9432417878243347,2.914306388302597,0.6971199820775191,0.21353365975823946,0.608653730566874,1.5244312397710058,4.9976470608604595,8.185635994743233,5.339833201724289,8.647397035534986,7.557084248789876,11.949959005726562,9.891460520263438,5.297454777817819,-1.102900146064866,-3.9387565644196947,-7.486270223675762,-8.415355235853001,0.7607329058654928,-4.259218545580866,-1.891854637962983,-4.994467015908716,-6.72055481887093,-6.931882367664966,-8.313159693926746,-2.73512507827542,-2.821672137317885,1.9065645002824412,5.347284662193243,2.927443749698513,3.7852250241429646,4.036628819195742,0.38032721295047667,0.0596348505508629,3.5288890044188514,4.740983355019305,-1.3037266250848134,-7.795531209689661,-5.078424188510735,-5.332773075762136,-1.103739303244898,-5.3216220283261375,-5.920748287647269,-8.559645235019687,-9.243817051045156,-1.1432244762539758,4.579378971622793,4.1367283424119154,7.597108849667556,11.510386635251734,15.21933363632617,5.790346287308238,0.9444261561891687,-0.060851868493831174,-3.520722422710809,-6.3680024324782565,-2.555323439652705,-1.70763761037754,-1.0816185495334711,-3.3141791370572755,-5.160982045741703,-7.818766061841156,-5.854078989696535,-5.109414885297049,-2.205226968597873,-1.3389751060772612,0.7485504416518425,0.6838225199554155,-1.0301929774901244,-4.231913342681764,-1.736844601449813,3.7208659565427187,8.774617079682859,2.623530160544025,10.274877032637024,9.822716560923768,11.714803532609286,7.899152337205757,7.158277811122199,5.208739883820831,5.689604406152035,4.763625007577871,7.614126607100264,5.6983658059267706,9.491645660977287,2.890501368239007,3.9967681772880503,1.159422579261654,-0.12589806793628322,-1.3027180816966966,-7.368804480046992,-7.781106393912961,-4.1454219288880125,-5.556202929192144,-1.4459951265465807,-3.871351370968015,-2.701201969057098,2.775963635446242,3.3418450055453386,0.40462880324857453,-0.8016059388562373,0.11503280318884479,3.2091004246845776,4.493871958320046,4.266679728578857,4.043538969779308,4.9222151692560265,8.66212091059722,10.730483788533286,6.635985895732184,3.8616800457329585,2.6074550980186584,7.342703063008582,4.359136767701402,4.742909057528632,3.9549168497251346,7.912646339693941,13.086823210537833,4.89981148939943,9.283848952213695,4.9408733697609115,2.3201251378015666,1.653286333858034,6.945112920438412,1.4516241615276462,-0.5142078844162048,2.385375172241697,5.334027992757485,3.6938960458158014,2.349057406568765,-2.1037829711435845,4.986850100000135,4.181569057664703,-3.879628382908829,-0.44277164465987306,7.368234543139722,6.975213409271128,10.340932826120497,5.9647822808104465,3.9598961047537182,3.542087354437653,4.616330446277395,5.893260319255976,10.371093306884408,15.627467564034315,10.6338636780286,8.184864969768709,1.393203582274528,3.034484276196453,0.5742888890623932,-2.6849205526026063,0.48961648023977,-0.537947157882767,-7.336490826172297,-3.3597914154664026,-7.458111220461179,-0.4640939324313189,-5.744183450570801,-10.710780075116661,-17.013861982978916,-11.44720876394361,-5.169418851096997,-1.6700208898959503,-11.014269756912801,-12.400633684635553,-14.628815531874558,-12.390418652002877,-11.616243058367141,-11.637369243628019,-8.381691713689763,-8.270778533630263,-7.455281392342771,-10.655086669778445,-9.447049356279454,-4.083613120180718,-0.8056673706102409,-8.694155496431065,-10.729471819860763,-13.570791807977713,-14.850919368930663,-9.773794126572263,-6.308345084862114,-2.9133744674661424,-4.104984163593516,-4.951003106336202,-5.794332624601935,-3.2435199385134617,-6.1295311903095016,-4.61658451836111,-11.028366372847502,-11.451019810110846,-6.2626291378911105,0.51718559971233,-1.513448495624133,5.813698678713929,8.383287679237641,9.793997882140728,6.727000900635819,4.202605581546825,1.3850454605674218,4.317500039264829,-2.1272215748649232,-8.110141325520473,-6.621993141305132,-1.396486805627971,1.417484532566302,4.2470376031066035,2.3056446921739764,0.6242153633931584,3.3015056583330424,-3.4454891013281186,-7.6084784210715695,-13.294792308950102,-12.824484251189556,-11.929147573872891,-12.010899371510959,-13.209009053256718,-10.81701886797046,-2.5641383245055662,1.2900452235290332,-1.3413932792990253,-2.0888308363138726,-1.9478656505702656,-4.735764730663844,-8.477682559472758,-3.8143898926958855,-6.569339789176885,-8.661024692657563,-2.886454285880559,-3.23939261355203,-3.53794873486655,-5.605527856587985,-6.419677229942088,-6.1409332781243275,-1.8224575572674704,0.828048879585499,1.7009616294453267,2.039501943731689,-1.1507785297374993,-2.2575433244148986,-1.4832818350333166,1.1785998493950167,-3.140162407785141,-3.4269610518860656,-6.480019911083161,-8.641096015467948,-3.203129662230972,-7.999466352183934,-1.3230332545178607,-2.2508962961753234,-3.455491073671432,5.634637129494468,6.6265320509081125,8.755068930151944,3.337633004534973,5.79543115287528,5.423929691114985,2.6595385828073885,3.6686940849147414,4.671413826506673,-0.1858003669805468,-4.6638286736323735,-6.7017555854168105,-5.617903791860255,-7.4026160139158925,-1.7123609062814982,-1.2812358399872825,0.2974535877867128,2.3106270796065806,-0.8866434159423897,-1.7551056952714568,-3.5660355254100917,-3.2655015704111947,-6.928387420069303,-7.439723297586854,-1.5197031931960412,-0.9216665479040969,-3.17143797139261,-4.570881296386112,-4.201902215972147,-10.64257861617267,-8.784959269412765,-7.111144850530556,-4.073000897057602,-5.072080686117782,0.04425791987465377,5.276369448194576,3.305307981595184,-4.543076480188722,-5.83694442841092,-5.234988319999859,-0.9273830471006983,4.309115373144287,7.865353897956552,11.678915680218243,7.771686834892639,6.680691545711358,2.0687032921091504,5.477723618450805,8.093114519477902,11.44463214402123,-3.9800956979207758,-4.339205965476284,-4.61659387268503,-5.937503458181251,-6.734895715394658,1.333832182512757,-1.2927037165161608,-1.0469789145048722,-0.5304721437389708,3.2547191178220882,0.9264931078270859,-1.9234913021150661,5.8777549025238365,2.3321723615375767,4.4573955519161546,2.1948414371264056,7.121486134945364,1.8140346609795537,-1.2534024686011471,4.001197236239132,-1.0760812407260674,0.491803768662861,3.4563940731927905,-4.664610128034614,-9.701293646249422,-5.457950630461367],\"b\":[-0.238635949714069,0.1777296966286035,0.05887242879674762,-0.2817640368507532,-0.045062714766399954,-0.07434702429698506,0.31499387939503176,0.25093509269721426,-0.17965756876119796,-0.24807431294573315,-0.2553699698863779,-0.21309295373401982,-0.2559497070123521,-0.5194523313547601,-0.11712747931732016,0.021039064850442733,-0.14555263883575636,0.18632675824996203,-0.09419595395452357,0.009460186216246998,0.3810173525228131,0.3955782776971117,0.483780449819395,0.1899739765044564,-0.222794287838954,-0.02388918732176555,-0.3384010243218316,-0.231407375742007,-0.34775975672735837,0.22670414310667236,0.2879288979602832,0.1700888242135196,0.0905638321849698,0.05346856650157142,-0.24843093312534015,-0.3989135744927032,0.0009041421581939477,0.07843611437998856,0.006060281646996301,0.15079680450404337,-0.11527624889923697,-0.019316899110901477,-0.16135628148025413,0.28307468119053575,0.027812494293491107,-0.061407214107408604,-0.2756736041690281,-0.42384846897077044,-0.08869533320254763,-0.33233470332729304,-0.0006292837753190186,0.12115713053470113,0.29599572342088687,0.31053348816007753,0.20182192083804967,-0.5041221104362535,-0.23715572593492174,0.21510155922406315,0.14362800971283476,-0.04018465856819177,0.046674498663968014,-0.2103949630610645,0.08672693490743544,0.24366114000776942,-0.2741381268089584,-0.22690470478720484,-0.047827808181379335,0.01601854739798237,0.20277112128988087,0.3210519131777773,0.13649853314002222,0.00851048099941222,-0.03527365843943514,-0.2691392240182466,-0.056971463773525695,0.09014324879071259,0.05790228965102553,-0.35771471065058524,0.04497136142657476,-0.33247743337057867,-0.2253309251156313,-0.15630736226499525,-0.16276251990826718,0.12210066197085817,-0.10710998461918197,-0.08311683652824893,-0.1579326471291714,-0.029491586614925725,-0.3511926918511017,0.06610303498089332,-0.18828870530776012,0.22995798216077407,0.04182727569892861,0.042656493764073884,0.23684720620581706,0.17979510557545725,-0.1609542130208565,-0.007765325540021257,-0.014490230637610476,0.19781606081679812,-0.054510092494989185,-0.20390244858028392,0.3069607309826551,-0.09311868796372678,0.1978573113767572,0.06754262453536189,0.08384408479805759,-0.11693043464504144,0.1593235257523961,-0.05972903798809111,-0.05743262058877384,0.01807644882125976,0.1107172682175103,-0.2698459989753113,-0.09723951132933674,-0.052309522641400465,-0.12938153281582937,0.15749632476807915,0.23154760066315552,0.37283155280181873,0.04313024013356937,-0.22878730518140966,0.2089016483999733,0.5590114148533629,0.21978828879707052,0.12569428305466954,-0.08236388739649453,0.08226127017929669,-0.11164318120436498,0.5052448552934975,-0.04908353187412366,-0.15109965640802364,-0.10840499852174423,-0.047508277850278925,0.0486176896453476,0.05584829127792594,-0.025957406091194547,0.06065955638272963,-0.0040798018785045305,0.10391682250363274,0.16211556298969956,0.026295117724729082,-0.12905762364307882,0.092196023440137,0.07955328500345078,-0.41520673536324076,-0.3363102744274335,-0.028899157362801756,-0.36073085060485993,0.06831251109194213,-0.04771329116887693,-0.034379496218027675,0.20693493730554424,0.22960264211602482,0.19742786286085287,0.0738223675774874,-0.018529023761264383,0.01624679424951269,0.22275644672776387,0.001366835101549141,0.03505956614792969,-0.160621093933678,0.3384476182956665,-0.21807092233969622,0.02276062712095956,-0.0475633731280738,0.11685784784226366,-0.34133024715372096,0.09816563943129317,-0.03857577085894263,-0.334042397606922,-0.24586045647378996,-0.064220403876589,-0.0035619469030247434,-0.09788187161695647,-0.2734458072828031,0.11100380243198527,0.04881862393772697,0.06286232683000252,-0.009170895068445949,-0.23119675333135853,-0.09699496899668685,-0.14257662283693012,-0.33601450089531576,0.0279211396601343,-0.35163368766322706,-0.2833554793676263,0.013785482242665459,-0.06332971814748613,-0.18300355967052281,-0.29527000838084505,0.044008812817471744,-0.053263742469742456,0.20559892431192142,0.08948902145362675,-0.027841512490408733,0.21894039619372088,-0.06381759061373737,0.0356075443759378,-0.10491172091974543,0.2201118075332347,-0.10157827070305826,0.14841834728142303,0.05458487490273635,-0.14443347441454,0.10620609779995396,-0.32694314780973466,0.036098310787572654,0.03483403977990978,-0.013037995523017158,-0.07075134382843466,-0.13994219304199754,0.14397250177657384,-0.19562014314381415,-0.506827389631365,-0.10567692496164396,-0.2804848384141299,-0.23435128037895175,0.19584753250666526,-0.2945561536451133,-0.37589994338716276,0.08756712088615948,0.14120288956525687,-0.14486378801434033,-0.011895982540190827,-0.5954634700093779,0.14128546340764664,0.33699294213997194,0.2963782619659841,-0.07512742146832128,-0.056583592668900964,-0.05555305107492585,0.09048804965318381,-0.01493225140297073,-0.12160614408332454,-0.20168577137401214,0.3150874174671115,0.3772647030123471,-0.16113392751880817,0.018318784707287594,0.018418632822664177,-0.1698660563083935,0.10085349942502261,-0.1297383662135569,0.04671648019118799,-0.3031461573901207,0.0646196649840882,0.0046468437567404545,-0.03660046523395426,0.15392793933884558,-0.0327340959259171,-0.11822748541581252,-0.031378909804114785,0.02873716258986988,0.025110468160844578,-0.11199533113785846,-0.41874101844786826,0.028628069468447884,-0.11098250685004303,-0.3382921875088226,-0.11833835030717829,0.13745693617857252,0.08938785262612832,0.024158007718814295,-0.0500873219804054,0.3556315028132156,0.2981146022990253,-0.1453710365414714,0.19085611282181927,-0.08475926628327402,0.051242055336044534,-0.11665560207817298,0.10312058441395058,0.4424808522483397,0.042907379378077065,-0.19307091832669734,0.03270370818908585,0.17038516112255986,0.2981547193342704,0.05646659599981573,-0.3005790162328827,0.21794308068447457,-0.2335730243402863,-0.08163015193074147,-0.051740757659952646,-0.16195925168655925,-0.24653301231109112,-0.4249393115120269,-0.05336047050048112,0.015509585910788165,-0.16419371377851305,0.25864992952570837,-0.032716759063965435,-0.16212451296622632,-0.025943770728303596,0.446405724305367,0.059911631483890046,-0.14591843242021477,0.25495638027607476,0.3737479532156152,0.4378113952418351,-0.3329950282758456,0.19409228961574201,0.23282159281184045,0.1721976645806267,0.11711647962013527,-0.1608076237042892,-0.0383629684186127,0.30964503069039295,-0.036818720136558396,-0.013974321376370261,-0.21182338117786592,-0.23597216785839897,-0.13174013179819333,0.22916037559582605,-0.09542116770207212,-0.2663969024186204,-0.07896831559722503,-0.10918504261508138,0.16039815232466653,-0.03165555388604595,-0.023019409567844748,-0.20198694952119958,0.19170672338297012,-0.23301162453500707,0.1827640945903498,0.13329893695018105,0.058214806631513974,-0.09872029339481966,0.06907800056287652,0.27970684269221807,0.18105683129844619,0.2749047767332805,0.028198513167002975,-0.03968360009658213,0.027550807277376972,-0.004107601250669032,-0.11615019529618888,-0.262784060620351,0.13728731859675428,-0.527694534425086,-0.09197765553712837,0.07392901407574647,0.1700942933374627,0.37852953323745686,-0.344450829438308,-0.18833635447996996,0.2981210278173966,0.24155926891862695,0.07349962653985993,-0.01692649731993348,-0.13424210274618434,0.6035629285116462,0.011971710998226442,0.42082660151751194,-0.015819382860393416,0.2123230353043062,-0.07875847933847019,0.048324982926543705,-0.08174939968077112,0.13892915243306075,0.384513980072664,0.42052064841041914,0.01893036569242735,-0.13101478309919565,-0.11734046286683987,0.09410075835729918,0.26250295152929964,-0.2593068170949304,-0.1245327635451549,-0.13773669315740875,-0.025560809622767876,0.18217551958430117,0.39644557419136245,-0.23502220843329213,0.2957303826281024,0.24308647192692023,0.013583785947671283,-0.5814098634604924,-0.017978260981322575,-0.16034204177414554,0.43414755949243977,0.07363332814135443,0.14893630679380762,0.36284309947706833,-0.14316550722676794,0.4945471081324032,0.26306577830265226,0.09688834345106392,0.01679163823325337,0.14281738611726683,-0.06253934120725387,-0.45087554296088794,-0.3577652303542412,0.2479373129481912,0.3258353052511392,-0.09224392733021292,-0.14991545038627463,0.08225284639371652,0.3221698698858009,0.15692057037469273,0.3576615149459046,0.085229073678536,-0.2772933282416054,0.08195448845191758,0.014117322372126309,0.4186130607538402,-0.28010556652915763,0.261207269392295,0.3445978895598126,-0.015611566560397402,0.023899739095015415,-0.051523731265628654,-0.30382770747903326,0.08801588925466512,0.16212571410637036,0.15502978140994314,0.21517352074548243,-0.12255539546793331,-0.10328669046093952,0.20885940217595217,0.13012427046238476,-0.1667083982307319,-0.1407445785352786,0.08454171117405171,-0.2359656825132177,-0.2194628573974739,0.12926266109189838,-0.09539360966940429,-0.16825455306004478,0.1665752706735904,0.15375210622601698,0.2218024509536376,-0.0808371295389067,0.24607642125483084,-0.20739079037930147,0.027151489135526823,-0.4401992306337694,0.08423765455029987,0.03690863132793247,0.09478779863096026,-0.08147086463920805,0.048856823049625756,0.4502594957044555,0.30462158464744005,-0.16266868198881443,-0.07560487138958799,0.4161378470880227,0.060849937856481615,0.04102680905599995,0.11111455688667113,0.05411065092297855,0.09526844381613139,-0.3386384937370916,0.0858703343177844,0.010266315343143853,-0.00876613033686042,-0.14053230395490995,-0.2426299322314831,-0.20040160667335347,-0.22473976578983315,0.13810466039055552,0.15167004358286165,-0.09027888040003659,-0.1703550350760441,0.19891622206934884,0.30165299249559735,0.04686329402114185,-0.1095320585408188,0.12439705298411757,0.27093641668494656,-0.060018493303477825,-0.1142667881787317,0.28479345162701275,0.15766283408919396,0.15850686320373747,0.029633868495924972,0.3321739013531881,-0.014100078066622765,0.2962702961443381,0.06621674415053656,0.25770578923024157,-0.20616426680954913,-0.06644347503488254,0.11520150746506609,-0.228732979040938,-0.010459974932008086,-0.23333554828363479,-0.267096801778226,0.19730156924461187,-0.041903633467641525,0.24915337598247933,-0.18310520969645488,-0.24164908945308664,0.1143999908726,-0.08129743225465307,0.00782855666435347,0.06137285239337134,0.015251521039016964,0.15537363510475247,0.14534522930299143,0.07348516391927355,0.1696542756584261,-0.09268050775987527,-0.06837317538283912,0.007249615776213291,0.4534853826506837,-0.32786437314037853,-0.31051485818646923,-0.2382395740619278,-0.27835499299876837,0.2168985359854803,0.013309974477211061,0.27890790593111026,-0.28958749031797865,-0.13914882541204238,-0.24983158861961585,-0.057545450991818396,0.05227453948872489,-0.0157074695562957,-0.404628879745642,0.11181128945422794,-0.1901629238700042,-0.21493915048036014,-0.10772176270681984,-0.27324123190912014,-0.3564072776865604,0.11157656938030931,0.5081499217397093,-0.011295240630851952,0.11077319346288805,0.05265511646033533,0.11546521612006226,0.06879164632794917,0.28384758886618,0.02192524529141163,-0.06985041609439976,0.34682568984349355,-0.14491479514322309,0.3823096276632988,-0.16697544532205977,0.033275489823189494,0.37676306555424105,0.09535401472999838,-0.10400770104288809,-0.08230295731489387,-0.05947795993539276,-0.035012021603356994,-0.19770240984610035,-0.3616522479160189,0.2971161740104898,0.09314260689889603,-0.20742099151224508,-0.388168313534938,-0.09975510115021358,0.01885677567387694,0.22541846841701643,0.10187710533640934,-0.13952931834563928,-0.051449783204085775,-0.03967497474470357,0.020812925441491787,-0.11027997747516957,0.2607240277110518,-0.32365153310502054,-0.034094429534309564,-0.13969068248007593,-0.09816552045071628,0.0890083700304535,0.09530069459690196,-0.010493311652604073,0.1784239834875564,0.009955902782629963,-0.0660672971344081,0.05689440078705087,-0.09620583902387084,0.21188374513486755,0.20777805882791578,0.09032661122750299,0.24833500946302164,0.3579604310351323,0.1025846700669225,0.03769016023405519,-0.09625490878001851,-0.34595101357205943,0.11734291703429137,-0.24400644931456839,-0.4137223059388205,-0.43151627366310596,-0.20206778613446014,-0.030556514631492,-0.13526329678633536,-0.058260057601040666,-0.16225772076810363,0.3577718806973047,-0.0832008600454316,0.27456707051081747,-0.08557555400987758,-0.0858233573936788,-0.36468435376239305,0.037632473951593255,0.019076396583106458,0.1988244344711495,-0.30209055933825285,-0.1487292874564901,-0.0705015391826325,0.008344260887672796,0.26462609634326206,0.2960148499111968,-0.093813315938988,-0.0813409175161275,0.14279084688814264,-0.07559608167937872,-0.1323549513830877,0.43523088910703733,0.46183654006097924,-0.043441995632585495,0.06537434648363871,0.21249743283955175,-0.42051505932725974,-0.01380415023043656,-0.16241651845481223,0.5014081031366562,0.27687951895640805,-0.424939258470883,0.12631384991788275,-0.05170553869805539,0.3228686708771793,-0.05200270182612895,-0.3540686018195022,-0.1273725066075753,-0.09309702437503174,-0.36215400259034003,0.1224185780098618,0.06889381863882124,0.1557294356936124,0.25986482639530417,0.1189861538538702,-0.011554312877841772,0.2643179911767784,-0.13763055841495986,-0.001232584637885687,-0.19331808789092086,-0.1079358088372007,-0.12130313793154535,0.016520778067129583,0.06609636259917642,-0.3202408388329314,0.07929106459587337,0.12498593676807007,-0.21783853900950065,-0.22041832916998239,0.049372031913515704,0.2913554946319362,0.03883062742477145,0.0672026712481223,0.08522724306991679,-0.042625848778904046,0.24568169141518298,-0.0683310430952155,0.029483862006473745,-0.16818018196221002,0.06243009807933421,-0.13403047465940263,-0.2685419544134413,-0.32755765408142834,0.17147282863585386,0.28925791468168743,-0.11019729389380978,0.0733016785158591,-0.0007445885647977078,0.2387853693037714,0.11879582711574566,0.08118314918263923,0.1257641773863055,0.15892207773567,-0.09719044308044361,0.20599510044278527,-0.08038691372990828,0.12619404342331275,0.3785894869362134,-0.18615467670319275,-0.15273449516959955,-0.18269877424175193,0.14369633276978097,-0.06383346858758313,0.1288173217526121,-0.47050394138108703,0.029019496857309646,0.2093737089183062,0.097278450213049,-0.2956439982963589,-0.02489137401590298,0.047268761406926985,0.06992850132632782,0.2032650049709062,0.22883933550651409,-0.2732229721746497,-0.20830364333416845,-0.10982103596427686,-0.2248957829913739,0.11993626389270406,0.08741427223484086,-0.08987246187120614,0.20252520653840983,0.11139940122739841,0.0881783640478111,-0.19494868996176679,-0.16744702862547858,3.724792588061243e-05,0.059878263125033734,0.39363882923579496,-0.1928958414889044,-0.0773291689150353,0.11149584036784621,0.3194018717314774,0.08334039879757674,0.11552693854887978,-0.052870803773237246,-0.08621848314852024,-0.027135305056359377,-4.4097690035393294e-05,0.04900100104474721,-0.13679380233508096,-0.2022674485904987,-0.12884000043635196,0.12612705419952622,-0.22678668831149446,-0.12547822596674046,-0.14173479732192432,-0.09036501315706753,0.1091785053372192,0.14614906680284523,-0.1587576037620976,-0.04420552044745327,-0.10320046844792322,-0.034454713140658184,-0.2223161739626055,-0.11665362774851681,-0.05736266448795091,0.23247361300239075,0.172186363119294,0.3582649674938266,-0.06317650161433405,-0.1625122209884178,-0.38345048462204756,0.5906125818907586,0.24442411589484625,-0.020654093008134762,0.10352637350510546,0.010322479528539517,-0.08548610196359621,-0.09232239621303562,-0.004522389299545576,0.04208038011321262,0.16453372356794083,-0.29769750786089716,-0.04777413989067669,0.01256546423018325,0.007445747357100098,0.2151346910834693,-0.001282693734702356,0.4039797908390462,0.03629708938909876,0.3323536557289594,-0.014290413263269672,-0.14460136717857144,-0.1495137700895298,-0.03896550075498805,-0.08980853218080637,-0.09981318356490253,0.04211693040213761,0.08452089757560506,0.3393258679881277,0.12158596728238691,0.00011716611564576915,-0.0500422968158474,-0.07345248738120831,0.09859836650283958,0.06918886241353095,0.1345900522962936,0.10997709317868626,0.22362662641951908,0.19498960157318035,0.10999587861205079,0.11480901641295373,0.22629514836989215,0.26692101020235376,0.26769454742842547,0.23878120413800397,0.0455180565651068,-0.21511083414457022,0.04192821495749266,-0.26397435419817533,-0.1218180588961977,0.10094809329435592,0.1372697076872047,0.03049936355948747,-0.1647277365431504,-0.27507984429864274,-0.04557973221414521,0.023617941673891734,-0.2987119858304091,0.2654515764913089,-0.009229109911576244,0.06523404957443457,-0.21371193070980526,-0.2690572754468589,-0.09782084362443519,-0.16770308513893248,0.2821479168694435,-0.19284568921263953,-0.04798036983023977,0.17463432542084134,0.4888227437595894,-0.10890456436451906,-0.1953551628133779,0.20687213732118864,0.344243087059665,0.16232892237828217,-0.2911797355531946,0.06417143395169084,0.08899658542063889,-0.1759697367693533,0.08024597773011331,-0.038430540500024105,-0.17355787471019674,-0.05072653254299288,0.0035226171691774086,-0.028837049661187508,-0.14459527178475715,0.5046537777168978,-0.17464984981604842,0.14875789456339228,0.2742681941281468,0.2001182484275671,0.14167278064317143,-0.4556492531629272,-0.16814560703895345,-0.2367053263720067,-0.15988720763268718,0.06263325364424452,-0.30575034052264843,-0.23084137850743888,-0.028485986713301804,-0.07747476311386953,0.3052583819854197,0.16097059574104267,-0.17235345579209685,0.2713472240011574,0.17982777217677565,0.09224708489461046,-0.08215058511087492,-0.03748863827879379,-0.05557277359921396,-0.019859080000105667,-0.001388469775596989,-0.09714674047456563,-0.40641157540527983,0.03445846541222349,0.2528227444037778,-0.1818354843969905,0.03340587893573173,0.06221633514001765,0.10372546432296244,0.37327668706214034,0.06653253059131636,-0.07915084320066725,0.32931300082822296,0.14815725513537398,-0.001865450505127833,-0.032542528227575945,-0.20310952128527063,-0.29424172301580637,-0.4604069874451366,-0.051511425136128094,0.27946118551363935,-0.13777950190912067,0.11679808741313918,0.6032265857179357,0.0505891657394724,-0.10931394503784696,-0.07945223411138322,-0.16816675706983983,-0.3399796413841825,-0.12022793183207718,0.019983300777411145,0.23648388702971251,-0.21548082065427748,-0.34931197330603925,-0.27339526497187305,-0.18686906386914692,0.003948512366428968,-0.3665882970169198,-0.0002142759761686458,-0.03302807180521156,0.417336776916633,0.2176535560099544,0.008655598718263269,0.08764870882299813,-0.20060447655855582,-0.13762321581464193,-0.26218809180774383,-0.06516780660312063,0.09299706738487917,-0.03687395246577285,-0.004019039321358541,0.07455606151228106,-0.13744500613402852,-0.015548795280987251,0.3109404907511136,-0.08609563615253585,0.06216181310526463,0.13920275790558762,-0.4285027794765906,-0.14769377448900678,0.08947347572980795,0.13460770526835103,0.08712447574427533,0.09128392468479939,0.18652318022238373,0.11032365684419555,-0.03291464688588871,0.2798340070981708,0.05100279088574222,-0.20381929684581865,-0.06176967990288133,-0.18398549441170653,0.2610499326542883,0.161450529246686,0.39431458829663274,0.29901576493644283,-0.12513128162661497,-0.062348577020648555,-0.04145878817935311,0.03768507046339596,0.4022278226957894,-0.32976183650951696,0.030353590467765278,0.24348220408975674,-0.28394928861260776,0.008345933286333318,0.06894166225691137,0.3141739365001467,-0.14771566642913428,0.15402290436478386,0.17588694621349316,0.18467226842054354,0.07543145143470682,0.08190773673568666,-0.3555941677227186,-0.19285189279688653,0.25077882969530246,0.27411219359343353,0.03752232262653467,-0.4151031561288788,0.023217312111469462,0.16665838460944027,0.03307122722506908,-0.009275519438815275,-0.22496540490768976,0.07534800695376204,0.0810852762947618,0.21634732397447493,-0.04164546242205218,-0.11665148347914275,-0.12575079125594338,-0.08383947219709482,-0.17701001854177176,-0.008393376419681332,0.16572082023926762,-0.17610416543503196,-0.09674155217942267,0.016571018682647792,0.20356520035461176,0.16406390168682458,0.08164032551305946,0.09452052301001175,-0.33526841974251104,0.2431740711591834,0.22246166025436181,-0.017075742262477357,0.3896146917574676,0.07971018665573407,0.0062958280627651575,-0.10526533836199053,0.06487478280960875,0.4431586551344715,0.2028668103095844,0.29579063068738554,-0.1685674824076842,-0.019415382649909153,0.03021740935293781,0.1775575487711896,0.06666163776143291,0.04510884538069921,0.13960276702461147,-0.11759913321681977,-0.15010420028624813,-0.17368053744241374],\"x\":[0,1,2,3,4,5,6,7,8,9,10,11,12,13,14,15,16,17,18,19,20,21,22,23,24,25,26,27,28,29,30,31,32,33,34,35,36,37,38,39,40,41,42,43,44,45,46,47,48,49,50,51,52,53,54,55,56,57,58,59,60,61,62,63,64,65,66,67,68,69,70,71,72,73,74,75,76,77,78,79,80,81,82,83,84,85,86,87,88,89,90,91,92,93,94,95,96,97,98,99,100,101,102,103,104,105,106,107,108,109,110,111,112,113,114,115,116,117,118,119,120,121,122,123,124,125,126,127,128,129,130,131,132,133,134,135,136,137,138,139,140,141,142,143,144,145,146,147,148,149,150,151,152,153,154,155,156,157,158,159,160,161,162,163,164,165,166,167,168,169,170,171,172,173,174,175,176,177,178,179,180,181,182,183,184,185,186,187,188,189,190,191,192,193,194,195,196,197,198,199,200,201,202,203,204,205,206,207,208,209,210,211,212,213,214,215,216,217,218,219,220,221,222,223,224,225,226,227,228,229,230,231,232,233,234,235,236,237,238,239,240,241,242,243,244,245,246,247,248,249,250,251,252,253,254,255,256,257,258,259,260,261,262,263,264,265,266,267,268,269,270,271,272,273,274,275,276,277,278,279,280,281,282,283,284,285,286,287,288,289,290,291,292,293,294,295,296,297,298,299,300,301,302,303,304,305,306,307,308,309,310,311,312,313,314,315,316,317,318,319,320,321,322,323,324,325,326,327,328,329,330,331,332,333,334,335,336,337,338,339,340,341,342,343,344,345,346,347,348,349,350,351,352,353,354,355,356,357,358,359,360,361,362,363,364,365,366,367,368,369,370,371,372,373,374,375,376,377,378,379,380,381,382,383,384,385,386,387,388,389,390,391,392,393,394,395,396,397,398,399,400,401,402,403,404,405,406,407,408,409,410,411,412,413,414,415,416,417,418,419,420,421,422,423,424,425,426,427,428,429,430,431,432,433,434,435,436,437,438,439,440,441,442,443,444,445,446,447,448,449,450,451,452,453,454,455,456,457,458,459,460,461,462,463,464,465,466,467,468,469,470,471,472,473,474,475,476,477,478,479,480,481,482,483,484,485,486,487,488,489,490,491,492,493,494,495,496,497,498,499,500,501,502,503,504,505,506,507,508,509,510,511,512,513,514,515,516,517,518,519,520,521,522,523,524,525,526,527,528,529,530,531,532,533,534,535,536,537,538,539,540,541,542,543,544,545,546,547,548,549,550,551,552,553,554,555,556,557,558,559,560,561,562,563,564,565,566,567,568,569,570,571,572,573,574,575,576,577,578,579,580,581,582,583,584,585,586,587,588,589,590,591,592,593,594,595,596,597,598,599,600,601,602,603,604,605,606,607,608,609,610,611,612,613,614,615,616,617,618,619,620,621,622,623,624,625,626,627,628,629,630,631,632,633,634,635,636,637,638,639,640,641,642,643,644,645,646,647,648,649,650,651,652,653,654,655,656,657,658,659,660,661,662,663,664,665,666,667,668,669,670,671,672,673,674,675,676,677,678,679,680,681,682,683,684,685,686,687,688,689,690,691,692,693,694,695,696,697,698,699,700,701,702,703,704,705,706,707,708,709,710,711,712,713,714,715,716,717,718,719,720,721,722,723,724,725,726,727,728,729,730,731,732,733,734,735,736,737,738,739,740,741,742,743,744,745,746,747,748,749,750,751,752,753,754,755,756,757,758,759,760,761,762,763,764,765,766,767,768,769,770,771,772,773,774,775,776,777,778,779,780,781,782,783,784,785,786,787,788,789,790,791,792,793,794,795,796,797,798,799,800,801,802,803,804,805,806,807,808,809,810,811,812,813,814,815,816,817,818,819,820,821,822,823,824,825,826,827,828,829,830,831,832,833,834,835,836,837,838,839,840,841,842,843,844,845,846,847,848,849,850,851,852,853,854,855,856,857,858,859,860,861,862,863,864,865,866,867,868,869,870,871,872,873,874,875,876,877,878,879,880,881,882,883,884,885,886,887,888,889,890,891,892,893,894,895,896,897,898,899,900,901,902,903,904,905,906,907,908,909,910,911,912,913,914,915,916,917,918,919,920,921,922,923,924,925,926,927,928,929,930,931,932,933,934,935,936,937,938,939,940,941,942,943,944,945,946,947,948,949,950,951,952,953,954,955,956,957,958,959,960,961,962,963,964,965,966,967,968,969,970,971,972,973,974,975,976,977,978,979,980,981,982,983,984,985,986,987,988,989,990,991,992,993,994,995,996,997,998,999]},\"selected\":{\"id\":\"4010\"},\"selection_policy\":{\"id\":\"4009\"}},\"id\":\"3964\",\"type\":\"ColumnDataSource\"},{\"attributes\":{},\"id\":\"3972\",\"type\":\"LinearScale\"},{\"attributes\":{\"data_source\":{\"id\":\"3964\"},\"glyph\":{\"id\":\"4015\"},\"hover_glyph\":null,\"muted_glyph\":null,\"nonselection_glyph\":{\"id\":\"4016\"},\"view\":{\"id\":\"4018\"}},\"id\":\"4017\",\"type\":\"GlyphRenderer\"},{\"attributes\":{},\"id\":\"3984\",\"type\":\"PanTool\"},{\"attributes\":{},\"id\":\"3988\",\"type\":\"SaveTool\"},{\"attributes\":{\"active_multi\":null,\"tools\":[{\"id\":\"3963\"},{\"id\":\"3984\"},{\"id\":\"3985\"},{\"id\":\"3986\"},{\"id\":\"3987\"},{\"id\":\"3988\"}]},\"id\":\"3990\",\"type\":\"Toolbar\"},{\"attributes\":{\"line_alpha\":0.1,\"line_color\":\"red\",\"x\":{\"field\":\"x\"},\"y\":{\"field\":\"b\"}},\"id\":\"4016\",\"type\":\"Line\"},{\"attributes\":{\"line_color\":\"red\",\"x\":{\"field\":\"x\"},\"y\":{\"field\":\"b\"}},\"id\":\"4015\",\"type\":\"Line\"},{\"attributes\":{\"line_color\":\"blue\",\"x\":{\"field\":\"x\"},\"y\":{\"field\":\"a\"}},\"id\":\"3998\",\"type\":\"Line\"},{\"attributes\":{\"source\":{\"id\":\"3964\"}},\"id\":\"4018\",\"type\":\"CDSView\"},{\"attributes\":{\"source\":{\"id\":\"3964\"}},\"id\":\"4001\",\"type\":\"CDSView\"},{\"attributes\":{},\"id\":\"4003\",\"type\":\"BasicTickFormatter\"},{\"attributes\":{\"label\":{\"value\":\"Supply chock\"},\"renderers\":[{\"id\":\"4017\"}]},\"id\":\"4029\",\"type\":\"LegendItem\"},{\"attributes\":{\"items\":[{\"id\":\"4013\"},{\"id\":\"4029\"}],\"location\":\"bottom_left\"},\"id\":\"4012\",\"type\":\"Legend\"},{\"attributes\":{},\"id\":\"4004\",\"type\":\"AllLabels\"},{\"attributes\":{},\"id\":\"4007\",\"type\":\"AllLabels\"},{\"attributes\":{},\"id\":\"4006\",\"type\":\"BasicTickFormatter\"},{\"attributes\":{\"callback\":null,\"tooltips\":[[\"T\",\"@x{0.00}\"],[\"Demand chock\",\"@a{0.00}\"],[\"Supply chock\",\"@b{0.00}\"]]},\"id\":\"3963\",\"type\":\"HoverTool\"},{\"attributes\":{\"bottom_units\":\"screen\",\"fill_alpha\":0.5,\"fill_color\":\"lightgrey\",\"left_units\":\"screen\",\"level\":\"overlay\",\"line_alpha\":1.0,\"line_color\":\"black\",\"line_dash\":[4,4],\"line_width\":2,\"right_units\":\"screen\",\"syncable\":false,\"top_units\":\"screen\"},\"id\":\"3989\",\"type\":\"BoxAnnotation\"},{\"attributes\":{},\"id\":\"4009\",\"type\":\"UnionRenderers\"},{\"attributes\":{},\"id\":\"4010\",\"type\":\"Selection\"}],\"root_ids\":[\"3965\"]},\"title\":\"Bokeh Application\",\"version\":\"2.3.2\"}};\n",
       "  var render_items = [{\"docid\":\"9d1b4514-c48b-4163-9629-4d0feeff531e\",\"notebook_comms_target\":\"4206\",\"root_ids\":[\"3965\"],\"roots\":{\"3965\":\"637f0e9a-8034-4ab3-a23d-1eb7f0651749\"}}];\n",
       "  root.Bokeh.embed.embed_items_notebook(docs_json, render_items);\n",
       "\n",
       "  }\n",
       "  if (root.Bokeh !== undefined) {\n",
       "    embed_document(root);\n",
       "  } else {\n",
       "    var attempts = 0;\n",
       "    var timer = setInterval(function(root) {\n",
       "      if (root.Bokeh !== undefined) {\n",
       "        clearInterval(timer);\n",
       "        embed_document(root);\n",
       "      } else {\n",
       "        attempts++;\n",
       "        if (attempts > 100) {\n",
       "          clearInterval(timer);\n",
       "          console.log(\"Bokeh: ERROR: Unable to run BokehJS code because BokehJS library is missing\");\n",
       "        }\n",
       "      }\n",
       "    }, 10, root)\n",
       "  }\n",
       "})(window);"
      ],
      "application/vnd.bokehjs_exec.v0+json": ""
     },
     "metadata": {
      "application/vnd.bokehjs_exec.v0+json": {
       "id": "3965"
      }
     },
     "output_type": "display_data"
    },
    {
     "data": {
      "text/html": [
       "<p><code>&lt;Bokeh Notebook handle for <strong>In[55]</strong>&gt;</code></p>"
      ],
      "text/plain": [
       "<bokeh.io.notebook.CommsHandle at 0x1cc34fd6190>"
      ]
     },
     "execution_count": 55,
     "metadata": {},
     "output_type": "execute_result"
    }
   ],
   "source": [
    "p = Functions.plotting('T',['Demand chock','Supply chock'],range(t),[vs,ss],\n",
    "                       'Chock',legendlocation='bottom_left',width=700,\n",
    "                      title='Our simulated chocks',colors = ['blue','red'],line_width=1)\n",
    "show(p,notebook_handle=True)"
   ]
  },
  {
   "cell_type": "markdown",
   "metadata": {},
   "source": [
    "We can clearly see the higher standard deviation of the demand chocks."
   ]
  },
  {
   "cell_type": "markdown",
   "metadata": {},
   "source": [
    "Now we are ready to simulate the model:"
   ]
  },
  {
   "cell_type": "code",
   "execution_count": 56,
   "metadata": {},
   "outputs": [],
   "source": [
    "def sim_asad(par,t=1000):\n",
    "    '''\n",
    "    Simulates the AS-AD model, with persistence stochastic chocks\n",
    "    \n",
    "    Args:\n",
    "        par (dict)  : Dictionairy of parameter values\n",
    "        t (int)     : Amount of periods simulated\n",
    "    \n",
    "    Returns:\n",
    "        correlations (list): containing:\n",
    "                                    Variance of outputgab\n",
    "                                    Variance of inflationgab\n",
    "                                    Correlations between output and inflation\n",
    "                                    Autocorrelation of output 1 period back\n",
    "                                    Autocorrelation of inflation 1 period back\n",
    "        \n",
    "        ys (list)   : The simulated outputgabs\n",
    "        pis (list)  : The simulated inflation gbs\n",
    "        \n",
    "    \n",
    "    '''\n",
    "    \n",
    "    np.random.seed(1986)\n",
    "    xs = np.random.normal(0,par['sigma_x'],t)\n",
    "    cs = np.random.normal(0,par['sigma_c'],t)\n",
    "    \n",
    "    vs = [demand_persistence(0,xs[0],par)]\n",
    "    ss = [supply_persistence(0,cs[0],par)]\n",
    "    \n",
    "    ys = [y_equilibrium(0,0,vs[0],ss[0],0,par)]\n",
    "    pis = [pi_equilibrium(0,0,vs[0],ss[0],0,par)]\n",
    "\n",
    "    for i in range(1,t):\n",
    "        vs.append(demand_persistence(vs[i-1],xs[i],par))\n",
    "        ss.append(supply_persistence(ss[i-1],cs[i],par))\n",
    "        ys.append(y_equilibrium(ys[i-1],pis[i-1],vs[i],ss[i],ss[i-1],par))\n",
    "        pis.append(pi_equilibrium(ys[i-1],pis[i-1],vs[i],ss[i],ss[i-1],par))\n",
    "    \n",
    "    correlations = [np.var(ys),np.var(pis),np.corrcoef(ys,pis)[0,1],\n",
    "             np.corrcoef(ys[:-1],ys[1:])[0,1],\n",
    "             np.corrcoef(pis[:-1],pis[1:])[0,1]]\n",
    "    return correlations,ys,pis\n",
    "    "
   ]
  },
  {
   "cell_type": "code",
   "execution_count": 57,
   "metadata": {},
   "outputs": [],
   "source": [
    "correlations,ys,pis = sim_asad(par)"
   ]
  },
  {
   "cell_type": "code",
   "execution_count": 58,
   "metadata": {},
   "outputs": [
    {
     "name": "stderr",
     "output_type": "stream",
     "text": [
      "BokehDeprecationWarning: 'legend' keyword is deprecated, use explicit 'legend_label', 'legend_field', or 'legend_group' keywords instead\n",
      "BokehDeprecationWarning: 'legend' keyword is deprecated, use explicit 'legend_label', 'legend_field', or 'legend_group' keywords instead\n"
     ]
    },
    {
     "data": {
      "text/html": [
       "\n",
       "\n",
       "\n",
       "\n",
       "\n",
       "\n",
       "  <div class=\"bk-root\" id=\"8b9a2b0b-65c5-4532-9a1e-26bd33d1f419\" data-root-id=\"4259\"></div>\n"
      ]
     },
     "metadata": {},
     "output_type": "display_data"
    },
    {
     "data": {
      "application/javascript": [
       "(function(root) {\n",
       "  function embed_document(root) {\n",
       "    \n",
       "  var docs_json = {\"8f858d06-61a6-45d2-89d6-9861aef47bff\":{\"defs\":[],\"roots\":{\"references\":[{\"attributes\":{\"below\":[{\"id\":\"4270\"}],\"center\":[{\"id\":\"4273\"},{\"id\":\"4277\"},{\"id\":\"4306\"}],\"height\":450,\"left\":[{\"id\":\"4274\"}],\"renderers\":[{\"id\":\"4294\"},{\"id\":\"4311\"}],\"title\":{\"id\":\"4260\"},\"toolbar\":{\"id\":\"4284\"},\"width\":900,\"x_range\":{\"id\":\"4262\"},\"x_scale\":{\"id\":\"4266\"},\"y_range\":{\"id\":\"4264\"},\"y_scale\":{\"id\":\"4268\"}},\"id\":\"4259\",\"subtype\":\"Figure\",\"type\":\"Plot\"},{\"attributes\":{\"label\":{\"value\":\"Inflation gab\"},\"renderers\":[{\"id\":\"4294\"}]},\"id\":\"4307\",\"type\":\"LegendItem\"},{\"attributes\":{},\"id\":\"4281\",\"type\":\"ResetTool\"},{\"attributes\":{},\"id\":\"4275\",\"type\":\"BasicTicker\"},{\"attributes\":{\"axis_label\":\"Percentage deviation\",\"formatter\":{\"id\":\"4297\"},\"major_label_policy\":{\"id\":\"4298\"},\"ticker\":{\"id\":\"4275\"}},\"id\":\"4274\",\"type\":\"LinearAxis\"},{\"attributes\":{\"data_source\":{\"id\":\"4258\"},\"glyph\":{\"id\":\"4309\"},\"hover_glyph\":null,\"muted_glyph\":null,\"nonselection_glyph\":{\"id\":\"4310\"},\"view\":{\"id\":\"4312\"}},\"id\":\"4311\",\"type\":\"GlyphRenderer\"},{\"attributes\":{},\"id\":\"4271\",\"type\":\"BasicTicker\"},{\"attributes\":{\"line_alpha\":0.1,\"line_color\":\"red\",\"x\":{\"field\":\"x\"},\"y\":{\"field\":\"a\"}},\"id\":\"4293\",\"type\":\"Line\"},{\"attributes\":{\"line_color\":\"red\",\"x\":{\"field\":\"x\"},\"y\":{\"field\":\"a\"}},\"id\":\"4292\",\"type\":\"Line\"},{\"attributes\":{\"callback\":null,\"tooltips\":[[\"T\",\"@x{0.00}\"],[\"Inflation gab\",\"@a{0.00}\"],[\"Output gab\",\"@b{0.00}\"]]},\"id\":\"4257\",\"type\":\"HoverTool\"},{\"attributes\":{\"line_alpha\":0.1,\"line_color\":\"blue\",\"x\":{\"field\":\"x\"},\"y\":{\"field\":\"b\"}},\"id\":\"4310\",\"type\":\"Line\"},{\"attributes\":{},\"id\":\"4279\",\"type\":\"WheelZoomTool\"},{\"attributes\":{},\"id\":\"4264\",\"type\":\"DataRange1d\"},{\"attributes\":{\"axis_label\":\"T\",\"formatter\":{\"id\":\"4300\"},\"major_label_policy\":{\"id\":\"4301\"},\"ticker\":{\"id\":\"4271\"}},\"id\":\"4270\",\"type\":\"LinearAxis\"},{\"attributes\":{\"source\":{\"id\":\"4258\"}},\"id\":\"4295\",\"type\":\"CDSView\"},{\"attributes\":{\"line_color\":\"blue\",\"x\":{\"field\":\"x\"},\"y\":{\"field\":\"b\"}},\"id\":\"4309\",\"type\":\"Line\"},{\"attributes\":{\"source\":{\"id\":\"4258\"}},\"id\":\"4312\",\"type\":\"CDSView\"},{\"attributes\":{\"overlay\":{\"id\":\"4283\"}},\"id\":\"4280\",\"type\":\"BoxZoomTool\"},{\"attributes\":{\"items\":[{\"id\":\"4307\"},{\"id\":\"4323\"}],\"location\":\"bottom_left\"},\"id\":\"4306\",\"type\":\"Legend\"},{\"attributes\":{\"label\":{\"value\":\"Output gab\"},\"renderers\":[{\"id\":\"4311\"}]},\"id\":\"4323\",\"type\":\"LegendItem\"},{\"attributes\":{\"data_source\":{\"id\":\"4258\"},\"glyph\":{\"id\":\"4292\"},\"hover_glyph\":null,\"muted_glyph\":null,\"nonselection_glyph\":{\"id\":\"4293\"},\"view\":{\"id\":\"4295\"}},\"id\":\"4294\",\"type\":\"GlyphRenderer\"},{\"attributes\":{},\"id\":\"4297\",\"type\":\"BasicTickFormatter\"},{\"attributes\":{},\"id\":\"4262\",\"type\":\"DataRange1d\"},{\"attributes\":{\"bottom_units\":\"screen\",\"fill_alpha\":0.5,\"fill_color\":\"lightgrey\",\"left_units\":\"screen\",\"level\":\"overlay\",\"line_alpha\":1.0,\"line_color\":\"black\",\"line_dash\":[4,4],\"line_width\":2,\"right_units\":\"screen\",\"syncable\":false,\"top_units\":\"screen\"},\"id\":\"4283\",\"type\":\"BoxAnnotation\"},{\"attributes\":{\"text\":\"Simulation of AS-AD-model\"},\"id\":\"4260\",\"type\":\"Title\"},{\"attributes\":{},\"id\":\"4298\",\"type\":\"AllLabels\"},{\"attributes\":{},\"id\":\"4303\",\"type\":\"UnionRenderers\"},{\"attributes\":{},\"id\":\"4304\",\"type\":\"Selection\"},{\"attributes\":{\"axis\":{\"id\":\"4270\"},\"ticker\":null},\"id\":\"4273\",\"type\":\"Grid\"},{\"attributes\":{\"data\":{\"a\":[-0.2757320054155454,-0.12448279464719324,-0.03320065247635355,-0.26038515731611256,-0.14191912696852785,-0.06099686098341906,0.45638656518494053,0.7670503748496489,0.705342550759432,0.614275650113539,0.5469169581505299,0.5202292432229728,0.47521754098697827,0.08624484789245175,0.03589644294110931,-0.00974645653066024,-0.3318064087813319,-0.18058660604516116,-0.2351941249417247,-0.1820118739883356,0.20451552077962418,0.4802897809513788,0.8149832057251685,0.9179710233220914,0.5617178430739026,0.4253013413114331,-0.008727774072071644,-0.17265941724862371,-0.4940106573016789,-0.2522017758263163,0.0505874842054789,0.29890606475969356,0.4136975545839729,0.47901540712736657,0.27449668767800867,-0.12962588521169266,-0.09881569795543443,0.05572575452778957,0.13648620224138536,0.37717353141142823,0.2160185735872697,0.22906409659476223,0.07826892521020415,0.3367885384215928,0.2936118368410966,0.17486435356780805,-0.27169643097928164,-0.7410156745565244,-0.9004521729754724,-1.339785660230166,-1.417405405417214,-1.433176367261964,-1.2805764120571248,-1.218826678777105,-1.2199439357984159,-1.8349776169350906,-2.218938697883836,-2.10595377424696,-2.0198910183040044,-2.074370189436526,-2.0076237638888967,-2.1219833734487916,-1.9219445732700746,-1.6286407211454166,-1.7496676967439495,-1.9272563609443567,-1.9525025893504433,-1.9280735885253075,-1.7122479401955926,-1.4322415038295535,-1.2672225161231916,-1.209957430309947,-1.203953280358828,-1.4910581400097394,-1.544180217173003,-1.5268457782206692,-1.4939990889021375,-1.9485132111224481,-1.8937421244483021,-2.2089822233168754,-2.45449607290203,-2.5596612930872493,-2.6421695400643244,-2.3768694875404344,-2.3773472605875767,-2.3262972592075433,-2.2971747691933917,-2.1854165934288177,-2.41179816927296,-2.1993153856851273,-2.123953523383457,-1.7216173157281942,-1.515486931063621,-1.4104333257645343,-1.2160966372199526,-1.1200197787664736,-1.3090486342115581,-1.3220042280813369,-1.2387625601778793,-1.0271273012922235,-1.0151313031054958,-1.1010522946942958,-0.7454514769888319,-1.0091832459554133,-0.9556248497280942,-0.9734139816528841,-1.0149470246418577,-1.2285296811801911,-1.1976646672716373,-1.4389165910974444,-1.5866022458695128,-1.4982303386039417,-1.1855362902133133,-1.2185062290177424,-1.058680844079535,-0.9395309112599355,-0.9519717264762741,-0.6679660895867666,-0.24139355302219112,0.2525166568016164,0.3620671226375517,0.2691431985020386,0.5192126697373557,1.0595729607353463,1.2466362750814535,1.272104441397806,1.097109180639057,1.1001702703929528,0.9788077959179738,1.4897178977024632,1.3368383576038692,1.274298061604267,1.129152646001526,0.9528288124700369,0.9265840677729915,0.8410746875594418,0.7978477485428376,0.7799736068489768,0.6659431639970199,0.7833897301562844,0.9670789792552593,0.9763873873006053,0.6977616024711533,0.7503187911612414,0.8180617747095372,0.402895806379666,-0.05734494052193356,-0.32164731349233877,-0.7949586667237365,-0.8332083128316182,-0.9774553926351448,-1.0501571095301478,-0.8674507428037934,-0.642450869829798,-0.40239010045877904,-0.2258383165494218,-0.11176708369971326,0.060127472681265184,0.4074710310223241,0.5267944169208199,0.64245564414551,0.4450417662625884,0.8316432161885869,0.7025117011346359,0.7636856463775566,0.6562767091800211,0.7070896293531531,0.2503473761781237,0.19674911768153747,0.033496641921829655,-0.3701779428309536,-0.6474181430024065,-0.8380717803391994,-0.9543792378990281,-1.1372489313287426,-1.291561215035082,-0.9805705337565479,-0.7262811605508833,-0.48374387361590415,-0.2942641266072242,-0.2586346799234388,-0.13851299240578757,-0.13468446224596092,-0.36487800627422623,-0.17106558782343606,-0.37608981038116424,-0.5513512093223254,-0.38210820588499883,-0.3895003948167105,-0.5176766920647223,-0.7670419318725715,-0.7061733113799834,-0.7289495821888071,-0.5313199694691457,-0.35473622883399575,-0.3200638506218494,-0.0021464802832728246,-0.044831820200723516,0.06263613909625329,0.03633844297031938,0.24990039805537415,0.13698220544118161,0.07181399742463572,-0.00696933231287671,-0.20453280595355988,-0.05512588546041325,-0.29760845820972837,-0.25385858371825515,-0.09709034858514007,0.06096770812109236,0.24371931248589793,0.24402082174925058,0.5530304426012184,0.4524003853740438,0.002974888337762253,-0.006087369724579827,-0.06867359774566263,-0.19805184362307582,0.041849862098036684,-0.17286905042641554,-0.41381012252231664,-0.15172481560672121,-0.016866291005402857,-0.15291506589869164,-0.1915006659690983,-0.7110848438901345,-0.45002102077458533,-0.14662405659809571,0.043241071733917606,-0.08487768979626358,-0.1606170806336612,-0.2541340112669704,-0.12857967154724842,-0.09921097356641048,-0.15110264859446537,-0.3399191502448894,-0.014532335153007319,0.418863135962005,0.3923651887274747,0.5464255533597107,0.59930240080247,0.5434199047637926,0.6909137144484325,0.389515253682035,0.3879232031585907,0.05531704213516647,0.005994523074042207,-0.06011778282337437,-0.05225339512143812,0.11117309931228579,0.0782394250921543,-0.13334016606071303,-0.2857149394227332,-0.29255329613606434,-0.3094453923976654,-0.5205709191334303,-1.0204312257350694,-1.0528566053436148,-1.192143640925821,-1.5624611814135094,-1.6612113614332717,-1.5341863615446882,-1.537635578365419,-1.5707024236744336,-1.6408668322784206,-1.3902110061205575,-1.1074527446988451,-1.160958582619291,-0.8664077503153547,-0.8057328759405891,-0.547084205091086,-0.4963576297049634,-0.29137746495256195,0.17905642282269127,0.24067616447155912,0.20156982689773928,0.4274761091261825,0.7586815466924602,1.1990573466764602,1.3827820611182893,1.1772240753076872,1.562138432281896,1.4830595264576023,1.5641795495205044,1.6927181798269544,1.759889040502389,1.7755823448184547,1.5879610399907895,1.6813190266006441,1.60064330575743,1.3635191116888363,1.5226295010959754,1.4423202589296795,1.1746598615155037,1.0255151350034033,1.3917368933482501,1.412213839065735,1.3295057416372251,1.5387403386366951,1.9218385517711523,2.3080958410890733,1.9359159909514188,2.1787786405429803,2.3118178439183823,2.415763429842374,2.4456451430863746,2.22753517533235,2.1730550677454477,2.5076761523301165,2.467265360730081,2.408207126397079,2.1425659505308254,1.7751680607032356,1.49002265324367,1.601354728394409,1.4341237085314287,1.1822599897492718,1.196231985907844,1.1206049912461675,1.3063295885451038,1.187433456217174,1.0719450668386707,0.8346186569329854,0.9359127190343415,0.5296559351978436,0.4634746136446742,0.3640127468972488,0.3502766458152208,0.20001501126552823,0.18865596192706743,0.4990680755076292,0.680407950538452,0.849572894541734,0.6887464186985572,0.5149460413919867,0.4971551131069172,0.48828529488153005,0.3741867918953244,0.17001381577833738,0.3049724341622246,-0.24878346150165984,-0.4871520319197037,-0.6044648527387436,-0.572422644244433,-0.33370646316820496,-0.7677218626635246,-0.9386885218165929,-0.5261504566128243,-0.17581302208311228,-0.033585197032322336,-0.08957527771581288,-0.2915298212643242,0.19223468201380817,0.1757056024881886,0.5346006848716256,0.478877054810018,0.5551501094961891,0.288026243792672,0.2877504903013218,0.2339888258835962,0.33176944468259967,0.8363896031762453,1.2489452850356975,1.2110060451080202,1.0189343806565625,1.0145571010556111,1.1311206124084563,1.4157903695663616,1.2488354238045525,1.2191149942023631,1.2853743362997752,1.4570019373924266,1.8316956331592995,2.371981709888843,2.341966388510442,2.7357021333554057,3.0540582410520214,3.0934976952167172,2.528349367646198,2.5322966968732774,2.342100527130561,2.7549063056935306,2.797629759378683,2.917790558395707,3.342948084532645,3.1352014660436827,3.460808663483213,3.5042620650566167,3.4348051732856533,3.2726690577574735,3.234985546713839,3.059113673756118,2.5195194170613355,2.141841471555537,2.2888015503990666,2.5147890503215615,2.4714254321250104,2.4224331672736956,2.680919366986979,3.01161608708755,3.2075161498467115,3.5139728011488045,3.613684189534398,3.1932833876028752,3.1763362633490924,3.1702616679391307,3.540070030206304,3.2119592790680396,3.4020975113996195,3.604213069730427,3.4552806182833615,3.326550329721787,3.1383657338516957,2.644307878498274,2.622789662301503,2.67927385057644,2.7622670644592877,2.9136739304844124,2.6816232218552685,2.369377888172088,2.4855374533017125,2.45680815804258,2.120816611798832,1.8212739131324989,1.773567983856075,1.4303627242250248,1.1343535364928503,1.1940951541181795,1.0549550764678683,0.837693119546981,0.9136824828719926,0.9598014326184405,1.040326964883838,0.7682671861866972,0.9364831040033585,0.6390242913081231,0.594221929720685,0.08902811631660809,0.16915037695656907,0.1204322601740214,0.1641272764418064,0.12047655619165965,0.1522330282318789,0.5566549182932798,0.7718048812198794,0.6980584286367935,0.7053133409253075,1.1715080387381023,1.1840473469947084,1.3189411443553507,1.6082171773784535,1.7194320753508234,1.852694621929906,1.5036615901378805,1.6350883295796153,1.7205474345477927,1.694916631962424,1.4848538243628706,1.2636074528490713,1.0967315570807519,0.841641182337479,0.9331559150137126,1.0170028087032854,0.8568314516951296,0.637646499648726,0.7623138789304574,0.9210012995741023,0.8910433174377114,0.6735783965057539,0.7321084086311683,0.974805807960077,0.9910912221037895,0.8892869896471489,1.1927216842814223,1.3922159365762472,1.6271120344196037,1.6861072261416212,1.9778371036055464,1.8404606902039653,1.9525437842738933,1.8728001243311367,2.04978496681457,1.7677518992195633,1.6750953459140832,1.736155089980202,1.4857063460664235,1.413732223644568,1.0751208561179673,0.6996628236419078,0.7836448588218787,0.6634795767393843,0.8634788395815852,0.43980736688499905,-0.1636803471953466,-0.36065971014956855,-0.6764304246780979,-0.8630172791180495,-1.0385763756711788,-1.260949791345075,-1.3134579420469126,-1.3068647769454462,-1.3054636791866514,-1.223571817682719,-1.3173012520445675,-1.4158962117973821,-1.2974885893553576,-0.7976055080653445,-0.9867597705675514,-1.220242971570271,-1.3077763875836077,-1.4198534179282325,-1.127317889886105,-1.053452998033568,-0.788501175416992,-1.1269203962040149,-1.199956182285395,-1.2699907805518063,-1.1397796932538033,-0.9784437906654448,-0.8390396063709479,-1.1364496150422527,-0.8847794313473356,-1.0305179890236171,-1.2276994856747727,-1.273869146553679,-1.4664894387647762,-1.627598062887759,-1.3689197484487983,-0.6782872027825578,-0.5350301208952757,-0.38464114897459883,-0.2835777211296523,-0.251214195279302,-0.35785592626992346,-0.1303663056203244,-0.19512947083431811,-0.27054789854477224,0.017385552340247957,-0.12130056014344351,0.1430932994214377,-0.14202836080524983,-0.20996404971123933,0.075336517442902,0.13957847389735914,-0.15021599013888157,-0.33054897202074035,-0.4712646558867641,-0.6588149833798975,-0.9234173180374166,-1.405073825917087,-1.1933602052298056,-1.1552304397530957,-1.2679025904919465,-1.5961454198309022,-1.6144859769770137,-1.5178628433277743,-1.311703633984469,-1.244683784329794,-1.4709063540562366,-1.6563502814800868,-1.726858522327101,-1.6693192131782115,-1.7866070737893247,-1.4229874940640614,-1.7008562938874452,-1.7205041826121734,-1.957213918827077,-2.089532188283751,-2.044514183183747,-2.061369286619651,-2.1075450437952075,-2.007135134580982,-2.057100929159244,-2.2091116166159055,-2.221563518392946,-2.32988907286439,-2.260990769369213,-2.212652868870844,-2.2496917266738015,-2.0930757676518055,-1.7351473151209118,-1.59221128218685,-1.470470151016615,-1.4373689844324704,-1.6206666247338466,-1.422036890013331,-1.4969425013918798,-1.7675114028678987,-2.0023757536617777,-2.090190411967038,-1.921863254294626,-1.8453707225018279,-1.7354191515787412,-1.6798764814891234,-1.2794551302144503,-1.3070153272980694,-0.9706461122427366,-1.0911278152277442,-1.0866566563567315,-1.3691394745682743,-1.3387136102792665,-1.3806489928310066,-1.2134881322301587,-1.593293231576963,-1.914224617121272,-2.090128852878362,-2.0550673054228397,-1.813129809342284,-1.5038508974734883,-1.6171424236115615,-1.6627669074498508,-1.4278671768115083,-1.3475070533195443,-1.35523686299433,-0.7761808946776495,-0.2906584609713417,-0.3063770038999161,-0.19063732376140738,0.0255453595106565,-0.4118179749330672,-0.465501774057561,-0.6334030261398376,-0.16850859504682722,0.12676797594708797,-0.21046936120229975,-0.028089202049162376,-0.06443313785747976,0.24412284302451004,0.12836986923702828,-0.25806661028974454,-0.2635437088128589,-0.2784497021693064,-0.5376684192336186,-0.3212186743444974,-0.1868968891154218,-0.03824238791157379,0.22249216814873998,0.28731438151630284,0.16213395657231883,0.2484101628386642,-0.07360614373539141,-0.1922270027813017,-0.4941210862368944,-0.6659379123640423,-0.8194697173947911,-0.8433719902757078,-0.8218656164907098,-1.2108657491757135,-1.1914970159174296,-1.007307652780619,-1.142803853486903,-1.3423334148655637,-1.326094452882955,-1.0506820988291667,-1.0866630267834123,-1.1565028883445574,-1.098171936849614,-1.1696988081025121,-1.007114263363358,-1.1853133596182102,-1.2219925230366808,-1.4463215291561697,-1.3324032366710976,-1.4071049553361725,-1.62545060947195,-1.7657145760503148,-1.568091727781944,-1.3023665187776976,-1.3759422447007321,-1.2502022463906448,-1.1595051146890702,-0.9017148858460976,-0.7911232527629436,-0.708083675775978,-0.498248699860653,-0.3086677966770313,-0.3805456410588708,-0.15420094428659575,-0.19430384426787356,0.026991577706943007,0.5340764722707981,0.42734962327432385,0.41847203972447616,0.36171425506157495,0.6975683608923714,0.7814333303618985,0.9592484469093354,0.4427761646715671,0.37479502548841914,0.4162852594537139,0.3323914918989416,0.04873907302683914,-0.05539851532132145,-0.04234192945192242,-0.06531961116222186,0.00761389564511118,0.09705746076499844,-0.31909403352391424,-0.54966732594727,-0.6763770152626082,-0.8188345018809247,-0.5641305697582526,-0.3979738655184202,-0.39281051598169614,-0.10633785136725345,0.011758631452306715,0.09575882722943647,-0.029343259782721585,-0.09960267758724824,-0.11818685643736997,-0.19797416571742896,0.09235768562328002,-0.1928823304298786,-0.2761721350589925,-0.2534340028139912,-0.045923044476000666,-0.12128761178192414,-0.17471623314760712,-0.23651844213181744,-0.2218666619179689,-0.16012524564929204,-0.012615695417852485,0.24522802330962684,0.3813903320570558,0.27570135727499007,0.15640967437697834,0.26652309978999034,-0.026825416300475267,-0.2608736119220377,-0.42816647603528446,-0.5224548337023049,-0.41128748663856035,-0.3118409434184253,-0.5402822305886368,-0.696831037270048,-0.8650337320344162,-0.9456106649600995,-1.146715858804916,-1.2212638527302524,-1.1974925790241064,-0.90160812967959,-0.7098195623939715,-0.4105042306918199,-0.48050404942788405,-0.5409761187682,-0.7150095068793814,-0.06979865891480817,0.35355531018806746,0.495205191583843,0.7816622894264689,0.8948577462978183,0.89776191793236,0.8583400477435403,0.9129718860410406,0.9919127608024518,1.2348808239476667,0.9921017338528257,1.0683262912955165,1.0768182651507912,1.1002690385320366,1.2672663975470673,1.1969175819572155,1.4926215699028915,1.3133652495237786,1.4164566339934452,1.2523189188883008,0.9475656447618016,0.7294901462981984,0.5832236991906873,0.4179347412888319,0.3521750284734654,0.4346902284797949,0.49923982649868043,0.7796666135728998,0.8558319028216981,0.8695715135078704,0.8585971087985969,0.8218657496930863,0.9459634261654395,1.0517473186964374,1.2823847821646945,1.5154175684746858,1.7688453169847236,1.9309827850182222,1.9810928582121237,2.1198247078298205,2.3022168700274634,2.5205012584488133,2.7135787330403,2.9415539628244294,3.069177533208432,2.7932775034357276,2.8556852682572558,2.5455087522659423,2.3383616395531557,2.3409468355682854,2.4746981584141072,2.3996675286553026,2.10766621144139,1.779623594343747,1.740269112431559,1.7385068294348958,1.4068806881538245,1.5456214511687862,1.5466836039008751,1.6034809997092416,1.2454423483885866,0.9167886254063506,0.9106964316526637,0.8315320288497586,1.2442988650755717,1.1052238753439845,1.073998293273891,1.2476443144820277,1.7294230882442088,1.6429703116692858,1.5611764588811652,1.9609591358807874,2.3783506838039794,2.5565678087694894,2.171434568542435,2.1732757837870946,2.153488393360763,1.824073082551141,1.812861130348938,1.6710069950616644,1.284146917724798,1.1068571138538632,0.9152624547936545,0.8311825017044978,0.545201341136666,0.7983714246870306,0.27929689008202935,0.1958769304512854,0.3506974290859185,0.49118976123294134,0.39781162859151786,-0.2818499779503747,-0.6941269615842737,-1.1086207705494588,-1.4143137658018219,-1.4934870801864017,-1.8578291188666616,-2.1299682421469193,-2.1811397735359774,-2.334608374617868,-2.0953141291833153,-1.9071103256273367,-1.98455676872636,-1.7820592518960243,-1.7142013007324808,-1.7849100935178868,-2.0405308558958484,-2.1473999504127272,-2.202309582649167,-2.158329466830845,-2.120991065991823,-2.1918212700353523,-2.567314059363964,-2.4586776611135894,-2.2017656045183793,-2.3424355624679483,-2.3891998657393954,-2.4139459434775143,-2.303064610464232,-1.8185518122123272,-1.6873397094388016,-1.5668837752289049,-1.0188056710771054,-0.6454018585677157,-0.48995900675169585,-0.4179957365975495,-0.56299072046943,-0.7329710394965465,-1.1693965729122557,-1.3050253007426182,-1.0927339484097467,-1.191193529701978,-0.9917829531587455,-0.2903005091399771,-0.1848527003127222,-0.26722422649065464,-0.26794232000999235,-0.4761999271653705,-0.9124542498907796,-1.2216592500624859,-1.3731296391761,-1.295134664640735,-1.6508802577656174,-2.136577523328194,-2.4809499105717885,-2.5740839831954947,-2.4109795495732658,-2.6556561866985713,-2.5540624286868967,-2.4863283851811895,-2.046599071012272,-1.887728220256213,-1.8498244661912686,-1.7895367243108289,-2.043780447100227,-2.119221260632503,-2.315142268917129,-2.319567687532607,-2.2117940906780476,-2.2476337401473825,-2.245357124071787,-2.0896954198061386,-2.094531539716537,-1.9676610296831039,-1.5320100208193959,-1.5538472506790546,-1.454359191190777,-1.2729621823178794,-1.5901584626606244,-1.7037057765440562,-1.5918563003053559,-1.4990542094909216,-1.495695695336202,-1.3890020495104403,-1.2855415012820932,-1.137468928346651,-1.1498792710242685,-0.8874359019918497,-0.6891510464793974,-0.7245446846395824,-0.5845384679353914,-0.6668824459391155,-0.27831367555651443,-0.01138532247278088,0.4114333362077879,0.7401598068379446,0.6681315221699119,0.570435253822168,0.41568396879191744,0.3067480965342664,0.5687216265193107,0.09081244731306341,0.08342215786584545,0.28620513583708257,0.0075834243933021695,0.05739817841002911,0.10344246230274654,0.36345671391842443,0.13906801754216036,0.21784183574660743,0.24610317810058416,0.2718333704059964,0.3011254319463441,0.34595793539879693,-0.06719883527130414,-0.3300324516927583,-0.15201335926465817,-0.07921140601008347,-0.20034804412454266,-0.713204716985612,-0.728180224167723,-0.6247829074572682,-0.5596977478784995,-0.4423556075626435,-0.5716082592200328,-0.5532764928728722,-0.5541681524545624,-0.41586155725164275,-0.45036156368810754,-0.4582097094782982,-0.40914677746633693,-0.25314159489202803,-0.26516400085600467,-0.13680438425324945,0.06527063440769942,-0.004688678955624971,0.05210798148360788,0.2746147293570958,0.38008568113705254,0.4360009604360161,0.40581143775171774,0.3652283321269328,-0.09493962856519607,0.16484058861160342,0.34320799483916825,0.28976311557853884,0.6338380082234576,0.7355153637616992,0.7196568377358283,0.5467717699980128,0.687016660786831,1.1132795783422782,1.3283575816315765,1.5786885184526493,1.4661574902283612,1.4036650334418603,1.3353170636959792,1.5063582248756227,1.4703640073186817,1.444560534942215,1.5639119060353384,1.2846308102864394,0.8970620662431729,0.5852963951324079],\"b\":[-0.4946140760196853,-0.3530731448033518,0.43212951165456087,0.727727093479922,2.1803832681864623,2.070257203761251,2.698527290311038,0.7963828928999223,1.5726632622797465,2.09343216399787,2.5068170389782494,2.4854031840861692,2.812506730351435,1.739728510136448,0.890387658213036,-0.8890928576294971,-2.3534308455322037,-0.4680927401838837,0.5278458007728002,0.582960863161895,0.07346722993528872,-1.5973869003380934,-1.987827000608071,-1.1598154521004453,-1.7794518987897983,-1.5003641925427202,-1.2750412141556413,0.8996764342060655,0.35211355565737534,0.2013965115825368,0.19813816095349365,1.0430634178759344,0.3230354351907939,0.15799048055763018,0.5854961823464306,-0.06945331195997481,0.3987472679741902,1.0147378413764727,0.9960022142213264,1.1985403288799943,-0.611716118998954,0.43149896157858697,0.14081480127594745,-0.32740090638862784,-0.9465226116531635,-0.7645369222117328,-2.2784957383741555,-0.606276994752964,-0.9432155362186728,-1.4266504523653434,-1.0265394854897194,-1.8257078983926807,-1.9119435762139736,-3.3171167317341013,-2.7058557047914764,-1.4788209426722863,-1.9574047335176552,-1.36155514116249,-0.7675367169317268,-0.1905935008577366,0.2676256917821516,1.280471380015597,1.5108248702837517,0.6619028282251783,2.041482016139007,0.6575472078239674,0.3010877303372342,0.11213937902871027,0.17406036053111695,-0.5472730241565137,0.3802727275511947,0.6500613975177639,0.5503707785407234,-0.23954180843553305,0.051325154803491375,-0.970784131178386,-0.33407467109991756,-1.2906588209296703,0.13066300330094713,0.22983112669340547,-0.2691056595936445,0.681895227730343,1.0700569724158928,1.9093252073737565,1.4217628209605262,1.7888911721104297,2.494068495244306,1.8833301650599985,1.6641482134261225,1.9517299814258584,3.5153409014590693,2.2983763399265205,2.1907081195419273,0.8319614871335026,-0.5668069021498053,-1.1162432949597116,-0.3743285656563783,-0.06920357773009743,1.3030919805475727,0.1842559742514342,0.886747875756223,1.5730860932197872,0.6485344896374493,-2.2748410800380623,-1.9239855353258413,-1.1377567528020227,-1.6716950371604204,-1.2886962919105591,-1.7127801579178967,-2.4203051445028803,-1.2033737891105953,0.937272779257485,2.6930237356415714,3.1583474689450948,3.4275319502339228,2.286126072813332,1.5592095679932072,1.6867908282857116,2.6003324786856,1.6143820936265176,0.8856030093648795,1.8115117472786209,0.5489043044712502,-0.2486816514049623,-0.43633299267951065,-1.336348223177561,-1.2350849781633901,-1.0560024056720108,-0.12959057694151846,0.07553661987988936,-1.3839467763262723,1.1807914721122834,-0.4898722277466217,-1.7175407424161357,-0.9981657912319057,-1.884768953219675,-0.23026043900546234,-1.0471159743545377,-1.4660085463126982,0.18039658207509254,0.2876491481236696,-0.22648946239177437,-1.9942421491516409,-0.5285177966673155,-0.15747068606873282,0.0005435604449282433,-1.6524062996555482,-3.1387095414347135,-1.501073368353838,-1.420828762664318,-1.2871171817953264,-0.5109629423596721,-0.32304760772253355,-0.0613702552270592,0.5684387534688816,1.3697255510915978,1.7680034214796387,2.0753034950862106,1.6611614881772683,1.5727540106259532,1.074688814356807,-0.4905704526565818,0.6420510884044273,1.1858587638099356,0.5121775749594826,-0.7979408542594872,-0.8805990355884219,-1.5388267469507793,-2.0235186390383912,-1.6623560653435359,-0.9284291619448173,-0.4183965826355071,-1.6857764461360534,-1.503273475424053,-1.1331709575034428,1.5884469810195196,2.666491717953982,2.7396099902391673,2.3956661347330215,2.6486752276950116,3.557682666868585,2.8948887535245076,1.9520687066234235,1.410946091560673,2.2118837172087447,1.954792868073318,1.4412544056862016,2.072766949262147,0.745833722876993,0.7310301656334786,0.6120635809732766,0.224797435668219,0.4064996221455828,-0.10625748789680109,1.1612629224203084,0.833518542700734,1.3196929885980755,0.28176334261715563,0.9581388656138533,1.0481869972508204,-0.08733136597573242,-0.15119895881512332,-2.847820737306252,-1.7782427285366507,-0.7083999896819091,0.576010969242569,1.1261410008055932,0.1020208493853404,1.6257892713760704,2.2812806963899948,3.3800393092432026,1.8699160307380023,2.2004949210052533,1.2665344788885273,0.7653585679344453,1.2881955586573581,2.905314805240628,1.3996404600205137,0.5873889761926296,1.064496548275481,1.7994516172168218,2.3269091470591463,-0.08459153285251353,0.11753350828068727,-0.3558615670695443,1.0117238945112226,1.5970447961053669,-0.4479463728464305,-1.42017511511961,-0.7065512008247985,-0.25541064224662197,-0.5061850607784443,0.4675505342205085,0.5906793251174489,0.9295262540702621,0.17159026298117497,0.13732530166360743,0.7484102413688701,1.7951464037903724,1.8098877323326459,0.4594428616012688,1.5197808035962141,0.6218708034615638,-2.2888012607045405,-0.6441137428617638,-0.39280004844404703,-1.5192291206028328,-0.9434553287220936,0.5928647058118732,0.12664740126504453,-0.002661043922858589,-1.244694743160731,-1.6132781807720713,-0.47434025737601404,-0.5600341922992752,-1.3217359413054197,-1.0815905087169446,-0.814045987693247,-0.37739371642884384,-0.42700470638487703,0.2611756038322101,-0.13909248386651984,-1.2378275926247893,-0.7629980403710519,-0.26769448831442083,-1.3996756887380335,-0.2047512116975112,1.2248693149470062,1.3825962597615613,1.939121875440527,2.765421540179448,2.2317623661906074,1.3581277378460113,0.3727071403588473,0.24949816361054353,2.052861076705033,2.576034320524766,2.144270352582908,1.8962810753297268,1.6967749125601788,1.2669470722970742,2.226283683863126,2.059921580213229,2.1700023332485787,2.4037251728853737,3.0550681648265856,3.496350888362091,3.1642400891248244,1.9562460948044755,-1.2824707567200266,-0.9724064038677397,-1.3271938682475872,-0.6345664413644067,-1.4071451259726613,-1.6426794104506244,-1.0691195461402663,-0.5257958102187329,0.8428044665560694,-0.6096237770213985,0.12467013225122403,-0.6873880789855239,-0.5224642914907818,0.6502714663442616,-1.330431859152508,-0.910027715421802,-1.1631302183484595,-0.7640312539964719,-0.2148951889105325,0.33301405192368355,-0.04789428617968333,-0.6011188394217546,-0.7175705958451719,-1.752342959589205,-2.045403675484965,-1.5710440059344926,-0.9574646954787771,0.1937757818195128,1.2392041567439673,0.44744063937873124,0.3376859329902637,-1.1632077125584508,-1.2329197308087771,-0.4711928051264777,-1.2055021504215206,-2.3099354573532107,-3.319272215246923,-3.103477382634752,-0.959345436180559,-0.6872178820649708,-1.0724939986844975,0.40940361184458285,0.0037739164316887203,-1.4098644363999815,-2.520333186802397,-1.788223696133177,-0.6045564741659546,-0.06349622632957473,0.027355897466443378,0.7814811267115196,-0.0310493361715607,-0.34748481651731256,-1.9518788650788739,-2.5498911319304858,-1.8406944645753611,-1.864178028816385,-1.194194267426822,0.23159593769202258,1.5255604984849596,1.4503755414811346,0.9163759801457333,-0.520847778180761,-0.9028325440310263,-1.5973123364468504,-0.380010540317947,-0.8257535884543319,-0.532056629349522,-1.8139997415751337,-2.5115384848672924,-0.6480098189052519,0.37316980350727375,-0.548647115120764,1.6014157122797568,-0.10619955401289145,-0.7582614082680607,-0.8140917513634934,1.506175776878511,0.2995033732739499,0.29555740838140704,1.231358284441619,1.2641644525728748,2.7199471367309442,2.6291788095389244,2.566909015767626,1.9178733671757477,2.7334251607318825,1.3067381628914885,1.0035951435959445,0.34474224289366356,0.21682047853298297,0.2923412027786916,-0.39805503958094945,-0.28455707905960226,-0.41213165941602836,-0.38367343702377876,0.830859022131601,-0.8610814834959227,-2.2525321425716345,-2.9281650230566405,-2.217936469627037,-2.3857033834857773,-2.4066786288120126,-1.511100423339559,-1.1829161831185901,-0.2655028686874286,-1.3463631213954954,-1.3313040710485942,0.6517374551154917,1.345642473799466,2.349778044260892,0.11369133619693687,0.5197265651262554,-0.6827315152508133,0.19309752942743807,-1.908099649198895,-1.3186881694093282,-0.26922557042783996,-0.6507293131555568,-0.6400691281214177,-0.9475871608095444,-1.8997644163867302,-1.7776117984889053,-2.035067035421195,-1.8221448613928288,-2.5364019716585147,-1.4604547393524774,-1.408553677752441,-0.9604875670279402,-0.8502220629380998,-1.4599375088161364,-2.786115242963211,-1.235997827284364,-2.118047542953567,-2.2571086401735467,-2.1173082684140567,-1.7633018726730096,-1.429861028237768,-1.020617737796005,-0.9269472462209226,-0.583286239745425,-0.6534320514778982,-1.2078120979810498,-1.4351087530609206,-1.883692249176534,-2.5496353221097876,-1.0381400458422605,-1.2009069642124528,-0.9593846763061977,-0.8665944369374321,-0.05487191880451826,-1.141689974806402,-0.6812370981756694,0.5042685918541508,-0.22800468012542,-0.6111680752407274,-1.192954956277873,1.185629725409711,1.1047971157080285,0.6674246763302945,-0.6441417279983356,1.2515598440619005,2.375486348485759,0.7613899606585541,0.5065880368393529,-0.13859384073245368,0.6074187349860071,1.0025705283337818,-0.2248622966467784,-0.9270733819285788,0.2851141429024539,0.44700947873378866,-0.40467478604586243,-0.6211990361909576,-0.904308665243852,-0.931899688108255,-0.6510655596047957,-0.9899845705015641,-1.9062076246927013,-1.024283682100436,-1.43910483188185,-0.8782272114493753,-0.3765202314138362,1.0173854326292049,0.1661674096278823,0.24854990676347613,0.5577522427417425,1.018523128528254,0.3914843096812376,-0.5392536518568366,-1.643684471132776,-2.455829360992132,-1.9461387212439079,-1.0762792899574445,-1.0115840104727658,-0.34950771027463706,-0.7218901786526266,-0.28954353163787444,-0.8201886331979661,-1.4036775899062128,-1.4448164093044447,-1.5109271208618786,-1.0434886481980379,-0.6553881752037121,-3.2075501733350844,-4.82451499503012,-4.151724717690959,-3.1263104303183527,-2.592205481390736,-3.1590926526200107,-3.1683324895055094,-2.7717571440878688,-1.8500275226869995,-0.9611208821397154,-1.1701655220599192,-0.013985688026309966,-0.40295712493300545,1.4821067555441503,0.6186359818577248,1.8494681418422854,1.027088762449992,2.009415440647881,2.2170395020552487,1.0084932274219605,0.8073988983376712,-0.18608111086045803,-0.6510897395872562,0.8815071910754955,2.397293204709392,2.5034205105309515,1.4541515079951137,2.068155384677236,1.4295849476578275,1.8647852565425218,0.5923248825829666,0.23676871772272368,0.8206946910388442,1.0749458626403032,2.6039820475143673,1.9613566007820205,2.433101652353747,2.060697633575122,0.5282103794371829,0.6454441517948168,-1.108022536929492,-2.3391116975809423,-0.7514395762210789,-1.1558454734054047,-0.07424015488072461,-0.7852298527796451,0.08304910212708803,-1.572210241312234,-1.5752828653950368,-1.3494823830557203,-1.2194999786679963,-0.4148274436738833,-2.477156839911368,-1.3070669942261992,-1.0831696524084131,-2.0338440785303535,-0.891998997485584,-1.600056799515359,-1.1387007109761154,-0.733504552295815,1.2633178769785884,0.7990064559464279,1.0855272533880294,1.0368847730048305,-0.25679012098281845,-0.46476340908978886,-1.1559100184107118,-1.7865885895968643,-0.41111021469747666,0.48968511609863535,-0.09343844181258076,1.3719406935228187,0.610436443755159,0.19262054412775184,-1.2935873831310365,-0.4553699867460962,-0.5865381990726548,-1.495410640437421,-0.4757659403060311,-1.0401876569777444,-0.7989559648118917,-1.1459118709633804,-0.9246173675212225,-0.16159620596764876,-1.9064725551958772,-2.125868777727295,-1.6982062537394802,-1.2229206725470136,-0.0004263800565180889,0.5380181715618563,1.1206796124823981,1.7247476715221715,2.1687116436091105,1.083824235816329,2.2546778391469235,1.908712059504022,2.622025638256357,1.5233750377226636,2.651782297385388,2.8234110477217733,2.2428217136550304,2.9040052114362838,0.5686596076982441,0.741875506157503,0.8240285939268687,-0.46541531966839933,1.2039268835292185,1.096020474011338,-0.09608812883447485,-0.8134903884646236,-0.42218098493735523,-1.0361938667806858,-2.296027974504254,-1.4053692876594395,0.3562304875713257,-0.3025146701694192,0.17685415943465133,-0.2597094693211367,0.47621911570450587,1.228118450002665,2.0794160689512347,1.6616685561106876,1.9176677227952412,0.31581191527104774,0.3696460360534805,0.671537782064934,0.04913667243349536,-0.2246436682195201,-0.5317286519207634,-0.07312978169952603,-0.4868489605819461,0.24529402716676207,1.16935895095327,0.7475507898033952,0.20482137186317345,-0.19083586660252608,-0.8500036261513704,-0.4315717027636071,1.625272107792813,1.0425470802477887,1.3724704736803701,1.2537488917234583,0.8723728878700578,-0.09433245986352519,0.011596395533461779,-0.722185873150764,-1.5150148275485626,-2.3738904654724404,-2.4584766421212767,-1.5651769921069947,-1.4476799408622911,-0.8517468971992962,-0.4297155613227121,-0.5389740126406153,-0.5945331841890444,-0.9167905846943006,-0.7989644178345251,0.7893790182498714,1.0978978440428884,0.27851690388428474,-0.441774265745424,-0.21257520770863972,-0.9974874050535619,-1.8272337707902333,-0.35861722099964505,-0.3853469663199221,-1.1079619556803872,-1.4649073754618218,-0.8821736723325967,-0.7486509887637185,0.6865092587431695,0.7910500799243683,0.6692840037021828,2.4972491667075136,0.3486669284335626,-0.31376940903254874,0.48828757294367037,0.6991775972563733,1.2192229368849623,0.2533981271893492,-0.10938925376789042,0.024752370724350988,1.1209439803869272,0.408784339306023,0.33750131598138844,0.27132795105986335,0.5371201833150726,1.2680183806867176,1.7132721017018901,1.0590377027562465,1.9180921549300245,1.6792131943846753,2.5621036408135396,1.9693125074281368,0.6533039305976632,-0.6129112114224172,-1.2933418138727684,-2.238446332706819,-2.4156295702376167,0.15988772565675158,-1.0566161910967682,-0.4561623405003728,-1.2387491071550305,-1.7377533088476418,-1.858610271821691,-1.9057136281901732,-0.29692865452249556,-0.22518204468081796,1.099177284974099,1.7969022430662398,1.049899093399887,1.2671441521057345,1.119299441013771,0.08929442122882301,-0.055708910275751075,0.9312880393281159,1.2958348109460256,-0.24828569034669792,-1.8622076320679035,-1.3774263719344797,-1.2312556608567229,-0.07947514285438137,-1.1834361083045988,-1.4918788452464915,-2.1160662147133364,-2.252740798860837,-0.11908540281297463,1.3449368448315833,1.1850229510004835,1.9673819722863328,2.784569569103095,3.639414814433466,1.2877129841124397,0.12731090051120386,-0.2135150504868565,-0.8874910370529485,-1.4475995953976257,-0.34077422388430045,-0.05231126013270659,0.026517889687005792,-0.6227003144361367,-0.9291157787748529,-1.4979104831194376,-0.866696350885932,-0.6149629304670007,0.28281306823718677,0.5614084509757385,1.081785842587956,0.8454778178950091,0.26136272221765816,-0.7859951438890008,-0.09097756162306876,1.3605353553080244,2.7922279534782155,0.727976880984194,2.3857313761070595,2.164052992052139,2.439076324500272,1.3716396979041339,1.1785369813085058,0.7053403469895451,0.7887230346272778,0.4914732619759819,1.0457911943636558,0.7322455702140807,1.653315964444897,-0.0543132049987813,0.21340034698860444,-0.6418310942458503,-0.9208816247353256,-1.4436773719116038,-2.874045463576153,-3.056830283457238,-1.9979640245583299,-2.1353587593057046,-0.9141563783209774,-1.4306792847003078,-1.0064056762806528,0.45404627666047975,0.5386435947225591,-0.2662839940895941,-0.7853210788521106,-0.6056090404478469,0.18163259427368833,0.5209052280876513,0.48961504367597114,0.339990799593516,0.4879337348995585,1.2806321489595103,1.6407425750840696,0.3973482945402526,-0.438028447195753,-0.7984774055753242,0.31897110939657203,-0.5853731489633227,-0.6484882904133891,-0.994894304492508,-0.1440796580516538,1.0947401842519455,-0.8105226083751199,0.273060664853814,-0.6160288239085059,-1.137720717554516,-1.3115052970563474,-0.04691179788510743,-1.407066577577223,-1.696981075610157,-0.7061703039866736,0.08300333735943159,-0.3384029956073966,-0.43885540600882716,-1.689477513017961,0.13721683524886974,-0.11248871688090538,-1.9243562748113294,-0.7946193004716917,1.2230486649433119,1.1805157644803668,1.7415855914182603,0.7169426597473637,0.2233971701352865,-0.013177389502728478,-0.09391959996544481,0.2993571705279467,1.5141508003367656,2.572140529045785,0.9753128115136958,0.21184270116303616,-1.2527133956514651,-0.8310695827604075,-1.4504530112929392,-2.0459409872035805,-1.2194390657642193,-1.37898126382999,-2.8440293683555966,-1.6875102843725591,-2.60156368305848,-0.7365720457062558,-1.8851451837743292,-3.3531159222204403,-4.592329130519372,-3.095704722588483,-1.5926359399135157,-0.795012217073923,-3.134012177127931,-2.9868313783862046,-3.255085021265941,-2.37051310124238,-1.9440771682623437,-1.8907542403843252,-0.781222642101489,-0.5506365969709117,-0.30247392901009146,-1.0132511729069544,-0.8795218206782234,0.36310943753247715,1.2654268359076482,-0.9179960956109574,-1.4929309468430974,-2.1727450357335565,-2.3129356968944896,-0.9250727498411361,0.00884188483698151,0.8511892775790436,0.5163582748615813,0.3508871524138176,0.4122504810222376,0.9890391045086794,0.0545241625524306,0.5488736859656139,-1.0689357627623826,-1.159498838375156,0.09541158253759743,1.4831481491968637,0.8623942957627875,2.6614236988075195,2.9168680443143566,3.0032874316535434,2.0974440309486346,1.3934106450896309,0.774860498845201,1.6568187198491968,0.31975272039236424,-1.121564035923127,-0.8955977757435724,0.5242656082251872,1.1014998550679096,1.3100781106777675,0.731448574503767,0.35923225146552673,1.0497885412272734,-0.5345446678071782,-1.2836624178830216,-2.5196942445283868,-2.286049198547007,-2.1131854999246324,-1.8701969662747373,-1.8184705634204947,-0.9463616302896161,1.249799883272541,2.1220789500773294,1.6254887985548605,1.357440453171235,1.3434948708122574,0.29856716336378875,-0.783769403385274,0.3899754046224144,-0.3648128925674478,-0.7151899497445642,0.8290986970982088,0.8835611136415724,0.8098985065018964,0.1970203929290701,0.013790706619168636,0.08394207195938631,1.081408570044899,1.7681184829817334,1.8989240708589346,1.6628069081679249,0.8567787505716954,0.4976832851068399,0.5625900128974679,1.484086655117942,0.4552861414076653,0.2983466734518967,-0.5574081927188935,-1.1168794878607438,0.20546294854615899,-1.1075017599204913,0.5033188812166223,0.273390722776951,-0.23187517421002704,1.9637608616894673,2.245675449141781,2.690345288094297,1.3552202187730993,1.7002511697108356,1.4063709844939676,0.3800542717858143,0.39614274258285087,0.7080399594477647,-0.4713025510279358,-1.510566624678633,-1.9549459029472933,-1.8700572361432652,-1.9752979026230708,-0.5032517321997765,-0.5426563482469279,0.07103436225103159,0.5529176097385816,-0.3052983781892525,-0.7221291317929174,-1.0223070659617304,-1.0033211488044909,-1.9683413847935531,-2.1192276815350835,-0.6151918652581216,-0.49433644377645153,-0.7675013726317664,-0.9330896483275691,-0.9701298302293638,-2.684136537851451,-2.1154528098799177,-1.3033802230958744,-0.5092375905810721,-0.8434809053198065,0.4268524313826628,1.6882354633956158,1.2761700433373397,-0.760216541421353,-1.0930258116860256,-1.0405430502874038,0.09527274647449784,1.4507111691860275,2.330849643572062,3.197928730285382,2.199834834370601,1.8233732402991536,0.48472264562241657,1.4152646942894342,2.04717616824874,2.745809722544535,-1.3079233143287339,-1.441981631838147,-1.4910646426314376,-1.8013817151306228,-1.6653272126615704,0.22141528023488125,-0.5879233870239602,-0.4849218266420268,-0.6071973215006516,0.29289558510010166,-0.29539138784847935,-0.9015963916776657,1.0049347730561247,-0.22527650105365588,0.16281590639618906,-0.6061292515508313,0.7471527224452794,-0.5743609884878876,-1.3142050546509196,-0.08688516788728383,-1.368744737578317,-0.9454975700955459,-0.2700186124198412,-2.1557595004277217,-3.166193916760247,-1.841135115578016],\"x\":[0,1,2,3,4,5,6,7,8,9,10,11,12,13,14,15,16,17,18,19,20,21,22,23,24,25,26,27,28,29,30,31,32,33,34,35,36,37,38,39,40,41,42,43,44,45,46,47,48,49,50,51,52,53,54,55,56,57,58,59,60,61,62,63,64,65,66,67,68,69,70,71,72,73,74,75,76,77,78,79,80,81,82,83,84,85,86,87,88,89,90,91,92,93,94,95,96,97,98,99,100,101,102,103,104,105,106,107,108,109,110,111,112,113,114,115,116,117,118,119,120,121,122,123,124,125,126,127,128,129,130,131,132,133,134,135,136,137,138,139,140,141,142,143,144,145,146,147,148,149,150,151,152,153,154,155,156,157,158,159,160,161,162,163,164,165,166,167,168,169,170,171,172,173,174,175,176,177,178,179,180,181,182,183,184,185,186,187,188,189,190,191,192,193,194,195,196,197,198,199,200,201,202,203,204,205,206,207,208,209,210,211,212,213,214,215,216,217,218,219,220,221,222,223,224,225,226,227,228,229,230,231,232,233,234,235,236,237,238,239,240,241,242,243,244,245,246,247,248,249,250,251,252,253,254,255,256,257,258,259,260,261,262,263,264,265,266,267,268,269,270,271,272,273,274,275,276,277,278,279,280,281,282,283,284,285,286,287,288,289,290,291,292,293,294,295,296,297,298,299,300,301,302,303,304,305,306,307,308,309,310,311,312,313,314,315,316,317,318,319,320,321,322,323,324,325,326,327,328,329,330,331,332,333,334,335,336,337,338,339,340,341,342,343,344,345,346,347,348,349,350,351,352,353,354,355,356,357,358,359,360,361,362,363,364,365,366,367,368,369,370,371,372,373,374,375,376,377,378,379,380,381,382,383,384,385,386,387,388,389,390,391,392,393,394,395,396,397,398,399,400,401,402,403,404,405,406,407,408,409,410,411,412,413,414,415,416,417,418,419,420,421,422,423,424,425,426,427,428,429,430,431,432,433,434,435,436,437,438,439,440,441,442,443,444,445,446,447,448,449,450,451,452,453,454,455,456,457,458,459,460,461,462,463,464,465,466,467,468,469,470,471,472,473,474,475,476,477,478,479,480,481,482,483,484,485,486,487,488,489,490,491,492,493,494,495,496,497,498,499,500,501,502,503,504,505,506,507,508,509,510,511,512,513,514,515,516,517,518,519,520,521,522,523,524,525,526,527,528,529,530,531,532,533,534,535,536,537,538,539,540,541,542,543,544,545,546,547,548,549,550,551,552,553,554,555,556,557,558,559,560,561,562,563,564,565,566,567,568,569,570,571,572,573,574,575,576,577,578,579,580,581,582,583,584,585,586,587,588,589,590,591,592,593,594,595,596,597,598,599,600,601,602,603,604,605,606,607,608,609,610,611,612,613,614,615,616,617,618,619,620,621,622,623,624,625,626,627,628,629,630,631,632,633,634,635,636,637,638,639,640,641,642,643,644,645,646,647,648,649,650,651,652,653,654,655,656,657,658,659,660,661,662,663,664,665,666,667,668,669,670,671,672,673,674,675,676,677,678,679,680,681,682,683,684,685,686,687,688,689,690,691,692,693,694,695,696,697,698,699,700,701,702,703,704,705,706,707,708,709,710,711,712,713,714,715,716,717,718,719,720,721,722,723,724,725,726,727,728,729,730,731,732,733,734,735,736,737,738,739,740,741,742,743,744,745,746,747,748,749,750,751,752,753,754,755,756,757,758,759,760,761,762,763,764,765,766,767,768,769,770,771,772,773,774,775,776,777,778,779,780,781,782,783,784,785,786,787,788,789,790,791,792,793,794,795,796,797,798,799,800,801,802,803,804,805,806,807,808,809,810,811,812,813,814,815,816,817,818,819,820,821,822,823,824,825,826,827,828,829,830,831,832,833,834,835,836,837,838,839,840,841,842,843,844,845,846,847,848,849,850,851,852,853,854,855,856,857,858,859,860,861,862,863,864,865,866,867,868,869,870,871,872,873,874,875,876,877,878,879,880,881,882,883,884,885,886,887,888,889,890,891,892,893,894,895,896,897,898,899,900,901,902,903,904,905,906,907,908,909,910,911,912,913,914,915,916,917,918,919,920,921,922,923,924,925,926,927,928,929,930,931,932,933,934,935,936,937,938,939,940,941,942,943,944,945,946,947,948,949,950,951,952,953,954,955,956,957,958,959,960,961,962,963,964,965,966,967,968,969,970,971,972,973,974,975,976,977,978,979,980,981,982,983,984,985,986,987,988,989,990,991,992,993,994,995,996,997,998,999]},\"selected\":{\"id\":\"4304\"},\"selection_policy\":{\"id\":\"4303\"}},\"id\":\"4258\",\"type\":\"ColumnDataSource\"},{\"attributes\":{},\"id\":\"4282\",\"type\":\"SaveTool\"},{\"attributes\":{},\"id\":\"4278\",\"type\":\"PanTool\"},{\"attributes\":{},\"id\":\"4300\",\"type\":\"BasicTickFormatter\"},{\"attributes\":{},\"id\":\"4301\",\"type\":\"AllLabels\"},{\"attributes\":{},\"id\":\"4268\",\"type\":\"LinearScale\"},{\"attributes\":{\"active_multi\":null,\"tools\":[{\"id\":\"4257\"},{\"id\":\"4278\"},{\"id\":\"4279\"},{\"id\":\"4280\"},{\"id\":\"4281\"},{\"id\":\"4282\"}]},\"id\":\"4284\",\"type\":\"Toolbar\"},{\"attributes\":{},\"id\":\"4266\",\"type\":\"LinearScale\"},{\"attributes\":{\"axis\":{\"id\":\"4274\"},\"dimension\":1,\"ticker\":null},\"id\":\"4277\",\"type\":\"Grid\"}],\"root_ids\":[\"4259\"]},\"title\":\"Bokeh Application\",\"version\":\"2.3.2\"}};\n",
       "  var render_items = [{\"docid\":\"8f858d06-61a6-45d2-89d6-9861aef47bff\",\"notebook_comms_target\":\"4510\",\"root_ids\":[\"4259\"],\"roots\":{\"4259\":\"8b9a2b0b-65c5-4532-9a1e-26bd33d1f419\"}}];\n",
       "  root.Bokeh.embed.embed_items_notebook(docs_json, render_items);\n",
       "\n",
       "  }\n",
       "  if (root.Bokeh !== undefined) {\n",
       "    embed_document(root);\n",
       "  } else {\n",
       "    var attempts = 0;\n",
       "    var timer = setInterval(function(root) {\n",
       "      if (root.Bokeh !== undefined) {\n",
       "        clearInterval(timer);\n",
       "        embed_document(root);\n",
       "      } else {\n",
       "        attempts++;\n",
       "        if (attempts > 100) {\n",
       "          clearInterval(timer);\n",
       "          console.log(\"Bokeh: ERROR: Unable to run BokehJS code because BokehJS library is missing\");\n",
       "        }\n",
       "      }\n",
       "    }, 10, root)\n",
       "  }\n",
       "})(window);"
      ],
      "application/vnd.bokehjs_exec.v0+json": ""
     },
     "metadata": {
      "application/vnd.bokehjs_exec.v0+json": {
       "id": "4259"
      }
     },
     "output_type": "display_data"
    },
    {
     "data": {
      "text/html": [
       "<p><code>&lt;Bokeh Notebook handle for <strong>In[58]</strong>&gt;</code></p>"
      ],
      "text/plain": [
       "<bokeh.io.notebook.CommsHandle at 0x1cc35016f10>"
      ]
     },
     "execution_count": 58,
     "metadata": {},
     "output_type": "execute_result"
    }
   ],
   "source": [
    "p = Functions.plotting('T',['Inflation gab','Output gab'],range(t),[pis,ys],\n",
    "                       'Percentage deviation',legendlocation='bottom_left',width=900,\n",
    "                      title='Simulation of AS-AD-model',line_width=1)\n",
    "show(p,notebook_handle=True)"
   ]
  },
  {
   "cell_type": "code",
   "execution_count": 59,
   "metadata": {},
   "outputs": [
    {
     "data": {
      "text/html": [
       "<div>\n",
       "<style scoped>\n",
       "    .dataframe tbody tr th:only-of-type {\n",
       "        vertical-align: middle;\n",
       "    }\n",
       "\n",
       "    .dataframe tbody tr th {\n",
       "        vertical-align: top;\n",
       "    }\n",
       "\n",
       "    .dataframe thead th {\n",
       "        text-align: right;\n",
       "    }\n",
       "</style>\n",
       "<table border=\"1\" class=\"dataframe\">\n",
       "  <thead>\n",
       "    <tr style=\"text-align: right;\">\n",
       "      <th></th>\n",
       "      <th>Var(\\(y\\))</th>\n",
       "      <th>Var(\\(\\pi\\))</th>\n",
       "      <th>Corr(\\(\\pi,y\\))</th>\n",
       "      <th>Corr(\\(y_{t},y_{t-1}\\))</th>\n",
       "      <th>Corr (\\(\\pi_{t},\\pi_{t-1}\\))    .</th>\n",
       "    </tr>\n",
       "  </thead>\n",
       "  <tbody>\n",
       "    <tr>\n",
       "      <th>Value</th>\n",
       "      <td>1.995473</td>\n",
       "      <td>1.794619</td>\n",
       "      <td>-0.152624</td>\n",
       "      <td>0.780791</td>\n",
       "      <td>0.986923</td>\n",
       "    </tr>\n",
       "  </tbody>\n",
       "</table>\n",
       "</div>"
      ],
      "text/plain": [
       "       Var(\\(y\\))  Var(\\(\\pi\\))  Corr(\\(\\pi,y\\))  Corr(\\(y_{t},y_{t-1}\\))  \\\n",
       "Value    1.995473      1.794619        -0.152624                 0.780791   \n",
       "\n",
       "       Corr (\\(\\pi_{t},\\pi_{t-1}\\))    .  \n",
       "Value                           0.986923  "
      ]
     },
     "execution_count": 59,
     "metadata": {},
     "output_type": "execute_result"
    }
   ],
   "source": [
    "data = [correlations]\n",
    "df = pd.DataFrame(data, columns = [r'Var(\\(y\\))',r'Var(\\(\\pi\\))',\n",
    "                r'Corr(\\(\\pi,y\\))',r'Corr(\\(y_{t},y_{t-1}\\))',r'Corr (\\(\\pi_{t},\\pi_{t-1}\\))    .'],index=['Value'])\n",
    "df"
   ]
  },
  {
   "cell_type": "markdown",
   "metadata": {},
   "source": [
    "We see a higher variance and loweer autocorrelation for outputgab than for the inflationgab, this could be due to the model having a relatively flat SRAS-curve causing our stronger (relative to supply-) demand chocks to mainly influence output. Furthermore the strong autocorrelation of $\\pi$ could also come as a result of the parameter $\\phi$ being set to zero, meaning that we assumed static inflation expectations. "
   ]
  },
  {
   "cell_type": "markdown",
   "metadata": {},
   "source": [
    "**Question 5:** Plot how the correlation between $y_t$ and $\\pi_t$ changes with $\\phi$. Use a numerical optimizer or root finder to choose $\\phi\\in(0,1)$ such that the simulated correlation between $y_t$ and $\\pi_t$ comes close to 0.31. "
   ]
  },
  {
   "cell_type": "code",
   "execution_count": 60,
   "metadata": {},
   "outputs": [],
   "source": [
    "# Before this we save our original parametervalues\n",
    "org_par = [par['phi'],par['sigma_x'],par['sigma_c']]"
   ]
  },
  {
   "cell_type": "code",
   "execution_count": 61,
   "metadata": {},
   "outputs": [],
   "source": [
    "def corr_y_pi(par,t=t):\n",
    "    ys = [y_equilibrium(0,0,vs[0],ss[0],0,par)]\n",
    "\n",
    "    pis = [pi_equilibrium(0,0,vs[0],ss[0],0,par)]\n",
    "\n",
    "    for i in range(1,t):\n",
    "        ys.append(y_equilibrium(ys[i-1],pis[i-1],vs[i],ss[i],ss[i-1],par))\n",
    "        pis.append(pi_equilibrium(ys[i-1],pis[i-1],vs[i],ss[i],ss[i-1],par))\n",
    "    return np.corrcoef(ys,pis)[0,1]"
   ]
  },
  {
   "cell_type": "code",
   "execution_count": 62,
   "metadata": {},
   "outputs": [],
   "source": [
    "corrs =[]\n",
    "phis = np.linspace(0,1,500)\n",
    "for phi in phis:\n",
    "    par['phi']=phi\n",
    "    corrs.append(corr_y_pi(par))"
   ]
  },
  {
   "cell_type": "code",
   "execution_count": 63,
   "metadata": {},
   "outputs": [
    {
     "name": "stderr",
     "output_type": "stream",
     "text": [
      "BokehDeprecationWarning: 'legend' keyword is deprecated, use explicit 'legend_label', 'legend_field', or 'legend_group' keywords instead\n"
     ]
    },
    {
     "data": {
      "text/html": [
       "\n",
       "\n",
       "\n",
       "\n",
       "\n",
       "\n",
       "  <div class=\"bk-root\" id=\"af558ced-d8e9-42f5-92bb-f6c9a0569926\" data-root-id=\"4563\"></div>\n"
      ]
     },
     "metadata": {},
     "output_type": "display_data"
    },
    {
     "data": {
      "application/javascript": [
       "(function(root) {\n",
       "  function embed_document(root) {\n",
       "    \n",
       "  var docs_json = {\"78bccff4-7fbc-41a3-a809-dfdddd2b3760\":{\"defs\":[],\"roots\":{\"references\":[{\"attributes\":{\"below\":[{\"id\":\"4574\"}],\"center\":[{\"id\":\"4577\"},{\"id\":\"4581\"},{\"id\":\"4610\"}],\"height\":450,\"left\":[{\"id\":\"4578\"}],\"renderers\":[{\"id\":\"4598\"}],\"title\":{\"id\":\"4564\"},\"toolbar\":{\"id\":\"4588\"},\"width\":900,\"x_range\":{\"id\":\"4566\"},\"x_scale\":{\"id\":\"4570\"},\"y_range\":{\"id\":\"4568\"},\"y_scale\":{\"id\":\"4572\"}},\"id\":\"4563\",\"subtype\":\"Figure\",\"type\":\"Plot\"},{\"attributes\":{},\"id\":\"4582\",\"type\":\"PanTool\"},{\"attributes\":{},\"id\":\"4575\",\"type\":\"BasicTicker\"},{\"attributes\":{\"axis_label\":\"\\u03c6\",\"formatter\":{\"id\":\"4604\"},\"major_label_policy\":{\"id\":\"4605\"},\"ticker\":{\"id\":\"4575\"}},\"id\":\"4574\",\"type\":\"LinearAxis\"},{\"attributes\":{},\"id\":\"4572\",\"type\":\"LinearScale\"},{\"attributes\":{},\"id\":\"4607\",\"type\":\"UnionRenderers\"},{\"attributes\":{},\"id\":\"4583\",\"type\":\"WheelZoomTool\"},{\"attributes\":{\"active_multi\":null,\"tools\":[{\"id\":\"4561\"},{\"id\":\"4582\"},{\"id\":\"4583\"},{\"id\":\"4584\"},{\"id\":\"4585\"},{\"id\":\"4586\"}]},\"id\":\"4588\",\"type\":\"Toolbar\"},{\"attributes\":{},\"id\":\"4608\",\"type\":\"Selection\"},{\"attributes\":{\"line_alpha\":0.1,\"line_color\":\"red\",\"x\":{\"field\":\"x\"},\"y\":{\"field\":\"a\"}},\"id\":\"4597\",\"type\":\"Line\"},{\"attributes\":{\"axis_label\":\"Correlation Coefficient\",\"formatter\":{\"id\":\"4601\"},\"major_label_policy\":{\"id\":\"4602\"},\"ticker\":{\"id\":\"4579\"}},\"id\":\"4578\",\"type\":\"LinearAxis\"},{\"attributes\":{\"line_color\":\"red\",\"x\":{\"field\":\"x\"},\"y\":{\"field\":\"a\"}},\"id\":\"4596\",\"type\":\"Line\"},{\"attributes\":{\"axis\":{\"id\":\"4578\"},\"dimension\":1,\"ticker\":null},\"id\":\"4581\",\"type\":\"Grid\"},{\"attributes\":{},\"id\":\"4579\",\"type\":\"BasicTicker\"},{\"attributes\":{},\"id\":\"4568\",\"type\":\"DataRange1d\"},{\"attributes\":{\"source\":{\"id\":\"4562\"}},\"id\":\"4599\",\"type\":\"CDSView\"},{\"attributes\":{\"label\":{\"value\":\"Correlation between inflation- and outputgab\"},\"renderers\":[{\"id\":\"4598\"}]},\"id\":\"4611\",\"type\":\"LegendItem\"},{\"attributes\":{\"overlay\":{\"id\":\"4587\"}},\"id\":\"4584\",\"type\":\"BoxZoomTool\"},{\"attributes\":{\"items\":[{\"id\":\"4611\"}],\"location\":\"top_left\"},\"id\":\"4610\",\"type\":\"Legend\"},{\"attributes\":{},\"id\":\"4585\",\"type\":\"ResetTool\"},{\"attributes\":{},\"id\":\"4586\",\"type\":\"SaveTool\"},{\"attributes\":{},\"id\":\"4566\",\"type\":\"DataRange1d\"},{\"attributes\":{},\"id\":\"4601\",\"type\":\"BasicTickFormatter\"},{\"attributes\":{},\"id\":\"4602\",\"type\":\"AllLabels\"},{\"attributes\":{\"text\":\"Correlation between inflation- and outputgab depended on \\u03c6\"},\"id\":\"4564\",\"type\":\"Title\"},{\"attributes\":{\"bottom_units\":\"screen\",\"fill_alpha\":0.5,\"fill_color\":\"lightgrey\",\"left_units\":\"screen\",\"level\":\"overlay\",\"line_alpha\":1.0,\"line_color\":\"black\",\"line_dash\":[4,4],\"line_width\":2,\"right_units\":\"screen\",\"syncable\":false,\"top_units\":\"screen\"},\"id\":\"4587\",\"type\":\"BoxAnnotation\"},{\"attributes\":{},\"id\":\"4570\",\"type\":\"LinearScale\"},{\"attributes\":{\"axis\":{\"id\":\"4574\"},\"ticker\":null},\"id\":\"4577\",\"type\":\"Grid\"},{\"attributes\":{},\"id\":\"4604\",\"type\":\"BasicTickFormatter\"},{\"attributes\":{\"callback\":null,\"tooltips\":[[\"\\u03c6\",\"@x{0.00}\"],[\"Correlation between inflation- and outputgab\",\"@a{0.00}\"]]},\"id\":\"4561\",\"type\":\"HoverTool\"},{\"attributes\":{\"data\":{\"a\":[-0.15262354445520543,-0.15234708438474387,-0.15207033001829623,-0.15179328003497025,-0.15151593310605208,-0.15123828789495145,-0.150960343057146,-0.1506820972401238,-0.15040354908332598,-0.15012469721808816,-0.14984554026758312,-0.14956607684676038,-0.1492863055622859,-0.14900622501248215,-0.1487258337872665,-0.14844513046808872,-0.14816411362786877,-0.14788278183093354,-0.14760113363295144,-0.14731916758086822,-0.14703688221284153,-0.14675427605817415,-0.1464713476372455,-0.1461880954614461,-0.14590451803310664,-0.1456206138454285,-0.14533638138241392,-0.1450518191187942,-0.14476692551995754,-0.1444816990418755,-0.1441961381310294,-0.14391024122433474,-0.14362400674906617,-0.14333743312277972,-0.14305051875323524,-0.1427632620383179,-0.14247566136595766,-0.1421877151140491,-0.14189942165036926,-0.14161077933249397,-0.14132178650771496,-0.14103244151295372,-0.14074274267467582,-0.14045268830880298,-0.14016227672062476,-0.13987150620470845,-0.13958037504480855,-0.13928888151377383,-0.13899702387345464,-0.13870480037460708,-0.13841220925679754,-0.13811924874830514,-0.13782591706602296,-0.13753221241535707,-0.13723813299012627,-0.13694367697245804,-0.1366488425326842,-0.1363536278292341,-0.13605803100852937,-0.13576205020487156,-0.13546568354033375,-0.1351689291246476,-0.13487178505508873,-0.1345742494163614,-0.13427632028048156,-0.1339779957066566,-0.13367927374116514,-0.1333801524172339,-0.133080629754913,-0.1327807037609493,-0.1324803724286582,-0.1321796337377923,-0.1318784856544097,-0.13157692613073826,-0.1312749531050409,-0.13097256450147388,-0.13066975822994772,-0.13036653218598346,-0.13006288425056578,-0.12975881228999725,-0.12945431415574596,-0.12914938768429313,-0.12884403069697858,-0.12853824099984199,-0.12823201638346307,-0.12792535462279778,-0.12761825347701344,-0.1273107106893189,-0.1270027239867943,-0.1266942910802165,-0.12638540966388112,-0.12607607741542307,-0.1257662919956328,-0.1254560510482705,-0.12514535219987627,-0.12483419305957559,-0.12452257121888582,-0.12421048425151435,-0.1238979297131566,-0.12358490514128828,-0.12327140805495597,-0.12295743595456299,-0.12264298632165045,-0.12232805661867671,-0.122012644288791,-0.12169674675560381,-0.1213803614229528,-0.12106348567466436,-0.12074611687431233,-0.12042825236496975,-0.12010988946895779,-0.11979102548759002,-0.11947165770091131,-0.11915178336743273,-0.11883139972386045,-0.11851050398482066,-0.11818909334257863,-0.11786716496675237,-0.11754471600402243,-0.11722174357783446,-0.11689824478809606,-0.11657421671086973,-0.11624965639805805,-0.11592456087708426,-0.11559892715056581,-0.11527275219598111,-0.11494603296533239,-0.11461876638479868,-0.11429094935438427,-0.11396257874756026,-0.11363365141089729,-0.11330416416369385,-0.11297411379759496,-0.11264349707620432,-0.11231231073468835,-0.11198055147937405,-0.11164821598733618,-0.11131530090597791,-0.11098180285260335,-0.1106477184139806,-0.11031304414589686,-0.10997777657270276,-0.10964191218685047,-0.10930544744842147,-0.10896837878464107,-0.10863070258938966,-0.10829241522269885,-0.10795351301023878,-0.10761399224279641,-0.10727384917574079,-0.10693308002847915,-0.10659168098390062,-0.10624964818780905,-0.1059069777483444,-0.10556366573539105,-0.10521970817997549,-0.10487510107364892,-0.10452984036786012,-0.10418392197331289,-0.10383734175931048,-0.10349009555308701,-0.10314217913912493,-0.10279358825845548,-0.10244431860794842,-0.1020943658395843,-0.10174372555971115,-0.10139239332828631,-0.10104036465810134,-0.1006876350139924,-0.10033419981202976,-0.0999800544186946,-0.09962519415003473,-0.0992696142708043,-0.09891330999358292,-0.0985562764778782,-0.0981985088292079,-0.09784000209816086,-0.09748075127943909,-0.09712075131088034,-0.09675999707245615,-0.09639848338525017,-0.09603620501041459,-0.09567315664810264,-0.09530933293637793,-0.09494472845010048,-0.09457933769978827,-0.09421315513045285,-0.09384617512041028,-0.09347839198006555,-0.0931097999506707,-0.0927403932030532,-0.09237016583632061,-0.091999111876532,-0.09162722527534184,-0.09125449990861458,-0.09088092957500617,-0.09050650799451695,-0.09013122880700873,-0.08975508557069113,-0.08937807176057448,-0.08900018076688472,-0.08862140589344711,-0.08824174035603016,-0.08786117728065351,-0.08747970970185807,-0.08709733056093698,-0.08671403270412546,-0.08632980888075129,-0.08594465174134162,-0.0855585538356889,-0.0851715076108709,-0.0847835054092265,-0.08439453946628604,-0.08400460190865251,-0.08361368475183616,-0.08322177989803918,-0.0828288791338881,-0.08243497412811729,-0.0820400564291948,-0.0816441174628986,-0.081247148529832,-0.08084914080288591,-0.08045008532463946,-0.0800499730047033,-0.07964879461699755,-0.07924654079697051,-0.07884320203875016,-0.07843876869223057,-0.0780332309600893,-0.07762657889473751,-0.07721880239519524,-0.07680989120389689,-0.07639983490342003,-0.07598862291313822,-0.07557624448579336,-0.07516268870399134,-0.07474794447660953,-0.0743320005351244,-0.07391484542985013,-0.07349646752608661,-0.0730768550001795,-0.07265599583548416,-0.0722338778182333,-0.07181048853330844,-0.07138581535990789,-0.07095984546711265,-0.07053256580934511,-0.0701039631217192,-0.06967402391527934,-0.06924273447212279,-0.06881008084040731,-0.06837604882923429,-0.06794062400341261,-0.06750379167809052,-0.06706553691326002,-0.066625844508128,-0.06618469899534832,-0.06574208463511193,-0.06529798540909527,-0.06485238501425758,-0.06440526685648694,-0.06395661404408923,-0.06350640938111629,-0.06305463536052754,-0.0626012741571857,-0.062146307620674676,-0.0616897172679379,-0.06123148427573812,-0.0607715894729221,-0.060310013332494895,-0.059846735963493415,-0.05938173710265659,-0.0589149961058816,-0.05844649193946796,-0.057976203171135214,-0.05750410796081471,-0.057030184051203955,-0.056554408758080696,-0.05607675896036672,-0.055597211089937947,-0.05511574112116896,-0.05463232456020826,-0.05414693643397359,-0.05365955127886375,-0.05317014312917029,-0.05267868550519042,-0.052185151401025365,-0.05168951327205506,-0.05119174302208626,-0.050691811990153456,-0.05018969093697446,-0.04968535003103951,-0.04917875883432787,-0.048669886287645105,-0.04815870069555778,-0.04764516971092411,-0.047129260319002636,-0.04661093882112976,-0.04609017081794518,-0.04556692119216245,-0.04504115409085907,-0.04451283290727938,-0.04398192026212934,-0.04344837798435137,-0.042912167091357194,-0.042373247768709175,-0.04183157934922254,-0.041287120291477804,-0.0407398281577218,-0.040189659591133166,-0.03963657029243724,-0.03908051499584723,-0.038521447444303206,-0.03795932036399645,-0.03739408543814487,-0.036825693279999655,-0.03625409340505411,-0.035679234202431874,-0.0351010629054178,-0.034519525561113686,-0.033934566999175284,-0.033346130799609755,-0.03275415925959233,-0.03215859335927483,-0.03155937272653966,-0.030956435600676353,-0.030349718794925807,-0.029739157657863658,-0.02912468603357601,-0.028506236220579812,-0.027883738929449123,-0.027257123239093562,-0.02662631655164025,-0.02599124454587056,-0.025351831129150293,-0.024707998387804284,-0.02405966653586966,-0.02340675386217132,-0.02274917667564959,-0.02208684924887962,-0.021419683759703614,-0.020747590230910863,-0.02007047646788279,-0.01938824799412429,-0.018700807984601532,-0.0180080571967916,-0.017309893899356978,-0.016606213798349673,-0.015896909960840113,-0.015181872735872078,-0.01446098967262917,-0.013734145435699008,-0.01300122171731808,-0.012262097146465478,-0.011516647194682142,-0.010764744078466918,-0.010006256658115043,-0.009241050332842055,-0.008468986932034248,-0.007689924602460852,-0.0069037176912741735,-0.006110216624612018,-0.005309267781613776,-0.004500713363643191,-0.0036843912585150587,-0.0028601348994959823,-0.0020277731188490526,-0.0011871299956832274,-0.0003380246978387215,0.000519728682447261,0.0013863212993877902,0.002261949731300324,0.0031468161653802618,0.004041128589925813,0.0049451009943535995,0.005858953577376011,0.006782912963720917,0.007717212429789117,0.00866209213868278,0.009617799385047001,0.01058458885018801,0.01156272286797157,0.012552471702011197,0.01355411383470177,0.01456793626867106,0.015594234841257245,0.01663331455265049,0.01768548990837868,0.018751085276840735,0.01983043526263923,0.02092388509650558,0.022031791042639543,0.02315452082435669,0.024292454068947977,0.02544598277274574,0.026615511787411054,0.02780145932853354,0.029004257507683165,0.03022435288912067,0.0314622070724347,0.032718297302449566,0.03399311710780825,0.03528717696972612,0.03660100502247236,0.03793514778724236,0.039290170941149824,0.04066666012317108,0.042065221778970145,0.04348648404662544,0.04493109768538759,0.04639973704971082,0.047893101110887654,0.04941191452876881,0.050956928776128146,0.05252892331837776,0.05412870685145018,0.05575711860078331,0.05741502968446978,0.05910334454375248,0.06082300244415412,0.06257497905065386,0.06436028808041146,0.06617998303662904,0.06803515902723722,0.06992695467210434,0.07185655410253698,0.07382518905680881,0.07583414107540987,0.07788474379962304,0.07997838537685333,0.08211651097591167,0.08430062541510598,0.08653229590555968,0.0888131549115646,0.09114490312903704,0.09352931258217351,0.09596822983719855,0.09846357933060025,0.10101736680739666,0.10363168286270437,0.10630870657712721,0.10905070923309049,0.11186005809519166,0.11473922023271142,0.11769076635649191,0.12071737463529568,0.12382183444821532,0.12700705001952445,0.1302760438701987,0.13363196000585528,0.13707806674364487,0.14061775906022364,0.14425456031874245,0.14799212320424832,0.15183422966318944,0.15578478960313433,0.1598478380623384,0.1640275305044363,0.16832813583021422,0.17275402662482517,0.17730966607376197,0.18199959088307133,0.1868283894274712,0.1918006742230832,0.19692104767875745,0.20219405992108277,0.20762415731378484,0.21321562010407055,0.21897248743009076,0.2248984677210035,0.230996832323311,0.23727029000786284,0.24372083987031107,0.25034960006035833,0.25715660979704774,0.2641406022943855,0.2712987465915511,0.27862635692564264,0.28611656928591,0.2937599862410988,0.3015442931359367,0.3094538514052233,0.3174692781320149,0.3255670251163214,0.3337189755875751,0.3418920821434527,0.3500480752334536,0.3581432770387193,0.3661285602189366,0.3739494937684878,0.3815467180356726,0.3888565866339663,0.3958121034622972,0.40234416769378906,0.40838311843383285,0.41386054482574614,0.41871129890011816,0.4228756207470095,0.426301262733279,0.4289454856892752],\"x\":{\"__ndarray__\":\"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\",\"dtype\":\"float64\",\"order\":\"little\",\"shape\":[500]}},\"selected\":{\"id\":\"4608\"},\"selection_policy\":{\"id\":\"4607\"}},\"id\":\"4562\",\"type\":\"ColumnDataSource\"},{\"attributes\":{},\"id\":\"4605\",\"type\":\"AllLabels\"},{\"attributes\":{\"data_source\":{\"id\":\"4562\"},\"glyph\":{\"id\":\"4596\"},\"hover_glyph\":null,\"muted_glyph\":null,\"nonselection_glyph\":{\"id\":\"4597\"},\"view\":{\"id\":\"4599\"}},\"id\":\"4598\",\"type\":\"GlyphRenderer\"}],\"root_ids\":[\"4563\"]},\"title\":\"Bokeh Application\",\"version\":\"2.3.2\"}};\n",
       "  var render_items = [{\"docid\":\"78bccff4-7fbc-41a3-a809-dfdddd2b3760\",\"notebook_comms_target\":\"4808\",\"root_ids\":[\"4563\"],\"roots\":{\"4563\":\"af558ced-d8e9-42f5-92bb-f6c9a0569926\"}}];\n",
       "  root.Bokeh.embed.embed_items_notebook(docs_json, render_items);\n",
       "\n",
       "  }\n",
       "  if (root.Bokeh !== undefined) {\n",
       "    embed_document(root);\n",
       "  } else {\n",
       "    var attempts = 0;\n",
       "    var timer = setInterval(function(root) {\n",
       "      if (root.Bokeh !== undefined) {\n",
       "        clearInterval(timer);\n",
       "        embed_document(root);\n",
       "      } else {\n",
       "        attempts++;\n",
       "        if (attempts > 100) {\n",
       "          clearInterval(timer);\n",
       "          console.log(\"Bokeh: ERROR: Unable to run BokehJS code because BokehJS library is missing\");\n",
       "        }\n",
       "      }\n",
       "    }, 10, root)\n",
       "  }\n",
       "})(window);"
      ],
      "application/vnd.bokehjs_exec.v0+json": ""
     },
     "metadata": {
      "application/vnd.bokehjs_exec.v0+json": {
       "id": "4563"
      }
     },
     "output_type": "display_data"
    },
    {
     "data": {
      "text/html": [
       "<p><code>&lt;Bokeh Notebook handle for <strong>In[63]</strong>&gt;</code></p>"
      ],
      "text/plain": [
       "<bokeh.io.notebook.CommsHandle at 0x1cc35b10c10>"
      ]
     },
     "execution_count": 63,
     "metadata": {},
     "output_type": "execute_result"
    }
   ],
   "source": [
    "p = Functions.plotting('\\u03C6',['Correlation between inflation- and outputgab'],phis,[corrs],\n",
    "                       'Correlation Coefficient',legendlocation='top_left',width=900,\n",
    "                      title='Correlation between inflation- and outputgab depended on \\u03C6',line_width=1)\n",
    "show(p,notebook_handle=True)"
   ]
  },
  {
   "cell_type": "markdown",
   "metadata": {},
   "source": [
    "Now to find the $\\phi$ that makes corr($\\pi,y$)=0.31:"
   ]
  },
  {
   "cell_type": "code",
   "execution_count": 64,
   "metadata": {},
   "outputs": [],
   "source": [
    "'''\n",
    "An another way to find the right phi is to use an interpolater\n",
    "but since the problem  explicityly says to use either an optimizeer\n",
    "or a root_finder, we will also solve the problem using a rootfinder\n",
    "'''\n",
    "corr_interp = interpolate.interp1d(corrs,phis,kind='cubic')\n",
    "phi_interperted = corr_interp([0.31])[0]"
   ]
  },
  {
   "cell_type": "code",
   "execution_count": 65,
   "metadata": {},
   "outputs": [],
   "source": [
    "def obj1(phi):\n",
    "    par['phi']=phi\n",
    "    return corr_y_pi(par)-0.31\n",
    "res = optimize.root_scalar(obj1,method='bisect',bracket=[0,1])\n",
    "phi_optimized = res.root"
   ]
  },
  {
   "cell_type": "code",
   "execution_count": 66,
   "metadata": {},
   "outputs": [],
   "source": [
    "assert np.isclose(phi_interperted,phi_optimized)"
   ]
  },
  {
   "cell_type": "code",
   "execution_count": 67,
   "metadata": {},
   "outputs": [
    {
     "name": "stdout",
     "output_type": "stream",
     "text": [
      "The phi that causes the correlation between the output- and inflationgab to be equal to 0.31 is:\n",
      "Phi = 0.9640651869867725\n"
     ]
    }
   ],
   "source": [
    "print('The phi that causes the correlation between the output- and inflationgab to be equal to 0.31 is:')\n",
    "print(f'Phi = {phi_optimized}')"
   ]
  },
  {
   "cell_type": "markdown",
   "metadata": {},
   "source": [
    "**Quesiton 6:** Use a numerical optimizer to choose $\\sigma_x>0$, $\\sigma_c>0$ and $\\phi\\in(0,1)$ to make the simulated statistics as close as possible to US business cycle data where:\n",
    "\n",
    "1. $var(y_t) = 1.64$\n",
    "2. $var(\\pi_t) = 0.21$\n",
    "3. $corr(y_t,\\pi_t) = 0.31$\n",
    "4. $corr(y_t,y_{t-1}) = 0.84$\n",
    "5. $corr(\\pi_t,\\pi_{t-1}) = 0.48$"
   ]
  },
  {
   "cell_type": "code",
   "execution_count": 68,
   "metadata": {},
   "outputs": [],
   "source": [
    "def obj2(paras,par=par,t=t):\n",
    "    par['phi']=paras[0]\n",
    "    par['sigma_x']=paras[1]\n",
    "    par['sigma_c']=paras[2]\n",
    "    \n",
    "    corrs, ys, pis = sim_asad(par)\n",
    "    roots = np.array(corrs) -np.array([1.64,0.21,0.31,0.84,0.48])\n",
    "    return roots"
   ]
  },
  {
   "cell_type": "code",
   "execution_count": 69,
   "metadata": {},
   "outputs": [
    {
     "name": "stdout",
     "output_type": "stream",
     "text": [
      "As close to zero as we can get with this optimizer: \n",
      "[ 0.00524204 -0.15399737 -0.02923762 -0.02311971  0.00360194]\n",
      "The values found was: \n",
      "Phi = 0.9679, Sigma_x = 2.9329, Sigma_c = 0.1880\n"
     ]
    }
   ],
   "source": [
    "res = optimize.root(obj2,[0.96,par['sigma_x'],par['sigma_c']],method='lm')\n",
    "diff = res.fun\n",
    "print(f'As close to zero as we can get with this optimizer: \\n{diff}')\n",
    "print(f'The values found was: \\nPhi = {res.x[0]:.4f}, Sigma_x = {res.x[1]:.4f}, Sigma_c = {res.x[2]:.4f}')"
   ]
  },
  {
   "cell_type": "code",
   "execution_count": 70,
   "metadata": {},
   "outputs": [],
   "source": [
    "par['phi']=res.x[0]\n",
    "par['sigma_x']=res.x[1]\n",
    "par['sigma_c']=res.x[2]\n",
    "corrs, ys, pis = sim_asad(par)"
   ]
  },
  {
   "cell_type": "code",
   "execution_count": 71,
   "metadata": {},
   "outputs": [
    {
     "name": "stderr",
     "output_type": "stream",
     "text": [
      "<ipython-input-71-b7dbf35c73be>:11: FutureWarning: Passing a negative integer is deprecated in version 1.0 and will not be supported in future version. Instead, use None to not limit the column width.\n",
      "  pd.set_option('display.max_colwidth', -1)\n"
     ]
    },
    {
     "data": {
      "text/html": [
       "<div>\n",
       "<style scoped>\n",
       "    .dataframe tbody tr th:only-of-type {\n",
       "        vertical-align: middle;\n",
       "    }\n",
       "\n",
       "    .dataframe tbody tr th {\n",
       "        vertical-align: top;\n",
       "    }\n",
       "\n",
       "    .dataframe thead th {\n",
       "        text-align: right;\n",
       "    }\n",
       "</style>\n",
       "<table border=\"1\" class=\"dataframe\">\n",
       "  <thead>\n",
       "    <tr style=\"text-align: right;\">\n",
       "      <th></th>\n",
       "      <th>Var(\\(y\\))</th>\n",
       "      <th>Var(\\(\\pi\\))</th>\n",
       "      <th>Corr(\\(\\pi,y\\))</th>\n",
       "      <th>Corr(\\(y_{t},y_{t-1}\\))</th>\n",
       "      <th>Corr (\\(\\pi_{t},\\pi_{t-1}\\))    .</th>\n",
       "      <th>\\(\\phi\\)</th>\n",
       "      <th>\\(\\sigma_{x}\\)</th>\n",
       "      <th>\\(\\sigma_{c}\\)</th>\n",
       "    </tr>\n",
       "  </thead>\n",
       "  <tbody>\n",
       "    <tr>\n",
       "      <th>Original values</th>\n",
       "      <td>1.995473</td>\n",
       "      <td>1.794619</td>\n",
       "      <td>-0.152624</td>\n",
       "      <td>0.780791</td>\n",
       "      <td>0.986923</td>\n",
       "      <td>0.000000</td>\n",
       "      <td>3.492000</td>\n",
       "      <td>0.200000</td>\n",
       "    </tr>\n",
       "    <tr>\n",
       "      <th>Imitated values</th>\n",
       "      <td>1.645242</td>\n",
       "      <td>0.056003</td>\n",
       "      <td>0.280762</td>\n",
       "      <td>0.816880</td>\n",
       "      <td>0.483602</td>\n",
       "      <td>0.967858</td>\n",
       "      <td>2.932851</td>\n",
       "      <td>0.187962</td>\n",
       "    </tr>\n",
       "    <tr>\n",
       "      <th>US-values</th>\n",
       "      <td>1.640000</td>\n",
       "      <td>0.210000</td>\n",
       "      <td>0.310000</td>\n",
       "      <td>0.840000</td>\n",
       "      <td>0.480000</td>\n",
       "      <td>NaN</td>\n",
       "      <td>NaN</td>\n",
       "      <td>NaN</td>\n",
       "    </tr>\n",
       "    <tr>\n",
       "      <th>Difference</th>\n",
       "      <td>0.005242</td>\n",
       "      <td>-0.153997</td>\n",
       "      <td>-0.029238</td>\n",
       "      <td>-0.023120</td>\n",
       "      <td>0.003602</td>\n",
       "      <td>NaN</td>\n",
       "      <td>NaN</td>\n",
       "      <td>NaN</td>\n",
       "    </tr>\n",
       "  </tbody>\n",
       "</table>\n",
       "</div>"
      ],
      "text/plain": [
       "                 Var(\\(y\\))  Var(\\(\\pi\\))  Corr(\\(\\pi,y\\))  \\\n",
       "Original values  1.995473    1.794619     -0.152624          \n",
       "Imitated values  1.645242    0.056003      0.280762          \n",
       "US-values        1.640000    0.210000      0.310000          \n",
       "Difference       0.005242   -0.153997     -0.029238          \n",
       "\n",
       "                 Corr(\\(y_{t},y_{t-1}\\))  Corr (\\(\\pi_{t},\\pi_{t-1}\\))    .  \\\n",
       "Original values  0.780791                 0.986923                            \n",
       "Imitated values  0.816880                 0.483602                            \n",
       "US-values        0.840000                 0.480000                            \n",
       "Difference      -0.023120                 0.003602                            \n",
       "\n",
       "                 \\(\\phi\\)  \\(\\sigma_{x}\\)  \\(\\sigma_{c}\\)  \n",
       "Original values  0.000000  3.492000        0.200000        \n",
       "Imitated values  0.967858  2.932851        0.187962        \n",
       "US-values       NaN       NaN             NaN              \n",
       "Difference      NaN       NaN             NaN              "
      ]
     },
     "execution_count": 71,
     "metadata": {},
     "output_type": "execute_result"
    }
   ],
   "source": [
    "for i in range(3):\n",
    "    correlations.append(org_par[i])\n",
    "    corrs.append(res.x[i])\n",
    "\n",
    "data = [correlations,corrs,[1.64,0.21,0.31,0.84,0.48],list(diff),]\n",
    "df = pd.DataFrame(data, columns = [r'Var(\\(y\\))',r'Var(\\(\\pi\\))',\n",
    "                r'Corr(\\(\\pi,y\\))',r'Corr(\\(y_{t},y_{t-1}\\))',r'Corr (\\(\\pi_{t},\\pi_{t-1}\\))    .',\n",
    "                r'\\(\\phi\\)',r'\\(\\sigma_{x}\\)',r'\\(\\sigma_{c}\\)'],\n",
    "                  index=['Original values','Imitated values','US-values','Difference'])\n",
    "\n",
    "pd.set_option('display.max_colwidth', -1)\n",
    "df"
   ]
  },
  {
   "cell_type": "markdown",
   "metadata": {},
   "source": [
    "# 3. Exchange economy\n",
    "**Question 1:** Plot the histograms of the budget shares for each good across agents."
   ]
  },
  {
   "cell_type": "code",
   "execution_count": 72,
   "metadata": {},
   "outputs": [],
   "source": [
    "%matplotlib inline\n",
    "from mpl_toolkits import mplot3d\n",
    "from mpl_toolkits.mplot3d import Axes3D\n",
    "from matplotlib import cm\n",
    "import matplotlib.patches as mpatches "
   ]
  },
  {
   "cell_type": "code",
   "execution_count": 73,
   "metadata": {},
   "outputs": [],
   "source": [
    "plt.style.use('seaborn-pastel')"
   ]
  },
  {
   "cell_type": "code",
   "execution_count": 74,
   "metadata": {},
   "outputs": [],
   "source": [
    "# a. parameters\n",
    "N = 50000\n",
    "mu = np.array([3,2,1])\n",
    "Sigma = np.array([[0.25, 0, 0], [0, 0.25, 0], [0, 0, 0.25]])\n",
    "gamma = 0.8\n",
    "zeta = 1\n",
    "\n",
    "# b. random draws\n",
    "seed = 1986\n",
    "np.random.seed(seed)\n",
    "\n",
    "# preferences\n",
    "alphas = np.exp(np.random.multivariate_normal(mu, Sigma, size=N))\n",
    "betas = alphas/np.reshape(np.sum(alphas,axis=1),(N,1))\n",
    "\n",
    "# endowments\n",
    "e1s = np.random.exponential(zeta,size=N)\n",
    "e2s = np.random.exponential(zeta,size=N)\n",
    "e3s = np.random.exponential(zeta,size=N)"
   ]
  },
  {
   "cell_type": "code",
   "execution_count": 75,
   "metadata": {},
   "outputs": [
    {
     "name": "stderr",
     "output_type": "stream",
     "text": [
      "BokehDeprecationWarning: 'legend' keyword is deprecated, use explicit 'legend_label', 'legend_field', or 'legend_group' keywords instead\n",
      "BokehDeprecationWarning: 'legend' keyword is deprecated, use explicit 'legend_label', 'legend_field', or 'legend_group' keywords instead\n",
      "BokehDeprecationWarning: 'legend' keyword is deprecated, use explicit 'legend_label', 'legend_field', or 'legend_group' keywords instead\n"
     ]
    },
    {
     "data": {
      "text/html": [
       "\n",
       "\n",
       "\n",
       "\n",
       "\n",
       "\n",
       "  <div class=\"bk-root\" id=\"fbc6e11b-93ec-4d64-884b-bae52d9b07ce\" data-root-id=\"4859\"></div>\n"
      ]
     },
     "metadata": {},
     "output_type": "display_data"
    },
    {
     "data": {
      "application/javascript": [
       "(function(root) {\n",
       "  function embed_document(root) {\n",
       "    \n",
       "  var docs_json = {\"df523796-4163-4f08-887d-a2b66e1ceb2c\":{\"defs\":[],\"roots\":{\"references\":[{\"attributes\":{\"below\":[{\"id\":\"4870\"}],\"center\":[{\"id\":\"4873\"},{\"id\":\"4877\"},{\"id\":\"4905\"}],\"height\":500,\"left\":[{\"id\":\"4874\"}],\"renderers\":[{\"id\":\"4893\"},{\"id\":\"4910\"},{\"id\":\"4928\"}],\"title\":{\"id\":\"4860\"},\"toolbar\":{\"id\":\"4884\"},\"width\":500,\"x_range\":{\"id\":\"4862\"},\"x_scale\":{\"id\":\"4866\"},\"y_range\":{\"id\":\"4864\"},\"y_scale\":{\"id\":\"4868\"}},\"id\":\"4859\",\"subtype\":\"Figure\",\"type\":\"Plot\"},{\"attributes\":{\"start\":0},\"id\":\"4864\",\"type\":\"DataRange1d\"},{\"attributes\":{},\"id\":\"4899\",\"type\":\"BasicTickFormatter\"},{\"attributes\":{\"data_source\":{\"id\":\"4890\"},\"glyph\":{\"id\":\"4891\"},\"hover_glyph\":null,\"muted_glyph\":null,\"nonselection_glyph\":{\"id\":\"4892\"},\"view\":{\"id\":\"4894\"}},\"id\":\"4893\",\"type\":\"GlyphRenderer\"},{\"attributes\":{\"source\":{\"id\":\"4890\"}},\"id\":\"4894\",\"type\":\"CDSView\"},{\"attributes\":{},\"id\":\"4900\",\"type\":\"AllLabels\"},{\"attributes\":{},\"id\":\"4897\",\"type\":\"AllLabels\"},{\"attributes\":{\"text\":\"Distribution of budgetshare\"},\"id\":\"4860\",\"type\":\"Title\"},{\"attributes\":{\"bottom\":{\"value\":0},\"fill_alpha\":{\"value\":0.5},\"fill_color\":{\"value\":\"blue\"},\"left\":{\"field\":\"left\"},\"line_alpha\":{\"value\":0.5},\"line_color\":{\"value\":\"blue\"},\"right\":{\"field\":\"right\"},\"top\":{\"field\":\"top\"}},\"id\":\"4891\",\"type\":\"Quad\"},{\"attributes\":{\"bottom_units\":\"screen\",\"fill_alpha\":0.5,\"fill_color\":\"lightgrey\",\"left_units\":\"screen\",\"level\":\"overlay\",\"line_alpha\":1.0,\"line_color\":\"black\",\"line_dash\":[4,4],\"line_width\":2,\"right_units\":\"screen\",\"syncable\":false,\"top_units\":\"screen\"},\"id\":\"4883\",\"type\":\"BoxAnnotation\"},{\"attributes\":{},\"id\":\"4903\",\"type\":\"Selection\"},{\"attributes\":{\"end\":1,\"start\":0},\"id\":\"4862\",\"type\":\"DataRange1d\"},{\"attributes\":{},\"id\":\"4941\",\"type\":\"UnionRenderers\"},{\"attributes\":{},\"id\":\"4868\",\"type\":\"LinearScale\"},{\"attributes\":{},\"id\":\"4942\",\"type\":\"Selection\"},{\"attributes\":{},\"id\":\"4866\",\"type\":\"LinearScale\"},{\"attributes\":{},\"id\":\"4881\",\"type\":\"ResetTool\"},{\"attributes\":{},\"id\":\"4921\",\"type\":\"UnionRenderers\"},{\"attributes\":{\"axis_label\":\"\\u03b2\",\"formatter\":{\"id\":\"4899\"},\"major_label_policy\":{\"id\":\"4900\"},\"ticker\":{\"id\":\"4871\"}},\"id\":\"4870\",\"type\":\"LinearAxis\"},{\"attributes\":{},\"id\":\"4922\",\"type\":\"Selection\"},{\"attributes\":{},\"id\":\"4871\",\"type\":\"BasicTicker\"},{\"attributes\":{\"axis\":{\"id\":\"4870\"},\"ticker\":null},\"id\":\"4873\",\"type\":\"Grid\"},{\"attributes\":{},\"id\":\"4879\",\"type\":\"WheelZoomTool\"},{\"attributes\":{\"data\":{\"left\":{\"__ndarray__\":\"goPsTsrIvT9VOaKxRA3BP+owzjskNsM/fij6xQNfxT8SICZQ44fHP6cXUtrCsMk/Ow9+ZKLZyz/QBqrugQLOPzL/arywFdA//PqAgSAq0T/G9pZGkD7SP5DyrAsAU9M/Wu7C0G9n1D8l6tiV33vVP+/l7lpPkNY/uuEEIL+k1z+E3RrlLrnYP07ZMKqezdk/GNVGbw7i2j/i0Fw0fvbbP6zMcvntCt0/dsiIvl0f3j9AxJ6DzTPfPwVgWqQeJOA/6l3lhlau4D/QW3BpjjjhP7VZ+0vGwuE/mleGLv5M4j9/VRERNtfiP2RTnPNtYeM/SVEn1qXr4z8uT7K43XXkPxNNPZsVAOU/+ErIfU2K5T/dSFNghRTmP8JG3kK9nuY/p0RpJfUo5z+MQvQHLbPnP3JAf+pkPeg/Vz4KzZzH6D88PJWv1FHpPyE6IJIM3Ok/BjirdERm6j/rNTZXfPDqP9AzwTm0eus/tTFMHOwE7D+aL9f+I4/sP38tYuFbGe0/ZCvtw5Oj7T9KKXimyy3uPw==\",\"dtype\":\"float64\",\"order\":\"little\",\"shape\":[50]},\"right\":{\"__ndarray__\":\"VTmisUQNwT/qMM47JDbDP34o+sUDX8U/EiAmUOOHxz+nF1LawrDJPzsPfmSi2cs/0Aaq7oECzj8y/2q8sBXQP/z6gIEgKtE/xvaWRpA+0j+Q8qwLAFPTP1ruwtBvZ9Q/JerYld971T/v5e5aT5DWP7rhBCC/pNc/hN0a5S652D9O2TCqns3ZPxjVRm8O4to/4tBcNH722z+szHL57QrdP3bIiL5dH94/QMSeg80z3z8FYFqkHiTgP+pd5YZWruA/0FtwaY444T+1WftLxsLhP5pXhi7+TOI/f1URETbX4j9kU5zzbWHjP0lRJ9al6+M/Lk+yuN115D8TTT2bFQDlP/hKyH1NiuU/3UhTYIUU5j/CRt5CvZ7mP6dEaSX1KOc/jEL0By2z5z9yQH/qZD3oP1c+Cs2cx+g/PDyVr9RR6T8hOiCSDNzpPwY4q3REZuo/6zU2V3zw6j/QM8E5tHrrP7UxTBzsBOw/mi/X/iOP7D9/LWLhWxntP2Qr7cOTo+0/Sil4psst7j8uJwOJA7juPw==\",\"dtype\":\"float64\",\"order\":\"little\",\"shape\":[50]},\"top\":[3,3,3,13,21,35,43,56,95,128,131,186,246,284,368,438,552,650,755,840,962,1125,1189,1421,1515,1628,1776,1960,2048,2206,2227,2362,2380,2367,2447,2310,2289,2215,2030,1857,1699,1410,1196,939,689,460,248,136,46,13]},\"selected\":{\"id\":\"4903\"},\"selection_policy\":{\"id\":\"4902\"}},\"id\":\"4890\",\"type\":\"ColumnDataSource\"},{\"attributes\":{\"axis_label\":\"Observations\",\"formatter\":{\"id\":\"4896\"},\"major_label_policy\":{\"id\":\"4897\"},\"ticker\":{\"id\":\"4875\"}},\"id\":\"4874\",\"type\":\"LinearAxis\"},{\"attributes\":{\"axis\":{\"id\":\"4874\"},\"dimension\":1,\"ticker\":null},\"id\":\"4877\",\"type\":\"Grid\"},{\"attributes\":{},\"id\":\"4875\",\"type\":\"BasicTicker\"},{\"attributes\":{\"source\":{\"id\":\"4907\"}},\"id\":\"4911\",\"type\":\"CDSView\"},{\"attributes\":{\"active_multi\":null,\"tools\":[{\"id\":\"4878\"},{\"id\":\"4879\"},{\"id\":\"4880\"},{\"id\":\"4881\"},{\"id\":\"4882\"}]},\"id\":\"4884\",\"type\":\"Toolbar\"},{\"attributes\":{\"bottom\":{\"value\":0},\"fill_alpha\":{\"value\":0.1},\"fill_color\":{\"value\":\"blue\"},\"left\":{\"field\":\"left\"},\"line_alpha\":{\"value\":0.1},\"line_color\":{\"value\":\"blue\"},\"right\":{\"field\":\"right\"},\"top\":{\"field\":\"top\"}},\"id\":\"4892\",\"type\":\"Quad\"},{\"attributes\":{\"label\":{\"value\":\"Good 1\"},\"renderers\":[{\"id\":\"4893\"}]},\"id\":\"4906\",\"type\":\"LegendItem\"},{\"attributes\":{\"items\":[{\"id\":\"4906\"},{\"id\":\"4924\"},{\"id\":\"4944\"}]},\"id\":\"4905\",\"type\":\"Legend\"},{\"attributes\":{\"bottom\":{\"value\":0},\"fill_alpha\":{\"value\":0.5},\"fill_color\":{\"value\":\"green\"},\"left\":{\"field\":\"left\"},\"line_alpha\":{\"value\":0.5},\"line_color\":{\"value\":\"green\"},\"right\":{\"field\":\"right\"},\"top\":{\"field\":\"top\"}},\"id\":\"4908\",\"type\":\"Quad\"},{\"attributes\":{\"bottom\":{\"value\":0},\"fill_alpha\":{\"value\":0.5},\"fill_color\":{\"value\":\"red\"},\"left\":{\"field\":\"left\"},\"line_alpha\":{\"value\":0.5},\"line_color\":{\"value\":\"red\"},\"right\":{\"field\":\"right\"},\"top\":{\"field\":\"top\"}},\"id\":\"4926\",\"type\":\"Quad\"},{\"attributes\":{},\"id\":\"4878\",\"type\":\"PanTool\"},{\"attributes\":{\"overlay\":{\"id\":\"4883\"}},\"id\":\"4880\",\"type\":\"BoxZoomTool\"},{\"attributes\":{},\"id\":\"4882\",\"type\":\"SaveTool\"},{\"attributes\":{\"data\":{\"left\":{\"__ndarray__\":\"8RuMFYtNeT8sRNxzrAWRP1yBVSL2t5s/Rl9n6B81oz/e/aO/RI6oP3ac4JZp560/h50ON0egsT/T7Kyi2Uy0Px88Sw5s+bY/a4vpef6luT+32oflkFK8PwMqJlEj/74/qDxi3trVwD9OZDEUJCzCP/SLAEptgsM/mrPPf7bYxD9A2561/y7GP+YCbutIhcc/jCo9IZLbyD8yUgxX2zHKP9h524wkiMs/fqGqwm3ezD8kyXn4tjTOP8rwSC4Ai88/OAwMsqRw0D8LoPNMyRvRP94z2+ftxtE/scfCghJy0j+EW6odNx3TP1fvkbhbyNM/KoN5U4Bz1D/9FmHupB7VP9CqSInJydU/oz4wJO501j920he/EiDXP0lm/1k3y9c/HPrm9Ft22D/vjc6PgCHZP8IhtiqlzNk/lbWdxcl32j9oSYVg7iLbPzvdbPsSzts/DnFUljd53D/hBDwxXCTdP7SYI8yAz90/hywLZ6V63j9awPIByiXfPy1U2pzu0N8/APTgmwk+4D/qvVTpm5PgPw==\",\"dtype\":\"float64\",\"order\":\"little\",\"shape\":[50]},\"right\":{\"__ndarray__\":\"LETcc6wFkT9cgVUi9rebP0ZfZ+gfNaM/3v2jv0SOqD92nOCWaeetP4edDjdHoLE/0+ysotlMtD8fPEsObPm2P2uL6Xn+pbk/t9qH5ZBSvD8DKiZRI/++P6g8Yt7a1cA/TmQxFCQswj/0iwBKbYLDP5qzz3+22MQ/QNuetf8uxj/mAm7rSIXHP4wqPSGS28g/MlIMV9sxyj/YeduMJIjLP36hqsJt3sw/JMl5+LY0zj/K8EguAIvPPzgMDLKkcNA/C6DzTMkb0T/eM9vn7cbRP7HHwoISctI/hFuqHTcd0z9X75G4W8jTPyqDeVOAc9Q//RZh7qQe1T/QqkiJycnVP6M+MCTudNY/dtIXvxIg1z9JZv9ZN8vXPxz65vRbdtg/743Oj4Ah2T/CIbYqpczZP5W1ncXJd9o/aEmFYO4i2z873Wz7Es7bPw5xVJY3edw/4QQ8MVwk3T+0mCPMgM/dP4csC2elet4/WsDyAcol3z8tVNqc7tDfPwD04JsJPuA/6r1U6ZuT4D/Th8g2LungPw==\",\"dtype\":\"float64\",\"order\":\"little\",\"shape\":[50]},\"top\":[177,1140,2738,3992,4558,4775,4525,4237,3770,3171,2899,2523,2008,1711,1355,1258,946,771,643,491,439,365,282,222,185,166,122,104,86,58,53,43,39,35,22,21,13,11,10,13,4,4,1,3,5,1,3,1,0,1]},\"selected\":{\"id\":\"4942\"},\"selection_policy\":{\"id\":\"4941\"}},\"id\":\"4925\",\"type\":\"ColumnDataSource\"},{\"attributes\":{},\"id\":\"4896\",\"type\":\"BasicTickFormatter\"},{\"attributes\":{\"data\":{\"left\":{\"__ndarray__\":\"JiuivxiKlD+EKtbC0E2iP3Y/2yWVVqo/NCpwxKwvsT+stPL1DjS1PyY/dSdxOLk/nsn3WNM8vT8LKj3FmqDAP0hv/t3LosI/hLS/9vykxD/B+YAPLqfGP/0+Qihfqcg/OYQDQZCryj92ycRZwa3MP7IOhnLyr84/96mjxRFZ0D+VTARSKlrRPzPvZN5CW9I/0ZHFaltc0z9wNCb3c13UPw7XhoOMXtU/rHnnD6Vf1j9KHEicvWDXP+i+qCjWYdg/hmEJte5i2T8lBGpBB2TaP8Omys0fZds/YUkrWjhm3D//64vmUGfdP52O7HJpaN4/PDFN/4Fp3z/t6dZFTTXgPzw7B4zZteA/i4w30mU24T/a3WcY8rbhPykvmF5+N+I/eIDIpAq44j/H0fjqljjjPxcjKTEjueM/ZnRZd6855D+1xYm9O7rkPwQXugPIOuU/U2jqSVS75T+iuRqQ4DvmP/EKS9ZsvOY/QFx7HPk85z+Pratihb3nP97+26gRPug/LVAM752+6D99oTw1Kj/pPw==\",\"dtype\":\"float64\",\"order\":\"little\",\"shape\":[50]},\"right\":{\"__ndarray__\":\"hCrWwtBNoj92P9sllVaqPzQqcMSsL7E/rLTy9Q40tT8mP3UncTi5P57J91jTPL0/Cyo9xZqgwD9Ib/7dy6LCP4S0v/b8pMQ/wfmADy6nxj/9PkIoX6nIPzmEA0GQq8o/dsnEWcGtzD+yDoZy8q/OP/epo8URWdA/lUwEUipa0T8z72TeQlvSP9GRxWpbXNM/cDQm93Nd1D8O14aDjF7VP6x55w+lX9Y/ShxInL1g1z/ovqgo1mHYP4ZhCbXuYtk/JQRqQQdk2j/DpsrNH2XbP2FJK1o4Ztw//+uL5lBn3T+djuxyaWjePzwxTf+Bad8/7enWRU014D88OweM2bXgP4uMN9JlNuE/2t1nGPK24T8pL5hefjfiP3iAyKQKuOI/x9H46pY44z8XIykxI7njP2Z0WXevOeQ/tcWJvTu65D8EF7oDyDrlP1No6klUu+U/orkakOA75j/xCkvWbLzmP0Bcexz5POc/j62rYoW95z/e/tuoET7oPy1QDO+dvug/faE8NSo/6T/L8mx7tr/pPw==\",\"dtype\":\"float64\",\"order\":\"little\",\"shape\":[50]},\"top\":[33,192,456,915,1256,1696,2027,2281,2501,2663,2717,2761,2681,2627,2580,2453,2253,2109,1878,1761,1599,1489,1324,1140,995,889,774,636,601,503,404,344,301,214,197,167,141,113,76,68,53,41,34,19,14,14,5,2,2,1]},\"selected\":{\"id\":\"4922\"},\"selection_policy\":{\"id\":\"4921\"}},\"id\":\"4907\",\"type\":\"ColumnDataSource\"},{\"attributes\":{\"bottom\":{\"value\":0},\"fill_alpha\":{\"value\":0.1},\"fill_color\":{\"value\":\"red\"},\"left\":{\"field\":\"left\"},\"line_alpha\":{\"value\":0.1},\"line_color\":{\"value\":\"red\"},\"right\":{\"field\":\"right\"},\"top\":{\"field\":\"top\"}},\"id\":\"4927\",\"type\":\"Quad\"},{\"attributes\":{\"data_source\":{\"id\":\"4925\"},\"glyph\":{\"id\":\"4926\"},\"hover_glyph\":null,\"muted_glyph\":null,\"nonselection_glyph\":{\"id\":\"4927\"},\"view\":{\"id\":\"4929\"}},\"id\":\"4928\",\"type\":\"GlyphRenderer\"},{\"attributes\":{\"bottom\":{\"value\":0},\"fill_alpha\":{\"value\":0.1},\"fill_color\":{\"value\":\"green\"},\"left\":{\"field\":\"left\"},\"line_alpha\":{\"value\":0.1},\"line_color\":{\"value\":\"green\"},\"right\":{\"field\":\"right\"},\"top\":{\"field\":\"top\"}},\"id\":\"4909\",\"type\":\"Quad\"},{\"attributes\":{\"label\":{\"value\":\"Good 3\"},\"renderers\":[{\"id\":\"4928\"}]},\"id\":\"4944\",\"type\":\"LegendItem\"},{\"attributes\":{\"data_source\":{\"id\":\"4907\"},\"glyph\":{\"id\":\"4908\"},\"hover_glyph\":null,\"muted_glyph\":null,\"nonselection_glyph\":{\"id\":\"4909\"},\"view\":{\"id\":\"4911\"}},\"id\":\"4910\",\"type\":\"GlyphRenderer\"},{\"attributes\":{\"source\":{\"id\":\"4925\"}},\"id\":\"4929\",\"type\":\"CDSView\"},{\"attributes\":{\"label\":{\"value\":\"Good 2\"},\"renderers\":[{\"id\":\"4910\"}]},\"id\":\"4924\",\"type\":\"LegendItem\"},{\"attributes\":{},\"id\":\"4902\",\"type\":\"UnionRenderers\"}],\"root_ids\":[\"4859\"]},\"title\":\"Bokeh Application\",\"version\":\"2.3.2\"}};\n",
       "  var render_items = [{\"docid\":\"df523796-4163-4f08-887d-a2b66e1ceb2c\",\"notebook_comms_target\":\"5155\",\"root_ids\":[\"4859\"],\"roots\":{\"4859\":\"fbc6e11b-93ec-4d64-884b-bae52d9b07ce\"}}];\n",
       "  root.Bokeh.embed.embed_items_notebook(docs_json, render_items);\n",
       "\n",
       "  }\n",
       "  if (root.Bokeh !== undefined) {\n",
       "    embed_document(root);\n",
       "  } else {\n",
       "    var attempts = 0;\n",
       "    var timer = setInterval(function(root) {\n",
       "      if (root.Bokeh !== undefined) {\n",
       "        clearInterval(timer);\n",
       "        embed_document(root);\n",
       "      } else {\n",
       "        attempts++;\n",
       "        if (attempts > 100) {\n",
       "          clearInterval(timer);\n",
       "          console.log(\"Bokeh: ERROR: Unable to run BokehJS code because BokehJS library is missing\");\n",
       "        }\n",
       "      }\n",
       "    }, 10, root)\n",
       "  }\n",
       "})(window);"
      ],
      "application/vnd.bokehjs_exec.v0+json": ""
     },
     "metadata": {
      "application/vnd.bokehjs_exec.v0+json": {
       "id": "4859"
      }
     },
     "output_type": "display_data"
    },
    {
     "data": {
      "text/html": [
       "<p><code>&lt;Bokeh Notebook handle for <strong>In[75]</strong>&gt;</code></p>"
      ],
      "text/plain": [
       "<bokeh.io.notebook.CommsHandle at 0x1cc35b7ff70>"
      ]
     },
     "execution_count": 75,
     "metadata": {},
     "output_type": "execute_result"
    }
   ],
   "source": [
    "#preparing data for histogram\n",
    "hist1, edges1 = np.histogram(betas[:,0], bins=50)\n",
    "hist2, edges2 = np.histogram(betas[:,1], bins=50)\n",
    "hist3, edges3 = np.histogram(betas[:,2], bins=50)\n",
    "colors = ['blue','green','red']\n",
    "names =['Good 1','Good 2','Good 3']\n",
    "\n",
    "#plotting\n",
    "p = Functions.plot_hist([hist1,hist2,hist3], [edges1,edges2,edges3],\n",
    "              line_colors= colors, fill_colors = colors,\n",
    "             alpha = 0.5,plot_range=[0,1],names=names,x_label='\\u03B2',\n",
    "            y_label='Observations',title='Distribution of budgetshare')\n",
    "show(p,notebook_handle=True)"
   ]
  },
  {
   "cell_type": "markdown",
   "metadata": {},
   "source": [
    "**Question 2:** Plot the excess demand functions."
   ]
  },
  {
   "cell_type": "code",
   "execution_count": 76,
   "metadata": {},
   "outputs": [],
   "source": [
    "def income(p1,p2,p3,e1,e2,e3):\n",
    "    I = p1*e1+p2*e2+p3*e3\n",
    "    return I \n",
    "\n",
    "def demand_func(p1,p2,p3,e1,e2,e3,beta,good):\n",
    "    '''\n",
    "    Calculates the demand of a given good for a comsumer\n",
    "    using the analytical solution\n",
    "    \n",
    "    Args:\n",
    "        p1,p2,p3 (floats): Prices the consumer is faced with\n",
    "        e1,e2,e3 (floats): Endowments of the consumer\n",
    "        beta (float)     : Share of budget that the consumer wishes to spend on the good\n",
    "        good (int)       : Either 1,2 or 3, indicating which good we are looking at\n",
    "        \n",
    "    Returns:\n",
    "        demand (float)   : Amount of the good that the consumer wishes to consume given constraints\n",
    "    \n",
    "    '''\n",
    "    I = income(p1,p2,p3,e1,e2,e3)\n",
    "    if good==1:\n",
    "        demand = beta*I/p1\n",
    "    elif good==2:\n",
    "        demand = beta*I/p2\n",
    "    elif good==3:\n",
    "        demand = beta*I/p3\n",
    "    else:\n",
    "        print('Error, we only have three goods')\n",
    "        \n",
    "    return demand\n",
    "\n",
    "def excess_demand_good_func(p1,p2,p3,e1s,e2s,e3s,betas,good):\n",
    "    '''\n",
    "    Calculates the total excess demand in the market for a given good.\n",
    "    \n",
    "    Args:\n",
    "        p1,p2,p3 (floats)     : Prices the consumers are faced with\n",
    "        e1s,e2s,e3s (arrays)  : Endowments of all consumers for each good\n",
    "        betas (array)         : Shares of budget that the consumers wishes to spend on each good\n",
    "        good (int)            : Either 1,2 or 3, indicating which good we are looking at\n",
    "        \n",
    "    Returns:\n",
    "        Excees_demand (float) : The excess demand in the market for the good given the prices.\n",
    "    \n",
    "    '''\n",
    "    \n",
    "    beta = betas[:,good-1]\n",
    "    \n",
    "    \n",
    "    demand = np.sum(demand_func(p1,p2,p3,e1s,e2s,e3s,beta,good=good))\n",
    "    \n",
    "    \n",
    "    if good==1:\n",
    "        supply = np.sum(e1s)\n",
    "    elif good==2:\n",
    "        supply = np.sum(e2s)\n",
    "    else:\n",
    "        supply = np.sum(e3s)\n",
    "    \n",
    "    \n",
    "    excess_demand = demand-supply\n",
    "    \n",
    "    return excess_demand"
   ]
  },
  {
   "cell_type": "code",
   "execution_count": 77,
   "metadata": {},
   "outputs": [],
   "source": [
    "precision  = 60\n",
    "# Setting p3 numeria \n",
    "p3 = 1\n",
    "p1_space = np.linspace(2,7,precision)\n",
    "p2_space = np.linspace(2,7,precision)\n",
    "p1s,p2s = np.meshgrid(p1_space,p2_space,indexing='ij')\n",
    "excess_demands = [np.empty((precision,precision)),np.empty((precision,precision)),np.empty((precision,precision))]"
   ]
  },
  {
   "cell_type": "code",
   "execution_count": 78,
   "metadata": {},
   "outputs": [],
   "source": [
    "for k in range(3):\n",
    "    for i in range(precision):\n",
    "        for j in range(precision):\n",
    "            excess_demands[k][i,j]=excess_demand_good_func(p1s[i,j],p2s[i,j],p3,e1s,e2s,e3s,betas,good=(k+1))"
   ]
  },
  {
   "cell_type": "code",
   "execution_count": 79,
   "metadata": {},
   "outputs": [
    {
     "data": {
      "application/vnd.jupyter.widget-view+json": {
       "model_id": "ea048ad95b3a405abf3c416e4873ebd8",
       "version_major": 2,
       "version_minor": 0
      },
      "text/plain": [
       "Canvas(toolbar=Toolbar(toolitems=[('Home', 'Reset original view', 'home', 'home'), ('Back', 'Back to previous …"
      ]
     },
     "metadata": {},
     "output_type": "display_data"
    },
    {
     "data": {
      "text/plain": [
       "Text(0.5, 0, 'Excess demand of good 1')"
      ]
     },
     "execution_count": 79,
     "metadata": {},
     "output_type": "execute_result"
    }
   ],
   "source": [
    "%matplotlib widget\n",
    "fig = plt.figure(figsize = (15,5))\n",
    "ax = fig.add_subplot(1,1,1,projection='3d') \n",
    "ax.plot_surface(p1s,p2s,excess_demands[0],cmap=cm.jet)\n",
    "ax.set_xlabel('p1')\n",
    "ax.set_ylabel('p2')\n",
    "ax.set_zlabel('Excess demand of good 1')"
   ]
  },
  {
   "cell_type": "code",
   "execution_count": 80,
   "metadata": {},
   "outputs": [
    {
     "data": {
      "application/vnd.jupyter.widget-view+json": {
       "model_id": "41a0bd5df15241138d46dafa8ebb1249",
       "version_major": 2,
       "version_minor": 0
      },
      "text/plain": [
       "Canvas(toolbar=Toolbar(toolitems=[('Home', 'Reset original view', 'home', 'home'), ('Back', 'Back to previous …"
      ]
     },
     "metadata": {},
     "output_type": "display_data"
    }
   ],
   "source": [
    "fig = plt.figure(figsize = (15,5))\n",
    "ax = fig.add_subplot(1,1,1,projection='3d') \n",
    "ax.plot_surface(p1s,p2s,excess_demands[1],alpha=1,cmap=cm.jet)\n",
    "ax.set_xlabel('p1')\n",
    "ax.set_ylabel('p2')\n",
    "ax.set_zlabel('Excess demand of good 2')\n",
    "ax.invert_yaxis()"
   ]
  },
  {
   "cell_type": "code",
   "execution_count": 81,
   "metadata": {},
   "outputs": [
    {
     "data": {
      "application/vnd.jupyter.widget-view+json": {
       "model_id": "da26544680284f239dc9f417450a8237",
       "version_major": 2,
       "version_minor": 0
      },
      "text/plain": [
       "Canvas(toolbar=Toolbar(toolitems=[('Home', 'Reset original view', 'home', 'home'), ('Back', 'Back to previous …"
      ]
     },
     "metadata": {},
     "output_type": "display_data"
    },
    {
     "data": {
      "text/plain": [
       "Text(0.5, 0, 'Excess demand of good 3')"
      ]
     },
     "execution_count": 81,
     "metadata": {},
     "output_type": "execute_result"
    }
   ],
   "source": [
    "fig = plt.figure(figsize = (15,5))\n",
    "ax = fig.add_subplot(1,1,1,projection='3d') \n",
    "\n",
    "ax.plot_surface(p1s,p2s,excess_demands[2],alpha=1,cmap=cm.jet)\n",
    "ax.set_xlabel('p1')\n",
    "ax.set_ylabel('p2')\n",
    "ax.set_zlabel('Excess demand of good 3')"
   ]
  },
  {
   "cell_type": "code",
   "execution_count": 82,
   "metadata": {},
   "outputs": [],
   "source": [
    "%matplotlib inline"
   ]
  },
  {
   "cell_type": "markdown",
   "metadata": {},
   "source": [
    "**Question 3:** Find the Walras-equilibrium prices, $(p_1,p_2)$, where both excess demands are (approximately) zero, e.g. by using the following tâtonnement process:\n",
    "\n",
    "1. Guess on $p_1 > 0$, $p_2 > 0$ and choose tolerance $\\epsilon > 0$ and adjustment aggressivity parameter, $\\kappa > 0$.\n",
    "2. Calculate $z_1(p_1,p_2)$ and $z_2(p_1,p_2)$.\n",
    "3. If $|z_1| < \\epsilon$ and $|z_2| < \\epsilon$ then stop.\n",
    "4. Else set $p_1 = p_1 + \\kappa \\frac{z_1}{N}$ and $p_2 = p_2 + \\kappa \\frac{z_2}{N}$ and return to step 2."
   ]
  },
  {
   "cell_type": "code",
   "execution_count": 83,
   "metadata": {},
   "outputs": [],
   "source": [
    "def find_equilibrium(p1, p2, p3, e1s, e2s, e3s, betas, kappa=0.5, eps=0.1, maxiter=5000):\n",
    "    '''\n",
    "    Finds the Walras eqilibrium prices, which clears the markets for good 1 and 2, \n",
    "    implictly also clearing the market for good 3 \n",
    "    \n",
    "    Args:\n",
    "        p1,p2,p3 (floats)     : Prices the consumers are faced with\n",
    "        e1s,e2s,e3s (arrays)  : Endowments of all consumers for each good\n",
    "        betas (array)         : Shares of budget that the consumers wishes to spend on each good\n",
    "        kappa (float)         : Aggressivity parameter\n",
    "        epsilon (float)       : Tolerance\n",
    "        maxiter (int)         : Maximum number of iterations to calculate\n",
    "        \n",
    "    Returns:\n",
    "        p1,p2 (floats)        : Walras eqiulibrium prices\n",
    "    \n",
    "    '''\n",
    "    \n",
    "    \n",
    "    t = 0\n",
    "    while True: \n",
    "        Z1 = excess_demand_good_func(p1,p2,p3,e1s,e2s,e3s, betas, 1)\n",
    "        Z2 = excess_demand_good_func(p1,p2,p3,e1s,e2s,e3s, betas, 2)\n",
    "        \n",
    "        \n",
    "        if (np.abs(Z1) < eps and np.abs(Z2)<eps) or t >= maxiter:\n",
    "            print(f'Step {t:3d}:')\n",
    "            print(f'p1 = {p1:12.8f} -> excess demand 1 -> {Z1:14.8f}')\n",
    "            print(f'p2 = {p2:12.8f} -> excess demand 2 -> {Z2:14.8f}')\n",
    "            Z3 = excess_demand_good_func(p1,p2,p3,e1s,e2s,e3s, betas, 3)\n",
    "            print(f'Also --------------> excess demand 3 -> {Z3:14.8f}')\n",
    "            break\n",
    "\n",
    "        p1 = p1 + kappa*Z1/N\n",
    "        p2 = p2 + kappa*Z2/N         \n",
    "        if t < 5 or t%2500 == 0:\n",
    "            print(f'Step {t:3d}:')      \n",
    "            print(f'p1 = {p1:12.8f} -> excess demand 1-> {Z1:14.8f}')\n",
    "            print(f'p2 = {p2:12.8f} -> excess demand 2-> {Z2:14.8f}')\n",
    "                   \n",
    "        elif t == 5:\n",
    "            print(\"  ...\")\n",
    "        t += 1\n",
    "    return p1, p2\n"
   ]
  },
  {
   "cell_type": "code",
   "execution_count": 84,
   "metadata": {},
   "outputs": [
    {
     "name": "stdout",
     "output_type": "stream",
     "text": [
      "Step   0:\n",
      "p1 =   1.09260612 -> excess demand 1-> 46303.06210182\n",
      "p2 =   0.97796409 -> excess demand 2-> -11017.95327569\n",
      "Step   1:\n",
      "p1 =   1.17305159 -> excess demand 1-> 40222.73067623\n",
      "p2 =   0.95953050 -> excess demand 2-> -9216.79648110\n",
      "Step   2:\n",
      "p1 =   1.24453025 -> excess demand 1-> 35739.33136121\n",
      "p2 =   0.94431730 -> excess demand 2-> -7606.59981301\n",
      "Step   3:\n",
      "p1 =   1.30907401 -> excess demand 1-> 32271.87934840\n",
      "p2 =   0.93199522 -> excess demand 2-> -6161.04112688\n",
      "Step   4:\n",
      "p1 =   1.36807540 -> excess demand 1-> 29500.69778865\n",
      "p2 =   0.92226760 -> excess demand 2-> -4863.80959762\n",
      "  ...\n",
      "Step 2500:\n",
      "p1 =   6.46564122 -> excess demand 1->    22.41209085\n",
      "p2 =   2.60758603 -> excess demand 2->     8.36130845\n",
      "Step 5000:\n",
      "p1 =   6.48980287 -> excess demand 1->     0.23073526\n",
      "p2 =   2.61659989 -> excess demand 2->     0.08607759\n",
      "Step 7500:\n",
      "p1 =   6.49005253 -> excess demand 1->     0.00239291\n",
      "p2 =   2.61669302 -> excess demand 2->     0.00089269\n",
      "Step 10000:\n",
      "p1 =   6.49005512 -> excess demand 1->     0.00002482\n",
      "p2 =   2.61669399 -> excess demand 2->     0.00000926\n",
      "Step 11758:\n",
      "p1 =   6.49005514 -> excess demand 1 ->     0.00000100\n",
      "p2 =   2.61669400 -> excess demand 2 ->     0.00000037\n",
      "Also --------------> excess demand 3 ->    -0.00000746\n"
     ]
    }
   ],
   "source": [
    "kappa = 0.1\n",
    "eps = 0.000001\n",
    "maxiter = 50000\n",
    "p3 = 1\n",
    "p2 =1\n",
    "p1 = 1\n",
    "p1,p2 = find_equilibrium(p1, p2, p3, e1s, e2s, e3s,betas, kappa=kappa, eps=eps, maxiter=maxiter)"
   ]
  },
  {
   "cell_type": "markdown",
   "metadata": {},
   "source": [
    "Now we wish to plot our optimal prices with the excess demands for all goods"
   ]
  },
  {
   "cell_type": "code",
   "execution_count": 85,
   "metadata": {},
   "outputs": [],
   "source": [
    "precision  = 60\n",
    "p3 = 1\n",
    "p1_space = np.linspace(6,7,precision)\n",
    "p2_space = np.linspace(2,3,precision)\n",
    "p1s,p2s = np.meshgrid(p1_space,p2_space,indexing='ij')\n",
    "excess_demands = [np.empty((precision,precision)),np.empty((precision,precision)),np.empty((precision,precision))]"
   ]
  },
  {
   "cell_type": "code",
   "execution_count": 86,
   "metadata": {},
   "outputs": [],
   "source": [
    "for k in range(3):\n",
    "    for i in range(precision):\n",
    "        for j in range(precision):\n",
    "            excess_demands[k][i,j]=excess_demand_good_func(p1s[i,j],p2s[i,j],p3,e1s,e2s,e3s,betas,good=(k+1))"
   ]
  },
  {
   "cell_type": "code",
   "execution_count": 87,
   "metadata": {},
   "outputs": [
    {
     "data": {
      "application/vnd.jupyter.widget-view+json": {
       "model_id": "c218bde537d64e11a60dff4d3076caf7",
       "version_major": 2,
       "version_minor": 0
      },
      "text/plain": [
       "Canvas(toolbar=Toolbar(toolitems=[('Home', 'Reset original view', 'home', 'home'), ('Back', 'Back to previous …"
      ]
     },
     "metadata": {},
     "output_type": "display_data"
    }
   ],
   "source": [
    "%matplotlib widget\n",
    "fig = plt.figure(figsize = (15,5))\n",
    "ax = fig.add_subplot(1,1,1,projection='3d') \n",
    "ax.plot_surface(p1s,p2s,excess_demands[0],alpha=0.8)\n",
    "ax.plot_surface(p1s,p2s,excess_demands[1],alpha=0.8)\n",
    "ax.plot_surface(p1s,p2s,excess_demands[2],alpha=0.8,cmap='Purples')\n",
    "p1_vec= [p1 for i in range(20000)]\n",
    "p2_vec = [p2 for i in range(20000)]\n",
    "z = np.linspace(-2500,12000,20000)\n",
    "ax.plot(p1_vec,p2_vec,z,color='red',linewidth=3)\n",
    "ax.set_xlabel('p1')\n",
    "ax.set_ylabel('p2')\n",
    "ax.set_zlabel('Excess demand')\n",
    "ax.invert_xaxis()\n",
    "\n",
    "\n",
    "labels = [mpatches.Patch(color='blue',label='Good 1')]\n",
    "labels.append(mpatches.Patch(color='green',label='Good 2'))\n",
    "labels.append(mpatches.Patch(color='purple',label='Good 3'))\n",
    "labels.append(mpatches.Patch(color='red',label='Walras equilibrium prices'))\n",
    "\n",
    "ax.legend(handles=labels,loc='upper left',prop={'size':10})\n",
    "\n",
    "\n",
    "#Set initial view:\n",
    "ax.view_init(elev=10, azim=-30)"
   ]
  },
  {
   "cell_type": "code",
   "execution_count": 88,
   "metadata": {},
   "outputs": [],
   "source": [
    "%matplotlib inline"
   ]
  },
  {
   "cell_type": "markdown",
   "metadata": {},
   "source": [
    "**Question 4:** Plot the distribution of utility in the Walras-equilibrium and calculate its mean and variance."
   ]
  },
  {
   "cell_type": "code",
   "execution_count": 89,
   "metadata": {},
   "outputs": [],
   "source": [
    "x1s = demand_func(p1,p2,p3,e1s,e2s,e3s,betas[:,0],1)\n",
    "x2s = demand_func(p1,p2,p3,e1s,e2s,e3s,betas[:,1],2)\n",
    "x3s = demand_func(p1,p2,p3,e1s,e2s,e3s,betas[:,2],3)\n",
    "\n",
    "betas[:,1]\n",
    "\n",
    "\n",
    "def utility(x1,x2,x3,beta1,beta2,beta3, gamma):\n",
    "    utility = (x1**beta1*x2**beta2*x3**beta3)**gamma\n",
    "    return utility\n",
    "\n",
    "utilitys = []\n",
    "for i in range(N):\n",
    "    utilitys.append(utility(x1s[i],x2s[i],x3s[i],betas[i,0],betas[i,1],betas[i,2], gamma))"
   ]
  },
  {
   "cell_type": "code",
   "execution_count": 90,
   "metadata": {},
   "outputs": [
    {
     "name": "stderr",
     "output_type": "stream",
     "text": [
      "BokehDeprecationWarning: 'legend' keyword is deprecated, use explicit 'legend_label', 'legend_field', or 'legend_group' keywords instead\n"
     ]
    },
    {
     "data": {
      "text/html": [
       "\n",
       "\n",
       "\n",
       "\n",
       "\n",
       "\n",
       "  <div class=\"bk-root\" id=\"99da7b6b-4ee3-4d66-914f-e7d59f05bdf1\" data-root-id=\"5226\"></div>\n"
      ]
     },
     "metadata": {},
     "output_type": "display_data"
    },
    {
     "data": {
      "application/javascript": [
       "(function(root) {\n",
       "  function embed_document(root) {\n",
       "    \n",
       "  var docs_json = {\"b5b79715-5a6f-4691-b58c-5089f60b2fea\":{\"defs\":[],\"roots\":{\"references\":[{\"attributes\":{\"below\":[{\"id\":\"5237\"}],\"center\":[{\"id\":\"5240\"},{\"id\":\"5244\"},{\"id\":\"5272\"},{\"id\":\"5274\"},{\"id\":\"5275\"}],\"height\":500,\"left\":[{\"id\":\"5241\"}],\"renderers\":[{\"id\":\"5260\"}],\"title\":{\"id\":\"5227\"},\"toolbar\":{\"id\":\"5251\"},\"width\":500,\"x_range\":{\"id\":\"5229\"},\"x_scale\":{\"id\":\"5233\"},\"y_range\":{\"id\":\"5231\"},\"y_scale\":{\"id\":\"5235\"}},\"id\":\"5226\",\"subtype\":\"Figure\",\"type\":\"Plot\"},{\"attributes\":{},\"id\":\"5266\",\"type\":\"BasicTickFormatter\"},{\"attributes\":{},\"id\":\"5267\",\"type\":\"AllLabels\"},{\"attributes\":{\"axis\":{\"id\":\"5237\"},\"ticker\":null},\"id\":\"5240\",\"type\":\"Grid\"},{\"attributes\":{\"bottom_units\":\"screen\",\"fill_alpha\":0.5,\"fill_color\":\"lightgrey\",\"left_units\":\"screen\",\"level\":\"overlay\",\"line_alpha\":1.0,\"line_color\":\"black\",\"line_dash\":[4,4],\"line_width\":2,\"right_units\":\"screen\",\"syncable\":false,\"top_units\":\"screen\"},\"id\":\"5250\",\"type\":\"BoxAnnotation\"},{\"attributes\":{\"end\":4,\"start\":0},\"id\":\"5229\",\"type\":\"DataRange1d\"},{\"attributes\":{},\"id\":\"5269\",\"type\":\"UnionRenderers\"},{\"attributes\":{},\"id\":\"5270\",\"type\":\"Selection\"},{\"attributes\":{},\"id\":\"5248\",\"type\":\"ResetTool\"},{\"attributes\":{\"bottom\":{\"value\":0},\"fill_alpha\":{\"value\":0.1},\"fill_color\":{\"value\":\"blue\"},\"left\":{\"field\":\"left\"},\"line_alpha\":{\"value\":0.1},\"line_color\":{\"value\":\"purple\"},\"right\":{\"field\":\"right\"},\"top\":{\"field\":\"top\"}},\"id\":\"5259\",\"type\":\"Quad\"},{\"attributes\":{\"axis_label\":\"Observations\",\"formatter\":{\"id\":\"5263\"},\"major_label_policy\":{\"id\":\"5264\"},\"ticker\":{\"id\":\"5242\"}},\"id\":\"5241\",\"type\":\"LinearAxis\"},{\"attributes\":{},\"id\":\"5245\",\"type\":\"PanTool\"},{\"attributes\":{},\"id\":\"5233\",\"type\":\"LinearScale\"},{\"attributes\":{\"overlay\":{\"id\":\"5250\"}},\"id\":\"5247\",\"type\":\"BoxZoomTool\"},{\"attributes\":{},\"id\":\"5238\",\"type\":\"BasicTicker\"},{\"attributes\":{},\"id\":\"5235\",\"type\":\"LinearScale\"},{\"attributes\":{\"axis_label\":\"Utility\",\"formatter\":{\"id\":\"5266\"},\"major_label_policy\":{\"id\":\"5267\"},\"ticker\":{\"id\":\"5238\"}},\"id\":\"5237\",\"type\":\"LinearAxis\"},{\"attributes\":{},\"id\":\"5242\",\"type\":\"BasicTicker\"},{\"attributes\":{},\"id\":\"5249\",\"type\":\"SaveTool\"},{\"attributes\":{\"label\":{\"value\":\"\"},\"renderers\":[{\"id\":\"5260\"}]},\"id\":\"5273\",\"type\":\"LegendItem\"},{\"attributes\":{},\"id\":\"5263\",\"type\":\"BasicTickFormatter\"},{\"attributes\":{\"source\":{\"id\":\"5257\"}},\"id\":\"5261\",\"type\":\"CDSView\"},{\"attributes\":{\"start\":0},\"id\":\"5231\",\"type\":\"DataRange1d\"},{\"attributes\":{\"data_source\":{\"id\":\"5257\"},\"glyph\":{\"id\":\"5258\"},\"hover_glyph\":null,\"muted_glyph\":null,\"nonselection_glyph\":{\"id\":\"5259\"},\"view\":{\"id\":\"5261\"}},\"id\":\"5260\",\"type\":\"GlyphRenderer\"},{\"attributes\":{\"bottom\":{\"value\":0},\"fill_alpha\":{\"value\":0.5},\"fill_color\":{\"value\":\"blue\"},\"left\":{\"field\":\"left\"},\"line_alpha\":{\"value\":0.5},\"line_color\":{\"value\":\"purple\"},\"right\":{\"field\":\"right\"},\"top\":{\"field\":\"top\"}},\"id\":\"5258\",\"type\":\"Quad\"},{\"attributes\":{\"items\":[{\"id\":\"5273\"}]},\"id\":\"5272\",\"type\":\"Legend\"},{\"attributes\":{\"axis\":{\"id\":\"5241\"},\"dimension\":1,\"ticker\":null},\"id\":\"5244\",\"type\":\"Grid\"},{\"attributes\":{},\"id\":\"5246\",\"type\":\"WheelZoomTool\"},{\"attributes\":{\"active_multi\":null,\"tools\":[{\"id\":\"5245\"},{\"id\":\"5246\"},{\"id\":\"5247\"},{\"id\":\"5248\"},{\"id\":\"5249\"}]},\"id\":\"5251\",\"type\":\"Toolbar\"},{\"attributes\":{\"text\":\"Variance  = 0.317\",\"text_font_size\":\"10pt\",\"x\":290,\"x_units\":\"screen\",\"y\":355,\"y_units\":\"screen\"},\"id\":\"5275\",\"type\":\"Label\"},{\"attributes\":{\"data\":{\"left\":{\"__ndarray__\":\"URQZAH0hlT9xX77/qPexP855dr/ypr4/FkqXPx6rxT9EV3MfwwLMPzmyp/8zLdE/0biVbwZZ1D9ov4Pf2ITXP//FcU+rsNo/lsxfv33c3T+X6aYXKITgP+PsnU8RGuI/L/CUh/qv4z9684u/40XlP8b2gvfM2+Y/Efp5L7Zx6D9d/XBnnwfqP6kAaJ+Ines/9ANf13Ez7T9AB1YPW8nuP0WFpiOiL/A/6waiv5b68D+RiJ1bi8XxPzcKmfd/kPI/3YuUk3Rb8z+CDZAvaSb0PyiPi8td8fQ/zhCHZ1K89T90koIDR4f2PxoUfp87Uvc/v5V5OzAd+D9lF3XXJOj4PwuZcHMZs/k/sRpsDw5++j9XnGerAkn7P/wdY0f3E/w/op9e4+ve/D9IIVp/4Kn9P+6iVRvVdP4/lCRRt8k//z8dU6YpXwUAQPATpHfZagBAw9ShxVPQAECWlZ8TzjUBQGlWnWFImwFAPBebr8IAAkAP2Jj9PGYCQOKYlku3ywJAtVmUmTExA0CHGpLnq5YDQFrbjzUm/ANALZyNg6BhBEAAXYvRGscEQNMdiR+VLAVApt6GbQ+SBUB5n4S7ifcFQExgggkEXQZAHyGAV37CBkDy4X2l+CcHQMSie/NyjQdAl2N5Qe3yB0BqJHePZ1gIQD3ldN3hvQhAEKZyK1wjCUDjZnB51ogJQLYnbsdQ7glAiehrFctTCkBcqWljRbkKQC9qZ7G/HgtAAitl/zmEC0DU62JNtOkLQKesYJsuTwxAem1e6ai0DEBNLlw3IxoNQCDvWYWdfw1A869X0xflDUDGcFUhkkoOQJkxU28MsA5AbPJQvYYVD0A/s04LAXsPQBF0TFl74A9Achql0/oiEEDb+qP6t1UQQEXboiF1iBBArruhSDK7EEAYnKBv7+0QQIF8n5asIBFA6lyevWlTEUBUPZ3kJoYRQL0dnAvkuBFAJ/6aMqHrEUCQ3plZXh4SQPq+mIAbURJAY5+Xp9iDEkDNf5bOlbYSQDZglfVS6RJAoECUHBAcE0AJIZNDzU4TQHIBkmqKgRNA3OGQkUe0E0A=\",\"dtype\":\"float64\",\"order\":\"little\",\"shape\":[100]},\"right\":{\"__ndarray__\":\"cV++/6j3sT/OeXa/8qa+PxZKlz8eq8U/RFdzH8MCzD85sqf/My3RP9G4lW8GWdQ/aL+D39iE1z//xXFPq7DaP5bMX7993N0/l+mmFyiE4D/j7J1PERriPy/wlIf6r+M/evOLv+NF5T/G9oL3zNvmPxH6eS+2ceg/Xf1wZ58H6j+pAGifiJ3rP/QDX9dxM+0/QAdWD1vJ7j9FhaYjoi/wP+sGor+W+vA/kYidW4vF8T83Cpn3f5DyP92LlJN0W/M/gg2QL2km9D8oj4vLXfH0P84Qh2dSvPU/dJKCA0eH9j8aFH6fO1L3P7+VeTswHfg/ZRd11yTo+D8LmXBzGbP5P7EabA8Ofvo/V5xnqwJJ+z/8HWNH9xP8P6KfXuPr3vw/SCFaf+Cp/T/uolUb1XT+P5QkUbfJP/8/HVOmKV8FAEDwE6R32WoAQMPUocVT0ABAlpWfE841AUBpVp1hSJsBQDwXm6/CAAJAD9iY/TxmAkDimJZLt8sCQLVZlJkxMQNAhxqS56uWA0Ba2481JvwDQC2cjYOgYQRAAF2L0RrHBEDTHYkflSwFQKbehm0PkgVAeZ+Eu4n3BUBMYIIJBF0GQB8hgFd+wgZA8uF9pfgnB0DEonvzco0HQJdjeUHt8gdAaiR3j2dYCEA95XTd4b0IQBCmcitcIwlA42ZwedaICUC2J27HUO4JQInoaxXLUwpAXKlpY0W5CkAvamexvx4LQAIrZf85hAtA1OtiTbTpC0CnrGCbLk8MQHptXumotAxATS5cNyMaDUAg71mFnX8NQPOvV9MX5Q1AxnBVIZJKDkCZMVNvDLAOQGzyUL2GFQ9AP7NOCwF7D0ARdExZe+APQHIapdP6IhBA2/qj+rdVEEBF26IhdYgQQK67oUgyuxBAGJygb+/tEECBfJ+WrCARQOpcnr1pUxFAVD2d5CaGEUC9HZwL5LgRQCf+mjKh6xFAkN6ZWV4eEkD6vpiAG1ESQGOfl6fYgxJAzX+WzpW2EkA2YJX1UukSQKBAlBwQHBNACSGTQ81OE0ByAZJqioETQNzhkJFHtBNARcKPuATnE0A=\",\"dtype\":\"float64\",\"order\":\"little\",\"shape\":[100]},\"top\":[17,90,246,450,746,1045,1275,1582,1749,1948,2006,2056,2081,2087,2048,2055,2098,1962,1909,1764,1652,1522,1445,1430,1309,1118,1103,1018,906,852,809,747,650,581,527,533,457,402,352,307,301,272,269,213,206,212,163,173,139,116,114,112,88,62,69,47,54,53,43,33,37,40,29,23,25,28,20,14,16,12,13,7,3,4,6,8,5,6,3,3,2,2,2,1,2,3,3,0,0,5,0,0,0,1,1,1,0,0,0,2]},\"selected\":{\"id\":\"5270\"},\"selection_policy\":{\"id\":\"5269\"}},\"id\":\"5257\",\"type\":\"ColumnDataSource\"},{\"attributes\":{},\"id\":\"5264\",\"type\":\"AllLabels\"},{\"attributes\":{\"text\":\"Mean       = 1.010\",\"text_font_size\":\"10pt\",\"x\":290,\"x_units\":\"screen\",\"y\":370,\"y_units\":\"screen\"},\"id\":\"5274\",\"type\":\"Label\"},{\"attributes\":{\"text\":\"Figure\"},\"id\":\"5227\",\"type\":\"Title\"}],\"root_ids\":[\"5226\"]},\"title\":\"Bokeh Application\",\"version\":\"2.3.2\"}};\n",
       "  var render_items = [{\"docid\":\"b5b79715-5a6f-4691-b58c-5089f60b2fea\",\"notebook_comms_target\":\"5496\",\"root_ids\":[\"5226\"],\"roots\":{\"5226\":\"99da7b6b-4ee3-4d66-914f-e7d59f05bdf1\"}}];\n",
       "  root.Bokeh.embed.embed_items_notebook(docs_json, render_items);\n",
       "\n",
       "  }\n",
       "  if (root.Bokeh !== undefined) {\n",
       "    embed_document(root);\n",
       "  } else {\n",
       "    var attempts = 0;\n",
       "    var timer = setInterval(function(root) {\n",
       "      if (root.Bokeh !== undefined) {\n",
       "        clearInterval(timer);\n",
       "        embed_document(root);\n",
       "      } else {\n",
       "        attempts++;\n",
       "        if (attempts > 100) {\n",
       "          clearInterval(timer);\n",
       "          console.log(\"Bokeh: ERROR: Unable to run BokehJS code because BokehJS library is missing\");\n",
       "        }\n",
       "      }\n",
       "    }, 10, root)\n",
       "  }\n",
       "})(window);"
      ],
      "application/vnd.bokehjs_exec.v0+json": ""
     },
     "metadata": {
      "application/vnd.bokehjs_exec.v0+json": {
       "id": "5226"
      }
     },
     "output_type": "display_data"
    },
    {
     "data": {
      "text/html": [
       "<p><code>&lt;Bokeh Notebook handle for <strong>In[90]</strong>&gt;</code></p>"
      ],
      "text/plain": [
       "<bokeh.io.notebook.CommsHandle at 0x1cc3713e040>"
      ]
     },
     "execution_count": 90,
     "metadata": {},
     "output_type": "execute_result"
    }
   ],
   "source": [
    "hist, edges = np.histogram(utilitys, bins=100)\n",
    "plot1 = Functions.plot_hist([hist], [edges],names= [''],plot_range=[0,4],\n",
    "                       y_label='Observations',x_label='Utility')\n",
    "mean = np.mean(utilitys)\n",
    "variance = np.var(utilitys)\n",
    "\n",
    "meantext = Label(x=290, y=370, text=f'Mean       = {mean:.3f}',\n",
    "              text_font_size='10pt',x_units='screen', y_units='screen')\n",
    "vartext = Label(x=290, y=355, text=f'Variance  = {variance:.3f}',\n",
    "              text_font_size='10pt',x_units='screen', y_units='screen')\n",
    "plot1.add_layout(meantext)\n",
    "plot1.add_layout(vartext)\n",
    "               \n",
    "show(plot1,notebook_handle=True)"
   ]
  },
  {
   "cell_type": "markdown",
   "metadata": {},
   "source": [
    "We can see that the distriubtion is right skewed with a mean close to 1, indicating that the average comsumer is not much better of, given random distribution of endowments and free trade oportunities, than if all endowments was distributed equally and no trade was allowed, so all consumers consumed precisly one of each good, giving a utility of one independent of parameter-preferences. "
   ]
  },
  {
   "cell_type": "markdown",
   "metadata": {},
   "source": [
    "**Question 5:** Find the Walras-equilibrium prices if instead all endowments were distributed equally. Discuss the implied changes in the distribution of utility. Does the value of $\\gamma$ play a role for your conclusions?"
   ]
  },
  {
   "cell_type": "markdown",
   "metadata": {},
   "source": [
    "First we find a plot the new distriubtion with still kepping $\\gamma=0.8$"
   ]
  },
  {
   "cell_type": "code",
   "execution_count": 91,
   "metadata": {},
   "outputs": [
    {
     "name": "stdout",
     "output_type": "stream",
     "text": [
      "Step   0:\n",
      "p1 =   6.49007569 -> excess demand 1->    10.27306936\n",
      "p2 =   2.61638187 -> excess demand 2->  -156.06712716\n",
      "Step   1:\n",
      "p1 =   6.49009303 -> excess demand 1->     8.67191455\n",
      "p2 =   2.61607875 -> excess demand 2->  -151.55895838\n",
      "Step   2:\n",
      "p1 =   6.49010728 -> excess demand 1->     7.12421295\n",
      "p2 =   2.61578436 -> excess demand 2->  -147.19285237\n",
      "Step   3:\n",
      "p1 =   6.49011854 -> excess demand 1->     5.62826125\n",
      "p2 =   2.61549843 -> excess demand 2->  -142.96436254\n",
      "Step   4:\n",
      "p1 =   6.49012690 -> excess demand 1->     4.18240975\n",
      "p2 =   2.61522070 -> excess demand 2->  -138.86917806\n",
      "  ...\n",
      "Step 2500:\n",
      "p1 =   6.44778466 -> excess demand 1->    -0.42306241\n",
      "p2 =   2.59099067 -> excess demand 2->    -0.15730786\n",
      "Step 5000:\n",
      "p1 =   6.44733119 -> excess demand 1->    -0.00419167\n",
      "p2 =   2.59082205 -> excess demand 2->    -0.00155860\n",
      "Step 7500:\n",
      "p1 =   6.44732670 -> excess demand 1->    -0.00004153\n",
      "p2 =   2.59082038 -> excess demand 2->    -0.00001544\n",
      "Step 9519:\n",
      "p1 =   6.44732665 -> excess demand 1 ->    -0.00000100\n",
      "p2 =   2.59082037 -> excess demand 2 ->    -0.00000037\n",
      "Also --------------> excess demand 3 ->     0.00000741\n"
     ]
    }
   ],
   "source": [
    "e = np.full(N,1)\n",
    "p1_equal,p2_equal = find_equilibrium(p1, p2, p3, e, e, e, betas,kappa=kappa, eps=eps, maxiter=maxiter)"
   ]
  },
  {
   "cell_type": "markdown",
   "metadata": {},
   "source": [
    "Thus, the price of good 1 slightly drops, while the price of good 2 slightly rises."
   ]
  },
  {
   "cell_type": "code",
   "execution_count": 92,
   "metadata": {},
   "outputs": [
    {
     "name": "stderr",
     "output_type": "stream",
     "text": [
      "BokehDeprecationWarning: 'legend' keyword is deprecated, use explicit 'legend_label', 'legend_field', or 'legend_group' keywords instead\n"
     ]
    },
    {
     "data": {
      "text/html": [
       "\n",
       "\n",
       "\n",
       "\n",
       "\n",
       "\n",
       "  <div class=\"bk-root\" id=\"a288df50-04b0-4f7c-9784-4fe5798e512a\" data-root-id=\"5547\"></div>\n"
      ]
     },
     "metadata": {},
     "output_type": "display_data"
    },
    {
     "data": {
      "application/javascript": [
       "(function(root) {\n",
       "  function embed_document(root) {\n",
       "    \n",
       "  var docs_json = {\"b564f4a7-18e6-4648-999a-cc41cc5370af\":{\"defs\":[],\"roots\":{\"references\":[{\"attributes\":{\"below\":[{\"id\":\"5558\"}],\"center\":[{\"id\":\"5561\"},{\"id\":\"5565\"},{\"id\":\"5593\"},{\"id\":\"5595\"},{\"id\":\"5596\"}],\"height\":500,\"left\":[{\"id\":\"5562\"}],\"renderers\":[{\"id\":\"5581\"}],\"title\":{\"id\":\"5548\"},\"toolbar\":{\"id\":\"5572\"},\"width\":500,\"x_range\":{\"id\":\"5550\"},\"x_scale\":{\"id\":\"5554\"},\"y_range\":{\"id\":\"5552\"},\"y_scale\":{\"id\":\"5556\"}},\"id\":\"5547\",\"subtype\":\"Figure\",\"type\":\"Plot\"},{\"attributes\":{\"text\":\"Figure\"},\"id\":\"5548\",\"type\":\"Title\"},{\"attributes\":{},\"id\":\"5588\",\"type\":\"AllLabels\"},{\"attributes\":{\"bottom_units\":\"screen\",\"fill_alpha\":0.5,\"fill_color\":\"lightgrey\",\"left_units\":\"screen\",\"level\":\"overlay\",\"line_alpha\":1.0,\"line_color\":\"black\",\"line_dash\":[4,4],\"line_width\":2,\"right_units\":\"screen\",\"syncable\":false,\"top_units\":\"screen\"},\"id\":\"5571\",\"type\":\"BoxAnnotation\"},{\"attributes\":{\"end\":4,\"start\":0},\"id\":\"5550\",\"type\":\"DataRange1d\"},{\"attributes\":{\"start\":0},\"id\":\"5552\",\"type\":\"DataRange1d\"},{\"attributes\":{},\"id\":\"5556\",\"type\":\"LinearScale\"},{\"attributes\":{},\"id\":\"5590\",\"type\":\"UnionRenderers\"},{\"attributes\":{},\"id\":\"5554\",\"type\":\"LinearScale\"},{\"attributes\":{},\"id\":\"5591\",\"type\":\"Selection\"},{\"attributes\":{\"axis_label\":\"Utility\",\"formatter\":{\"id\":\"5587\"},\"major_label_policy\":{\"id\":\"5588\"},\"ticker\":{\"id\":\"5559\"}},\"id\":\"5558\",\"type\":\"LinearAxis\"},{\"attributes\":{},\"id\":\"5559\",\"type\":\"BasicTicker\"},{\"attributes\":{\"axis\":{\"id\":\"5558\"},\"ticker\":null},\"id\":\"5561\",\"type\":\"Grid\"},{\"attributes\":{},\"id\":\"5567\",\"type\":\"WheelZoomTool\"},{\"attributes\":{\"active_multi\":null,\"tools\":[{\"id\":\"5566\"},{\"id\":\"5567\"},{\"id\":\"5568\"},{\"id\":\"5569\"},{\"id\":\"5570\"}]},\"id\":\"5572\",\"type\":\"Toolbar\"},{\"attributes\":{\"axis_label\":\"Observations\",\"formatter\":{\"id\":\"5584\"},\"major_label_policy\":{\"id\":\"5585\"},\"ticker\":{\"id\":\"5563\"}},\"id\":\"5562\",\"type\":\"LinearAxis\"},{\"attributes\":{\"axis\":{\"id\":\"5562\"},\"dimension\":1,\"ticker\":null},\"id\":\"5565\",\"type\":\"Grid\"},{\"attributes\":{},\"id\":\"5563\",\"type\":\"BasicTicker\"},{\"attributes\":{\"data\":{\"left\":{\"__ndarray__\":\"K29GLAAA8D/AzgI64yDwP1Quv0fGQfA/6Y17Vali8D9+7TdjjIPwPxJN9HBvpPA/p6ywflLF8D88DG2MNebwP9BrKZoYB/E/Zcvlp/sn8T/6KqK13kjxP4+KXsPBafE/I+oa0aSK8T+4Sdfeh6vxP02pk+xqzPE/4QhQ+k3t8T92aAwIMQ7yPwvIyBUUL/I/nyeFI/dP8j80h0Ex2nDyP8nm/T69kfI/Xka6TKCy8j/ypXZag9PyP4cFM2hm9PI/HGXvdUkV8z+wxKuDLDbzP0UkaJEPV/M/2oMkn/J38z9u4+Cs1ZjzPwNDnbq4ufM/mKJZyJva8z8sAhbWfvvzP8Fh0uNhHPQ/VsGO8UQ99D/qIEv/J170P3+ABw0Lf/Q/FODDGu6f9D+oP4Ao0cD0Pz2fPDa04fQ/0v74Q5cC9T9mXrVReiP1P/u9cV9dRPU/kB0ubUBl9T8kfep6I4b1P7ncpogGp/U/TjxjlunH9T/imx+kzOj1P3f727GvCfY/DFuYv5Iq9j+hulTNdUv2PzYaEdtYbPY/ynnN6DuN9j9f2Yn2Hq72P/Q4RgQCz/Y/iJgCEuXv9j8d+L4fyBD3P7JXey2rMfc/Rrc3O45S9z/bFvRIcXP3P3B2sFZUlPc/BNZsZDe19z+ZNSlyGtb3Py6V5X/99vc/wvShjeAX+D9XVF6bwzj4P+yzGqmmWfg/gBPXtol6+D8Vc5PEbJv4P6rST9JPvPg/PjIM4DLd+D/TkcjtFf74P2jxhPv4Hvk//FBBCdw/+T+RsP0Wv2D5PyYQuiSigfk/um92MoWi+T9PzzJAaMP5P+Qu701L5Pk/eI6rWy4F+j8O7mdpESb6P6JNJHf0Rvo/Nq3ghNdn+j/MDJ2Suoj6P2BsWaCdqfo/9csVroDK+j+KK9K7Y+v6Px6LjslGDPs/s+pK1ykt+z9ISgflDE77P9ypw/Lvbvs/cQmAANOP+z8GaTwOtrD7P5rI+BuZ0fs/Lyi1KXzy+z/Eh3E3XxP8P1jnLUVCNPw/7UbqUiVV/D+CpqZgCHb8PxYGY27rlvw/q2UffM63/D8=\",\"dtype\":\"float64\",\"order\":\"little\",\"shape\":[100]},\"right\":{\"__ndarray__\":\"wM4COuMg8D9ULr9HxkHwP+mNe1WpYvA/fu03Y4yD8D8STfRwb6TwP6essH5SxfA/PAxtjDXm8D/QaymaGAfxP2XL5af7J/E/+iqitd5I8T+Pil7DwWnxPyPqGtGkivE/uEnX3oer8T9NqZPsaszxP+EIUPpN7fE/dmgMCDEO8j8LyMgVFC/yP58nhSP3T/I/NIdBMdpw8j/J5v0+vZHyP15GukygsvI/8qV2WoPT8j+HBTNoZvTyPxxl73VJFfM/sMSrgyw28z9FJGiRD1fzP9qDJJ/yd/M/buPgrNWY8z8DQ526uLnzP5iiWcib2vM/LAIW1n778z/BYdLjYRz0P1bBjvFEPfQ/6iBL/yde9D9/gAcNC3/0PxTgwxrun/Q/qD+AKNHA9D89nzw2tOH0P9L++EOXAvU/Zl61UXoj9T/7vXFfXUT1P5AdLm1AZfU/JH3qeiOG9T+53KaIBqf1P048Y5bpx/U/4psfpMzo9T93+9uxrwn2PwxbmL+SKvY/obpUzXVL9j82GhHbWGz2P8p5zeg7jfY/X9mJ9h6u9j/0OEYEAs/2P4iYAhLl7/Y/Hfi+H8gQ9z+yV3stqzH3P0a3NzuOUvc/2xb0SHFz9z9wdrBWVJT3PwTWbGQ3tfc/mTUpchrW9z8uleV//fb3P8L0oY3gF/g/V1Rem8M4+D/ssxqppln4P4AT17aJevg/FXOTxGyb+D+q0k/ST7z4Pz4yDOAy3fg/05HI7RX++D9o8YT7+B75P/xQQQncP/k/kbD9Fr9g+T8mELokooH5P7pvdjKFovk/T88yQGjD+T/kLu9NS+T5P3iOq1suBfo/Du5naREm+j+iTSR39Eb6Pzat4ITXZ/o/zAydkrqI+j9gbFmgnan6P/XLFa6Ayvo/iivSu2Pr+j8ei47JRgz7P7PqStcpLfs/SEoH5QxO+z/cqcPy7277P3EJgADTj/s/Bmk8Draw+z+ayPgbmdH7Py8otSl88vs/xIdxN18T/D9Y5y1FQjT8P+1G6lIlVfw/gqamYAh2/D8WBmNu65b8P6tlH3zOt/w/QMXbibHY/D8=\",\"dtype\":\"float64\",\"order\":\"little\",\"shape\":[100]},\"top\":[7518,6266,5488,4546,3845,3204,2614,2261,1884,1637,1353,1214,1003,914,802,666,586,514,422,404,312,270,245,172,180,167,143,137,120,100,88,64,68,61,65,57,43,41,44,44,31,35,29,32,29,24,24,23,17,12,16,7,9,11,8,11,8,7,11,4,6,7,7,7,5,4,8,2,7,6,3,0,3,4,2,2,2,1,0,1,0,3,2,1,0,1,0,0,0,2,2,0,0,0,0,0,0,1,0,1]},\"selected\":{\"id\":\"5591\"},\"selection_policy\":{\"id\":\"5590\"}},\"id\":\"5578\",\"type\":\"ColumnDataSource\"},{\"attributes\":{},\"id\":\"5566\",\"type\":\"PanTool\"},{\"attributes\":{},\"id\":\"5584\",\"type\":\"BasicTickFormatter\"},{\"attributes\":{\"overlay\":{\"id\":\"5571\"}},\"id\":\"5568\",\"type\":\"BoxZoomTool\"},{\"attributes\":{\"text\":\"Variance  = 0.004\",\"text_font_size\":\"10pt\",\"x\":290,\"x_units\":\"screen\",\"y\":355,\"y_units\":\"screen\"},\"id\":\"5596\",\"type\":\"Label\"},{\"attributes\":{},\"id\":\"5569\",\"type\":\"ResetTool\"},{\"attributes\":{\"label\":{\"value\":\"\"},\"renderers\":[{\"id\":\"5581\"}]},\"id\":\"5594\",\"type\":\"LegendItem\"},{\"attributes\":{\"bottom\":{\"value\":0},\"fill_alpha\":{\"value\":0.5},\"fill_color\":{\"value\":\"blue\"},\"left\":{\"field\":\"left\"},\"line_alpha\":{\"value\":0.5},\"line_color\":{\"value\":\"purple\"},\"right\":{\"field\":\"right\"},\"top\":{\"field\":\"top\"}},\"id\":\"5579\",\"type\":\"Quad\"},{\"attributes\":{},\"id\":\"5570\",\"type\":\"SaveTool\"},{\"attributes\":{},\"id\":\"5585\",\"type\":\"AllLabels\"},{\"attributes\":{\"source\":{\"id\":\"5578\"}},\"id\":\"5582\",\"type\":\"CDSView\"},{\"attributes\":{\"text\":\"Mean       = 1.054\",\"text_font_size\":\"10pt\",\"x\":290,\"x_units\":\"screen\",\"y\":370,\"y_units\":\"screen\"},\"id\":\"5595\",\"type\":\"Label\"},{\"attributes\":{\"items\":[{\"id\":\"5594\"}]},\"id\":\"5593\",\"type\":\"Legend\"},{\"attributes\":{\"data_source\":{\"id\":\"5578\"},\"glyph\":{\"id\":\"5579\"},\"hover_glyph\":null,\"muted_glyph\":null,\"nonselection_glyph\":{\"id\":\"5580\"},\"view\":{\"id\":\"5582\"}},\"id\":\"5581\",\"type\":\"GlyphRenderer\"},{\"attributes\":{\"bottom\":{\"value\":0},\"fill_alpha\":{\"value\":0.1},\"fill_color\":{\"value\":\"blue\"},\"left\":{\"field\":\"left\"},\"line_alpha\":{\"value\":0.1},\"line_color\":{\"value\":\"purple\"},\"right\":{\"field\":\"right\"},\"top\":{\"field\":\"top\"}},\"id\":\"5580\",\"type\":\"Quad\"},{\"attributes\":{},\"id\":\"5587\",\"type\":\"BasicTickFormatter\"}],\"root_ids\":[\"5547\"]},\"title\":\"Bokeh Application\",\"version\":\"2.3.2\"}};\n",
       "  var render_items = [{\"docid\":\"b564f4a7-18e6-4648-999a-cc41cc5370af\",\"notebook_comms_target\":\"5827\",\"root_ids\":[\"5547\"],\"roots\":{\"5547\":\"a288df50-04b0-4f7c-9784-4fe5798e512a\"}}];\n",
       "  root.Bokeh.embed.embed_items_notebook(docs_json, render_items);\n",
       "\n",
       "  }\n",
       "  if (root.Bokeh !== undefined) {\n",
       "    embed_document(root);\n",
       "  } else {\n",
       "    var attempts = 0;\n",
       "    var timer = setInterval(function(root) {\n",
       "      if (root.Bokeh !== undefined) {\n",
       "        clearInterval(timer);\n",
       "        embed_document(root);\n",
       "      } else {\n",
       "        attempts++;\n",
       "        if (attempts > 100) {\n",
       "          clearInterval(timer);\n",
       "          console.log(\"Bokeh: ERROR: Unable to run BokehJS code because BokehJS library is missing\");\n",
       "        }\n",
       "      }\n",
       "    }, 10, root)\n",
       "  }\n",
       "})(window);"
      ],
      "application/vnd.bokehjs_exec.v0+json": ""
     },
     "metadata": {
      "application/vnd.bokehjs_exec.v0+json": {
       "id": "5547"
      }
     },
     "output_type": "display_data"
    },
    {
     "data": {
      "text/html": [
       "<p><code>&lt;Bokeh Notebook handle for <strong>In[92]</strong>&gt;</code></p>"
      ],
      "text/plain": [
       "<bokeh.io.notebook.CommsHandle at 0x1cc372e77c0>"
      ]
     },
     "execution_count": 92,
     "metadata": {},
     "output_type": "execute_result"
    }
   ],
   "source": [
    "x1s_equal = demand_func(p1_equal,p2_equal,p3,e,e,e,betas[:,0],1)\n",
    "x2s_equal = demand_func(p1_equal,p2_equal,p3,e,e,e,betas[:,1],2)\n",
    "x3s_equal = demand_func(p1_equal,p2_equal,p3,e,e,e,betas[:,2],3)\n",
    "\n",
    "\n",
    "utilitys_equal = []\n",
    "for i in range(N):\n",
    "    utilitys_equal.append(utility(x1s_equal[i],x2s_equal[i],x3s_equal[i],betas[i,0],betas[i,1],betas[i,2], 0.9))\n",
    "\n",
    "    \n",
    "hist, edges = np.histogram(utilitys_equal, bins=100)\n",
    "plot2 = Functions.plot_hist([hist], [edges],names= [''],plot_range=[0,4],\n",
    "                       y_label='Observations',x_label='Utility')\n",
    "mean = np.mean(utilitys_equal)\n",
    "variance = np.var(utilitys_equal)\n",
    "\n",
    "meantext = Label(x=290, y=370, text=f'Mean       = {mean:.3f}',\n",
    "              text_font_size='10pt',x_units='screen', y_units='screen')\n",
    "vartext = Label(x=290, y=355, text=f'Variance  = {variance:.3f}',\n",
    "              text_font_size='10pt',x_units='screen', y_units='screen')\n",
    "plot2.add_layout(meantext)\n",
    "plot2.add_layout(vartext)\n",
    "               \n",
    "show(plot2,notebook_handle=True)"
   ]
  },
  {
   "cell_type": "markdown",
   "metadata": {},
   "source": [
    "We have a sligthly bigger mean, and a much lower variance, with the endowemnts having been distributed equally. <br>\n",
    "With everyone starting out with one of each good, all comsumers have a minimum utility of 1, and much less trade seems to be occuring."
   ]
  },
  {
   "cell_type": "markdown",
   "metadata": {},
   "source": [
    "Now we plot the same figures, both for different values of $\\gamma$:"
   ]
  },
  {
   "cell_type": "code",
   "execution_count": 93,
   "metadata": {},
   "outputs": [
    {
     "name": "stderr",
     "output_type": "stream",
     "text": [
      "BokehDeprecationWarning: 'legend' keyword is deprecated, use explicit 'legend_label', 'legend_field', or 'legend_group' keywords instead\n",
      "BokehDeprecationWarning: 'legend' keyword is deprecated, use explicit 'legend_label', 'legend_field', or 'legend_group' keywords instead\n",
      "BokehDeprecationWarning: 'legend' keyword is deprecated, use explicit 'legend_label', 'legend_field', or 'legend_group' keywords instead\n",
      "BokehDeprecationWarning: 'legend' keyword is deprecated, use explicit 'legend_label', 'legend_field', or 'legend_group' keywords instead\n",
      "BokehDeprecationWarning: 'legend' keyword is deprecated, use explicit 'legend_label', 'legend_field', or 'legend_group' keywords instead\n",
      "BokehDeprecationWarning: 'legend' keyword is deprecated, use explicit 'legend_label', 'legend_field', or 'legend_group' keywords instead\n",
      "BokehDeprecationWarning: 'legend' keyword is deprecated, use explicit 'legend_label', 'legend_field', or 'legend_group' keywords instead\n",
      "BokehDeprecationWarning: 'legend' keyword is deprecated, use explicit 'legend_label', 'legend_field', or 'legend_group' keywords instead\n",
      "BokehDeprecationWarning: 'legend' keyword is deprecated, use explicit 'legend_label', 'legend_field', or 'legend_group' keywords instead\n",
      "BokehDeprecationWarning: 'legend' keyword is deprecated, use explicit 'legend_label', 'legend_field', or 'legend_group' keywords instead\n",
      "BokehDeprecationWarning: 'legend' keyword is deprecated, use explicit 'legend_label', 'legend_field', or 'legend_group' keywords instead\n",
      "BokehDeprecationWarning: 'legend' keyword is deprecated, use explicit 'legend_label', 'legend_field', or 'legend_group' keywords instead\n"
     ]
    }
   ],
   "source": [
    "gammas = [0.2,0.4,0.6,0.8,1,1.5]\n",
    "\n",
    "plots =[]\n",
    "\n",
    "for i,gamma in enumerate(gammas):\n",
    "    plots.append(Functions.utility_distribution(x1s,x2s,x3s,x1s_equal,x2s_equal,x3s_equal,betas,gamma))"
   ]
  },
  {
   "cell_type": "code",
   "execution_count": 94,
   "metadata": {},
   "outputs": [
    {
     "data": {
      "text/html": [
       "\n",
       "\n",
       "\n",
       "\n",
       "\n",
       "\n",
       "  <div class=\"bk-root\" id=\"5696b661-a71b-4a69-b23d-ca42b9689a5c\" data-root-id=\"6484\"></div>\n"
      ]
     },
     "metadata": {},
     "output_type": "display_data"
    },
    {
     "data": {
      "application/javascript": [
       "(function(root) {\n",
       "  function embed_document(root) {\n",
       "    \n",
       "  var docs_json = {\"ff8dc420-0ab4-419b-a233-063bb65ca3b6\":{\"defs\":[],\"roots\":{\"references\":[{\"attributes\":{\"children\":[{\"id\":\"6478\"},{\"id\":\"6479\"},{\"id\":\"6480\"},{\"id\":\"6481\"},{\"id\":\"6482\"},{\"id\":\"6483\"}]},\"id\":\"6484\",\"type\":\"Column\"},{\"attributes\":{},\"id\":\"6418\",\"type\":\"BasicTickFormatter\"},{\"attributes\":{\"axis_label\":\"Observations\",\"formatter\":{\"id\":\"6415\"},\"major_label_policy\":{\"id\":\"6416\"},\"ticker\":{\"id\":\"6394\"}},\"id\":\"6393\",\"type\":\"LinearAxis\"},{\"attributes\":{},\"id\":\"6419\",\"type\":\"AllLabels\"},{\"attributes\":{\"axis\":{\"id\":\"6393\"},\"dimension\":1,\"ticker\":null},\"id\":\"6396\",\"type\":\"Grid\"},{\"attributes\":{},\"id\":\"6398\",\"type\":\"WheelZoomTool\"},{\"attributes\":{},\"id\":\"6394\",\"type\":\"BasicTicker\"},{\"attributes\":{\"active_multi\":null,\"tools\":[{\"id\":\"6397\"},{\"id\":\"6398\"},{\"id\":\"6399\"},{\"id\":\"6400\"},{\"id\":\"6401\"}]},\"id\":\"6403\",\"type\":\"Toolbar\"},{\"attributes\":{\"active_multi\":null,\"tools\":[{\"id\":\"6047\"},{\"id\":\"6048\"},{\"id\":\"6049\"},{\"id\":\"6050\"},{\"id\":\"6051\"}]},\"id\":\"6053\",\"type\":\"Toolbar\"},{\"attributes\":{},\"id\":\"6397\",\"type\":\"PanTool\"},{\"attributes\":{\"overlay\":{\"id\":\"6402\"}},\"id\":\"6399\",\"type\":\"BoxZoomTool\"},{\"attributes\":{},\"id\":\"6400\",\"type\":\"ResetTool\"},{\"attributes\":{},\"id\":\"6401\",\"type\":\"SaveTool\"},{\"attributes\":{\"data\":{\"left\":{\"__ndarray__\":\"r4atEwAA8D9MyEqCLQjwP+kJ6PBaEPA/hkuFX4gY8D8kjSLOtSDwP8HOvzzjKPA/XhBdqxAx8D/7UfoZPjnwP5iTl4hrQfA/NtU095hJ8D/TFtJlxlHwP3BYb9TzWfA/DZoMQyFi8D+q26mxTmrwP0cdRyB8cvA/5F7kjql68D+CoIH91oLwPx/iHmwEi/A/vCO82jGT8D9ZZVlJX5vwP/am9reMo/A/lOiTJrqr8D8xKjGV57PwP85rzgMVvPA/a61rckLE8D8I7wjhb8zwP6Uwpk+d1PA/QnJDvsrc8D/gs+As+OTwP331fZsl7fA/GjcbClP18D+3eLh4gP3wP1S6VeetBfE/8vvyVdsN8T+PPZDECBbxPyx/LTM2HvE/ycDKoWMm8T9mAmgQkS7xPwNEBX++NvE/oIWi7es+8T8+xz9cGUfxP9sI3cpGT/E/eEp6OXRX8T8VjBeooV/xP7LNtBbPZ/E/UA9Shfxv8T/tUO/zKXjxP4qSjGJXgPE/J9Qp0YSI8T/EFcc/spDxP2FXZK7fmPE//pgBHQ2h8T+c2p6LOqnxPzkcPPpnsfE/1l3ZaJW58T9zn3bXwsHxPxDhE0bwyfE/rSKxtB3S8T9LZE4jS9rxP+il65F44vE/heeIAKbq8T8iKSZv0/LxP79qw90A+/E/XKxgTC4D8j/67f26WwvyP5cvmymJE/I/NHE4mLYb8j/RstUG5CPyP270cnURLPI/DDYQ5D408j+pd61SbDzyP0a5SsGZRPI/4/rnL8dM8j+APIWe9FTyPx1+Ig0iXfI/ur+/e09l8j9YAV3qfG3yP/VC+liqdfI/koSXx9d98j8vxjQ2BYbyP8wH0qQyjvI/aklvE2CW8j8HiwyCjZ7yP6TMqfC6pvI/QQ5HX+iu8j/eT+TNFbfyP3uRgTxDv/I/GNMeq3DH8j+2FLwZns/yP1NWWYjL1/I/8Jf29vjf8j+N2ZNlJujyPyobMdRT8PI/yFzOQoH48j9lnmuxrgDzPwLgCCDcCPM/nyGmjgkR8z88Y0P9NhnzP9mk4GtkIfM/duZ92pEp8z8UKBtJvzHzP7FpuLfsOfM/TqtVJhpC8z/r7PKUR0rzP4gukAN1UvM/JXAtcqJa8z/Dscrgz2LzP2DzZ0/9avM//TQFvipz8z+adqIsWHvzPze4P5uFg/M/1PncCbOL8z9yO3p44JPzPw99F+cNnPM/rL60VTuk8z9JAFLEaKzzP+ZB7zKWtPM/g4OMocO88z8hxSkQ8cTzP74Gx34ezfM/W0hk7UvV8z/4iQFced3zP5XLnsqm5fM/Mg08OdTt8z/QTtmnAfbzP22QdhYv/vM/CtIThVwG9D+nE7HziQ70P0RVTmK3FvQ/4pbr0OQe9D9+2Ig/Eif0PxwaJq4/L/Q/uVvDHG039D9WnWCLmj/0P/Pe/fnHR/Q/kCCbaPVP9D8uYjjXIlj0P8uj1UVQYPQ/aOVytH1o9D8FJxAjq3D0P6JorZHYePQ/QKpKAAaB9D/c6+duM4n0P3othd1gkfQ/F28iTI6Z9D+0sL+6u6H0P1HyXCnpqfQ/7jP6lxay9D+MdZcGRLr0Pym3NHVxwvQ/\",\"dtype\":\"float64\",\"order\":\"little\",\"shape\":[150]},\"right\":{\"__ndarray__\":\"TMhKgi0I8D/pCejwWhDwP4ZLhV+IGPA/JI0izrUg8D/Bzr884yjwP14QXasQMfA/+1H6GT458D+Yk5eIa0HwPzbVNPeYSfA/0xbSZcZR8D9wWG/U81nwPw2aDEMhYvA/qtupsU5q8D9HHUcgfHLwP+Re5I6pevA/gqCB/daC8D8f4h5sBIvwP7wjvNoxk/A/WWVZSV+b8D/2pva3jKPwP5Tokya6q/A/MSoxleez8D/Oa84DFbzwP2uta3JCxPA/CO8I4W/M8D+lMKZPndTwP0JyQ77K3PA/4LPgLPjk8D999X2bJe3wPxo3GwpT9fA/t3i4eID98D9UulXnrQXxP/L78lXbDfE/jz2QxAgW8T8sfy0zNh7xP8nAyqFjJvE/ZgJoEJEu8T8DRAV/vjbxP6CFou3rPvE/Psc/XBlH8T/bCN3KRk/xP3hKejl0V/E/FYwXqKFf8T+yzbQWz2fxP1APUoX8b/E/7VDv8yl48T+KkoxiV4DxPyfUKdGEiPE/xBXHP7KQ8T9hV2Su35jxP/6YAR0NofE/nNqeizqp8T85HDz6Z7HxP9Zd2WiVufE/c59218LB8T8Q4RNG8MnxP60isbQd0vE/S2ROI0va8T/opeuReOLxP4XniACm6vE/Iikmb9Py8T+/asPdAPvxP1ysYEwuA/I/+u39ulsL8j+XL5spiRPyPzRxOJi2G/I/0bLVBuQj8j9u9HJ1ESzyPww2EOQ+NPI/qXetUmw88j9GuUrBmUTyP+P65y/HTPI/gDyFnvRU8j8dfiINIl3yP7q/v3tPZfI/WAFd6nxt8j/1QvpYqnXyP5KEl8fXffI/L8Y0NgWG8j/MB9KkMo7yP2pJbxNglvI/B4sMgo2e8j+kzKnwuqbyP0EOR1/orvI/3k/kzRW38j97kYE8Q7/yPxjTHqtwx/I/thS8GZ7P8j9TVlmIy9fyP/CX9vb43/I/jdmTZSbo8j8qGzHUU/DyP8hczkKB+PI/ZZ5rsa4A8z8C4Agg3AjzP58hpo4JEfM/PGND/TYZ8z/ZpOBrZCHzP3bmfdqRKfM/FCgbSb8x8z+xabi37DnzP06rVSYaQvM/6+zylEdK8z+ILpADdVLzPyVwLXKiWvM/w7HK4M9i8z9g82dP/WrzP/00Bb4qc/M/mnaiLFh78z83uD+bhYPzP9T53Amzi/M/cjt6eOCT8z8PfRfnDZzzP6y+tFU7pPM/SQBSxGis8z/mQe8ylrTzP4ODjKHDvPM/IcUpEPHE8z++Bsd+Hs3zP1tIZO1L1fM/+IkBXHnd8z+Vy57KpuXzPzINPDnU7fM/0E7ZpwH28z9tkHYWL/7zPwrSE4VcBvQ/pxOx84kO9D9EVU5itxb0P+KW69DkHvQ/ftiIPxIn9D8cGiauPy/0P7lbwxxtN/Q/Vp1gi5o/9D/z3v35x0f0P5Agm2j1T/Q/LmI41yJY9D/Lo9VFUGD0P2jlcrR9aPQ/BScQI6tw9D+iaK2R2Hj0P0CqSgAGgfQ/3OvnbjOJ9D96LYXdYJH0PxdvIkyOmfQ/tLC/uruh9D9R8lwp6an0P+4z+pcWsvQ/jHWXBkS69D8ptzR1ccL0P8b40eOeyvQ/\",\"dtype\":\"float64\",\"order\":\"little\",\"shape\":[150]},\"top\":[4312,4053,3540,3310,3102,2855,2465,2286,2075,1865,1676,1483,1350,1308,1123,1078,938,841,806,746,682,617,528,551,517,460,403,372,363,324,294,271,243,246,195,201,159,157,155,121,90,109,126,88,107,69,86,87,66,55,69,52,44,37,42,45,34,45,39,33,23,35,26,25,32,27,24,17,24,19,23,19,21,15,17,15,19,11,11,13,8,10,7,6,7,3,10,6,8,6,5,6,5,8,3,4,3,5,4,6,7,3,2,4,5,3,2,6,5,3,2,0,1,2,3,3,1,1,1,2,0,0,1,0,0,3,2,0,1,0,1,0,0,0,0,0,2,2,0,0,0,0,0,0,0,0,0,1,0,1]},\"selected\":{\"id\":\"6072\"},\"selection_policy\":{\"id\":\"6071\"}},\"id\":\"6059\",\"type\":\"ColumnDataSource\"},{\"attributes\":{\"bottom\":{\"value\":0},\"fill_alpha\":{\"value\":0.1},\"fill_color\":{\"value\":\"blue\"},\"left\":{\"field\":\"left\"},\"line_alpha\":{\"value\":0.1},\"line_color\":{\"value\":\"purple\"},\"right\":{\"field\":\"right\"},\"top\":{\"field\":\"top\"}},\"id\":\"6061\",\"type\":\"Quad\"},{\"attributes\":{\"text\":\"Variance  = 0.0007\",\"text_font_size\":\"10pt\",\"x\":250,\"x_units\":\"screen\",\"y\":200,\"y_units\":\"screen\"},\"id\":\"6077\",\"type\":\"Label\"},{\"attributes\":{\"bottom\":{\"value\":0},\"fill_alpha\":{\"value\":0.5},\"fill_color\":{\"value\":\"blue\"},\"left\":{\"field\":\"left\"},\"line_alpha\":{\"value\":0.5},\"line_color\":{\"value\":\"purple\"},\"right\":{\"field\":\"right\"},\"top\":{\"field\":\"top\"}},\"id\":\"6060\",\"type\":\"Quad\"},{\"attributes\":{\"items\":[{\"id\":\"6075\"}]},\"id\":\"6074\",\"type\":\"Legend\"},{\"attributes\":{\"data_source\":{\"id\":\"6059\"},\"glyph\":{\"id\":\"6060\"},\"hover_glyph\":null,\"muted_glyph\":null,\"nonselection_glyph\":{\"id\":\"6061\"},\"view\":{\"id\":\"6063\"}},\"id\":\"6062\",\"type\":\"GlyphRenderer\"},{\"attributes\":{\"text\":\"Mean       = 1.0234\",\"text_font_size\":\"10pt\",\"x\":250,\"x_units\":\"screen\",\"y\":215,\"y_units\":\"screen\"},\"id\":\"6076\",\"type\":\"Label\"},{\"attributes\":{\"source\":{\"id\":\"6059\"}},\"id\":\"6063\",\"type\":\"CDSView\"},{\"attributes\":{},\"id\":\"6065\",\"type\":\"BasicTickFormatter\"},{\"attributes\":{\"bottom_units\":\"screen\",\"fill_alpha\":0.5,\"fill_color\":\"lightgrey\",\"left_units\":\"screen\",\"level\":\"overlay\",\"line_alpha\":1.0,\"line_color\":\"black\",\"line_dash\":[4,4],\"line_width\":2,\"right_units\":\"screen\",\"syncable\":false,\"top_units\":\"screen\"},\"id\":\"6402\",\"type\":\"BoxAnnotation\"},{\"attributes\":{},\"id\":\"6066\",\"type\":\"AllLabels\"},{\"attributes\":{\"text\":\"Equally distributed endowments, gamma = 1.50\"},\"id\":\"6429\",\"type\":\"Title\"},{\"attributes\":{},\"id\":\"6068\",\"type\":\"BasicTickFormatter\"},{\"attributes\":{},\"id\":\"6069\",\"type\":\"AllLabels\"},{\"attributes\":{\"data\":{\"left\":{\"__ndarray__\":\"rJ41bTyqRj9/d3En1V/BP6/cOgmAVNE/n/28fhX52T9Ijx961U7hP8Cf4DQgoeU/OLCh72rz6T+wwGKqtUXuP5TokTIATPE/0HDyjyV18z8M+VLtSp71P0iBs0pwx/c/hAkUqJXw+T/AkXQFuxn8P/wZ1WLgQv4/HNEa4AI2AEA6FcuOlUoBQFhZez0oXwJAdp0r7LpzA0CU4duaTYgEQLIljEngnAVA0Gk8+HKxBkDureymBcYHQAzynFWY2ghAKjZNBCvvCUBIev2yvQMLQGa+rWFQGAxAhAJeEOMsDUCiRg6/dUEOQMCKvm0IVg9Ab2c3jk01EEB+iY/llr8QQI2r5zzgSRFAnM0/lCnUEUCr75frcl4SQLoR8EK86BJAyTNImgVzE0DYVaDxTv0TQOd3+EiYhxRA9plQoOERFUAFvKj3KpwVQBTeAE90JhZAIwBZpr2wFkAyIrH9BjsXQEFECVVQxRdAUGZhrJlPGEBfiLkD49kYQG6qEVssZBlAfcxpsnXuGUCM7sEJv3gaQJsQGmEIAxtAqjJyuFGNG0C5VMoPmxccQMh2ImfkoRxA15h6vi0sHUDmutIVd7YdQPXcKm3AQB5ABP+CxAnLHkATIdsbU1UfQCJDM3Oc3x9AmLJF5fI0IECgw/GQF3ogQKfUnTw8vyBAruVJ6GAEIUC29vWThUkhQL4Hoj+qjiFAxRhO687TIUDMKfqW8xgiQNQ6pkIYXiJA3EtS7jyjIkDjXP6ZYegiQOptqkWGLSNA8n5W8apyI0D6jwKdz7cjQAGhrkj0/CNACLJa9BhCJEAQwwagPYckQBjUsktizCRAH+Ve94YRJUAm9gqjq1YlQC4Ht07QmyVANhhj+vTgJUA9KQ+mGSYmQEQ6u1E+ayZATEtn/WKwJkBUXBOph/UmQFttv1SsOidAYn5rANF/J0Bqjxes9cQnQHKgw1caCihAebFvAz9PKECAwhuvY5QoQIjTx1qI2ShAkORzBq0eKUCX9R+y0WMpQJ4GzF32qClAphd4CRvuKUCuKCS1PzMqQLU50GBkeCpAvEp8DIm9KkDEWyi4rQIrQMxs1GPSRytA032AD/eMK0Dajiy7G9IrQOKf2GZAFyxA6rCEEmVcLEDxwTC+iaEsQPjS3Gmu5ixAAOSIFdMrLUAI9TTB93AtQA8G4Wwcti1AFheNGEH7LUAeKDnEZUAuQCY55W+KhS5ALUqRG6/KLkA0Wz3H0w8vQDxs6XL4VC9ARH2VHh2aL0BLjkHKQd8vQKnP9jozEjBALdjMkMU0MECx4KLmV1cwQDXpeDzqeTBAuPFOknycMEA8+iToDr8wQMAC+z2h4TBAQwvRkzMEMUDHE6fpxSYxQEscfT9YSTFAzyRTleprMUBTLSnrfI4xQNY1/0APsTFAWj7VlqHTMUDeRqvsM/YxQGFPgULGGDJA5VdXmFg7MkBpYC3u6l0yQO1oA0R9gDJAcXHZmQ+jMkD0ea/vocUyQHiChUU06DJA/Ipbm8YKM0B/kzHxWC0zQAOcB0frTzNAh6TdnH1yM0ALrbPyD5UzQI+1iUiitzNAEr5fnjTaM0CWxjX0xvwzQBrPC0pZHzRA\",\"dtype\":\"float64\",\"order\":\"little\",\"shape\":[150]},\"right\":{\"__ndarray__\":\"f3dxJ9VfwT+v3DoJgFTRP5/9vH4V+dk/SI8fetVO4T/An+A0IKHlPziwoe9q8+k/sMBiqrVF7j+U6JEyAEzxP9Bw8o8ldfM/DPlS7Uqe9T9IgbNKcMf3P4QJFKiV8Pk/wJF0BbsZ/D/8GdVi4EL+PxzRGuACNgBAOhXLjpVKAUBYWXs9KF8CQHadK+y6cwNAlOHbmk2IBECyJYxJ4JwFQNBpPPhysQZA7q3spgXGB0AM8pxVmNoIQCo2TQQr7wlASHr9sr0DC0Bmvq1hUBgMQIQCXhDjLA1AokYOv3VBDkDAir5tCFYPQG9nN45NNRBAfomP5Za/EECNq+c84EkRQJzNP5Qp1BFAq++X63JeEkC6EfBCvOgSQMkzSJoFcxNA2FWg8U79E0Dnd/hImIcUQPaZUKDhERVABbyo9yqcFUAU3gBPdCYWQCMAWaa9sBZAMiKx/QY7F0BBRAlVUMUXQFBmYayZTxhAX4i5A+PZGEBuqhFbLGQZQH3MabJ17hlAjO7BCb94GkCbEBphCAMbQKoycrhRjRtAuVTKD5sXHEDIdiJn5KEcQNeYer4tLB1A5rrSFXe2HUD13CptwEAeQAT/gsQJyx5AEyHbG1NVH0AiQzNznN8fQJiyReXyNCBAoMPxkBd6IECn1J08PL8gQK7lSehgBCFAtvb1k4VJIUC+B6I/qo4hQMUYTuvO0yFAzCn6lvMYIkDUOqZCGF4iQNxLUu48oyJA41z+mWHoIkDqbapFhi0jQPJ+VvGqciNA+o8Cnc+3I0ABoa5I9PwjQAiyWvQYQiRAEMMGoD2HJEAY1LJLYswkQB/lXveGESVAJvYKo6tWJUAuB7dO0JslQDYYY/r04CVAPSkPphkmJkBEOrtRPmsmQExLZ/1isCZAVFwTqYf1JkBbbb9UrDonQGJ+awDRfydAao8XrPXEJ0ByoMNXGgooQHmxbwM/TyhAgMIbr2OUKECI08daiNkoQJDkcwatHilAl/UfstFjKUCeBsxd9qgpQKYXeAkb7ilArigktT8zKkC1OdBgZHgqQLxKfAyJvSpAxFsouK0CK0DMbNRj0kcrQNN9gA/3jCtA2o4suxvSK0Din9hmQBcsQOqwhBJlXCxA8cEwvomhLED40txpruYsQADkiBXTKy1ACPU0wfdwLUAPBuFsHLYtQBYXjRhB+y1AHig5xGVALkAmOeVvioUuQC1KkRuvyi5ANFs9x9MPL0A8bOly+FQvQER9lR4dmi9AS45BykHfL0Cpz/Y6MxIwQC3YzJDFNDBAseCi5ldXMEA16Xg86nkwQLjxTpJ8nDBAPPok6A6/MEDAAvs9oeEwQEML0ZMzBDFAxxOn6cUmMUBLHH0/WEkxQM8kU5XqazFAUy0p63yOMUDWNf9AD7ExQFo+1Zah0zFA3kar7DP2MUBhT4FCxhgyQOVXV5hYOzJAaWAt7updMkDtaANEfYAyQHFx2ZkPozJA9Hmv76HFMkB4goVFNOgyQPyKW5vGCjNAf5Mx8VgtM0ADnAdH608zQIek3Zx9cjNAC62z8g+VM0CPtYlIorczQBK+X5402jNAlsY19Mb8M0AazwtKWR80QJ7X4Z/rQTRA\",\"dtype\":\"float64\",\"order\":\"little\",\"shape\":[150]},\"top\":[3262,5176,4892,4315,3758,3407,2959,2501,2096,1908,1713,1373,1274,1108,972,878,805,727,618,533,483,503,407,348,332,287,256,245,194,216,190,175,171,140,142,114,128,120,95,89,68,81,74,60,65,60,35,40,44,29,33,26,30,37,27,20,14,23,23,20,25,12,15,11,14,15,14,15,12,12,11,9,5,9,6,6,6,6,8,2,4,2,1,2,2,2,4,3,4,2,4,1,4,2,1,2,2,0,1,2,0,0,1,1,1,1,1,0,0,0,3,2,0,2,1,0,0,0,0,0,1,1,1,2,0,0,0,0,0,0,0,0,1,1,0,0,0,0,1,0,0,0,0,0,0,0,0,1,0,1]},\"selected\":{\"id\":\"6422\"},\"selection_policy\":{\"id\":\"6421\"}},\"id\":\"6409\",\"type\":\"ColumnDataSource\"},{\"attributes\":{},\"id\":\"6421\",\"type\":\"UnionRenderers\"},{\"attributes\":{\"bottom\":{\"value\":0},\"fill_alpha\":{\"value\":0.1},\"fill_color\":{\"value\":\"blue\"},\"left\":{\"field\":\"left\"},\"line_alpha\":{\"value\":0.1},\"line_color\":{\"value\":\"purple\"},\"right\":{\"field\":\"right\"},\"top\":{\"field\":\"top\"}},\"id\":\"6411\",\"type\":\"Quad\"},{\"attributes\":{},\"id\":\"6422\",\"type\":\"Selection\"},{\"attributes\":{\"bottom\":{\"value\":0},\"fill_alpha\":{\"value\":0.5},\"fill_color\":{\"value\":\"blue\"},\"left\":{\"field\":\"left\"},\"line_alpha\":{\"value\":0.5},\"line_color\":{\"value\":\"purple\"},\"right\":{\"field\":\"right\"},\"top\":{\"field\":\"top\"}},\"id\":\"6410\",\"type\":\"Quad\"},{\"attributes\":{\"items\":[{\"id\":\"6425\"}]},\"id\":\"6424\",\"type\":\"Legend\"},{\"attributes\":{\"data_source\":{\"id\":\"6409\"},\"glyph\":{\"id\":\"6410\"},\"hover_glyph\":null,\"muted_glyph\":null,\"nonselection_glyph\":{\"id\":\"6411\"},\"view\":{\"id\":\"6413\"}},\"id\":\"6412\",\"type\":\"GlyphRenderer\"},{\"attributes\":{\"below\":[{\"id\":\"6439\"}],\"center\":[{\"id\":\"6442\"},{\"id\":\"6446\"},{\"id\":\"6474\"},{\"id\":\"6476\"},{\"id\":\"6477\"}],\"height\":350,\"left\":[{\"id\":\"6443\"}],\"renderers\":[{\"id\":\"6462\"}],\"title\":{\"id\":\"6429\"},\"toolbar\":{\"id\":\"6453\"},\"width\":500,\"x_range\":{\"id\":\"6431\"},\"x_scale\":{\"id\":\"6435\"},\"y_range\":{\"id\":\"6433\"},\"y_scale\":{\"id\":\"6437\"}},\"id\":\"6428\",\"subtype\":\"Figure\",\"type\":\"Plot\"},{\"attributes\":{\"source\":{\"id\":\"6409\"}},\"id\":\"6413\",\"type\":\"CDSView\"},{\"attributes\":{},\"id\":\"6437\",\"type\":\"LinearScale\"},{\"attributes\":{},\"id\":\"6415\",\"type\":\"BasicTickFormatter\"},{\"attributes\":{\"label\":{\"value\":\"\"},\"renderers\":[{\"id\":\"6412\"}]},\"id\":\"6425\",\"type\":\"LegendItem\"},{\"attributes\":{\"text\":\"Mean       = 1.0944\",\"text_font_size\":\"10pt\",\"x\":250,\"x_units\":\"screen\",\"y\":215,\"y_units\":\"screen\"},\"id\":\"6476\",\"type\":\"Label\"},{\"attributes\":{},\"id\":\"6440\",\"type\":\"BasicTicker\"},{\"attributes\":{},\"id\":\"6416\",\"type\":\"AllLabels\"},{\"attributes\":{\"axis_label\":\"Utility\",\"formatter\":{\"id\":\"6468\"},\"major_label_policy\":{\"id\":\"6469\"},\"ticker\":{\"id\":\"6440\"}},\"id\":\"6439\",\"type\":\"LinearAxis\"},{\"attributes\":{},\"id\":\"6435\",\"type\":\"LinearScale\"},{\"attributes\":{\"end\":4,\"start\":0},\"id\":\"6431\",\"type\":\"DataRange1d\"},{\"attributes\":{\"start\":0},\"id\":\"6433\",\"type\":\"DataRange1d\"},{\"attributes\":{\"axis\":{\"id\":\"6439\"},\"ticker\":null},\"id\":\"6442\",\"type\":\"Grid\"},{\"attributes\":{\"axis_label\":\"Observations\",\"formatter\":{\"id\":\"6465\"},\"major_label_policy\":{\"id\":\"6466\"},\"ticker\":{\"id\":\"6444\"}},\"id\":\"6443\",\"type\":\"LinearAxis\"},{\"attributes\":{\"axis\":{\"id\":\"6443\"},\"dimension\":1,\"ticker\":null},\"id\":\"6446\",\"type\":\"Grid\"},{\"attributes\":{},\"id\":\"6444\",\"type\":\"BasicTicker\"},{\"attributes\":{},\"id\":\"6168\",\"type\":\"BasicTickFormatter\"},{\"attributes\":{\"axis\":{\"id\":\"5943\"},\"dimension\":1,\"ticker\":null},\"id\":\"5946\",\"type\":\"Grid\"},{\"attributes\":{},\"id\":\"6169\",\"type\":\"AllLabels\"},{\"attributes\":{},\"id\":\"5948\",\"type\":\"WheelZoomTool\"},{\"attributes\":{\"axis_label\":\"Observations\",\"formatter\":{\"id\":\"5965\"},\"major_label_policy\":{\"id\":\"5966\"},\"ticker\":{\"id\":\"5944\"}},\"id\":\"5943\",\"type\":\"LinearAxis\"},{\"attributes\":{},\"id\":\"5944\",\"type\":\"BasicTicker\"},{\"attributes\":{},\"id\":\"6137\",\"type\":\"LinearScale\"},{\"attributes\":{\"label\":{\"value\":\"\"},\"renderers\":[{\"id\":\"6112\"}]},\"id\":\"6125\",\"type\":\"LegendItem\"},{\"attributes\":{\"text\":\"Mean       = 1.0102\",\"text_font_size\":\"10pt\",\"x\":250,\"x_units\":\"screen\",\"y\":215,\"y_units\":\"screen\"},\"id\":\"6226\",\"type\":\"Label\"},{\"attributes\":{},\"id\":\"5947\",\"type\":\"PanTool\"},{\"attributes\":{},\"id\":\"6140\",\"type\":\"BasicTicker\"},{\"attributes\":{\"overlay\":{\"id\":\"5952\"}},\"id\":\"5949\",\"type\":\"BoxZoomTool\"},{\"attributes\":{},\"id\":\"5950\",\"type\":\"ResetTool\"},{\"attributes\":{\"axis_label\":\"Utility\",\"formatter\":{\"id\":\"6168\"},\"major_label_policy\":{\"id\":\"6169\"},\"ticker\":{\"id\":\"6140\"}},\"id\":\"6139\",\"type\":\"LinearAxis\"},{\"attributes\":{},\"id\":\"5951\",\"type\":\"SaveTool\"},{\"attributes\":{},\"id\":\"6135\",\"type\":\"LinearScale\"},{\"attributes\":{},\"id\":\"5994\",\"type\":\"BasicTicker\"},{\"attributes\":{\"end\":4,\"start\":0},\"id\":\"6131\",\"type\":\"DataRange1d\"},{\"attributes\":{},\"id\":\"5922\",\"type\":\"Selection\"},{\"attributes\":{\"start\":0},\"id\":\"6133\",\"type\":\"DataRange1d\"},{\"attributes\":{},\"id\":\"5998\",\"type\":\"WheelZoomTool\"},{\"attributes\":{\"axis_label\":\"Observations\",\"formatter\":{\"id\":\"6015\"},\"major_label_policy\":{\"id\":\"6016\"},\"ticker\":{\"id\":\"5994\"}},\"id\":\"5993\",\"type\":\"LinearAxis\"},{\"attributes\":{\"axis\":{\"id\":\"6139\"},\"ticker\":null},\"id\":\"6142\",\"type\":\"Grid\"},{\"attributes\":{},\"id\":\"6148\",\"type\":\"WheelZoomTool\"},{\"attributes\":{\"axis\":{\"id\":\"5993\"},\"dimension\":1,\"ticker\":null},\"id\":\"5996\",\"type\":\"Grid\"},{\"attributes\":{\"axis_label\":\"Observations\",\"formatter\":{\"id\":\"6165\"},\"major_label_policy\":{\"id\":\"6166\"},\"ticker\":{\"id\":\"6144\"}},\"id\":\"6143\",\"type\":\"LinearAxis\"},{\"attributes\":{\"axis\":{\"id\":\"6143\"},\"dimension\":1,\"ticker\":null},\"id\":\"6146\",\"type\":\"Grid\"},{\"attributes\":{},\"id\":\"6144\",\"type\":\"BasicTicker\"},{\"attributes\":{\"text\":\"Mean       = 0.9680\",\"text_font_size\":\"10pt\",\"x\":250,\"x_units\":\"screen\",\"y\":215,\"y_units\":\"screen\"},\"id\":\"6026\",\"type\":\"Label\"},{\"attributes\":{\"active_multi\":null,\"tools\":[{\"id\":\"6147\"},{\"id\":\"6148\"},{\"id\":\"6149\"},{\"id\":\"6150\"},{\"id\":\"6151\"}]},\"id\":\"6153\",\"type\":\"Toolbar\"},{\"attributes\":{},\"id\":\"5997\",\"type\":\"PanTool\"},{\"attributes\":{},\"id\":\"5965\",\"type\":\"BasicTickFormatter\"},{\"attributes\":{},\"id\":\"6147\",\"type\":\"PanTool\"},{\"attributes\":{\"overlay\":{\"id\":\"6152\"}},\"id\":\"6149\",\"type\":\"BoxZoomTool\"},{\"attributes\":{},\"id\":\"6150\",\"type\":\"ResetTool\"},{\"attributes\":{},\"id\":\"6151\",\"type\":\"SaveTool\"},{\"attributes\":{},\"id\":\"6165\",\"type\":\"BasicTickFormatter\"},{\"attributes\":{},\"id\":\"5966\",\"type\":\"AllLabels\"},{\"attributes\":{},\"id\":\"6166\",\"type\":\"AllLabels\"},{\"attributes\":{\"bottom_units\":\"screen\",\"fill_alpha\":0.5,\"fill_color\":\"lightgrey\",\"left_units\":\"screen\",\"level\":\"overlay\",\"line_alpha\":1.0,\"line_color\":\"black\",\"line_dash\":[4,4],\"line_width\":2,\"right_units\":\"screen\",\"syncable\":false,\"top_units\":\"screen\"},\"id\":\"6152\",\"type\":\"BoxAnnotation\"},{\"attributes\":{},\"id\":\"6171\",\"type\":\"UnionRenderers\"},{\"attributes\":{},\"id\":\"6172\",\"type\":\"Selection\"},{\"attributes\":{\"below\":[{\"id\":\"6189\"}],\"center\":[{\"id\":\"6192\"},{\"id\":\"6196\"},{\"id\":\"6224\"},{\"id\":\"6226\"},{\"id\":\"6227\"}],\"height\":350,\"left\":[{\"id\":\"6193\"}],\"renderers\":[{\"id\":\"6212\"}],\"title\":{\"id\":\"6179\"},\"toolbar\":{\"id\":\"6203\"},\"width\":500,\"x_range\":{\"id\":\"6181\"},\"x_scale\":{\"id\":\"6185\"},\"y_range\":{\"id\":\"6183\"},\"y_scale\":{\"id\":\"6187\"}},\"id\":\"6178\",\"subtype\":\"Figure\",\"type\":\"Plot\"},{\"attributes\":{\"data\":{\"left\":{\"__ndarray__\":\"D0qEHQAA8D+X+L7FJA3wPyCn+W1JGvA/qFU0Fm4n8D8wBG++kjTwP7myqWa3QfA/QWHkDtxO8D/JDx+3AFzwP1G+WV8lafA/2myUB0p28D9iG8+vboPwP+rJCViTkPA/c3hEALid8D/7Jn+o3KrwP4PVuVABuPA/DIT0+CXF8D+UMi+hStLwPxzhaUlv3/A/pY+k8ZPs8D8tPt+ZuPnwP7XsGULdBvE/PZtU6gEU8T/GSY+SJiHxP074yTpLLvE/1qYE42878T9fVT+LlEjxP+cDejO5VfE/b7K0291i8T/4YO+DAnDxP4APKiwnffE/CL5k1EuK8T+QbJ98cJfxPxkb2iSVpPE/ockUzbmx8T8peE913r7xP7Imih0DzPE/OtXExSfZ8T/Cg/9tTObxP0syOhZx8/E/0+B0vpUA8j9bj69mug3yP+Q96g7fGvI/bOwktwMo8j/0ml9fKDXyP3xJmgdNQvI/BfjUr3FP8j+Npg9YllzyPxVVSgC7afI/ngOFqN928j8msr9QBITyP65g+vgokfI/Nw81oU2e8j+/vW9JcqvyP0dsqvGWuPI/0BrlmbvF8j9YyR9C4NLyP+B3WuoE4PI/aCaVkint8j/x1M86TvryP3mDCuNyB/M/ATJFi5cU8z+K4H8zvCHzPxKPutvgLvM/mj31gwU88z8j7C8sKknzP6uaatROVvM/M0mlfHNj8z+8998kmHDzP0SmGs28ffM/zFRVdeGK8z9UA5AdBpjzP92xysUqpfM/ZWAFbk+y8z/tDkAWdL/zP3a9er6YzPM//mu1Zr3Z8z+GGvAO4ubzPw/JKrcG9PM/l3dlXysB9D8fJqAHUA70P6jU2q90G/Q/MIMVWJko9D+4MVAAvjX0P0DgiqjiQvQ/yY7FUAdQ9D9RPQD5K130P9nrOqFQavQ/Ypp1SXV39D/qSLDxmYT0P3L36pm+kfQ/+qUlQuOe9D+DVGDqB6z0PwsDm5IsufQ/lLHVOlHG9D8cYBDjddP0P6QOS4ua4PQ/LL2FM7/t9D+1a8Db4/r0Pz0a+4MICPU/xcg1LC0V9T9Od3DUUSL1P9Ylq3x2L/U/XtTlJJs89T/mgiDNv0n1P28xW3XkVvU/99+VHQlk9T+AjtDFLXH1Pwg9C25SfvU/kOtFFneL9T8YmoC+m5j1P6FIu2bApfU/Kff1DuWy9T+xpTC3CcD1PzpUa18uzfU/wgKmB1Pa9T9KseCvd+f1P9JfG1ic9PU/Ww5WAMEB9j/jvJCo5Q72P2xry1AKHPY/9BkG+S4p9j98yEChUzb2PwR3e0l4Q/Y/jSW28ZxQ9j8V1PCZwV32P52CK0LmavY/JjFm6gp49j+u36CSL4X2PzaO2zpUkvY/vjwW43if9j9H61CLnaz2P8+ZizPCufY/WEjG2+bG9j/g9gCEC9T2P2ilOyww4fY/8FN21FTu9j95ArF8efv2PwGx6ySeCPc/iV8mzcIV9z8SDmF15yL3P5q8mx0MMPc/ImvWxTA99z+qGRFuVUr3PzPISxZ6V/c/u3aGvp5k9z9EJcFmw3H3P8zT+w7ofvc/VII2twyM9z/cMHFfMZn3P2XfqwdWpvc/\",\"dtype\":\"float64\",\"order\":\"little\",\"shape\":[150]},\"right\":{\"__ndarray__\":\"l/i+xSQN8D8gp/ltSRrwP6hVNBZuJ/A/MARvvpI08D+5sqlmt0HwP0Fh5A7cTvA/yQ8ftwBc8D9RvllfJWnwP9pslAdKdvA/YhvPr26D8D/qyQlYk5DwP3N4RAC4nfA/+yZ/qNyq8D+D1blQAbjwPwyE9PglxfA/lDIvoUrS8D8c4WlJb9/wP6WPpPGT7PA/LT7fmbj58D+17BlC3QbxPz2bVOoBFPE/xkmPkiYh8T9O+Mk6Sy7xP9amBONvO/E/X1U/i5RI8T/nA3ozuVXxP2+ytNvdYvE/+GDvgwJw8T+ADyosJ33xPwi+ZNRLivE/kGyffHCX8T8ZG9oklaTxP6HJFM25sfE/KXhPdd6+8T+yJoodA8zxPzrVxMUn2fE/woP/bUzm8T9LMjoWcfPxP9PgdL6VAPI/W4+vZroN8j/kPeoO3xryP2zsJLcDKPI/9JpfXyg18j98SZoHTULyPwX41K9xT/I/jaYPWJZc8j8VVUoAu2nyP54DhajfdvI/JrK/UASE8j+uYPr4KJHyPzcPNaFNnvI/v71vSXKr8j9HbKrxlrjyP9Aa5Zm7xfI/WMkfQuDS8j/gd1rqBODyP2gmlZIp7fI/8dTPOk768j95gwrjcgfzPwEyRYuXFPM/iuB/M7wh8z8Sj7rb4C7zP5o99YMFPPM/I+wvLCpJ8z+rmmrUTlbzPzNJpXxzY/M/vPffJJhw8z9EphrNvH3zP8xUVXXhivM/VAOQHQaY8z/dscrFKqXzP2VgBW5PsvM/7Q5AFnS/8z92vXq+mMzzP/5rtWa92fM/hhrwDuLm8z8PySq3BvTzP5d3ZV8rAfQ/HyagB1AO9D+o1NqvdBv0PzCDFViZKPQ/uDFQAL419D9A4Iqo4kL0P8mOxVAHUPQ/UT0A+Std9D/Z6zqhUGr0P2KadUl1d/Q/6kiw8ZmE9D9y9+qZvpH0P/qlJULjnvQ/g1Rg6ges9D8LA5uSLLn0P5Sx1TpRxvQ/HGAQ43XT9D+kDkuLmuD0Pyy9hTO/7fQ/tWvA2+P69D89GvuDCAj1P8XINSwtFfU/Tndw1FEi9T/WJat8di/1P17U5SSbPPU/5oIgzb9J9T9vMVt15Fb1P/fflR0JZPU/gI7QxS1x9T8IPQtuUn71P5DrRRZ3i/U/GJqAvpuY9T+hSLtmwKX1Pyn39Q7lsvU/saUwtwnA9T86VGtfLs31P8ICpgdT2vU/SrHgr3fn9T/SXxtYnPT1P1sOVgDBAfY/47yQqOUO9j9sa8tQChz2P/QZBvkuKfY/fMhAoVM29j8Ed3tJeEP2P40ltvGcUPY/FdTwmcFd9j+dgitC5mr2PyYxZuoKePY/rt+gki+F9j82jts6VJL2P748FuN4n/Y/R+tQi52s9j/PmYszwrn2P1hIxtvmxvY/4PYAhAvU9j9opTssMOH2P/BTdtRU7vY/eQKxfHn79j8Bseskngj3P4lfJs3CFfc/Eg5hdeci9z+avJsdDDD3PyJr1sUwPfc/qhkRblVK9z8zyEsWelf3P7t2hr6eZPc/RCXBZsNx9z/M0/sO6H73P1SCNrcMjPc/3DBxXzGZ9z9l36sHVqb3P+2N5q96s/c/\",\"dtype\":\"float64\",\"order\":\"little\",\"shape\":[150]},\"top\":[4593,4292,3759,3450,3232,2890,2503,2344,2019,1891,1633,1466,1417,1203,1136,991,880,848,775,715,612,560,567,513,461,389,402,359,309,297,248,259,220,195,183,160,161,132,93,111,130,91,106,76,87,82,69,55,71,48,46,40,43,42,33,49,37,29,31,27,28,27,30,26,20,21,21,21,22,17,23,19,12,15,16,15,12,9,9,10,4,5,7,3,11,6,9,5,5,4,8,6,3,3,5,4,3,7,6,3,2,4,5,3,2,6,4,4,2,0,0,3,2,3,1,1,1,2,1,0,0,1,0,1,2,2,1,0,0,1,0,0,0,0,0,2,1,1,0,0,0,0,0,0,0,0,0,1,0,1]},\"selected\":{\"id\":\"6172\"},\"selection_policy\":{\"id\":\"6171\"}},\"id\":\"6159\",\"type\":\"ColumnDataSource\"},{\"attributes\":{\"bottom\":{\"value\":0},\"fill_alpha\":{\"value\":0.1},\"fill_color\":{\"value\":\"blue\"},\"left\":{\"field\":\"left\"},\"line_alpha\":{\"value\":0.1},\"line_color\":{\"value\":\"purple\"},\"right\":{\"field\":\"right\"},\"top\":{\"field\":\"top\"}},\"id\":\"6161\",\"type\":\"Quad\"},{\"attributes\":{},\"id\":\"6187\",\"type\":\"LinearScale\"},{\"attributes\":{\"label\":{\"value\":\"\"},\"renderers\":[{\"id\":\"6162\"}]},\"id\":\"6175\",\"type\":\"LegendItem\"},{\"attributes\":{\"text\":\"Randomly distributed endowments, gamma = 0.80\"},\"id\":\"6179\",\"type\":\"Title\"},{\"attributes\":{\"bottom\":{\"value\":0},\"fill_alpha\":{\"value\":0.5},\"fill_color\":{\"value\":\"blue\"},\"left\":{\"field\":\"left\"},\"line_alpha\":{\"value\":0.5},\"line_color\":{\"value\":\"purple\"},\"right\":{\"field\":\"right\"},\"top\":{\"field\":\"top\"}},\"id\":\"6160\",\"type\":\"Quad\"},{\"attributes\":{\"axis\":{\"id\":\"6189\"},\"ticker\":null},\"id\":\"6192\",\"type\":\"Grid\"},{\"attributes\":{},\"id\":\"6190\",\"type\":\"BasicTicker\"},{\"attributes\":{\"axis_label\":\"Utility\",\"formatter\":{\"id\":\"6218\"},\"major_label_policy\":{\"id\":\"6219\"},\"ticker\":{\"id\":\"6190\"}},\"id\":\"6189\",\"type\":\"LinearAxis\"},{\"attributes\":{\"items\":[{\"id\":\"6175\"}]},\"id\":\"6174\",\"type\":\"Legend\"},{\"attributes\":{\"end\":4,\"start\":0},\"id\":\"6181\",\"type\":\"DataRange1d\"},{\"attributes\":{\"data_source\":{\"id\":\"6159\"},\"glyph\":{\"id\":\"6160\"},\"hover_glyph\":null,\"muted_glyph\":null,\"nonselection_glyph\":{\"id\":\"6161\"},\"view\":{\"id\":\"6163\"}},\"id\":\"6162\",\"type\":\"GlyphRenderer\"},{\"attributes\":{},\"id\":\"6185\",\"type\":\"LinearScale\"},{\"attributes\":{\"text\":\"Variance  = 0.3173\",\"text_font_size\":\"10pt\",\"x\":250,\"x_units\":\"screen\",\"y\":200,\"y_units\":\"screen\"},\"id\":\"6227\",\"type\":\"Label\"},{\"attributes\":{\"source\":{\"id\":\"6159\"}},\"id\":\"6163\",\"type\":\"CDSView\"},{\"attributes\":{\"start\":0},\"id\":\"6183\",\"type\":\"DataRange1d\"},{\"attributes\":{},\"id\":\"5968\",\"type\":\"BasicTickFormatter\"},{\"attributes\":{},\"id\":\"5969\",\"type\":\"AllLabels\"},{\"attributes\":{},\"id\":\"6271\",\"type\":\"UnionRenderers\"},{\"attributes\":{},\"id\":\"6272\",\"type\":\"Selection\"},{\"attributes\":{},\"id\":\"6287\",\"type\":\"LinearScale\"},{\"attributes\":{\"label\":{\"value\":\"\"},\"renderers\":[{\"id\":\"6262\"}]},\"id\":\"6275\",\"type\":\"LegendItem\"},{\"attributes\":{\"end\":4,\"start\":0},\"id\":\"6331\",\"type\":\"DataRange1d\"},{\"attributes\":{},\"id\":\"6290\",\"type\":\"BasicTicker\"},{\"attributes\":{\"axis_label\":\"Utility\",\"formatter\":{\"id\":\"6318\"},\"major_label_policy\":{\"id\":\"6319\"},\"ticker\":{\"id\":\"6290\"}},\"id\":\"6289\",\"type\":\"LinearAxis\"},{\"attributes\":{},\"id\":\"6285\",\"type\":\"LinearScale\"},{\"attributes\":{\"end\":4,\"start\":0},\"id\":\"6281\",\"type\":\"DataRange1d\"},{\"attributes\":{\"start\":0},\"id\":\"6283\",\"type\":\"DataRange1d\"},{\"attributes\":{\"axis\":{\"id\":\"6289\"},\"ticker\":null},\"id\":\"6292\",\"type\":\"Grid\"},{\"attributes\":{},\"id\":\"6298\",\"type\":\"WheelZoomTool\"},{\"attributes\":{\"axis_label\":\"Observations\",\"formatter\":{\"id\":\"6315\"},\"major_label_policy\":{\"id\":\"6316\"},\"ticker\":{\"id\":\"6294\"}},\"id\":\"6293\",\"type\":\"LinearAxis\"},{\"attributes\":{\"axis\":{\"id\":\"6293\"},\"dimension\":1,\"ticker\":null},\"id\":\"6296\",\"type\":\"Grid\"},{\"attributes\":{},\"id\":\"6294\",\"type\":\"BasicTicker\"},{\"attributes\":{\"text\":\"Variance  = 0.0050\",\"text_font_size\":\"10pt\",\"x\":250,\"x_units\":\"screen\",\"y\":200,\"y_units\":\"screen\"},\"id\":\"6377\",\"type\":\"Label\"},{\"attributes\":{},\"id\":\"6297\",\"type\":\"PanTool\"},{\"attributes\":{\"overlay\":{\"id\":\"6302\"}},\"id\":\"6299\",\"type\":\"BoxZoomTool\"},{\"attributes\":{},\"id\":\"6300\",\"type\":\"ResetTool\"},{\"attributes\":{},\"id\":\"6301\",\"type\":\"SaveTool\"},{\"attributes\":{\"source\":{\"id\":\"6309\"}},\"id\":\"6313\",\"type\":\"CDSView\"},{\"attributes\":{\"data_source\":{\"id\":\"6309\"},\"glyph\":{\"id\":\"6310\"},\"hover_glyph\":null,\"muted_glyph\":null,\"nonselection_glyph\":{\"id\":\"6311\"},\"view\":{\"id\":\"6313\"}},\"id\":\"6312\",\"type\":\"GlyphRenderer\"},{\"attributes\":{\"bottom\":{\"value\":0},\"fill_alpha\":{\"value\":0.5},\"fill_color\":{\"value\":\"blue\"},\"left\":{\"field\":\"left\"},\"line_alpha\":{\"value\":0.5},\"line_color\":{\"value\":\"purple\"},\"right\":{\"field\":\"right\"},\"top\":{\"field\":\"top\"}},\"id\":\"6310\",\"type\":\"Quad\"},{\"attributes\":{\"items\":[{\"id\":\"6325\"}]},\"id\":\"6324\",\"type\":\"Legend\"},{\"attributes\":{},\"id\":\"5971\",\"type\":\"UnionRenderers\"},{\"attributes\":{\"text\":\"Mean       = 1.0608\",\"text_font_size\":\"10pt\",\"x\":250,\"x_units\":\"screen\",\"y\":215,\"y_units\":\"screen\"},\"id\":\"6376\",\"type\":\"Label\"},{\"attributes\":{},\"id\":\"5972\",\"type\":\"Selection\"},{\"attributes\":{\"bottom\":{\"value\":0},\"fill_alpha\":{\"value\":0.1},\"fill_color\":{\"value\":\"blue\"},\"left\":{\"field\":\"left\"},\"line_alpha\":{\"value\":0.1},\"line_color\":{\"value\":\"purple\"},\"right\":{\"field\":\"right\"},\"top\":{\"field\":\"top\"}},\"id\":\"6311\",\"type\":\"Quad\"},{\"attributes\":{\"text\":\"Equally distributed endowments, gamma = 1.00\"},\"id\":\"6329\",\"type\":\"Title\"},{\"attributes\":{\"data\":{\"left\":{\"__ndarray__\":\"/2QUSogEgD8y6bpSwVetP5JceEkwV7s/RqLJ9D8BxD9CFtfE51bKPx9FcspHVtA/Hv94shuB0z8cuX+a76vWPxpzhoLD1tk/GC2NapcB3T+L80mpNRbgP4pQTZ2fq+E/iq1QkQlB4z+JClSFc9bkP4hnV3nda+Y/h8RabUcB6D+GIV5hsZbpP4V+YVUbLOs/hNtkSYXB7D+DOGg971buP4KVazFZ7O8/QXm3kuHA8D/AJ7mMlovxP0DWuoZLVvI/wIS8gAAh8z8/M756tevzP7/hv3RqtvQ/PpDBbh+B9T++PsNo1Ev2Pz3txGKJFvc/vZvGXD7h9z88SshW86v4P7z4yVCodvk/PKfLSl1B+j+7Vc1EEgz7PzsEzz7H1vs/urLQOHyh/D86YdIyMWz9P7kP1CzmNv4/Ob7VJpsB/z+4bNcgUMz/P5yNbI2CSwBA3GRtCt2wAEAcPG6HNxYBQFsTbwSSewFAm+pvgezgAUDbwXD+RkYCQBuZcXuhqwJAW3By+PsQA0CaR3N1VnYDQNoedPKw2wNAGvZ0bwtBBEBazXXsZaYEQJmkdmnACwVA2Xt35hpxBUAZU3hjddYFQFkqeeDPOwZAmQF6XSqhBkDY2HrahAYHQBiwe1ffawdAWId81DnRB0CYXn1RlDYIQNc1fs7umwhAFw1/S0kBCUBX5H/Io2YJQJe7gEX+ywlA15KBwlgxCkAWaoI/s5YKQFZBg7wN/ApAlhiEOWhhC0DW74S2wsYLQBXHhTMdLAxAVZ6GsHeRDECVdYct0vYMQNVMiKosXA1AFSSJJ4fBDUBU+4mk4SYOQJTSiiE8jA5A1KmLnpbxDkAUgYwb8VYPQFNYjZhLvA9AyRfHCtMQEEBpg0dJgEMQQAnvx4ctdhBAqVpIxtqoEEBJxsgEiNsQQOkxSUM1DhFAiJ3JgeJAEUAoCUrAj3MRQMh0yv48phFAaOBKPerYEUAITMt7lwsSQKi3S7pEPhJASCPM+PFwEkDojkw3n6MSQIj6zHVM1hJAKGZNtPkIE0DH0c3ypjsTQGc9TjFUbhNAB6nObwGhE0CnFE+urtMTQEeAz+xbBhRA5+tPKwk5FECHV9BptmsUQCfDUKhjnhRAxy7R5hDRFEBmmlElvgMVQAYG0mNrNhVApnFSohhpFUBG3dLgxZsVQOZIUx9zzhVAhrTTXSABFkAmIFSczTMWQMaL1Np6ZhZAZvdUGSiZFkAFY9VX1csWQKXOVZaC/hZARTrW1C8xF0DlpVYT3WMXQIUR11GKlhdAJX1XkDfJF0DF6NfO5PsXQGVUWA2SLhhABcDYSz9hGECkK1mK7JMYQESX2ciZxhhA5AJaB0f5GECEbtpF9CsZQCTaWoShXhlAxEXbwk6RGUBksVsB/MMZQAQd3D+p9hlApIhcflYpGkBD9Ny8A1waQONfXfuwjhpAg8vdOV7BGkAjN154C/QaQMOi3ra4JhtAYw5f9WVZG0ADet8zE4wbQKPlX3LAvhtAQ1HgsG3xG0DivGDvGiQcQIIo4S3IVhxAIpRhbHWJHEDC/+GqIrwcQGJrYunP7hxAAtfiJ30hHUCiQmNmKlQdQEKu46TXhh1A\",\"dtype\":\"float64\",\"order\":\"little\",\"shape\":[150]},\"right\":{\"__ndarray__\":\"Mum6UsFXrT+SXHhJMFe7P0aiyfQ/AcQ/QhbXxOdWyj8fRXLKR1bQPx7/eLIbgdM/HLl/mu+r1j8ac4aCw9bZPxgtjWqXAd0/i/NJqTUW4D+KUE2dn6vhP4qtUJEJQeM/iQpUhXPW5D+IZ1d53WvmP4fEWm1HAeg/hiFeYbGW6T+FfmFVGyzrP4TbZEmFwew/gzhoPe9W7j+ClWsxWezvP0F5t5LhwPA/wCe5jJaL8T9A1rqGS1byP8CEvIAAIfM/PzO+erXr8z+/4b90arb0Pz6QwW4fgfU/vj7DaNRL9j897cRiiRb3P72bxlw+4fc/PErIVvOr+D+8+MlQqHb5Pzyny0pdQfo/u1XNRBIM+z87BM8+x9b7P7qy0Dh8ofw/OmHSMjFs/T+5D9Qs5jb+Pzm+1SabAf8/uGzXIFDM/z+cjWyNgksAQNxkbQrdsABAHDxuhzcWAUBbE28EknsBQJvqb4Hs4AFA28Fw/kZGAkAbmXF7oasCQFtwcvj7EANAmkdzdVZ2A0DaHnTysNsDQBr2dG8LQQRAWs117GWmBECZpHZpwAsFQNl7d+YacQVAGVN4Y3XWBUBZKnngzzsGQJkBel0qoQZA2Nh62oQGB0AYsHtX32sHQFiHfNQ50QdAmF59UZQ2CEDXNX7O7psIQBcNf0tJAQlAV+R/yKNmCUCXu4BF/ssJQNeSgcJYMQpAFmqCP7OWCkBWQYO8DfwKQJYYhDloYQtA1u+EtsLGC0AVx4UzHSwMQFWehrB3kQxAlXWHLdL2DEDVTIiqLFwNQBUkiSeHwQ1AVPuJpOEmDkCU0oohPIwOQNSpi56W8Q5AFIGMG/FWD0BTWI2YS7wPQMkXxwrTEBBAaYNHSYBDEEAJ78eHLXYQQKlaSMbaqBBAScbIBIjbEEDpMUlDNQ4RQIidyYHiQBFAKAlKwI9zEUDIdMr+PKYRQGjgSj3q2BFACEzLe5cLEkCot0u6RD4SQEgjzPjxcBJA6I5MN5+jEkCI+sx1TNYSQChmTbT5CBNAx9HN8qY7E0BnPU4xVG4TQAepzm8BoRNApxRPrq7TE0BHgM/sWwYUQOfrTysJORRAh1fQabZrFEAnw1CoY54UQMcu0eYQ0RRAZppRJb4DFUAGBtJjazYVQKZxUqIYaRVARt3S4MWbFUDmSFMfc84VQIa0010gARZAJiBUnM0zFkDGi9TaemYWQGb3VBkomRZABWPVV9XLFkClzlWWgv4WQEU61tQvMRdA5aVWE91jF0CFEddRipYXQCV9V5A3yRdAxejXzuT7F0BlVFgNki4YQAXA2Es/YRhApCtZiuyTGEBEl9nImcYYQOQCWgdH+RhAhG7aRfQrGUAk2lqEoV4ZQMRF28JOkRlAZLFbAfzDGUAEHdw/qfYZQKSIXH5WKRpAQ/TcvANcGkDjX137sI4aQIPL3TlewRpAIzdeeAv0GkDDot62uCYbQGMOX/VlWRtAA3rfMxOMG0Cj5V9ywL4bQENR4LBt8RtA4rxg7xokHECCKOEtyFYcQCKUYWx1iRxAwv/hqiK8HEBia2Lpz+4cQALX4id9IR1AokJjZipUHUBCruOk14YdQOIZZOOEuR1A\",\"dtype\":\"float64\",\"order\":\"little\",\"shape\":[150]},\"top\":[58,281,551,954,1191,1420,1635,1786,1839,1900,1881,1856,1819,1785,1703,1810,1691,1576,1566,1420,1387,1213,1218,1101,1149,1030,944,823,853,752,733,656,642,593,574,526,499,443,399,392,378,356,324,290,272,235,243,192,214,170,192,169,170,134,140,141,127,105,117,112,91,83,67,81,69,59,71,56,42,40,43,31,36,29,32,33,34,17,19,25,22,27,16,16,14,19,15,10,22,14,11,10,9,8,7,7,8,8,2,5,1,3,2,4,4,4,3,3,5,2,1,3,1,2,1,0,2,1,1,1,0,0,5,0,2,1,0,0,0,2,0,3,0,0,0,0,0,0,1,1,0,0,1,0,0,0,0,0,1,1]},\"selected\":{\"id\":\"6322\"},\"selection_policy\":{\"id\":\"6321\"}},\"id\":\"6309\",\"type\":\"ColumnDataSource\"},{\"attributes\":{\"label\":{\"value\":\"\"},\"renderers\":[{\"id\":\"6312\"}]},\"id\":\"6325\",\"type\":\"LegendItem\"},{\"attributes\":{},\"id\":\"5987\",\"type\":\"LinearScale\"},{\"attributes\":{\"bottom_units\":\"screen\",\"fill_alpha\":0.5,\"fill_color\":\"lightgrey\",\"left_units\":\"screen\",\"level\":\"overlay\",\"line_alpha\":1.0,\"line_color\":\"black\",\"line_dash\":[4,4],\"line_width\":2,\"right_units\":\"screen\",\"syncable\":false,\"top_units\":\"screen\"},\"id\":\"6302\",\"type\":\"BoxAnnotation\"},{\"attributes\":{\"label\":{\"value\":\"\"},\"renderers\":[{\"id\":\"5962\"}]},\"id\":\"5975\",\"type\":\"LegendItem\"},{\"attributes\":{\"axis\":{\"id\":\"5989\"},\"ticker\":null},\"id\":\"5992\",\"type\":\"Grid\"},{\"attributes\":{},\"id\":\"5990\",\"type\":\"BasicTicker\"},{\"attributes\":{\"axis_label\":\"Utility\",\"formatter\":{\"id\":\"6018\"},\"major_label_policy\":{\"id\":\"6019\"},\"ticker\":{\"id\":\"5990\"}},\"id\":\"5989\",\"type\":\"LinearAxis\"},{\"attributes\":{\"end\":4,\"start\":0},\"id\":\"5981\",\"type\":\"DataRange1d\"},{\"attributes\":{},\"id\":\"5985\",\"type\":\"LinearScale\"},{\"attributes\":{\"start\":0},\"id\":\"5983\",\"type\":\"DataRange1d\"},{\"attributes\":{},\"id\":\"6021\",\"type\":\"UnionRenderers\"},{\"attributes\":{},\"id\":\"6022\",\"type\":\"Selection\"},{\"attributes\":{},\"id\":\"6037\",\"type\":\"LinearScale\"},{\"attributes\":{\"label\":{\"value\":\"\"},\"renderers\":[{\"id\":\"6012\"}]},\"id\":\"6025\",\"type\":\"LegendItem\"},{\"attributes\":{},\"id\":\"6040\",\"type\":\"BasicTicker\"},{\"attributes\":{\"axis_label\":\"Utility\",\"formatter\":{\"id\":\"6068\"},\"major_label_policy\":{\"id\":\"6069\"},\"ticker\":{\"id\":\"6040\"}},\"id\":\"6039\",\"type\":\"LinearAxis\"},{\"attributes\":{},\"id\":\"6035\",\"type\":\"LinearScale\"},{\"attributes\":{\"end\":4,\"start\":0},\"id\":\"6031\",\"type\":\"DataRange1d\"},{\"attributes\":{\"start\":0},\"id\":\"6033\",\"type\":\"DataRange1d\"},{\"attributes\":{\"axis\":{\"id\":\"6039\"},\"ticker\":null},\"id\":\"6042\",\"type\":\"Grid\"},{\"attributes\":{},\"id\":\"6048\",\"type\":\"WheelZoomTool\"},{\"attributes\":{\"axis_label\":\"Observations\",\"formatter\":{\"id\":\"6065\"},\"major_label_policy\":{\"id\":\"6066\"},\"ticker\":{\"id\":\"6044\"}},\"id\":\"6043\",\"type\":\"LinearAxis\"},{\"attributes\":{\"axis\":{\"id\":\"6043\"},\"dimension\":1,\"ticker\":null},\"id\":\"6046\",\"type\":\"Grid\"},{\"attributes\":{},\"id\":\"6044\",\"type\":\"BasicTicker\"},{\"attributes\":{\"text\":\"Variance  = 0.0016\",\"text_font_size\":\"10pt\",\"x\":250,\"x_units\":\"screen\",\"y\":200,\"y_units\":\"screen\"},\"id\":\"6177\",\"type\":\"Label\"},{\"attributes\":{},\"id\":\"6047\",\"type\":\"PanTool\"},{\"attributes\":{\"text\":\"Equally distributed endowments, gamma = 0.60\"},\"id\":\"6129\",\"type\":\"Title\"},{\"attributes\":{\"bottom_units\":\"screen\",\"fill_alpha\":0.5,\"fill_color\":\"lightgrey\",\"left_units\":\"screen\",\"level\":\"overlay\",\"line_alpha\":1.0,\"line_color\":\"black\",\"line_dash\":[4,4],\"line_width\":2,\"right_units\":\"screen\",\"syncable\":false,\"top_units\":\"screen\"},\"id\":\"6052\",\"type\":\"BoxAnnotation\"},{\"attributes\":{},\"id\":\"6198\",\"type\":\"WheelZoomTool\"},{\"attributes\":{\"text\":\"Variance  = 0.0030\",\"text_font_size\":\"10pt\",\"x\":250,\"x_units\":\"screen\",\"y\":200,\"y_units\":\"screen\"},\"id\":\"6277\",\"type\":\"Label\"},{\"attributes\":{\"axis_label\":\"Observations\",\"formatter\":{\"id\":\"6215\"},\"major_label_policy\":{\"id\":\"6216\"},\"ticker\":{\"id\":\"6194\"}},\"id\":\"6193\",\"type\":\"LinearAxis\"},{\"attributes\":{\"axis\":{\"id\":\"6193\"},\"dimension\":1,\"ticker\":null},\"id\":\"6196\",\"type\":\"Grid\"},{\"attributes\":{},\"id\":\"6194\",\"type\":\"BasicTicker\"},{\"attributes\":{\"active_multi\":null,\"tools\":[{\"id\":\"6197\"},{\"id\":\"6198\"},{\"id\":\"6199\"},{\"id\":\"6200\"},{\"id\":\"6201\"}]},\"id\":\"6203\",\"type\":\"Toolbar\"},{\"attributes\":{},\"id\":\"6197\",\"type\":\"PanTool\"},{\"attributes\":{\"overlay\":{\"id\":\"6202\"}},\"id\":\"6199\",\"type\":\"BoxZoomTool\"},{\"attributes\":{},\"id\":\"6200\",\"type\":\"ResetTool\"},{\"attributes\":{},\"id\":\"6201\",\"type\":\"SaveTool\"},{\"attributes\":{\"start\":0},\"id\":\"5933\",\"type\":\"DataRange1d\"},{\"attributes\":{},\"id\":\"6216\",\"type\":\"AllLabels\"},{\"attributes\":{},\"id\":\"6215\",\"type\":\"BasicTickFormatter\"},{\"attributes\":{\"axis_label\":\"Utility\",\"formatter\":{\"id\":\"5968\"},\"major_label_policy\":{\"id\":\"5969\"},\"ticker\":{\"id\":\"5940\"}},\"id\":\"5939\",\"type\":\"LinearAxis\"},{\"attributes\":{\"label\":{\"value\":\"\"},\"renderers\":[{\"id\":\"5912\"}]},\"id\":\"5925\",\"type\":\"LegendItem\"},{\"attributes\":{\"bottom_units\":\"screen\",\"fill_alpha\":0.5,\"fill_color\":\"lightgrey\",\"left_units\":\"screen\",\"level\":\"overlay\",\"line_alpha\":1.0,\"line_color\":\"black\",\"line_dash\":[4,4],\"line_width\":2,\"right_units\":\"screen\",\"syncable\":false,\"top_units\":\"screen\"},\"id\":\"6202\",\"type\":\"BoxAnnotation\"},{\"attributes\":{\"end\":4,\"start\":0},\"id\":\"5931\",\"type\":\"DataRange1d\"},{\"attributes\":{},\"id\":\"6221\",\"type\":\"UnionRenderers\"},{\"attributes\":{},\"id\":\"6222\",\"type\":\"Selection\"},{\"attributes\":{\"text\":\"Equally distributed endowments, gamma = 0.80\"},\"id\":\"6229\",\"type\":\"Title\"},{\"attributes\":{},\"id\":\"5937\",\"type\":\"LinearScale\"},{\"attributes\":{\"axis\":{\"id\":\"5939\"},\"ticker\":null},\"id\":\"5942\",\"type\":\"Grid\"},{\"attributes\":{\"data\":{\"left\":{\"__ndarray__\":\"URQZAH0hlT/6V1cqdnqrP+USUeoWMrY/znl2v/Kmvj9b8E1K543DP8+j4DRVyMc/RFdzH8MCzD9cBQOFmB7QPxZfTHrPO9I/0LiVbwZZ1D+KEt9kPXbWP0RsKFp0k9g//8VxT6uw2j+5H7tE4s3cP3N5BDoZ694/l+mmFyiE4D90lkuSw5LhP1FD8AxfoeI/LvCUh/qv4z8LnTkClr7kP+hJ3nwxzeU/xfaC98zb5j+ioydyaOrnP39QzOwD+eg/Xf1wZ58H6j86qhXiOhbrPxdXulzWJOw/9ANf13Ez7T/RsANSDULuP65dqMyoUO8/RYWmI6Iv8D+z2/jg77bwPyIyS549PvE/kYidW4vF8T//3u8Y2UzyP241QtYm1PI/3IuUk3Rb8z9L4uZQwuLzP7k4OQ4QavQ/KI+Ly13x9D+W5d2Iq3j1PwU8MEb5//U/c5KCA0eH9j/i6NTAlA73P1A/J37ilfc/v5V5OzAd+D8t7Mv4faT4P5xCHrbLK/k/C5lwcxmz+T9578IwZzr6P+hFFe60wfo/VpxnqwJJ+z/F8rloUND7PzNJDCaeV/w/op9e4+ve/D8Q9rCgOWb9P39MA16H7f0/7aJVG9V0/j9c+afYIvz+P8pP+pVwg/8/HVOmKV8FAEBUfk8IBkkAQIup+OasjABAw9ShxVPQAED6/0qk+hMBQDEr9IKhVwFAaVadYUibAUCggUZA794BQNes7x6WIgJADtiY/TxmAkBGA0Lc46kCQH0u67qK7QJAtFmUmTExA0DrhD142HQDQCOw5lZ/uANAWtuPNSb8A0CRBjkUzT8EQMgx4vJzgwRAAF2L0RrHBEA3iDSwwQoFQG6z3Y5oTgVApt6GbQ+SBUDdCTBMttUFQBQ12SpdGQZAS2CCCQRdBkCDiyvoqqAGQLq21MZR5AZA8eF9pfgnB0AoDSeEn2sHQGA40GJGrwdAl2N5Qe3yB0DOjiIglDYIQAW6y/46eghAPeV03eG9CEB0EB68iAEJQKs7x5ovRQlA42ZwedaICUAakhlYfcwJQFG9wjYkEApAiOhrFctTCkDAExX0cZcKQPc+vtIY2wpALmpnsb8eC0BllRCQZmILQJ3AuW4NpgtA1OtiTbTpC0ALFwwsWy0MQEJCtQoCcQxAem1e6ai0DECxmAfIT/gMQOjDsKb2Ow1AH+9ZhZ1/DUBXGgNkRMMNQI5FrELrBg5AxXBVIZJKDkD9m/7/OI4OQDTHp97f0Q5Aa/JQvYYVD0CiHfqbLVkPQNpIo3rUnA9AEXRMWXvgD0Ckz/obERIQQD9lT4vkMxBA2/qj+rdVEEB2kPhpi3cQQBImTdlemRBArruhSDK7EEBJUfa3Bd0QQOXmSifZ/hBAgXyflqwgEUAcEvQFgEIRQLinSHVTZBFAVD2d5CaGEUDv0vFT+qcRQItoRsPNyRFAJv6aMqHrEUDCk++hdA0SQF4pRBFILxJA+b6YgBtREkCVVO3v7nISQDHqQV/ClBJAzH+WzpW2EkBoFes9adgSQAOrP608+hJAn0CUHBAcE0A71uiL4z0TQNZrPfu2XxNAcgGSaoqBE0AOl+bZXaMTQKksO0kxxRNA\",\"dtype\":\"float64\",\"order\":\"little\",\"shape\":[150]},\"right\":{\"__ndarray__\":\"+ldXKnZ6qz/lElHqFjK2P855dr/ypr4/W/BNSueNwz/Po+A0VcjHP0RXcx/DAsw/XAUDhZge0D8WX0x6zzvSP9C4lW8GWdQ/ihLfZD121j9EbChadJPYP//FcU+rsNo/uR+7ROLN3D9zeQQ6GeveP5fpphcohOA/dJZLksOS4T9RQ/AMX6HiPy7wlIf6r+M/C505Apa+5D/oSd58Mc3lP8X2gvfM2+Y/oqMncmjq5z9/UMzsA/noP139cGefB+o/OqoV4joW6z8XV7pc1iTsP/QDX9dxM+0/0bADUg1C7j+uXajMqFDvP0WFpiOiL/A/s9v44O+28D8iMkuePT7xP5GInVuLxfE//97vGNlM8j9uNULWJtTyP9yLlJN0W/M/S+LmUMLi8z+5ODkOEGr0PyiPi8td8fQ/luXdiKt49T8FPDBG+f/1P3OSggNHh/Y/4ujUwJQO9z9QPyd+4pX3P7+VeTswHfg/LezL+H2k+D+cQh62yyv5PwuZcHMZs/k/ee/CMGc6+j/oRRXutMH6P1acZ6sCSfs/xfK5aFDQ+z8zSQwmnlf8P6KfXuPr3vw/EPawoDlm/T9/TANeh+39P+2iVRvVdP4/XPmn2CL8/j/KT/qVcIP/Px1TpilfBQBAVH5PCAZJAECLqfjmrIwAQMPUocVT0ABA+v9KpPoTAUAxK/SCoVcBQGlWnWFImwFAoIFGQO/eAUDXrO8eliICQA7YmP08ZgJARgNC3OOpAkB9Luu6iu0CQLRZlJkxMQNA64Q9eNh0A0AjsOZWf7gDQFrbjzUm/ANAkQY5FM0/BEDIMeLyc4MEQABdi9EaxwRAN4g0sMEKBUBus92OaE4FQKbehm0PkgVA3QkwTLbVBUAUNdkqXRkGQEtgggkEXQZAg4sr6KqgBkC6ttTGUeQGQPHhfaX4JwdAKA0nhJ9rB0BgONBiRq8HQJdjeUHt8gdAzo4iIJQ2CEAFusv+OnoIQD3ldN3hvQhAdBAevIgBCUCrO8eaL0UJQONmcHnWiAlAGpIZWH3MCUBRvcI2JBAKQIjoaxXLUwpAwBMV9HGXCkD3Pr7SGNsKQC5qZ7G/HgtAZZUQkGZiC0CdwLluDaYLQNTrYk206QtACxcMLFstDEBCQrUKAnEMQHptXumotAxAsZgHyE/4DEDow7Cm9jsNQB/vWYWdfw1AVxoDZETDDUCORaxC6wYOQMVwVSGSSg5A/Zv+/ziODkA0x6fe39EOQGvyUL2GFQ9Aoh36my1ZD0DaSKN61JwPQBF0TFl74A9ApM/6GxESEEA/ZU+L5DMQQNv6o/q3VRBAdpD4aYt3EEASJk3ZXpkQQK67oUgyuxBASVH2twXdEEDl5kon2f4QQIF8n5asIBFAHBL0BYBCEUC4p0h1U2QRQFQ9neQmhhFA79LxU/qnEUCLaEbDzckRQCb+mjKh6xFAwpPvoXQNEkBeKUQRSC8SQPm+mIAbURJAlVTt7+5yEkAx6kFfwpQSQMx/ls6VthJAaBXrPWnYEkADqz+tPPoSQJ9AlBwQHBNAO9boi+M9E0DWaz37tl8TQHIBkmqKgRNADpfm2V2jE0CpLDtJMcUTQEXCj7gE5xNA\",\"dtype\":\"float64\",\"order\":\"little\",\"shape\":[150]},\"top\":[10,20,77,153,215,328,460,617,714,830,954,1073,1149,1241,1307,1321,1394,1347,1409,1361,1398,1363,1337,1403,1443,1307,1310,1289,1214,1170,1124,1022,1028,971,1006,898,906,806,715,767,686,668,595,602,561,523,542,491,432,413,386,358,373,329,308,280,271,230,236,193,216,169,188,176,167,139,142,142,134,104,118,114,95,87,73,73,79,74,60,49,41,46,38,32,35,37,35,34,17,25,28,26,23,17,15,20,21,9,23,13,11,10,12,8,8,11,4,5,2,3,2,5,6,3,4,5,2,2,3,1,2,0,2,1,2,0,0,5,0,3,0,0,0,2,3,0,0,0,0,0,1,1,0,1,0,0,0,0,1,1]},\"selected\":{\"id\":\"6222\"},\"selection_policy\":{\"id\":\"6221\"}},\"id\":\"6209\",\"type\":\"ColumnDataSource\"},{\"attributes\":{\"text\":\"Equally distributed endowments, gamma = 0.20\"},\"id\":\"5929\",\"type\":\"Title\"},{\"attributes\":{\"label\":{\"value\":\"\"},\"renderers\":[{\"id\":\"6212\"}]},\"id\":\"6225\",\"type\":\"LegendItem\"},{\"attributes\":{\"bottom\":{\"value\":0},\"fill_alpha\":{\"value\":0.1},\"fill_color\":{\"value\":\"blue\"},\"left\":{\"field\":\"left\"},\"line_alpha\":{\"value\":0.1},\"line_color\":{\"value\":\"purple\"},\"right\":{\"field\":\"right\"},\"top\":{\"field\":\"top\"}},\"id\":\"6211\",\"type\":\"Quad\"},{\"attributes\":{\"below\":[{\"id\":\"6289\"}],\"center\":[{\"id\":\"6292\"},{\"id\":\"6296\"},{\"id\":\"6324\"},{\"id\":\"6326\"},{\"id\":\"6327\"}],\"height\":350,\"left\":[{\"id\":\"6293\"}],\"renderers\":[{\"id\":\"6312\"}],\"title\":{\"id\":\"6279\"},\"toolbar\":{\"id\":\"6303\"},\"width\":500,\"x_range\":{\"id\":\"6281\"},\"x_scale\":{\"id\":\"6285\"},\"y_range\":{\"id\":\"6283\"},\"y_scale\":{\"id\":\"6287\"}},\"id\":\"6278\",\"subtype\":\"Figure\",\"type\":\"Plot\"},{\"attributes\":{\"text\":\"Randomly distributed endowments, gamma = 1.00\"},\"id\":\"6279\",\"type\":\"Title\"},{\"attributes\":{\"bottom\":{\"value\":0},\"fill_alpha\":{\"value\":0.5},\"fill_color\":{\"value\":\"blue\"},\"left\":{\"field\":\"left\"},\"line_alpha\":{\"value\":0.5},\"line_color\":{\"value\":\"purple\"},\"right\":{\"field\":\"right\"},\"top\":{\"field\":\"top\"}},\"id\":\"6210\",\"type\":\"Quad\"},{\"attributes\":{},\"id\":\"6235\",\"type\":\"LinearScale\"},{\"attributes\":{\"items\":[{\"id\":\"6225\"}]},\"id\":\"6224\",\"type\":\"Legend\"},{\"attributes\":{\"axis\":{\"id\":\"6239\"},\"ticker\":null},\"id\":\"6242\",\"type\":\"Grid\"},{\"attributes\":{\"end\":4,\"start\":0},\"id\":\"6231\",\"type\":\"DataRange1d\"},{\"attributes\":{\"data_source\":{\"id\":\"6209\"},\"glyph\":{\"id\":\"6210\"},\"hover_glyph\":null,\"muted_glyph\":null,\"nonselection_glyph\":{\"id\":\"6211\"},\"view\":{\"id\":\"6213\"}},\"id\":\"6212\",\"type\":\"GlyphRenderer\"},{\"attributes\":{\"below\":[{\"id\":\"6239\"}],\"center\":[{\"id\":\"6242\"},{\"id\":\"6246\"},{\"id\":\"6274\"},{\"id\":\"6276\"},{\"id\":\"6277\"}],\"height\":350,\"left\":[{\"id\":\"6243\"}],\"renderers\":[{\"id\":\"6262\"}],\"title\":{\"id\":\"6229\"},\"toolbar\":{\"id\":\"6253\"},\"width\":500,\"x_range\":{\"id\":\"6231\"},\"x_scale\":{\"id\":\"6235\"},\"y_range\":{\"id\":\"6233\"},\"y_scale\":{\"id\":\"6237\"}},\"id\":\"6228\",\"subtype\":\"Figure\",\"type\":\"Plot\"},{\"attributes\":{},\"id\":\"6240\",\"type\":\"BasicTicker\"},{\"attributes\":{\"axis_label\":\"Utility\",\"formatter\":{\"id\":\"6268\"},\"major_label_policy\":{\"id\":\"6269\"},\"ticker\":{\"id\":\"6240\"}},\"id\":\"6239\",\"type\":\"LinearAxis\"},{\"attributes\":{\"source\":{\"id\":\"6209\"}},\"id\":\"6213\",\"type\":\"CDSView\"},{\"attributes\":{\"start\":0},\"id\":\"6233\",\"type\":\"DataRange1d\"},{\"attributes\":{},\"id\":\"6237\",\"type\":\"LinearScale\"},{\"attributes\":{},\"id\":\"6248\",\"type\":\"WheelZoomTool\"},{\"attributes\":{\"axis_label\":\"Observations\",\"formatter\":{\"id\":\"6265\"},\"major_label_policy\":{\"id\":\"6266\"},\"ticker\":{\"id\":\"6244\"}},\"id\":\"6243\",\"type\":\"LinearAxis\"},{\"attributes\":{},\"id\":\"5940\",\"type\":\"BasicTicker\"},{\"attributes\":{\"text\":\"Variance  = 0.0002\",\"text_font_size\":\"10pt\",\"x\":250,\"x_units\":\"screen\",\"y\":200,\"y_units\":\"screen\"},\"id\":\"5977\",\"type\":\"Label\"},{\"attributes\":{\"axis\":{\"id\":\"6243\"},\"dimension\":1,\"ticker\":null},\"id\":\"6246\",\"type\":\"Grid\"},{\"attributes\":{},\"id\":\"6218\",\"type\":\"BasicTickFormatter\"},{\"attributes\":{},\"id\":\"6244\",\"type\":\"BasicTicker\"},{\"attributes\":{\"text\":\"Variance  = 0.5559\",\"text_font_size\":\"10pt\",\"x\":250,\"x_units\":\"screen\",\"y\":200,\"y_units\":\"screen\"},\"id\":\"6327\",\"type\":\"Label\"},{\"attributes\":{},\"id\":\"6219\",\"type\":\"AllLabels\"},{\"attributes\":{},\"id\":\"6247\",\"type\":\"PanTool\"},{\"attributes\":{\"overlay\":{\"id\":\"6252\"}},\"id\":\"6249\",\"type\":\"BoxZoomTool\"},{\"attributes\":{},\"id\":\"6250\",\"type\":\"ResetTool\"},{\"attributes\":{},\"id\":\"6251\",\"type\":\"SaveTool\"},{\"attributes\":{\"data_source\":{\"id\":\"6259\"},\"glyph\":{\"id\":\"6260\"},\"hover_glyph\":null,\"muted_glyph\":null,\"nonselection_glyph\":{\"id\":\"6261\"},\"view\":{\"id\":\"6263\"}},\"id\":\"6262\",\"type\":\"GlyphRenderer\"},{\"attributes\":{\"source\":{\"id\":\"6259\"}},\"id\":\"6263\",\"type\":\"CDSView\"},{\"attributes\":{\"below\":[{\"id\":\"6339\"}],\"center\":[{\"id\":\"6342\"},{\"id\":\"6346\"},{\"id\":\"6374\"},{\"id\":\"6376\"},{\"id\":\"6377\"}],\"height\":350,\"left\":[{\"id\":\"6343\"}],\"renderers\":[{\"id\":\"6362\"}],\"title\":{\"id\":\"6329\"},\"toolbar\":{\"id\":\"6353\"},\"width\":500,\"x_range\":{\"id\":\"6331\"},\"x_scale\":{\"id\":\"6335\"},\"y_range\":{\"id\":\"6333\"},\"y_scale\":{\"id\":\"6337\"}},\"id\":\"6328\",\"subtype\":\"Figure\",\"type\":\"Plot\"},{\"attributes\":{\"items\":[{\"id\":\"6275\"}]},\"id\":\"6274\",\"type\":\"Legend\"},{\"attributes\":{\"bottom\":{\"value\":0},\"fill_alpha\":{\"value\":0.1},\"fill_color\":{\"value\":\"blue\"},\"left\":{\"field\":\"left\"},\"line_alpha\":{\"value\":0.1},\"line_color\":{\"value\":\"purple\"},\"right\":{\"field\":\"right\"},\"top\":{\"field\":\"top\"}},\"id\":\"6261\",\"type\":\"Quad\"},{\"attributes\":{\"text\":\"Mean       = 0.9801\",\"text_font_size\":\"10pt\",\"x\":250,\"x_units\":\"screen\",\"y\":215,\"y_units\":\"screen\"},\"id\":\"6126\",\"type\":\"Label\"},{\"attributes\":{},\"id\":\"6337\",\"type\":\"LinearScale\"},{\"attributes\":{},\"id\":\"5901\",\"type\":\"SaveTool\"},{\"attributes\":{},\"id\":\"6340\",\"type\":\"BasicTicker\"},{\"attributes\":{\"text\":\"Mean       = 1.2750\",\"text_font_size\":\"10pt\",\"x\":250,\"x_units\":\"screen\",\"y\":215,\"y_units\":\"screen\"},\"id\":\"6426\",\"type\":\"Label\"},{\"attributes\":{\"source\":{\"id\":\"6109\"}},\"id\":\"6113\",\"type\":\"CDSView\"},{\"attributes\":{},\"id\":\"6266\",\"type\":\"AllLabels\"},{\"attributes\":{\"items\":[{\"id\":\"6125\"}]},\"id\":\"6124\",\"type\":\"Legend\"},{\"attributes\":{\"active_multi\":null,\"tools\":[{\"id\":\"6297\"},{\"id\":\"6298\"},{\"id\":\"6299\"},{\"id\":\"6300\"},{\"id\":\"6301\"}]},\"id\":\"6303\",\"type\":\"Toolbar\"},{\"attributes\":{},\"id\":\"6265\",\"type\":\"BasicTickFormatter\"},{\"attributes\":{\"axis_label\":\"Utility\",\"formatter\":{\"id\":\"6368\"},\"major_label_policy\":{\"id\":\"6369\"},\"ticker\":{\"id\":\"6340\"}},\"id\":\"6339\",\"type\":\"LinearAxis\"},{\"attributes\":{},\"id\":\"6335\",\"type\":\"LinearScale\"},{\"attributes\":{},\"id\":\"6368\",\"type\":\"BasicTickFormatter\"},{\"attributes\":{\"start\":0},\"id\":\"6333\",\"type\":\"DataRange1d\"},{\"attributes\":{\"axis\":{\"id\":\"6339\"},\"ticker\":null},\"id\":\"6342\",\"type\":\"Grid\"},{\"attributes\":{},\"id\":\"6369\",\"type\":\"AllLabels\"},{\"attributes\":{},\"id\":\"6348\",\"type\":\"WheelZoomTool\"},{\"attributes\":{\"axis_label\":\"Observations\",\"formatter\":{\"id\":\"6365\"},\"major_label_policy\":{\"id\":\"6366\"},\"ticker\":{\"id\":\"6344\"}},\"id\":\"6343\",\"type\":\"LinearAxis\"},{\"attributes\":{\"axis\":{\"id\":\"6343\"},\"dimension\":1,\"ticker\":null},\"id\":\"6346\",\"type\":\"Grid\"},{\"attributes\":{},\"id\":\"6115\",\"type\":\"BasicTickFormatter\"},{\"attributes\":{},\"id\":\"6318\",\"type\":\"BasicTickFormatter\"},{\"attributes\":{},\"id\":\"6344\",\"type\":\"BasicTicker\"},{\"attributes\":{\"bottom_units\":\"screen\",\"fill_alpha\":0.5,\"fill_color\":\"lightgrey\",\"left_units\":\"screen\",\"level\":\"overlay\",\"line_alpha\":1.0,\"line_color\":\"black\",\"line_dash\":[4,4],\"line_width\":2,\"right_units\":\"screen\",\"syncable\":false,\"top_units\":\"screen\"},\"id\":\"6252\",\"type\":\"BoxAnnotation\"},{\"attributes\":{},\"id\":\"6116\",\"type\":\"AllLabels\"},{\"attributes\":{},\"id\":\"6319\",\"type\":\"AllLabels\"},{\"attributes\":{\"active_multi\":null,\"tools\":[{\"id\":\"6347\"},{\"id\":\"6348\"},{\"id\":\"6349\"},{\"id\":\"6350\"},{\"id\":\"6351\"}]},\"id\":\"6353\",\"type\":\"Toolbar\"},{\"attributes\":{},\"id\":\"6347\",\"type\":\"PanTool\"},{\"attributes\":{\"overlay\":{\"id\":\"6352\"}},\"id\":\"6349\",\"type\":\"BoxZoomTool\"},{\"attributes\":{},\"id\":\"6071\",\"type\":\"UnionRenderers\"},{\"attributes\":{},\"id\":\"6350\",\"type\":\"ResetTool\"},{\"attributes\":{},\"id\":\"6072\",\"type\":\"Selection\"},{\"attributes\":{},\"id\":\"6351\",\"type\":\"SaveTool\"},{\"attributes\":{\"active_multi\":null,\"tools\":[{\"id\":\"6247\"},{\"id\":\"6248\"},{\"id\":\"6249\"},{\"id\":\"6250\"},{\"id\":\"6251\"}]},\"id\":\"6253\",\"type\":\"Toolbar\"},{\"attributes\":{},\"id\":\"6118\",\"type\":\"BasicTickFormatter\"},{\"attributes\":{},\"id\":\"6119\",\"type\":\"AllLabels\"},{\"attributes\":{\"data\":{\"left\":{\"__ndarray__\":\"dQ1bJwAA8D9JhRDvzRLwPx79xbabJfA/8nR7fmk48D/G7DBGN0vwP5pk5g0FXvA/b9yb1dJw8D9DVFGdoIPwPxfMBmVulvA/7EO8LDyp8D/Au3H0CbzwP5QzJ7zXzvA/aKvcg6Xh8D89I5JLc/TwPxGbRxNBB/E/5RL92g4a8T+6irKi3CzxP44CaGqqP/E/YnodMnhS8T828tL5RWXxPwtqiMETePE/3+E9ieGK8T+zWfNQr53xP4jRqBh9sPE/XEle4ErD8T8wwROoGNbxPwQ5yW/m6PE/2bB+N7T78T+tKDT/gQ7yP4Gg6cZPIfI/Vhifjh008j8qkFRW60byP/4HCh65WfI/0n+/5YZs8j+n93StVH/yP3tvKnUikvI/T+ffPPCk8j8kX5UEvrfyP/jWSsyLyvI/zE4AlFnd8j+gxrVbJ/DyP3U+ayP1AvM/SbYg68IV8z8dLtaykCjzP/Kli3peO/M/xh1BQixO8z+alfYJ+mDzP24NrNHHc/M/Q4VhmZWG8z8X/RZhY5nzP+t0zCgxrPM/wOyB8P6+8z+UZDe4zNHzP2jc7H+a5PM/PFSiR2j38z8RzFcPNgr0P+VDDdcDHfQ/ubvCntEv9D+OM3hmn0L0P2KrLS5tVfQ/NiPj9Tpo9D8Km5i9CHv0P98SToXWjfQ/s4oDTaSg9D+HArkUcrP0P1x6btw/xvQ/MPIjpA3Z9D8Eatlr2+v0P9jhjjOp/vQ/rVlE+3YR9T+B0fnCRCT1P1VJr4oSN/U/KsFkUuBJ9T/+OBoarlz1P9Kwz+F7b/U/piiFqUmC9T97oDpxF5X1P08Y8Djlp/U/I5ClALO69T/4B1vIgM31P8x/EJBO4PU/oPfFVxzz9T90b3sf6gX2P0nnMOe3GPY/HV/mroUr9j/x1pt2Uz72P8ZOUT4hUfY/msYGBu9j9j9uPrzNvHb2P0K2cZWKifY/Fy4nXVic9j/rpdwkJq/2P78dkuzzwfY/lJVHtMHU9j9oDf17j+f2PzyFskNd+vY/EP1nCysN9z/ldB3T+B/3P7ns0prGMvc/jWSIYpRF9z9i3D0qYlj3PzZU8/Eva/c/Csyouf199z/eQ16By5D3P7O7E0mZo/c/hzPJEGe29z9bq37YNMn3PzAjNKAC3Pc/BJvpZ9Du9z/YEp8vngH4P6yKVPdrFPg/gAIKvzkn+D9Ver+GBzr4PynydE7VTPg//mkqFqNf+D/S4d/dcHL4P6ZZlaU+hfg/etFKbQyY+D9OSQA12qr4PyPBtfynvfg/9zhrxHXQ+D/MsCCMQ+P4P6Ao1lMR9vg/dKCLG98I+T9IGEHjrBv5PxyQ9qp6Lvk/8QesckhB+T/Ff2E6FlT5P5r3FgLkZvk/bm/MybF5+T9C54GRf4z5PxZfN1lNn/k/6tbsIBuy+T+/TqLo6MT5P5PGV7C21/k/aD4NeITq+T88tsI/Uv35PxAueAcgEPo/5KUtz+0i+j+4HeOWuzX6P42VmF6JSPo/YQ1OJldb+j82hQPuJG76Pwr9uLXygPo/3nRufcCT+j+y7CNFjqb6P4Zk2Qxcufo/W9yO1CnM+j8vVESc9976PwTM+WPF8fo/\",\"dtype\":\"float64\",\"order\":\"little\",\"shape\":[150]},\"right\":{\"__ndarray__\":\"SYUQ780S8D8e/cW2myXwP/J0e35pOPA/xuwwRjdL8D+aZOYNBV7wP2/cm9XScPA/Q1RRnaCD8D8XzAZlbpbwP+xDvCw8qfA/wLtx9Am88D+UMye8187wP2ir3IOl4fA/PSOSS3P08D8Rm0cTQQfxP+US/doOGvE/uoqyotws8T+OAmhqqj/xP2J6HTJ4UvE/NvLS+UVl8T8LaojBE3jxP9/hPYnhivE/s1nzUK+d8T+I0agYfbDxP1xJXuBKw/E/MMETqBjW8T8EOclv5ujxP9mwfje0+/E/rSg0/4EO8j+BoOnGTyHyP1YYn44dNPI/KpBUVutG8j/+BwoeuVnyP9J/v+WGbPI/p/d0rVR/8j97byp1IpLyP0/n3zzwpPI/JF+VBL638j/41krMi8ryP8xOAJRZ3fI/oMa1Wyfw8j91Pmsj9QLzP0m2IOvCFfM/HS7WspAo8z/ypYt6XjvzP8YdQUIsTvM/mpX2Cfpg8z9uDazRx3PzP0OFYZmVhvM/F/0WYWOZ8z/rdMwoMazzP8DsgfD+vvM/lGQ3uMzR8z9o3Ox/muTzPzxUokdo9/M/EcxXDzYK9D/lQw3XAx30P7m7wp7RL/Q/jjN4Zp9C9D9iqy0ubVX0PzYj4/U6aPQ/CpuYvQh79D/fEk6F1o30P7OKA02koPQ/hwK5FHKz9D9cem7cP8b0PzDyI6QN2fQ/BGrZa9vr9D/Y4Y4zqf70P61ZRPt2EfU/gdH5wkQk9T9VSa+KEjf1PyrBZFLgSfU//jgaGq5c9T/SsM/he2/1P6YohalJgvU/e6A6cReV9T9PGPA45af1PyOQpQCzuvU/+AdbyIDN9T/MfxCQTuD1P6D3xVcc8/U/dG97H+oF9j9J5zDntxj2Px1f5q6FK/Y/8dabdlM+9j/GTlE+IVH2P5rGBgbvY/Y/bj68zbx29j9CtnGVion2PxcuJ11YnPY/66XcJCav9j+/HZLs88H2P5SVR7TB1PY/aA39e4/n9j88hbJDXfr2PxD9ZwsrDfc/5XQd0/gf9z+57NKaxjL3P41kiGKURfc/Ytw9KmJY9z82VPPxL2v3PwrMqLn9ffc/3kNegcuQ9z+zuxNJmaP3P4czyRBntvc/W6t+2DTJ9z8wIzSgAtz3PwSb6WfQ7vc/2BKfL54B+D+silT3axT4P4ACCr85J/g/VXq/hgc6+D8p8nRO1Uz4P/5pKhajX/g/0uHf3XBy+D+mWZWlPoX4P3rRSm0MmPg/TkkANdqq+D8jwbX8p734P/c4a8R10Pg/zLAgjEPj+D+gKNZTEfb4P3SgixvfCPk/SBhB46wb+T8ckPaqei75P/EHrHJIQfk/xX9hOhZU+T+a9xYC5Gb5P25vzMmxefk/QueBkX+M+T8WXzdZTZ/5P+rW7CAbsvk/v06i6OjE+T+Txlewttf5P2g+DXiE6vk/PLbCP1L9+T8QLngHIBD6P+SlLc/tIvo/uB3jlrs1+j+NlZheiUj6P2ENTiZXW/o/NoUD7iRu+j8K/bi18oD6P950bn3Ak/o/suwjRY6m+j+GZNkMXLn6P1vcjtQpzPo/L1REnPfe+j8EzPljxfH6P9hDryuTBPs/\",\"dtype\":\"float64\",\"order\":\"little\",\"shape\":[150]},\"top\":[4912,4489,3978,3602,3435,2877,2593,2342,2032,1852,1617,1480,1311,1178,1085,921,898,816,737,621,611,563,509,450,422,403,339,304,277,283,250,198,186,170,164,141,100,112,137,94,107,79,89,89,63,65,60,56,38,43,47,40,34,47,38,30,33,23,32,28,24,27,19,22,18,23,22,17,22,16,14,19,10,14,11,10,9,7,6,5,5,10,7,3,9,7,4,3,10,4,2,4,4,4,5,5,6,4,2,3,5,3,2,6,4,4,2,0,0,3,2,2,2,1,1,2,1,0,0,0,1,0,2,2,1,1,0,0,1,0,0,0,0,0,1,2,1,0,0,0,0,0,0,0,0,0,1,0,0,1]},\"selected\":{\"id\":\"6272\"},\"selection_policy\":{\"id\":\"6271\"}},\"id\":\"6259\",\"type\":\"ColumnDataSource\"},{\"attributes\":{\"label\":{\"value\":\"\"},\"renderers\":[{\"id\":\"6062\"}]},\"id\":\"6075\",\"type\":\"LegendItem\"},{\"attributes\":{\"active_multi\":null,\"tools\":[{\"id\":\"6097\"},{\"id\":\"6098\"},{\"id\":\"6099\"},{\"id\":\"6100\"},{\"id\":\"6101\"}]},\"id\":\"6103\",\"type\":\"Toolbar\"},{\"attributes\":{\"text\":\"Mean       = 1.0480\",\"text_font_size\":\"10pt\",\"x\":250,\"x_units\":\"screen\",\"y\":215,\"y_units\":\"screen\"},\"id\":\"6276\",\"type\":\"Label\"},{\"attributes\":{\"bottom\":{\"value\":0},\"fill_alpha\":{\"value\":0.5},\"fill_color\":{\"value\":\"blue\"},\"left\":{\"field\":\"left\"},\"line_alpha\":{\"value\":0.5},\"line_color\":{\"value\":\"purple\"},\"right\":{\"field\":\"right\"},\"top\":{\"field\":\"top\"}},\"id\":\"6260\",\"type\":\"Quad\"},{\"attributes\":{},\"id\":\"6085\",\"type\":\"LinearScale\"},{\"attributes\":{\"axis\":{\"id\":\"6089\"},\"ticker\":null},\"id\":\"6092\",\"type\":\"Grid\"},{\"attributes\":{\"end\":4,\"start\":0},\"id\":\"6081\",\"type\":\"DataRange1d\"},{\"attributes\":{},\"id\":\"6090\",\"type\":\"BasicTicker\"},{\"attributes\":{\"bottom_units\":\"screen\",\"fill_alpha\":0.5,\"fill_color\":\"lightgrey\",\"left_units\":\"screen\",\"level\":\"overlay\",\"line_alpha\":1.0,\"line_color\":\"black\",\"line_dash\":[4,4],\"line_width\":2,\"right_units\":\"screen\",\"syncable\":false,\"top_units\":\"screen\"},\"id\":\"6352\",\"type\":\"BoxAnnotation\"},{\"attributes\":{\"axis_label\":\"Utility\",\"formatter\":{\"id\":\"6118\"},\"major_label_policy\":{\"id\":\"6119\"},\"ticker\":{\"id\":\"6090\"}},\"id\":\"6089\",\"type\":\"LinearAxis\"},{\"attributes\":{\"start\":0},\"id\":\"6083\",\"type\":\"DataRange1d\"},{\"attributes\":{},\"id\":\"6087\",\"type\":\"LinearScale\"},{\"attributes\":{},\"id\":\"6098\",\"type\":\"WheelZoomTool\"},{\"attributes\":{\"axis_label\":\"Observations\",\"formatter\":{\"id\":\"6115\"},\"major_label_policy\":{\"id\":\"6116\"},\"ticker\":{\"id\":\"6094\"}},\"id\":\"6093\",\"type\":\"LinearAxis\"},{\"attributes\":{},\"id\":\"6471\",\"type\":\"UnionRenderers\"},{\"attributes\":{\"text\":\"Variance  = 0.0190\",\"text_font_size\":\"10pt\",\"x\":250,\"x_units\":\"screen\",\"y\":200,\"y_units\":\"screen\"},\"id\":\"5927\",\"type\":\"Label\"},{\"attributes\":{\"axis\":{\"id\":\"6093\"},\"dimension\":1,\"ticker\":null},\"id\":\"6096\",\"type\":\"Grid\"},{\"attributes\":{},\"id\":\"6472\",\"type\":\"Selection\"},{\"attributes\":{},\"id\":\"6094\",\"type\":\"BasicTicker\"},{\"attributes\":{},\"id\":\"6268\",\"type\":\"BasicTickFormatter\"},{\"attributes\":{\"below\":[{\"id\":\"5889\"}],\"center\":[{\"id\":\"5892\"},{\"id\":\"5896\"},{\"id\":\"5924\"},{\"id\":\"5926\"},{\"id\":\"5927\"}],\"height\":350,\"left\":[{\"id\":\"5893\"}],\"renderers\":[{\"id\":\"5912\"}],\"title\":{\"id\":\"5879\"},\"toolbar\":{\"id\":\"5903\"},\"width\":500,\"x_range\":{\"id\":\"5881\"},\"x_scale\":{\"id\":\"5885\"},\"y_range\":{\"id\":\"5883\"},\"y_scale\":{\"id\":\"5887\"}},\"id\":\"5878\",\"subtype\":\"Figure\",\"type\":\"Plot\"},{\"attributes\":{},\"id\":\"6269\",\"type\":\"AllLabels\"},{\"attributes\":{},\"id\":\"6097\",\"type\":\"PanTool\"},{\"attributes\":{\"overlay\":{\"id\":\"6102\"}},\"id\":\"6099\",\"type\":\"BoxZoomTool\"},{\"attributes\":{\"text\":\"Randomly distributed endowments, gamma = 0.20\"},\"id\":\"5879\",\"type\":\"Title\"},{\"attributes\":{\"text\":\"Randomly distributed endowments, gamma = 1.50\"},\"id\":\"6379\",\"type\":\"Title\"},{\"attributes\":{},\"id\":\"5890\",\"type\":\"BasicTicker\"},{\"attributes\":{},\"id\":\"6100\",\"type\":\"ResetTool\"},{\"attributes\":{\"below\":[{\"id\":\"5939\"}],\"center\":[{\"id\":\"5942\"},{\"id\":\"5946\"},{\"id\":\"5974\"},{\"id\":\"5976\"},{\"id\":\"5977\"}],\"height\":350,\"left\":[{\"id\":\"5943\"}],\"renderers\":[{\"id\":\"5962\"}],\"title\":{\"id\":\"5929\"},\"toolbar\":{\"id\":\"5953\"},\"width\":500,\"x_range\":{\"id\":\"5931\"},\"x_scale\":{\"id\":\"5935\"},\"y_range\":{\"id\":\"5933\"},\"y_scale\":{\"id\":\"5937\"}},\"id\":\"5928\",\"subtype\":\"Figure\",\"type\":\"Plot\"},{\"attributes\":{},\"id\":\"6101\",\"type\":\"SaveTool\"},{\"attributes\":{},\"id\":\"6315\",\"type\":\"BasicTickFormatter\"},{\"attributes\":{},\"id\":\"6316\",\"type\":\"AllLabels\"},{\"attributes\":{\"data\":{\"left\":{\"__ndarray__\":\"4tAxMQAA8D9MiXjjQRnwP7VBv5WDMvA/H/oFSMVL8D+Iskz6BmXwP/Jqk6xIfvA/XCPaXoqX8D/F2yARzLDwPy+UZ8MNyvA/mEyudU/j8D8CBfUnkfzwP2y9O9rSFfE/1XWCjBQv8T8/Lsk+VkjxP6jmD/GXYfE/Ep9Wo9l68T98V51VG5TxP+UP5AddrfE/T8gqup7G8T+4gHFs4N/xPyI5uB4i+fE/jPH+0GMS8j/1qUWDpSvyP19ijDXnRPI/yBrT5yhe8j8y0xmaanfyP5yLYEyskPI/BUSn/u2p8j9v/O2wL8PyP9i0NGNx3PI/Qm17FbP18j+sJcLH9A7zPxXeCHo2KPM/f5ZPLHhB8z/pTpbeuVrzP1IH3ZD7c/M/vL8jQz2N8z8leGr1fqbzP48wsafAv/M/+ej3WQLZ8z9ioT4MRPLzP8xZhb6FC/Q/NhLMcMck9D+fyhIjCT70PwmDWdVKV/Q/cjugh4xw9D/c8+Y5zon0P0asLewPo/Q/r2R0nlG89D8ZHbtQk9X0P4LVAQPV7vQ/7I1ItRYI9T9WRo9nWCH1P7/+1RmaOvU/KbcczNtT9T+Sb2N+HW31P/wnqjBfhvU/ZuDw4qCf9T/PmDeV4rj1PzlRfkck0vU/ognF+WXr9T8MwguspwT2P3Z6Ul7pHfY/3zKZECs39j9J69/CbFD2P7KjJnWuafY/HFxtJ/CC9j+GFLTZMZz2P+/M+otztfY/WYVBPrXO9j/CPYjw9uf2Pyz2zqI4Afc/lq4VVXoa9z//ZlwHvDP3P2kfo7n9TPc/0tfpaz9m9z88kDAegX/3P6ZId9DCmPc/DwG+ggSy9z95uQQ1Rsv3P+JxS+eH5Pc/TCqSmcn99z+24thLCxf4PyCbH/5MMPg/iVNmsI5J+D/yC61i0GL4P1zE8xQSfPg/xnw6x1OV+D8wNYF5la74P5ntxyvXx/g/AqYO3hjh+D9sXlWQWvr4P9YWnEKcE/k/QM/i9N0s+T+phymnH0b5PxJAcFlhX/k/fPi2C6N4+T/msP295JH5P1BpRHAmq/k/uSGLImjE+T8i2tHUqd35P4ySGIfr9vk/9kpfOS0Q+j9gA6brbin6P8m77J2wQvo/MnQzUPJb+j+cLHoCNHX6PwblwLR1jvo/cJ0HZ7en+j/ZVU4Z+cD6P0IOlcs62vo/rMbbfXzz+j8WfyIwvgz7P4A3aeL/Jfs/6e+vlEE/+z9SqPZGg1j7P7xgPfnEcfs/JhmEqwaL+z+Q0cpdSKT7P/mJERCKvfs/YkJYwsvW+z/M+p50DfD7Pzaz5SZPCfw/oGss2ZAi/D8JJHOL0jv8P3LcuT0UVfw/3JQA8FVu/D9GTUeil4f8P7AFjlTZoPw/Gb7UBhu6/D+Cdhu5XNP8P+wuYmue7Pw/VueoHeAF/T/An+/PIR/9PylYNoJjOP0/khB9NKVR/T/8yMPm5mr9P2aBCpkohP0/0DlRS2qd/T858pf9q7b9P6Oq3q/tz/0/DGMlYi/p/T92G2wUcQL+P+DTssayG/4/SYz5ePQ0/j+zREArNk7+Pxz9ht13Z/4/hrXNj7mA/j/wbRRC+5n+P1kmW/Q8s/4/\",\"dtype\":\"float64\",\"order\":\"little\",\"shape\":[150]},\"right\":{\"__ndarray__\":\"TIl440EZ8D+1Qb+VgzLwPx/6BUjFS/A/iLJM+gZl8D/yapOsSH7wP1wj2l6Kl/A/xdsgEcyw8D8vlGfDDcrwP5hMrnVP4/A/AgX1J5H88D9svTva0hXxP9V1gowUL/E/Py7JPlZI8T+o5g/xl2HxPxKfVqPZevE/fFedVRuU8T/lD+QHXa3xP0/IKrqexvE/uIBxbODf8T8iObgeIvnxP4zx/tBjEvI/9alFg6Ur8j9fYow150TyP8ga0+coXvI/MtMZmmp38j+ci2BMrJDyPwVEp/7tqfI/b/ztsC/D8j/YtDRjcdzyP0JtexWz9fI/rCXCx/QO8z8V3gh6NijzP3+WTyx4QfM/6U6W3rla8z9SB92Q+3PzP7y/I0M9jfM/JXhq9X6m8z+PMLGnwL/zP/no91kC2fM/YqE+DETy8z/MWYW+hQv0PzYSzHDHJPQ/n8oSIwk+9D8Jg1nVSlf0P3I7oIeMcPQ/3PPmOc6J9D9GrC3sD6P0P69kdJ5RvPQ/GR27UJPV9D+C1QED1e70P+yNSLUWCPU/VkaPZ1gh9T+//tUZmjr1Pym3HMzbU/U/km9jfh1t9T/8J6owX4b1P2bg8OKgn/U/z5g3leK49T85UX5HJNL1P6IJxfll6/U/DMILrKcE9j92elJe6R32P98ymRArN/Y/SevfwmxQ9j+yoyZ1rmn2PxxcbSfwgvY/hhS02TGc9j/vzPqLc7X2P1mFQT61zvY/wj2I8Pbn9j8s9s6iOAH3P5auFVV6Gvc//2ZcB7wz9z9pH6O5/Uz3P9LX6Ws/Zvc/PJAwHoF/9z+mSHfQwpj3Pw8BvoIEsvc/ebkENUbL9z/icUvnh+T3P0wqkpnJ/fc/tuLYSwsX+D8gmx/+TDD4P4lTZrCOSfg/8gutYtBi+D9cxPMUEnz4P8Z8OsdTlfg/MDWBeZWu+D+Z7ccr18f4PwKmDt4Y4fg/bF5VkFr6+D/WFpxCnBP5P0DP4vTdLPk/qYcppx9G+T8SQHBZYV/5P3z4tgujePk/5rD9veSR+T9QaURwJqv5P7khiyJoxPk/ItrR1Knd+T+MkhiH6/b5P/ZKXzktEPo/YAOm624p+j/Ju+ydsEL6PzJ0M1DyW/o/nCx6AjR1+j8G5cC0dY76P3CdB2e3p/o/2VVOGfnA+j9CDpXLOtr6P6zG23188/o/Fn8iML4M+z+AN2ni/yX7P+nvr5RBP/s/Uqj2RoNY+z+8YD35xHH7PyYZhKsGi/s/kNHKXUik+z/5iREQir37P2JCWMLL1vs/zPqedA3w+z82s+UmTwn8P6BrLNmQIvw/CSRzi9I7/D9y3Lk9FFX8P9yUAPBVbvw/Rk1HopeH/D+wBY5U2aD8Pxm+1AYbuvw/gnYbuVzT/D/sLmJrnuz8P1bnqB3gBf0/wJ/vzyEf/T8pWDaCYzj9P5IQfTSlUf0//MjD5uZq/T9mgQqZKIT9P9A5UUtqnf0/OfKX/au2/T+jqt6v7c/9PwxjJWIv6f0/dhtsFHEC/j/g07LGshv+P0mM+Xj0NP4/s0RAKzZO/j8c/Ybdd2f+P4a1zY+5gP4/8G0UQvuZ/j9ZJlv0PLP+P8PeoaZ+zP4/\",\"dtype\":\"float64\",\"order\":\"little\",\"shape\":[150]},\"top\":[5295,4723,4186,3834,3441,2893,2697,2291,2086,1757,1617,1470,1255,1168,979,933,859,765,635,642,581,513,451,438,387,336,317,273,274,217,212,178,174,143,114,116,133,101,112,81,91,88,63,70,63,49,43,43,45,38,44,44,36,24,35,26,27,34,25,23,21,22,18,24,18,22,18,15,13,18,15,12,10,8,9,6,5,7,2,10,6,8,6,5,5,6,7,4,2,5,3,5,4,7,3,4,2,3,5,3,3,5,4,2,4,0,0,3,1,3,2,1,1,0,2,1,0,0,1,0,1,2,2,0,1,0,0,1,0,0,0,0,0,1,1,2,0,0,0,0,0,0,0,0,0,0,1,0,0,1]},\"selected\":{\"id\":\"6372\"},\"selection_policy\":{\"id\":\"6371\"}},\"id\":\"6359\",\"type\":\"ColumnDataSource\"},{\"attributes\":{},\"id\":\"6371\",\"type\":\"UnionRenderers\"},{\"attributes\":{\"axis_label\":\"Utility\",\"formatter\":{\"id\":\"5918\"},\"major_label_policy\":{\"id\":\"5919\"},\"ticker\":{\"id\":\"5890\"}},\"id\":\"5889\",\"type\":\"LinearAxis\"},{\"attributes\":{\"bottom\":{\"value\":0},\"fill_alpha\":{\"value\":0.1},\"fill_color\":{\"value\":\"blue\"},\"left\":{\"field\":\"left\"},\"line_alpha\":{\"value\":0.1},\"line_color\":{\"value\":\"purple\"},\"right\":{\"field\":\"right\"},\"top\":{\"field\":\"top\"}},\"id\":\"6361\",\"type\":\"Quad\"},{\"attributes\":{},\"id\":\"6372\",\"type\":\"Selection\"},{\"attributes\":{\"end\":4,\"start\":0},\"id\":\"5881\",\"type\":\"DataRange1d\"},{\"attributes\":{\"text\":\"Variance  = 2.0118\",\"text_font_size\":\"10pt\",\"x\":250,\"x_units\":\"screen\",\"y\":200,\"y_units\":\"screen\"},\"id\":\"6427\",\"type\":\"Label\"},{\"attributes\":{\"label\":{\"value\":\"\"},\"renderers\":[{\"id\":\"6462\"}]},\"id\":\"6475\",\"type\":\"LegendItem\"},{\"attributes\":{\"bottom\":{\"value\":0},\"fill_alpha\":{\"value\":0.5},\"fill_color\":{\"value\":\"blue\"},\"left\":{\"field\":\"left\"},\"line_alpha\":{\"value\":0.5},\"line_color\":{\"value\":\"purple\"},\"right\":{\"field\":\"right\"},\"top\":{\"field\":\"top\"}},\"id\":\"6360\",\"type\":\"Quad\"},{\"attributes\":{\"items\":[{\"id\":\"6375\"}]},\"id\":\"6374\",\"type\":\"Legend\"},{\"attributes\":{\"axis\":{\"id\":\"5889\"},\"ticker\":null},\"id\":\"5892\",\"type\":\"Grid\"},{\"attributes\":{},\"id\":\"5900\",\"type\":\"ResetTool\"},{\"attributes\":{\"data_source\":{\"id\":\"6359\"},\"glyph\":{\"id\":\"6360\"},\"hover_glyph\":null,\"muted_glyph\":null,\"nonselection_glyph\":{\"id\":\"6361\"},\"view\":{\"id\":\"6363\"}},\"id\":\"6362\",\"type\":\"GlyphRenderer\"},{\"attributes\":{},\"id\":\"6321\",\"type\":\"UnionRenderers\"},{\"attributes\":{\"below\":[{\"id\":\"6389\"}],\"center\":[{\"id\":\"6392\"},{\"id\":\"6396\"},{\"id\":\"6424\"},{\"id\":\"6426\"},{\"id\":\"6427\"}],\"height\":350,\"left\":[{\"id\":\"6393\"}],\"renderers\":[{\"id\":\"6412\"}],\"title\":{\"id\":\"6379\"},\"toolbar\":{\"id\":\"6403\"},\"width\":500,\"x_range\":{\"id\":\"6381\"},\"x_scale\":{\"id\":\"6385\"},\"y_range\":{\"id\":\"6383\"},\"y_scale\":{\"id\":\"6387\"}},\"id\":\"6378\",\"subtype\":\"Figure\",\"type\":\"Plot\"},{\"attributes\":{},\"id\":\"5887\",\"type\":\"LinearScale\"},{\"attributes\":{},\"id\":\"6322\",\"type\":\"Selection\"},{\"attributes\":{\"axis\":{\"id\":\"5893\"},\"dimension\":1,\"ticker\":null},\"id\":\"5896\",\"type\":\"Grid\"},{\"attributes\":{\"source\":{\"id\":\"6359\"}},\"id\":\"6363\",\"type\":\"CDSView\"},{\"attributes\":{\"overlay\":{\"id\":\"5902\"}},\"id\":\"5899\",\"type\":\"BoxZoomTool\"},{\"attributes\":{\"axis_label\":\"Observations\",\"formatter\":{\"id\":\"5915\"},\"major_label_policy\":{\"id\":\"5916\"},\"ticker\":{\"id\":\"5894\"}},\"id\":\"5893\",\"type\":\"LinearAxis\"},{\"attributes\":{\"data_source\":{\"id\":\"6109\"},\"glyph\":{\"id\":\"6110\"},\"hover_glyph\":null,\"muted_glyph\":null,\"nonselection_glyph\":{\"id\":\"6111\"},\"view\":{\"id\":\"6113\"}},\"id\":\"6112\",\"type\":\"GlyphRenderer\"},{\"attributes\":{},\"id\":\"5894\",\"type\":\"BasicTicker\"},{\"attributes\":{\"start\":0},\"id\":\"5883\",\"type\":\"DataRange1d\"},{\"attributes\":{\"label\":{\"value\":\"\"},\"renderers\":[{\"id\":\"6362\"}]},\"id\":\"6375\",\"type\":\"LegendItem\"},{\"attributes\":{\"bottom_units\":\"screen\",\"fill_alpha\":0.5,\"fill_color\":\"lightgrey\",\"left_units\":\"screen\",\"level\":\"overlay\",\"line_alpha\":1.0,\"line_color\":\"black\",\"line_dash\":[4,4],\"line_width\":2,\"right_units\":\"screen\",\"syncable\":false,\"top_units\":\"screen\"},\"id\":\"6102\",\"type\":\"BoxAnnotation\"},{\"attributes\":{\"bottom\":{\"value\":0},\"fill_alpha\":{\"value\":0.1},\"fill_color\":{\"value\":\"blue\"},\"left\":{\"field\":\"left\"},\"line_alpha\":{\"value\":0.1},\"line_color\":{\"value\":\"purple\"},\"right\":{\"field\":\"right\"},\"top\":{\"field\":\"top\"}},\"id\":\"6111\",\"type\":\"Quad\"},{\"attributes\":{\"axis\":{\"id\":\"6389\"},\"ticker\":null},\"id\":\"6392\",\"type\":\"Grid\"},{\"attributes\":{},\"id\":\"6365\",\"type\":\"BasicTickFormatter\"},{\"attributes\":{},\"id\":\"5885\",\"type\":\"LinearScale\"},{\"attributes\":{\"axis_label\":\"Utility\",\"formatter\":{\"id\":\"6418\"},\"major_label_policy\":{\"id\":\"6419\"},\"ticker\":{\"id\":\"6390\"}},\"id\":\"6389\",\"type\":\"LinearAxis\"},{\"attributes\":{},\"id\":\"5897\",\"type\":\"PanTool\"},{\"attributes\":{},\"id\":\"6385\",\"type\":\"LinearScale\"},{\"attributes\":{\"start\":0},\"id\":\"6383\",\"type\":\"DataRange1d\"},{\"attributes\":{},\"id\":\"6366\",\"type\":\"AllLabels\"},{\"attributes\":{\"end\":4,\"start\":0},\"id\":\"6381\",\"type\":\"DataRange1d\"},{\"attributes\":{\"data\":{\"left\":{\"__ndarray__\":\"iIkLskjgqz+8VU//44ezP7PmmKWjH7k/qnfiS2O3vj9RBBZ5kSfCP83MOkxx88Q/SJVfH1G/xz/EXYTyMIvKP0AmqcUQV80/XvdmTHgR0D+cW/k1aHfRP9q/ix9Y3dI/FyQeCUhD1D9ViLDyN6nVP5PsQtwnD9c/0VDVxRd12D8PtWevB9vZP00Z+pj3QNs/i32Mguem3D/J4R5s1wzePwdGsVXHct8/ItWhn1ts4D9BB2uUUx/hP2A5NIlL0uE/fmv9fUOF4j+encZyOzjjP7zPj2cz6+M/3AFZXCue5D/6MyJRI1HlPxpm60UbBOY/OJi0OhO35j9Yyn0vC2rnP3b8RiQDHeg/li4QGfvP6D+0YNkN84LpP9SSogLrNeo/8sRr9+Lo6j8S9zTs2pvrPzAp/uDSTuw/UFvH1coB7T9ujZDKwrTtP4y/Wb+6Z+4/rPEitLIa7z/KI+yoqs3vP/Wq2k5RQPA/BEQ/Sc2Z8D8U3aNDSfPwPyN2CD7FTPE/Mg9tOEGm8T9CqNEyvf/xP1FBNi05WfI/YdqaJ7Wy8j9wc/8hMQzzP4AMZBytZfM/j6XIFim/8z+fPi0RpRj0P67XkQshcvQ/vnD2BZ3L9D/NCVsAGSX1P92iv/qUfvU/7Dsk9RDY9T/81IjvjDH2Pwtu7ekIi/Y/GwdS5ITk9j8qoLbeAD73Pzk5G9l8l/c/SdJ/0/jw9z9Ya+TNdEr4P2gEScjwo/g/d52twmz9+D+HNhK96Fb5P5bPdrdksPk/pmjbseAJ+j+1AUCsXGP6P8WapKbYvPo/1DMJoVQW+z/kzG2b0G/7P/Nl0pVMyfs/A/82kMgi/D8SmJuKRHz8PyIxAIXA1fw/Mcpkfzwv/T9AY8l5uIj9P1D8LXQ04v0/X5WSbrA7/j9vLvdoLJX+P37HW2Oo7v4/jmDAXSRI/z+d+SRYoKH/P62SiVIc+/8/3hV3JkwqAEBmYqkjClcAQO6u2yDIgwBAdfsNHoawAED9R0AbRN0AQIWUchgCCgFADOGkFcA2AUCULdcSfmMBQBx6CRA8kAFApMY7Dfq8AUArE24KuOkBQLNfoAd2FgJAO6zSBDRDAkDD+AQC8m8CQEpFN/+vnAJA0pFp/G3JAkBa3pv5K/YCQOIqzvbpIgNAaXcA9KdPA0DxwzLxZXwDQHkQZe4jqQNAAV2X6+HVA0CIqcnonwIEQBD2++VdLwRAmEIu4xtcBEAfj2Dg2YgEQKfbkt2XtQRALyjF2lXiBEC3dPfXEw8FQD7BKdXROwVAxg1c0o9oBUBOWo7PTZUFQNamwMwLwgVAXfPyycnuBUDlPyXHhxsGQG2MV8RFSAZA9diJwQN1BkB8Jby+waEGQARy7rt/zgZAjL4guT37BkATC1O2+ycHQJtXhbO5VAdAI6S3sHeBB0Cr8OmtNa4HQDI9HKvz2gdAuolOqLEHCEBC1oClbzQIQMois6ItYQhAUW/ln+uNCEDZuxedqboIQGEISppn5whA6VR8lyUUCUBwoa6U40AJQPjt4JGhbQlAgDoTj1+aCUAHh0WMHccJQI/Td4nb8wlAFyCqhpkgCkCfbNyDV00KQCa5DoEVegpA\",\"dtype\":\"float64\",\"order\":\"little\",\"shape\":[150]},\"right\":{\"__ndarray__\":\"vFVP/+OHsz+z5pilox+5P6p34ktjt74/UQQWeZEnwj/NzDpMcfPEP0iVXx9Rv8c/xF2E8jCLyj9AJqnFEFfNP173Zkx4EdA/nFv5NWh30T/av4sfWN3SPxckHglIQ9Q/VYiw8jep1T+T7ELcJw/XP9FQ1cUXddg/D7Vnrwfb2T9NGfqY90DbP4t9jILnptw/yeEebNcM3j8HRrFVx3LfPyLVoZ9bbOA/QQdrlFMf4T9gOTSJS9LhP35r/X1DheI/np3Gcjs44z+8z49nM+vjP9wBWVwrnuQ/+jMiUSNR5T8aZutFGwTmPziYtDoTt+Y/WMp9Lwtq5z92/EYkAx3oP5YuEBn7z+g/tGDZDfOC6T/UkqIC6zXqP/LEa/fi6Oo/Evc07Nqb6z8wKf7g0k7sP1Bbx9XKAe0/bo2QysK07T+Mv1m/umfuP6zxIrSyGu8/yiPsqKrN7z/1qtpOUUDwPwREP0nNmfA/FN2jQ0nz8D8jdgg+xUzxPzIPbThBpvE/QqjRMr3/8T9RQTYtOVnyP2Hamie1svI/cHP/ITEM8z+ADGQcrWXzP4+lyBYpv/M/nz4tEaUY9D+u15ELIXL0P75w9gWdy/Q/zQlbABkl9T/dor/6lH71P+w7JPUQ2PU//NSI74wx9j8Lbu3pCIv2PxsHUuSE5PY/KqC23gA+9z85ORvZfJf3P0nSf9P48Pc/WGvkzXRK+D9oBEnI8KP4P3edrcJs/fg/hzYSvehW+T+Wz3a3ZLD5P6Zo27HgCfo/tQFArFxj+j/FmqSm2Lz6P9QzCaFUFvs/5Mxtm9Bv+z/zZdKVTMn7PwP/NpDIIvw/EpibikR8/D8iMQCFwNX8PzHKZH88L/0/QGPJebiI/T9Q/C10NOL9P1+Vkm6wO/4/by73aCyV/j9+x1tjqO7+P45gwF0kSP8/nfkkWKCh/z+tkolSHPv/P94VdyZMKgBAZmKpIwpXAEDurtsgyIMAQHX7DR6GsABA/UdAG0TdAECFlHIYAgoBQAzhpBXANgFAlC3XEn5jAUAcegkQPJABQKTGOw36vAFAKxNuCrjpAUCzX6AHdhYCQDus0gQ0QwJAw/gEAvJvAkBKRTf/r5wCQNKRafxtyQJAWt6b+Sv2AkDiKs726SIDQGl3APSnTwNA8cMy8WV8A0B5EGXuI6kDQAFdl+vh1QNAiKnJ6J8CBEAQ9vvlXS8EQJhCLuMbXARAH49g4NmIBECn25Ldl7UEQC8oxdpV4gRAt3T31xMPBUA+wSnV0TsFQMYNXNKPaAVATlqOz02VBUDWpsDMC8IFQF3z8snJ7gVA5T8lx4cbBkBtjFfERUgGQPXYicEDdQZAfCW8vsGhBkAEcu67f84GQIy+ILk9+wZAEwtTtvsnB0CbV4WzuVQHQCOkt7B3gQdAq/DprTWuB0AyPRyr89oHQLqJTqixBwhAQtaApW80CEDKIrOiLWEIQFFv5Z/rjQhA2bsXnam6CEBhCEqaZ+cIQOlUfJclFAlAcKGulONACUD47eCRoW0JQIA6E49fmglAB4dFjB3HCUCP03eJ2/MJQBcgqoaZIApAn2zcg1dNCkAmuQ6BFXoKQK4FQX7TpgpA\",\"dtype\":\"float64\",\"order\":\"little\",\"shape\":[150]},\"top\":[3,1,9,8,14,31,52,79,85,124,164,190,263,316,393,417,501,552,610,688,745,784,855,933,968,947,1031,1087,1030,1095,1106,1089,1122,1136,1097,1093,1202,1217,1119,1116,1116,1095,1027,1035,966,927,925,883,891,870,857,777,677,754,654,656,620,579,575,531,529,497,493,425,406,394,339,389,338,299,281,276,238,241,211,193,178,213,175,154,159,151,143,115,125,121,103,85,89,84,74,76,55,46,55,36,37,39,45,39,20,30,28,34,22,16,25,18,23,16,14,13,12,9,11,8,5,3,3,5,7,4,4,6,2,3,3,0,2,2,1,0,5,1,2,0,0,2,3,0,0,0,1,1,0,1,0,0,0,2]},\"selected\":{\"id\":\"6122\"},\"selection_policy\":{\"id\":\"6121\"}},\"id\":\"6109\",\"type\":\"ColumnDataSource\"},{\"attributes\":{},\"id\":\"6121\",\"type\":\"UnionRenderers\"},{\"attributes\":{},\"id\":\"6387\",\"type\":\"LinearScale\"},{\"attributes\":{\"below\":[{\"id\":\"6139\"}],\"center\":[{\"id\":\"6142\"},{\"id\":\"6146\"},{\"id\":\"6174\"},{\"id\":\"6176\"},{\"id\":\"6177\"}],\"height\":350,\"left\":[{\"id\":\"6143\"}],\"renderers\":[{\"id\":\"6162\"}],\"title\":{\"id\":\"6129\"},\"toolbar\":{\"id\":\"6153\"},\"width\":500,\"x_range\":{\"id\":\"6131\"},\"x_scale\":{\"id\":\"6135\"},\"y_range\":{\"id\":\"6133\"},\"y_scale\":{\"id\":\"6137\"}},\"id\":\"6128\",\"subtype\":\"Figure\",\"type\":\"Plot\"},{\"attributes\":{},\"id\":\"5898\",\"type\":\"WheelZoomTool\"},{\"attributes\":{\"text\":\"Mean       = 1.0588\",\"text_font_size\":\"10pt\",\"x\":250,\"x_units\":\"screen\",\"y\":215,\"y_units\":\"screen\"},\"id\":\"6326\",\"type\":\"Label\"},{\"attributes\":{\"bottom\":{\"value\":0},\"fill_alpha\":{\"value\":0.5},\"fill_color\":{\"value\":\"blue\"},\"left\":{\"field\":\"left\"},\"line_alpha\":{\"value\":0.5},\"line_color\":{\"value\":\"purple\"},\"right\":{\"field\":\"right\"},\"top\":{\"field\":\"top\"}},\"id\":\"6110\",\"type\":\"Quad\"},{\"attributes\":{},\"id\":\"6390\",\"type\":\"BasicTicker\"},{\"attributes\":{},\"id\":\"6122\",\"type\":\"Selection\"},{\"attributes\":{\"bottom_units\":\"screen\",\"fill_alpha\":0.5,\"fill_color\":\"lightgrey\",\"left_units\":\"screen\",\"level\":\"overlay\",\"line_alpha\":1.0,\"line_color\":\"black\",\"line_dash\":[4,4],\"line_width\":2,\"right_units\":\"screen\",\"syncable\":false,\"top_units\":\"screen\"},\"id\":\"5902\",\"type\":\"BoxAnnotation\"},{\"attributes\":{\"data\":{\"left\":{\"__ndarray__\":\"UMLDl79B2D/Bpe2Be7vYPzGJF2w3Ndk/omxBVvOu2T8SUGtAryjaP4MzlSproto/9Ba/FCcc2z9k+uj+4pXbP9XdEumeD9w/RcE801qJ3D+2pGa9FgPdPyaIkKfSfN0/l2u6kY723T8IT+R7SnDeP3gyDmYG6t4/6RU4UMJj3z9a+WE6ft3fP2XuRRKdK+A/HeBaB3to4D/W0W/8WKXgP47DhPE24uA/RrWZ5hQf4T/+pq7b8lvhP7eYw9DQmOE/b4rYxa7V4T8ofO26jBLiP+BtArBqT+I/mF8XpUiM4j9QUSyaJsniPwhDQY8EBuM/wTRWhOJC4z95Jmt5wH/jPzIYgG6evOM/6gmVY3z54z+i+6lYWjbkP1rtvk04c+Q/Et/TQhaw5D/L0Og39OzkP4TC/SzSKeU/PLQSIrBm5T/0pScXjqPlP6yXPAxs4OU/ZIlRAUod5j8de2b2J1rmP9Vse+sFl+Y/jl6Q4OPT5j9GUKXVwRDnP/5BusqfTec/tjPPv32K5z9uJeS0W8fnPycX+ak5BOg/3wgOnxdB6D+Y+iKU9X3oP1DsN4nTuug/CN5MfrH36D/Az2FzjzTpP3jBdmhtcek/MbOLXUuu6T/ppKBSKevpP6KWtUcHKOo/WojKPOVk6j8Set8xw6HqP8pr9Cah3uo/gl0JHH8b6z87Tx4RXVjrP/RAMwY7les/rDJI+xjS6z9kJF3w9g7sPxwWcuXUS+w/1AeH2rKI7D+N+ZvPkMXsP0XrsMRuAu0//dzFuUw/7T+2ztquKnztP27A76MIue0/JrIEmeb17T/foxmOxDLuP5eVLoOib+4/T4dDeICs7j8HeVhtXunuP8BqbWI8Ju8/eFyCVxpj7z8wTpdM+J/vP+k/rEHW3O8/0JhgG9oM8D+sEesVSSvwP4mKdRC4SfA/ZQMACydo8D9BfIoFlobwPx31FAAFpfA/+m2f+nPD8D/W5in14uHwP7JftO9RAPE/jtg+6sAe8T9qUcnkLz3xP0bKU9+eW/E/IkPe2Q168T/+u2jUfJjxP9o0887rtvE/tq19yVrV8T+TJgjEyfPxP2+fkr44EvI/Sxgduacw8j8okaezFk/yPwQKMq6FbfI/4IK8qPSL8j+8+0ajY6ryP5h00Z3SyPI/dO1bmEHn8j9QZuaSsAXzPyzfcI0fJPM/CFj7h45C8z/k0IWC/WDzP8FJEH1sf/M/ncKad9ud8z95OyVySrzzP1W0r2y52vM/Mi06Zyj58z8OpsRhlxf0P+oeT1wGNvQ/xpfZVnVU9D+iEGRR5HL0P36J7ktTkfQ/WgJ5RsKv9D82ewNBMc70PxL0jTug7PQ/7mwYNg8L9T/L5aIwfin1P6deLSvtR/U/g9e3JVxm9T9gUEIgy4T1PzzJzBo6o/U/GEJXFanB9T/0uuEPGOD1P9AzbAqH/vU/rKz2BPYc9j+IJYH/ZDv2P2SeC/rTWfY/QBeW9EJ49j8dkCDvsZb2P/kIq+kgtfY/1YE15I/T9j+x+r/e/vH2P41zStltEPc/aezU09wu9z9GZV/OS033PyLe6ci6a/c//lZ0wymK9z/az/69mKj3P7ZIibgHx/c/\",\"dtype\":\"float64\",\"order\":\"little\",\"shape\":[150]},\"right\":{\"__ndarray__\":\"waXtgXu72D8xiRdsNzXZP6JsQVbzrtk/ElBrQK8o2j+DM5Uqa6LaP/QWvxQnHNs/ZPro/uKV2z/V3RLpng/cP0XBPNNaidw/tqRmvRYD3T8miJCn0nzdP5drupGO9t0/CE/ke0pw3j94Mg5mBureP+kVOFDCY98/WvlhOn7d3z9l7kUSnSvgPx3gWgd7aOA/1tFv/Fil4D+Ow4TxNuLgP0a1meYUH+E//qau2/Jb4T+3mMPQ0JjhP2+K2MWu1eE/KHztuowS4j/gbQKwak/iP5hfF6VIjOI/UFEsmibJ4j8IQ0GPBAbjP8E0VoTiQuM/eSZrecB/4z8yGIBunrzjP+oJlWN8+eM/ovupWFo25D9a7b5NOHPkPxLf00IWsOQ/y9DoN/Ts5D+Ewv0s0inlPzy0EiKwZuU/9KUnF46j5T+slzwMbODlP2SJUQFKHeY/HXtm9ida5j/VbHvrBZfmP45ekODj0+Y/RlCl1cEQ5z/+QbrKn03nP7Yzz799iuc/biXktFvH5z8nF/mpOQToP98IDp8XQeg/mPoilPV96D9Q7DeJ07roPwjeTH6x9+g/wM9hc4806T94wXZobXHpPzGzi11Lruk/6aSgUinr6T+ilrVHByjqP1qIyjzlZOo/EnrfMcOh6j/Ka/Qmod7qP4JdCRx/G+s/O08eEV1Y6z/0QDMGO5XrP6wySPsY0us/ZCRd8PYO7D8cFnLl1EvsP9QHh9qyiOw/jfmbz5DF7D9F67DEbgLtP/3cxblMP+0/ts7arip87T9uwO+jCLntPyayBJnm9e0/36MZjsQy7j+XlS6Dom/uP0+HQ3iArO4/B3lYbV7p7j/Aam1iPCbvP3hcglcaY+8/ME6XTPif7z/pP6xB1tzvP9CYYBvaDPA/rBHrFUkr8D+JinUQuEnwP2UDAAsnaPA/QXyKBZaG8D8d9RQABaXwP/ptn/pzw/A/1uYp9eLh8D+yX7TvUQDxP47YPurAHvE/alHJ5C898T9GylPfnlvxPyJD3tkNevE//rto1HyY8T/aNPPO67bxP7atfcla1fE/kyYIxMnz8T9vn5K+OBLyP0sYHbmnMPI/KJGnsxZP8j8ECjKuhW3yP+CCvKj0i/I/vPtGo2Oq8j+YdNGd0sjyP3TtW5hB5/I/UGbmkrAF8z8s33CNHyTzPwhY+4eOQvM/5NCFgv1g8z/BSRB9bH/zP53CmnfbnfM/eTslckq88z9VtK9sudrzPzItOmco+fM/DqbEYZcX9D/qHk9cBjb0P8aX2VZ1VPQ/ohBkUeRy9D9+ie5LU5H0P1oCeUbCr/Q/NnsDQTHO9D8S9I07oOz0P+5sGDYPC/U/y+WiMH4p9T+nXi0r7Uf1P4PXtyVcZvU/YFBCIMuE9T88ycwaOqP1PxhCVxWpwfU/9LrhDxjg9T/QM2wKh/71P6ys9gT2HPY/iCWB/2Q79j9kngv601n2P0AXlvRCePY/HZAg77GW9j/5CKvpILX2P9WBNeSP0/Y/sfq/3v7x9j+Nc0rZbRD3P2ns1NPcLvc/RmVfzktN9z8i3unIumv3P/5WdMMpivc/2s/+vZio9z+2SIm4B8f3P5LBE7N25fc/\",\"dtype\":\"float64\",\"order\":\"little\",\"shape\":[150]},\"top\":[1,0,0,1,1,0,0,1,0,0,0,4,1,1,3,1,2,1,3,4,4,2,7,7,15,13,18,15,23,26,32,34,36,29,54,51,62,72,80,91,104,113,142,160,179,191,230,227,252,293,309,328,357,387,439,485,487,523,559,604,640,691,703,702,788,815,853,801,889,887,907,933,983,973,971,985,1101,1143,1084,1066,1055,1108,1064,1039,1039,966,988,961,976,961,959,857,791,838,769,734,713,695,660,633,622,540,514,479,486,432,386,346,324,294,292,280,228,232,219,189,180,138,144,130,101,80,67,70,72,40,58,40,41,36,31,24,18,15,7,9,12,8,5,3,5,1,7,0,5,0,2,1,0,2]},\"selected\":{\"id\":\"5922\"},\"selection_policy\":{\"id\":\"5921\"}},\"id\":\"5909\",\"type\":\"ColumnDataSource\"},{\"attributes\":{},\"id\":\"5921\",\"type\":\"UnionRenderers\"},{\"attributes\":{\"bottom\":{\"value\":0},\"fill_alpha\":{\"value\":0.1},\"fill_color\":{\"value\":\"blue\"},\"left\":{\"field\":\"left\"},\"line_alpha\":{\"value\":0.1},\"line_color\":{\"value\":\"purple\"},\"right\":{\"field\":\"right\"},\"top\":{\"field\":\"top\"}},\"id\":\"5911\",\"type\":\"Quad\"},{\"attributes\":{\"active_multi\":null,\"tools\":[{\"id\":\"5897\"},{\"id\":\"5898\"},{\"id\":\"5899\"},{\"id\":\"5900\"},{\"id\":\"5901\"}]},\"id\":\"5903\",\"type\":\"Toolbar\"},{\"attributes\":{\"text\":\"Mean       = 0.9742\",\"text_font_size\":\"10pt\",\"x\":250,\"x_units\":\"screen\",\"y\":215,\"y_units\":\"screen\"},\"id\":\"5926\",\"type\":\"Label\"},{\"attributes\":{},\"id\":\"5935\",\"type\":\"LinearScale\"},{\"attributes\":{},\"id\":\"5915\",\"type\":\"BasicTickFormatter\"},{\"attributes\":{\"bottom\":{\"value\":0},\"fill_alpha\":{\"value\":0.5},\"fill_color\":{\"value\":\"blue\"},\"left\":{\"field\":\"left\"},\"line_alpha\":{\"value\":0.5},\"line_color\":{\"value\":\"purple\"},\"right\":{\"field\":\"right\"},\"top\":{\"field\":\"top\"}},\"id\":\"5910\",\"type\":\"Quad\"},{\"attributes\":{},\"id\":\"5916\",\"type\":\"AllLabels\"},{\"attributes\":{\"items\":[{\"id\":\"5925\"}]},\"id\":\"5924\",\"type\":\"Legend\"},{\"attributes\":{\"data_source\":{\"id\":\"5909\"},\"glyph\":{\"id\":\"5910\"},\"hover_glyph\":null,\"muted_glyph\":null,\"nonselection_glyph\":{\"id\":\"5911\"},\"view\":{\"id\":\"5913\"}},\"id\":\"5912\",\"type\":\"GlyphRenderer\"},{\"attributes\":{\"text\":\"Mean       = 1.0116\",\"text_font_size\":\"10pt\",\"x\":250,\"x_units\":\"screen\",\"y\":215,\"y_units\":\"screen\"},\"id\":\"5976\",\"type\":\"Label\"},{\"attributes\":{\"source\":{\"id\":\"5909\"}},\"id\":\"5913\",\"type\":\"CDSView\"},{\"attributes\":{},\"id\":\"5918\",\"type\":\"BasicTickFormatter\"},{\"attributes\":{},\"id\":\"5919\",\"type\":\"AllLabels\"},{\"attributes\":{},\"id\":\"6447\",\"type\":\"PanTool\"},{\"attributes\":{},\"id\":\"6448\",\"type\":\"WheelZoomTool\"},{\"attributes\":{\"active_multi\":null,\"tools\":[{\"id\":\"6447\"},{\"id\":\"6448\"},{\"id\":\"6449\"},{\"id\":\"6450\"},{\"id\":\"6451\"}]},\"id\":\"6453\",\"type\":\"Toolbar\"},{\"attributes\":{},\"id\":\"6051\",\"type\":\"SaveTool\"},{\"attributes\":{\"overlay\":{\"id\":\"6452\"}},\"id\":\"6449\",\"type\":\"BoxZoomTool\"},{\"attributes\":{},\"id\":\"6450\",\"type\":\"ResetTool\"},{\"attributes\":{},\"id\":\"6451\",\"type\":\"SaveTool\"},{\"attributes\":{},\"id\":\"6050\",\"type\":\"ResetTool\"},{\"attributes\":{\"overlay\":{\"id\":\"6052\"}},\"id\":\"6049\",\"type\":\"BoxZoomTool\"},{\"attributes\":{\"text\":\"Mean       = 1.0356\",\"text_font_size\":\"10pt\",\"x\":250,\"x_units\":\"screen\",\"y\":215,\"y_units\":\"screen\"},\"id\":\"6176\",\"type\":\"Label\"},{\"attributes\":{\"text\":\"Randomly distributed endowments, gamma = 0.60\"},\"id\":\"6079\",\"type\":\"Title\"},{\"attributes\":{\"bottom_units\":\"screen\",\"fill_alpha\":0.5,\"fill_color\":\"lightgrey\",\"left_units\":\"screen\",\"level\":\"overlay\",\"line_alpha\":1.0,\"line_color\":\"black\",\"line_dash\":[4,4],\"line_width\":2,\"right_units\":\"screen\",\"syncable\":false,\"top_units\":\"screen\"},\"id\":\"6002\",\"type\":\"BoxAnnotation\"},{\"attributes\":{\"bottom_units\":\"screen\",\"fill_alpha\":0.5,\"fill_color\":\"lightgrey\",\"left_units\":\"screen\",\"level\":\"overlay\",\"line_alpha\":1.0,\"line_color\":\"black\",\"line_dash\":[4,4],\"line_width\":2,\"right_units\":\"screen\",\"syncable\":false,\"top_units\":\"screen\"},\"id\":\"6452\",\"type\":\"BoxAnnotation\"},{\"attributes\":{\"active_multi\":null,\"tools\":[{\"id\":\"5997\"},{\"id\":\"5998\"},{\"id\":\"5999\"},{\"id\":\"6000\"},{\"id\":\"6001\"}]},\"id\":\"6003\",\"type\":\"Toolbar\"},{\"attributes\":{\"below\":[{\"id\":\"6089\"}],\"center\":[{\"id\":\"6092\"},{\"id\":\"6096\"},{\"id\":\"6124\"},{\"id\":\"6126\"},{\"id\":\"6127\"}],\"height\":350,\"left\":[{\"id\":\"6093\"}],\"renderers\":[{\"id\":\"6112\"}],\"title\":{\"id\":\"6079\"},\"toolbar\":{\"id\":\"6103\"},\"width\":500,\"x_range\":{\"id\":\"6081\"},\"x_scale\":{\"id\":\"6085\"},\"y_range\":{\"id\":\"6083\"},\"y_scale\":{\"id\":\"6087\"}},\"id\":\"6078\",\"subtype\":\"Figure\",\"type\":\"Plot\"},{\"attributes\":{\"data\":{\"left\":{\"__ndarray__\":\"Pk15eiZjwj8TZid7DSvEP+h+1Xv08sU/vZeDfNu6xz+SsDF9woLJP2bJ332pSss/POKNfpASzT8Q+zt/d9rOP/MJ9T8vUdA/XRZMwCI10T/IIqNAFhnSPzIv+sAJ/dI/nDtRQf3g0z8HSKjB8MTUP3JU/0HkqNU/3GBWwteM1j9Gba1Cy3DXP7F5BMO+VNg/G4ZbQ7I42T+GkrLDpRzaP/CeCUSZANs/W6tgxIzk2z/Ft7dEgMjcPzDEDsVzrN0/mtBlRWeQ3j8F3bzFWnTfP7j0CSMnLOA/7Xo14yCe4D8iAWGjGhDhP1iHjGMUguE/jA24Iw704T/Ck+PjB2biP/cZD6QB2OI/LKA6ZPtJ4z9iJmYk9bvjP5askeTuLeQ/zDK9pOif5D8Cuehk4hHlPzY/FCXcg+U/bMU/5dX15T+gS2ulz2fmP9bRlmXJ2eY/DFjCJcNL5z9A3u3lvL3nP3ZkGaa2L+g/rOpEZrCh6D/gcHAmqhPpPxb3m+ajhek/Sn3Hpp336T+AA/Nml2nqP7aJHieR2+o/6g9K54pN6z8glnWnhL/rP1QcoWd+Mew/iqLMJ3ij7D/AKPjncRXtP/SuI6hrh+0/KjVPaGX57T9gu3ooX2vuP5RBpuhY3e4/ysfRqFJP7z/+Tf1oTMHvPxpqlBSjGfA/NS2q9J9S8D9P8L/UnIvwP2qz1bSZxPA/hHbrlJb98D+fOQF1kzbxP7r8FlWQb/E/1L8sNY2o8T/vgkIViuHxPwpGWPWGGvI/JAlu1YNT8j8/zIO1gIzyP1qPmZV9xfI/dFKvdXr+8j+PFcVVdzfzP6rY2jV0cPM/xJvwFXGp8z/fXgb2beLzP/khHNZqG/Q/FOUxtmdU9D8vqEeWZI30P0lrXXZhxvQ/ZC5zVl7/9D9+8Yg2Wzj1P5m0nhZYcfU/tHe09lSq9T/OOsrWUeP1P+n937ZOHPY/BMH1lktV9j8ehAt3SI72PzlHIVdFx/Y/Uwo3N0IA9z9uzUwXPzn3P4mQYvc7cvc/o1N41zir9z++Fo63NeT3P9jZo5cyHfg/85y5dy9W+D8OYM9XLI/4Pygj5TcpyPg/Q+b6FyYB+T9eqRD4Ijr5P3hsJtgfc/k/ky88uBys+T+t8lGYGeX5P8i1Z3gWHvo/43h9WBNX+j/9O5M4EJD6Pxj/qBgNyfo/M8K++AkC+z9NhdTYBjv7P2hI6rgDdPs/ggsAmQCt+z+dzhV5/eX7P7iRK1n6Hvw/0lRBOfdX/D/tF1cZ9JD8PwfbbPnwyfw/Ip6C2e0C/T89YZi56jv9P1ckrpnndP0/cufDeeSt/T+NqtlZ4eb9P6dt7zneH/4/wjAFGttY/j/c8xr615H+P/e2MNrUyv4/EnpGutED/z8sPVyazjz/P0cAcnrLdf8/YcOHWsiu/z98hp06xef/P8ukWQ1hEABAWIZkfd8sAEDmZ2/tXUkAQHNJel3cZQBAACuFzVqCAECODJA92Z4AQBvumq1XuwBAqM+lHdbXAEA2sbCNVPQAQMOSu/3SEAFAUHTGbVEtAUDeVdHdz0kBQGs33E1OZgFA+BjnvcyCAUCG+vEtS58BQBPc/J3JuwFA\",\"dtype\":\"float64\",\"order\":\"little\",\"shape\":[150]},\"right\":{\"__ndarray__\":\"E2Ynew0rxD/oftV79PLFP72Xg3zbusc/krAxfcKCyT9myd99qUrLPzzijX6QEs0/EPs7f3fazj/zCfU/L1HQP10WTMAiNdE/yCKjQBYZ0j8yL/rACf3SP5w7UUH94NM/B0iowfDE1D9yVP9B5KjVP9xgVsLXjNY/Rm2tQstw1z+xeQTDvlTYPxuGW0OyONk/hpKyw6Uc2j/wnglEmQDbP1urYMSM5Ns/xbe3RIDI3D8wxA7Fc6zdP5rQZUVnkN4/Bd28xVp03z+49AkjJyzgP+16NeMgnuA/IgFhoxoQ4T9Yh4xjFILhP4wNuCMO9OE/wpPj4wdm4j/3GQ+kAdjiPyygOmT7SeM/YiZmJPW74z+WrJHk7i3kP8wyvaTon+Q/ArnoZOIR5T82PxQl3IPlP2zFP+XV9eU/oEtrpc9n5j/W0ZZlydnmPwxYwiXDS+c/QN7t5by95z92ZBmmti/oP6zqRGawoeg/4HBwJqoT6T8W95vmo4XpP0p9x6ad9+k/gAPzZpdp6j+2iR4nkdvqP+oPSueKTes/IJZ1p4S/6z9UHKFnfjHsP4qizCd4o+w/wCj453EV7T/0riOoa4ftPyo1T2hl+e0/YLt6KF9r7j+UQaboWN3uP8rH0ahST+8//k39aEzB7z8aapQUoxnwPzUtqvSfUvA/T/C/1JyL8D9qs9W0mcTwP4R265SW/fA/nzkBdZM28T+6/BZVkG/xP9S/LDWNqPE/74JCFYrh8T8KRlj1hhryPyQJbtWDU/I/P8yDtYCM8j9aj5mVfcXyP3RSr3V6/vI/jxXFVXc38z+q2No1dHDzP8Sb8BVxqfM/314G9m3i8z/5IRzWahv0PxTlMbZnVPQ/L6hHlmSN9D9Ja112Ycb0P2Quc1Ze//Q/fvGINls49T+ZtJ4WWHH1P7R3tPZUqvU/zjrK1lHj9T/p/d+2Thz2PwTB9ZZLVfY/HoQLd0iO9j85RyFXRcf2P1MKNzdCAPc/bs1MFz859z+JkGL3O3L3P6NTeNc4q/c/vhaOtzXk9z/Y2aOXMh34P/OcuXcvVvg/DmDPVyyP+D8oI+U3Kcj4P0Pm+hcmAfk/XqkQ+CI6+T94bCbYH3P5P5MvPLgcrPk/rfJRmBnl+T/ItWd4Fh76P+N4fVgTV/o//TuTOBCQ+j8Y/6gYDcn6PzPCvvgJAvs/TYXU2AY7+z9oSOq4A3T7P4ILAJkArfs/nc4Vef3l+z+4kStZ+h78P9JUQTn3V/w/7RdXGfSQ/D8H22z58Mn8PyKegtntAv0/PWGYueo7/T9XJK6Z53T9P3Lnw3nkrf0/jarZWeHm/T+nbe853h/+P8IwBRrbWP4/3PMa+teR/j/3tjDa1Mr+PxJ6RrrRA/8/LD1cms48/z9HAHJ6y3X/P2HDh1rIrv8/fIadOsXn/z/LpFkNYRAAQFiGZH3fLABA5mdv7V1JAEBzSXpd3GUAQAArhc1aggBAjgyQPdmeAEAb7pqtV7sAQKjPpR3W1wBANrGwjVT0AEDDkrv90hABQFB0xm1RLQFA3lXR3c9JAUBrN9xNTmYBQPgY573MggFAhvrxLUufAUAT3PydybsBQKC9Bw5I2AFA\",\"dtype\":\"float64\",\"order\":\"little\",\"shape\":[150]},\"top\":[1,2,0,1,0,5,4,3,3,7,6,12,22,27,32,38,55,55,65,80,95,115,124,160,198,207,259,295,293,366,379,412,453,487,577,567,602,660,704,769,776,764,846,875,904,861,930,943,940,971,992,994,992,1020,1065,1119,1028,1042,1036,1028,1001,975,985,882,904,925,822,942,800,823,751,701,720,679,664,597,603,576,558,539,525,458,435,417,388,410,351,313,312,267,266,242,210,230,206,198,179,175,159,142,147,126,94,106,103,87,76,58,62,46,47,51,41,30,40,37,30,21,28,26,23,14,16,13,13,6,4,5,9,7,7,3,2,3,2,3,0,5,3,0,0,5,0,0,1,1,1,0,0,2]},\"selected\":{\"id\":\"6022\"},\"selection_policy\":{\"id\":\"6021\"}},\"id\":\"6009\",\"type\":\"ColumnDataSource\"},{\"attributes\":{\"bottom\":{\"value\":0},\"fill_alpha\":{\"value\":0.1},\"fill_color\":{\"value\":\"blue\"},\"left\":{\"field\":\"left\"},\"line_alpha\":{\"value\":0.1},\"line_color\":{\"value\":\"purple\"},\"right\":{\"field\":\"right\"},\"top\":{\"field\":\"top\"}},\"id\":\"6011\",\"type\":\"Quad\"},{\"attributes\":{\"below\":[{\"id\":\"6039\"}],\"center\":[{\"id\":\"6042\"},{\"id\":\"6046\"},{\"id\":\"6074\"},{\"id\":\"6076\"},{\"id\":\"6077\"}],\"height\":350,\"left\":[{\"id\":\"6043\"}],\"renderers\":[{\"id\":\"6062\"}],\"title\":{\"id\":\"6029\"},\"toolbar\":{\"id\":\"6053\"},\"width\":500,\"x_range\":{\"id\":\"6031\"},\"x_scale\":{\"id\":\"6035\"},\"y_range\":{\"id\":\"6033\"},\"y_scale\":{\"id\":\"6037\"}},\"id\":\"6028\",\"subtype\":\"Figure\",\"type\":\"Plot\"},{\"attributes\":{\"overlay\":{\"id\":\"6002\"}},\"id\":\"5999\",\"type\":\"BoxZoomTool\"},{\"attributes\":{\"bottom\":{\"value\":0},\"fill_alpha\":{\"value\":0.5},\"fill_color\":{\"value\":\"blue\"},\"left\":{\"field\":\"left\"},\"line_alpha\":{\"value\":0.5},\"line_color\":{\"value\":\"purple\"},\"right\":{\"field\":\"right\"},\"top\":{\"field\":\"top\"}},\"id\":\"6010\",\"type\":\"Quad\"},{\"attributes\":{},\"id\":\"6001\",\"type\":\"SaveTool\"},{\"attributes\":{\"items\":[{\"id\":\"6025\"}]},\"id\":\"6024\",\"type\":\"Legend\"},{\"attributes\":{\"data\":{\"left\":{\"__ndarray__\":\"jLnKSQAA8D9Po+Ikny3wPxON+v89W/A/1nYS29yI8D+aYCq2e7bwP11KQpEa5PA/ITRabLkR8T/kHXJHWD/xP6gHiiL3bPE/a/Gh/ZWa8T8v27nYNMjxP/LE0bPT9fE/tq7pjnIj8j95mAFqEVHyPzyCGUWwfvI/AGwxIE+s8j/EVUn77dnyP4c/YdaMB/M/Sil5sSs18z8OE5GMymLzP9H8qGdpkPM/lebAQgi+8z9Y0Ngdp+vzPxy68PhFGfQ/36MI1ORG9D+jjSCvg3T0P2Z3OIoiovQ/KmFQZcHP9D/tSmhAYP30P7A0gBv/KvU/dB6Y9p1Y9T84CLDRPIb1P/vxx6zbs/U/vtvfh3rh9T+CxfdiGQ/2P0avDz64PPY/CZknGVdq9j/Mgj/09Zf2P5BsV8+UxfY/U1ZvqjPz9j8XQIeF0iD3P9opn2BxTvc/nhO3OxB89z9h/c4Wr6n3PyTn5vFN1/c/6ND+zOwE+D+suhaoizL4P2+kLoMqYPg/Mo5GXsmN+D/2d145aLv4P7phdhQH6fg/fUuO76UW+T9ANabKRET5PwQfvqXjcfk/yAjWgIKf+T+L8u1bIc35P07cBTfA+vk/EsYdEl8o+j/VrzXt/VX6P5iZTcicg/o/XINlozux+j8gbX1+2t76P+NWlVl5DPs/pkCtNBg6+z9qKsUPt2f7Py4U3epVlfs/8f30xfTC+z+05wyhk/D7P3jRJHwyHvw/PLs8V9FL/D//pFQycHn8P8KObA0Pp/w/hniE6K3U/D9JYpzDTAL9PwxMtJ7rL/0/0DXMeYpd/T+UH+RUKYv9P1cJ/C/IuP0/GvMTC2fm/T/e3CvmBRT+P6LGQ8GkQf4/ZbBbnENv/j8omnN34pz+P+yDi1KByv4/sG2jLSD4/j9zV7sIvyX/PzZB0+NdU/8/+irrvvyA/z+9FAOam67/P4D+GnU63P8/InQZqOwEAEAEaaUVvBsAQOZdMYOLMgBAyFK98FpJAECpR0leKmAAQIs81cv5dgBAbDFhOcmNAEBOJu2mmKQAQDAbeRRouwBAEhAFgjfSAED0BJHvBukAQNX5HF3W/wBAt+6oyqUWAUCY4zQ4dS0BQHrYwKVERAFAXM1MExRbAUA+wtiA43EBQCC3ZO6yiAFAAqzwW4KfAUDjoHzJUbYBQMWVCDchzQFApoqUpPDjAUCIfyASwPoBQGp0rH+PEQJATGk47V4oAkAuXsRaLj8CQA9TUMj9VQJA8UfcNc1sAkDSPGijnIMCQLQx9BBsmgJAliaAfjuxAkB4GwzsCsgCQFoQmFna3gJAPAUkx6n1AkAd+q80eQwDQP/uO6JIIwNA4OPHDxg6A0DC2FN951ADQKTN3+q2ZwNAhsJrWIZ+A0Bot/fFVZUDQEmsgzMlrANAK6EPofTCA0AMlpsOxNkDQO6KJ3yT8ANA0H+z6WIHBECydD9XMh4EQJRpy8QBNQRAdl5XMtFLBEBXU+OfoGIEQDlIbw1weQRAGj37ej+QBED8MYfoDqcEQN4mE1bevQRAwBufw63UBECiECsxfesEQIMFt55MAgVAZfpCDBwZBUBG78556y8FQCjkWue6RgVA\",\"dtype\":\"float64\",\"order\":\"little\",\"shape\":[150]},\"right\":{\"__ndarray__\":\"T6PiJJ8t8D8Tjfr/PVvwP9Z2EtvciPA/mmAqtnu28D9dSkKRGuTwPyE0Wmy5EfE/5B1yR1g/8T+oB4oi92zxP2vxof2VmvE/L9u52DTI8T/yxNGz0/XxP7au6Y5yI/I/eZgBahFR8j88ghlFsH7yPwBsMSBPrPI/xFVJ++3Z8j+HP2HWjAfzP0opebErNfM/DhORjMpi8z/R/KhnaZDzP5XmwEIIvvM/WNDYHafr8z8cuvD4RRn0P9+jCNTkRvQ/o40gr4N09D9mdziKIqL0PyphUGXBz/Q/7UpoQGD99D+wNIAb/yr1P3QemPadWPU/OAiw0TyG9T/78ces27P1P77b34d64fU/gsX3YhkP9j9Grw8+uDz2PwmZJxlXavY/zII/9PWX9j+QbFfPlMX2P1NWb6oz8/Y/F0CHhdIg9z/aKZ9gcU73P54TtzsQfPc/Yf3OFq+p9z8k5+bxTdf3P+jQ/szsBPg/rLoWqIsy+D9vpC6DKmD4PzKORl7Jjfg/9ndeOWi7+D+6YXYUB+n4P31Lju+lFvk/QDWmykRE+T8EH76l43H5P8gI1oCCn/k/i/LtWyHN+T9O3AU3wPr5PxLGHRJfKPo/1a817f1V+j+YmU3InIP6P1yDZaM7sfo/IG19ftre+j/jVpVZeQz7P6ZArTQYOvs/airFD7dn+z8uFN3qVZX7P/H99MX0wvs/tOcMoZPw+z940SR8Mh78Pzy7PFfRS/w//6RUMnB5/D/CjmwND6f8P4Z4hOit1Pw/SWKcw0wC/T8MTLSe6y/9P9A1zHmKXf0/lB/kVCmL/T9XCfwvyLj9PxrzEwtn5v0/3twr5gUU/j+ixkPBpEH+P2WwW5xDb/4/KJpzd+Kc/j/sg4tSgcr+P7Btoy0g+P4/c1e7CL8l/z82QdPjXVP/P/oq6778gP8/vRQDmpuu/z+A/hp1Otz/PyJ0GajsBABABGmlFbwbAEDmXTGDizIAQMhSvfBaSQBAqUdJXipgAECLPNXL+XYAQGwxYTnJjQBATibtppikAEAwG3kUaLsAQBIQBYI30gBA9ASR7wbpAEDV+Rxd1v8AQLfuqMqlFgFAmOM0OHUtAUB62MClREQBQFzNTBMUWwFAPsLYgONxAUAgt2TusogBQAKs8FuCnwFA46B8yVG2AUDFlQg3Ic0BQKaKlKTw4wFAiH8gEsD6AUBqdKx/jxECQExpOO1eKAJALl7EWi4/AkAPU1DI/VUCQPFH3DXNbAJA0jxoo5yDAkC0MfQQbJoCQJYmgH47sQJAeBsM7ArIAkBaEJhZ2t4CQDwFJMep9QJAHfqvNHkMA0D/7juiSCMDQODjxw8YOgNAwthTfedQA0Ckzd/qtmcDQIbCa1iGfgNAaLf3xVWVA0BJrIMzJawDQCuhD6H0wgNADJabDsTZA0Duiid8k/ADQNB/s+liBwRAsnQ/VzIeBECUacvEATUEQHZeVzLRSwRAV1Pjn6BiBEA5SG8NcHkEQBo9+3o/kARA/DGH6A6nBEDeJhNW3r0EQMAbn8Ot1ARAohArMX3rBECDBbeeTAIFQGX6QgwcGQVARu/OeesvBUAo5FrnukYFQArZ5lSKXQVA\",\"dtype\":\"float64\",\"order\":\"little\",\"shape\":[150]},\"top\":[6323,5414,4752,4314,3478,3130,2682,2260,1918,1757,1510,1317,1104,1064,915,785,733,654,588,492,472,417,361,306,313,248,228,196,186,156,120,126,131,122,84,102,96,66,79,60,54,42,48,48,36,51,39,32,34,27,33,30,28,25,19,24,20,23,19,22,18,14,14,18,15,11,11,8,9,5,6,7,2,10,6,8,6,5,5,3,9,5,1,4,4,4,4,6,6,3,2,4,2,5,2,2,5,4,2,3,1,0,2,1,2,3,1,1,1,1,2,0,0,0,1,0,0,2,2,1,0,1,0,0,1,0,0,0,0,0,0,1,1,2,0,0,0,0,0,0,0,0,0,0,0,0,1,0,0,1]},\"selected\":{\"id\":\"6472\"},\"selection_policy\":{\"id\":\"6471\"}},\"id\":\"6459\",\"type\":\"ColumnDataSource\"},{\"attributes\":{\"data_source\":{\"id\":\"6009\"},\"glyph\":{\"id\":\"6010\"},\"hover_glyph\":null,\"muted_glyph\":null,\"nonselection_glyph\":{\"id\":\"6011\"},\"view\":{\"id\":\"6013\"}},\"id\":\"6012\",\"type\":\"GlyphRenderer\"},{\"attributes\":{\"text\":\"Randomly distributed endowments, gamma = 0.40\"},\"id\":\"5979\",\"type\":\"Title\"},{\"attributes\":{\"text\":\"Variance  = 0.0731\",\"text_font_size\":\"10pt\",\"x\":250,\"x_units\":\"screen\",\"y\":200,\"y_units\":\"screen\"},\"id\":\"6027\",\"type\":\"Label\"},{\"attributes\":{\"bottom\":{\"value\":0},\"fill_alpha\":{\"value\":0.1},\"fill_color\":{\"value\":\"blue\"},\"left\":{\"field\":\"left\"},\"line_alpha\":{\"value\":0.1},\"line_color\":{\"value\":\"purple\"},\"right\":{\"field\":\"right\"},\"top\":{\"field\":\"top\"}},\"id\":\"6461\",\"type\":\"Quad\"},{\"attributes\":{\"source\":{\"id\":\"6009\"}},\"id\":\"6013\",\"type\":\"CDSView\"},{\"attributes\":{},\"id\":\"6000\",\"type\":\"ResetTool\"},{\"attributes\":{\"bottom\":{\"value\":0},\"fill_alpha\":{\"value\":0.5},\"fill_color\":{\"value\":\"blue\"},\"left\":{\"field\":\"left\"},\"line_alpha\":{\"value\":0.5},\"line_color\":{\"value\":\"purple\"},\"right\":{\"field\":\"right\"},\"top\":{\"field\":\"top\"}},\"id\":\"6460\",\"type\":\"Quad\"},{\"attributes\":{\"items\":[{\"id\":\"6475\"}]},\"id\":\"6474\",\"type\":\"Legend\"},{\"attributes\":{\"bottom_units\":\"screen\",\"fill_alpha\":0.5,\"fill_color\":\"lightgrey\",\"left_units\":\"screen\",\"level\":\"overlay\",\"line_alpha\":1.0,\"line_color\":\"black\",\"line_dash\":[4,4],\"line_width\":2,\"right_units\":\"screen\",\"syncable\":false,\"top_units\":\"screen\"},\"id\":\"5952\",\"type\":\"BoxAnnotation\"},{\"attributes\":{\"data_source\":{\"id\":\"6459\"},\"glyph\":{\"id\":\"6460\"},\"hover_glyph\":null,\"muted_glyph\":null,\"nonselection_glyph\":{\"id\":\"6461\"},\"view\":{\"id\":\"6463\"}},\"id\":\"6462\",\"type\":\"GlyphRenderer\"},{\"attributes\":{\"text\":\"Variance  = 0.0132\",\"text_font_size\":\"10pt\",\"x\":250,\"x_units\":\"screen\",\"y\":200,\"y_units\":\"screen\"},\"id\":\"6477\",\"type\":\"Label\"},{\"attributes\":{},\"id\":\"6015\",\"type\":\"BasicTickFormatter\"},{\"attributes\":{\"source\":{\"id\":\"6459\"}},\"id\":\"6463\",\"type\":\"CDSView\"},{\"attributes\":{\"bottom\":{\"value\":0},\"fill_alpha\":{\"value\":0.1},\"fill_color\":{\"value\":\"blue\"},\"left\":{\"field\":\"left\"},\"line_alpha\":{\"value\":0.1},\"line_color\":{\"value\":\"purple\"},\"right\":{\"field\":\"right\"},\"top\":{\"field\":\"top\"}},\"id\":\"5961\",\"type\":\"Quad\"},{\"attributes\":{\"data\":{\"left\":{\"__ndarray__\":\"VMPWCQAA8D+KUN9N0gPwP7/d55GkB/A/9Wrw1XYL8D8q+PgZSQ/wP2CFAV4bE/A/lhIKou0W8D/LnxLmvxrwPwEtGyqSHvA/NrojbmQi8D9sRyyyNibwP6HUNPYIKvA/12E9Otst8D8N70V+rTHwP0J8TsJ/NfA/eAlXBlI58D+tll9KJD3wP+MjaI72QPA/GbFw0shE8D9OPnkWm0jwP4TLgVptTPA/uViKnj9Q8D/v5ZLiEVTwPyRzmybkV/A/WgCkarZb8D+QjayuiF/wP8UatfJaY/A/+6e9Ni1n8D8wNcZ6/2rwP2bCzr7RbvA/nE/XAqRy8D/R3N9GdnbwPwdq6IpIevA/PPfwzhp+8D9yhPkS7YHwP6gRAle/hfA/3Z4Km5GJ8D8TLBPfY43wP0i5GyM2kfA/fkYkZwiV8D+z0yyr2pjwP+lgNe+snPA/H+49M3+g8D9Ue0Z3UaTwP4oIT7sjqPA/v5VX//Wr8D/1ImBDyK/wPyuwaIeas/A/YD1xy2y38D+WynkPP7vwP8tXglMRv/A/AeWKl+PC8D82cpPbtcbwP2z/mx+IyvA/ooykY1rO8D/XGa2nLNLwPw2ntev+1fA/QjS+L9HZ8D94wcZzo93wP65Oz7d14fA/49vX+0fl8D8ZaeA/GunwP0726IPs7PA/hIPxx77w8D+6EPoLkfTwP++dAlBj+PA/JSsLlDX88D9auBPYBwDxP5BFHBzaA/E/xdIkYKwH8T/7Xy2kfgvxPzHtNehQD/E/Zno+LCMT8T+cB0dw9RbxP9GUT7THGvE/ByJY+Jke8T89r2A8bCLxP3I8aYA+JvE/qMlxxBAq8T/dVnoI4y3xPxPkgky1MfE/SHGLkIc18T9+/pPUWTnxP7SLnBgsPfE/6RilXP5A8T8fpq2g0ETxP1QztuSiSPE/isC+KHVM8T/ATcdsR1DxP/Xaz7AZVPE/K2jY9OtX8T9g9eA4vlvxP5aC6XyQX/E/zA/ywGJj8T8BnfoENWfxPzcqA0kHa/E/bLcLjdlu8T+iRBTRq3LxP9jRHBV+dvE/DV8lWVB68T9D7C2dIn7xP3h5NuH0gfE/rgY/JceF8T/jk0dpmYnxPxkhUK1rjfE/T65Y8T2R8T+EO2E1EJXxP7rIaXnimPE/71VyvbSc8T8l43oBh6DxP1pwg0VZpPE/kP2LiSuo8T/GipTN/avxP/sXnRHQr/E/MaWlVaKz8T9mMq6ZdLfxP5y/tt1Gu/E/0ky/IRm/8T8H2sdl68LxPz1n0Km9xvE/cvTY7Y/K8T+ogeExYs7xP94O6nU00vE/E5zyuQbW8T9JKfv92NnxP362A0Kr3fE/tEMMhn3h8T/q0BTKT+XxPx9eHQ4i6fE/VeslUvTs8T+KeC6WxvDxP8AFN9qY9PE/9ZI/Hmv48T8rIEhiPfzxP2GtUKYPAPI/ljpZ6uED8j/Mx2EutAfyPwFVanKGC/I/N+JytlgP8j9sb3v6KhPyP6L8gz79FvI/2ImMgs8a8j8NF5XGoR7yP0OknQp0IvI/eDGmTkYm8j+uvq6SGCryP+RLt9bqLfI/Gdm/Gr0x8j9PZshejzXyP4Tz0KJhOfI/\",\"dtype\":\"float64\",\"order\":\"little\",\"shape\":[150]},\"right\":{\"__ndarray__\":\"ilDfTdID8D+/3eeRpAfwP/Vq8NV2C/A/Kvj4GUkP8D9ghQFeGxPwP5YSCqLtFvA/y58S5r8a8D8BLRsqkh7wPza6I25kIvA/bEcssjYm8D+h1DT2CCrwP9dhPTrbLfA/De9Ffq0x8D9CfE7CfzXwP3gJVwZSOfA/rZZfSiQ98D/jI2iO9kDwPxmxcNLIRPA/Tj55FptI8D+Ey4FabUzwP7lYip4/UPA/7+WS4hFU8D8kc5sm5FfwP1oApGq2W/A/kI2srohf8D/FGrXyWmPwP/unvTYtZ/A/MDXGev9q8D9mws6+0W7wP5xP1wKkcvA/0dzfRnZ28D8HauiKSHrwPzz38M4afvA/coT5Eu2B8D+oEQJXv4XwP92eCpuRifA/EywT32ON8D9IuRsjNpHwP35GJGcIlfA/s9Msq9qY8D/pYDXvrJzwPx/uPTN/oPA/VHtGd1Gk8D+KCE+7I6jwP7+VV//1q/A/9SJgQ8iv8D8rsGiHmrPwP2A9cctst/A/lsp5Dz+78D/LV4JTEb/wPwHlipfjwvA/NnKT27XG8D9s/5sfiMrwP6KMpGNazvA/1xmtpyzS8D8Np7Xr/tXwP0I0vi/R2fA/eMHGc6Pd8D+uTs+3deHwP+Pb1/tH5fA/GWngPxrp8D9O9uiD7OzwP4SD8ce+8PA/uhD6C5H08D/vnQJQY/jwPyUrC5Q1/PA/WrgT2AcA8T+QRRwc2gPxP8XSJGCsB/E/+18tpH4L8T8x7TXoUA/xP2Z6PiwjE/E/nAdHcPUW8T/RlE+0xxrxPwciWPiZHvE/Pa9gPGwi8T9yPGmAPibxP6jJccQQKvE/3VZ6COMt8T8T5IJMtTHxP0hxi5CHNfE/fv6T1Fk58T+0i5wYLD3xP+kYpVz+QPE/H6atoNBE8T9UM7bkokjxP4rAvih1TPE/wE3HbEdQ8T/12s+wGVTxPyto2PTrV/E/YPXgOL5b8T+Wgul8kF/xP8wP8sBiY/E/AZ36BDVn8T83KgNJB2vxP2y3C43ZbvE/okQU0aty8T/Y0RwVfnbxPw1fJVlQevE/Q+wtnSJ+8T94eTbh9IHxP64GPyXHhfE/45NHaZmJ8T8ZIVCta43xP0+uWPE9kfE/hDthNRCV8T+6yGl54pjxP+9Vcr20nPE/JeN6AYeg8T9acINFWaTxP5D9i4krqPE/xoqUzf2r8T/7F50R0K/xPzGlpVWis/E/ZjKumXS38T+cv7bdRrvxP9JMvyEZv/E/B9rHZevC8T89Z9CpvcbxP3L02O2PyvE/qIHhMWLO8T/eDup1NNLxPxOc8rkG1vE/SSn7/djZ8T9+tgNCq93xP7RDDIZ94fE/6tAUyk/l8T8fXh0OIunxP1XrJVL07PE/ingulsbw8T/ABTfamPTxP/WSPx5r+PE/KyBIYj388T9hrVCmDwDyP5Y6WerhA/I/zMdhLrQH8j8BVWpyhgvyPzficrZYD/I/bG97+ioT8j+i/IM+/RbyP9iJjILPGvI/DReVxqEe8j9DpJ0KdCLyP3gxpk5GJvI/rr6ukhgq8j/kS7fW6i3yPxnZvxq9MfI/T2bIXo818j+E89CiYTnyP7qA2eYzPfI/\",\"dtype\":\"float64\",\"order\":\"little\",\"shape\":[150]},\"top\":[4039,3831,3357,3178,2921,2800,2492,2181,2068,1842,1692,1579,1340,1295,1206,1049,1029,887,799,770,718,666,629,510,536,488,450,421,360,376,324,298,279,240,246,232,185,189,161,146,145,119,88,104,119,92,102,69,88,83,64,66,61,52,46,39,40,42,39,33,44,39,27,31,23,31,26,29,25,18,20,21,22,23,16,23,17,13,17,16,12,13,11,8,9,4,6,6,7,10,2,10,7,4,4,9,5,2,5,4,4,7,7,3,2,4,5,3,3,6,4,3,2,0,2,2,3,2,1,1,2,1,0,0,1,0,2,2,1,1,0,1,0,0,0,0,1,1,2,0,0,0,0,0,0,0,0,1,0,1]},\"selected\":{\"id\":\"5972\"},\"selection_policy\":{\"id\":\"5971\"}},\"id\":\"5959\",\"type\":\"ColumnDataSource\"},{\"attributes\":{},\"id\":\"6016\",\"type\":\"AllLabels\"},{\"attributes\":{},\"id\":\"6465\",\"type\":\"BasicTickFormatter\"},{\"attributes\":{},\"id\":\"6466\",\"type\":\"AllLabels\"},{\"attributes\":{\"text\":\"Equally distributed endowments, gamma = 0.40\"},\"id\":\"6029\",\"type\":\"Title\"},{\"attributes\":{\"children\":[{\"id\":\"6078\"},{\"id\":\"6128\"}]},\"id\":\"6480\",\"type\":\"Row\"},{\"attributes\":{},\"id\":\"6018\",\"type\":\"BasicTickFormatter\"},{\"attributes\":{\"children\":[{\"id\":\"5878\"},{\"id\":\"5928\"}]},\"id\":\"6478\",\"type\":\"Row\"},{\"attributes\":{\"children\":[{\"id\":\"5978\"},{\"id\":\"6028\"}]},\"id\":\"6479\",\"type\":\"Row\"},{\"attributes\":{\"active_multi\":null,\"tools\":[{\"id\":\"5947\"},{\"id\":\"5948\"},{\"id\":\"5949\"},{\"id\":\"5950\"},{\"id\":\"5951\"}]},\"id\":\"5953\",\"type\":\"Toolbar\"},{\"attributes\":{},\"id\":\"6019\",\"type\":\"AllLabels\"},{\"attributes\":{\"text\":\"Variance  = 0.1670\",\"text_font_size\":\"10pt\",\"x\":250,\"x_units\":\"screen\",\"y\":200,\"y_units\":\"screen\"},\"id\":\"6127\",\"type\":\"Label\"},{\"attributes\":{\"bottom\":{\"value\":0},\"fill_alpha\":{\"value\":0.5},\"fill_color\":{\"value\":\"blue\"},\"left\":{\"field\":\"left\"},\"line_alpha\":{\"value\":0.5},\"line_color\":{\"value\":\"purple\"},\"right\":{\"field\":\"right\"},\"top\":{\"field\":\"top\"}},\"id\":\"5960\",\"type\":\"Quad\"},{\"attributes\":{},\"id\":\"6468\",\"type\":\"BasicTickFormatter\"},{\"attributes\":{\"items\":[{\"id\":\"5975\"}]},\"id\":\"5974\",\"type\":\"Legend\"},{\"attributes\":{\"data_source\":{\"id\":\"5959\"},\"glyph\":{\"id\":\"5960\"},\"hover_glyph\":null,\"muted_glyph\":null,\"nonselection_glyph\":{\"id\":\"5961\"},\"view\":{\"id\":\"5963\"}},\"id\":\"5962\",\"type\":\"GlyphRenderer\"},{\"attributes\":{\"children\":[{\"id\":\"6378\"},{\"id\":\"6428\"}]},\"id\":\"6483\",\"type\":\"Row\"},{\"attributes\":{\"below\":[{\"id\":\"5989\"}],\"center\":[{\"id\":\"5992\"},{\"id\":\"5996\"},{\"id\":\"6024\"},{\"id\":\"6026\"},{\"id\":\"6027\"}],\"height\":350,\"left\":[{\"id\":\"5993\"}],\"renderers\":[{\"id\":\"6012\"}],\"title\":{\"id\":\"5979\"},\"toolbar\":{\"id\":\"6003\"},\"width\":500,\"x_range\":{\"id\":\"5981\"},\"x_scale\":{\"id\":\"5985\"},\"y_range\":{\"id\":\"5983\"},\"y_scale\":{\"id\":\"5987\"}},\"id\":\"5978\",\"subtype\":\"Figure\",\"type\":\"Plot\"},{\"attributes\":{},\"id\":\"6469\",\"type\":\"AllLabels\"},{\"attributes\":{\"source\":{\"id\":\"5959\"}},\"id\":\"5963\",\"type\":\"CDSView\"},{\"attributes\":{\"children\":[{\"id\":\"6278\"},{\"id\":\"6328\"}]},\"id\":\"6482\",\"type\":\"Row\"},{\"attributes\":{\"children\":[{\"id\":\"6178\"},{\"id\":\"6228\"}]},\"id\":\"6481\",\"type\":\"Row\"}],\"root_ids\":[\"6484\"]},\"title\":\"Bokeh Application\",\"version\":\"2.3.2\"}};\n",
       "  var render_items = [{\"docid\":\"ff8dc420-0ab4-419b-a233-063bb65ca3b6\",\"root_ids\":[\"6484\"],\"roots\":{\"6484\":\"5696b661-a71b-4a69-b23d-ca42b9689a5c\"}}];\n",
       "  root.Bokeh.embed.embed_items_notebook(docs_json, render_items);\n",
       "\n",
       "  }\n",
       "  if (root.Bokeh !== undefined) {\n",
       "    embed_document(root);\n",
       "  } else {\n",
       "    var attempts = 0;\n",
       "    var timer = setInterval(function(root) {\n",
       "      if (root.Bokeh !== undefined) {\n",
       "        clearInterval(timer);\n",
       "        embed_document(root);\n",
       "      } else {\n",
       "        attempts++;\n",
       "        if (attempts > 100) {\n",
       "          clearInterval(timer);\n",
       "          console.log(\"Bokeh: ERROR: Unable to run BokehJS code because BokehJS library is missing\");\n",
       "        }\n",
       "      }\n",
       "    }, 10, root)\n",
       "  }\n",
       "})(window);"
      ],
      "application/vnd.bokehjs_exec.v0+json": ""
     },
     "metadata": {
      "application/vnd.bokehjs_exec.v0+json": {
       "id": "6484"
      }
     },
     "output_type": "display_data"
    }
   ],
   "source": [
    "show(column(row(plots[0][0],plots[0][1]),row(plots[1][0],plots[1][1]),row(plots[2][0],plots[2][1]),\n",
    "           row(plots[3][0],plots[3][1]),row(plots[4][0],plots[4][1]),row(plots[5][0],plots[5][1])))"
   ]
  },
  {
   "cell_type": "markdown",
   "metadata": {},
   "source": [
    "We see that the variance rises with gamma for both random and equally distributed endowments. The mean also mostly rises, but not for small $\\gamma$ with randomly distributed endowments where we see that it drops. <br>\n",
    "We have to note though, that this is only the distriubtion of utility function for the level of comsumption for each consumer. Changing gamma does not affect the prices nor the distribution of comsumption, only the value of the utility function."
   ]
  }
 ],
 "metadata": {
  "kernelspec": {
   "display_name": "Python 3",
   "language": "python",
   "name": "python3"
  },
  "language_info": {
   "codemirror_mode": {
    "name": "ipython",
    "version": 3
   },
   "file_extension": ".py",
   "mimetype": "text/x-python",
   "name": "python",
   "nbconvert_exporter": "python",
   "pygments_lexer": "ipython3",
   "version": "3.8.8"
  }
 },
 "nbformat": 4,
 "nbformat_minor": 4
}
