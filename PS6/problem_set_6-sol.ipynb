{
 "cells": [
  {
   "cell_type": "markdown",
   "metadata": {},
   "source": [
    "# Problem set 6: Solving the Solow model"
   ]
  },
  {
   "cell_type": "markdown",
   "metadata": {},
   "source": [
    "[<img src=\"https://mybinder.org/badge_logo.svg\">](https://mybinder.org/v2/gh/NumEconCopenhagen/exercises-2020/master?urlpath=lab/tree/PS6/problem_set_6.ipynb)"
   ]
  },
  {
   "cell_type": "code",
   "execution_count": 1,
   "metadata": {},
   "outputs": [],
   "source": [
    "import numpy as np\n",
    "from scipy import linalg\n",
    "from scipy import optimize\n",
    "import sympy as sm\n",
    "%load_ext autoreload\n",
    "%autoreload 2"
   ]
  },
  {
   "cell_type": "markdown",
   "metadata": {},
   "source": [
    "# Tasks"
   ]
  },
  {
   "cell_type": "markdown",
   "metadata": {},
   "source": [
    "## Solving matrix equations I"
   ]
  },
  {
   "cell_type": "code",
   "execution_count": 2,
   "metadata": {},
   "outputs": [],
   "source": [
    "np.random.seed(1900)\n",
    "n = 5\n",
    "A = np.random.uniform(size=(n,n))\n",
    "b = np.random.uniform(size=n)\n",
    "c = np.random.uniform(size=n)\n",
    "d = np.random.uniform(size=n)"
   ]
  },
  {
   "cell_type": "markdown",
   "metadata": {},
   "source": [
    "**Question A:** Find the determinant of $[A \\cdot A]^{-1}$"
   ]
  },
  {
   "cell_type": "code",
   "execution_count": 3,
   "metadata": {},
   "outputs": [
    {
     "data": {
      "text/plain": [
       "13132.548734460965"
      ]
     },
     "execution_count": 3,
     "metadata": {},
     "output_type": "execute_result"
    }
   ],
   "source": [
    "linalg.det(linalg.inv(np.dot(A,A)))"
   ]
  },
  {
   "cell_type": "markdown",
   "metadata": {},
   "source": [
    "**Answer:**"
   ]
  },
  {
   "cell_type": "code",
   "execution_count": 4,
   "metadata": {
    "jupyter": {
     "source_hidden": true
    },
    "tags": []
   },
   "outputs": [
    {
     "name": "stdout",
     "output_type": "stream",
     "text": [
      "13132.548734460965\n"
     ]
    }
   ],
   "source": [
    "X = linalg.det(linalg.inv(A@A))\n",
    "print(X)"
   ]
  },
  {
   "cell_type": "markdown",
   "metadata": {},
   "source": [
    "**Question B:** Solve the following equation systems directly using **scipy**.\n",
    "\n",
    "$$\n",
    "\\begin{aligned}\n",
    "Ax &= b \\\\\n",
    "Ax &= c \\\\\n",
    "Ax &= d \n",
    "\\end{aligned}\n",
    "$$"
   ]
  },
  {
   "cell_type": "code",
   "execution_count": 5,
   "metadata": {},
   "outputs": [
    {
     "name": "stdout",
     "output_type": "stream",
     "text": [
      "[-15.33189031 -24.00998148  40.02675108  15.24193293   4.89008792]\n",
      "[ -7.72469812 -11.6354722   20.86796131   7.93343031   1.55909328]\n",
      "[-2.57374569 -4.00256301  7.93409587  2.56007481  1.25709881]\n"
     ]
    }
   ],
   "source": [
    "for vec in [b,c,d]:\n",
    "    print(linalg.solve(A,vec))\n"
   ]
  },
  {
   "cell_type": "markdown",
   "metadata": {},
   "source": [
    "**Answer:**"
   ]
  },
  {
   "cell_type": "code",
   "execution_count": 6,
   "metadata": {
    "jupyter": {
     "source_hidden": true
    },
    "tags": []
   },
   "outputs": [
    {
     "name": "stdout",
     "output_type": "stream",
     "text": [
      "b: [-15.33189031 -24.00998148  40.02675108  15.24193293   4.89008792]\n",
      "c: [ -7.72469812 -11.6354722   20.86796131   7.93343031   1.55909328]\n",
      "d: [-2.57374569 -4.00256301  7.93409587  2.56007481  1.25709881]\n"
     ]
    }
   ],
   "source": [
    "xb = linalg.solve(A,b)\n",
    "xc = linalg.solve(A,c)\n",
    "xd = linalg.solve(A,d)\n",
    "print('b:',xb)\n",
    "print('c:',xc)\n",
    "print('d:',xd)"
   ]
  },
  {
   "cell_type": "markdown",
   "metadata": {},
   "source": [
    "**Question C:** Solve the same equation systems as above using `linalg.lu_factor()` and `linalg.lu_solve()`. What is the benefit of this approach?"
   ]
  },
  {
   "cell_type": "code",
   "execution_count": 7,
   "metadata": {},
   "outputs": [
    {
     "data": {
      "text/plain": [
       "array([[0.33224607, 0.71427591, 0.37834749, 0.24908241, 0.83598633],\n",
       "       [0.02005845, 0.32670359, 0.05606653, 0.4008206 , 0.13288711],\n",
       "       [0.88711192, 0.15490098, 0.01708181, 0.95781716, 0.58999632],\n",
       "       [0.83959058, 0.7146372 , 0.58705537, 0.40933648, 0.14603168],\n",
       "       [0.16407166, 0.65717511, 0.146494  , 0.67717016, 0.47425348]])"
      ]
     },
     "execution_count": 7,
     "metadata": {},
     "output_type": "execute_result"
    }
   ],
   "source": [
    "A"
   ]
  },
  {
   "cell_type": "code",
   "execution_count": 8,
   "metadata": {
    "jupyter": {
     "source_hidden": true
    },
    "tags": []
   },
   "outputs": [
    {
     "name": "stdout",
     "output_type": "stream",
     "text": [
      "b: [-15.33189031 -24.00998148  40.02675108  15.24193293   4.89008792]\n",
      "c: [ -7.72469812 -11.6354722   20.86796131   7.93343031   1.55909328]\n",
      "d: [-2.57374569 -4.00256301  7.93409587  2.56007481  1.25709881]\n"
     ]
    }
   ],
   "source": [
    "LU,piv = linalg.lu_factor(A) # only done once\n",
    "xb = linalg.lu_solve((LU,piv),b) # much faster than regular solve\n",
    "xc = linalg.lu_solve((LU,piv),c)\n",
    "xd = linalg.lu_solve((LU,piv),d)\n",
    "print('b:',xb)\n",
    "print('c:',xc)\n",
    "print('d:',xd)"
   ]
  },
  {
   "cell_type": "markdown",
   "metadata": {},
   "source": [
    "## Solving matrix equations II"
   ]
  },
  {
   "cell_type": "code",
   "execution_count": 9,
   "metadata": {},
   "outputs": [
    {
     "name": "stdout",
     "output_type": "stream",
     "text": [
      "(3,)\n"
     ]
    }
   ],
   "source": [
    "F = np.array([[2.0, 1.0, -1.0], [-3.0, -1.0, 2], [-2.0, 1.0, 2.0]])\n",
    "e = np.array([8.0, -11.0, -3.0])\n",
    "print(e.shape)"
   ]
  },
  {
   "cell_type": "markdown",
   "metadata": {},
   "source": [
    "**Question:** Use the function `gauss_jordan()` in the `numecon_linalg` module located in this folder to solve\n",
    "\n",
    "$$\n",
    "Fx = e\n",
    "$$"
   ]
  },
  {
   "cell_type": "code",
   "execution_count": 10,
   "metadata": {},
   "outputs": [],
   "source": [
    "import numecon_linalg"
   ]
  },
  {
   "cell_type": "code",
   "execution_count": 11,
   "metadata": {},
   "outputs": [
    {
     "data": {
      "text/plain": [
       "array([[  2.,   1.,  -1.,   8.],\n",
       "       [ -3.,  -1.,   2., -11.],\n",
       "       [ -2.,   1.,   2.,  -3.]])"
      ]
     },
     "execution_count": 11,
     "metadata": {},
     "output_type": "execute_result"
    }
   ],
   "source": [
    "np.column_stack((F,e))"
   ]
  },
  {
   "cell_type": "code",
   "execution_count": 12,
   "metadata": {},
   "outputs": [
    {
     "data": {
      "text/plain": [
       "array([[  2.,   1.,  -1.,   8.],\n",
       "       [ -3.,  -1.,   2., -11.],\n",
       "       [ -2.,   1.,   2.,  -3.]])"
      ]
     },
     "execution_count": 12,
     "metadata": {},
     "output_type": "execute_result"
    }
   ],
   "source": [
    "## Alternative stacking methods: \n",
    "np.concatenate((F,e[:, np.newaxis]),axis=1)"
   ]
  },
  {
   "cell_type": "code",
   "execution_count": 13,
   "metadata": {},
   "outputs": [
    {
     "data": {
      "text/plain": [
       "array([[  2.,   1.,  -1.,   8.],\n",
       "       [ -3.,  -1.,   2., -11.],\n",
       "       [ -2.,   1.,   2.,  -3.]])"
      ]
     },
     "execution_count": 13,
     "metadata": {},
     "output_type": "execute_result"
    }
   ],
   "source": [
    "np.append(F,e[:, np.newaxis],1)"
   ]
  },
  {
   "cell_type": "code",
   "execution_count": 14,
   "metadata": {},
   "outputs": [
    {
     "name": "stdout",
     "output_type": "stream",
     "text": [
      "(1, 3)\n"
     ]
    },
    {
     "data": {
      "text/plain": [
       "array([[  2.,   1.,  -1.,   8.],\n",
       "       [ -3.,  -1.,   2., -11.],\n",
       "       [ -2.,   1.,   2.,  -3.]])"
      ]
     },
     "execution_count": 14,
     "metadata": {},
     "output_type": "execute_result"
    }
   ],
   "source": [
    "# It's actually easier if e is intitiated as a 2-D matrix of 3x1\n",
    "# Using [[ ]]:\n",
    "e2 = np.array([[8.0, -11.0, -3.0]])\n",
    "print(e2.shape)\n",
    "test = np.concatenate((F,e2.T),axis=1)\n",
    "test"
   ]
  },
  {
   "cell_type": "code",
   "execution_count": 15,
   "metadata": {},
   "outputs": [
    {
     "data": {
      "text/plain": [
       "array([[ 1., -0., -0.,  2.],\n",
       "       [ 0.,  1.,  0.,  3.],\n",
       "       [ 0.,  0.,  1., -1.]])"
      ]
     },
     "execution_count": 15,
     "metadata": {},
     "output_type": "execute_result"
    }
   ],
   "source": [
    "Y = np.concatenate((F,e[:, np.newaxis]),axis=1)\n",
    "\n",
    "numecon_linalg.gauss_jordan(Y)\n",
    "Y"
   ]
  },
  {
   "cell_type": "markdown",
   "metadata": {},
   "source": [
    "**Answer:**"
   ]
  },
  {
   "cell_type": "code",
   "execution_count": 16,
   "metadata": {
    "jupyter": {
     "source_hidden": true
    },
    "tags": []
   },
   "outputs": [
    {
     "name": "stdout",
     "output_type": "stream",
     "text": [
      "solution [ 2.  3. -1.]\n"
     ]
    }
   ],
   "source": [
    "import numecon_linalg\n",
    "Y = np.column_stack((F,e))\n",
    "numecon_linalg.gauss_jordan(Y)\n",
    "print('solution',Y[:,-1])\n",
    "assert np.allclose(F@Y[:,-1],e)"
   ]
  },
  {
   "cell_type": "markdown",
   "metadata": {},
   "source": [
    "## Symbolic"
   ]
  },
  {
   "cell_type": "markdown",
   "metadata": {},
   "source": [
    "**Question A:** Find\n",
    "\n",
    "$$\n",
    "\\lim_{x \\rightarrow 0} \\frac{\\sin(x)}{x}\n",
    "$$\n",
    "\n",
    "and\n",
    "\n",
    "$$\n",
    "\\frac{\\partial\\sin(2x)}{\\partial x} \n",
    "$$"
   ]
  },
  {
   "cell_type": "code",
   "execution_count": 17,
   "metadata": {},
   "outputs": [],
   "source": [
    "x = sm.symbols('x')"
   ]
  },
  {
   "cell_type": "code",
   "execution_count": 18,
   "metadata": {},
   "outputs": [
    {
     "data": {
      "text/latex": [
       "$\\displaystyle 1$"
      ],
      "text/plain": [
       "1"
      ]
     },
     "execution_count": 18,
     "metadata": {},
     "output_type": "execute_result"
    }
   ],
   "source": [
    "sm.limit(sm.sin(x)/x,x,0)"
   ]
  },
  {
   "cell_type": "code",
   "execution_count": 19,
   "metadata": {},
   "outputs": [
    {
     "data": {
      "text/latex": [
       "$\\displaystyle 2 \\cos{\\left(2 x \\right)}$"
      ],
      "text/plain": [
       "2*cos(2*x)"
      ]
     },
     "execution_count": 19,
     "metadata": {},
     "output_type": "execute_result"
    }
   ],
   "source": [
    "sm.diff(sm.sin(2*x),x)"
   ]
  },
  {
   "cell_type": "markdown",
   "metadata": {},
   "source": [
    "**Answer:**"
   ]
  },
  {
   "cell_type": "code",
   "execution_count": 20,
   "metadata": {
    "jupyter": {
     "source_hidden": true
    },
    "tags": []
   },
   "outputs": [
    {
     "name": "stdout",
     "output_type": "stream",
     "text": [
      "the limit is:\n"
     ]
    },
    {
     "data": {
      "text/latex": [
       "$\\displaystyle 1$"
      ],
      "text/plain": [
       "1"
      ]
     },
     "execution_count": 20,
     "metadata": {},
     "output_type": "execute_result"
    }
   ],
   "source": [
    "print('the limit is:')\n",
    "x = sm.symbols('x')\n",
    "sm.limit(sm.sin(x)/x,x,0)"
   ]
  },
  {
   "cell_type": "code",
   "execution_count": 21,
   "metadata": {
    "jupyter": {
     "source_hidden": true
    }
   },
   "outputs": [
    {
     "name": "stdout",
     "output_type": "stream",
     "text": [
      "the derivative is\n"
     ]
    },
    {
     "data": {
      "text/latex": [
       "$\\displaystyle 2 \\cos{\\left(2 x \\right)}$"
      ],
      "text/plain": [
       "2*cos(2*x)"
      ]
     },
     "execution_count": 21,
     "metadata": {},
     "output_type": "execute_result"
    }
   ],
   "source": [
    "print('the derivative is')\n",
    "x = sm.symbols('x')\n",
    "sm.diff(sm.sin(2*x),x)"
   ]
  },
  {
   "cell_type": "markdown",
   "metadata": {},
   "source": [
    "**Question B:** Solve the equation\n",
    "\n",
    "$$ \n",
    "\\frac{\\sin(x)}{x} = 0\n",
    "$$"
   ]
  },
  {
   "cell_type": "code",
   "execution_count": 22,
   "metadata": {},
   "outputs": [
    {
     "data": {
      "text/plain": [
       "[pi]"
      ]
     },
     "execution_count": 22,
     "metadata": {},
     "output_type": "execute_result"
    }
   ],
   "source": [
    "sm.solve(sm.sin(x)/x,x)"
   ]
  },
  {
   "cell_type": "markdown",
   "metadata": {},
   "source": [
    "**Answer:**"
   ]
  },
  {
   "cell_type": "code",
   "execution_count": 23,
   "metadata": {},
   "outputs": [
    {
     "data": {
      "text/plain": [
       "[pi]"
      ]
     },
     "execution_count": 23,
     "metadata": {},
     "output_type": "execute_result"
    }
   ],
   "source": [
    "sm.solve(sm.sin(x)/x)"
   ]
  },
  {
   "cell_type": "markdown",
   "metadata": {},
   "source": [
    "# Problem: Solve the Solow model"
   ]
  },
  {
   "cell_type": "markdown",
   "metadata": {},
   "source": [
    "## Introduction"
   ]
  },
  {
   "cell_type": "markdown",
   "metadata": {},
   "source": [
    "Consider the **standard Solow-model** where:\n",
    "\n",
    "1. $K_t$ is capital2\n",
    "2. $L_t$ is labor (growing with a constant rate of $n$)\n",
    "3. $A_t$ is technology (growing with a constant rate of $g$)\n",
    "4. $Y_t = F(K_t,A_tL_t)$ is GDP\n",
    "\n",
    "**Saving** is a constant fraction of GDP\n",
    "\n",
    "$$ \n",
    "S_t = sY_t,\\,s\\in(0,1)\n",
    "$$\n",
    "\n",
    "such that **capital accumulates** according to\n",
    "\n",
    "$$\n",
    "K_{t+1}=S_{t}+(1-\\delta)K_{t}=sF(K_{t},A_{t}L_{t})+(1-\\delta)K_{t}, \\delta \\in (0,1)\n",
    "$$\n",
    "\n",
    "The **production function** has **constant-return to scale** such that\n",
    "\n",
    "$$\n",
    "\\frac{Y_{t}}{A_{t}L_{t}}=\\frac{F(K_{t},A_{t}L_{t})}{A_{t}L_{t}}=F(\\tilde{k}_{t},1)\\equiv f(\\tilde{k}_{t})\n",
    "$$\n",
    "\n",
    "where $\\tilde{k}_t = \\frac{K_t}{A_{t}L_{t}}$ is the technology adjusted capital-labor ratio.\n",
    "\n",
    "The **transition equation** then becomes\n",
    "\n",
    "$$\n",
    "\\tilde{k}_{t+1}= \\frac{1}{(1+n)(1+g)}[sf(\\tilde{k}_{t})+(1-\\delta)\\tilde{k}_{t}]\n",
    "$$\n",
    "\n",
    "If the **production function** is **Cobb-Douglas** then\n",
    "\n",
    "$$\n",
    "F(K_{t},A_{t}L_{t})=K_{t}^{\\alpha}(A_{t}L_{t})^{1-\\alpha}\\Rightarrow f(\\tilde{k}_{t})=\\tilde{k}_{t}^{\\alpha}\n",
    "$$\n",
    "\n",
    "If it is **CES** (with $\\beta < 1, \\beta \\neq 0$) then\n",
    "\n",
    "$$\n",
    "F(K_{t},A_{t}L_{t})=(\\alpha K_{t}^{\\beta}+(1-\\alpha)(A_{t}L_{t})^{\\beta})^{\\frac{1}{\\beta}}\\Rightarrow f(\\tilde{k}_{t})=(\\alpha\\tilde{k}_{t}^{\\beta}+(1-\\alpha))^{\\frac{1}{\\beta}}\n",
    "$$"
   ]
  },
  {
   "cell_type": "markdown",
   "metadata": {},
   "source": [
    "## Steady state"
   ]
  },
  {
   "cell_type": "markdown",
   "metadata": {},
   "source": [
    "Assume the production function is **Cobb-Douglas**."
   ]
  },
  {
   "cell_type": "markdown",
   "metadata": {},
   "source": [
    "**Question A:** Use **sympy** to find an analytical expression for the steady state, i.e. solve\n",
    "\n",
    "$$\n",
    "\\tilde{k}^{\\ast}= \\frac{1}{(1+n)(1+g)}[sf(\\tilde{k}^{\\ast})+(1-\\delta)\\tilde{k}^{\\ast}]\n",
    "$$"
   ]
  },
  {
   "cell_type": "code",
   "execution_count": 24,
   "metadata": {},
   "outputs": [],
   "source": [
    "k = sm.symbols('k')\n",
    "alpha = sm.symbols('alpha')\n",
    "delta = sm.symbols('delta')\n",
    "s = sm.symbols('s')\n",
    "g = sm.symbols('g')\n",
    "n = sm.symbols('n')"
   ]
  },
  {
   "cell_type": "code",
   "execution_count": 25,
   "metadata": {},
   "outputs": [],
   "source": [
    "f = lambda k : k**alpha"
   ]
  },
  {
   "cell_type": "code",
   "execution_count": 26,
   "metadata": {},
   "outputs": [
    {
     "data": {
      "text/latex": [
       "$\\displaystyle \\frac{k \\left(1 - \\delta\\right) + k^{\\alpha} s}{\\left(g + 1\\right) \\left(n + 1\\right)}$"
      ],
      "text/plain": [
       "(k*(1 - delta) + k**alpha*s)/((g + 1)*(n + 1))"
      ]
     },
     "execution_count": 26,
     "metadata": {},
     "output_type": "execute_result"
    }
   ],
   "source": [
    "1/((1+n)*(1+g))*(s*f(k)+(1-delta)*k)"
   ]
  },
  {
   "cell_type": "code",
   "execution_count": 27,
   "metadata": {},
   "outputs": [
    {
     "data": {
      "text/latex": [
       "$\\displaystyle \\left(\\frac{\\delta + g n + g + n}{s}\\right)^{\\frac{1}{\\alpha - 1}}$"
      ],
      "text/plain": [
       "((delta + g*n + g + n)/s)**(1/(alpha - 1))"
      ]
     },
     "execution_count": 27,
     "metadata": {},
     "output_type": "execute_result"
    }
   ],
   "source": [
    "k_star = sm.solve(1/((1+n)*(1+g))*(s*f(k)+(1-delta)*k)-k,k)[0]\n",
    "k_star"
   ]
  },
  {
   "cell_type": "markdown",
   "metadata": {},
   "source": [
    "**Answer:**"
   ]
  },
  {
   "cell_type": "code",
   "execution_count": 28,
   "metadata": {
    "tags": []
   },
   "outputs": [
    {
     "data": {
      "text/latex": [
       "$\\displaystyle \\left(\\frac{\\delta + g n + g + n}{s}\\right)^{\\frac{1}{\\alpha - 1}}$"
      ],
      "text/plain": [
       "((delta + g*n + g + n)/s)**(1/(alpha - 1))"
      ]
     },
     "execution_count": 28,
     "metadata": {},
     "output_type": "execute_result"
    }
   ],
   "source": [
    "f = k**alpha\n",
    "ss = sm.Eq(k,(s*f+(1-delta)*k)/((1+n)*(1+g)))\n",
    "kss = sm.solve(ss,k)[0]\n",
    "kss"
   ]
  },
  {
   "cell_type": "markdown",
   "metadata": {},
   "source": [
    "**Question B:** Turn you solution into a Python function called as `ss_func(s,g,n,delta,alpha)`. "
   ]
  },
  {
   "cell_type": "code",
   "execution_count": 29,
   "metadata": {},
   "outputs": [],
   "source": [
    "ss_func = sm.lambdify((s,g,n,delta,alpha),k_star)"
   ]
  },
  {
   "cell_type": "markdown",
   "metadata": {},
   "source": [
    "**Answer:**"
   ]
  },
  {
   "cell_type": "code",
   "execution_count": 30,
   "metadata": {
    "jupyter": {
     "source_hidden": true
    },
    "tags": []
   },
   "outputs": [],
   "source": [
    "ss_func = sm.lambdify((s,g,n,delta,alpha),kss)"
   ]
  },
  {
   "cell_type": "code",
   "execution_count": 31,
   "metadata": {},
   "outputs": [
    {
     "data": {
      "text/plain": [
       "1.903831539231319"
      ]
     },
     "execution_count": 31,
     "metadata": {},
     "output_type": "execute_result"
    }
   ],
   "source": [
    "ss_func(0.2,0.02,0.01,0.1,1/3)"
   ]
  },
  {
   "cell_type": "markdown",
   "metadata": {},
   "source": [
    "**Question C**: Find the steady state numerically using root-finding with `optimize.root_scalar`."
   ]
  },
  {
   "cell_type": "code",
   "execution_count": 32,
   "metadata": {},
   "outputs": [],
   "source": [
    "s = 0.2\n",
    "g = 0.02\n",
    "n = 0.01\n",
    "alpha = 1/3\n",
    "delta = 0.1\n",
    "f = lambda k : k**alpha\n",
    "\n",
    "solveit = lambda k: 1/((1+n)*(1+g))*(s*f(k)+(1-delta)*k)-k"
   ]
  },
  {
   "cell_type": "code",
   "execution_count": 33,
   "metadata": {},
   "outputs": [
    {
     "data": {
      "text/plain": [
       "      converged: True\n",
       "           flag: 'converged'\n",
       " function_calls: 11\n",
       "     iterations: 10\n",
       "           root: 1.9038315392313183"
      ]
     },
     "execution_count": 33,
     "metadata": {},
     "output_type": "execute_result"
    }
   ],
   "source": [
    "# Brentq::\n",
    "optimize.root_scalar(solveit,bracket=[0.1,100],method='brentq')"
   ]
  },
  {
   "cell_type": "code",
   "execution_count": 34,
   "metadata": {},
   "outputs": [
    {
     "data": {
      "text/plain": [
       "      converged: True\n",
       "           flag: 'converged'\n",
       " function_calls: 48\n",
       "     iterations: 46\n",
       "           root: 1.9038315392320353"
      ]
     },
     "execution_count": 34,
     "metadata": {},
     "output_type": "execute_result"
    }
   ],
   "source": [
    "# Bisect:\n",
    "optimize.root_scalar(solveit,bracket=[0.00001,100],method='bisect')"
   ]
  },
  {
   "cell_type": "code",
   "execution_count": 35,
   "metadata": {},
   "outputs": [
    {
     "data": {
      "text/plain": [
       "      converged: True\n",
       "           flag: 'converged'\n",
       " function_calls: 8\n",
       "     iterations: 7\n",
       "           root: 1.9038315392313196"
      ]
     },
     "execution_count": 35,
     "metadata": {},
     "output_type": "execute_result"
    }
   ],
   "source": [
    "# secant, no brackets (bounds) needed, however two guesses are:\n",
    "optimize.root_scalar(solveit,x0=50,x1=100,method='secant')"
   ]
  },
  {
   "cell_type": "code",
   "execution_count": 36,
   "metadata": {},
   "outputs": [
    {
     "data": {
      "text/plain": [
       "      converged: True\n",
       "           flag: 'converged'\n",
       " function_calls: 8\n",
       "     iterations: 4\n",
       "           root: 1.9038315392313188"
      ]
     },
     "execution_count": 36,
     "metadata": {},
     "output_type": "execute_result"
    }
   ],
   "source": [
    "# Newton, no brackets (bounds) needed, however the FOC is.\n",
    "solveit_diff = lambda k: 1/((1+n)*(1+g))*(s*alpha*k**(alpha-1)+(1-delta))-1\n",
    "\n",
    "optimize.root_scalar(solveit,x0=2,method='newton',fprime=solveit_diff)"
   ]
  },
  {
   "cell_type": "code",
   "execution_count": 37,
   "metadata": {},
   "outputs": [
    {
     "data": {
      "text/plain": [
       "    fjac: array([[-1.]])\n",
       "     fun: 0.0\n",
       " message: 'The solution converged.'\n",
       "    nfev: 6\n",
       "     qtf: array([3.40638628e-11])\n",
       "       r: array([0.08425553])\n",
       "  status: 1\n",
       " success: True\n",
       "       x: array([1.90383154])"
      ]
     },
     "execution_count": 37,
     "metadata": {},
     "output_type": "execute_result"
    }
   ],
   "source": [
    "# Using root\n",
    "\n",
    "obj_kss = lambda k : solveit(k[0])\n",
    "optimize.root(obj_kss,x0=[2])"
   ]
  },
  {
   "cell_type": "code",
   "execution_count": 38,
   "metadata": {},
   "outputs": [
    {
     "data": {
      "text/plain": [
       "    fjac: array([[-1.]])\n",
       "     fun: -2.220446049250313e-16\n",
       " message: 'The solution converged.'\n",
       "    nfev: 5\n",
       "    njev: 1\n",
       "     qtf: array([3.40629747e-11])\n",
       "       r: array([0.08425553])\n",
       "  status: 1\n",
       " success: True\n",
       "       x: array([1.90383154])"
      ]
     },
     "execution_count": 38,
     "metadata": {},
     "output_type": "execute_result"
    }
   ],
   "source": [
    "# Using root\n",
    "jac = lambda k : [solveit_diff(k[0])] ## Output needs to be array-like because root expects jacobian\n",
    "\n",
    "optimize.root(obj_kss,jac=jac,x0=[2], method='hybr')\n"
   ]
  },
  {
   "cell_type": "code",
   "execution_count": 39,
   "metadata": {},
   "outputs": [],
   "source": [
    "import matplotlib.pyplot as plt"
   ]
  },
  {
   "cell_type": "code",
   "execution_count": 40,
   "metadata": {},
   "outputs": [
    {
     "name": "stdout",
     "output_type": "stream",
     "text": [
      "K_star is 1.90383154138895749341\n",
      "Check:    1.90383154120716469038\n"
     ]
    }
   ],
   "source": [
    "s = 0.2\n",
    "g = 0.02\n",
    "n = 0.01\n",
    "alpha = 1/3\n",
    "delta = 0.1\n",
    "\n",
    "params = {'s':0.2,'g':0.02,'n':0.01,'alpha':1/3,'delta':0.1}\n",
    "\n",
    "transitioneq = lambda k,parms: (params['s']*k**params['alpha']+(1-params['delta'])*k)/((1+params['n'])*(1+params['g']))\n",
    "\n",
    "def ss_num(transitioneq,params,guess=2,rtol=1.0000000000000001e-010,\n",
    "           atol=1e-12,max_iter=2000, printit=True):\n",
    "    '''\n",
    "    Finds the steady state(ss) for the transitionseq by simulating the model until equlibrium is reached\n",
    "    args:\n",
    "        transitioneq (function) : Transition equation to find ss for \n",
    "        params           (dict) : A dictionary with parameters values for the transition equation\n",
    "        guees           (float) : Inital guess\n",
    "        rtol,atol       (float) : Relative and absolut tolerance for np.isclose \n",
    "        jump            (float) : relative size of each jump when making a new guess\n",
    "        max_iter          (int) : Maximum number of iterations\n",
    "        prinit           (Bool) : Whether or not to print the results\n",
    "    \n",
    "    '''\n",
    "    k1= transitioneq(guess,params)\n",
    "    cond = np.isclose(k1,guess,rtol=rtol,atol=atol)\n",
    "    i = 0\n",
    "    while not cond:\n",
    "        i+=1\n",
    "        if i>max_iter:\n",
    "            print('max iterations reached')\n",
    "            break\n",
    "            return None\n",
    "    # Make new guess by guessing the way of the evolution of k, so if kt+1>kt the new guess of k becomes larger\n",
    "        guess = k1\n",
    "        k1= transitioneq(guess,params)\n",
    "        cond = np.isclose(k1,guess,rtol=rtol,atol=atol) # Check if kt+1=kt\n",
    "    \n",
    "    if printit:\n",
    "        print(f'K_star is {guess:.20f}')\n",
    "        print(f'Check:    {k1:.20f}')\n",
    "    \n",
    "    return guess\n",
    "\n",
    "kstar = ss_num(transitioneq,params)"
   ]
  },
  {
   "cell_type": "code",
   "execution_count": 41,
   "metadata": {},
   "outputs": [
    {
     "data": {
      "image/png": "[encoded data removed]",
      "text/plain": [
       "<Figure size 432x288 with 1 Axes>"
      ]
     },
     "metadata": {
      "needs_background": "light"
     },
     "output_type": "display_data"
    }
   ],
   "source": [
    "#plot solution\n",
    "ks = np.linspace(0,4,10000)\n",
    "ks1 = [transitioneq(k,params) for k in ks]\n",
    "\n",
    "fig = plt.figure()\n",
    "ax = fig.add_subplot(1,1,1)\n",
    "\n",
    "ax.plot(ks,ks1,label='$k_{t+1}(k_{t})$')\n",
    "ax.plot(ks,ks,ls='--',color='black',label='$k_{t}=k_{t+1}$')\n",
    "ax.plot(kstar,transitioneq(kstar,params),ls='',marker='o',color='blue',label='$k^{*}$')\n",
    "\n",
    "\n",
    "ax.grid(True)\n",
    "plt.legend(loc=\"upper left\")\n",
    "fig.tight_layout()"
   ]
  },
  {
   "cell_type": "markdown",
   "metadata": {},
   "source": [
    "**Answer:**"
   ]
  },
  {
   "cell_type": "code",
   "execution_count": 42,
   "metadata": {
    "tags": []
   },
   "outputs": [
    {
     "name": "stdout",
     "output_type": "stream",
     "text": [
      "the steady state for k is 1.9038315392313185\n"
     ]
    }
   ],
   "source": [
    "f = lambda k: k**alpha\n",
    "obj_kss = lambda kss: kss - (s*f(kss) + (1-delta)*kss)/((1+g)*(1+n))\n",
    "result = optimize.root_scalar(obj_kss,bracket=[0.1,100],method='brentq')\n",
    "\n",
    "print('the steady state for k is',result.root)    "
   ]
  },
  {
   "cell_type": "markdown",
   "metadata": {},
   "source": [
    "**Question D:** Now assume the production function is CES. Find the steady state for $k$ for the various values of $\\beta$ shown below."
   ]
  },
  {
   "cell_type": "code",
   "execution_count": 43,
   "metadata": {},
   "outputs": [
    {
     "name": "stdout",
     "output_type": "stream",
     "text": [
      "When beta= -0.50 the steady state for k is 1.847129701923042\n",
      "When beta= -0.25 the steady state for k is 1.873383264875734\n",
      "When beta= -0.10 the steady state for k is 1.891085641935206\n",
      "When beta= -0.05 the steady state for k is 1.897358104639712\n",
      "When beta=  0.05 the steady state for k is 1.910515975173142\n",
      "When beta=  0.10 the steady state for k is 1.917422135156361\n",
      "When beta=  0.25 the steady state for k is 1.939590275709855\n",
      "When beta=  0.50 the steady state for k is 1.982233502409577\n"
     ]
    }
   ],
   "source": [
    "\n",
    "betas = [-0.5,-0.25,-0.1,-0.05,0.05,0.1,0.25,0.5]\n",
    "\n",
    "f = lambda k,params: (params['alpha']*k**params['beta']+(1-params['alpha']))**(1/params['beta'])\n",
    "trans_eq = lambda kss,params:(params['s']*f(kss,params) + (1-params['delta'])*kss)/((1+params['g'])*(1+params['n']))\n",
    "\n",
    "k_stars = np.empty(len(betas))\n",
    "for i,beta in enumerate(betas):\n",
    "    params['beta']=beta\n",
    "    k_stars[i] = ss_num(trans_eq,params, printit=False)\n",
    "\n",
    "    print(f'When beta= {beta:5.2f} the steady state for k is {k_stars[i]:.15f}')  "
   ]
  },
  {
   "cell_type": "code",
   "execution_count": 44,
   "metadata": {},
   "outputs": [
    {
     "data": {
      "image/png": "[encoded data removed]",
      "text/plain": [
       "<Figure size 432x288 with 1 Axes>"
      ]
     },
     "metadata": {
      "needs_background": "light"
     },
     "output_type": "display_data"
    },
    {
     "data": {
      "image/png": "[encoded data removed]",
      "text/plain": [
       "<Figure size 432x288 with 1 Axes>"
      ]
     },
     "metadata": {
      "needs_background": "light"
     },
     "output_type": "display_data"
    },
    {
     "data": {
      "image/png": "[encoded data removed]",
      "text/plain": [
       "<Figure size 432x288 with 1 Axes>"
      ]
     },
     "metadata": {
      "needs_background": "light"
     },
     "output_type": "display_data"
    },
    {
     "data": {
      "image/png": "[encoded data removed]",
      "text/plain": [
       "<Figure size 432x288 with 1 Axes>"
      ]
     },
     "metadata": {
      "needs_background": "light"
     },
     "output_type": "display_data"
    },
    {
     "data": {
      "image/png": "[encoded data removed]",
      "text/plain": [
       "<Figure size 432x288 with 1 Axes>"
      ]
     },
     "metadata": {
      "needs_background": "light"
     },
     "output_type": "display_data"
    },
    {
     "data": {
      "image/png": "[encoded data removed]",
      "text/plain": [
       "<Figure size 432x288 with 1 Axes>"
      ]
     },
     "metadata": {
      "needs_background": "light"
     },
     "output_type": "display_data"
    },
    {
     "data": {
      "image/png": "[encoded data removed]",
      "text/plain": [
       "<Figure size 432x288 with 1 Axes>"
      ]
     },
     "metadata": {
      "needs_background": "light"
     },
     "output_type": "display_data"
    },
    {
     "data": {
      "image/png": "[encoded data removed]",
      "text/plain": [
       "<Figure size 432x288 with 1 Axes>"
      ]
     },
     "metadata": {
      "needs_background": "light"
     },
     "output_type": "display_data"
    }
   ],
   "source": [
    "\n",
    "for beta,k_star in zip(betas,k_stars):\n",
    "    params['beta']=beta\n",
    "    ks = np.linspace(1,3,10000)\n",
    "    ks1 = [trans_eq(k,params) for k in ks]\n",
    "\n",
    "    fig = plt.figure()\n",
    "    ax = fig.add_subplot(1,1,1)\n",
    "\n",
    "    ax.plot(ks,ks1,label='$k_{t+1}(k_{t})$')\n",
    "    ax.plot(ks,ks,ls='--',color='black',label='$k_{t}=k_{t+1}$')\n",
    "    ax.plot(k_star,transitioneq(k_star,params),ls='',marker='o',color='blue',label='$k^{*}$')\n",
    "\n",
    "    ax.grid(True)\n",
    "    plt.title(r'$\\beta=$'+f'{beta}')\n",
    "    plt.legend(loc=\"upper left\")\n",
    "    fig.tight_layout()"
   ]
  },
  {
   "cell_type": "code",
   "execution_count": 45,
   "metadata": {
    "tags": []
   },
   "outputs": [
    {
     "name": "stdout",
     "output_type": "stream",
     "text": [
      "for beta = -0.500 the steady state for k is 1.8471297000972984\n",
      "for beta = -0.250 the steady state for k is 1.873383262758588\n",
      "for beta = -0.100 the steady state for k is 1.8910856397655083\n",
      "for beta = -0.050 the steady state for k is 1.8973581025712734\n",
      "for beta = 0.050 the steady state for k is 1.9105159729244352\n",
      "for beta = 0.100 the steady state for k is 1.917422132817728\n",
      "for beta = 0.250 the steady state for k is 1.9395902733676993\n",
      "for beta = 0.500 the steady state for k is 1.9822334997701418\n"
     ]
    }
   ],
   "source": [
    "for beta in betas:\n",
    "    f = lambda k: (alpha*k**beta + (1-alpha))**(1/beta)\n",
    "    obj_kss = lambda kss: kss - (s*f(kss) + (1-delta)*kss)/((1+g)*(1+n))\n",
    "    result = optimize.root_scalar(obj_kss,bracket=[0.1,100],method='brentq')\n",
    "    print(f'for beta = {beta:.3f} the steady state for k is',result.root)    "
   ]
  }
 ],
 "metadata": {
  "kernelspec": {
   "display_name": "Python 3",
   "language": "python",
   "name": "python3"
  },
  "language_info": {
   "codemirror_mode": {
    "name": "ipython",
    "version": 3
   },
   "file_extension": ".py",
   "mimetype": "text/x-python",
   "name": "python",
   "nbconvert_exporter": "python",
   "pygments_lexer": "ipython3",
   "version": "3.8.5"
  },
  "toc-autonumbering": true
 },
 "nbformat": 4,
 "nbformat_minor": 4
}
